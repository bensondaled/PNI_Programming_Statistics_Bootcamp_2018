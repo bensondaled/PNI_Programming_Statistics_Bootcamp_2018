{
 "cells": [
  {
   "cell_type": "markdown",
   "metadata": {
    "nbpresent": {
     "id": "b151b4ef-982c-4548-b486-5b31e50ef16e"
    }
   },
   "source": [
    "# neuro boot camp day 1\n",
    "## wrangling ephys data\n",
    "\n",
    "## contents\n",
    "* [1. types of data neuroscientists acquire](#data)\n",
    "* [2. voltage trace as vector (everything is a vector)](#vect)\n",
    "* [3. peak detection (from scratch)](#peak)\n",
    "* [4. filtering: low, high pass; notch](#filt)\n",
    "* [5. spike trains, raster plots](#plot)\n",
    "* [6. simple spike sorting](#sort)\n"
   ]
  },
  {
   "cell_type": "markdown",
   "metadata": {
    "nbpresent": {
     "id": "332e0402-c1fb-42bb-875a-7493bfce0f73"
    }
   },
   "source": [
    "## 0. preliminaries\n",
    "\n",
    "(FYI: if you are an advanced student and you breeze through these exercises, I would point you at [Neural Data Science](https://www.sciencedirect.com/book/9780128040430/neural-data-science) by Nylen and Wallisch (a fulltext pdf has been uploaded to github).  You can push yourself to work through some of the more advanced examples there.  Everyone else may find it a useful set of prompts to consider down the road."
   ]
  },
  {
   "cell_type": "code",
   "execution_count": 3,
   "metadata": {
    "nbpresent": {
     "id": "5e226fb1-f3a0-497e-a45f-96c7a7ee8b84"
    }
   },
   "outputs": [],
   "source": [
    "import numpy as np\n",
    "import matplotlib\n",
    "%matplotlib tk\n",
    "\n",
    "import matplotlib.pyplot as pl\n",
    "\n",
    "import scipy.io\n",
    "\n"
   ]
  },
  {
   "cell_type": "markdown",
   "metadata": {
    "nbpresent": {
     "id": "14a55ace-473c-4ce7-85c9-9e251ff044e2"
    }
   },
   "source": [
    "<a id=\"data\"></a>\n",
    "## 1. types of data neuroscientists acquire"
   ]
  },
  {
   "cell_type": "code",
   "execution_count": null,
   "metadata": {
    "nbpresent": {
     "id": "50d9edec-0e99-4aa0-a8df-4048fffcdbbb"
    }
   },
   "outputs": [],
   "source": [
    "# load in .npy and plot it\n",
    "# what should x be???"
   ]
  },
  {
   "cell_type": "code",
   "execution_count": null,
   "metadata": {},
   "outputs": [],
   "source": [
    "# some of these are really flat?  plot the one of the flattest looking ones by itself."
   ]
  },
  {
   "cell_type": "code",
   "execution_count": null,
   "metadata": {},
   "outputs": [],
   "source": [
    "# okay... so how can we plot these comparably?\n",
    "# some people might do subplots, but we want to lean toward scaling \n",
    "# to build an intuition of Z-scoring"
   ]
  },
  {
   "cell_type": "markdown",
   "metadata": {
    "nbpresent": {
     "id": "fe8475c2-2c65-4ddb-bb2f-87826d92e869"
    }
   },
   "source": [
    "<a id=\"vect\"></a>\n",
    "## 2. voltage trace as a vector (everything is a vector)"
   ]
  },
  {
   "cell_type": "code",
   "execution_count": null,
   "metadata": {
    "nbpresent": {
     "id": "5dbf0779-3d10-4768-a290-85288d059557"
    }
   },
   "outputs": [],
   "source": [
    "# not sure what questions to ask here.\n",
    "\n",
    "# we saw this laboriously with an image on Friday."
   ]
  },
  {
   "cell_type": "markdown",
   "metadata": {
    "nbpresent": {
     "id": "744bcbd3-1dca-4308-8405-b08721f4045e"
    }
   },
   "source": [
    "<a id=\"peak\"></a>\n",
    "## 3. peak detection (from scratch)"
   ]
  },
  {
   "cell_type": "markdown",
   "metadata": {
    "nbpresent": {
     "id": "2b6a4441-b8b4-4290-90a6-97e08db392ff"
    }
   },
   "source": [
    "Python has some libraries that allow for peak detection, but I think doing some manual peak finding is a useful way to hone your python skills as well as think about ephys traces.\n",
    "\n",
    "For the early parts of this exercise, we'll start with a simple sine wave.  But even this step requires a little bit of thought.  We're not going to find peaks on an abstract or analog sine wave, but rather that is explicitly sampled over time.  Play with the sampling frequencies(Fs) and sine wave frequency(f) in the code block below to see if you can build some intuition about how the Fs needs to relate to f in order to be able to pick out individual peaks in our sine wave.\n",
    "\n",
    "(add during lecture: link to discussion of Nyquist limit)\n",
    "\n",
    "**exercise 3.1:** write a function that will find the local maxima in a sine wave."
   ]
  },
  {
   "cell_type": "code",
   "execution_count": null,
   "metadata": {},
   "outputs": [],
   "source": [
    "#use this code block to develop your function\n",
    "\n",
    "def find_maxima(sinewave):\n",
    "    \n",
    "    # your code here\n",
    "    \n",
    "    return result  # what should result look like?\n",
    "\n"
   ]
  },
  {
   "cell_type": "code",
   "execution_count": null,
   "metadata": {},
   "outputs": [],
   "source": [
    "# interlude\n",
    "#\n",
    "# what should the input sinewave look like??\n",
    "\n",
    "# exercise 3.1a: plot 1 second of a sine wave of frequency 8 Hz."
   ]
  },
  {
   "cell_type": "code",
   "execution_count": 4,
   "metadata": {
    "nbpresent": {
     "id": "51253ed6-e0d4-468c-9fe2-9d99f4548f9d"
    },
    "scrolled": true
   },
   "outputs": [],
   "source": [
    "Fses = [400,30,10]   # sampling frequencies\n",
    "f = 8                # freq of sine wave\n",
    "sample = 100\n",
    "\n",
    "for Fs in Fses:\n",
    "    x = np.arange(sample*Fs/400)\n",
    "    y = np.sin(2 * np.pi * f * x /Fs) #why /Fs???\n",
    "    pl.plot(x/Fs, y, \"o-\", label=Fs)\n",
    "    \n",
    "#pl.xlabel('time (s)')\n",
    "#pl.legend()"
   ]
  },
  {
   "cell_type": "code",
   "execution_count": 5,
   "metadata": {},
   "outputs": [],
   "source": [
    "# let's try to duplicate that more simply.\n",
    "Fses = [400,28,10]\n",
    "f=8\n",
    "pl.figure(figsize=(8,3))\n",
    "\n",
    "for Fs in Fses:\n",
    "    #t = np.linspace(0,1,num=Fs)\n",
    "    # instead of:\n",
    "    t = np.arange(0.0, 1.0, 1/Fs)\n",
    "    y = np.sin(2*np.pi*f*t);\n",
    "    pl.plot(t, y, \".-\", label=Fs)\n",
    "    \n",
    "#pl.xlabel('time (s)')\n",
    "#pl.legend()\n",
    "\n",
    "    \n",
    "# Fs = 150;\n",
    "# t = 0:1/Fs:1;\n",
    "# x = cos(2*pi*10*t);"
   ]
  },
  {
   "cell_type": "markdown",
   "metadata": {
    "nbpresent": {
     "id": "ca9d6a8e-000b-40ca-967b-eefce902172b"
    }
   },
   "source": [
    "Let's proceed with Fs = 400 and f = 8.  Your first task is to find the local maxima in this trace."
   ]
  },
  {
   "cell_type": "code",
   "execution_count": null,
   "metadata": {
    "nbpresent": {
     "id": "fd327fc3-98ab-4455-8601-82cbfc613d9f"
    }
   },
   "outputs": [],
   "source": [
    "# set up sine wave for local maxima detection\n",
    "Fs = 400\n",
    "f = 8\n",
    "#f = 8.01\n",
    "\n",
    "times = np.arange(0.0, 0.4, 1/Fs)\n",
    "sinewave = np.sin(2*np.pi*f*times);\n",
    "\n",
    "pl.figure()\n",
    "pl.plot(times,sinewave)\n",
    "pl.xlabel('time (s)')"
   ]
  },
  {
   "cell_type": "code",
   "execution_count": null,
   "metadata": {},
   "outputs": [],
   "source": [
    "sinewave.size"
   ]
  },
  {
   "cell_type": "code",
   "execution_count": null,
   "metadata": {},
   "outputs": [],
   "source": [
    "pl.fill_between() ##time, mean-sd, mean+sd"
   ]
  },
  {
   "cell_type": "code",
   "execution_count": null,
   "metadata": {
    "nbpresent": {
     "id": "6408b876-b154-4ca4-9055-4070f4d8a073"
    },
    "scrolled": true
   },
   "outputs": [],
   "source": [
    "# If the overall task is too daunting, you can start with a small piece -- \n",
    "# crop the sinewave to a region where you know there's only one peak.\n",
    "#\n",
    "#cropped_times = np.arange(0.0, 0.065, 1/Fs)\n",
    "#cropped_sinewave = np.sin(2*np.pi*f*cropped_times);\n",
    "#pl.plot(cropped_times,cropped_sinewave)\n",
    "#pl.xlabel('time (s)')\n",
    "\n",
    "# draft solution using for loop\n",
    "print(\"i\\ttime\\ty\")\n",
    "for i,x in enumerate(sinewave):\n",
    "    print(i,\"\\t%0.9f\" % x)\n",
    "    try:\n",
    "        if (x>sinewave[i-1] and x>sinewave[i+1]):\n",
    "            print(\"max@\",i,\"\\t\",times[i],\"\\t\",x)\n",
    "    except IndexError:\n",
    "        print(\"\\n end of array\")\n",
    "print(\"\\n done\")"
   ]
  },
  {
   "cell_type": "code",
   "execution_count": null,
   "metadata": {},
   "outputs": [],
   "source": [
    "print(\"i\\ttime\\ty\")\n",
    "\n",
    "for i,x in enumerate(sinewave):\n",
    "    try:\n",
    "        if (x>sinewave[i-2] and x>sinewave[i+2]):\n",
    "            print(i,\"\\t\",times[i],\"\\t\",x)\n",
    "    except IndexError:\n",
    "        print(\"\\n done\")"
   ]
  },
  {
   "cell_type": "code",
   "execution_count": null,
   "metadata": {},
   "outputs": [],
   "source": [
    "# draft solution using max\n",
    "\n",
    "#start here -- max is green!  we'd be re-defining what max() means!\n",
    "#max = max(sinewave)\n",
    "\n",
    "sinemax = max(sinewave)\n",
    "timemax = [(i,x) for i,x in enumerate(sinewave) if x==sinemax]\n",
    "\n",
    "timemax_a = sinewave[sinewave==sinemax]\n",
    "\n",
    "print(timemax, timemax_a)"
   ]
  },
  {
   "cell_type": "code",
   "execution_count": null,
   "metadata": {
    "nbpresent": {
     "id": "e7efe300-56df-40b6-884f-c20975a681a3"
    }
   },
   "outputs": [],
   "source": [
    "# can you put your code inside an executable function?\n",
    "\n",
    "def findpeaks(signal,times):\n",
    "    \n",
    "    # your code here\n",
    "    \n",
    "    print(peaktimes,peaks)\n",
    "    "
   ]
  },
  {
   "cell_type": "code",
   "execution_count": null,
   "metadata": {
    "nbpresent": {
     "id": "7c6265b5-2c08-421a-b929-a7c4d13c7b2f"
    }
   },
   "outputs": [],
   "source": [
    "# run findpeaks and print output describing local maxima"
   ]
  },
  {
   "cell_type": "code",
   "execution_count": null,
   "metadata": {
    "nbpresent": {
     "id": "95ec6f1f-8108-4cea-b031-4e409851b709"
    }
   },
   "outputs": [],
   "source": [
    "# let's embellish findpeaks by having it plot the input and the detected peaks."
   ]
  },
  {
   "cell_type": "code",
   "execution_count": null,
   "metadata": {
    "nbpresent": {
     "id": "ffd425fb-8e59-4768-9cbe-fe514d986ecd"
    }
   },
   "outputs": [],
   "source": [
    "# okay, time for the moment of truth: let's run your findpeaks function on a series of trig functions"
   ]
  },
  {
   "cell_type": "markdown",
   "metadata": {
    "nbpresent": {
     "id": "296a8a2b-9ef6-4d8b-9bcf-321ddb81b39c"
    }
   },
   "source": [
    "what's up in that wobbly one?  data aren't so clean!  we need some additional scaffolding to feel good about the peaks that we're detecting\n",
    "\n",
    "for reference, see the [matlab findpeaks documentation](http://www.mathworks.com/help/signal/ref/findpeaks.html) and their [peak finding tutorial](https://www.mathworks.com/help/signal/examples/peak-analysis.html).\n",
    "* prominence\n",
    "* min peak distance\n",
    "* height threshold\n",
    "\n",
    "![alt text](http://www.mathworks.com/help/examples/signal/win64/DeterminePeakWidthsExample_02.png \"peak features\")"
   ]
  },
  {
   "cell_type": "code",
   "execution_count": null,
   "metadata": {
    "nbpresent": {
     "id": "cd9b8e89-4f5a-423a-9841-cf73e51f4ea8"
    }
   },
   "outputs": [],
   "source": [
    "# how do we do on real data?  Let's pull out a certain amount of time around each spike and show the average.\n",
    "\n",
    "# we can compare your peak detector to others."
   ]
  },
  {
   "cell_type": "markdown",
   "metadata": {
    "nbpresent": {
     "id": "d24e11f2-8b53-4b81-962f-08db7a941dcc"
    }
   },
   "source": [
    "<a id=\"filt\"></a>\n",
    "## 4. filtering: low, high pass; notch"
   ]
  },
  {
   "cell_type": "code",
   "execution_count": null,
   "metadata": {
    "nbpresent": {
     "id": "cb77c04e-4f1b-4059-98b8-70551faa819a"
    }
   },
   "outputs": [],
   "source": [
    "# time to talk a bit about file i/o\n",
    "\n"
   ]
  },
  {
   "cell_type": "markdown",
   "metadata": {
    "nbpresent": {
     "id": "836ebbd1-f9aa-4521-9385-8528cd04036c"
    }
   },
   "source": [
    "<a id=\"plot\"></a>\n",
    "## 5. spike trains, raster plots"
   ]
  },
  {
   "cell_type": "code",
   "execution_count": null,
   "metadata": {
    "nbpresent": {
     "id": "a6313cea-5fe1-4b25-837d-abb3af62fd4a"
    }
   },
   "outputs": [],
   "source": [
    "A = np.random.choice([0,1], 1000, p=[0.9,0.1]).reshape(10,100)\n",
    "\n",
    "fig5 = pl.figure()\n",
    "pl.subplot(2,1,1)\n",
    "\n",
    "spiketimes = [i for i,x in enumerate(A[0]) if x==1]\n",
    "pl.vlines(spiketimes,0,1)\n",
    "\n",
    "print(spiketimes)\n",
    "\n",
    "# solution to prompt to plot ten of them together.\n",
    "# same line of thinking if you want to show ten traces together.\n",
    "\n",
    "pl.subplot(2,1,2)\n",
    "for i,rows in enumerate(A):\n",
    "    times = [j for j,x in enumerate(rows) if x==1]\n",
    "    pl.vlines(times,i,i+1)\n",
    "\n",
    "\n"
   ]
  },
  {
   "cell_type": "markdown",
   "metadata": {},
   "source": [
    "**provocation/challenge**:  let's look all the way back at part 1.  Can you use vlines to put color-coded y scales correlated with each trace in your plot?\n",
    "\n",
    "Here's a reminder of the scale units for each trace:\n",
    "* 1: µV\n",
    "* 2: dB"
   ]
  },
  {
   "cell_type": "code",
   "execution_count": null,
   "metadata": {},
   "outputs": [],
   "source": [
    "# copy your code that generated the trace here, then add to it.\n",
    "\n",
    "#put it outside you axes and then: pl.plot(x,y, ... , clip_on=false)"
   ]
  },
  {
   "cell_type": "markdown",
   "metadata": {
    "nbpresent": {
     "id": "bc8feac0-88b4-46a3-b66a-a2a7d46aadce"
    }
   },
   "source": [
    "<a id=\"sort\"></a>\n",
    "## 6. simple spike sorting"
   ]
  },
  {
   "cell_type": "markdown",
   "metadata": {
    "collapsed": true,
    "nbpresent": {
     "id": "05a5dae3-eb05-4209-be9e-44ddc806ced5"
    }
   },
   "source": [
    "We can do simple spike sorting by k-means as illustrated in the tutorial docs for Neu350.  The main problem here is that there's no \"algorithm\" for them to discover.\n",
    "\n",
    "*Maybe*, we start with threshold clustering??  Histogram of amplitudes.\n",
    "\n",
    "*Then* we give them the k-means example, with some caveats.\n",
    "\n",
    "Finally, if time permits, we should let people play with https://github.com/tridesclous/tridesclous.  No problem just showing them some screenshots."
   ]
  },
  {
   "cell_type": "code",
   "execution_count": null,
   "metadata": {
    "nbpresent": {
     "id": "7ac6fe22-fe4f-4c11-b618-0c7b6c13ddf8"
    }
   },
   "outputs": [],
   "source": [
    "# if time permits"
   ]
  },
  {
   "cell_type": "markdown",
   "metadata": {},
   "source": [
    "## ben did an exercise on Friday showing an IFR.  How do we get there?\n",
    "\n",
    "## do we touch *neo*?"
   ]
  },
  {
   "cell_type": "code",
   "execution_count": null,
   "metadata": {},
   "outputs": [],
   "source": []
  }
 ],
 "metadata": {
  "anaconda-cloud": {},
  "kernelspec": {
   "display_name": "Python 3",
   "language": "python",
   "name": "python3"
  },
  "language_info": {
   "codemirror_mode": {
    "name": "ipython",
    "version": 3
   },
   "file_extension": ".py",
   "mimetype": "text/x-python",
   "name": "python",
   "nbconvert_exporter": "python",
   "pygments_lexer": "ipython3",
   "version": "3.6.5"
  },
  "nbpresent": {
   "slides": {
    "0d418e11-6889-4303-a070-950c46ce2390": {
     "id": "0d418e11-6889-4303-a070-950c46ce2390",
     "prev": "9ae4fde1-559d-4e25-ad23-30bedd5b9bd8",
     "regions": {
      "044fa389-1e0e-4085-b019-b3324689d0a6": {
       "attrs": {
        "height": 1,
        "width": 1,
        "x": 0,
        "y": 0
       },
       "id": "044fa389-1e0e-4085-b019-b3324689d0a6"
      }
     }
    },
    "66c26ec2-77d5-4bc8-be7a-f979e158419d": {
     "id": "66c26ec2-77d5-4bc8-be7a-f979e158419d",
     "prev": "886e381e-95cf-4b14-9568-25ebb1a8fc75",
     "regions": {
      "8e210a30-cedc-4dc0-b1f2-1e3153179aa1": {
       "attrs": {
        "height": 1,
        "width": 1,
        "x": 0,
        "y": 0
       },
       "id": "8e210a30-cedc-4dc0-b1f2-1e3153179aa1"
      }
     }
    },
    "886e381e-95cf-4b14-9568-25ebb1a8fc75": {
     "id": "886e381e-95cf-4b14-9568-25ebb1a8fc75",
     "prev": null,
     "regions": {
      "20a07646-1588-47f2-81d8-4042915872d2": {
       "attrs": {
        "height": 1,
        "width": 1,
        "x": 0,
        "y": 0
       },
       "id": "20a07646-1588-47f2-81d8-4042915872d2"
      }
     }
    },
    "9ae4fde1-559d-4e25-ad23-30bedd5b9bd8": {
     "id": "9ae4fde1-559d-4e25-ad23-30bedd5b9bd8",
     "prev": "66c26ec2-77d5-4bc8-be7a-f979e158419d",
     "regions": {
      "a4cdc7a3-402b-4689-b0ba-97b34b1d6ebd": {
       "attrs": {
        "height": 0.6,
        "width": 0.8,
        "x": 0.1,
        "y": 0.1
       },
       "id": "a4cdc7a3-402b-4689-b0ba-97b34b1d6ebd"
      },
      "b424d741-9b2c-4e1d-969c-28501e4ea276": {
       "attrs": {
        "height": 0.2,
        "width": 0.4,
        "x": 0.5,
        "y": 0.7
       },
       "id": "b424d741-9b2c-4e1d-969c-28501e4ea276"
      },
      "e3ff6259-fbcf-4ac7-a74c-e4dd56e2fb87": {
       "attrs": {
        "height": 0.2,
        "width": 0.4,
        "x": 0.1,
        "y": 0.7
       },
       "id": "e3ff6259-fbcf-4ac7-a74c-e4dd56e2fb87"
      }
     }
    }
   },
   "themes": {}
  }
 },
 "nbformat": 4,
 "nbformat_minor": 2
}
