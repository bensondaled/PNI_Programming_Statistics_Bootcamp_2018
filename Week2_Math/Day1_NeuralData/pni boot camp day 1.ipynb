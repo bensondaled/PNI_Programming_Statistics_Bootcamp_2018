{
 "cells": [
  {
   "cell_type": "markdown",
   "metadata": {
    "nbpresent": {
     "id": "b151b4ef-982c-4548-b486-5b31e50ef16e"
    }
   },
   "source": [
    "# neuro boot camp day 1\n",
    "## wrangling ephys data\n",
    "\n",
    "## contents\n",
    "* [1. types of data neuroscientists acquire](#data)\n",
    "* [2. voltage trace as vector (everything is a vector)](#vect)\n",
    "* [3. peak detection (from scratch)](#peak)\n",
    "* [4. simple spike sorting](#sort)\n",
    "* [5. filtering: low, high pass; notch](#filt)\n",
    "* [6. spike trains, raster plots](#plot)\n",
    "\n"
   ]
  },
  {
   "cell_type": "markdown",
   "metadata": {
    "nbpresent": {
     "id": "332e0402-c1fb-42bb-875a-7493bfce0f73"
    }
   },
   "source": [
    "## 0. preliminaries\n",
    "\n",
    "(FYI: if you are an advanced student and you breeze through these exercises, I would point you at [Neural Data Science](https://www.sciencedirect.com/book/9780128040430/neural-data-science) by Nylen and Wallisch.  You can push yourself to work through some of the more advanced examples there.  Everyone else may find it a useful set of prompts to consider down the road."
   ]
  },
  {
   "cell_type": "code",
   "execution_count": null,
   "metadata": {
    "nbpresent": {
     "id": "5e226fb1-f3a0-497e-a45f-96c7a7ee8b84"
    }
   },
   "outputs": [],
   "source": [
    "import numpy as np\n",
    "import matplotlib\n",
    "%matplotlib tk\n",
    "\n",
    "import matplotlib.pyplot as pl\n",
    "\n",
    "import scipy.io"
   ]
  },
  {
   "cell_type": "markdown",
   "metadata": {
    "nbpresent": {
     "id": "14a55ace-473c-4ce7-85c9-9e251ff044e2"
    }
   },
   "source": [
    "<a id=\"data\"></a>\n",
    "## 1. types of data neuroscientists acquire"
   ]
  },
  {
   "cell_type": "markdown",
   "metadata": {
    "nbpresent": {
     "id": "50d9edec-0e99-4aa0-a8df-4048fffcdbbb"
    }
   },
   "source": [
    "**Exercise 1**: Load dataset.npy, and tell me what's in it."
   ]
  },
  {
   "cell_type": "code",
   "execution_count": null,
   "metadata": {},
   "outputs": [],
   "source": []
  },
  {
   "cell_type": "markdown",
   "metadata": {},
   "source": [
    "<a id=\"vect\"></a>\n",
    "## 2. voltage trace as a vector (everything is a vector)"
   ]
  },
  {
   "cell_type": "markdown",
   "metadata": {
    "nbpresent": {
     "id": "744bcbd3-1dca-4308-8405-b08721f4045e"
    }
   },
   "source": [
    "<a id=\"peak\"></a>\n",
    "## 3. peak detection (from scratch)"
   ]
  },
  {
   "cell_type": "markdown",
   "metadata": {
    "nbpresent": {
     "id": "2b6a4441-b8b4-4290-90a6-97e08db392ff"
    }
   },
   "source": [
    "Python has some libraries that allow for peak detection, but I think doing some manual peak finding is a useful way to hone your python skills as well as think about ephys traces.\n",
    "\n",
    "For the early parts of this exercise, we'll start with a simple sine wave.  But even this step requires a little bit of thought.  We're not going to find peaks on an abstract or analog sine wave, but rather that is explicitly sampled over time.  Play with the sampling frequencies(Fs) and sine wave frequency(f) in the code block below to see if you can build some intuition about how the Fs needs to relate to f in order to be able to pick out individual peaks in our sine wave.\n",
    "\n",
    "(add during lecture: link to discussion of Nyquist limit)\n",
    "\n",
    "**Exercise 3:** write a function that will find the local maxima in a sine wave."
   ]
  },
  {
   "cell_type": "code",
   "execution_count": null,
   "metadata": {},
   "outputs": [],
   "source": [
    "#use this code block to develop your function\n",
    "\n",
    "def find_maxima():\n",
    "    \n",
    "    # your code here\n",
    "    \n",
    "    return result  # what should result look like?\n",
    "\n"
   ]
  },
  {
   "cell_type": "code",
   "execution_count": null,
   "metadata": {},
   "outputs": [],
   "source": [
    "# interlude\n",
    "#\n",
    "# what should the input sinewave look like??\n",
    "\n",
    "# exercise 3.1a: plot 1 second of a sine wave of frequency 8 Hz."
   ]
  },
  {
   "cell_type": "code",
   "execution_count": null,
   "metadata": {
    "nbpresent": {
     "id": "7c6265b5-2c08-421a-b929-a7c4d13c7b2f"
    }
   },
   "outputs": [],
   "source": [
    "# run your function and print output describing local maxima"
   ]
  },
  {
   "cell_type": "code",
   "execution_count": null,
   "metadata": {
    "nbpresent": {
     "id": "95ec6f1f-8108-4cea-b031-4e409851b709"
    }
   },
   "outputs": [],
   "source": [
    "# let's embellish findpeaks by having it plot the input together the detected peaks."
   ]
  },
  {
   "cell_type": "markdown",
   "metadata": {
    "nbpresent": {
     "id": "ffd425fb-8e59-4768-9cbe-fe514d986ecd"
    }
   },
   "source": [
    "Let's extend our use of this function to actual ephys data.  Will it work on one of the traces in _dataset.npy_?  What additional concerns prop up?"
   ]
  },
  {
   "cell_type": "code",
   "execution_count": null,
   "metadata": {},
   "outputs": [],
   "source": []
  },
  {
   "cell_type": "markdown",
   "metadata": {
    "nbpresent": {
     "id": "296a8a2b-9ef6-4d8b-9bcf-321ddb81b39c"
    }
   },
   "source": [
    "for reference, see the [matlab findpeaks documentation](http://www.mathworks.com/help/signal/ref/findpeaks.html) and their [peak finding tutorial](https://www.mathworks.com/help/signal/examples/peak-analysis.html).\n",
    "* prominence\n",
    "* min peak distance\n",
    "* height threshold\n",
    "\n",
    "![alt text](http://www.mathworks.com/help/examples/signal/win64/DeterminePeakWidthsExample_02.png \"peak features\")\n",
    "\n",
    "In practice, you will probably end up using other functions out there.  To point you toward some resources, here are:\n",
    "* a [blog post](https://blog.ytotech.com/2015/11/01/findpeaks-in-python/) discussing various packages containing a peak finding function;\n",
    "* [peakutils](https://bitbucket.org/lucashnegri/peakutils), the package we'll use for consistency going forward in this exercise (with a [tutorial](https://peakutils.readthedocs.io/en/latest/tutorial_a.html));\n",
    "* a [jupyter notebook](http://nbviewer.jupyter.org/github/demotu/BMC/blob/master/notebooks/DetectPeaks.ipynb) that was the basis for the peakutils package.  The peak detection function is listed inside the notebook if you want to see how the approach compares to what we came up with.\n",
    "* there's also a [built-in scipy function](https://docs.scipy.org/doc/scipy-0.14.0/reference/generated/scipy.signal.find_peaks_cwt.html) based on wavelets, a different approach that lacks the features we were seeking to build out from the matlab model."
   ]
  },
  {
   "cell_type": "code",
   "execution_count": null,
   "metadata": {},
   "outputs": [],
   "source": [
    "import peakutils as pu\n",
    "from peakutils.plot import plot as puplot\n"
   ]
  },
  {
   "cell_type": "markdown",
   "metadata": {},
   "source": [
    "<a id=\"sort\"></a>\n",
    "## 4. simple spike sorting"
   ]
  },
  {
   "cell_type": "markdown",
   "metadata": {},
   "source": [
    "Can we separate our spikes into different classes?  Let's start with making a histogram of peak amplitudes."
   ]
  },
  {
   "cell_type": "code",
   "execution_count": null,
   "metadata": {},
   "outputs": [],
   "source": []
  },
  {
   "cell_type": "markdown",
   "metadata": {},
   "source": [
    "k means approach"
   ]
  },
  {
   "cell_type": "code",
   "execution_count": null,
   "metadata": {},
   "outputs": [],
   "source": [
    "from sklearn.cluster import KMeans\n",
    "\n",
    "n_clusters = 5\n",
    "\n",
    "# reshape the data to the shape (n_samples, n_features) -- required for scikit-learn\n",
    "X = peak_heights.reshape([-1,1])\n",
    "# run k-means clustering\n",
    "km = KMeans(n_clusters=n_clusters).fit(X)"
   ]
  },
  {
   "cell_type": "code",
   "execution_count": null,
   "metadata": {},
   "outputs": [],
   "source": [
    "# display the nerve and the peaks colored by cluster\n",
    "pl.figure(3)\n",
    "pl.plot(nerve, color='gray', lw=1)\n",
    "pl.scatter(peak_idxs, peak_heights, c=km.labels_, s=20, zorder=10)"
   ]
  },
  {
   "cell_type": "markdown",
   "metadata": {},
   "source": [
    "For future reference: play with https://github.com/tridesclous/tridesclous."
   ]
  },
  {
   "cell_type": "markdown",
   "metadata": {
    "nbpresent": {
     "id": "d24e11f2-8b53-4b81-962f-08db7a941dcc"
    }
   },
   "source": [
    "<a id=\"filt\"></a>\n",
    "## 5. filtering: low, high pass; notch; baseline"
   ]
  },
  {
   "cell_type": "code",
   "execution_count": null,
   "metadata": {
    "nbpresent": {
     "id": "cb77c04e-4f1b-4059-98b8-70551faa819a"
    }
   },
   "outputs": [],
   "source": [
    "\n",
    "\n"
   ]
  },
  {
   "cell_type": "markdown",
   "metadata": {
    "nbpresent": {
     "id": "836ebbd1-f9aa-4521-9385-8528cd04036c"
    }
   },
   "source": [
    "<a id=\"plot\"></a>\n",
    "## 6. spike trains, raster plots"
   ]
  },
  {
   "cell_type": "code",
   "execution_count": null,
   "metadata": {
    "nbpresent": {
     "id": "a6313cea-5fe1-4b25-837d-abb3af62fd4a"
    }
   },
   "outputs": [],
   "source": [
    "A = np.random.choice([0,1], 1000, p=[0.9,0.1]).reshape(10,100)\n",
    "\n",
    "fig6,ax6 = pl.subplots()\n",
    "\n",
    "spiketimes = [i for i,x in enumerate(A[0]) if x==1]\n",
    "ax6 = pl.vlines(spiketimes,0,1)\n",
    "\n",
    "print(spiketimes)"
   ]
  },
  {
   "cell_type": "code",
   "execution_count": null,
   "metadata": {},
   "outputs": [],
   "source": []
  },
  {
   "cell_type": "markdown",
   "metadata": {},
   "source": [
    "**exercise 6**: show me a plot with 10 spiketrain rasters in it, that looks like this:\n",
    "\n",
    "![alt_text](Figure_1.png)\n",
    "\n",
    "**provocation/challenge**:  let's look all the way back at part 1.  Can you use vlines to put color-coded y scales correlated with each trace in your plot?\n",
    "\n",
    "Here's a reminder of the scale units for each trace:"
   ]
  },
  {
   "cell_type": "markdown",
   "metadata": {},
   "source": [
    "## *neo*?"
   ]
  },
  {
   "cell_type": "code",
   "execution_count": null,
   "metadata": {},
   "outputs": [],
   "source": []
  }
 ],
 "metadata": {
  "anaconda-cloud": {},
  "kernelspec": {
   "display_name": "Python 3",
   "language": "python",
   "name": "python3"
  },
  "language_info": {
   "codemirror_mode": {
    "name": "ipython",
    "version": 3
   },
   "file_extension": ".py",
   "mimetype": "text/x-python",
   "name": "python",
   "nbconvert_exporter": "python",
   "pygments_lexer": "ipython3",
   "version": "3.6.5"
  },
  "nbpresent": {
   "slides": {
    "0d418e11-6889-4303-a070-950c46ce2390": {
     "id": "0d418e11-6889-4303-a070-950c46ce2390",
     "prev": "9ae4fde1-559d-4e25-ad23-30bedd5b9bd8",
     "regions": {
      "044fa389-1e0e-4085-b019-b3324689d0a6": {
       "attrs": {
        "height": 1,
        "width": 1,
        "x": 0,
        "y": 0
       },
       "id": "044fa389-1e0e-4085-b019-b3324689d0a6"
      }
     }
    },
    "66c26ec2-77d5-4bc8-be7a-f979e158419d": {
     "id": "66c26ec2-77d5-4bc8-be7a-f979e158419d",
     "prev": "886e381e-95cf-4b14-9568-25ebb1a8fc75",
     "regions": {
      "8e210a30-cedc-4dc0-b1f2-1e3153179aa1": {
       "attrs": {
        "height": 1,
        "width": 1,
        "x": 0,
        "y": 0
       },
       "id": "8e210a30-cedc-4dc0-b1f2-1e3153179aa1"
      }
     }
    },
    "886e381e-95cf-4b14-9568-25ebb1a8fc75": {
     "id": "886e381e-95cf-4b14-9568-25ebb1a8fc75",
     "prev": null,
     "regions": {
      "20a07646-1588-47f2-81d8-4042915872d2": {
       "attrs": {
        "height": 1,
        "width": 1,
        "x": 0,
        "y": 0
       },
       "id": "20a07646-1588-47f2-81d8-4042915872d2"
      }
     }
    },
    "9ae4fde1-559d-4e25-ad23-30bedd5b9bd8": {
     "id": "9ae4fde1-559d-4e25-ad23-30bedd5b9bd8",
     "prev": "66c26ec2-77d5-4bc8-be7a-f979e158419d",
     "regions": {
      "a4cdc7a3-402b-4689-b0ba-97b34b1d6ebd": {
       "attrs": {
        "height": 0.6,
        "width": 0.8,
        "x": 0.1,
        "y": 0.1
       },
       "id": "a4cdc7a3-402b-4689-b0ba-97b34b1d6ebd"
      },
      "b424d741-9b2c-4e1d-969c-28501e4ea276": {
       "attrs": {
        "height": 0.2,
        "width": 0.4,
        "x": 0.5,
        "y": 0.7
       },
       "id": "b424d741-9b2c-4e1d-969c-28501e4ea276"
      },
      "e3ff6259-fbcf-4ac7-a74c-e4dd56e2fb87": {
       "attrs": {
        "height": 0.2,
        "width": 0.4,
        "x": 0.1,
        "y": 0.7
       },
       "id": "e3ff6259-fbcf-4ac7-a74c-e4dd56e2fb87"
      }
     }
    }
   },
   "themes": {}
  }
 },
 "nbformat": 4,
 "nbformat_minor": 2
}
