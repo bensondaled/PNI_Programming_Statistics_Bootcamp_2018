{
 "cells": [
  {
   "cell_type": "markdown",
   "metadata": {},
   "source": [
    "---\n",
    "### 1) Marginal and conditional distributions\n",
    "You’re doing a development experiment in which on each attempt of your experiment, you get either 1, or, two, or three dividing cells (we’ll call the number of dividing cells $y$), and there are 1, or, two, or three genes of interest expressed (we’ll call this number $x$). The possible outcomes occur with the following joint probability:\n",
    "\n",
    "|  | x = 1 | x = 2 | x = 3 |\n",
    "|------|------|------|------|\n",
    "| y = 1 | 3/18 | 1/18 | 3/18 |\n",
    "| y = 2 | 1/18 | 2/18 | 1/18 |\n",
    "| y = 3 | 3/18 | 1/18 | 3/18 |\n",
    "\n",
    "**1a)** From this joint two-dimensional density, compute\n",
    "\n",
    "- $P(x)$ : the marginal distribution over x\n",
    "- $P(y)$ : the marginal distribution over y\n",
    "- $P(y\\,|\\,x=3)$ : the conditional over $y$ given $x=3$\n",
    "- $P(x\\,|\\,y)$ : the full conditional density $P(x\\,|\\,y)$ (*Hint:* Use Bayes' Rule!)\n",
    "- $P(y)P(x)$ : the independent approximation to $P(x, y)$\n",
    "\n",
    "**1b)** What is $p(x = 1|y = 1)$? What is $p(x = 1|y = 2)$? Are $x$ and $y$ independent? Recall that two random variables $X$ and $Y$ are independent if and only if\n",
    "$$ P(X,Y) = P(X)P(Y)$$\n",
    "\n",
    "**1c)** What is the mean of $x$? What is its variance? What is its standard deviation?\n",
    "\n",
    "**1d)** Compute the covariance between $x$ and $y$ for this distribution: $cov(x,y) = <xy>-<x><y>$. (Don’t forget to subtract those means!) Based on your result, are $x$ and $y$ correlated or not? Based on that, would you conclude that the value of $x$ affects the value of $y$ (answer carefully)?"
   ]
  },
  {
   "cell_type": "code",
   "execution_count": null,
   "metadata": {},
   "outputs": [],
   "source": []
  },
  {
   "cell_type": "markdown",
   "metadata": {},
   "source": [
    "---\n",
    "### 2) Linear models"
   ]
  },
  {
   "cell_type": "markdown",
   "metadata": {},
   "source": [
    "__2a)__ Load in the dataset called `auditory_stimuli.npy`.\n",
    "\n",
    "Each row in this dataset represents a single auditory stimulus played to a study subject.\n",
    "\n",
    "The dataset contains 3 columns: the first column represents the volume of the stimulus in dB SPL, the second represents the mean frequency of the stimulus in Hz, and third represents the duration of the stimulus in seconds."
   ]
  },
  {
   "cell_type": "code",
   "execution_count": null,
   "metadata": {
    "collapsed": true
   },
   "outputs": [],
   "source": []
  },
  {
   "cell_type": "markdown",
   "metadata": {},
   "source": [
    "__2b)__ Load in the dataset called `auditory_responses.npy`.\n",
    "\n",
    "These data come from human brain activity measurements in 3 different brain regions (called them A, B, and C).\n",
    "\n",
    "Every row represents the response measured to one of the auditory stimuli from the dataset above, and each column represents a brain region (for example, the first column represents region A). The values indicate the average activity in that brain region during that stimulus."
   ]
  },
  {
   "cell_type": "code",
   "execution_count": null,
   "metadata": {
    "collapsed": true
   },
   "outputs": [],
   "source": []
  },
  {
   "cell_type": "markdown",
   "metadata": {},
   "source": [
    "__2c)__ Does brain region B respond to the volume of auditory stimuli? Answer this first using data inspection, then using linear regression."
   ]
  },
  {
   "cell_type": "code",
   "execution_count": null,
   "metadata": {
    "collapsed": true
   },
   "outputs": [],
   "source": []
  },
  {
   "cell_type": "markdown",
   "metadata": {},
   "source": [
    "__2d)__ Does brain region A respond to the frequency of auditory stimuli? Use the same approach as (c) to answer."
   ]
  },
  {
   "cell_type": "code",
   "execution_count": null,
   "metadata": {
    "collapsed": true
   },
   "outputs": [],
   "source": []
  },
  {
   "cell_type": "markdown",
   "metadata": {},
   "source": [
    "__2e)__ Consider just the volume parameter of the stimuli for now. Use scatter plots to visualize how each brain region, A, B, and C, respond to different volumes of auditory stimulus. Color each brain region with different color dots."
   ]
  },
  {
   "cell_type": "code",
   "execution_count": null,
   "metadata": {
    "collapsed": true
   },
   "outputs": [],
   "source": []
  },
  {
   "cell_type": "markdown",
   "metadata": {},
   "source": [
    "__2f)__ Which of the brain regions seems to respond most reliably to stimulus volume?"
   ]
  },
  {
   "cell_type": "code",
   "execution_count": null,
   "metadata": {
    "collapsed": true
   },
   "outputs": [],
   "source": []
  },
  {
   "cell_type": "markdown",
   "metadata": {},
   "source": [
    "__2g)__ Perform 3 regressions and determine whether they capture your intuition from (f)."
   ]
  },
  {
   "cell_type": "code",
   "execution_count": null,
   "metadata": {
    "collapsed": true
   },
   "outputs": [],
   "source": []
  },
  {
   "cell_type": "markdown",
   "metadata": {},
   "source": [
    "__2h)__ Now for a moment consider only brain region B. Use scatter plots to show the activity of region B as a function of stimulus volume, frequency, and duration."
   ]
  },
  {
   "cell_type": "code",
   "execution_count": null,
   "metadata": {
    "collapsed": true
   },
   "outputs": [],
   "source": []
  },
  {
   "cell_type": "markdown",
   "metadata": {},
   "source": [
    "__2i)__ Inspecting your plots, which stimulus parameter (volume/frequency/duration) does it seem, qualitatively, that region B most reliably responds to?"
   ]
  },
  {
   "cell_type": "code",
   "execution_count": null,
   "metadata": {
    "collapsed": true
   },
   "outputs": [],
   "source": []
  },
  {
   "cell_type": "markdown",
   "metadata": {},
   "source": [
    "__2j)__ Use 3 separate linear regressions and inspect their outputs to try and determine which variable is most reliably represented by the activity in region B."
   ]
  },
  {
   "cell_type": "code",
   "execution_count": null,
   "metadata": {
    "collapsed": true
   },
   "outputs": [],
   "source": []
  },
  {
   "cell_type": "markdown",
   "metadata": {},
   "source": [
    "__2k)__ Now use a single linear model to answer the question in (j), with volume, frequency, and duration as the 3 regressors, and activity in region B as the dependent variable."
   ]
  },
  {
   "cell_type": "code",
   "execution_count": null,
   "metadata": {
    "collapsed": true
   },
   "outputs": [],
   "source": []
  },
  {
   "cell_type": "markdown",
   "metadata": {},
   "source": [
    "__2l)__ Compare the results of the regression to the separate regressions from (j). Are your conclusions the same? If not, why?"
   ]
  },
  {
   "cell_type": "code",
   "execution_count": null,
   "metadata": {
    "collapsed": true
   },
   "outputs": [],
   "source": []
  },
  {
   "cell_type": "markdown",
   "metadata": {},
   "source": [
    "__2m)__ Using the results from your linear model in (k), estimate the neural activity you would expect in region B if we played a new auditory stimulus at 70dB, 10Hz, and 3 seconds long."
   ]
  },
  {
   "cell_type": "code",
   "execution_count": null,
   "metadata": {
    "collapsed": true
   },
   "outputs": [],
   "source": []
  },
  {
   "cell_type": "markdown",
   "metadata": {},
   "source": [
    "__2n)__ To what extent can we be certain that our prediction from (m) is accurate? What are the caveats?"
   ]
  },
  {
   "cell_type": "code",
   "execution_count": null,
   "metadata": {
    "collapsed": true
   },
   "outputs": [],
   "source": []
  },
  {
   "cell_type": "markdown",
   "metadata": {},
   "source": [
    "---\n",
    "### 3) Bayes Theorem and medical diagnostics\n",
    "\n",
    "* Recall Bayes' theorem, or Bayes' rule:\n",
    "$$P(X,Y) = P(X|Y)P(Y) = P(Y|X)P(X)$$\n",
    "or its more common form\n",
    "$$P(X|Y) = \\frac{P(Y|X)P(X)}{P(Y)}$$\n",
    "where $X$ and $Y$ are two random variables.\n",
    "\n",
    "\n",
    "* For binary variables $X$ and $Y$, we also have the law of total probability:\n",
    "$$P(X) = P(X, Y)+P(X,\\text{not}\\: Y) = P(X\\mid Y)P(Y) + P(X\\mid\\text{not}\\: Y)P(\\text{not}\\: Y)$$\n",
    "This is another way to express the *marginalization* idea we introduced in lecture.\n",
    "\n",
    "Here is a classic toy example:\n",
    "> A patient goes to see a doctor. The doctor performs a test with 99 percent reliability--that is, 99 percent of people who are sick test positive and 99 percent of the healthy people test negative. The doctor knows that only 1 percent of the people in the country are sick. Now the question is: if the patient tests positive, what are the chances the patient is sick?\n",
    "\n",
    "> The intuitive answer is 99 percent, but the correct answer is 50 percent.... Why?\n",
    "\n",
    "We can illustrate this in a table of 10,000 hypothetical individuals:\n",
    "\n",
    "|  | Diseased | Not diseased |  |\n",
    "|------|------|------|------|\n",
    "| Test + | 99 | 99 | 198 |\n",
    "| Test - | 1 | 9801 | 9802 |\n",
    "|  | 100 | 9900 | 10000 |\n",
    "\n",
    "$P(T)$ is the probability that the test is positive\n",
    "\n",
    "$P(D)=0.01$ is the probability of disease, i.e. an individual being ill\n",
    "\n",
    "$P(D\\mid T)$ is the probability of disease given that the test is positive. We are solving for this!\n",
    "\n",
    "$P(T\\mid D) = 0.99$ is the probability of a positive test, given the individual has the disease. We also know that $P(\\text{not}\\: T\\mid\\text{not}\\: D)=0.99$. \n",
    "\n",
    "**Solution:**\n",
    "\n",
    "From the law of total probability, \n",
    "$$P(T)=P(T\\mid D)P(D) + P(T\\mid\\text{not}\\: D)P(\\text{not}\\: D)=P(T\\mid D)P(D) + (1-P(\\text{not}\\: T\\mid\\text{not}\\: D)P(\\text{not}\\: D) = 0.99(0.01) + (1 - 0.99)(0.99) = 0.0198$$\n",
    "\n",
    "From Bayes' rule, we know that \n",
    "$$P(D\\mid T) = P(T\\mid D)P(D)\\: / \\: P(T) = 0.99\\cdot 0.01\\: / \\: 0.0198 = 0.50$$\n",
    "\n",
    "See [here](https://en.wikipedia.org/wiki/Sensitivity_and_specificity) for Wikipedia's excellent article on this topic.\n",
    "\n",
    "\n",
    "**Now you try!**\n",
    "\n",
    "---\n",
    "**3a)** [*Internal Medicine*] Suppose a patient exhibits symptoms that make her physician concerned that she may have a particular disease. The disease is relatively rare in this population, with a prevalence of 0.2% (meaning it affects 2 out of every 1,000 persons). The physician recommends a screening test that costs \\$250 and requires a blood sample. Before agreeing to the screening test, the patient wants to know what will be learned from the test, specifically **what is the true positive rate of the test, defined as the probability of disease, given a positive test result?**, i.e., $P(\\text{disease} \\mid \\text{screen positive})$.\n",
    "\n",
    "The physician reports that the screening test is widely used and has a reported sensitivity of 85%. In addition, the test comes back positive 8% of the time and negative 92% of the time.\n",
    "\n",
    "Let's use the following notation:\n",
    "\n",
    "- $P(D)$ : the probability that a random individual has the disease\n",
    "- $P(S)$ : the probability that the screen is positive\n",
    "\n",
    "**3b)** [*Psychiatry*] Some mental health professionals in the wanted to evaluate the wellbeing of soldiers in the field with a new test (Meehl and Rosen 1955). The authors of the test validated their test by giving it to 415 soldiers known to be well-adjusted, and 89 soldiers known to be mal-adjusted. The test correctly diagnosed 55% of the mal-adjusted soldiers as mal-adjusted, and incorrectly diagnosed only 19% of the adjusted soldiers. They mistakenly concluded that their test was good, since the true positive rate (55%) is much higher than the false positive rate (19%).\n",
    "\n",
    "However, they failed to take into account the prevalence, and in fact weren't drawing conclusions based on the actual true and false positive rates! Meehl and Rosen did not know $P(\\text{maladjusted})$, the probability that a randomly selected soldier was maladjusted, but they guessed that it might be as high as 5%. **What are the actual true positive and false positive rates?** That is, what are $P(\\text{maladjusted}\\mid\\text{diagnosed as maladjusted})$ and $P(\\text{well-adjusted}\\mid\\text{diagnosed as maladjusted})$, respectively?\n",
    "\n",
    "Let's use the following notation:\n",
    "\n",
    "- $P(M)$ : the probability that a random soldier is maladjusted\n",
    "- $P(D)$ : the probability of diagnosing a soldier as maladjusted (Hint: Use the law of total probability.)\n",
    "\n",
    "**Was their test \"good\"?** Well, that depends. Was their test better than randomly guessing, $P(M\\mid D)>P(M)$? Was their test correct more often than it was incorrect, $P(M\\mid D)>P(\\text{not}\\: M\\mid D)$?"
   ]
  }
 ],
 "metadata": {
  "kernelspec": {
   "display_name": "Python [default]",
   "language": "python",
   "name": "python3"
  },
  "language_info": {
   "codemirror_mode": {
    "name": "ipython",
    "version": 3
   },
   "file_extension": ".py",
   "mimetype": "text/x-python",
   "name": "python",
   "nbconvert_exporter": "python",
   "pygments_lexer": "ipython3",
   "version": "3.6.5"
  }
 },
 "nbformat": 4,
 "nbformat_minor": 2
}
