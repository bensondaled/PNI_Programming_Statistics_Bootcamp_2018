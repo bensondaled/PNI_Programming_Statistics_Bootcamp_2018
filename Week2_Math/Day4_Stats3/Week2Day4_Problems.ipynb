{
 "cells": [
  {
   "cell_type": "markdown",
   "metadata": {},
   "source": [
    "<hr/>\n",
    "### Linear models"
   ]
  },
  {
   "cell_type": "markdown",
   "metadata": {},
   "source": [
    "__(a)__ Load in the dataset called `auditory_stimuli.npy`.\n",
    "\n",
    "Each row in this dataset represents a single auditory stimulus played to a study subject.\n",
    "\n",
    "The dataset contains 3 columns: the first column represents the volume of the stimulus in dB SPL, the second represents the mean frequency of the stimulus in Hz, and third represents the duration of the stimulus in seconds."
   ]
  },
  {
   "cell_type": "code",
   "execution_count": null,
   "metadata": {
    "collapsed": true
   },
   "outputs": [],
   "source": []
  },
  {
   "cell_type": "markdown",
   "metadata": {},
   "source": [
    "__(b)__ Load in the dataset called `auditory_responses.npy`.\n",
    "\n",
    "These data come from human brain activity measurements in 3 different brain regions (called them A, B, and C).\n",
    "\n",
    "Every row represents the response measured to one of the auditory stimuli from the dataset above, and each column represents a brain region (for example, the first column represents region A). The values indicate the average activity in that brain region during that stimulus."
   ]
  },
  {
   "cell_type": "code",
   "execution_count": null,
   "metadata": {
    "collapsed": true
   },
   "outputs": [],
   "source": []
  },
  {
   "cell_type": "markdown",
   "metadata": {},
   "source": [
    "__(c)__ Does brain region B respond to the volume of auditory stimuli? Answer this first using data inspection, then using linear regression."
   ]
  },
  {
   "cell_type": "code",
   "execution_count": null,
   "metadata": {
    "collapsed": true
   },
   "outputs": [],
   "source": []
  },
  {
   "cell_type": "markdown",
   "metadata": {},
   "source": [
    "__(d)__ Does brain region A respond to the frequency of auditory stimuli? Use the same approach as (c) to answer."
   ]
  },
  {
   "cell_type": "code",
   "execution_count": null,
   "metadata": {
    "collapsed": true
   },
   "outputs": [],
   "source": []
  },
  {
   "cell_type": "markdown",
   "metadata": {},
   "source": [
    "__(e)__ Consider just the volume parameter of the stimuli for now. Use scatter plots to visualize how each brain region, A, B, and C, respond to different volumes of auditory stimulus. Color each brain region with different color dots."
   ]
  },
  {
   "cell_type": "code",
   "execution_count": null,
   "metadata": {
    "collapsed": true
   },
   "outputs": [],
   "source": []
  },
  {
   "cell_type": "markdown",
   "metadata": {},
   "source": [
    "__(f)__ Which of the brain regions seems to respond most reliably to stimulus volume?"
   ]
  },
  {
   "cell_type": "code",
   "execution_count": null,
   "metadata": {
    "collapsed": true
   },
   "outputs": [],
   "source": []
  },
  {
   "cell_type": "markdown",
   "metadata": {},
   "source": [
    "__(g)__ Perform 3 regressions and determine whether they capture your intuition from (f)."
   ]
  },
  {
   "cell_type": "code",
   "execution_count": null,
   "metadata": {
    "collapsed": true
   },
   "outputs": [],
   "source": []
  },
  {
   "cell_type": "markdown",
   "metadata": {},
   "source": [
    "__(h)__ Now for a moment consider only brain region B. Use scatter plots to show the activity of region B as a function of stimulus volume, frequency, and duration."
   ]
  },
  {
   "cell_type": "code",
   "execution_count": null,
   "metadata": {
    "collapsed": true
   },
   "outputs": [],
   "source": []
  },
  {
   "cell_type": "markdown",
   "metadata": {},
   "source": [
    "__(i)__ Inspecting your plots, which stimulus parameter (volume/frequency/duration) does it seem, qualitatively, that region B most reliably responds to?"
   ]
  },
  {
   "cell_type": "code",
   "execution_count": null,
   "metadata": {
    "collapsed": true
   },
   "outputs": [],
   "source": []
  },
  {
   "cell_type": "markdown",
   "metadata": {},
   "source": [
    "__(j)__ Use 3 separate linear regressions and inspect their outputs to try and determine which variable is most reliably represented by the activity in region B."
   ]
  },
  {
   "cell_type": "code",
   "execution_count": null,
   "metadata": {
    "collapsed": true
   },
   "outputs": [],
   "source": []
  },
  {
   "cell_type": "markdown",
   "metadata": {},
   "source": [
    "__(k)__ Now use a single linear model to answer the question in (j), with volume, frequency, and duration as the 3 regressors, and activity in region B as the dependent variable."
   ]
  },
  {
   "cell_type": "code",
   "execution_count": null,
   "metadata": {
    "collapsed": true
   },
   "outputs": [],
   "source": []
  },
  {
   "cell_type": "markdown",
   "metadata": {},
   "source": [
    "__(l)__ Compare the results of the regression to the separate regressions from (j). Are your conclusions the same? If not, why?"
   ]
  },
  {
   "cell_type": "code",
   "execution_count": null,
   "metadata": {
    "collapsed": true
   },
   "outputs": [],
   "source": []
  },
  {
   "cell_type": "markdown",
   "metadata": {},
   "source": [
    "__(m)__ Using the results from your linear model in (k), estimate the neural activity you would expect in region B if we played a new auditory stimulus at 70dB, 10Hz, and 3 seconds long."
   ]
  },
  {
   "cell_type": "code",
   "execution_count": null,
   "metadata": {
    "collapsed": true
   },
   "outputs": [],
   "source": []
  },
  {
   "cell_type": "markdown",
   "metadata": {},
   "source": [
    "__(n)__ To what extent can we be certain that our prediction from (m) is accurate? What are the caveats?"
   ]
  },
  {
   "cell_type": "code",
   "execution_count": null,
   "metadata": {
    "collapsed": true
   },
   "outputs": [],
   "source": []
  }
 ],
 "metadata": {
  "kernelspec": {
   "display_name": "Python 3",
   "language": "python",
   "name": "python3"
  },
  "language_info": {
   "codemirror_mode": {
    "name": "ipython",
    "version": 3
   },
   "file_extension": ".py",
   "mimetype": "text/x-python",
   "name": "python",
   "nbconvert_exporter": "python",
   "pygments_lexer": "ipython3",
   "version": "3.6.2"
  }
 },
 "nbformat": 4,
 "nbformat_minor": 2
}
