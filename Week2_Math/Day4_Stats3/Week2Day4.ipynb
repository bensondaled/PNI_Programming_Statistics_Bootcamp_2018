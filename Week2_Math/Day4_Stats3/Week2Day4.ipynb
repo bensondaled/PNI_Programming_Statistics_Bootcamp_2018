{
 "cells": [
  {
   "cell_type": "markdown",
   "metadata": {},
   "source": [
    "### ANOVAs, multiple comparisons, post-hoc tests, normality tests"
   ]
  },
  {
   "cell_type": "code",
   "execution_count": null,
   "metadata": {
    "collapsed": true
   },
   "outputs": [],
   "source": []
  },
  {
   "cell_type": "markdown",
   "metadata": {},
   "source": [
    "### Correlation in python"
   ]
  },
  {
   "cell_type": "markdown",
   "metadata": {},
   "source": [
    "$\\text{cov}(X,Y) = \\frac{1}{N} \\sum\\limits_{i}^{N} (\\bar{X}-x_i) (\\bar{Y}-y_i)$\n",
    "\n",
    "$r = \\frac{\\text{cov}(X,Y)}{\\sigma_X \\sigma_Y}$\n",
    "\n",
    "cov(*X*,*Y*) : covariance of *X* and *Y*  \n",
    "*r* : Pearson r  \n",
    "*X*,*Y* : arrays/vectors of same length  \n",
    "$N$ : number of elements in *X*/*Y*  \n",
    "$\\bar{X}, \\bar{Y}$ : mean of *X*/*Y*  \n",
    "$x_i,y_i$ : *i*'th element of *X*/*Y*  \n",
    "$\\sigma_X$,$\\sigma_Y$ : standard deviation of *X*/*Y*"
   ]
  },
  {
   "cell_type": "code",
   "execution_count": 1,
   "metadata": {
    "collapsed": true
   },
   "outputs": [],
   "source": [
    "# write a function that accepts 2 arguments: x and y\n",
    "# and returns pearson r of x and y"
   ]
  },
  {
   "cell_type": "code",
   "execution_count": 9,
   "metadata": {
    "collapsed": true
   },
   "outputs": [],
   "source": [
    "from scipy.stats.stats import pearsonr"
   ]
  },
  {
   "cell_type": "code",
   "execution_count": 19,
   "metadata": {},
   "outputs": [],
   "source": [
    "x = np.random.normal(loc=0, scale=1, size=10000)\n",
    "y = np.random.normal(loc=0, scale=1, size=10000)\n",
    "\n",
    "\n",
    "r,p = pearsonr(x,x)\n",
    "\n"
   ]
  },
  {
   "cell_type": "markdown",
   "metadata": {},
   "source": [
    "### Linear models"
   ]
  },
  {
   "cell_type": "code",
   "execution_count": 49,
   "metadata": {},
   "outputs": [
    {
     "name": "stdout",
     "output_type": "stream",
     "text": [
      "7.184110339147569\n",
      "1532.7595442976449\n"
     ]
    }
   ],
   "source": [
    "# intro to linear relationships\n",
    "\n",
    "x = np.arange(1000)\n",
    "y = 32*x**.8 + 91 + np.random.normal(0,10000,size=len(x))\n",
    "\n",
    "fig,ax = pl.subplots()\n",
    "\n",
    "ax.scatter(x,y)\n",
    "\n",
    "beta = np.cov(x,y)[0,1] / np.var(x)\n",
    "A = np.mean(y) - beta*np.mean(x)\n",
    "\n",
    "x0 = np.min(x)\n",
    "x1 = np.max(x)\n",
    "y0 = beta*x0 + A\n",
    "y1 = beta*x1 + A\n",
    "ax.plot([x0,x1], [y0,y1], color='red', lw=4)\n",
    "\n",
    "r,p = pearsonr(x,y)\n",
    "\n",
    "ax.set_xlabel('Temperature (degrees blah)')\n",
    "ax.set_ylabel('Firing rate of neuron')\n",
    "\n",
    "ax.set_title(r'$\\beta={:0.3f}$  $A={:0.3f}$  $r={:0.3f}$'.format(beta,A,r))\n",
    "\n",
    "print(beta)\n",
    "print(A)"
   ]
  },
  {
   "cell_type": "markdown",
   "metadata": {
    "collapsed": true
   },
   "source": [
    "### the form of a linear model\n",
    "\n",
    "$y = \\beta X + A$\n",
    "\n",
    "X : the \"independent\" variable (regressor/s)  \n",
    "y : the \"dependent\" variable"
   ]
  },
  {
   "cell_type": "code",
   "execution_count": 33,
   "metadata": {},
   "outputs": [
    {
     "data": {
      "text/plain": [
       "<matplotlib.collections.PathCollection at 0x1c3bf78630>"
      ]
     },
     "execution_count": 33,
     "metadata": {},
     "output_type": "execute_result"
    }
   ],
   "source": [
    "x = np.arange(100)\n",
    "\n",
    "beta = 30\n",
    "A = 6\n",
    "\n",
    "y = beta*x + A\n",
    "\n",
    "pl.scatter(x, y)"
   ]
  },
  {
   "cell_type": "markdown",
   "metadata": {
    "collapsed": true
   },
   "source": [
    "## definition of best line?\n",
    "\n",
    "minimizing average distance between points and line\n",
    "\n",
    "# the solution to the linear model\n",
    "\n",
    "$\\beta = \\frac{cov(X,y)}{var(X)}$\n",
    "\n",
    "$A = \\bar{y} - \\beta \\bar{X}$"
   ]
  },
  {
   "cell_type": "markdown",
   "metadata": {
    "collapsed": true
   },
   "source": [
    "### Some assumptions of linear regression\n",
    "\n",
    "* The data used in fitting the model are representative of the population\n",
    "\n",
    "* The true underlying relationship between the two variables is linear\n",
    "\n",
    "<hr/>\n",
    "\n",
    "* The variance of the *residuals* is constant (homoscedastic, not heteroscedastic)\n",
    "\n",
    "* The *residuals* are independent\n",
    "\n",
    "* The *residuals* are normally distributed"
   ]
  },
  {
   "cell_type": "markdown",
   "metadata": {},
   "source": [
    "#### how to assess how well the model did\n",
    "\n",
    "we can use $r$ or $r^2$"
   ]
  },
  {
   "cell_type": "code",
   "execution_count": null,
   "metadata": {
    "collapsed": true
   },
   "outputs": [],
   "source": [
    "# multiple regressors"
   ]
  },
  {
   "cell_type": "markdown",
   "metadata": {},
   "source": [
    "$X_0$ : temperature  \n",
    "$X_1$ : humidity\n",
    "\n",
    "$y = \\beta_0 X_0 + \\beta_1 X_1 +  A$\n",
    "\n",
    "Our model: \"We believe the firing rate of the neuron can be explained/predicted as a sum of (scaled) temperature and humidity values (plus a constant offset)."
   ]
  },
  {
   "cell_type": "code",
   "execution_count": 52,
   "metadata": {},
   "outputs": [
    {
     "data": {
      "text/plain": [
       "statsmodels.regression.linear_model.OLS"
      ]
     },
     "execution_count": 52,
     "metadata": {},
     "output_type": "execute_result"
    }
   ],
   "source": [
    "# python implementation of a linear model\n",
    "from statsmodels.regression.linear_model import OLS\n",
    "\n",
    "# OLS: ordinary least squares\n",
    "dependent = np.array([500, 520, 513, 520])\n",
    "\n",
    "independent = np.array([\n",
    "                    [10, 5, 1],\n",
    "                    [11, 3, 1],\n",
    "                    [12, 6, 1],\n",
    "                    [13, 4, 1],\n",
    "])\n",
    "\n",
    "# in this example:\n",
    "# dependent variable is firing rate of neuron\n",
    "# indpendent variables are temperature and humidity\n",
    "# the first column of independent represents temperature\n",
    "# the second column of independent represents humidity\n",
    "# each row in independent is an \"observation\"\n",
    "# for example:\n",
    "# in the first \"observation\" or \"trial,\" the temperature\n",
    "# was 10, the humidity was 5, and we recorded a firing rate of 500\n",
    "OLS"
   ]
  },
  {
   "cell_type": "code",
   "execution_count": 54,
   "metadata": {},
   "outputs": [
    {
     "name": "stderr",
     "output_type": "stream",
     "text": [
      "/Users/ben/anaconda/lib/python3.6/site-packages/statsmodels/stats/stattools.py:72: ValueWarning: omni_normtest is not valid with less than 8 observations; 4 samples were given.\n",
      "  \"samples were given.\" % int(n), ValueWarning)\n"
     ]
    },
    {
     "data": {
      "text/html": [
       "<table class=\"simpletable\">\n",
       "<caption>OLS Regression Results</caption>\n",
       "<tr>\n",
       "  <th>Dep. Variable:</th>            <td>y</td>        <th>  R-squared:         </th> <td>   0.842</td>\n",
       "</tr>\n",
       "<tr>\n",
       "  <th>Model:</th>                   <td>OLS</td>       <th>  Adj. R-squared:    </th> <td>   0.525</td>\n",
       "</tr>\n",
       "<tr>\n",
       "  <th>Method:</th>             <td>Least Squares</td>  <th>  F-statistic:       </th> <td>   2.657</td>\n",
       "</tr>\n",
       "<tr>\n",
       "  <th>Date:</th>             <td>Thu, 30 Aug 2018</td> <th>  Prob (F-statistic):</th>  <td> 0.398</td> \n",
       "</tr>\n",
       "<tr>\n",
       "  <th>Time:</th>                 <td>14:23:33</td>     <th>  Log-Likelihood:    </th> <td> -10.390</td>\n",
       "</tr>\n",
       "<tr>\n",
       "  <th>No. Observations:</th>      <td>     4</td>      <th>  AIC:               </th> <td>   26.78</td>\n",
       "</tr>\n",
       "<tr>\n",
       "  <th>Df Residuals:</th>          <td>     1</td>      <th>  BIC:               </th> <td>   24.94</td>\n",
       "</tr>\n",
       "<tr>\n",
       "  <th>Df Model:</th>              <td>     2</td>      <th>                     </th>     <td> </td>   \n",
       "</tr>\n",
       "<tr>\n",
       "  <th>Covariance Type:</th>      <td>nonrobust</td>    <th>                     </th>     <td> </td>   \n",
       "</tr>\n",
       "</table>\n",
       "<table class=\"simpletable\">\n",
       "<tr>\n",
       "    <td></td>       <th>coef</th>     <th>std err</th>      <th>t</th>      <th>P>|t|</th>  <th>[0.025</th>    <th>0.975]</th>  \n",
       "</tr>\n",
       "<tr>\n",
       "  <th>x1</th>    <td>    5.3000</td> <td>    2.907</td> <td>    1.823</td> <td> 0.319</td> <td>  -31.636</td> <td>   42.236</td>\n",
       "</tr>\n",
       "<tr>\n",
       "  <th>x2</th>    <td>   -4.1000</td> <td>    2.907</td> <td>   -1.410</td> <td> 0.393</td> <td>  -41.036</td> <td>   32.836</td>\n",
       "</tr>\n",
       "<tr>\n",
       "  <th>const</th> <td>  470.7500</td> <td>   36.044</td> <td>   13.060</td> <td> 0.049</td> <td>   12.764</td> <td>  928.736</td>\n",
       "</tr>\n",
       "</table>\n",
       "<table class=\"simpletable\">\n",
       "<tr>\n",
       "  <th>Omnibus:</th>       <td>   nan</td> <th>  Durbin-Watson:     </th> <td>   2.000</td>\n",
       "</tr>\n",
       "<tr>\n",
       "  <th>Prob(Omnibus):</th> <td>   nan</td> <th>  Jarque-Bera (JB):  </th> <td>   0.667</td>\n",
       "</tr>\n",
       "<tr>\n",
       "  <th>Skew:</th>          <td> 0.000</td> <th>  Prob(JB):          </th> <td>   0.717</td>\n",
       "</tr>\n",
       "<tr>\n",
       "  <th>Kurtosis:</th>      <td> 1.000</td> <th>  Cond. No.          </th> <td>    138.</td>\n",
       "</tr>\n",
       "</table><br/><br/>Warnings:<br/>[1] Standard Errors assume that the covariance matrix of the errors is correctly specified."
      ],
      "text/plain": [
       "<class 'statsmodels.iolib.summary.Summary'>\n",
       "\"\"\"\n",
       "                            OLS Regression Results                            \n",
       "==============================================================================\n",
       "Dep. Variable:                      y   R-squared:                       0.842\n",
       "Model:                            OLS   Adj. R-squared:                  0.525\n",
       "Method:                 Least Squares   F-statistic:                     2.657\n",
       "Date:                Thu, 30 Aug 2018   Prob (F-statistic):              0.398\n",
       "Time:                        14:23:33   Log-Likelihood:                -10.390\n",
       "No. Observations:                   4   AIC:                             26.78\n",
       "Df Residuals:                       1   BIC:                             24.94\n",
       "Df Model:                           2                                         \n",
       "Covariance Type:            nonrobust                                         \n",
       "==============================================================================\n",
       "                 coef    std err          t      P>|t|      [0.025      0.975]\n",
       "------------------------------------------------------------------------------\n",
       "x1             5.3000      2.907      1.823      0.319     -31.636      42.236\n",
       "x2            -4.1000      2.907     -1.410      0.393     -41.036      32.836\n",
       "const        470.7500     36.044     13.060      0.049      12.764     928.736\n",
       "==============================================================================\n",
       "Omnibus:                          nan   Durbin-Watson:                   2.000\n",
       "Prob(Omnibus):                    nan   Jarque-Bera (JB):                0.667\n",
       "Skew:                           0.000   Prob(JB):                        0.717\n",
       "Kurtosis:                       1.000   Cond. No.                         138.\n",
       "==============================================================================\n",
       "\n",
       "Warnings:\n",
       "[1] Standard Errors assume that the covariance matrix of the errors is correctly specified.\n",
       "\"\"\""
      ]
     },
     "execution_count": 54,
     "metadata": {},
     "output_type": "execute_result"
    }
   ],
   "source": [
    "# interpreting the output of a linear model\n",
    "\n",
    "model = OLS(dependent, independent)\n",
    "fit = model.fit()\n",
    "\n",
    "fit.summary()"
   ]
  },
  {
   "cell_type": "code",
   "execution_count": null,
   "metadata": {
    "collapsed": true
   },
   "outputs": [],
   "source": []
  }
 ],
 "metadata": {
  "kernelspec": {
   "display_name": "Python 3",
   "language": "python",
   "name": "python3"
  },
  "language_info": {
   "codemirror_mode": {
    "name": "ipython",
    "version": 3
   },
   "file_extension": ".py",
   "mimetype": "text/x-python",
   "name": "python",
   "nbconvert_exporter": "python",
   "pygments_lexer": "ipython3",
   "version": "3.6.2"
  }
 },
 "nbformat": 4,
 "nbformat_minor": 2
}
