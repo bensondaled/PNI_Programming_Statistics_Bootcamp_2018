{
 "cells": [
  {
   "cell_type": "markdown",
   "metadata": {},
   "source": [
    "<a href=\"https://drive.google.com/drive/folders/1S21nNltrlYqwjnKeeLfQKw5Ajty7qEq6?usp=sharing\">Click here for day-5 data files.</a>"
   ]
  },
  {
   "cell_type": "code",
   "execution_count": null,
   "metadata": {},
   "outputs": [],
   "source": [
    "# how to load data from npz files:\n",
    "\n",
    "import numpy as np\n",
    "\n",
    "with np.load('my_npz_file.npz') as np_file:\n",
    "    \n",
    "    print(np_file.keys()) # displays the names of all the arrays contained in this file\n",
    "    \n",
    "    x = np_file['x'] # loads array x from the file into a variable called x"
   ]
  },
  {
   "cell_type": "code",
   "execution_count": null,
   "metadata": {
    "collapsed": true
   },
   "outputs": [],
   "source": []
  }
 ],
 "metadata": {
  "kernelspec": {
   "display_name": "Python 3",
   "language": "python",
   "name": "python3"
  },
  "language_info": {
   "codemirror_mode": {
    "name": "ipython",
    "version": 3
   },
   "file_extension": ".py",
   "mimetype": "text/x-python",
   "name": "python",
   "nbconvert_exporter": "python",
   "pygments_lexer": "ipython3",
   "version": "3.6.2"
  }
 },
 "nbformat": 4,
 "nbformat_minor": 2
}
