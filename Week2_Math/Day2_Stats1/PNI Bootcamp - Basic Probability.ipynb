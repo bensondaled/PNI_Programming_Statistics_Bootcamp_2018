{
 "cells": [
  {
   "cell_type": "markdown",
   "metadata": {},
   "source": [
    "## <center>Intro to Probability</center>\n",
    "# <center>Build Your Own Craps Table</center>\n",
    "\n",
    "### <center>OR</center>\n",
    "### <center>The Slowest Way to Lose Money at a Casino</center>"
   ]
  },
  {
   "cell_type": "markdown",
   "metadata": {},
   "source": [
    "## 1) Preliminaries\n",
    "**a)** We'll need to build ourselves a few basic tools to help us simulate a game of craps.\n",
    "\n",
    "First, let's make a function that simulates the roll of a fair, six-sided die. Below, we have imported the function `randint()` for you. Read the documentation and use `randint()` to define your own function `dice()` which takes no input arguments and returns a simulated roll of a die (i.e. an integer 1-6)."
   ]
  },
  {
   "cell_type": "code",
   "execution_count": null,
   "metadata": {},
   "outputs": [],
   "source": [
    "from numpy.random import randint \n",
    "\n",
    "### Use the built-in Notebook helper function --- Shift+Tab(+Tab) --- to quickly read the documentation\n",
    "### for the function randint() imported above, then use it to complete the function\n",
    "\n",
    "# ------v----- Place your cursor here, and press Shift+Tab(+Tab)\n",
    "randint( )\n"
   ]
  },
  {
   "cell_type": "code",
   "execution_count": null,
   "metadata": {},
   "outputs": [],
   "source": [
    "def dice():\n",
    "    # your code here"
   ]
  },
  {
   "cell_type": "markdown",
   "metadata": {},
   "source": [
    "**b)** In class, we calculated that the expected value of a dice roll is 3.5\n",
    "\n",
    "Use your new function `dice()` to simulate 1000 rolls, then calculate and plot a running average of the rolls. That is, make a plot where the x-axis is the first $N=1,2,3,...1000$ rolls and the corresponding y-value is the average value of those first $N$ rolls. Does your plot converge to 3.5 as expected?"
   ]
  },
  {
   "cell_type": "code",
   "execution_count": null,
   "metadata": {},
   "outputs": [],
   "source": [
    "from matplotlib import pyplot as plt\n",
    "\n"
   ]
  },
  {
   "cell_type": "markdown",
   "metadata": {},
   "source": [
    "**c)** The game of craps uses the value of two die rolls added together (so values 2-12, rather than 1-6), so let's build a function `twodice()` to simulate that!\n",
    "\n",
    "The good news is that we have a function already made for you below.\n",
    "\n",
    "The bad news is that it doesn't work --- this function will **not** properly simulate rolling two dice at once. Figure out what is wrong with `twodice()` in its current state, then fix it!"
   ]
  },
  {
   "cell_type": "code",
   "execution_count": null,
   "metadata": {},
   "outputs": [],
   "source": [
    "def twodice():\n",
    "    return randint(2,13)"
   ]
  },
  {
   "cell_type": "markdown",
   "metadata": {},
   "source": [
    "**d)** In order to make sure our new function `twodice()` is working the way we expect, simulate 1000 rolls of two die, and make a histogram of the probability of each value occurring. That is, your x-axis should have each of the possible values of your roll, and the y-axis should have the corresponding probability of rolling each value."
   ]
  },
  {
   "cell_type": "code",
   "execution_count": null,
   "metadata": {},
   "outputs": [],
   "source": []
  },
  {
   "cell_type": "markdown",
   "metadata": {},
   "source": [
    "---\n",
    "# Let's Play!\n",
    "## 2) Phase 1 --- The come-out roll\n",
    "Now that we can accurately simulate the roll of two die, let's dive into the game itself! \n",
    "\n",
    "This is what (half of) a craps table looks like:\n",
    "\n",
    "<img src=\"Craps.png\">\n",
    "\n",
    "It can appear a bit overwhelming, but this is because on top of the basic bets --- which we'll be focusing on --- there are dozens of extra side bets one can place during the course of the game. These complications we can safely ignore for now, as they are almost entirely bad bets to make (in the sense that they have worse odds than simply making the basic bets). \n",
    "\n",
    "The basic game consists of two phases: a *come-out* roll and subsequent *point* rolls.\n",
    "\n",
    "We'll focus on the first phase, the come-out roll now..."
   ]
  },
  {
   "cell_type": "markdown",
   "metadata": {},
   "source": [
    "---\n",
    "Before the game begins with the come-out roll, you need to make a bet on the *Pass line* (which you can see in the above picture). In craps, everyone is required to start with a Pass line bet, and so everyone at the table essentially wins or loses together --- you're all playing against the House (the casino), not each other! This makes for a very social game --- if you're the one rolling good numbers, you are (in a sense) winning money for not only yourself but also everyone around you!\n",
    "\n",
    "(*Fun fact:* You can actually make a bet on the *Don't Pass line* instead, which is (almost) the opposite of a Pass line bet. In fact, the Don't Pass bet has *ever so slightly* better odds than the traditional Pass bet. However, I'd recommend not taking advantage of this extra bit of edge in a real casino --- casino's are very superstitious places, and it is considered to be in *very* bad taste to make a Don't Pass bet. You're effectively betting on everyone else at the table losing!)\n",
    "\n",
    "So you (and everyone else at the table) make their Pass bet --- for the sake of this example, let's assume that your Pass bet is always $10. Now what? You roll the two die together, and one of 3 things happen.\n",
    "\n",
    "If you roll a:\n",
    " - 7 or 11 : You win! Your bet pays 1:1 (so the house would give you $10 *and* your $10 bet back), and the game restarts immediately with another come-out roll! This easiest way of winning is called a *natural*.\n",
    " - 2, 3, or 12 : You lose! This is called **CRAPS**! The house takes your $10 bet, and the game immediately restarts with another come-out roll (usually by a new person, you big loser).\n",
    " - 4, 5, 6, 8, 9, or 10 : On to phase 2! We'll worry about this in a later section..."
   ]
  },
  {
   "cell_type": "markdown",
   "metadata": {},
   "source": [
    "**a)** With pen and paper, calculate the probabilities of each of the three options (win,lose,or phase 2) on your come-out roll."
   ]
  },
  {
   "cell_type": "markdown",
   "metadata": {},
   "source": [
    "**b)** Suppose there was no phase 2 and that, if you were to roll one of the phase 2 numbers, you would simply roll again and again until you either won or lost. Would you expect to find this game in a casino? If not, how could you change the payout structure (i.e. currently a win pays 1:1) such that this game became appealing to a casino?"
   ]
  },
  {
   "cell_type": "markdown",
   "metadata": {},
   "source": [
    "**c)** Let's write a function to simulate this modified version of the game, called `comeout()`. The function should take 1 input `bet` as the amount bet on the game, simulate the roll of two die using `twodice()` (and continue re-rolling until either winning or losing), and return the value of the amount won or lost.\n",
    "\n",
    "For example, if the bet is 10, then a winning roll should return 10 (house pays 1:1), while a losing roll should return -10 (house takes your bet).\n",
    "\n",
    "Simulate a 100 rounds of this game, then add up your winnings and losses. Is this in line with your calculations from **(b)** ?"
   ]
  },
  {
   "cell_type": "code",
   "execution_count": null,
   "metadata": {},
   "outputs": [],
   "source": []
  },
  {
   "cell_type": "markdown",
   "metadata": {},
   "source": [
    "**d)** *(OPTIONAL)* Modify your `comeout()` function to take an additional optional argument `payout` with a default value of `1.0` that adjusts the payout structure of the game. For example, on a `bet` of 10 and a payout of `1.0`, a win pays 10; with a `payout=2.0`, a win pays 20; and with `payout=0.5`, a win pays 5. A loss always simply takes the `bet`, regardless of `payout`. \n",
    "\n",
    "Adjust the payout such that the game is *fair* --- that is, neither the house nor the player expect to make money. Now, simulate 100 rounds and calculate the winnings/losses. Is it close to what you expect?"
   ]
  },
  {
   "cell_type": "code",
   "execution_count": null,
   "metadata": {},
   "outputs": [],
   "source": []
  },
  {
   "cell_type": "markdown",
   "metadata": {},
   "source": [
    "---\n",
    "\n",
    "<center>Remember: this is all a game of chance! You should have the intuition that simulating a single sequence of rounds is not necessarily going to be able to tell you much about any game. What if you were super lucky that one round (or unlucky)? Clearly, you'd need multiple sequences (you can think of it as being many different people playing the same game) to get a good picture on whether or not a game is fair. More on this tomorrow! </center>"
   ]
  },
  {
   "cell_type": "markdown",
   "metadata": {},
   "source": [
    "---\n",
    "\n",
    "## 3) Phase 2 --- the point rolls\n",
    "\n",
    "Recall that rolling a 4, 5, 6, 8, 9, or 10 on the comeout roll sends you to a second phase of the game. The rule of phase 2 is that you roll the dice, over and over, until you either win by re-rolling the number that sent you to phase 2 in the first place (a win paying 1:1 as before) **or** you lose by rolling a 7.\n",
    "\n",
    "For example, suppose you're comeout roll was a 5. Now, in the second phase, you will roll the dice over and over until you re-roll a 5 (and win) or roll a 7 (and lose).\n",
    "\n",
    "You should notice from the previous questions that a 7 is the number most likely to be rolled by a pair of dice, so you're chances of winning once being in phase 2 are less than half. \n",
    "\n",
    "*Fun fact*: Despite the fact that a 7 is an automatic win on the comeout roll, most of the rolls at a craps table will be phase 2 point rolls --- where a 7 means losing. For this reason, saying the word \"seven\" is considered taboo at a craps table."
   ]
  },
  {
   "cell_type": "markdown",
   "metadata": {},
   "source": [
    "**a)** Calculate the probability of winning in the second phase of craps if your comeout roll is a 4. Repeat the calculation for the other phase 2 numbers: 5, 6, 8, 9, 10"
   ]
  },
  {
   "cell_type": "markdown",
   "metadata": {},
   "source": [
    "**b)** Now that we have the rules for the whole game, we can do the calculation we've been waiting for! That is, what is the probability of winning a round of craps (starting with a comeout roll and, if necessary, playing the second phase until winning or losing)? What is the expected value of a $10 Pass bet?"
   ]
  },
  {
   "cell_type": "markdown",
   "metadata": {},
   "source": [
    "**c)** Let's code it up! You should already have code for phase 1 in `comeout()`, now just add code to implement phase 2. Your new function `craps()` should take as input the `bet` and return the results of the round of craps, i.e. `-bet` for a loss or `+bet` for a win."
   ]
  },
  {
   "cell_type": "code",
   "execution_count": null,
   "metadata": {},
   "outputs": [],
   "source": []
  },
  {
   "cell_type": "markdown",
   "metadata": {},
   "source": [
    "---\n",
    "\n",
    "## 4) Even more edge --- odds bets\n",
    "\n",
    "While craps already offers pretty great odds, as we calculated above, the most remarkable feature of the game is that it offers a side bet with odds unheard of anywhere else in the casino --- perfectly fair! These are the **odds bets**. \n",
    "\n",
    "Odds bets are made only in the second phase of a craps game and consist of placing an additional bet *behind* your Pass line bet. Different casinos have different rules as to the maximum odds bet you can play, but it's some multiple of the Pass line bet --- for this example, let's say 3x (e.g. if you make a \\$10 Pass line bet, you can make a \\$30 odds bet). The odds bet wins and loses with the Pass line bet; that is, if you roll a 7 both your Pass and odds bets are taken by the house. However, if you win by re-rolling the value of your comeout roll, your odds bet gets paid *at fair odds*.\n",
    "\n",
    "Here's an example:\n",
    "\n",
    "- You make a \\$10 Pass line bet and your comeout roll is a 4.\n",
    "\n",
    "- Now in the second phase of the game, you place a \\$30 odds bet behind your Pass line bet. \n",
    "\n",
    "- If you roll a 7 now, your \\$40 total bet is gone. But you get lucky and roll another 4! Your Pass line bet pays 1:1, so you get $10 from the House.\n",
    "\n",
    "- BUT your \\$30 odds bet pays **2:1**, meaning you get an additional \\$60 from the House! So, in total, you get your \\$40 in bets returned, plus \\$10 for your Pass line bet, plus \\$60 for your odds bet --- a \\$70 win! \n",
    "\n",
    "Why did the odds pay 2:1? Well, as you should have calculated before, rolling a 7 is twice as likely as rolling a 4 --- so to make the odds bet fair, it pays 2:1! If you had entered phase 2 with a different comeout roll (like a 5 or 6), the odds payout would be suitably adjusted to make it fair."
   ]
  },
  {
   "cell_type": "markdown",
   "metadata": {},
   "source": [
    "**a)** Calculate the fair odds at which the other phase 2 numbers pay out (e.g. a 4 pays 2:1)"
   ]
  },
  {
   "cell_type": "markdown",
   "metadata": {},
   "source": [
    "**b)** \n",
    "> A maximum odds bet on a minimum pass line bet often gives the lowest house edge available in any game in the casino\n",
    "\n",
    "That's exciting! But what exactly does it mean? Does an odds bet increase your chance of winning? Do you win or lose more money in the long run? How does making the max odds bet on the minimum pass line bet give you the best \"edge\"?"
   ]
  },
  {
   "cell_type": "markdown",
   "metadata": {},
   "source": [
    "**c)** *(HARD)* Modify the `craps()` function you wrote above to include an optional input `odds=0` which is the multiple of the Pass line bet being made for any eligible odds bet (i.e. `odds=0` means no odds bet is made, `odds=3` means that an odds bet 3x the size of `bet` is made upon entering the second phase of the game). Modify the function to include the odds bets in the calculation of wins and losses.\n",
    "\n",
    "Simulate a 1000 rounds of craps with 0 odds and 1000 rounds with 3x odds, and compare. What do you observe?"
   ]
  },
  {
   "cell_type": "code",
   "execution_count": null,
   "metadata": {},
   "outputs": [],
   "source": []
  }
 ],
 "metadata": {
  "kernelspec": {
   "display_name": "Python [conda root]",
   "language": "python",
   "name": "conda-root-py"
  },
  "language_info": {
   "codemirror_mode": {
    "name": "ipython",
    "version": 3
   },
   "file_extension": ".py",
   "mimetype": "text/x-python",
   "name": "python",
   "nbconvert_exporter": "python",
   "pygments_lexer": "ipython3",
   "version": "3.6.5"
  }
 },
 "nbformat": 4,
 "nbformat_minor": 2
}
