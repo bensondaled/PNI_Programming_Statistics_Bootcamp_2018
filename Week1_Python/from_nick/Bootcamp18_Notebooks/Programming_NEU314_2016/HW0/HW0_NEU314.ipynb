{
 "cells": [
  {
   "cell_type": "markdown",
   "metadata": {},
   "source": [
    "<h3 align=\"center\">Mathematical Tools for Neuroscience (NEU 314)</h3>\n",
    "<h4 align=\"center\">Princeton University, Fall 2016</h4>\n",
    "<h4 align=\"center\">Jonathan Pillow</h4>\n",
    "\n",
    "---\n",
    "## Homework 0: Python Warm-up\n",
    "#### Due: it’s not due\n",
    "\n",
    "Here are some warm-up problems to help bring you up to speed on using Python. Use the Notebooks from lecture (available online) to help if you get stuck!\n",
    "\n",
    "---\n",
    "### Using Jupyter Notebooks:\n",
    "To run a cell and advance to the next cell, press `Shift + Return`\n",
    "\n",
    "To run a cell without advancing to the next cell, press `Control + Return` \n",
    "\n",
    "You can find a variety of shortcuts at **Keyboard Shortcuts** in the Help menu above\n",
    "\n",
    "**If you're confused:** Google and Python are the best of friends! Throw a few words describing your problem into Google and click on the first Stack Overflow link — this will solve 95% of your problems!\n",
    "\n",
    "If you would simply like to know more about a particular function, press `Shift + Tab` while inside the function to bring up a snippet of documentation; press `Tab` again (while still holding `Shift`) to bring up an even larger box of documentation; a third press of `Tab` will turn the bottom half of your screen into a window with the full documentation for your function (including definitions of the function's inputs, outputs, parameters and their default settings, and often some example code!)"
   ]
  },
  {
   "cell_type": "markdown",
   "metadata": {},
   "source": [
    "---\n",
    "## Variable assignment and indexing\n",
    "\n",
    "**1)**\n",
    "Create the following matrix using NumPy and assign it to the variable $A$:\n",
    "\n",
    "$$A = \\begin{bmatrix}1 & 3 \\\\ 5 & 7 \\\\ 9 & 11 \\end{bmatrix}$$\n",
    "\n",
    "Access the element $i = 1$, $j = 0$ (that is, the element in the second row and first column currently set to 5 — remember, Python has zero indexing so $i=1$ means the *second* row!), and change it to 33.\n",
    "\n",
    "Since you'll need to use the NumPy package, we've imported it for you below."
   ]
  },
  {
   "cell_type": "code",
   "execution_count": null,
   "metadata": {},
   "outputs": [],
   "source": [
    "import numpy as np\n",
    "\n",
    "#<answer>\n",
    "A = np.array([[1,3],\n",
    "              [5,7],\n",
    "              [9,11]])\n",
    "print(\"A is equal to:\\n\", A)\n",
    "\n",
    "A[1,0] = 33\n",
    "print(\"A is now equal to:\\n\", A)\n",
    "#</answer>"
   ]
  },
  {
   "cell_type": "markdown",
   "metadata": {},
   "source": [
    "**2)**\n",
    "Create a new matrix $B$ that is the transpose of $A$."
   ]
  },
  {
   "cell_type": "code",
   "execution_count": null,
   "metadata": {},
   "outputs": [],
   "source": [
    "#<answer>\n",
    "B = A.T\n",
    "print(\"B is equal to:\\n\", B)\n",
    "#</answer>"
   ]
  },
  {
   "cell_type": "markdown",
   "metadata": {},
   "source": [
    "**3)**\n",
    "Create $C$ that has two copies of $A$ stacked on top of each other.\n",
    "\n",
    "(*Hint:* the NumPy function `np.vstack()` may be useful!)"
   ]
  },
  {
   "cell_type": "code",
   "execution_count": null,
   "metadata": {},
   "outputs": [],
   "source": [
    "#<answer>\n",
    "C = np.vstack((A,A))\n",
    "print(\"C is equal to:\\n\", C)\n",
    "#</answer>"
   ]
  },
  {
   "cell_type": "markdown",
   "metadata": {},
   "source": [
    "**4)**\n",
    "Extract the second column of $C$ and assign it to a variable $x$.\n",
    "\n",
    "*Note:* Is $x$ still a 2 dimensional vector, i.e. a column vector? If not, can you create a new variable $x_{\\text{column}}$ where the values of $x$ are stored as a column vector? (the function  `np.reshape()` may be useful!)"
   ]
  },
  {
   "cell_type": "code",
   "execution_count": null,
   "metadata": {},
   "outputs": [],
   "source": [
    "#<answer>\n",
    "x = C[:,1]\n",
    "print(\"x is equal to:\\n\", x)\n",
    "\n",
    "x_column = np.reshape(x, (-1,1))\n",
    "print(\"x is now a column vector:\\n\", x_column)\n",
    "#</answer>"
   ]
  },
  {
   "cell_type": "markdown",
   "metadata": {},
   "source": [
    "**5)**\n",
    "Make a vector $y$ that has the squared elements of $x$ in it."
   ]
  },
  {
   "cell_type": "code",
   "execution_count": null,
   "metadata": {},
   "outputs": [],
   "source": [
    "#<answer>\n",
    "y = x**2\n",
    "print(\"y is equal to:\\n\", y)\n",
    "#</answer>"
   ]
  },
  {
   "cell_type": "markdown",
   "metadata": {},
   "source": [
    "**6)**\n",
    "Create $D$ that has two copies of $A$ concatenated side-by-side.\n",
    "\n",
    "(*Hint:* the NumPy function `np.hstack()` may be useful!)"
   ]
  },
  {
   "cell_type": "code",
   "execution_count": null,
   "metadata": {},
   "outputs": [],
   "source": [
    "#<answer>\n",
    "D = np.hstack((A,A))\n",
    "print(\"D is equal to:\\n\", D)\n",
    "#</answer>"
   ]
  },
  {
   "cell_type": "markdown",
   "metadata": {},
   "source": [
    "**7)**\n",
    "Create $z$ that is the matrix multiplication of $C^T$ times $y$.\n",
    "\n",
    "(*Hint:* Remember you can use the ampersand symbol @ to matrix multiply two NumPy arrays)"
   ]
  },
  {
   "cell_type": "code",
   "execution_count": null,
   "metadata": {},
   "outputs": [],
   "source": [
    "#<answer>\n",
    "z = C.T @ y\n",
    "print(\"z is equal to:\\n\", z)\n",
    "#</answer>"
   ]
  },
  {
   "cell_type": "markdown",
   "metadata": {},
   "source": [
    "**8)**\n",
    "Create a new variable named $A$ that contains the integers 0 through 11 arranged in a $3 \\times 4$ matrix (arranged with integers 0 through 3 in the first column, 4 to 7 in the second column, and 8 to 11 in the last).\n",
    "\n",
    "*a)* First, do this the “dumb” way by setting the integers in nested NumPy array manually (e.g. `np.array([[1,2],[3,4]])` )\n",
    "\n",
    "*b)* Then, do it the “smart” way using the Numpy functions `np.arange()` and `np.reshape()`."
   ]
  },
  {
   "cell_type": "code",
   "execution_count": null,
   "metadata": {},
   "outputs": [],
   "source": [
    "#<answer>\n",
    "# The dumb way\n",
    "A = np.array([[0,1,2,3],[4,5,6,7],[8,9,10,11]])\n",
    "print(\"A the dumb way is:\\n\", A)\n",
    "\n",
    "# The smart way\n",
    "A = np.arange(12).reshape((3,4))\n",
    "print(\"A the smart way is:\\n\", A)\n",
    "#</answer>"
   ]
  },
  {
   "cell_type": "markdown",
   "metadata": {},
   "source": [
    "**9)** Create a time vector $t$ that goes from 0 to 100 in increments of 5 using `np.arange()`."
   ]
  },
  {
   "cell_type": "code",
   "execution_count": null,
   "metadata": {},
   "outputs": [],
   "source": [
    "#<answer>\n",
    "t = np.arange(0,105,5) # Note the endpoint of 105 in order to include the value 100 in t\n",
    "print(\"t:\\n\", t)\n",
    "#</answer>"
   ]
  },
  {
   "cell_type": "markdown",
   "metadata": {},
   "source": [
    "**10)** Create a vector $q$ whose elements are equal to the corresponding elements of $t$ raised\n",
    "to the power of 2, then multiplied by 3."
   ]
  },
  {
   "cell_type": "code",
   "execution_count": null,
   "metadata": {},
   "outputs": [],
   "source": [
    "#<answer>\n",
    "q = 3*t**2\n",
    "print(\"q:\\n\", q)\n",
    "#</answer>"
   ]
  },
  {
   "cell_type": "markdown",
   "metadata": {},
   "source": [
    "**11)**\n",
    "Create a $5 \\times 5$ matrix of all-1’s using `np.ones()`, a $10 \\times 5$ matrix of all-0’s using `np.zeros()`, and a $10 \\times 10$ identity matrix using `np.eye()`."
   ]
  },
  {
   "cell_type": "code",
   "execution_count": null,
   "metadata": {},
   "outputs": [],
   "source": [
    "#<answer>\n",
    "all_ones = np.ones((5,5))\n",
    "all_zeros = np.zeros((10,5))\n",
    "identity = np.eye(10)\n",
    "\n",
    "print(\"The 5x5 all ones matrix:\\n\", all_ones)\n",
    "print(\"The 10x5 all zeros matrix:\\n\", all_zeros)\n",
    "print(\"The 10x10 identity matrix:\\n\", identity)\n",
    "#</answer>"
   ]
  },
  {
   "cell_type": "markdown",
   "metadata": {},
   "source": [
    "---\n",
    "## Plotting\n",
    "\n",
    "The dominant way to plot in Python is with the package *matplotlib*, which we import for you below.\n",
    "\n",
    "There are also a variety of ways Python can render images. One of the main advantages of the Notebooks is the ability to render images *inline*, that is, within the notebook itself rather than in an additional pop-up window. We activate that inline functionality here by calling the notebook *magic* function `%matplotlib notebook` for you below.\n",
    "\n",
    "---\n",
    "**12)**\n",
    "Using the matplotlib function `plt.plot()`, plot a sine wave over the interval $[0, 4\\pi]$. First, make a vector $t$ that goes from 0 to $4\\pi$ in 200 even increments (try using `np.linspace()` here). Then make a plot of $\\sin(t)$ vs. $t$. Label your $x$ and $y$-axes using `plt.xlabel()` and `plt.ylabel()`, and give your plot a title using title."
   ]
  },
  {
   "cell_type": "code",
   "execution_count": null,
   "metadata": {},
   "outputs": [],
   "source": [
    "%matplotlib notebook\n",
    "from matplotlib import pyplot as plt\n",
    "\n",
    "#<answer>\n",
    "t = np.linspace(0,4*np.pi, 200)\n",
    "sin_t = np.sin(t)\n",
    "\n",
    "plt.figure()\n",
    "plt.plot(t, sin_t)\n",
    "plt.xlabel(r'$t$')\n",
    "plt.ylabel(r'$\\sin(t)$')\n",
    "plt.title('My sine wave plot')\n",
    "#</answer>"
   ]
  },
  {
   "cell_type": "markdown",
   "metadata": {},
   "source": [
    "**13)**\n",
    "Plot the vectors (3, 1) and (2, 5), and (−2, 3) as line segments extending from the origin to the vector endpoint, all on the same set of axes.\n",
    "\n",
    "(You can try using `plt.arrow()` if you want to get fancy and add arrow heads!)"
   ]
  },
  {
   "cell_type": "code",
   "execution_count": null,
   "metadata": {},
   "outputs": [],
   "source": [
    "#<answer>\n",
    "plt.figure()\n",
    "plt.plot([0,3],[0,1])\n",
    "plt.plot([0,2],[0,5])\n",
    "plt.plot([0,-2],[0,3])\n",
    "#</answer>"
   ]
  }
 ],
 "metadata": {
  "anaconda-cloud": {},
  "kernelspec": {
   "display_name": "Python [conda root]",
   "language": "python",
   "name": "conda-root-py"
  },
  "language_info": {
   "codemirror_mode": {
    "name": "ipython",
    "version": 3
   },
   "file_extension": ".py",
   "mimetype": "text/x-python",
   "name": "python",
   "nbconvert_exporter": "python",
   "pygments_lexer": "ipython3",
   "version": "3.6.2"
  },
  "varInspector": {
   "cols": {
    "lenName": 16,
    "lenType": 16,
    "lenVar": 40
   },
   "kernels_config": {
    "python": {
     "delete_cmd_postfix": "",
     "delete_cmd_prefix": "del ",
     "library": "var_list.py",
     "varRefreshCmd": "print(var_dic_list())"
    },
    "r": {
     "delete_cmd_postfix": ") ",
     "delete_cmd_prefix": "rm(",
     "library": "var_list.r",
     "varRefreshCmd": "cat(var_dic_list()) "
    }
   },
   "types_to_exclude": [
    "module",
    "function",
    "builtin_function_or_method",
    "instance",
    "_Feature"
   ],
   "window_display": false
  }
 },
 "nbformat": 4,
 "nbformat_minor": 1
}
