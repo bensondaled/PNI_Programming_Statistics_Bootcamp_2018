{
 "cells": [
  {
   "cell_type": "markdown",
   "metadata": {},
   "source": [
    "### PNI Biomath Bootcamp 2016\n",
    "# Day 1 Exercises\n",
    "---\n",
    "### Using Jupyter Notebooks:\n",
    "To run a cell and advance to the next cell, press `Shift + Return`\n",
    "\n",
    "To run a cell without advancing to the next cell, press `Control + Return` \n",
    "\n",
    "You can find a variety of shortcuts at **Keyboard Shortcuts** in the Help menu above\n",
    "\n",
    "**If you're confused:** Google and Python are the best of friends! Throw a few words describing your problem into Google and click on the first Stack Overflow link — this will solve 95% of your problems!\n",
    "\n",
    "If you would simply like to know more about a particular function, press `Shift + Tab` while inside the function to bring up a snippet of documentation; press `Tab` again (while still holding `Shift`) to bring up an even larger box of documentation; a third press of `Tab` will turn the bottom half of your screen into a window with the full documentation for your function (including definitions of the function's inputs, outputs, parameters and their default settings, and often some example code!)"
   ]
  },
  {
   "cell_type": "markdown",
   "metadata": {},
   "source": [
    "<hr>\n",
    "## Problem 1\n",
    "\n",
    "Write, test, and debug a function that will compute and return $x^y$, where $x$ and $y$ are both positive integers that are passed to the function as parameters.\n",
    "\n",
    "(Do not use the built-in Python power function, of course! Write your own :)"
   ]
  },
  {
   "cell_type": "code",
   "execution_count": null,
   "metadata": {
    "collapsed": false
   },
   "outputs": [],
   "source": [
    "# define the function\n"
   ]
  },
  {
   "cell_type": "code",
   "execution_count": null,
   "metadata": {
    "collapsed": false
   },
   "outputs": [],
   "source": [
    "# test the function\n"
   ]
  },
  {
   "cell_type": "markdown",
   "metadata": {},
   "source": [
    "<hr>\n",
    "## Problem 2\n",
    "\n",
    "Write, test, and debug a function that will compute and return $x!$, where $x$ is a positive integer that is passed to the function as a parameter. \n",
    "\n",
    "Recall that $x!$, or $x$ factorial, is defined as\n",
    "\n",
    "<center> $x! = x \\cdot (x-1) \\cdot (x-2) \\ldots \\cdot 2 \\cdot 1$ </center>\n",
    "\n",
    "Try writing two different versions of this function:\n",
    "1. An \"iterative\" version: uses a ```while``` loop\n",
    "2. A \"recursive\" version: the function calls upon itself"
   ]
  },
  {
   "cell_type": "code",
   "execution_count": null,
   "metadata": {
    "collapsed": true
   },
   "outputs": [],
   "source": [
    "# define the iterative version of the function\n"
   ]
  },
  {
   "cell_type": "code",
   "execution_count": null,
   "metadata": {
    "collapsed": false
   },
   "outputs": [],
   "source": [
    "# test the iterative version of the function\n"
   ]
  },
  {
   "cell_type": "code",
   "execution_count": null,
   "metadata": {
    "collapsed": true
   },
   "outputs": [],
   "source": [
    "# define the recursive version of the function\n"
   ]
  },
  {
   "cell_type": "code",
   "execution_count": null,
   "metadata": {
    "collapsed": false
   },
   "outputs": [],
   "source": [
    "# test the recursive version of the function\n"
   ]
  },
  {
   "cell_type": "markdown",
   "metadata": {},
   "source": [
    "<hr>\n",
    "### For the next few problems, we will be using a Turtle object from the pre-written ```turtle``` module. We'll load one up now, and call our turtle ```turt```."
   ]
  },
  {
   "cell_type": "code",
   "execution_count": null,
   "metadata": {
    "collapsed": false
   },
   "outputs": [],
   "source": [
    "%matplotlib inline\n",
    "# backend notes: inline / auto / osx / notebook / qt\n",
    "from turtle import Turtle\n",
    "turt = Turtle()"
   ]
  },
  {
   "cell_type": "markdown",
   "metadata": {},
   "source": [
    "Our turtle, ```turt```, can be moved around the screen using basic commands. Some examples are given below. Try playing around with ```turt``` by running the cell. See what happens if you change the values and re-run the cell."
   ]
  },
  {
   "cell_type": "code",
   "execution_count": null,
   "metadata": {
    "collapsed": false
   },
   "outputs": [],
   "source": [
    "turt.reset() # brings turt back to the center and faces her upwards\n",
    "turt.move(50) # moves turt forward 50 distance units\n",
    "turt.turn(30) # turns turt 30 degrees clockwise\n",
    "turt.move(50)"
   ]
  },
  {
   "cell_type": "markdown",
   "metadata": {},
   "source": [
    "<hr>\n",
    "## Problem 3\n",
    "\n",
    "Write a script (i.e., a sequence of instructions in a cell of your Jupyter notebook) that uses ```turt``` to draw a square with side length 30."
   ]
  },
  {
   "cell_type": "code",
   "execution_count": null,
   "metadata": {
    "collapsed": false
   },
   "outputs": [],
   "source": [
    "turt.reset()\n",
    "# specify the commands\n"
   ]
  },
  {
   "cell_type": "markdown",
   "metadata": {},
   "source": [
    "<hr>\n",
    "## Problem 4\n",
    "\n",
    "Write a function that draws a square of length $l$, where $l$ is a parameter passed to the function."
   ]
  },
  {
   "cell_type": "code",
   "execution_count": null,
   "metadata": {
    "collapsed": true
   },
   "outputs": [],
   "source": [
    "# define the square-drawing function\n"
   ]
  },
  {
   "cell_type": "code",
   "execution_count": null,
   "metadata": {
    "collapsed": false
   },
   "outputs": [],
   "source": [
    "# test the function\n",
    "turt.reset()\n"
   ]
  },
  {
   "cell_type": "markdown",
   "metadata": {},
   "source": [
    "<hr>\n",
    "## Problem 5\n",
    "\n",
    "Write a function that draws an n-gram (an n-sided polygon), where each side of the polygon is of length $l$, where $n$ and $l$ are parameters passed to the function. The function should return the turtle’s angle at the end of the drawing."
   ]
  },
  {
   "cell_type": "code",
   "execution_count": null,
   "metadata": {
    "collapsed": true
   },
   "outputs": [],
   "source": [
    "# define the n_gram function\n"
   ]
  },
  {
   "cell_type": "code",
   "execution_count": null,
   "metadata": {
    "collapsed": false
   },
   "outputs": [],
   "source": [
    "# test the function\n",
    "turt.reset()\n"
   ]
  },
  {
   "cell_type": "markdown",
   "metadata": {},
   "source": [
    "<hr>\n",
    "## Problem 6\n",
    "\n",
    "Write a function that draws an n-gram “flower” with $k$ petals: i.e., it draws an n-gram, then rotates a little, draws another n-gram, and so on, until it has gone full circle and has drawn $k$ of them. You should use any $n$ and $k$ you like, but numbers like $k≈10$ look cute."
   ]
  },
  {
   "cell_type": "code",
   "execution_count": null,
   "metadata": {
    "collapsed": true
   },
   "outputs": [],
   "source": [
    "# define the flower function\n"
   ]
  },
  {
   "cell_type": "code",
   "execution_count": null,
   "metadata": {
    "collapsed": false
   },
   "outputs": [],
   "source": [
    "# test the function\n",
    "turt.reset()\n"
   ]
  },
  {
   "cell_type": "markdown",
   "metadata": {},
   "source": [
    "<hr>\n",
    "## Problem 7\n",
    "\n",
    "Write a function that draws four “flowers” at four corners of a square with side length $d$. This square should be centered at the current position of the turtle. Let’s call this a “quartet”."
   ]
  },
  {
   "cell_type": "code",
   "execution_count": null,
   "metadata": {
    "collapsed": true
   },
   "outputs": [],
   "source": [
    "# define the quartet function\n"
   ]
  },
  {
   "cell_type": "code",
   "execution_count": null,
   "metadata": {
    "collapsed": false
   },
   "outputs": [],
   "source": [
    "# test the function\n",
    "turt.reset()\n"
   ]
  },
  {
   "cell_type": "markdown",
   "metadata": {},
   "source": [
    "<hr>\n",
    "## Problem 8\n",
    "\n",
    "Write a function that draws a blue quartet, then rotates 30 degrees, draws a green quartet, rotates another 30 degrees, and then draws a red quartet. Write it so that it takes four parameters: \n",
    "* $n$, the number of sides of each of the polygons that makes each of the petals of each flower\n",
    "* $l$, the length of these polygon sides\n",
    "* $k$, the number of polygons that make each flower \n",
    "* $d$, the distance from (0,0) that each of the flowers is at"
   ]
  },
  {
   "cell_type": "code",
   "execution_count": null,
   "metadata": {
    "collapsed": true
   },
   "outputs": [],
   "source": [
    "# define the multicolor quartet function\n"
   ]
  },
  {
   "cell_type": "code",
   "execution_count": null,
   "metadata": {
    "collapsed": false
   },
   "outputs": [],
   "source": [
    "# test the function\n",
    "turt.reset()\n"
   ]
  }
 ],
 "metadata": {
  "kernelspec": {
   "display_name": "Python 3",
   "language": "python",
   "name": "python3"
  },
  "language_info": {
   "codemirror_mode": {
    "name": "ipython",
    "version": 3
   },
   "file_extension": ".py",
   "mimetype": "text/x-python",
   "name": "python",
   "nbconvert_exporter": "python",
   "pygments_lexer": "ipython3",
   "version": "3.5.2"
  }
 },
 "nbformat": 4,
 "nbformat_minor": 0
}
