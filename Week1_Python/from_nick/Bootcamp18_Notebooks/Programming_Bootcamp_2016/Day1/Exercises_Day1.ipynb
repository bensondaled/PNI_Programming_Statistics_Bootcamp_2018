{
 "cells": [
  {
   "cell_type": "markdown",
   "metadata": {},
   "source": [
    "### PNI Biomath Bootcamp 2016\n",
    "# Day 1 Exercises\n",
    "---\n",
    "### Using Jupyter Notebooks:\n",
    "To run a cell and advance to the next cell, press `Shift + Return`\n",
    "\n",
    "To run a cell without advancing to the next cell, press `Control + Return` \n",
    "\n",
    "You can find a variety of shortcuts at **Keyboard Shortcuts** in the Help menu above\n",
    "\n",
    "**If you're confused:** Google and Python are the best of friends! Throw a few words describing your problem into Google and click on the first Stack Overflow link — this will solve 95% of your problems!\n",
    "\n",
    "If you would simply like to know more about a particular function, press `Shift + Tab` while inside the function to bring up a snippet of documentation; press `Tab` again (while still holding `Shift`) to bring up an even larger box of documentation; a third press of `Tab` will turn the bottom half of your screen into a window with the full documentation for your function (including definitions of the function's inputs, outputs, parameters and their default settings, and often some example code!)"
   ]
  },
  {
   "cell_type": "markdown",
   "metadata": {},
   "source": [
    "## Problem 1\n",
    "\n",
    "Write, test, and debug a function that will compute and return $x^y$, where $x$ and $y$ are both positive integers that are passed to the function as parameters.\n",
    "\n",
    "(Do not use the existing power or exponential functions.)"
   ]
  },
  {
   "cell_type": "code",
   "execution_count": null,
   "metadata": {
    "collapsed": false
   },
   "outputs": [],
   "source": [
    "# define the function\n",
    "#<answer>\n",
    "def pow(x, y):\n",
    "    \"\"\"Compute x to the y'th power\"\"\"\n",
    "    result = 1\n",
    "    for i in range(y):\n",
    "        result *= x\n",
    "    return result\n",
    "#</answer>"
   ]
  },
  {
   "cell_type": "code",
   "execution_count": null,
   "metadata": {
    "collapsed": false
   },
   "outputs": [],
   "source": [
    "# test the function\n",
    "#<answer>\n",
    "pow(3, 2)\n",
    "#</answer>"
   ]
  },
  {
   "cell_type": "markdown",
   "metadata": {},
   "source": [
    "<hr>\n",
    "## Problem 2\n",
    "\n",
    "Write, test, and debug a function that will compute and return $x!$, where $x$ is a positive integer that is passed to the function as a parameter. \n",
    "\n",
    "Recall that $x!$, or $x$ factorial, is defined as\n",
    "\n",
    "<center> $x! = x \\cdot (x-1) \\cdot (x-2) \\ldots \\cdot 2 \\cdot 1$ </center>\n",
    "\n",
    "Try writing two different versions of this function:\n",
    "1. An \"iterative\" version: uses a ```while``` or ```for``` loop\n",
    "2. A \"recursive\" version: the function calls upon itself"
   ]
  },
  {
   "cell_type": "code",
   "execution_count": null,
   "metadata": {
    "collapsed": true
   },
   "outputs": [],
   "source": [
    "# define the iterative version of the function\n",
    "#<answer>\n",
    "def factorial(x):\n",
    "    \"\"\"Compute the factorial of x using iteration\"\"\"\n",
    "    \n",
    "    # strategy 1\n",
    "    result = 1\n",
    "    for i in range(x,0,-1):\n",
    "        result *= i\n",
    "        \n",
    "    # strategy 2\n",
    "    result = 1\n",
    "    while x >= 1:\n",
    "        result *= x\n",
    "        x -= 1\n",
    "        \n",
    "    return result\n",
    "#</answer>"
   ]
  },
  {
   "cell_type": "code",
   "execution_count": null,
   "metadata": {
    "collapsed": false
   },
   "outputs": [],
   "source": [
    "# test the iterative version of the function\n",
    "#<answer>\n",
    "factorial(4)\n",
    "#</answer>"
   ]
  },
  {
   "cell_type": "code",
   "execution_count": null,
   "metadata": {
    "collapsed": true
   },
   "outputs": [],
   "source": [
    "# define the recursive version of the function\n",
    "#<answer>\n",
    "def factorial(x):\n",
    "    \"\"\"Compute the factorial of x using recursion\"\"\"\n",
    "    \n",
    "    if x in [0,1]:\n",
    "        return 1\n",
    "    else:\n",
    "        return x * factorial(x-1)\n",
    "#</answer>"
   ]
  },
  {
   "cell_type": "code",
   "execution_count": null,
   "metadata": {
    "collapsed": false
   },
   "outputs": [],
   "source": [
    "# test the recursive version of the function\n",
    "#<answer>\n",
    "factorial(4)\n",
    "#</answer>"
   ]
  },
  {
   "cell_type": "markdown",
   "metadata": {},
   "source": [
    "<hr>\n",
    "### For the next few problems, we will be using a Turtle object from the pre-written ```turtle``` module. We'll load one up now, and call our turtle ```turt```."
   ]
  },
  {
   "cell_type": "code",
   "execution_count": null,
   "metadata": {
    "collapsed": false
   },
   "outputs": [],
   "source": [
    "%matplotlib inline\n",
    "# backend notes: inline / auto / osx / notebook / qt\n",
    "from turtle import Turtle\n",
    "turt = Turtle()"
   ]
  },
  {
   "cell_type": "markdown",
   "metadata": {},
   "source": [
    "Our turtle, ```turt```, can be moved around the screen using basic commands. Some examples are given below. Try playing around with ```turt``` by running the cell. See what happens if you change the values and re-run the cell."
   ]
  },
  {
   "cell_type": "code",
   "execution_count": null,
   "metadata": {
    "collapsed": false
   },
   "outputs": [],
   "source": [
    "turt.reset() # brings turt back to the center and faces her upwards\n",
    "turt.move(50) # moves turt forward 50 distance units\n",
    "turt.turn(30) # turns turt 30 degrees clockwise\n",
    "turt.move(50)"
   ]
  },
  {
   "cell_type": "markdown",
   "metadata": {},
   "source": [
    "<hr>\n",
    "## Problem 3\n",
    "\n",
    "Write a script that uses ```turt``` to draw a square with side length 30."
   ]
  },
  {
   "cell_type": "code",
   "execution_count": null,
   "metadata": {
    "collapsed": false
   },
   "outputs": [],
   "source": [
    "turt.reset()\n",
    "# specify the commands\n",
    "#<answer>\n",
    "turt.move(30)\n",
    "\n",
    "turt.turn(90)\n",
    "turt.move(30)\n",
    "\n",
    "turt.turn(90)\n",
    "turt.move(30)\n",
    "\n",
    "turt.turn(90)\n",
    "turt.move(30)\n",
    "#</answer>"
   ]
  },
  {
   "cell_type": "markdown",
   "metadata": {},
   "source": [
    "<hr>\n",
    "## Problem 4\n",
    "\n",
    "Write a function that draws a square of length $l$, where $l$ is a parameter passed to the function."
   ]
  },
  {
   "cell_type": "code",
   "execution_count": null,
   "metadata": {
    "collapsed": true
   },
   "outputs": [],
   "source": [
    "# define the square-drawing function\n",
    "#<answer>\n",
    "def draw_square(l):\n",
    "    \"\"\"Draw a square of side length l\"\"\"\n",
    "    for i in range(4):\n",
    "        turt.turn(90)\n",
    "        turt.move(l)\n",
    "#</answer>"
   ]
  },
  {
   "cell_type": "code",
   "execution_count": null,
   "metadata": {
    "collapsed": false
   },
   "outputs": [],
   "source": [
    "# test the function\n",
    "turt.reset()\n",
    "#<answer>\n",
    "draw_square(100)\n",
    "#</answer>"
   ]
  },
  {
   "cell_type": "markdown",
   "metadata": {},
   "source": [
    "<hr>\n",
    "## Problem 5\n",
    "\n",
    "Write a function that draws an n-gram (an n-sided polygon), where each side of the polygon is of length $l$, where $n$ and $l$ are parameters passed to the function. The function should return the turtle’s angle at the end of the drawing."
   ]
  },
  {
   "cell_type": "code",
   "execution_count": null,
   "metadata": {
    "collapsed": true
   },
   "outputs": [],
   "source": [
    "# define the n_gram function\n",
    "#<answer>\n",
    "def n_gram(n, l):\n",
    "    \"\"\"Draw an *n*-sided polygon with side length *l*\"\"\"\n",
    "    for i in range(n):\n",
    "        turt.turn(360/n)\n",
    "        turt.move(l)\n",
    "    return turt.angle\n",
    "#</answer>"
   ]
  },
  {
   "cell_type": "code",
   "execution_count": null,
   "metadata": {
    "collapsed": false
   },
   "outputs": [],
   "source": [
    "# test the function\n",
    "turt.reset()\n",
    "#<answer>\n",
    "current_angle = n_gram(6,60)\n",
    "print(current_angle)\n",
    "#</answer>"
   ]
  },
  {
   "cell_type": "markdown",
   "metadata": {},
   "source": [
    "<hr>\n",
    "## Problem 6\n",
    "\n",
    "Write a function that draws an n-gram “flower” with $k$ petals: i.e., it draws an n-gram, then rotates a little, draws another n-gram, and so on, until it has gone full circle and has drawn $k$ of them. You should use any $n$ and $k$ you like, but numbers like $k≈10$ look cute."
   ]
  },
  {
   "cell_type": "code",
   "execution_count": null,
   "metadata": {
    "collapsed": true
   },
   "outputs": [],
   "source": [
    "# define the flower function\n",
    "#<answer>\n",
    "def flower(n, l, k):\n",
    "    \"\"\"Draw a flower composed of k *n*-sided polygons with side length *l*\"\"\"\n",
    "    for i in range(k):\n",
    "        n_gram(n, l)\n",
    "        turt.turn(360/k)\n",
    "#</answer>"
   ]
  },
  {
   "cell_type": "code",
   "execution_count": null,
   "metadata": {
    "collapsed": false
   },
   "outputs": [],
   "source": [
    "# test the function\n",
    "turt.reset()\n",
    "#<answer>\n",
    "flower(n=5, l=60, k=8)\n",
    "#</answer>"
   ]
  },
  {
   "cell_type": "markdown",
   "metadata": {},
   "source": [
    "<hr>\n",
    "## Problem 7\n",
    "\n",
    "Write a function that draws four “flowers” at four corners of a square with side length $d$. This square should be centered at the current position of the turtle. Let’s call this a “quartet”."
   ]
  },
  {
   "cell_type": "code",
   "execution_count": null,
   "metadata": {
    "collapsed": true
   },
   "outputs": [],
   "source": [
    "# define the quartet function\n",
    "#<answer>\n",
    "def quartet(n, l, k, d):\n",
    "    \"\"\"Draw a flower with parameters *n*, *l*, *k* at the four corners of a square with side length *d*\"\"\"\n",
    "        \n",
    "    # first flower\n",
    "    turt.move(d/2)\n",
    "    turt.turn(-90)\n",
    "    turt.move(d/2)\n",
    "    flower(n, l, k)\n",
    "    \n",
    "    # second flower\n",
    "    turt.turn(180)\n",
    "    turt.move(d) # move forward\n",
    "    flower(n, l, k)\n",
    "    \n",
    "    # third flower\n",
    "    turt.turn(90) # turn the corner\n",
    "    turt.move(d) # move forward\n",
    "    flower(n, l, k)\n",
    "    \n",
    "    # fourth flower\n",
    "    turt.turn(90) # turn the corner\n",
    "    turt.move(d) # move forward\n",
    "    flower(n, l, k)\n",
    "    \n",
    "    # return to home position\n",
    "    turt.turn(90) # turn the corner\n",
    "    turt.move(d/2) # move forward\n",
    "    turt.turn(90) # turn inward\n",
    "    turt.move(d/2) # move forward\n",
    "#</answer>"
   ]
  },
  {
   "cell_type": "code",
   "execution_count": null,
   "metadata": {
    "collapsed": false
   },
   "outputs": [],
   "source": [
    "# test the function\n",
    "turt.reset()\n",
    "#<answer>\n",
    "quartet(n=5, l=30, k=5, d=100)\n",
    "#</answer>"
   ]
  },
  {
   "cell_type": "markdown",
   "metadata": {},
   "source": [
    "<hr>\n",
    "## Problem 8\n",
    "\n",
    "Write a function that draws a blue quartet, then rotates 30 degrees, draws a green quartet, rotates another 30 degrees, and then draws a red quartet. Write it so that it takes four parameters: \n",
    "* $n$, the number of sides of each of the polygons that makes each of the petals of each flower\n",
    "* $l$, the length of these polygon sides\n",
    "* $k$, the number of polygons that make each flower \n",
    "* $d$, the distance from (0,0) that each of the flowers is at"
   ]
  },
  {
   "cell_type": "code",
   "execution_count": null,
   "metadata": {
    "collapsed": true
   },
   "outputs": [],
   "source": [
    "# define the multicolor quartet function\n",
    "#<answer>\n",
    "def multicolor_quartet(n, l, k, d):\n",
    "    \"\"\"Draw 3 quartets of different colors with 30 degree rotations between them\"\"\"\n",
    "    colors = ['blue', 'green', 'red']\n",
    "    \n",
    "    for col in colors:\n",
    "        turt.set_color(col)\n",
    "        quartet(n=n, l=l, k=k, d=d*2)\n",
    "        turt.turn(30)\n",
    "#</answer>"
   ]
  },
  {
   "cell_type": "code",
   "execution_count": null,
   "metadata": {
    "collapsed": false
   },
   "outputs": [],
   "source": [
    "# test the function\n",
    "turt.reset()\n",
    "#<answer>\n",
    "multicolor_quartet(n=5, l=30, k=5, d=50)\n",
    "#</answer>"
   ]
  }
 ],
 "metadata": {
  "kernelspec": {
   "display_name": "Python 3",
   "language": "python",
   "name": "python3"
  },
  "language_info": {
   "codemirror_mode": {
    "name": "ipython",
    "version": 3
   },
   "file_extension": ".py",
   "mimetype": "text/x-python",
   "name": "python",
   "nbconvert_exporter": "python",
   "pygments_lexer": "ipython3",
   "version": "3.5.1"
  }
 },
 "nbformat": 4,
 "nbformat_minor": 0
}
