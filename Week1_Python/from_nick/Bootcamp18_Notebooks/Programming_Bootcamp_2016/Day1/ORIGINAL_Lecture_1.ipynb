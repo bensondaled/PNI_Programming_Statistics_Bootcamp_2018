{
 "cells": [
  {
   "cell_type": "markdown",
   "metadata": {},
   "source": [
    "# PNI Biomath Bootcamp 2016 -- Day 1\n",
    "*Materials originally adapted by Nick Roy from the 2016 Cognitive and Computational Neuroscience Summer School in Shanghai, China; then modified by Carlos Brody and others*\n",
    "\n",
    "### Items to be covered\n",
    "\n",
    "1. Using the Jupyter notebook\n",
    "2. variables and simple math operators\n",
    "4. integers, floats, complex, strings\n",
    "3. sequences of operations in a cell; sequences of cells\n",
    "5. simple turtle graphics \n",
    "    * (list out in the notebook the turtle commands they'll be using)\n",
    "6. functions\n",
    "    * example of functions doing turtle graphics\n",
    "7. namespaces for variables.\n",
    "    * mutability\n",
    "8. debugging\n",
    "9. lists\n",
    "10. **Control flow:**\n",
    "    1. if/else\n",
    "    2. for\n",
    "    3. while\n",
    "    \n"
   ]
  },
  {
   "cell_type": "markdown",
   "metadata": {},
   "source": [
    "### Using Jupyter Notebooks:\n",
    "To run a cell and advance to the next cell, press `Shift + Return`\n",
    "\n",
    "To run a cell without advancing to the next cell, press `Control + Return` \n",
    "\n",
    "You can find a variety of shortcuts at **Keyboard Shortcuts** in the Help menu above\n",
    "\n",
    "**If you're confused:** Google and Python are the best of friends! Throw a few words describing your problem into Google and click on the first Stack Overflow link — this will solve 95% of your problems!\n",
    "\n",
    "If you would simply like to know more about a particular function, press `Shift + Tab` while inside the function to bring up a snippet of documentation; press `Tab` again (while still holding `Shift`) to bring up an even larger box of documentation; a third press of `Tab` will turn the bottom half of your screen into a window with the full documentation for your function (including definitions of the function's inputs, outputs, parameters and their default settings, and often some example code!)\n",
    "\n",
    "---\n",
    "\n",
    "# Basic Variables\n",
    "ints, floats, strings, and lists"
   ]
  },
  {
   "cell_type": "markdown",
   "metadata": {},
   "source": [
    "## integers"
   ]
  },
  {
   "cell_type": "markdown",
   "metadata": {},
   "source": [
    "Integers represent whole numbers. We can use the `type` to get the type of the object."
   ]
  },
  {
   "cell_type": "code",
   "execution_count": null,
   "metadata": {
    "collapsed": false
   },
   "outputs": [],
   "source": [
    "x = 10\n",
    "print(x)\n",
    "print(type(x))"
   ]
  },
  {
   "cell_type": "markdown",
   "metadata": {},
   "source": [
    "Python supports arbitrarily long integers. Those integers will be automatically stored in the special type `long`."
   ]
  },
  {
   "cell_type": "code",
   "execution_count": null,
   "metadata": {
    "collapsed": false
   },
   "outputs": [],
   "source": [
    "x = 18701437402318750321\n",
    "print(x)\n",
    "print(type(x))"
   ]
  },
  {
   "cell_type": "markdown",
   "metadata": {},
   "source": [
    "## floats"
   ]
  },
  {
   "cell_type": "markdown",
   "metadata": {},
   "source": [
    "A float represents a real number."
   ]
  },
  {
   "cell_type": "code",
   "execution_count": null,
   "metadata": {
    "collapsed": false
   },
   "outputs": [],
   "source": [
    "x = 1.0\n",
    "print(x)\n",
    "print(type(x))"
   ]
  },
  {
   "cell_type": "markdown",
   "metadata": {},
   "source": [
    "Python supports scientific notation"
   ]
  },
  {
   "cell_type": "code",
   "execution_count": null,
   "metadata": {
    "collapsed": false
   },
   "outputs": [],
   "source": [
    "x = 5E-2\n",
    "print(x)"
   ]
  },
  {
   "cell_type": "markdown",
   "metadata": {},
   "source": [
    "complex numbers:\n",
    "$j = \\sqrt{-1}$"
   ]
  },
  {
   "cell_type": "code",
   "execution_count": null,
   "metadata": {
    "collapsed": false
   },
   "outputs": [],
   "source": [
    "c = 0.5 + 0.5j\n",
    "print(c)\n",
    "print(type(c))"
   ]
  },
  {
   "cell_type": "markdown",
   "metadata": {},
   "source": [
    "## boolean\n",
    "Represents True/False"
   ]
  },
  {
   "cell_type": "code",
   "execution_count": null,
   "metadata": {
    "collapsed": false
   },
   "outputs": [],
   "source": [
    "x = True\n",
    "print(x)\n",
    "print(type(x))"
   ]
  },
  {
   "cell_type": "markdown",
   "metadata": {},
   "source": [
    "## strings"
   ]
  },
  {
   "cell_type": "code",
   "execution_count": null,
   "metadata": {
    "collapsed": false
   },
   "outputs": [],
   "source": [
    "s = \"Computational Neuroscience\"\n",
    "print(s)\n",
    "print(type(s))"
   ]
  },
  {
   "cell_type": "markdown",
   "metadata": {},
   "source": [
    "When you use double quotes (`\"`), you can include single quotes (`'`) in your string"
   ]
  },
  {
   "cell_type": "code",
   "execution_count": null,
   "metadata": {
    "collapsed": false
   },
   "outputs": [],
   "source": [
    "print(\"can't stop; won't stop\")"
   ]
  },
  {
   "cell_type": "markdown",
   "metadata": {},
   "source": [
    "Alternatively, when you want to include double quotes in your string, use single quotes to define the string"
   ]
  },
  {
   "cell_type": "code",
   "execution_count": null,
   "metadata": {
    "collapsed": false
   },
   "outputs": [],
   "source": [
    "print('\"This,\" he said, \"is a quotation\"')"
   ]
  },
  {
   "cell_type": "markdown",
   "metadata": {},
   "source": [
    "If you want to include a lot of new lines, use triple quotes (`'''`) made up of 3 single quotes"
   ]
  },
  {
   "cell_type": "code",
   "execution_count": null,
   "metadata": {
    "collapsed": false
   },
   "outputs": [],
   "source": [
    "s = '''Once upon a midnight dreary\n",
    "while I pondered weak and weary\n",
    "over many a quant and curious volume of forgotten lore'''\n",
    "print(s)"
   ]
  },
  {
   "cell_type": "markdown",
   "metadata": {},
   "source": [
    "special characters can be created with `\\`\n",
    "\n",
    "tab: `\\t`"
   ]
  },
  {
   "cell_type": "code",
   "execution_count": null,
   "metadata": {
    "collapsed": false
   },
   "outputs": [],
   "source": [
    "print(\"Computation\\tCognition\")"
   ]
  },
  {
   "cell_type": "markdown",
   "metadata": {},
   "source": [
    "newline: `\\n`"
   ]
  },
  {
   "cell_type": "code",
   "execution_count": null,
   "metadata": {
    "collapsed": false
   },
   "outputs": [],
   "source": [
    "print(\"Computation\\nCognition\")"
   ]
  },
  {
   "cell_type": "markdown",
   "metadata": {},
   "source": [
    "## lists\n",
    "Collections of variables"
   ]
  },
  {
   "cell_type": "code",
   "execution_count": null,
   "metadata": {
    "collapsed": false
   },
   "outputs": [],
   "source": [
    "x = [1, 2, 3]\n",
    "print(x)\n",
    "print(type(x))"
   ]
  },
  {
   "cell_type": "markdown",
   "metadata": {},
   "source": [
    "Can contain heterogenous types"
   ]
  },
  {
   "cell_type": "code",
   "execution_count": null,
   "metadata": {
    "collapsed": false
   },
   "outputs": [],
   "source": [
    "print([1, True, \"hello\"])"
   ]
  },
  {
   "cell_type": "markdown",
   "metadata": {},
   "source": [
    "Can contain other variables"
   ]
  },
  {
   "cell_type": "code",
   "execution_count": null,
   "metadata": {
    "collapsed": false
   },
   "outputs": [],
   "source": [
    "x = 2\n",
    "y = 3.5\n",
    "z = False\n",
    "l = [x, y, z]\n",
    "print(l)"
   ]
  },
  {
   "cell_type": "markdown",
   "metadata": {},
   "source": [
    "## binary operations"
   ]
  },
  {
   "cell_type": "markdown",
   "metadata": {},
   "source": [
    "Most binary oprations on numeric types (ints, floats, complex) work as you would expect\n",
    "\n",
    "addition (`+`), subtraction (`-`), multiplication (`*`), division (`/`)"
   ]
  },
  {
   "cell_type": "code",
   "execution_count": null,
   "metadata": {
    "collapsed": false
   },
   "outputs": [],
   "source": [
    "print(\"2 + 2: \")\n",
    "print(2 + 2)\n",
    "\n",
    "x = 20\n",
    "y = 5\n",
    "print(\"20 / 5:\")\n",
    "print(x / y)"
   ]
  },
  {
   "cell_type": "markdown",
   "metadata": {},
   "source": [
    "The \"modulo\" operation (`%`) gives the remainder in integer division"
   ]
  },
  {
   "cell_type": "code",
   "execution_count": null,
   "metadata": {
    "collapsed": false
   },
   "outputs": [],
   "source": [
    "print(10%4)"
   ]
  },
  {
   "cell_type": "markdown",
   "metadata": {},
   "source": [
    "The \"power\" operator has a somewhat strange symbol (`**`)"
   ]
  },
  {
   "cell_type": "code",
   "execution_count": null,
   "metadata": {
    "collapsed": false
   },
   "outputs": [],
   "source": [
    "print(2**3)"
   ]
  },
  {
   "cell_type": "markdown",
   "metadata": {},
   "source": [
    "Pitfall:\n",
    "Unlike math in the abstract, computers have a limited amount of precision, so be carefully when working with very small numbers"
   ]
  },
  {
   "cell_type": "code",
   "execution_count": null,
   "metadata": {
    "collapsed": false
   },
   "outputs": [],
   "source": [
    "print(1 + 1e-16)"
   ]
  },
  {
   "cell_type": "markdown",
   "metadata": {},
   "source": [
    "Lists and strings also use many of these operators, but it might not be what you think!"
   ]
  },
  {
   "cell_type": "code",
   "execution_count": null,
   "metadata": {
    "collapsed": false
   },
   "outputs": [],
   "source": [
    "l = [1, 2, 3]\n",
    "\n",
    "print(l + [4, 5])\n",
    "print(2 * l)\n",
    "\n",
    "s = \"compuation\"\n",
    "t = \"and\" \n",
    "u = \"cognition\"\n",
    "\n",
    "print(s + \" \" + t + \" \" + u)\n",
    "print(s,t,u)"
   ]
  },
  {
   "cell_type": "markdown",
   "metadata": {},
   "source": [
    "Use parentheses to control order of operations"
   ]
  },
  {
   "cell_type": "code",
   "execution_count": null,
   "metadata": {
    "collapsed": false
   },
   "outputs": [],
   "source": [
    "print(2 * 3 + 4)\n",
    "print(2 * (3 + 4))"
   ]
  },
  {
   "cell_type": "markdown",
   "metadata": {},
   "source": [
    "## Variable assignment\n",
    "There are a couple of useful shortcuts for assigning values to variables\n",
    "\n",
    "Shortcut #1: multiple assignment"
   ]
  },
  {
   "cell_type": "code",
   "execution_count": null,
   "metadata": {
    "collapsed": false
   },
   "outputs": [],
   "source": [
    "x, y, z = 1, 2, 3\n",
    "print(x, y, z)\n",
    "\n",
    "a = b = c = 1\n",
    "print(a, b, c)"
   ]
  },
  {
   "cell_type": "markdown",
   "metadata": {},
   "source": [
    "Shortcut #2: updating a value in one line"
   ]
  },
  {
   "cell_type": "code",
   "execution_count": null,
   "metadata": {
    "collapsed": false
   },
   "outputs": [],
   "source": [
    "a = 1\n",
    "a = a + 1\n",
    "print(a)\n",
    "\n",
    "a = 1\n",
    "a += 1\n",
    "print(a)"
   ]
  },
  {
   "cell_type": "markdown",
   "metadata": {},
   "source": [
    "## making your code look nice"
   ]
  },
  {
   "cell_type": "markdown",
   "metadata": {},
   "source": [
    "line continuation: good for breaking up long commands"
   ]
  },
  {
   "cell_type": "code",
   "execution_count": null,
   "metadata": {
    "collapsed": false
   },
   "outputs": [],
   "source": [
    "print('Here I want to execute a really long command' + \\\n",
    "', so I have to use line continuation')"
   ]
  },
  {
   "cell_type": "markdown",
   "metadata": {},
   "source": [
    "comments: good for letting others (and your future self) know what the code is doing\n",
    "\n",
    "*Tip:* Use ```Command + /``` to comment and uncomment lines"
   ]
  },
  {
   "cell_type": "code",
   "execution_count": null,
   "metadata": {
    "collapsed": true
   },
   "outputs": [],
   "source": [
    "# this comment is on a line by itself\n",
    "a = 1 # this comment is at the end of a line"
   ]
  },
  {
   "cell_type": "markdown",
   "metadata": {},
   "source": [
    "## Order of cell execution in the notebook"
   ]
  },
  {
   "cell_type": "markdown",
   "metadata": {},
   "source": [
    "Cells in the Jupyter notebook are just a nice way to store snippits of code. In between running two cells, Python is running in the background and continuting to help all of your variables, so the order that you execute the cells in matters!"
   ]
  },
  {
   "cell_type": "code",
   "execution_count": null,
   "metadata": {
    "collapsed": false
   },
   "outputs": [],
   "source": [
    "a = 0\n",
    "print(a)"
   ]
  },
  {
   "cell_type": "code",
   "execution_count": null,
   "metadata": {
    "collapsed": false
   },
   "outputs": [],
   "source": [
    "# Try rerunning this cell a couple times...\n",
    "a += 1\n",
    "print(a)"
   ]
  },
  {
   "cell_type": "markdown",
   "metadata": {},
   "source": [
    "---\n",
    "# Control Flow\n",
    "conditionals, branching, and loops"
   ]
  },
  {
   "cell_type": "markdown",
   "metadata": {},
   "source": [
    "## conditional operators\n",
    "Return a bool (True/False). Functional analogous to mathematical entities.\n",
    "\n",
    "equality (`==`), strict ordering (`<` and `>`), loose ordering (`<=` and `>=`), negation (`!` or `not`)"
   ]
  },
  {
   "cell_type": "code",
   "execution_count": null,
   "metadata": {
    "collapsed": false
   },
   "outputs": [],
   "source": [
    "print(\"5 == 7\",\"is\", 5 == 7)\n",
    "\n",
    "print(\"5 != 7\",\"is\", 5 != 7)\n",
    "print(\"not (5 == 7)\",\"is\", not (5 == 7))\n",
    "\n",
    "print(\"5 > 5\",\"is\", 5 > 5)\n",
    "print(\"5 >= 5\",\"is\", 5 >= 5)"
   ]
  },
  {
   "cell_type": "markdown",
   "metadata": {},
   "source": [
    "## if statements"
   ]
  },
  {
   "cell_type": "code",
   "execution_count": null,
   "metadata": {
    "collapsed": false
   },
   "outputs": [],
   "source": [
    "x = 5\n",
    "\n",
    "if x == 5:\n",
    "    print(\"statement 1\")\n",
    "    print(\"statement 3\")\n",
    "    \n",
    "\n",
    "    \n",
    "if x == 6:\n",
    "    print(\"statement 2\")\n",
    "    \n",
    "print(\"statement 4\")"
   ]
  },
  {
   "cell_type": "markdown",
   "metadata": {},
   "source": [
    "## elif statements"
   ]
  },
  {
   "cell_type": "code",
   "execution_count": null,
   "metadata": {
    "collapsed": false
   },
   "outputs": [],
   "source": [
    "x = 3\n",
    "\n",
    "if x < 3:\n",
    "    print(\"less than\")\n",
    "elif x > 3:\n",
    "    print(\"greater than\")"
   ]
  },
  {
   "cell_type": "markdown",
   "metadata": {},
   "source": [
    "## else statements"
   ]
  },
  {
   "cell_type": "code",
   "execution_count": null,
   "metadata": {
    "collapsed": false
   },
   "outputs": [],
   "source": [
    "x = 3\n",
    "\n",
    "if x < 3:\n",
    "    y = 10\n",
    "elif x > 3:\n",
    "    y = -2\n",
    "else:\n",
    "    y = 12\n",
    "\n",
    "print(y)"
   ]
  },
  {
   "cell_type": "markdown",
   "metadata": {},
   "source": [
    "## while loop"
   ]
  },
  {
   "cell_type": "code",
   "execution_count": null,
   "metadata": {
    "collapsed": false
   },
   "outputs": [],
   "source": [
    "x = 0\n",
    "print(x)\n",
    "\n",
    "while(x<5):\n",
    "    x += 1\n",
    "    print('looping...')\n",
    "    print(x)\n"
   ]
  },
  {
   "cell_type": "markdown",
   "metadata": {},
   "source": [
    "## for loop"
   ]
  },
  {
   "cell_type": "code",
   "execution_count": null,
   "metadata": {
    "collapsed": false
   },
   "outputs": [],
   "source": [
    "for x in [1, 3, 5]:\n",
    "    print(x)\n",
    "    print('looping...')"
   ]
  },
  {
   "cell_type": "markdown",
   "metadata": {},
   "source": [
    "`range` is useful for making lists to loop over\n",
    "\n",
    "`range` however does not generate explicit lists but instead creates a *range object* to implicitly store the values in the list. In most cases, this object can be used in the same way as a list, but if you want the explicit list just wrap `range()` with the function `list()` "
   ]
  },
  {
   "cell_type": "code",
   "execution_count": null,
   "metadata": {
    "collapsed": false
   },
   "outputs": [],
   "source": [
    "print(range(5))\n",
    "print(list(range(5)))\n",
    "\n",
    "print(list(range(2, 5)))\n",
    "\n",
    "print(list(range(2, 10, 2)))"
   ]
  },
  {
   "cell_type": "code",
   "execution_count": null,
   "metadata": {
    "collapsed": false
   },
   "outputs": [],
   "source": [
    "for x in range(2, 5):\n",
    "    print(x)\n",
    "    print('looping...')\n",
    "    \n",
    "print(x)"
   ]
  },
  {
   "cell_type": "markdown",
   "metadata": {},
   "source": [
    "Example: computing the mean of a all even numbers between 2 and 10 (inclusive)"
   ]
  },
  {
   "cell_type": "code",
   "execution_count": null,
   "metadata": {
    "collapsed": false
   },
   "outputs": [],
   "source": [
    "print(list(range(2, 12, 2)))"
   ]
  },
  {
   "cell_type": "code",
   "execution_count": null,
   "metadata": {
    "collapsed": false
   },
   "outputs": [],
   "source": [
    "total = 0 # caclulate sum of even numbers\n",
    "\n",
    "for x in range(2, 12, 2):\n",
    "    total += x\n",
    "\n",
    "n = (12 - 2)/2 # calculate count of even numbers\n",
    "\n",
    "print(1.0*total/n) # calculate the average"
   ]
  },
  {
   "cell_type": "markdown",
   "metadata": {},
   "source": [
    "It's a good idea to give assign all values that you use to a variable to make it easier to edit/resuse your code"
   ]
  },
  {
   "cell_type": "code",
   "execution_count": null,
   "metadata": {
    "collapsed": false
   },
   "outputs": [],
   "source": [
    "start = 2\n",
    "stop = 20\n",
    "step = 3\n",
    "\n",
    "total = 0\n",
    "\n",
    "for x in range(start, stop, step):\n",
    "    total += x\n",
    "    \n",
    "n = (stop - start)/step\n",
    "    \n",
    "print(1.0*total/n)"
   ]
  },
  {
   "cell_type": "markdown",
   "metadata": {},
   "source": [
    "## break\n",
    "`break` will let you jump out of the of the loop. This is very useful with along with an `if` for when you don't know exactly when you want to stop, but you know the condition."
   ]
  },
  {
   "cell_type": "code",
   "execution_count": null,
   "metadata": {
    "collapsed": false
   },
   "outputs": [],
   "source": [
    "#let's sum all integers until the total is more than 20\n",
    "\n",
    "i = 1\n",
    "total = 0\n",
    "\n",
    "while True:\n",
    "    total += i\n",
    "    i += 1\n",
    "    if total > 20:\n",
    "        break\n",
    "        \n",
    "print(i)\n",
    "print(total)"
   ]
  },
  {
   "cell_type": "markdown",
   "metadata": {},
   "source": [
    "## continue\n",
    "`continue` allows you to skip the rest of the code within the loop, and jump to the next iteration. This is useful with an `if` statement to skip particular iterations defined by some condition"
   ]
  },
  {
   "cell_type": "code",
   "execution_count": null,
   "metadata": {
    "collapsed": false
   },
   "outputs": [],
   "source": [
    "# Let's sum all integers less than 20, but skipping multiples of 3\n",
    "\n",
    "total = 0\n",
    "\n",
    "for i in range(20):\n",
    "    if i % 3 == 0:\n",
    "        print(\"Skipping:\", i)\n",
    "        continue\n",
    "    total += i\n",
    "    \n",
    "print(\"Total:\",total)"
   ]
  },
  {
   "cell_type": "markdown",
   "metadata": {},
   "source": [
    "---\n",
    "# Working with Lists\n",
    "indexing, slicing, list comprehensions"
   ]
  },
  {
   "cell_type": "markdown",
   "metadata": {},
   "source": [
    "## indexing"
   ]
  },
  {
   "cell_type": "markdown",
   "metadata": {},
   "source": [
    "We can access different positions in a list by their \"index\"\n",
    "\n",
    "**Important: counting starts at 0 (not 1, like in MATLAB)!**"
   ]
  },
  {
   "cell_type": "code",
   "execution_count": null,
   "metadata": {
    "collapsed": false
   },
   "outputs": [],
   "source": [
    "l = [10, 11, 12, 13, 14, 15]\n",
    "\n",
    "print(l[0])\n",
    "print(l[2])"
   ]
  },
  {
   "cell_type": "markdown",
   "metadata": {},
   "source": [
    "We can also count backward from the end with a negative index"
   ]
  },
  {
   "cell_type": "code",
   "execution_count": null,
   "metadata": {
    "collapsed": false
   },
   "outputs": [],
   "source": [
    "print(l[-1])\n",
    "print(l[-3])"
   ]
  },
  {
   "cell_type": "markdown",
   "metadata": {},
   "source": [
    "Finally, we can use indices to update values in the list"
   ]
  },
  {
   "cell_type": "code",
   "execution_count": null,
   "metadata": {
    "collapsed": false
   },
   "outputs": [],
   "source": [
    "l[2] = -1\n",
    "print(l)"
   ]
  },
  {
   "cell_type": "markdown",
   "metadata": {},
   "source": [
    "## slicing"
   ]
  },
  {
   "cell_type": "markdown",
   "metadata": {},
   "source": [
    "We can also select ranges of list elements with a \"slice\" that specifies that first and last index to include -- `start:stop`. \n",
    "\n",
    "Be careful: slices are NOT inclusive, so the final index is NOT included."
   ]
  },
  {
   "cell_type": "code",
   "execution_count": null,
   "metadata": {
    "collapsed": false
   },
   "outputs": [],
   "source": [
    "print(l[1:4]) # this will get elements 1, 2, and 3 (the stopping point, 4, is not included)"
   ]
  },
  {
   "cell_type": "markdown",
   "metadata": {},
   "source": [
    "If we leave out the starting index, it will go all the way to the beginning.\n",
    "\n",
    "If we leave out the stopping index, it will go all the way to the end."
   ]
  },
  {
   "cell_type": "code",
   "execution_count": null,
   "metadata": {
    "collapsed": false
   },
   "outputs": [],
   "source": [
    "print(l[:3])\n",
    "print(l[3:])"
   ]
  },
  {
   "cell_type": "markdown",
   "metadata": {},
   "source": [
    "We can also provide a stride, to skip elements -- `start:stop:stride`"
   ]
  },
  {
   "cell_type": "code",
   "execution_count": null,
   "metadata": {
    "collapsed": false
   },
   "outputs": [],
   "source": [
    "print(l[1:6:2])"
   ]
  },
  {
   "cell_type": "markdown",
   "metadata": {},
   "source": [
    "Slices can also use negative indices to count backwards from the end"
   ]
  },
  {
   "cell_type": "code",
   "execution_count": null,
   "metadata": {
    "collapsed": false
   },
   "outputs": [],
   "source": [
    "print(l[1:-1])"
   ]
  },
  {
   "cell_type": "markdown",
   "metadata": {},
   "source": [
    "## list comprehensions"
   ]
  },
  {
   "cell_type": "markdown",
   "metadata": {},
   "source": [
    "Creating a list via a `for` loop is a very common task"
   ]
  },
  {
   "cell_type": "code",
   "execution_count": null,
   "metadata": {
    "collapsed": false
   },
   "outputs": [],
   "source": [
    "# compute the squares of the first 5 natural numbers\n",
    "l = []\n",
    "for x in range(5):\n",
    "    l += [x**2]\n",
    "    \n",
    "print(l)"
   ]
  },
  {
   "cell_type": "markdown",
   "metadata": {},
   "source": [
    "This pattern is so common, that Python gives us a useful shortcut for doing it called a \"list comprehension\""
   ]
  },
  {
   "cell_type": "code",
   "execution_count": null,
   "metadata": {
    "collapsed": false
   },
   "outputs": [],
   "source": [
    "l = [x**2 for x in range(5)]\n",
    "print(l)"
   ]
  },
  {
   "cell_type": "markdown",
   "metadata": {},
   "source": [
    "## enumerate\n",
    "`enumerate` is useful for updating list elements\n",
    "\n",
    "`[v1, v2, v3] => (0, v1), (1, v2), (2, v3)`"
   ]
  },
  {
   "cell_type": "code",
   "execution_count": null,
   "metadata": {
    "collapsed": false
   },
   "outputs": [],
   "source": [
    "l = ['pyramidal', 'inhibitory', 'glial']\n",
    "print(l)\n",
    "\n",
    "for i, val in enumerate(l):\n",
    "    print(i, val)"
   ]
  },
  {
   "cell_type": "code",
   "execution_count": null,
   "metadata": {
    "collapsed": false
   },
   "outputs": [],
   "source": [
    "for i, val in enumerate(l):\n",
    "    l[i] = val + \" cell\"\n",
    "\n",
    "print(l)"
   ]
  },
  {
   "cell_type": "markdown",
   "metadata": {},
   "source": [
    "---\n",
    "# Dictionaries\n",
    "lists with fancy indices"
   ]
  },
  {
   "cell_type": "markdown",
   "metadata": {},
   "source": [
    "Lists are indexed by itegers. This is great for collections of objects that have an intrinsic ordering. But often we have data that we could like to group together (perhaps so we can loop over it) that doesn't have a natural ordering. The `dictionary` is like a list that allows us to index the elements by a user-defined name instead of a number. These fancy indices are called \"keys\", and the data associated with the keys are called \"values\"."
   ]
  },
  {
   "cell_type": "code",
   "execution_count": null,
   "metadata": {
    "collapsed": false
   },
   "outputs": [],
   "source": [
    "d = {\"name\": \"John\", \"age\": 20, \"student\": True}\n",
    "print(d)"
   ]
  },
  {
   "cell_type": "markdown",
   "metadata": {},
   "source": [
    "Indexing works similarly to lists."
   ]
  },
  {
   "cell_type": "code",
   "execution_count": null,
   "metadata": {
    "collapsed": false
   },
   "outputs": [],
   "source": [
    "print(d[\"name\"])\n",
    "print(d[\"age\"])"
   ]
  },
  {
   "cell_type": "markdown",
   "metadata": {},
   "source": [
    "We can examine the keys or the values separately"
   ]
  },
  {
   "cell_type": "code",
   "execution_count": null,
   "metadata": {
    "collapsed": false
   },
   "outputs": [],
   "source": [
    "print(d.keys())\n",
    "print(d.values())"
   ]
  },
  {
   "cell_type": "markdown",
   "metadata": {},
   "source": [
    "Just as with lists, we can change the values inside a dictionary"
   ]
  },
  {
   "cell_type": "code",
   "execution_count": null,
   "metadata": {
    "collapsed": false
   },
   "outputs": [],
   "source": [
    "d[\"student\"] = False\n",
    "print(d)"
   ]
  },
  {
   "cell_type": "code",
   "execution_count": null,
   "metadata": {
    "collapsed": false
   },
   "outputs": [],
   "source": [
    "d[\"color\"] = \"red\"\n",
    "print(d)"
   ]
  },
  {
   "cell_type": "markdown",
   "metadata": {},
   "source": [
    "Finally, we can loop through a dictionary by using the keys"
   ]
  },
  {
   "cell_type": "code",
   "execution_count": null,
   "metadata": {
    "collapsed": false
   },
   "outputs": [],
   "source": [
    "d = {\"k1\": 5, \"k2\": 2.3, \"k3\": [1, 2, 3], \"k4\": -3}\n",
    "print(d)\n",
    "\n",
    "for k in d.keys():\n",
    "    if type(d[k]) == int:\n",
    "        d[k] = 0\n",
    "        \n",
    "print(d)"
   ]
  },
  {
   "cell_type": "markdown",
   "metadata": {},
   "source": [
    "Dictionary keys can actually be of any type"
   ]
  },
  {
   "cell_type": "code",
   "execution_count": null,
   "metadata": {
    "collapsed": false
   },
   "outputs": [],
   "source": [
    "d[2] = \"new value\"\n",
    "print(d)"
   ]
  },
  {
   "cell_type": "markdown",
   "metadata": {},
   "source": [
    "# Functions\n",
    "procedural programming"
   ]
  },
  {
   "cell_type": "markdown",
   "metadata": {},
   "source": [
    "#### The rule of two:\n",
    "    If you find yourself writing the same piece of code twice, put it in a function!\n",
    "    \n",
    "This way, when you want to make a change, you don't have to remember every single place in your code that you used the same computation.\n",
    "\n",
    "A function encapsulates a single computation with an input and (possibly) an output.\n",
    "\n",
    "- When we *declare* (i.e. define) a function, the input is represented by a dummy variable, which we call a *parameter*.\n",
    "- The ouput is specified by the *return value*.\n",
    "- When we *call* (i.e. use) a function, the actual value that we provide for the input is called the *argument*.\n",
    "\n",
    "In the example below, we fist declare the function `f` with the parameter `x`. Then we use it by passing it an argument of `3`. The return value is `7`."
   ]
  },
  {
   "cell_type": "code",
   "execution_count": null,
   "metadata": {
    "collapsed": false
   },
   "outputs": [],
   "source": [
    "def f(x):\n",
    "    return 2*x + 1\n",
    "\n",
    "print(f(3))"
   ]
  },
  {
   "cell_type": "code",
   "execution_count": null,
   "metadata": {
    "collapsed": false
   },
   "outputs": [],
   "source": [
    "y = 4\n",
    "print(f(y))"
   ]
  },
  {
   "cell_type": "markdown",
   "metadata": {},
   "source": [
    "Functions can have more than one input/output, or even no inputs and outputs."
   ]
  },
  {
   "cell_type": "code",
   "execution_count": null,
   "metadata": {
    "collapsed": false
   },
   "outputs": [],
   "source": [
    "def f(x, y):\n",
    "    return x + y, x - y\n",
    "\n",
    "total, diff = f(10, 5)\n",
    "print(total, diff)\n",
    "\n",
    "\n",
    "def g():\n",
    "    print(\"\\nHelp, I'm trapped in a function!\")\n",
    "    \n",
    "g()"
   ]
  },
  {
   "cell_type": "markdown",
   "metadata": {},
   "source": [
    "Variables defined outside the function can be used inside the function."
   ]
  },
  {
   "cell_type": "code",
   "execution_count": null,
   "metadata": {
    "collapsed": false
   },
   "outputs": [],
   "source": [
    "a = 3\n",
    "\n",
    "def f(x):\n",
    "    return a*x\n",
    "\n",
    "print(f(2))\n",
    "\n",
    "a = 10\n",
    "\n",
    "print(f(2))"
   ]
  },
  {
   "cell_type": "markdown",
   "metadata": {},
   "source": [
    "However this doesn't work the other way around -- variables defined inside the function are not available outside of it."
   ]
  },
  {
   "cell_type": "code",
   "execution_count": null,
   "metadata": {
    "collapsed": false
   },
   "outputs": [],
   "source": [
    "def f(x):\n",
    "    b = 3\n",
    "    return b*x\n",
    "\n",
    "print(f(2))\n",
    "print(b)"
   ]
  },
  {
   "cell_type": "markdown",
   "metadata": {},
   "source": [
    "## default values"
   ]
  },
  {
   "cell_type": "markdown",
   "metadata": {},
   "source": [
    "Some parameters will have a reasonable default value. Python let's you set this, so that someone using the function does not need to specify its value, but can override the default if they wish."
   ]
  },
  {
   "cell_type": "code",
   "execution_count": null,
   "metadata": {
    "collapsed": false
   },
   "outputs": [],
   "source": [
    "def f(x, a=2, verbose=False):\n",
    "    x_sq = x**2\n",
    "    if verbose:\n",
    "        print(\"x_sq:\", x_sq)\n",
    "    return a*x_sq"
   ]
  },
  {
   "cell_type": "code",
   "execution_count": null,
   "metadata": {
    "collapsed": false
   },
   "outputs": [],
   "source": [
    "print(f(3)) # will assume default values of a=2, verbose=False"
   ]
  },
  {
   "cell_type": "code",
   "execution_count": null,
   "metadata": {
    "collapsed": false
   },
   "outputs": [],
   "source": [
    "print(f(3, a=4))    # will override default value of a, verbose still assumed to be False\n",
    "print(f(3, 10))     # will set the second parameter, a, to 10\n",
    "print(f(3,10,True)) # will set second parameter,a, to 10 and third parameter, verbose, to True\n",
    "print(f(3,verbose=True,a=10)) # can rearrange order of optional parameters if explicitly stated"
   ]
  },
  {
   "cell_type": "markdown",
   "metadata": {},
   "source": [
    "## mutability"
   ]
  },
  {
   "cell_type": "markdown",
   "metadata": {},
   "source": [
    "Certain operations change the value of a varible in place; we say that these operations \"mutate\" the variable."
   ]
  },
  {
   "cell_type": "code",
   "execution_count": null,
   "metadata": {
    "collapsed": false
   },
   "outputs": [],
   "source": [
    "a = [0, 1]\n",
    "\n",
    "print(a)\n",
    "b = a + [2]\n",
    "print(a)"
   ]
  },
  {
   "cell_type": "code",
   "execution_count": null,
   "metadata": {
    "collapsed": false
   },
   "outputs": [],
   "source": [
    "print(a)\n",
    "a += [2] # mutation here\n",
    "print(a)"
   ]
  },
  {
   "cell_type": "markdown",
   "metadata": {},
   "source": [
    "Usually, when you pass a variable to a function, the function cannot change the value argument outside of the function."
   ]
  },
  {
   "cell_type": "code",
   "execution_count": null,
   "metadata": {
    "collapsed": false
   },
   "outputs": [],
   "source": [
    "def f(x):\n",
    "    x = [0, 1, 2] # reassignment of x, does not persist after function ends\n",
    "    return x\n",
    "\n",
    "a = [0, 1]\n",
    "print(a)\n",
    "print(f(a))\n",
    "print(a)"
   ]
  },
  {
   "cell_type": "markdown",
   "metadata": {},
   "source": [
    "But be careful if you mutate the variable inside of the function!"
   ]
  },
  {
   "cell_type": "code",
   "execution_count": null,
   "metadata": {
    "collapsed": false
   },
   "outputs": [],
   "source": [
    "def f(x):\n",
    "    x += [2] # mutation of x, DOES persist after function ends\n",
    "    return x\n",
    "\n",
    "a = [0, 1]\n",
    "print(a)\n",
    "print(f(a))\n",
    "print(a)"
   ]
  }
 ],
 "metadata": {
  "kernelspec": {
   "display_name": "Python 3",
   "language": "python",
   "name": "python3"
  },
  "language_info": {
   "codemirror_mode": {
    "name": "ipython",
    "version": 3
   },
   "file_extension": ".py",
   "mimetype": "text/x-python",
   "name": "python",
   "nbconvert_exporter": "python",
   "pygments_lexer": "ipython3",
   "version": "3.5.2"
  }
 },
 "nbformat": 4,
 "nbformat_minor": 0
}