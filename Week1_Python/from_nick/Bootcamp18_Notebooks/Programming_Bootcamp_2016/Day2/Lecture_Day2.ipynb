{
 "cells": [
  {
   "cell_type": "markdown",
   "metadata": {},
   "source": [
    "# PNI Biomath Bootcamp 2016 -- Programming module -- Day 2\n",
    "*Materials originally adapted by Nick Roy from the 2016 Cognitive and Computational Neuroscience Summer School in Shanghai, China; then modified by Carlos Brody and others*\n",
    "\n",
    "### Items to be covered\n",
    "\n",
    "1. For loops\n",
    "2. range() function\n",
    "3. list comprehensions\n",
    "    1. turning strings into lists and back again\n",
    "4. Default arguments in functions\n",
    "2. Modules and packages\n",
    "3. Matplotlib and plotting\n",
    "3. Numpy and vectors\n",
    "4. Indexing (appending, deleting, slicing, find)\n",
    "\n"
   ]
  },
  {
   "cell_type": "markdown",
   "metadata": {},
   "source": [
    "## (from yesterday, for reference): using Jupyter Notebooks:\n",
    "\n",
    "Notebooks allow you to mix text, graphics, and executable code within a single file that can be easily shared. Each notebook is a file (ending in .ipynb) that you open in your browser. Notebooks are composed of chunks called \"cells\", each of which can be code, or can be text. When you add a new cell, the typical default is that it will be a \"code\" cell. To make it a text cell, choose \"markdown.\" Running (i.e., executing) a code cell sends its contents to an underlying Python \"kernel\", which treats it just as if you had typed the contents into a Python console.\n",
    "\n",
    "To run a code cell and advance to the next cell, press `Shift + Return`. \n",
    "\n",
    "To run a cell without advancing to the next cell, press `Control + Return` \n",
    "\n",
    "You can find a variety of shortcuts at **Keyboard Shortcuts** in the Help menu above\n",
    "\n",
    "**If you're confused:** Google and Python are the best of friends! Throw a few words describing your problem into Google and click on the first Stack Overflow link — this will solve 95% of your problems!\n",
    "\n",
    "If you would simply like to know more about a particular function, press `Shift + Tab` while inside the function to bring up a snippet of documentation; press `Tab` again (while still holding `Shift`) to bring up an even larger box of documentation; a third press of `Tab` will turn the bottom half of your screen into a window with the full documentation for your function (including definitions of the function's inputs, outputs, parameters and their default settings, and often some example code!)\n",
    "\n"
   ]
  },
  {
   "cell_type": "markdown",
   "metadata": {},
   "source": [
    "---\n",
    "\n",
    "* In-class exercise: write an `xor()` function\n"
   ]
  },
  {
   "cell_type": "code",
   "execution_count": null,
   "metadata": {
    "collapsed": false
   },
   "outputs": [],
   "source": [
    "def xor(x,y):\n",
    "    if not x and not y:\n",
    "        return False\n",
    "    elif not x and y:\n",
    "        return True\n",
    "    elif x and not y:\n",
    "        return True\n",
    "    elif x and y:\n",
    "        return False\n",
    "    \n",
    "    \n",
    "# WRONG!!!!    \n",
    "def xor2(x, y):\n",
    "    z = x or y\n",
    "    w = x and y\n",
    "    if w:\n",
    "        return False\n",
    "    else:\n",
    "        return True\n",
    "    \n",
    "def xor3(x, y):\n",
    "    if x==y:\n",
    "        return False\n",
    "    else:\n",
    "        return True\n",
    "    \n",
    "    \n",
    "def xor4(x, y):\n",
    "    return not(x==y)\n",
    "    # to help figure out what the above line does, break into easier to\n",
    "    # understand components:\n",
    "    # z = (x==y)\n",
    "    # z2 = not z\n",
    "\n",
    "print(xor4(False, False))\n",
    "print(xor4(False, True))\n",
    "print(xor4(True, False))\n",
    "print(xor4(True, True))"
   ]
  },
  {
   "cell_type": "markdown",
   "metadata": {},
   "source": [
    "### matplotlib and debug\n",
    "\n",
    "Solution courtesy of Akanksha: if we want to use `matplotlib inline` and `debug`, put the `matplotlib` call in its own cell, run it once at the start of your notebook session or after restarting your kernel, and you are good to go with `debug` in other cells"
   ]
  },
  {
   "cell_type": "code",
   "execution_count": 1,
   "metadata": {
    "collapsed": false
   },
   "outputs": [],
   "source": [
    "%matplotlib inline\n",
    "# this is the magic line that says \"put your plots inside the notebook\n",
    "# only need to run it once after starting session or restarting kernel\n",
    "# so you can have it in its own cell"
   ]
  },
  {
   "cell_type": "code",
   "execution_count": null,
   "metadata": {
    "collapsed": false
   },
   "outputs": [],
   "source": [
    "%%debug\n",
    "# Since we did matplotlib inline in a separate cell, debugging now works with graphics\n",
    "\n",
    "from turtle import Turtle\n",
    "\n",
    "pedro = Turtle()\n",
    "\n",
    "pedro.move(100)\n",
    "pedro.turn(90)\n",
    "pedro.move(100)\n"
   ]
  },
  {
   "cell_type": "markdown",
   "metadata": {},
   "source": [
    "---\n",
    "# Controlling which bits of code get executed, and when (continued): FOR loops"
   ]
  },
  {
   "cell_type": "code",
   "execution_count": 2,
   "metadata": {
    "collapsed": false
   },
   "outputs": [
    {
     "name": "stdout",
     "output_type": "stream",
     "text": [
      "1\n",
      "True\n",
      "hello\n",
      "(3+2j)\n"
     ]
    }
   ],
   "source": [
    "mylist = [1, True, \"hello\", 3+2j]\n",
    "\n",
    "for x in mylist:\n",
    "    print(x)"
   ]
  },
  {
   "cell_type": "markdown",
   "metadata": {},
   "source": [
    "One useful function often used with FOR loops is \n",
    "\n",
    "    range([start], stop, [stepsize])  # the parameters inside the square brackets are optional; \n",
    "                                      # their default values are start=0, stepsize=1\n",
    "    \n",
    "which returns a \"range\" object that FOR loops can iterate over. For the purpose of FOR loops, you can terat it as if it were a list. Let's cast some ranges into lists to see what they look like.\n",
    "    "
   ]
  },
  {
   "cell_type": "code",
   "execution_count": 9,
   "metadata": {
    "collapsed": false
   },
   "outputs": [
    {
     "name": "stdout",
     "output_type": "stream",
     "text": [
      "[2, 12, 22, 32, 42]\n",
      "5\n",
      "10\n",
      "15\n",
      "20\n",
      "25\n",
      "5\n",
      "10\n",
      "15\n",
      "20\n",
      "25\n"
     ]
    }
   ],
   "source": [
    "print(list(range(2, 50, 10)))\n",
    "\n",
    "#equivalent code:\n",
    "for x in [5, 10, 15, 20, 25]:\n",
    "    print(x)\n",
    "    \n",
    "for x in range(5, 30, 5):\n",
    "    print(x)\n",
    "    "
   ]
  },
  {
   "cell_type": "code",
   "execution_count": 10,
   "metadata": {
    "collapsed": false
   },
   "outputs": [
    {
     "name": "stdout",
     "output_type": "stream",
     "text": [
      "[0, 1, 2, 3, 4]\n",
      "[2, 3, 4]\n",
      "[]\n"
     ]
    },
    {
     "ename": "TypeError",
     "evalue": "'float' object cannot be interpreted as an integer",
     "output_type": "error",
     "traceback": [
      "\u001b[0;31m---------------------------------------------------------------------------\u001b[0m",
      "\u001b[0;31mTypeError\u001b[0m                                 Traceback (most recent call last)",
      "\u001b[0;32m<ipython-input-10-14d110fa212a>\u001b[0m in \u001b[0;36m<module>\u001b[0;34m()\u001b[0m\n\u001b[1;32m      2\u001b[0m \u001b[0mprint\u001b[0m\u001b[0;34m(\u001b[0m\u001b[0mlist\u001b[0m\u001b[0;34m(\u001b[0m\u001b[0mrange\u001b[0m\u001b[0;34m(\u001b[0m\u001b[0;36m2\u001b[0m\u001b[0;34m,\u001b[0m\u001b[0;36m5\u001b[0m\u001b[0;34m)\u001b[0m\u001b[0;34m)\u001b[0m\u001b[0;34m)\u001b[0m\u001b[0;34m\u001b[0m\u001b[0m\n\u001b[1;32m      3\u001b[0m \u001b[0mprint\u001b[0m\u001b[0;34m(\u001b[0m\u001b[0mlist\u001b[0m\u001b[0;34m(\u001b[0m\u001b[0mrange\u001b[0m\u001b[0;34m(\u001b[0m\u001b[0;34m-\u001b[0m\u001b[0;36m3\u001b[0m\u001b[0;34m)\u001b[0m\u001b[0;34m)\u001b[0m\u001b[0;34m)\u001b[0m\u001b[0;34m\u001b[0m\u001b[0m\n\u001b[0;32m----> 4\u001b[0;31m \u001b[0mprint\u001b[0m\u001b[0;34m(\u001b[0m\u001b[0mlist\u001b[0m\u001b[0;34m(\u001b[0m\u001b[0mrange\u001b[0m\u001b[0;34m(\u001b[0m\u001b[0;36m2\u001b[0m\u001b[0;34m,\u001b[0m \u001b[0;36m5\u001b[0m\u001b[0;34m,\u001b[0m \u001b[0;36m0.25\u001b[0m\u001b[0;34m)\u001b[0m\u001b[0;34m)\u001b[0m\u001b[0;34m)\u001b[0m\u001b[0;34m\u001b[0m\u001b[0m\n\u001b[0m",
      "\u001b[0;31mTypeError\u001b[0m: 'float' object cannot be interpreted as an integer"
     ]
    }
   ],
   "source": [
    "print(list(range(5)))\n",
    "print(list(range(2,5)))\n",
    "print(list(range(-3)))\n",
    "print(list(range(2, 5, 0.25)))"
   ]
  },
  {
   "cell_type": "code",
   "execution_count": 11,
   "metadata": {
    "collapsed": false
   },
   "outputs": [
    {
     "name": "stdout",
     "output_type": "stream",
     "text": [
      "0\n",
      "1\n",
      "2\n",
      "3\n",
      "4\n",
      "5\n",
      "6\n",
      "7\n",
      "8\n"
     ]
    }
   ],
   "source": [
    "for x in range(0, 9, 1):\n",
    "    print(x)"
   ]
  },
  {
   "cell_type": "markdown",
   "metadata": {},
   "source": [
    "In-class example: dounting down by 2s, but now using for loops and range()"
   ]
  },
  {
   "cell_type": "code",
   "execution_count": 14,
   "metadata": {
    "collapsed": false
   },
   "outputs": [
    {
     "name": "stdout",
     "output_type": "stream",
     "text": [
      "[10, 8, 6, 4, 2]\n",
      "here is my current item:  10\n",
      "here is my current item:  8\n",
      "here is my current item:  6\n",
      "here is my current item:  4\n",
      "here is my current item:  2\n"
     ]
    }
   ],
   "source": [
    "print(list(range(10, 0, -2)))\n",
    "\n",
    "for x in range(10, 0, -2):\n",
    "    print(\"here is my current item: \", x)"
   ]
  },
  {
   "cell_type": "code",
   "execution_count": 15,
   "metadata": {
    "collapsed": false
   },
   "outputs": [
    {
     "name": "stdout",
     "output_type": "stream",
     "text": [
      "1\n",
      "looping...\n",
      "3\n",
      "looping...\n",
      "5\n",
      "looping...\n",
      "doop-de-doo\n",
      "looping...\n"
     ]
    }
   ],
   "source": [
    "for x in [1, 3, 5, 'doop-de-doo']:\n",
    "    print(x)\n",
    "    print('looping...')"
   ]
  },
  {
   "cell_type": "code",
   "execution_count": 16,
   "metadata": {
    "collapsed": false
   },
   "outputs": [
    {
     "name": "stdout",
     "output_type": "stream",
     "text": [
      "2\n",
      "looping...\n",
      "3\n",
      "looping...\n",
      "4\n",
      "looping...\n",
      "4\n"
     ]
    }
   ],
   "source": [
    "for x in range(2, 5):\n",
    "    print(x)\n",
    "    print('looping...')\n",
    "    \n",
    "print(x)"
   ]
  },
  {
   "cell_type": "markdown",
   "metadata": {},
   "source": [
    "Example: computing the mean of a all even numbers between 2 and 10 (inclusive)"
   ]
  },
  {
   "cell_type": "code",
   "execution_count": 17,
   "metadata": {
    "collapsed": false
   },
   "outputs": [
    {
     "name": "stdout",
     "output_type": "stream",
     "text": [
      "[2, 4, 6, 8, 10]\n"
     ]
    }
   ],
   "source": [
    "print(list(range(2, 12, 2)))"
   ]
  },
  {
   "cell_type": "code",
   "execution_count": 18,
   "metadata": {
    "collapsed": false
   },
   "outputs": [
    {
     "name": "stdout",
     "output_type": "stream",
     "text": [
      "total =  30\n",
      "6.0\n"
     ]
    }
   ],
   "source": [
    "total = 0 # caclulate sum of even numbers\n",
    "\n",
    "for x in range(2, 12, 2):\n",
    "    total = total + x\n",
    "print(\"total = \", total)\n",
    "\n",
    "n = (12 - 2)/2 # calculate count of even numbers\n",
    "\n",
    "print(total/n) # calculate the average"
   ]
  },
  {
   "cell_type": "markdown",
   "metadata": {},
   "source": [
    "It's a good idea to  assign all values that you use to a variable to make it easier to edit/resuse your code.\n",
    "\n",
    "**Note: the code below has a bug!** In-class exercise: turn it into a function, and fix it."
   ]
  },
  {
   "cell_type": "code",
   "execution_count": 20,
   "metadata": {
    "collapsed": false
   },
   "outputs": [
    {
     "name": "stdout",
     "output_type": "stream",
     "text": [
      "[2, 5, 8, 11, 14, 17]\n",
      "10.058823529411764\n"
     ]
    }
   ],
   "source": [
    "start = 2\n",
    "stop = 19\n",
    "step = 3\n",
    "\n",
    "total = 0\n",
    "\n",
    "for x in range(start, stop, step):\n",
    "    total = total + x\n",
    "    \n",
    "n = (stop - start)/step\n",
    "    \n",
    "print(list(range(start, stop, step)))\n",
    "print(1.0*total/n)"
   ]
  },
  {
   "cell_type": "code",
   "execution_count": 24,
   "metadata": {
    "collapsed": false
   },
   "outputs": [
    {
     "name": "stdout",
     "output_type": "stream",
     "text": [
      "[2, 5, 8, 11, 14, 17]\n",
      "[2, 5, 8, 11, 14, 17]\n",
      "[2, 5, 8, 11, 14, 17]\n"
     ]
    }
   ],
   "source": [
    "print(list(range(2, 20, 3)))\n",
    "print(list(range(2, 19, 3)))\n",
    "print(list(range(2, 18, 3)))\n"
   ]
  },
  {
   "cell_type": "code",
   "execution_count": 28,
   "metadata": {
    "collapsed": false
   },
   "outputs": [
    {
     "name": "stdout",
     "output_type": "stream",
     "text": [
      "result =  9.5\n",
      "result 2 =  10.0\n"
     ]
    }
   ],
   "source": [
    "def myavg(start, stop, step=1):\n",
    "    total = 0\n",
    "    counter = 0\n",
    "\n",
    "    for x in range(start, stop, step):\n",
    "        total = total + x\n",
    "        counter = counter + 1\n",
    "        \n",
    "    return total/counter\n",
    "\n",
    "print(\"result = \", myavg(2, 19, 3))\n",
    "print(\"result 2 = \", myavg(2, 19, step=2))"
   ]
  },
  {
   "cell_type": "markdown",
   "metadata": {},
   "source": [
    "---\n",
    "\n",
    "# Functions (continued): default parameter values in functions\n",
    "\n",
    "Some parameters will have a reasonable default value. Python let's you set this, so that someone using the function does not need to specify its value, but can override the default if they wish."
   ]
  },
  {
   "cell_type": "code",
   "execution_count": 38,
   "metadata": {
    "collapsed": true
   },
   "outputs": [],
   "source": [
    "def f(x, a=2, verbose=True):\n",
    "    x_sq = x**2\n",
    "    if verbose:\n",
    "        print(\"x_sq:\", x_sq)\n",
    "    return a*x_sq"
   ]
  },
  {
   "cell_type": "code",
   "execution_count": 40,
   "metadata": {
    "collapsed": false
   },
   "outputs": [
    {
     "name": "stdout",
     "output_type": "stream",
     "text": [
      "x_sq: 27\n",
      "81\n",
      "x_sq: 27\n",
      "81\n",
      "27\n"
     ]
    }
   ],
   "source": [
    "# print(f(3)) # will assume default values of a=2, verbose=False\n",
    "print(f(3, verbose=True, a=3))\n",
    "\n",
    "print(f(3, a=3, verbose=True))\n",
    "\n",
    "print(f(3, a=3, verbose=False))\n"
   ]
  },
  {
   "cell_type": "code",
   "execution_count": null,
   "metadata": {
    "collapsed": true
   },
   "outputs": [],
   "source": [
    "print(f(3, a=4))    # will override default value of a, verbose still assumed to be False\n",
    "print(f(3, 10))     # will set the second parameter, a, to 10\n",
    "print(f(3,10,True)) # will set second parameter,a, to 10 and third parameter, verbose, to True\n",
    "print(f(3,verbose=True,a=10)) # can rearrange order of optional parameters if explicitly stated"
   ]
  },
  {
   "cell_type": "markdown",
   "metadata": {},
   "source": [
    "In-class exercise: add default values to the function we wrote that computes the mean of a set of evenly spaced numbers"
   ]
  },
  {
   "cell_type": "markdown",
   "metadata": {},
   "source": [
    "# List comprehensions\n",
    "\n",
    "    [evaluateable-expression    for variable in iterable (e.g., a list)   [optional: if boolean condition]]\n",
    "    \n",
    "For those of you with a `Matlab` background, list comprehensions largely replace the `find()` function"
   ]
  },
  {
   "cell_type": "code",
   "execution_count": 52,
   "metadata": {
    "collapsed": false
   },
   "outputs": [
    {
     "data": {
      "text/plain": [
       "[0, 4, 16, 36, 64]"
      ]
     },
     "execution_count": 52,
     "metadata": {},
     "output_type": "execute_result"
    }
   ],
   "source": [
    "# produce a list of squares\n",
    "\n",
    "[a**2 for a in range(0,10) if a%2==0]"
   ]
  },
  {
   "cell_type": "code",
   "execution_count": 50,
   "metadata": {
    "collapsed": false
   },
   "outputs": [
    {
     "name": "stdout",
     "output_type": "stream",
     "text": [
      "[0, 4, 16, 36, 64]\n"
     ]
    }
   ],
   "source": [
    "# This cell is an example of what will be done more efficiently\n",
    "# with list comprehensions below\n",
    "\n",
    "# squaring a list of even numbers:\n",
    "\n",
    "# put them all in a list\n",
    "mylist = []\n",
    "for x in range(0, 10):\n",
    "    if x%2==0:   # if x is even\n",
    "        mylist += [x**2]\n",
    "    \n",
    "print(mylist)    "
   ]
  },
  {
   "cell_type": "code",
   "execution_count": 61,
   "metadata": {
    "collapsed": false
   },
   "outputs": [
    {
     "data": {
      "text/plain": [
       "[0, 1, 4, 9, 16]"
      ]
     },
     "execution_count": 61,
     "metadata": {},
     "output_type": "execute_result"
    }
   ],
   "source": [
    "# produce a list of square numbers that are even\n",
    "\n",
    "def iseven(y):\n",
    "    if y%2==0:\n",
    "        return True\n",
    "    else:\n",
    "        return False\n",
    "\n",
    "x=2\n",
    "[a**2 for a in range(0,5) if iseven(x)]"
   ]
  },
  {
   "cell_type": "code",
   "execution_count": 54,
   "metadata": {
    "collapsed": false
   },
   "outputs": [
    {
     "data": {
      "text/plain": [
       "[0, 1, 2000, 3, 4000, 5, 6000, 7, 8000, 9]"
      ]
     },
     "execution_count": 54,
     "metadata": {},
     "output_type": "execute_result"
    }
   ],
   "source": [
    "# if a number in a list is even, then multiply it by 1000, otherwise leave it alone\n",
    "\n",
    "[x*1000 if x%2==0 else x  for x in range (0, 10)]"
   ]
  },
  {
   "cell_type": "markdown",
   "metadata": {},
   "source": [
    "### note that you can turn strings into lists and back again (this'll be useful for the exercises this afternoon)"
   ]
  },
  {
   "cell_type": "code",
   "execution_count": 62,
   "metadata": {
    "collapsed": false
   },
   "outputs": [
    {
     "name": "stdout",
     "output_type": "stream",
     "text": [
      "sl =  ['t', 'h', 'i', 's', ' ', 'i', 's', ' ', 'm', 'y', ' ', 's', 't', 'r', 'i', 'n', 'g']\n"
     ]
    }
   ],
   "source": [
    "s = \"this is my string\"\n",
    "# turn it into a list\n",
    "slist = list(s)\n",
    "print(\"sl = \", slist)"
   ]
  },
  {
   "cell_type": "code",
   "execution_count": 64,
   "metadata": {
    "collapsed": false
   },
   "outputs": [
    {
     "data": {
      "text/plain": [
       "['thi', ' i', ' my ', 'tring']"
      ]
     },
     "execution_count": 64,
     "metadata": {},
     "output_type": "execute_result"
    }
   ],
   "source": [
    "s.split('s')"
   ]
  },
  {
   "cell_type": "code",
   "execution_count": 68,
   "metadata": {
    "collapsed": false
   },
   "outputs": [
    {
     "name": "stdout",
     "output_type": "stream",
     "text": [
      "['t', 'h', 'i', 's', ' ', 'i', 's', ' ', 'm', 'y', ' ', 's', 't', 'r', 'i', 'n', 'g']\n",
      "s2 =  this is my string\n"
     ]
    },
    {
     "data": {
      "text/plain": [
       "'0.12'"
      ]
     },
     "execution_count": 68,
     "metadata": {},
     "output_type": "execute_result"
    }
   ],
   "source": [
    "print(slist)\n",
    "s2 = \"\".join(slist)\n",
    "print(\"s2 = \", s2)\n",
    "\n",
    "\"{:.02f}\".format(0.12345)"
   ]
  },
  {
   "cell_type": "code",
   "execution_count": 66,
   "metadata": {
    "collapsed": false
   },
   "outputs": [
    {
     "name": "stdout",
     "output_type": "stream",
     "text": [
      "s3 =  t-- h-- i-- s--  -- i-- s--  -- m-- y--  -- s-- t-- r-- i-- n-- g\n"
     ]
    }
   ],
   "source": [
    "s3 = \"-- \".join(slist)\n",
    "print(\"s3 = \", s3)"
   ]
  },
  {
   "cell_type": "markdown",
   "metadata": {},
   "source": [
    "### o.k., back to list comprehensions"
   ]
  },
  {
   "cell_type": "code",
   "execution_count": 77,
   "metadata": {
    "collapsed": false
   },
   "outputs": [
    {
     "name": "stdout",
     "output_type": "stream",
     "text": [
      "[0, 2, 4, 1000, 1002, 1004, 2000, 2002, 2004]\n",
      "[0, 2, 4, 1000, 1002, 1004, 2000, 2002, 2004]\n"
     ]
    }
   ],
   "source": [
    "# you can have more than variable running over an iterable\n",
    "\n",
    "print([x*1000+y for x in range(0,3) for y in range(0,5) if (x*1000+y)%2==0])\n",
    "\n",
    "# equivalent code:\n",
    "mylist = []\n",
    "for x in range(0,3):\n",
    "    for y in range(0,5):\n",
    "        if (x*1000+y)%2==0:\n",
    "            mylist += [x*1000+y]\n",
    "            \n",
    "print(mylist)            "
   ]
  },
  {
   "cell_type": "code",
   "execution_count": 72,
   "metadata": {
    "collapsed": false
   },
   "outputs": [
    {
     "data": {
      "text/plain": [
       "[[0, 0],\n",
       " [0, 1],\n",
       " [0, 2],\n",
       " [0, 3],\n",
       " [1, 0],\n",
       " [1, 1],\n",
       " [1, 2],\n",
       " [1, 3],\n",
       " [2, 0],\n",
       " [2, 1],\n",
       " [2, 2],\n",
       " [2, 3],\n",
       " [3, 0],\n",
       " [3, 1],\n",
       " [3, 2],\n",
       " [3, 3]]"
      ]
     },
     "execution_count": 72,
     "metadata": {},
     "output_type": "execute_result"
    }
   ],
   "source": [
    "# and the expression that determines each item in the final list can be a list itself\n",
    "\n",
    "[[x, y] for x in range(0, 4) for y in range(0, 4)]   # not the same, but comparable to meshgrid() in Matlab"
   ]
  },
  {
   "cell_type": "code",
   "execution_count": 82,
   "metadata": {
    "collapsed": false
   },
   "outputs": [
    {
     "name": "stdout",
     "output_type": "stream",
     "text": [
      "[[[0, 0], [1, 0], [2, 0]], [[0, 1], [1, 1], [2, 1]], [[0, 2], [1, 2], [2, 2]]]\n"
     ]
    }
   ],
   "source": [
    "# Let's make a square array -- a list on N items in which each item is itself an N-long list (of numbers)\n",
    "\n",
    "N=3\n",
    "\n",
    "print([[[x,y] for x in range(0, N)] for y in range(0, N)])\n",
    "\n",
    "\n",
    "# exercise: write the equivalent code:\n"
   ]
  },
  {
   "cell_type": "code",
   "execution_count": 83,
   "metadata": {
    "collapsed": false
   },
   "outputs": [
    {
     "data": {
      "text/plain": [
       "[[0, 0, 0], [0, 0, 0], [0, 0, 0]]"
      ]
     },
     "execution_count": 83,
     "metadata": {},
     "output_type": "execute_result"
    }
   ],
   "source": [
    "[[0 for x in range(0, N)] for y in range(0, N)]"
   ]
  },
  {
   "cell_type": "code",
   "execution_count": 84,
   "metadata": {
    "collapsed": false
   },
   "outputs": [
    {
     "data": {
      "image/png": "[encoded data removed]",
      "text/plain": [
       "<matplotlib.figure.Figure at 0x10e09f1d0>"
      ]
     },
     "metadata": {},
     "output_type": "display_data"
    }
   ],
   "source": [
    "import matplotlib.pyplot as plt\n",
    "\n",
    "M = [[0 for x in range(0, N)] for y in range(0, N)]\n",
    "h = plt.imshow(M, interpolation=\"none\")"
   ]
  },
  {
   "cell_type": "code",
   "execution_count": 85,
   "metadata": {
    "collapsed": false
   },
   "outputs": [
    {
     "data": {
      "text/plain": [
       "[<matplotlib.axis.YTick at 0x1109b2f60>,\n",
       " <matplotlib.axis.YTick at 0x1109b2eb8>,\n",
       " <matplotlib.axis.YTick at 0x1109ba0b8>]"
      ]
     },
     "execution_count": 85,
     "metadata": {},
     "output_type": "execute_result"
    },
    {
     "data": {
      "image/png": "[encoded data removed]",
      "text/plain": [
       "<matplotlib.figure.Figure at 0x10e09f6d8>"
      ]
     },
     "metadata": {},
     "output_type": "display_data"
    }
   ],
   "source": [
    "h = plt.imshow([[0 for x in range(0, N)] for y in range(0, N)], interpolation=\"none\")\n",
    "\n",
    "plt.axis([0, N-1, 0, N-1])\n",
    "ax = h.axes\n",
    "ax.set_xticks(range(0, N))\n",
    "ax.set_yticks(range(0, N))"
   ]
  },
  {
   "cell_type": "code",
   "execution_count": 87,
   "metadata": {
    "collapsed": false
   },
   "outputs": [
    {
     "data": {
      "image/png": "[encoded data removed]",
      "text/plain": [
       "<matplotlib.figure.Figure at 0x110a939e8>"
      ]
     },
     "metadata": {},
     "output_type": "display_data"
    }
   ],
   "source": [
    "# now let's try to draw a ring:\n",
    "\n",
    "import numpy as np\n",
    "import matplotlib.pyplot as plt\n",
    "\n",
    "# z = [[0 for x in range(0, 100)] for y in range(0,100)]\n",
    "\n",
    "def myring(x,y):\n",
    "    r = np.sqrt((x-50)**2+(y-50)**2)   # this is the distance w.r.t (50, 50)\n",
    "    if  r<20 and r>15:\n",
    "        return 1\n",
    "    else:\n",
    "        return 0\n",
    "\n",
    "z = [ [myring(x,y) for x in range(0, 100)] for y in range(0, 100)]    \n",
    "    \n",
    "# equivalent code in list comprehension    \n",
    "# z = [ [1 if np.sqrt((x-50)**2+(y-50)**2) <20 and np.sqrt((x-50)**2+(y-50)**2)>15 \n",
    "#         else 0 for x in range(0, 100)] for y in range(0, 100)]\n",
    "\n",
    "h = plt.imshow(z, interpolation=\"none\")\n"
   ]
  },
  {
   "cell_type": "markdown",
   "metadata": {},
   "source": [
    "---\n",
    "# Modules\n",
    "modular programming"
   ]
  },
  {
   "cell_type": "markdown",
   "metadata": {},
   "source": [
    "## modules"
   ]
  },
  {
   "cell_type": "markdown",
   "metadata": {},
   "source": [
    "Modules let you collect all of your functions in a centralized location, so that you can apply the \"rule of two\" across multiple files.\n",
    "\n",
    "*Make sure the module you're trying to import (i.e. `myModule.py`) is in the same folder as your notebook!*\n",
    "\n",
    "You can import specific functions or variables into your namespace:"
   ]
  },
  {
   "cell_type": "code",
   "execution_count": 89,
   "metadata": {
    "collapsed": false
   },
   "outputs": [
    {
     "name": "stdout",
     "output_type": "stream",
     "text": [
      "18\n",
      "3.141569\n"
     ]
    },
    {
     "ename": "NameError",
     "evalue": "name 'james' is not defined",
     "output_type": "error",
     "traceback": [
      "\u001b[0;31m---------------------------------------------------------------------------\u001b[0m",
      "\u001b[0;31mNameError\u001b[0m                                 Traceback (most recent call last)",
      "\u001b[0;32m<ipython-input-89-8a92504214bf>\u001b[0m in \u001b[0;36m<module>\u001b[0;34m()\u001b[0m\n\u001b[1;32m      3\u001b[0m \u001b[0mprint\u001b[0m\u001b[0;34m(\u001b[0m\u001b[0mf\u001b[0m\u001b[0;34m(\u001b[0m\u001b[0;36m3\u001b[0m\u001b[0;34m)\u001b[0m\u001b[0;34m)\u001b[0m\u001b[0;34m\u001b[0m\u001b[0m\n\u001b[1;32m      4\u001b[0m \u001b[0mprint\u001b[0m\u001b[0;34m(\u001b[0m\u001b[0mpi\u001b[0m\u001b[0;34m)\u001b[0m\u001b[0;34m\u001b[0m\u001b[0m\n\u001b[0;32m----> 5\u001b[0;31m \u001b[0mprint\u001b[0m\u001b[0;34m(\u001b[0m\u001b[0mjames\u001b[0m\u001b[0;34m)\u001b[0m\u001b[0;34m\u001b[0m\u001b[0m\n\u001b[0m",
      "\u001b[0;31mNameError\u001b[0m: name 'james' is not defined"
     ]
    }
   ],
   "source": [
    "from myModule import f, pi\n",
    "\n",
    "print(f(3))\n",
    "print(pi)\n",
    "print(james)"
   ]
  },
  {
   "cell_type": "markdown",
   "metadata": {},
   "source": [
    "You can also choose to import *everything* in a module:"
   ]
  },
  {
   "cell_type": "code",
   "execution_count": null,
   "metadata": {
    "collapsed": false
   },
   "outputs": [],
   "source": [
    "# %load_ext autoreload\n",
    "%autoreload\n",
    "\n",
    "from myModule import *"
   ]
  },
  {
   "cell_type": "markdown",
   "metadata": {},
   "source": [
    "Or you can import the whole module and the functions and variables are available as sub-parts"
   ]
  },
  {
   "cell_type": "code",
   "execution_count": 91,
   "metadata": {
    "collapsed": false
   },
   "outputs": [
    {
     "name": "stdout",
     "output_type": "stream",
     "text": [
      "18\n",
      "3.141569\n",
      "Still here!\n",
      "\n"
     ]
    }
   ],
   "source": [
    "def f():\n",
    "    print(\"Still here!\\n\")\n",
    "    \n",
    "    \n",
    "import myModule\n",
    "\n",
    "print(myModule.f(3))\n",
    "print(myModule.pi)\n",
    "\n",
    "f()"
   ]
  },
  {
   "cell_type": "code",
   "execution_count": null,
   "metadata": {
    "collapsed": false
   },
   "outputs": [],
   "source": [
    "import myModule as mod\n",
    "\n",
    "print(mod.f(3))\n",
    "print(mod.pi)\n",
    "mod.pi\n",
    "\n"
   ]
  },
  {
   "cell_type": "markdown",
   "metadata": {},
   "source": [
    "### example: remember the turtle module from yesterday?"
   ]
  },
  {
   "cell_type": "code",
   "execution_count": null,
   "metadata": {
    "collapsed": true
   },
   "outputs": [],
   "source": [
    "%matplotlib inline\n",
    "\n",
    "from turtle import Turtle   # This is your first example of importing a \"module\" \n",
    "                            #     -- we'll talk about those more tomorrow\n",
    "turtle = Turtle()           # and this is your first example of using an \"object\" \n",
    "                            #     -- again, more about those more tomorrow\n",
    "\n",
    "turtle.move(80)\n",
    "turtle.turn(45)\n",
    "turtle.move(80)\n",
    "turtle.set_color([1, 0, 1])\n",
    "turtle.turn(45)\n",
    "turtle.move(80)\n",
    "\n",
    "\n"
   ]
  },
  {
   "cell_type": "code",
   "execution_count": 93,
   "metadata": {
    "collapsed": false
   },
   "outputs": [
    {
     "data": {
      "text/plain": [
       "[1, 0, 0, 0, 61]"
      ]
     },
     "execution_count": 93,
     "metadata": {},
     "output_type": "execute_result"
    }
   ],
   "source": [
    "import numpy as np   # import the numerical package\n",
    "import matplotlib.pyplot as plt   # this a particular plotting module from the matplotlib package\n",
    "\n",
    "# help(np)\n",
    "\n",
    "z = np.array([1, 2, 40, 50, 61])\n",
    "\n",
    "[0 if x%2==0 else x for x in z]\n"
   ]
  },
  {
   "cell_type": "markdown",
   "metadata": {},
   "source": [
    "## documentation"
   ]
  },
  {
   "cell_type": "markdown",
   "metadata": {},
   "source": [
    "You can use\n",
    "\n",
    "    help()\n",
    "    \n",
    "or \n",
    "    ?\n",
    "    \n",
    "or, in Jupyter, *Shift* + *Tab* to get information about the module and its functions through the \"doc string\"s that you wrote. (Of course you wrote them! Long, clear, and detailed, right?)"
   ]
  },
  {
   "cell_type": "code",
   "execution_count": null,
   "metadata": {
    "collapsed": true
   },
   "outputs": [],
   "source": [
    "mod.f?    # like pressing Shift + Tab*3\n",
    "help(mod.f)\n",
    "help(mod)"
   ]
  },
  {
   "cell_type": "markdown",
   "metadata": {},
   "source": [
    "In the Jupyter notebook, when the cursor is inside the function parentheses, press `Tab` to get a reminder of parameter names."
   ]
  },
  {
   "cell_type": "code",
   "execution_count": null,
   "metadata": {
    "collapsed": false
   },
   "outputs": [],
   "source": [
    "mod.f(10, a=4)"
   ]
  },
  {
   "cell_type": "markdown",
   "metadata": {},
   "source": [
    "## updating"
   ]
  },
  {
   "cell_type": "markdown",
   "metadata": {},
   "source": [
    "After making changes to a module, you either need to restart the notebook or `reload` the module\n",
    "\n",
    "The `%[command]` syntax is for *magic* commands, a feature of IPython. `%autoreload` is just one of many useful magic commands -- you can find a list and documentation on all IPython magic commands [here](http://ipython.readthedocs.io/en/stable/interactive/magics.html)"
   ]
  },
  {
   "cell_type": "code",
   "execution_count": null,
   "metadata": {
    "collapsed": false
   },
   "outputs": [],
   "source": [
    "# %load_ext autoreload  # We only need to do this one; the %autoreload magic command will then be available\n",
    "%autoreload\n",
    "\n",
    "import myModule as mod\n",
    "\n",
    "mod.james\n"
   ]
  },
  {
   "cell_type": "markdown",
   "metadata": {},
   "source": [
    "---\n",
    "# Packages\n",
    "big projects, sharing code"
   ]
  },
  {
   "cell_type": "markdown",
   "metadata": {},
   "source": [
    "## packages"
   ]
  },
  {
   "cell_type": "markdown",
   "metadata": {},
   "source": [
    "* collections of modules\n",
    "* cross-language integration\n",
    "* distribution"
   ]
  },
  {
   "cell_type": "markdown",
   "metadata": {},
   "source": [
    "## distribution"
   ]
  },
  {
   "cell_type": "markdown",
   "metadata": {},
   "source": [
    "From simplest to most complicated:\n",
    "1. Anaconda: `conda install [package]`\n",
    "2. PIP / PyPI: `pip install [package]`\n",
    "3. GitHub / Git: `git clone [package]`"
   ]
  },
  {
   "cell_type": "markdown",
   "metadata": {},
   "source": [
    "---\n",
    "# Plotting"
   ]
  },
  {
   "cell_type": "markdown",
   "metadata": {},
   "source": [
    "## matplotlib"
   ]
  },
  {
   "cell_type": "markdown",
   "metadata": {},
   "source": [
    "Plotting in Python is done through the `pyplot` module in the `matplotlib` package. More on models and packages later. For know, just know that, to use this functionality, you'll need to run the following commands in any notebook that uses this for plotting. "
   ]
  },
  {
   "cell_type": "code",
   "execution_count": 94,
   "metadata": {
    "collapsed": false
   },
   "outputs": [],
   "source": [
    "# this line is ALWAYS needed for plotting\n",
    "from matplotlib import pyplot as plt\n",
    "\n",
    "# this line is needed to embed the plots in the notebook\n",
    "%matplotlib inline"
   ]
  },
  {
   "cell_type": "code",
   "execution_count": 112,
   "metadata": {
    "collapsed": false
   },
   "outputs": [
    {
     "data": {
      "text/plain": [
       "[<matplotlib.lines.Line2D at 0x112fa9b00>]"
      ]
     },
     "execution_count": 112,
     "metadata": {},
     "output_type": "execute_result"
    },
    {
     "data": {
      "image/png": "[encoded data removed]",
      "text/plain": [
       "<matplotlib.figure.Figure at 0x112b96dd8>"
      ]
     },
     "metadata": {},
     "output_type": "display_data"
    }
   ],
   "source": [
    "# The following line makes plots show up within the notebook\n",
    "%matplotlib inline\n",
    "\n",
    "# Now lets import the plotting module from the package matplotlib\n",
    "from matplotlib import pyplot as plt\n",
    "\n",
    "# And lets import the numerical package\n",
    "import numpy as np\n",
    "\n",
    "ncycles = 4\n",
    "# produce a vector whose elements start at 0, go to 2*np.pi*ncycles in steps of pi/10\n",
    "t = np.arange(0, 2*np.pi*ncycles, np.pi/10)\n",
    "# print(t)\n",
    "\n",
    "plt.plot(t, np.sin(t), 'gv-')\n",
    "# plt.plot  takes a vector of x positions and a same-length vector of y positions,\n",
    "# and plots dots in order: x[0],y[0]  then x[1],y[1]   then x[2],y[2]"
   ]
  },
  {
   "cell_type": "code",
   "execution_count": 103,
   "metadata": {
    "collapsed": false
   },
   "outputs": [
    {
     "name": "stdout",
     "output_type": "stream",
     "text": [
      "[ 0.          0.29552021  0.56464247]\n"
     ]
    }
   ],
   "source": [
    "t = np.array([0, 0.3, 0.6])\n",
    "print(np.sin(t))"
   ]
  },
  {
   "cell_type": "code",
   "execution_count": null,
   "metadata": {
    "collapsed": false
   },
   "outputs": [],
   "source": [
    "# The following alternative line uses the dafault \"plotting back end\" on your computer\n",
    "# You might need to restart the kernel and clear outputs if you want to switch to this external plotting form\n",
    "%matplotlib\n",
    "\n",
    "# Now lets import the plotting module from the package matplotlib\n",
    "from matplotlib import pyplot as plt\n",
    "\n",
    "# And lets import the numerical package\n",
    "import numpy as np\n",
    "\n",
    "ncycles = 4\n",
    "t = np.arange(0, 2*np.pi*ncycles, np.pi/10)\n",
    "plt.plot(t, np.sin(t), 'ro-')\n"
   ]
  },
  {
   "cell_type": "markdown",
   "metadata": {},
   "source": [
    "## Plotting single points"
   ]
  },
  {
   "cell_type": "markdown",
   "metadata": {},
   "source": [
    "First let's plot a single point\n",
    "\n",
    "`plt.plot(x, y, format_str)`\n",
    "- `x`: x coordinate\n",
    "- `y`: y coordinate\n",
    "- `format_str`: formatting string"
   ]
  },
  {
   "cell_type": "code",
   "execution_count": null,
   "metadata": {
    "collapsed": false
   },
   "outputs": [],
   "source": [
    "plt.plot(2, 3, 'o')"
   ]
  },
  {
   "cell_type": "markdown",
   "metadata": {},
   "source": [
    "We can change the shape of the marker with the format string\n",
    "*Note:* The semicolon at the end of the plotting command surpresses the output of the name of the plotting object (e.g. *[< matplotlib.lines.Line2D at 0x10fe4da58>]*, as seen above), but not the plot itself"
   ]
  },
  {
   "cell_type": "code",
   "execution_count": null,
   "metadata": {
    "collapsed": false
   },
   "outputs": [],
   "source": [
    "plt.plot(2, 3, '^');"
   ]
  },
  {
   "cell_type": "markdown",
   "metadata": {},
   "source": [
    "We can also specify a color in the format string"
   ]
  },
  {
   "cell_type": "code",
   "execution_count": null,
   "metadata": {
    "collapsed": false
   },
   "outputs": [],
   "source": [
    "plt.plot(2, 3, 'or');"
   ]
  },
  {
   "cell_type": "markdown",
   "metadata": {},
   "source": [
    "We can plot multiple points by plotting multiple times"
   ]
  },
  {
   "cell_type": "code",
   "execution_count": null,
   "metadata": {
    "collapsed": false
   },
   "outputs": [],
   "source": [
    "plt.plot(1, 2, 'ro');\n",
    "plt.plot(2, 3, 'ro');\n",
    "plt.plot(3, 4, 'ro');"
   ]
  },
  {
   "cell_type": "markdown",
   "metadata": {},
   "source": [
    "As you can see, PyPlot doesn't always pick the best defualt values for the ranges of the x- and y-axes. We can set them by hand."
   ]
  },
  {
   "cell_type": "code",
   "execution_count": null,
   "metadata": {
    "collapsed": false
   },
   "outputs": [],
   "source": [
    "plt.plot(1, 2, 'ro');\n",
    "plt.plot(2, 3, 'ro');\n",
    "plt.plot(3, 4, 'ro');\n",
    "\n",
    "plt.xlim([0, 5]);\n",
    "plt.ylim([0, 5]);"
   ]
  },
  {
   "cell_type": "markdown",
   "metadata": {},
   "source": [
    "## Plotting lines"
   ]
  },
  {
   "cell_type": "markdown",
   "metadata": {},
   "source": [
    "To plot a line, make `x` and `y` into a `list` of coordinate values"
   ]
  },
  {
   "cell_type": "code",
   "execution_count": null,
   "metadata": {
    "collapsed": false
   },
   "outputs": [],
   "source": [
    "plt.plot([0, 1, 2], [0, 1, 4], 'r')"
   ]
  },
  {
   "cell_type": "markdown",
   "metadata": {},
   "source": [
    "If we include marker shape in the format string, we can make our previous plot this way"
   ]
  },
  {
   "cell_type": "code",
   "execution_count": null,
   "metadata": {
    "collapsed": false
   },
   "outputs": [],
   "source": [
    "plt.plot([1, 2, 3], [2, 3, 4], 'ro');\n",
    "plt.xlim([0, 5]);\n",
    "plt.ylim([0, 5]);"
   ]
  },
  {
   "cell_type": "markdown",
   "metadata": {},
   "source": [
    "We can also do both points and lines"
   ]
  },
  {
   "cell_type": "code",
   "execution_count": null,
   "metadata": {
    "collapsed": false
   },
   "outputs": [],
   "source": [
    "plt.plot([1, 2, 3], [2, 3, 4], 'ro-');\n",
    "plt.xlim([0, 5]);\n",
    "plt.ylim([0, 5]);"
   ]
  },
  {
   "cell_type": "markdown",
   "metadata": {},
   "source": [
    "### plotting separate vertical lines"
   ]
  },
  {
   "cell_type": "code",
   "execution_count": 119,
   "metadata": {
    "collapsed": false
   },
   "outputs": [
    {
     "name": "stdout",
     "output_type": "stream",
     "text": [
      "The length of h is  2\n"
     ]
    },
    {
     "data": {
      "image/png": "[encoded data removed]",
      "text/plain": [
       "<matplotlib.figure.Figure at 0x1133aa5c0>"
      ]
     },
     "metadata": {},
     "output_type": "display_data"
    }
   ],
   "source": [
    "h = plt.plot([[1,2], [1,2]], [[2,2], [3,3]], 'r-')\n",
    "# plot returns not axes (like imshow did) but a list of lines \n",
    "\n",
    "ax = h[0].axes\n",
    "ax.set_xticks(range(0, 4))\n",
    "ax.set_yticks(range(0, 5))\n",
    "\n",
    "print(\"The length of h is \", len(h))"
   ]
  },
  {
   "cell_type": "markdown",
   "metadata": {},
   "source": [
    "## Additional formatting"
   ]
  },
  {
   "cell_type": "markdown",
   "metadata": {},
   "source": [
    "It's always important to label your axes!"
   ]
  },
  {
   "cell_type": "code",
   "execution_count": null,
   "metadata": {
    "collapsed": false
   },
   "outputs": [],
   "source": [
    "plt.plot([1, 2, 3], [2, 3, 4], 'ro-');\n",
    "plt.xlim([0, 5]);\n",
    "plt.ylim([0, 5]);\n",
    "\n",
    "plt.xlabel('input');\n",
    "plt.ylabel('output');"
   ]
  },
  {
   "cell_type": "markdown",
   "metadata": {},
   "source": [
    "Nearly every aspect of these plots is editable -- titles, fonts, colors, tick marks, etc, etc. Google is your best friend for figuring out how to change these features."
   ]
  },
  {
   "cell_type": "markdown",
   "metadata": {},
   "source": [
    "## Multiple Plots"
   ]
  },
  {
   "cell_type": "markdown",
   "metadata": {},
   "source": [
    "Let's make two different sets of data to play with."
   ]
  },
  {
   "cell_type": "code",
   "execution_count": 113,
   "metadata": {
    "collapsed": false
   },
   "outputs": [
    {
     "name": "stdout",
     "output_type": "stream",
     "text": [
      "x: [0, 1, 2, 3, 4, 5]\n",
      "y1: [0, 4, 8, 12, 16, 20]\n",
      "y2: [0, 1, 4, 9, 16, 25]\n"
     ]
    }
   ],
   "source": [
    "x = range(6)\n",
    "\n",
    "# y = 4*x\n",
    "y1 = []\n",
    "for val in x:\n",
    "    y1 += [4*val]\n",
    "    \n",
    "# y = x**2\n",
    "y2 = []\n",
    "for val in x:\n",
    "    y2 += [val**2]\n",
    "    \n",
    "print(\"x:\", list(x))\n",
    "print(\"y1:\", y1)\n",
    "print(\"y2:\", y2)"
   ]
  },
  {
   "cell_type": "markdown",
   "metadata": {},
   "source": [
    "One way of comparing these two trends is to plot them on top of each other"
   ]
  },
  {
   "cell_type": "code",
   "execution_count": 116,
   "metadata": {
    "collapsed": false
   },
   "outputs": [
    {
     "data": {
      "text/plain": [
       "<matplotlib.text.Text at 0x11314f0b8>"
      ]
     },
     "execution_count": 116,
     "metadata": {},
     "output_type": "execute_result"
    },
    {
     "data": {
      "image/png": "[encoded data removed]",
      "text/plain": [
       "<matplotlib.figure.Figure at 0x111ecf9b0>"
      ]
     },
     "metadata": {},
     "output_type": "display_data"
    }
   ],
   "source": [
    "plt.plot(x, y1, 'r');\n",
    "plt.plot(x, y2, 'b');\n",
    "plt.xlabel('x axis')\n",
    "plt.ylabel('y label is here')"
   ]
  },
  {
   "cell_type": "markdown",
   "metadata": {},
   "source": [
    "Another approach is to use two subplots"
   ]
  },
  {
   "cell_type": "code",
   "execution_count": 118,
   "metadata": {
    "collapsed": false
   },
   "outputs": [
    {
     "data": {
      "image/png": "[encoded data removed]",
      "text/plain": [
       "<matplotlib.figure.Figure at 0x11332bf98>"
      ]
     },
     "metadata": {},
     "output_type": "display_data"
    }
   ],
   "source": [
    "plt.subplot(1, 2, 1) # 1 row, 2 columns, 1st subplot\n",
    "plt.plot(x, y1, 'r');\n",
    "plt.plot(x, y2, 'b');\n",
    "plt.ylim([0, 25]);\n",
    "\n",
    "plt.subplot(1, 2, 2) # 1 row, 2 columns, 2nd subplot\n",
    "plt.plot(x, y2, 'b');\n",
    "plt.ylim([0, 25]);"
   ]
  },
  {
   "cell_type": "markdown",
   "metadata": {},
   "source": [
    "## Advanced Examples -- aka Eye Candy"
   ]
  },
  {
   "cell_type": "markdown",
   "metadata": {},
   "source": [
    "Don't pay too much attention to the actual implementation quite yet, this is just to show you some examples of different types of plots!\n",
    "\n",
    "Histograms"
   ]
  },
  {
   "cell_type": "code",
   "execution_count": 120,
   "metadata": {
    "collapsed": true
   },
   "outputs": [],
   "source": [
    "from pylab import *"
   ]
  },
  {
   "cell_type": "code",
   "execution_count": 121,
   "metadata": {
    "collapsed": false
   },
   "outputs": [
    {
     "data": {
      "image/png": "[encoded data removed]",
      "text/plain": [
       "<matplotlib.figure.Figure at 0x112f08c88>"
      ]
     },
     "metadata": {},
     "output_type": "display_data"
    }
   ],
   "source": [
    "import numpy as np\n",
    "import numpy.random\n",
    "x = numpy.random.normal(size=10000)\n",
    "plt.hist(x, bins=np.linspace(-4,4,31));\n",
    "plt.xlabel('x');\n",
    "plt.ylabel('Counts');"
   ]
  },
  {
   "cell_type": "markdown",
   "metadata": {},
   "source": [
    "contour plots"
   ]
  },
  {
   "cell_type": "code",
   "execution_count": 122,
   "metadata": {
    "collapsed": false
   },
   "outputs": [
    {
     "data": {
      "text/plain": [
       "(-1, 1)"
      ]
     },
     "execution_count": 122,
     "metadata": {},
     "output_type": "execute_result"
    },
    {
     "data": {
      "image/png": "[encoded data removed]",
      "text/plain": [
       "<matplotlib.figure.Figure at 0x1138369b0>"
      ]
     },
     "metadata": {},
     "output_type": "display_data"
    }
   ],
   "source": [
    "dx = 0.02\n",
    "dy = 0.02\n",
    "x = arange(-1,1+dx,dx)\n",
    "y = arange(-1,1+dy,dy)\n",
    "X, Y = meshgrid(x,y)\n",
    "\n",
    "Z = exp((-X**2-Y**2-X*Y)/0.5)\n",
    "Z = Z[:-1,:-1]\n",
    "pcolor(X,Y,Z)\n",
    "xlim(-1,1)\n",
    "ylim(-1,1)"
   ]
  },
  {
   "cell_type": "markdown",
   "metadata": {},
   "source": [
    "A heart in 3D"
   ]
  },
  {
   "cell_type": "code",
   "execution_count": 123,
   "metadata": {
    "collapsed": false
   },
   "outputs": [
    {
     "data": {
      "image/png": "[encoded data removed]",
      "text/plain": [
       "<matplotlib.figure.Figure at 0x1134ece80>"
      ]
     },
     "metadata": {},
     "output_type": "display_data"
    }
   ],
   "source": [
    "from mpl_toolkits.mplot3d import Axes3D\n",
    "\n",
    "def heart_3d(x,y,z):\n",
    "    return (x**2+(9/4)*y**2+z**2-1)**3-x**2*z**3-(9/80)*y**2*z**3\n",
    "def plot_implicit(fn, bbox=(-1.5,1.5)):\n",
    "    ''' create a plot of an implicit function\n",
    "    fn  ...implicit function (plot where fn==0)\n",
    "    bbox ..the x,y,and z limits of plotted interval'''\n",
    "    xmin, xmax, ymin, ymax, zmin, zmax = bbox*3\n",
    "    fig = figure()\n",
    "    ax = fig.add_subplot(111, projection='3d')\n",
    "    A = linspace(xmin, xmax, 100) # resolution of the contour\n",
    "    B = linspace(xmin, xmax, 100) # number of slices\n",
    "    A1,A2 = meshgrid(A,A) # grid on which the contour is plotted\n",
    "    for z in B: # plot contours in the XY plane\n",
    "        X,Y = A1,A2\n",
    "        Z = fn(X,Y,z)\n",
    "        cset = ax.contour(X, Y, Z+z, [z], zdir='z',colors=('r',))\n",
    "        # [z] defines the only level to plot for this contour for this value of z\n",
    "    for y in B: # plot contours in the XZ plane\n",
    "        X,Z = A1,A2\n",
    "        Y = fn(X,y,Z)\n",
    "        cset = ax.contour(X, Y+y, Z, [y], zdir='y',colors=('red',))\n",
    "    for x in B: # plot contours in the YZ plane\n",
    "        Y,Z = A1,A2\n",
    "        X = fn(x,Y,Z)\n",
    "        cset = ax.contour(X+x, Y, Z, [x], zdir='x',colors=('red',))\n",
    "    # must set plot limits because the contour will likely extend\n",
    "    # way beyond the displayed level.  Otherwise matplotlib extends the plot limits\n",
    "    # to encompass all values in the contour.\n",
    "    ax.set_zlim3d(zmin,zmax)\n",
    "    ax.set_xlim3d(xmin,xmax)\n",
    "    ax.set_ylim3d(ymin,ymax)\n",
    "    show()\n",
    "\n",
    "plot_implicit(heart_3d)\n",
    "# credit: http://bytesizebio.net/2013/02/16/a-belated-valentines-day-post/"
   ]
  },
  {
   "cell_type": "markdown",
   "metadata": {},
   "source": [
    "## NumPy"
   ]
  },
  {
   "cell_type": "markdown",
   "metadata": {},
   "source": [
    "NumPy is probably the package you will use the most, as it is \"the fundamental package for scientific computing with Python\"\n",
    "\n",
    "A NumPy `ndarray` is a multi-dimensional array -- i.e. like a list, but with multiple indices and every element being of the same type. For example, a two-dimensional array is like a \"list of lists\" where each sub-list is required to be the same length."
   ]
  },
  {
   "cell_type": "code",
   "execution_count": 124,
   "metadata": {
    "collapsed": false
   },
   "outputs": [
    {
     "name": "stdout",
     "output_type": "stream",
     "text": [
      "[[1, 2, 3], [4, 5, 6], [7, 8, 9], [10, 11, 12]]\n",
      "<class 'list'>\n",
      "\n",
      "[[ 1  2  3]\n",
      " [ 4  5  6]\n",
      " [ 7  8  9]\n",
      " [10 11 12]]\n",
      "<class 'numpy.ndarray'>\n"
     ]
    }
   ],
   "source": [
    "import numpy as np\n",
    "\n",
    "l = [[1, 2, 3], [4, 5, 6], [7, 8, 9], [10, 11, 12]]\n",
    "print(l)\n",
    "print(type(l))\n",
    "\n",
    "print()\n",
    "\n",
    "a = np.array(l)\n",
    "print(a)\n",
    "print(type(a))"
   ]
  },
  {
   "cell_type": "markdown",
   "metadata": {},
   "source": [
    "Arrays have nice element-wise behavior under basic arithmetic operations. This allows us to avoid needing to write loops."
   ]
  },
  {
   "cell_type": "code",
   "execution_count": null,
   "metadata": {
    "collapsed": false
   },
   "outputs": [],
   "source": [
    "a = [0, 1, 2]\n",
    "print(a)\n",
    "\n",
    "for i in range(3):\n",
    "    a[i] *= 2\n",
    "\n",
    "print(a)"
   ]
  },
  {
   "cell_type": "code",
   "execution_count": 126,
   "metadata": {
    "collapsed": false
   },
   "outputs": [
    {
     "name": "stdout",
     "output_type": "stream",
     "text": [
      "[0 1 2]\n",
      "[3 5 7]\n"
     ]
    }
   ],
   "source": [
    "a = np.arange(3)\n",
    "print(a)\n",
    "print(2*a + 3)"
   ]
  },
  {
   "cell_type": "code",
   "execution_count": null,
   "metadata": {
    "collapsed": false
   },
   "outputs": [],
   "source": [
    "print(a + a)\n",
    "print(a - a)\n",
    "print(a * a)"
   ]
  },
  {
   "cell_type": "markdown",
   "metadata": {},
   "source": [
    "Most of all, we get linear algebra (matrix multiplication, etc)"
   ]
  },
  {
   "cell_type": "code",
   "execution_count": 127,
   "metadata": {
    "collapsed": false
   },
   "outputs": [
    {
     "name": "stdout",
     "output_type": "stream",
     "text": [
      "a = \n",
      " [[ 1  2  3]\n",
      " [ 4  5  6]\n",
      " [ 7  8  9]\n",
      " [10 11 12]]\n",
      "\n",
      "\n",
      "b = \n",
      " [[1]\n",
      " [2]\n",
      " [3]]\n",
      "c =  [[1 2 3]]\n",
      "\n",
      "a.dot(b) = \n",
      " [[14]\n",
      " [32]\n",
      " [50]\n",
      " [68]]\n",
      "\n",
      "another way to do matrix multiplication: a @ b = \n",
      " [[14]\n",
      " [32]\n",
      " [50]\n",
      " [68]]\n"
     ]
    }
   ],
   "source": [
    "l = [[1, 2, 3], [4, 5, 6], [7, 8, 9], [10, 11, 12]]\n",
    "a = np.array(l)\n",
    "print(\"a = \\n\", a)\n",
    "print(\"\\n\")      \n",
    "\n",
    "b = np.array([[1], [2], [3]])\n",
    "c = b.transpose()\n",
    "print(\"b = \\n\", b)\n",
    "print(\"c = \", c)\n",
    "\n",
    "\n",
    "print(\"\\na.dot(b) = \\n\", a.dot(b))\n",
    "\n",
    "print(\"\\nanother way to do matrix multiplication: a @ b = \\n\", a @ b)"
   ]
  },
  {
   "cell_type": "markdown",
   "metadata": {},
   "source": [
    "There are multiple ways to create useful arrays"
   ]
  },
  {
   "cell_type": "code",
   "execution_count": null,
   "metadata": {
    "collapsed": false
   },
   "outputs": [],
   "source": [
    "a = np.arange(2, 10, 2) # like range(), but with more complex options and retruns a numpy array instead of a list\n",
    "print(a)\n",
    "\n",
    "# for example, we can do non-integer steps"
   ]
  },
  {
   "cell_type": "code",
   "execution_count": null,
   "metadata": {
    "collapsed": false
   },
   "outputs": [],
   "source": [
    "print(a.shape)"
   ]
  },
  {
   "cell_type": "markdown",
   "metadata": {},
   "source": [
    "Initialize a matrix of a particular size to all zeros"
   ]
  },
  {
   "cell_type": "code",
   "execution_count": null,
   "metadata": {
    "collapsed": false
   },
   "outputs": [],
   "source": [
    "a = np.zeros((4, 1))\n",
    "print(a)"
   ]
  },
  {
   "cell_type": "markdown",
   "metadata": {},
   "source": [
    "# Indexing and slicing"
   ]
  },
  {
   "cell_type": "code",
   "execution_count": 134,
   "metadata": {
    "collapsed": false
   },
   "outputs": [
    {
     "name": "stdout",
     "output_type": "stream",
     "text": [
      "Initial version of a = \n",
      " [[ 0  1  2  3  4]\n",
      " [ 5  6  7  8  9]\n",
      " [10 11 12 13 14]\n",
      " [15 16 17 18 19]]\n",
      "\n",
      "Now a is\n",
      " [[   0    1    2    3    4]\n",
      " [   5    6    7    8    9]\n",
      " [  10   11   12 1000   14]\n",
      " [  15   16   17   18   19]]\n"
     ]
    }
   ],
   "source": [
    "a = np.arange(0, 20)\n",
    "# print(a)\n",
    "a  = a.reshape([4,5])\n",
    "\n",
    "print(\"Initial version of a = \\n\", a)\n",
    "\n",
    "# remember first element is 0!\n",
    "a[2,3]   # the 2-index row (3rd row because first position is index 0) and 3-index column\n",
    "\n",
    "\n",
    "a[2,3] = 1000\n",
    "\n",
    "print(\"\\nNow a is\\n\",  a)"
   ]
  },
  {
   "cell_type": "code",
   "execution_count": 148,
   "metadata": {
    "collapsed": false
   },
   "outputs": [
    {
     "name": "stdout",
     "output_type": "stream",
     "text": [
      "[1000 2000 3000 4000 5000 6000 7000 8000]\n",
      "[1000 4000 7000]\n",
      "[4000 5000 6000 7000 8000]\n",
      "\b b is \n",
      " [[ 0  1  2  3  4]\n",
      " [ 5  6  7  8  9]\n",
      " [10 11 12 13 14]\n",
      " [15 16 17 18 19]]\n",
      "\n",
      "every other row, all columns:\n",
      " [[ 0  1  2  3  4]\n",
      " [10 11 12 13 14]]\n"
     ]
    }
   ],
   "source": [
    "a = np.array([1000, 2000, 3000, 4000, 5000, 6000, 7000, 8000])\n",
    "print(a)\n",
    "\n",
    "print(a[0:-1:3])\n",
    "\n",
    "# a[0:-1:2,:]    # colon syntax is starting_index, ending_index, step [optional]\n",
    "\n",
    "# start at third index and go all the way to end:\n",
    "print(a[3:])\n",
    "\n",
    "b = np.arange(0, 20)\n",
    "b  = b.reshape([4,5])\n",
    "print(\"\\b b is \\n\", b)\n",
    "\n",
    "# every other row, all columns:\n",
    "print(\"\\nevery other row, all columns:\\n\", b[0:-1:2, :])"
   ]
  },
  {
   "cell_type": "markdown",
   "metadata": {},
   "source": [
    "**PITFALL:** Numpy has 1 dimensional arrays, distinct from single rows or columns which are 2D arrays\n",
    "+ 1D array has shape `(N,)`\n",
    "+ A 2D row has shape `(1,N)`\n",
    "+ A 2D column has shape `(N,1)`\n",
    "\n",
    "The 1D arrays allow more flexibility in many instances, but some functions require a 2D array as input, or behave differently when given a 1D array instead of a 2D array. Not recognizing these instances and getting errors or incorrect results is one of the primary mistakes of new Numpy users. \n",
    "\n",
    "For turning a 2D array into a 1D array, the functions `np.squeeze()` and `np.flatten()` are useful\n",
    "\n",
    "For turning a 1D array into a 2D array, the `np.reshape()` function is useful"
   ]
  },
  {
   "cell_type": "code",
   "execution_count": null,
   "metadata": {
    "collapsed": false
   },
   "outputs": [],
   "source": [
    "a = np.zeros((4, 1))\n",
    "print(a, a.shape, \"\\n\")\n",
    "\n",
    "a = a.squeeze()\n",
    "print(a, a.shape, \"\\n\")\n",
    "\n",
    "a = a.reshape([4,1])\n",
    "print(a, a.shape, \"\\n\")\n",
    "\n",
    "a = a.reshape([1,4])\n",
    "print(a, a.shape, \"\\n\")\n",
    "\n",
    "a = a.reshape([2,2])\n",
    "print(a, a.shape)"
   ]
  },
  {
   "cell_type": "markdown",
   "metadata": {},
   "source": [
    "Initialize a matrix to all ones"
   ]
  },
  {
   "cell_type": "code",
   "execution_count": null,
   "metadata": {
    "collapsed": false
   },
   "outputs": [],
   "source": [
    "a = np.ones([2, 3])\n",
    "print(a)"
   ]
  },
  {
   "cell_type": "markdown",
   "metadata": {},
   "source": [
    "Initialize a matrix with values randomly drawn from a standard normal distribution"
   ]
  },
  {
   "cell_type": "code",
   "execution_count": null,
   "metadata": {
    "collapsed": false
   },
   "outputs": [],
   "source": [
    "a = np.random.randn(2, 3)\n",
    "print(a)"
   ]
  },
  {
   "cell_type": "markdown",
   "metadata": {},
   "source": [
    "The NumPy array has name useful manipulation functions"
   ]
  },
  {
   "cell_type": "code",
   "execution_count": null,
   "metadata": {
    "collapsed": false
   },
   "outputs": [],
   "source": [
    "a = np.arange(10)\n",
    "print(a)\n",
    "\n",
    "print()\n",
    "\n",
    "b = a.reshape([2,-1]) # The -1 tells numpy to calculate what the size of the remaining dimension should be itself\n",
    "print(b)              # Since 'a' has 10 elements, if one dimension is size 2, then the other must be 10/2 = 5"
   ]
  },
  {
   "cell_type": "code",
   "execution_count": null,
   "metadata": {
    "collapsed": false
   },
   "outputs": [],
   "source": [
    "print(b)\n",
    "\n",
    "print()\n",
    "\n",
    "print(b.T)  # Use .T to transpose a 2D numpy array"
   ]
  },
  {
   "cell_type": "markdown",
   "metadata": {},
   "source": [
    "And appling functions along an axis"
   ]
  },
  {
   "cell_type": "code",
   "execution_count": null,
   "metadata": {
    "collapsed": false
   },
   "outputs": [],
   "source": [
    "print(a)\n",
    "\n",
    "print()\n",
    "\n",
    "print(a.sum())       # Sums over all elements in the array, returns a number\n",
    "\n",
    "print()\n",
    "\n",
    "print(a.sum(axis=0)) # Sums along columns in the array, returns a 1D array \n",
    "\n",
    "print()\n",
    "\n",
    "print(a.sum(axis=1)) # Sums along rows in the array, returns a 1D array"
   ]
  },
  {
   "cell_type": "markdown",
   "metadata": {},
   "source": [
    "NumPy arrays allow for fancier indexing"
   ]
  },
  {
   "cell_type": "code",
   "execution_count": null,
   "metadata": {
    "collapsed": false
   },
   "outputs": [],
   "source": [
    "a = np.random.randint(0, 10, size=8)\n",
    "print(\"8 random integers between 0 and 10:\")\n",
    "print(a)\n",
    "\n",
    "print()\n",
    "\n",
    "print(\"The integers at indices 1, 3, & 6:\")\n",
    "print(a[[1, 3, 6]])"
   ]
  },
  {
   "cell_type": "code",
   "execution_count": null,
   "metadata": {
    "collapsed": false
   },
   "outputs": [],
   "source": [
    "print(a<5)     # Returns a boolean value for each element in a (True if element is < 5, else False)\n",
    "print(a[a<5])  # Returns the values at indices where the boolean from above is True, skips False"
   ]
  },
  {
   "cell_type": "code",
   "execution_count": null,
   "metadata": {
    "collapsed": false
   },
   "outputs": [],
   "source": [
    "a = np.arange(10).reshape(2, 5)\n",
    "print(a)\n",
    "\n",
    "print(\"\\nNow take the elements in row 1, in columns 0, 1, & 3:\")\n",
    "print(a[1, [0, 1, 3]])"
   ]
  },
  {
   "cell_type": "markdown",
   "metadata": {},
   "source": [
    "## SciPy"
   ]
  },
  {
   "cell_type": "markdown",
   "metadata": {},
   "source": [
    "SciPy contains many submodules for common scientfic computing tasks:\n",
    "* function optimization\n",
    "* numerical integration / differentiation\n",
    "* special functions\n",
    "* time series analys (e.g. fourier transforms)"
   ]
  },
  {
   "cell_type": "markdown",
   "metadata": {},
   "source": [
    "Example code, using SciPy to solve an ordinary differential equation"
   ]
  },
  {
   "cell_type": "code",
   "execution_count": null,
   "metadata": {
    "collapsed": false
   },
   "outputs": [],
   "source": [
    "from scipy.integrate import odeint\n",
    "\n",
    "t_max = 100e-3    # second\n",
    "dt = 1e-3        # second\n",
    "tau = 20e-3      # second\n",
    "el = -60e-3      # milivolt\n",
    "vr = -70e-3      # milivolt\n",
    "vth = -50e-3     # milivolt\n",
    "i_mean = 25e-3   # ampere\n",
    "\n",
    "def I(t):\n",
    "    return i_mean*(1+np.sin(2*np.pi*t/0.01))\n",
    "\n",
    "def dvdt(v, t):\n",
    "    return (1.0/tau)*(el - v + I(t))\n",
    "\n",
    "t = np.arange(0, t_max, dt)\n",
    "v = odeint(dvdt, [el], t)\n",
    "\n",
    "plt.plot(t, v, '.k');"
   ]
  },
  {
   "cell_type": "markdown",
   "metadata": {},
   "source": [
    "## scikit learn"
   ]
  },
  {
   "cell_type": "markdown",
   "metadata": {},
   "source": [
    "Package for machine learning algorithms:\n",
    "* regression (linear, nonlinear)\n",
    "* clustering (K-Means, etc)\n",
    "* factorization (PCA, NMF, etc)\n",
    "* more"
   ]
  }
 ],
 "metadata": {
  "kernelspec": {
   "display_name": "Python 3",
   "language": "python",
   "name": "python3"
  },
  "language_info": {
   "codemirror_mode": {
    "name": "ipython",
    "version": 3
   },
   "file_extension": ".py",
   "mimetype": "text/x-python",
   "name": "python",
   "nbconvert_exporter": "python",
   "pygments_lexer": "ipython3",
   "version": "3.5.2"
  }
 },
 "nbformat": 4,
 "nbformat_minor": 0
}
