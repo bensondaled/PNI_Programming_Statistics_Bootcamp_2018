{
 "cells": [
  {
   "cell_type": "markdown",
   "metadata": {},
   "source": [
    "# PNI Biomath Bootcamp 2016 -- Programming module -- Day 3\n",
    "\n",
    "\n",
    "### Items to be covered\n",
    "\n",
    "3. Example from yesterday's exercises: Make bar plot of letter counts with the corresponding letter on top of each bar (plotting, loops, text in plots)\n",
    "5. Matrix notation re-visited; Ida's shelves slides presentation\n",
    "    * matrix times a scalar; matrix addition; matrix multiplication (dot product)\n",
    "    * `np.where()`, and using the resulting indices into matrices \n",
    "    * In-class example: Sieve of Eratosthenes\n",
    "1. Saving and loading data: np.savez (we'll do hdf5 tomorrow)\n",
    "    * Dictionaries; iterating over dictionaries\n",
    "5. Plotting and printing figures out to files\n",
    "6. Animation example\n",
    "\n",
    "\n",
    "\n"
   ]
  },
  {
   "cell_type": "code",
   "execution_count": null,
   "metadata": {
    "collapsed": false
   },
   "outputs": [],
   "source": [
    "%matplotlib notebook\n",
    "# use %matplotlib inline    for regular plotting\n",
    "# use %matplotlib notebook  if you want to be able to do animations\n",
    "# remember: at the start of the session or after restarting kernel\n",
    "\n",
    "import numpy as np\n",
    "import matplotlib.pyplot as plt\n",
    "\n",
    "\n",
    "def printvar(var, str):\n",
    "    \"\"\"shorthand for printing out a string (typically the name of a variable) and a variable\n",
    "    \n",
    "    PARAMETERS:\n",
    "        var      an expression\n",
    "        str       a string\n",
    "        \n",
    "    RETURNS:  none        \n",
    "    \"\"\"\n",
    "    print(\"\\n\", str, \" = \\n\", var, \"\\n\")\n",
    "\n",
    "    \n",
    "x = [1, 2, 3]\n",
    "mystr = 'this'\n",
    "printvar(x, mystr)"
   ]
  },
  {
   "cell_type": "markdown",
   "metadata": {},
   "source": [
    "# Example from yesterday's exercises: bar plot of letter counts with letter on top"
   ]
  },
  {
   "cell_type": "code",
   "execution_count": null,
   "metadata": {
    "collapsed": false
   },
   "outputs": [],
   "source": [
    "from scipy.io import loadmat\n",
    "mystring = loadmat('joyce.mat')['str'][0]\n",
    "\n",
    "# print(mystring)\n",
    "\n",
    "lmystring = list(mystring)\n",
    "all_letters = np.unique(lmystring)  # a list of each individual letter in mystring\n",
    "\n",
    "# for x in all_letters:\n",
    "  \n",
    "def count_items_in_list(desired_item, mylist):\n",
    "    \"\"\"\n",
    "    Counts how many desired_item are found in mylist and returns the count\n",
    "    \n",
    "    PARAMS:\n",
    "        desired_item    an element to be searched for\n",
    "        \n",
    "        mylist          a list (can be an np.array)\n",
    "        \n",
    "    RETURNS:\n",
    "        the final count (a scalar)\n",
    "    \"\"\"\n",
    "    count=0\n",
    "    for i in mylist:\n",
    "        if i==desired_item:\n",
    "            count = count +1\n",
    "    return count\n",
    "\n",
    "\n",
    "def count_items_in_list(desired_item, mylist):\n",
    "    \"\"\"\n",
    "    Counts how many desired_item are found in mylist and returns the count\n",
    "    \n",
    "    PARAMS:\n",
    "        desired_item    an element to be searched for\n",
    "        \n",
    "        mylist          a list (can be an np.array)\n",
    "        \n",
    "    RETURNS:\n",
    "        the final count (a scalar)\n",
    "    \"\"\"\n",
    "    return len([1 for x in mylist if x==desired_item])\n",
    "    \n",
    "mylist = [1, 2, 3, 2, 4, 5, 2]\n",
    "print(count_items_in_list(2, mylist))\n",
    "\n",
    "\n",
    "# lmystring = ['a', 'b', 'a', 'c']\n",
    "# all_letters = np.unique(lmystring)\n",
    "\n",
    "letter_count = []\n",
    "for x in all_letters:\n",
    "    letter_count += [count_items_in_list(x, lmystring)]\n",
    "    \n",
    "# printvar(letter_count, \"letter_count\")\n",
    "# printvar(all_letters, \"all_letters\")\n",
    "# print(mystring)\n",
    "\n",
    "num_letts = len(all_letters)\n",
    "plt.bar(range(0, num_letts), letter_count)\n",
    "for i in range(0, num_letts):\n",
    "    t = plt.text(i+0.5, letter_count[i], all_letters[i], \n",
    "                horizontalalignment='center', verticalalignment='bottom')\n",
    "    t.set_color([0, 1, 1])\n"
   ]
  },
  {
   "cell_type": "markdown",
   "metadata": {},
   "source": [
    "# Numpy and matrix notation revisited: Ida's shelves\n",
    "\n",
    "slideshow presentation: [Ida's shelves](https://docs.google.com/presentation/d/151qAkqWrQZB8n2TwQkULv3-4bDYKl01zK-V3pTvrOV4/edit?usp=sharing)"
   ]
  },
  {
   "cell_type": "code",
   "execution_count": null,
   "metadata": {
    "collapsed": false
   },
   "outputs": [],
   "source": [
    "new_mat= np.array(\n",
    "[  [6, 23,  5, 42],\n",
    "[13,   4,  1,  56],\n",
    "  [2,   5, 42,   6],\n",
    "  [6,  23, 5, 13]])\n",
    "printvar(new_mat, \"new_mat\")\n",
    "\n",
    "np.where(new_mat==42)"
   ]
  },
  {
   "cell_type": "code",
   "execution_count": null,
   "metadata": {
    "collapsed": false
   },
   "outputs": [],
   "source": [
    "z = np.array([[1, 2, 3], [3, 4, 9], [2, 5, 0], [0, 0, 2]])\n",
    "printvar(z, \"z\")\n",
    "\n",
    "Rows,Cols  = np.where(z==2)\n",
    "printvar(Rows,\"Rows\")\n",
    "printvar(Cols, \"Cols\")"
   ]
  },
  {
   "cell_type": "code",
   "execution_count": null,
   "metadata": {
    "collapsed": false
   },
   "outputs": [],
   "source": [
    "z[I] = 400\n",
    "printvar(z, \"z\")"
   ]
  },
  {
   "cell_type": "code",
   "execution_count": null,
   "metadata": {
    "collapsed": false
   },
   "outputs": [],
   "source": [
    "# iterating over all the items we found:\n",
    "\n",
    "for x in range(len(Rows)):\n",
    "    printvar((Rows[x], Cols[x]), \"pos\")\n"
   ]
  },
  {
   "cell_type": "markdown",
   "metadata": {},
   "source": [
    "### be careful: unlike Matlab, Numpy does not copy matrices by value, but by reference:"
   ]
  },
  {
   "cell_type": "code",
   "execution_count": null,
   "metadata": {
    "collapsed": false
   },
   "outputs": [],
   "source": [
    "z = np.array([[1, 2, 3], [3, 4, 9], [2, 5, 0], [0, 0, 2]])\n",
    "printvar(z, \"z\")\n",
    "y = z\n",
    "x = np.copy(z)\n",
    "x[0,2] = 1000\n",
    "y[0,1] = 1000\n",
    "printvar(x, \"x\") # x is a real copy\n",
    "printvar(y, \"y\") # y just copied a pointer to the shelves\n",
    "printvar(z, \"z\")"
   ]
  },
  {
   "cell_type": "markdown",
   "metadata": {},
   "source": [
    "### Mixing data types (e.g., strings and numbers) in numpy arrays doesn't work!\n"
   ]
  },
  {
   "cell_type": "code",
   "execution_count": null,
   "metadata": {
    "collapsed": false
   },
   "outputs": [],
   "source": [
    "\n",
    "z = np.array(['r', 'o', 'b'])\n",
    "\n",
    "z[1] = 'x'\n",
    "z[1] = 30.0\n",
    "np.append(z, ['q'])\n",
    "printvar(z, \"z\")\n",
    "\n"
   ]
  },
  {
   "cell_type": "markdown",
   "metadata": {},
   "source": [
    "**PITFALL:** Numpy has 1 dimensional arrays, distinct from single rows or columns which are 2D arrays\n",
    "+ 1D array has shape `(N,)`   and is specified with single brackets [] \n",
    "+ 2D arrays are specified with double brackets [[]]\n",
    "    + A 2D row has shape `(1,N)`\n",
    "    + A 2D column has shape `(N,1)`\n",
    "\n",
    "The 1D arrays allow more flexibility in many instances, but some functions require a 2D array as input, or behave differently when given a 1D array instead of a 2D array. Not recognizing these instances and getting errors or incorrect results is one of the primary mistakes of new Numpy users. \n"
   ]
  },
  {
   "cell_type": "code",
   "execution_count": null,
   "metadata": {
    "collapsed": false
   },
   "outputs": [],
   "source": [
    "a = np.array([1, 2, 3, 4])\n",
    "printvar(a, \"a\")\n",
    "printvar(a.T, \"a.T\")\n",
    "\n",
    "b = np.array([[1, 2, 3, 4]])\n",
    "printvar(b, \"b\")\n",
    "printvar(b.T, \"b.T\")\n",
    "\n",
    "\n",
    "numrows, numcols = np.shape(b)   # returns number of rows and cols\n",
    "thesize = np.size(b)             # returns the total number of elements\n",
    "\n",
    "printvar(numrows, \"numrows\")\n",
    "printvar(numcols, \"numcols\")\n",
    "printvar(thesize, \"thesize\")"
   ]
  },
  {
   "cell_type": "markdown",
   "metadata": {},
   "source": [
    "For turning a 2D array into a 1D array, the functions `np.squeeze()` and `np.flatten()` are useful\n",
    "\n",
    "For turning a 1D array into a 2D array, the `np.reshape()` function is useful"
   ]
  },
  {
   "cell_type": "code",
   "execution_count": null,
   "metadata": {
    "collapsed": false
   },
   "outputs": [],
   "source": [
    "a = np.reshape(np.array([1, 2, 3, 4]), (1, 4))\n",
    "b = np.transpose(a)\n",
    "print(\"a = \\n\", a, \"\\n\")\n",
    "print(\"b = \\n\", b, \"\\n\")\n",
    "\n",
    "l = [[1, 2, 3], [4, 5, 6], [7, 8, 9], [10, 11, 12]]\n",
    "c = np.array(l)\n",
    "printvar(c, \"c\")\n",
    "printvar(c.T, \"c.T\")\n"
   ]
  },
  {
   "cell_type": "code",
   "execution_count": null,
   "metadata": {
    "collapsed": false
   },
   "outputs": [],
   "source": [
    "a = np.zeros((4, 1))\n",
    "print(a, a.shape, \"\\n\")\n",
    "\n",
    "a = a.squeeze()\n",
    "print(a, a.shape, \"\\n\")\n",
    "\n",
    "a = a.reshape([4,1])\n",
    "print(a, a.shape, \"\\n\")\n",
    "\n",
    "a = a.reshape([1,4])\n",
    "print(a, a.shape, \"\\n\")\n",
    "\n",
    "a = a.reshape([2,2])\n",
    "print(a, a.shape)"
   ]
  },
  {
   "cell_type": "markdown",
   "metadata": {},
   "source": [
    "---\n",
    "\n",
    "# Example: sieve of eratosthenes\n",
    "\n",
    "First we test computing the row and column, which live in class Carlos wasn't doing too good at. Now we get it right.\n",
    "See the second version fo the function for a 1-line, correct way to do it.\n",
    "\n",
    "Having written and tested the two functions below, in the actual sieve in the next cell it turns out we won't\n",
    "us them-- the second function, the one-line, is too short to be worth its own function. (Either way would have been fine.)\n"
   ]
  },
  {
   "cell_type": "code",
   "execution_count": null,
   "metadata": {
    "collapsed": false
   },
   "outputs": [],
   "source": [
    "\n",
    "\n",
    "# Computing the row and column-- the slow but safe way we wrote it in class:\n",
    "def linear_index_to_rowcol(i, Nrows, Ncols):\n",
    "    \"\"\"\n",
    "    Given a number i, calculates the corresponding row and column in\n",
    "    a matrix where the numbers run up one by one, first along the columns of the first row,\n",
    "    continuing along the columns of the second row, etc.\n",
    "\n",
    "    PARAMS:\n",
    "        i      linear index\n",
    "        Nrows  number of rows of the matrix\n",
    "        Ncols  number of columns of the matrix\n",
    "\n",
    "    RETURNS:\n",
    "        i_row, i_col    The corresponding row and column\n",
    "\n",
    "    EXAMPLE:\n",
    "    Nrows = 3, Ncols = 4, so that\n",
    "    M  [[1,  2,  3, 4],\n",
    "        [5,  6,  7, 8],\n",
    "        [9, 10, 11, 12]]\n",
    "\n",
    "    Then \n",
    "        linear_index_to_rowcol(10, Nrows, Ncols)  returns 2,1    \n",
    "        linear_index_to_rowcol(8, Nrows, Ncols)   returns 1,3    \n",
    "\n",
    "    \"\"\"\n",
    "    if i%Ncols!=0:\n",
    "        myrow = int(np.floor(i/Ncols))\n",
    "        mycol = i - myrow*Ncols - 1\n",
    "    else:\n",
    "        myrow = int(np.floor(i/Ncols))-1\n",
    "        mycol = Ncols-1\n",
    "\n",
    "    return myrow, mycol\n",
    "    \n",
    "\n",
    "# Computing the row and column-- getting it correct in one line:\n",
    "def linear_index_to_rowcol(i, Nrows, Ncols):\n",
    "    \"\"\"\n",
    "    Given a number i, calculates the corresponding row and column in\n",
    "    a matrix where the numbers run up one by one, first along the columns of the first row,\n",
    "    continuing along the columns of the second row, etc.\n",
    "\n",
    "    PARAMS:\n",
    "        i      linear index\n",
    "        Nrows  number of rows of the matrix\n",
    "        Ncols  number of columns of the matrix\n",
    "\n",
    "    RETURNS:\n",
    "        i_row, i_col    The corresponding row and column\n",
    "\n",
    "    EXAMPLE:\n",
    "    Nrows = 3, Ncols = 4, so that\n",
    "    M  [[1,  2,  3, 4],\n",
    "        [5,  6,  7, 8],\n",
    "        [9, 10, 11, 12]]\n",
    "\n",
    "    Then \n",
    "        linear_index_to_rowcol(10, Nrows, Ncols)  returns 2,1    \n",
    "        linear_index_to_rowcol(8, Nrows, Ncols)   returns 1,3    \n",
    "\n",
    "    \"\"\"\n",
    "    return int(np.floor((i-1)/Ncols)), (i-1)%Ncols\n",
    "    \n",
    "    \n",
    "# --------- Now for testing:\n",
    "\n",
    "Nrows = 3; Ncols = 4; i = 12\n",
    "myrow, mycol = linear_index_to_rowcol(i, 3, 4)    \n",
    "printvar(i, \"i\")\n",
    "printvar((myrow, mycol), \"myrow, mycol\")\n",
    "M = np.reshape(np.array(range(1, Nrows*Ncols+1)), [Nrows, Ncols])\n",
    "M\n",
    "\n"
   ]
  },
  {
   "cell_type": "markdown",
   "metadata": {},
   "source": [
    "Now to the actal sieve"
   ]
  },
  {
   "cell_type": "code",
   "execution_count": 4,
   "metadata": {
    "collapsed": false
   },
   "outputs": [
    {
     "name": "stdout",
     "output_type": "stream",
     "text": [
      "row =  0  col =  0  value =  1\n",
      "row =  0  col =  1  value =  2\n",
      "mynumber= 2\n",
      "   mynumber= 2   crossing off mult= 4\n",
      "   mynumber= 2   crossing off mult= 6\n",
      "   mynumber= 2   crossing off mult= 8\n",
      "   mynumber= 2   crossing off mult= 10\n",
      "   mynumber= 2   crossing off mult= 12\n",
      "   mynumber= 2   crossing off mult= 14\n",
      "   mynumber= 2   crossing off mult= 16\n",
      "   mynumber= 2   crossing off mult= 18\n",
      "   mynumber= 2   crossing off mult= 20\n",
      "   mynumber= 2   crossing off mult= 22\n",
      "   mynumber= 2   crossing off mult= 24\n",
      "   mynumber= 2   crossing off mult= 26\n",
      "   mynumber= 2   crossing off mult= 28\n",
      "   mynumber= 2   crossing off mult= 30\n",
      "   mynumber= 2   crossing off mult= 32\n",
      "   mynumber= 2   crossing off mult= 34\n",
      "   mynumber= 2   crossing off mult= 36\n",
      "   mynumber= 2   crossing off mult= 38\n",
      "   mynumber= 2   crossing off mult= 40\n",
      "   mynumber= 2   crossing off mult= 42\n",
      "   mynumber= 2   crossing off mult= 44\n",
      "   mynumber= 2   crossing off mult= 46\n",
      "   mynumber= 2   crossing off mult= 48\n",
      "   mynumber= 2   crossing off mult= 50\n",
      "row =  0  col =  2  value =  3\n",
      "mynumber= 3\n",
      "   mynumber= 3   crossing off mult= 6\n",
      "   mynumber= 3   crossing off mult= 9\n",
      "   mynumber= 3   crossing off mult= 12\n",
      "   mynumber= 3   crossing off mult= 15\n",
      "   mynumber= 3   crossing off mult= 18\n",
      "   mynumber= 3   crossing off mult= 21\n",
      "   mynumber= 3   crossing off mult= 24\n",
      "   mynumber= 3   crossing off mult= 27\n",
      "   mynumber= 3   crossing off mult= 30\n",
      "   mynumber= 3   crossing off mult= 33\n",
      "   mynumber= 3   crossing off mult= 36\n",
      "   mynumber= 3   crossing off mult= 39\n",
      "   mynumber= 3   crossing off mult= 42\n",
      "   mynumber= 3   crossing off mult= 45\n",
      "   mynumber= 3   crossing off mult= 48\n",
      "row =  0  col =  3  value =  -4\n",
      "row =  0  col =  4  value =  5\n",
      "mynumber= 5\n",
      "   mynumber= 5   crossing off mult= 10\n",
      "   mynumber= 5   crossing off mult= 15\n",
      "   mynumber= 5   crossing off mult= 20\n",
      "   mynumber= 5   crossing off mult= 25\n",
      "   mynumber= 5   crossing off mult= 30\n",
      "   mynumber= 5   crossing off mult= 35\n",
      "   mynumber= 5   crossing off mult= 40\n",
      "   mynumber= 5   crossing off mult= 45\n",
      "   mynumber= 5   crossing off mult= 50\n",
      "row =  0  col =  5  value =  -6\n",
      "row =  0  col =  6  value =  7\n",
      "mynumber= 7\n",
      "   mynumber= 7   crossing off mult= 14\n",
      "   mynumber= 7   crossing off mult= 21\n",
      "   mynumber= 7   crossing off mult= 28\n",
      "   mynumber= 7   crossing off mult= 35\n",
      "   mynumber= 7   crossing off mult= 42\n",
      "   mynumber= 7   crossing off mult= 49\n",
      "row =  0  col =  7  value =  -8\n",
      "row =  0  col =  8  value =  -9\n",
      "row =  0  col =  9  value =  -10\n",
      "row =  1  col =  0  value =  11\n",
      "mynumber= 11\n",
      "   mynumber= 11   crossing off mult= 22\n",
      "   mynumber= 11   crossing off mult= 33\n",
      "   mynumber= 11   crossing off mult= 44\n",
      "row =  1  col =  1  value =  -12\n",
      "row =  1  col =  2  value =  13\n",
      "mynumber= 13\n",
      "   mynumber= 13   crossing off mult= 26\n",
      "   mynumber= 13   crossing off mult= 39\n",
      "row =  1  col =  3  value =  -14\n",
      "row =  1  col =  4  value =  -15\n",
      "row =  1  col =  5  value =  -16\n",
      "row =  1  col =  6  value =  17\n",
      "mynumber= 17\n",
      "   mynumber= 17   crossing off mult= 34\n",
      "row =  1  col =  7  value =  -18\n",
      "row =  1  col =  8  value =  19\n",
      "mynumber= 19\n",
      "   mynumber= 19   crossing off mult= 38\n",
      "row =  1  col =  9  value =  -20\n",
      "row =  2  col =  0  value =  -21\n",
      "row =  2  col =  1  value =  -22\n",
      "row =  2  col =  2  value =  23\n",
      "mynumber= 23\n",
      "   mynumber= 23   crossing off mult= 46\n",
      "row =  2  col =  3  value =  -24\n",
      "row =  2  col =  4  value =  -25\n",
      "row =  2  col =  5  value =  -26\n",
      "row =  2  col =  6  value =  -27\n",
      "row =  2  col =  7  value =  -28\n",
      "row =  2  col =  8  value =  29\n",
      "mynumber= 29\n",
      "row =  2  col =  9  value =  -30\n",
      "row =  3  col =  0  value =  31\n",
      "mynumber= 31\n",
      "row =  3  col =  1  value =  -32\n",
      "row =  3  col =  2  value =  -33\n",
      "row =  3  col =  3  value =  -34\n",
      "row =  3  col =  4  value =  -35\n",
      "row =  3  col =  5  value =  -36\n",
      "row =  3  col =  6  value =  37\n",
      "mynumber= 37\n",
      "row =  3  col =  7  value =  -38\n",
      "row =  3  col =  8  value =  -39\n",
      "row =  3  col =  9  value =  -40\n",
      "row =  4  col =  0  value =  41\n",
      "mynumber= 41\n",
      "row =  4  col =  1  value =  -42\n",
      "row =  4  col =  2  value =  43\n",
      "mynumber= 43\n",
      "row =  4  col =  3  value =  -44\n",
      "row =  4  col =  4  value =  -45\n",
      "row =  4  col =  5  value =  -46\n",
      "row =  4  col =  6  value =  47\n",
      "mynumber= 47\n",
      "row =  4  col =  7  value =  -48\n",
      "row =  4  col =  8  value =  -49\n",
      "row =  4  col =  9  value =  -50\n",
      "[[  1   2   3  -4   5  -6   7  -8  -9 -10]\n",
      " [ 11 -12  13 -14 -15 -16  17 -18  19 -20]\n",
      " [-21 -22  23 -24 -25 -26 -27 -28  29 -30]\n",
      " [ 31 -32 -33 -34 -35 -36  37 -38 -39 -40]\n",
      " [ 41 -42  43 -44 -45 -46  47 -48 -49 -50]]\n"
     ]
    }
   ],
   "source": [
    "import numpy as np\n",
    "\n",
    "Ncols = 10\n",
    "Nrows = 5  # this means we'll go up to 50 in checking for primes \n",
    "\n",
    "M = np.array(range(1, Ncols*Nrows+1))\n",
    "M = np.reshape(M, [Nrows, Ncols])\n",
    "\n",
    "\n",
    "# The bug that we had in class was that I was using the variable \"myrow\" to index the row of the current\n",
    "# number being considered as a prime; but then I was using the same variable name \"myrow\" to find the row\n",
    "# of the multiple that was going to be crossed off!  That confused the two things completely!  Now fixed.\n",
    "\n",
    "verbose = False\n",
    "for myrow in range(0, Nrows):\n",
    "    for mycolumn in range(0, Ncols):\n",
    "        # The two loops above mean that we'll go through all the rows and all the columns,\n",
    "        # going first through all the columns of the first row; then all cols of the second row; etc.\n",
    "\n",
    "        mynumber = M[myrow, mycolumn]\n",
    "        if verbose:\n",
    "            print(\"row = \", myrow, \" col = \", mycolumn, \" value = \", mynumber)\n",
    "        if mynumber!=1 and mynumber>0:   # Don't look at multiples of 1; and only look at\n",
    "                                         # non-negatives, that means it hasn't been crossed off                \n",
    "            if verbose:\n",
    "                print(\"mynumber=\", mynumber)\n",
    "            mult = 2*mynumber  # we'll start by crossing off twice the number\n",
    "            while mult <= np.size(M):  # only cross multiples off if they're within the matrix\n",
    "                if verbose:\n",
    "                    print(\"   mynumber=\", mynumber, \"  crossing off mult=\", mult)\n",
    "                mults_row = int(np.floor((mult-1)/Ncols))\n",
    "                mults_col = (mult-1)%Ncols\n",
    "                if M[mults_row,mults_col] > 0:   # only cross it off if it hadn't yet been crossed off\n",
    "                    M[mults_row,mults_col] = -M[mults_row,mults_col]  # that means \"crossed off\"\n",
    "\n",
    "                mult = mult + mynumber  # then go to the next multiple\n",
    "                \n",
    "print(M)                    \n",
    "        \n",
    "        \n",
    "#  BUGGY:        \n",
    "# for i in range(1, Nrows*Ncols+1):\n",
    "#     mycolumn = i%Ncols\n",
    "#     if mycolumn==0:\n",
    "#         mycolumn = Ncols\n",
    "#     mycolumn = mycolumn-1\n",
    "        \n",
    "#     myrow = int(np.floor(i/Ncols))  # np.floor() rounds down to nearest int;   np.ceil() rounds up\n",
    "\n",
    "    \n",
    "    \n",
    "    \n",
    "# fig = plt.figure(figsize=[8,8])\n"
   ]
  },
  {
   "cell_type": "markdown",
   "metadata": {},
   "source": [
    "# Saving and loading data\n",
    "\n",
    "What on earth was that line in the text problem above, \n",
    "\n",
    "    mystring = loadmat('joyce.mat')['str'][0]\n",
    "    \n",
    "We'll look into how to save and laod data, and as in the line above, that'll require us to learn about dictionaries."
   ]
  },
  {
   "cell_type": "markdown",
   "metadata": {},
   "source": [
    "## --Dictionaries\n",
    "\n",
    "We've gotten used to storing things in lists (or arrays), and accessing them with the square bracket notation, by asking for the item in a particular position.\n",
    "\n",
    "Dictionaries allow us to give the different \"shelves\" names rather than positions: the position no longer matters, and what you do is access a particular shelf through its name (which is a string).\n",
    "\n",
    "The names of the shelves are called `keys` and the values are called `items`"
   ]
  },
  {
   "cell_type": "code",
   "execution_count": null,
   "metadata": {
    "collapsed": false
   },
   "outputs": [],
   "source": [
    "# Let's create a dictionary in variable b, which will have a shelf called \"key1\" with \n",
    "# the string \"value1\" stored in it, and a shelf called \"key2\" with the number 300 stored in it.\n",
    "\n",
    "# Note curly braces and the colon linking each key to its value.\n",
    "b = {'key1' : \"value1\", \"key2\" : 300}\n",
    "\n",
    "# You access a shelf with the usual square bracket notation, but now you put the string for a key in it.\n",
    "print(b['key2'])\n",
    "\n",
    "# if you ask for a key that doesn't exist you get an error\n",
    "# For example:\n",
    "# >> b['gg']\n",
    "#   KeyError: 'gg'"
   ]
  },
  {
   "cell_type": "markdown",
   "metadata": {},
   "source": [
    "The values can be anything -- even other dictionaries"
   ]
  },
  {
   "cell_type": "code",
   "execution_count": null,
   "metadata": {
    "collapsed": false
   },
   "outputs": [],
   "source": [
    "d = {'my' : \"this\", 'and' : 2, 'furthermore' : [1, 2, 3]}\n",
    "print(d['my'])\n",
    "\n",
    "d['my']= b\n",
    "print(d['my'])\n",
    "\n"
   ]
  },
  {
   "cell_type": "code",
   "execution_count": null,
   "metadata": {
    "collapsed": false
   },
   "outputs": [],
   "source": [
    "# You can find what keys a dictionary has with the .keys() function. This returns an iterable, \n",
    "# that you can put in a for loop:\n",
    "\n",
    "print(d.keys(), \"d.keys()\")\n",
    "for i in d.keys():\n",
    "    printvar(i, \"key\")\n",
    "\n",
    "# Or, you can cast it into a list and see it directly:    \n",
    "print(\"\\nList of keys is \", list(d.keys()), \"\\n\")    \n",
    "    \n",
    "# The .items() function returns a (key, value) pair that you can iterate over:  \n",
    "for k,v in d.items():\n",
    "    print(\"key is =\", k, \";\\t  the value = \", v)\n"
   ]
  },
  {
   "cell_type": "markdown",
   "metadata": {},
   "source": [
    "## -- back to saving and loading: using np.savez() and np.load()"
   ]
  },
  {
   "cell_type": "code",
   "execution_count": null,
   "metadata": {
    "collapsed": false
   },
   "outputs": [],
   "source": [
    "# Let's create to matrices that we will save\n",
    "\n",
    "x = np.ones([3,3])\n",
    "print(x)\n",
    "y = np.random.randn(2,3)\n",
    "print(y)\n",
    "b = 'this is a string'\n",
    "\n",
    "# The np.savez command saves them into an automatically-compressed file ending in .npz\n",
    "np.savez('trash', x=x, y=y, b=b)\n",
    "\n"
   ]
  },
  {
   "cell_type": "markdown",
   "metadata": {},
   "source": [
    "`np.load(filename)`  returns a dictionary; the keys will be the names of the saved variables."
   ]
  },
  {
   "cell_type": "code",
   "execution_count": null,
   "metadata": {
    "collapsed": false
   },
   "outputs": [],
   "source": [
    "g = np.load('trash.npz')\n",
    "\n",
    "loaded_varnames = list(g.keys())\n",
    "printvar(loaded_varnames, \"loaded_varnames\")   # remember the prinvar function was defined in the first cell, at the top of the notebook\n",
    "\n",
    "# We can access those variables through their names:\n",
    "printvar(g['y'], \"g['y']\")\n",
    "\n",
    "printvar(g['b'], \"g['b']\")\n",
    "\n",
    "# print(g['z'])"
   ]
  },
  {
   "cell_type": "markdown",
   "metadata": {},
   "source": [
    "`np.savez()` works great for saving matrices that contain numbers or strings. \n",
    "\n",
    "But it's not so great for saving regular Python lists with mixed data types-- it converts it all to strings! For savign more complex mixtures of data types, we'll turn to **hdf5**"
   ]
  },
  {
   "cell_type": "code",
   "execution_count": null,
   "metadata": {
    "collapsed": false
   },
   "outputs": [],
   "source": [
    "# A Python list with a number, a string, and a Boolean:\n",
    "\n",
    "z = [1, 'this', True]\n",
    "\n",
    "np.savez('trash2', z=z)\n",
    "\n",
    "g = np.load('trash2.npz')\n",
    "\n",
    "print(g['z'])\n",
    "print(\"For example, the type of the last element, of g['z'][2] is now \", type(g['z'][2]), \n",
    "      \"\\nwhen it should have been boolean\")\n",
    "\n"
   ]
  },
  {
   "cell_type": "markdown",
   "metadata": {},
   "source": [
    "## -- can also use hdf5 file format: will cover this tomorrow"
   ]
  },
  {
   "cell_type": "markdown",
   "metadata": {},
   "source": [
    "# Printing figures out to files -- pyplot's savefig command"
   ]
  },
  {
   "cell_type": "code",
   "execution_count": null,
   "metadata": {
    "collapsed": false
   },
   "outputs": [],
   "source": [
    "%matplotlib notebook\n",
    "\n",
    "import numpy as np\n",
    "from matplotlib import pyplot as plt\n",
    "import time\n",
    "\n",
    "t = np.arange(0, 2*np.pi*4, np.pi/10)\n",
    "h = plt.plot(t, np.sin(t), 'o-')\n",
    "\n",
    "plt.savefig('myfigure.pdf')\n",
    "# please see help(plt.savefig)"
   ]
  },
  {
   "cell_type": "markdown",
   "metadata": {},
   "source": [
    "---\n",
    "# Animation example"
   ]
  },
  {
   "cell_type": "code",
   "execution_count": null,
   "metadata": {
    "collapsed": false
   },
   "outputs": [],
   "source": [
    "%matplotlib notebook\n",
    "\n",
    "import numpy as np\n",
    "from matplotlib import pyplot as plt\n",
    "import time\n",
    "\n",
    "t = np.arange(0, 2*np.pi*4, np.pi/10)\n",
    "h = plt.plot(t, np.sin(t), 'o-')  # h is a list of line objects\n",
    "line0 = h[0]          # we only plotted one line, so h[0] is the only one we want to worry about\n",
    "\n",
    "fig = plt.figure(1)   # this gets a pointer to the figure object\n",
    "\n",
    "txt_phase = 2*np.pi*3.5;\n",
    "txt = plt.text(txt_phase, 0.9, 'hello')    \n",
    "\n",
    "phase = 0; dphase = np.pi/10\n",
    "for k in range(100):\n",
    "    phase = phase + dphase\n",
    "    line0.set_ydata(np.sin(t+phase))\n",
    "\n",
    "    txt_phase = txt_phase - dphase\n",
    "    if txt_phase < 0:\n",
    "        txt_phase = txt_phase + 2*np.pi*4\n",
    "    txt.set_position([txt_phase, 0.9])\n",
    "\n",
    "    fig.canvas.draw()    # Force a drawing now of whatever graphics commands you've sent so far\n",
    "    # time.sleep(0.01)     # this just pauses for 10 ms-- you can make it longer to move slower\n",
    "\n"
   ]
  }
 ],
 "metadata": {
  "kernelspec": {
   "display_name": "Python 3",
   "language": "python",
   "name": "python3"
  },
  "language_info": {
   "codemirror_mode": {
    "name": "ipython",
    "version": 3
   },
   "file_extension": ".py",
   "mimetype": "text/x-python",
   "name": "python",
   "nbconvert_exporter": "python",
   "pygments_lexer": "ipython3",
   "version": "3.5.2"
  }
 },
 "nbformat": 4,
 "nbformat_minor": 0
}
