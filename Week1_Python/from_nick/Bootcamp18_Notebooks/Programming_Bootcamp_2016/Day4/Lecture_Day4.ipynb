{
 "cells": [
  {
   "cell_type": "markdown",
   "metadata": {},
   "source": [
    "# PNI Biomath Bootcamp 2016 -- Programming module -- Day 4\n",
    "\n",
    "\n",
    "### Items to be covered\n",
    "\n",
    "1.Brief revisit of sieve of Eratosthenes. \n",
    "    * Setting debugging break points?\n",
    "2. Matrix problems from yesterday -- adding, multiplying scalars, adding matrices, matrix multiplication\n",
    "3. Slicing and indexing \n",
    "    * Colon notation slicing.\n",
    "    * indexing with boolean statements\n",
    "4. Dictionaries; saving and loading files with numpy.savez\n",
    "    * finding out what variables there are in a file\n",
    "5. Displaying an image; Subplots\n",
    "      Arbitrary placing of axes?\n",
    "6. beerncode problem from yestarday"
   ]
  },
  {
   "cell_type": "code",
   "execution_count": null,
   "metadata": {
    "collapsed": false
   },
   "outputs": [],
   "source": [
    "%matplotlib notebook\n",
    "import numpy as np\n",
    "import matplotlib.pyplot as plt\n",
    "import matplotlib.image as img\n",
    "import matplotlib.colors as colors\n",
    "\n",
    "def printvar(var, str):\n",
    "    \"\"\"shorthand for printing out a string (typically the name of a variable) and a variable\n",
    "    \n",
    "    PARAMETERS:\n",
    "        var      an expression\n",
    "        str       a string\n",
    "        \n",
    "    RETURNS:  none        \n",
    "    \"\"\"\n",
    "    print(\"\\n\", str, \" = \\n\", var, \"\\n\")"
   ]
  },
  {
   "cell_type": "markdown",
   "metadata": {},
   "source": [
    "---\n",
    "\n",
    "# (Involuntary but useful) example of debugging: sieve of eratosthenes\n",
    "\n",
    "* Use the keystrokes < Ctrl \\>-M then L to toggle seeing lines numbers in cells -- very useful for seeing where in the code you are when the debugger says you are in line 30, for example!\n",
    "* Use the line\n",
    "\n",
    "    `import pdb; pdb.set_trace()`\n",
    "\n",
    "    to set a breakpoint. There's a \"break linenumber\" command in the debugger but for some reason it didn't work for me; the above line did.\n"
   ]
  },
  {
   "cell_type": "code",
   "execution_count": null,
   "metadata": {
    "collapsed": false
   },
   "outputs": [],
   "source": [
    "# %%debug\n",
    "\n",
    "import numpy as np\n",
    "\n",
    "Ncols = 10\n",
    "Nrows = 5  # this means we'll go up to 50 in checking for primes \n",
    "\n",
    "M = np.array(range(1, Ncols*Nrows+1))\n",
    "M = np.reshape(M, [Nrows, Ncols])\n",
    "\n",
    "\n",
    "# The bug that we had in class was that I was using the variable \"myrow\" to index the row of the current\n",
    "# number being considered as a prime; but then I was using the same variable name \"myrow\" to find the row\n",
    "# of the multiple that was going to be crossed off!  That confused the two things completely!  \n",
    "#      The bug has been left in below. See if you can fit it!\n",
    "\n",
    "verbose = False\n",
    "for myrow in range(0, Nrows):\n",
    "    for mycolumn in range(0, Ncols):\n",
    "        # The two loops above mean that we'll go through all the rows and all the columns,\n",
    "        # going first through all the columns of the first row; then all cols of the second row; etc.\n",
    "\n",
    "        mynumber = M[myrow, mycolumn]\n",
    "        if verbose:\n",
    "            print(\"row = \", myrow, \" col = \", mycolumn, \" value = \", mynumber)\n",
    "        if mynumber!=1 and mynumber>0:   # Don't look at multiples of 1; and only look at\n",
    "                                         # non-negatives, that means it hasn't been crossed off                \n",
    "            if verbose:\n",
    "                print(\"mynumber=\", mynumber)\n",
    "            mult = 2*mynumber  # we'll start by crossing off twice the number\n",
    "            while mult <= np.size(M):  # only cross multiples off if they're within the matrix\n",
    "                if verbose:\n",
    "                    print(\"   mynumber=\", mynumber, \"  crossing off mult=\", mult)\n",
    "                myrow = int(np.floor((mult-1)/Ncols))\n",
    "                mults_col = (mult-1)%Ncols\n",
    "                if M[myrow,mults_col] > 0:   # only cross it off if it hadn't yet been crossed off\n",
    "                    M[myrow,mults_col] = -M[myrow,mults_col]  # that means \"crossed off\"\n",
    "\n",
    "                mult = mult + mynumber  # then go to the next multiple\n",
    "                # if mult > np.size(M):\n",
    "                    # import pdb; pdb.set_trace()\n",
    "               \n",
    "#\n",
    "print(M)\n",
    "print(\"primes = \", M[M>0])"
   ]
  },
  {
   "cell_type": "code",
   "execution_count": null,
   "metadata": {
    "collapsed": false
   },
   "outputs": [],
   "source": [
    "nrows = 3\n",
    "ncols = 4\n",
    "a = np.reshape(np.array(range(1, nrows*ncols+1)), [nrows, ncols])\n",
    "b = np.random.randn(nrows, ncols)\n",
    "printvar(a, \"a\")\n",
    "printvar(b, \"b\")"
   ]
  },
  {
   "cell_type": "code",
   "execution_count": null,
   "metadata": {
    "collapsed": false
   },
   "outputs": [],
   "source": [
    "printvar(a+1000, \"a+1000\")"
   ]
  },
  {
   "cell_type": "code",
   "execution_count": null,
   "metadata": {
    "collapsed": false
   },
   "outputs": [],
   "source": [
    "printvar(a, \"a\")\n",
    "printvar(a*2, \"a*2\")\n",
    "printvar(np.sin(a), \"np.sin(a)\")"
   ]
  },
  {
   "cell_type": "code",
   "execution_count": null,
   "metadata": {
    "collapsed": false
   },
   "outputs": [],
   "source": [
    "printvar(a, \"a\")\n",
    "printvar(b, \"b\")\n",
    "printvar(a+b, \"a+b\")\n",
    "\n",
    "a.reshape([2,6]) + b"
   ]
  },
  {
   "cell_type": "code",
   "execution_count": null,
   "metadata": {
    "collapsed": false
   },
   "outputs": [],
   "source": [
    "printvar(a, \"a\")\n",
    "printvar(b, \"b\")\n",
    "printvar(a*b, \"a*b\")"
   ]
  },
  {
   "cell_type": "markdown",
   "metadata": {},
   "source": [
    "### From the problem set: Linear algebra rules for vector and matrix multiplication and addition.\n",
    "**Addition and subtraction:** Addition and subtraction of two matrices are just element-by-element\n",
    "addition and subtraction. For this to make sense, the two matrices must\n",
    "be the same size, i.e., have the same number of rows and the same number of\n",
    "columns.\n",
    "\n",
    "**Multiplication:** Under linear algebra rules, a row vector (arranged horizontally) times\n",
    "a column vector (arranged vertically) means: “multiply element-by-element; then\n",
    "sum it all”. Thus, it produces a single number (i.e., a *scalar*). For example,\n",
    "\n",
    "$$[1 \\; 3 \\; 4] * \n",
    "\\begin{align}\n",
    "    \\begin{bmatrix}\n",
    "       2 \\\\\n",
    "       3 \\\\\n",
    "       2\n",
    "    \\end{bmatrix}\n",
    "\\end{align}\n",
    "= 1*2 + 3*3 + 4*2 = 19$$\n",
    "\n",
    "When matrix $A$ has $A_r$ rows and $A_c$ columns, and matrix $B$ has $B_r$ rows and $B_c$\n",
    "columns, you can multiply them *if and only if* the number columns of $A$ equals the\n",
    "number of rows of $B$ (that is, $A_c = B_r$). Lets call their product the matrix $C$:\n",
    "\n",
    "$$C = A * B$$\n",
    "\n",
    "The rules are that the element in the $r^{th}$ row and $c^{th}$ column of $C$ will be equal to multiplying the\n",
    "$r^{th}$ row of $A$ times the $c^{th}$ column of $B$. The matrix $C$ will have $A_r$ rows and $B_c$ columns.\n",
    "\n",
    "---"
   ]
  },
  {
   "cell_type": "markdown",
   "metadata": {
    "collapsed": false
   },
   "source": [
    "---\n",
    "**2)** Let \n",
    "\n",
    "$$a = \\begin{bmatrix}1 & 4 & 5 & 2 \\end{bmatrix} \\quad\\quad \n",
    "  b = \\begin{bmatrix}2 & 3 & 2 & 1 \\end{bmatrix} \\quad\\quad\n",
    "  c = \\begin{bmatrix}1 & 1 \\end{bmatrix}$$\n",
    "\n",
    "Remember that `.T` means *transpose*: turns rows into columns, and vice-versa. First compute by hand, and then confirm using NumPy, the value of $a*b^T$, $b*a^T$, $a^T*b$, and $a*c^T$.\n",
    "\n",
    "(Do all of these operations make sense? If not, which ones don't, and why?)"
   ]
  },
  {
   "cell_type": "code",
   "execution_count": null,
   "metadata": {
    "collapsed": false
   },
   "outputs": [],
   "source": [
    "a = np.array([[1, 4, 5, 2]])\n",
    "b = np.array([[2, 3, 2, 1]])\n",
    "\n",
    "print(a * b.T)\n",
    "print(b.T @ a)"
   ]
  },
  {
   "cell_type": "markdown",
   "metadata": {},
   "source": [
    "**3)** Add the following sets of matrices by hand, then confirm your answers\n",
    "using NumPy.\n",
    "\n",
    "**(a)**\n",
    "$$\n",
    "A=\n",
    "  \\begin{bmatrix}\n",
    "    2 & 4 \\\\\n",
    "    1 & 5\n",
    "  \\end{bmatrix} \\quad\n",
    "B=\n",
    "  \\begin{bmatrix}\n",
    "    1 & 8 \\\\\n",
    "    1 & 4\n",
    "  \\end{bmatrix}\n",
    "$$"
   ]
  },
  {
   "cell_type": "code",
   "execution_count": null,
   "metadata": {
    "collapsed": false
   },
   "outputs": [],
   "source": []
  },
  {
   "cell_type": "markdown",
   "metadata": {},
   "source": [
    "**(b)**\n",
    "$$\n",
    "A=\n",
    "  \\begin{bmatrix}\n",
    "    5 & 1 & 3 & 1 \\\\\n",
    "    6 & 0 & 8 & 5\n",
    "  \\end{bmatrix} \\quad\n",
    "B=\n",
    "  \\begin{bmatrix}\n",
    "    4 & 2 & 9 & 0 \\\\\n",
    "    3 & 8 & 9 & 2\n",
    "  \\end{bmatrix}\n",
    "$$"
   ]
  },
  {
   "cell_type": "code",
   "execution_count": null,
   "metadata": {
    "collapsed": false
   },
   "outputs": [],
   "source": []
  },
  {
   "cell_type": "markdown",
   "metadata": {},
   "source": [
    "**5)** Multiply the following sets of matrices by hand, then confirm your answers using\n",
    "NumPy. Is matrix multiplication commutative (i.e. does $AB=BA$)?\n",
    "\n",
    "**(a)**\n",
    "$$\n",
    "A=\n",
    "  \\begin{bmatrix}\n",
    "    5 & 3 \\\\\n",
    "    8 & 9\n",
    "  \\end{bmatrix} \\quad\n",
    "B=\n",
    "  \\begin{bmatrix}\n",
    "    1 & 9 \\\\\n",
    "    4 & 4\n",
    "  \\end{bmatrix}\n",
    "$$"
   ]
  },
  {
   "cell_type": "code",
   "execution_count": null,
   "metadata": {
    "collapsed": true
   },
   "outputs": [],
   "source": [
    "A3 = np.array([[5,3],[8,9]])\n",
    "B3 = np.array([[1,9],[4,4]])"
   ]
  },
  {
   "cell_type": "code",
   "execution_count": null,
   "metadata": {
    "collapsed": false
   },
   "outputs": [],
   "source": [
    "print(A3 @ B3)\n",
    "print(B3 @ A3)\n",
    "print(\"No, matrix multiplication is not commutative\")\n",
    "#</answer>"
   ]
  },
  {
   "cell_type": "markdown",
   "metadata": {},
   "source": [
    "**(b)**\n",
    "$$\n",
    "A=\n",
    "  \\begin{bmatrix}\n",
    "    2 & 4 \\\\\n",
    "    0 & 1 \\\\\n",
    "    3 & 2 \\\\\n",
    "    2 & 7\n",
    "  \\end{bmatrix} \\quad\n",
    "B=\n",
    "  \\begin{bmatrix}\n",
    "    9 & 5 & 1 \\\\\n",
    "    8 & 4 & 8\n",
    "  \\end{bmatrix}\n",
    "$$"
   ]
  },
  {
   "cell_type": "code",
   "execution_count": null,
   "metadata": {
    "collapsed": false
   },
   "outputs": [],
   "source": [
    "#<answer>\n",
    "A4 = np.array([[2,4],[0,1],[3,2],[2,7]])\n",
    "B4 = np.array([[9,5,1],[8,4,8]])\n",
    "print(A4 @ B4)\n",
    "#</answer>"
   ]
  },
  {
   "cell_type": "markdown",
   "metadata": {},
   "source": [
    "---\n",
    "# Looking into matrix subparts: Indexing and slicing"
   ]
  },
  {
   "cell_type": "markdown",
   "metadata": {},
   "source": [
    "## Colon notation\n",
    "\n",
    "For each dimension of a matrix, the indices to be used can be specified using colon notation,\n",
    "\n",
    "    [start_index default=0] : [stop_index (not included) default=last] [: [step default=1]]\n",
    "    \n",
    "all of which are optional (that's what the square brackets mean). Thus\n",
    "\n",
    "    :-3\n",
    "    \n",
    "means start at 0, go up to but not including the third from the end, in steps of 1. (Remember, the minus means backwards from the end)"
   ]
  },
  {
   "cell_type": "code",
   "execution_count": null,
   "metadata": {
    "collapsed": false
   },
   "outputs": [],
   "source": [
    "a = np.array(range(1, 12))\n",
    "print(a)\n",
    "\n",
    "print(a[:-3])"
   ]
  },
  {
   "cell_type": "markdown",
   "metadata": {},
   "source": [
    "    :-3:2\n",
    "    \n",
    "means the same as above, but now in steps of 2"
   ]
  },
  {
   "cell_type": "code",
   "execution_count": null,
   "metadata": {
    "collapsed": false
   },
   "outputs": [],
   "source": [
    "print(a[:-3:2])"
   ]
  },
  {
   "cell_type": "markdown",
   "metadata": {},
   "source": [
    "and\n",
    "\n",
    "    ::2\n",
    "    \n",
    "means go in steps of 2 all the way from the beginning to the end"
   ]
  },
  {
   "cell_type": "code",
   "execution_count": null,
   "metadata": {
    "collapsed": false
   },
   "outputs": [],
   "source": [
    "printvar(a, \"a\")\n",
    "printvar(a[::2], \"a[::2]\")"
   ]
  },
  {
   "cell_type": "markdown",
   "metadata": {},
   "source": [
    "    :-3:2\n",
    "    \n",
    "means the same as above, but now in steps of 2"
   ]
  },
  {
   "cell_type": "code",
   "execution_count": null,
   "metadata": {
    "collapsed": false
   },
   "outputs": [],
   "source": [
    "print(a[4:-3:2])"
   ]
  },
  {
   "cell_type": "markdown",
   "metadata": {},
   "source": [
    "And we can do lots of other examples.\n",
    "\n",
    "We can also do it with 2-dimensional matrices, with colon notation for each one."
   ]
  },
  {
   "cell_type": "code",
   "execution_count": null,
   "metadata": {
    "collapsed": false
   },
   "outputs": [],
   "source": [
    "nrows = 3\n",
    "ncols = 5\n",
    "a = np.reshape(np.array(range(1, nrows*ncols+1)), [nrows, ncols])\n",
    "print(a)"
   ]
  },
  {
   "cell_type": "markdown",
   "metadata": {},
   "source": [
    "For example, we could look at all rows, but only every other column of a matrix (colon statement before the comma is for rows, and after the comma for the columns)"
   ]
  },
  {
   "cell_type": "code",
   "execution_count": null,
   "metadata": {
    "collapsed": false
   },
   "outputs": [],
   "source": [
    "print(a[:, ::2])"
   ]
  },
  {
   "cell_type": "markdown",
   "metadata": {},
   "source": [
    "The colon notation serves to read out the contents of parts of a matrix, but can also be used to SET the contents of the same parts:"
   ]
  },
  {
   "cell_type": "code",
   "execution_count": null,
   "metadata": {
    "collapsed": false
   },
   "outputs": [],
   "source": [
    "nrows = 3\n",
    "ncols = 5\n",
    "a = np.reshape(np.array(range(1, nrows*ncols+1)), [nrows, ncols])\n",
    "\n",
    "printvar(a, \"a\")\n",
    "a[1:,::2] = 100\n",
    "\n",
    "printvar(a, \"new a\")\n",
    "\n",
    "a[1:,::2] = a[1:,::2]*-1\n",
    "\n",
    "printvar(a, \"newest a\")\n"
   ]
  },
  {
   "cell_type": "markdown",
   "metadata": {},
   "source": [
    "## boolean indexing\n",
    "\n",
    "Another very useful way to look at subparts of a matrix is to use boolean expressions:"
   ]
  },
  {
   "cell_type": "code",
   "execution_count": null,
   "metadata": {
    "collapsed": false
   },
   "outputs": [],
   "source": [
    "a = np.array(range(1, 12))\n",
    "print(a)\n",
    "\n",
    "printvar(a%2==0, \"a%2==0\")"
   ]
  },
  {
   "cell_type": "markdown",
   "metadata": {},
   "source": [
    "That boolean vector we got out can be used directly to index into a: when used as an index, only those shelves for which the boolean was true will be accessed:"
   ]
  },
  {
   "cell_type": "code",
   "execution_count": null,
   "metadata": {
    "collapsed": false
   },
   "outputs": [],
   "source": [
    "I = a%2==0\n",
    "\n",
    "printvar(a[I], \"a[I]\")"
   ]
  },
  {
   "cell_type": "markdown",
   "metadata": {},
   "source": [
    "It is often used directly, without storing it in an intermediate variable I:"
   ]
  },
  {
   "cell_type": "code",
   "execution_count": null,
   "metadata": {
    "collapsed": false
   },
   "outputs": [],
   "source": [
    "printvar(a[a%2==0], \"a[a%2==0]\")"
   ]
  },
  {
   "cell_type": "code",
   "execution_count": null,
   "metadata": {
    "collapsed": false
   },
   "outputs": [],
   "source": [
    "# Multiply every even number by 3:\n",
    "a = np.array(range(1, 12))\n",
    "printvar(a, \"a\")\n",
    "\n",
    "I = a%2==0\n",
    "printvar(I, \"I\")\n",
    "a[a%2==0] = 3*a[a%2==0]\n",
    "\n",
    "printvar(a, \"a\")"
   ]
  },
  {
   "cell_type": "markdown",
   "metadata": {},
   "source": [
    "We can use it in matrices, too:"
   ]
  },
  {
   "cell_type": "code",
   "execution_count": null,
   "metadata": {
    "collapsed": false
   },
   "outputs": [],
   "source": [
    "nrows = 3\n",
    "ncols = 5\n",
    "a = np.reshape(np.array(range(1, nrows*ncols+1)), [nrows, ncols])\n",
    "print(a)"
   ]
  },
  {
   "cell_type": "code",
   "execution_count": null,
   "metadata": {
    "collapsed": false
   },
   "outputs": [],
   "source": [
    "printvar(a%2==0, \"a%2==0\")\n",
    "\n",
    "a[a%2==0] = 3*a[a%2==0]\n",
    "\n",
    "printvar(a, \"a\")\n",
    "\n",
    "# Whitby asks --unanswered-- what if we want to do it only for selected rows (i.e., with colon notation)?"
   ]
  },
  {
   "cell_type": "markdown",
   "metadata": {},
   "source": [
    "## --Dictionaries\n",
    "\n",
    "We've gotten used to storing things in lists (or arrays), and accessing them with the square bracket notation, by asking for the item in a particular position.\n",
    "\n",
    "Dictionaries allow us to give the different \"shelves\" names rather than positions: the position no longer matters, and what you do is access a particular shelf through its name (which is a string).\n",
    "\n",
    "The names of the shelves are called `keys` and the values are called `items`"
   ]
  },
  {
   "cell_type": "code",
   "execution_count": null,
   "metadata": {
    "collapsed": false
   },
   "outputs": [],
   "source": [
    "# Let's create a dictionary in variable b, which will have a shelf called \"key1\" with \n",
    "# the string \"value1\" stored in it, and a shelf called \"key2\" with the number 300 stored in it.\n",
    "\n",
    "# Note curly braces and the colon linking each key to its value.\n",
    "b = {'key1' : \"value1\", \"key2\" : 300}\n",
    "\n",
    "# You access a shelf with the usual square bracket notation, but now you put the string for a key in it.\n",
    "print(b['key2'])\n",
    "\n",
    "# if you ask for a key that doesn't exist you get an error\n",
    "# For example:\n",
    "# >> b['gg']\n",
    "#   KeyError: 'gg'"
   ]
  },
  {
   "cell_type": "markdown",
   "metadata": {},
   "source": [
    "The values can be anything -- even other dictionaries"
   ]
  },
  {
   "cell_type": "code",
   "execution_count": null,
   "metadata": {
    "collapsed": false
   },
   "outputs": [],
   "source": [
    "d = {'my' : \"this\", 'and' : 2, 'furthermore' : [1, 2, 3]}\n",
    "print(d['my'])\n",
    "\n",
    "d['my']= b\n",
    "print(d['my'])\n",
    "\n"
   ]
  },
  {
   "cell_type": "code",
   "execution_count": null,
   "metadata": {
    "collapsed": false
   },
   "outputs": [],
   "source": [
    "# You can find what keys a dictionary has with the .keys() function. This returns an iterable, \n",
    "# that you can put in a for loop:\n",
    "\n",
    "print(d.keys(), \"d.keys()\")\n",
    "for i in d.keys():\n",
    "    printvar(i, \"key\")\n",
    "\n",
    "# Or, you can cast it into a list and see it directly:    \n",
    "print(\"\\nList of keys is \", list(d.keys()), \"\\n\")    \n",
    "    \n",
    "# The .items() function returns a (key, value) pair that you can iterate over:  \n",
    "for k,v in d.items():\n",
    "    print(\"key is =\", k, \";\\t  the value = \", v)\n"
   ]
  },
  {
   "cell_type": "markdown",
   "metadata": {},
   "source": [
    "### Using .keys() to find out what variables are stored in a .npz file\n"
   ]
  },
  {
   "cell_type": "code",
   "execution_count": null,
   "metadata": {
    "collapsed": false
   },
   "outputs": [],
   "source": [
    "g = np.load('beerncode_data.npz')\n",
    "print(list(g.keys()))"
   ]
  },
  {
   "cell_type": "markdown",
   "metadata": {},
   "source": [
    "---\n",
    "\n",
    "# Displaying an image and using subplots"
   ]
  },
  {
   "cell_type": "code",
   "execution_count": null,
   "metadata": {
    "collapsed": true
   },
   "outputs": [],
   "source": [
    "%matplotlib notebook\n",
    "import matplotlib.image as img\n",
    "import matplotlib.colors as colors\n",
    "import matplotlib.pyplot as plt\n",
    "import numpy as np"
   ]
  },
  {
   "cell_type": "code",
   "execution_count": null,
   "metadata": {
    "collapsed": false
   },
   "outputs": [],
   "source": [
    "A = img.imread('salgado_bombay.jpg')\n",
    "np.shape(A)"
   ]
  },
  {
   "cell_type": "code",
   "execution_count": null,
   "metadata": {
    "collapsed": true
   },
   "outputs": [],
   "source": [
    "A = colors.rgb_to_hsv(A)\n"
   ]
  },
  {
   "cell_type": "code",
   "execution_count": null,
   "metadata": {
    "collapsed": false
   },
   "outputs": [],
   "source": [
    "# Pick out just the v in the h,s,v triplets-- thats index 2 in the last dimension\n",
    "A1 = A[:,:,2]\n",
    "printvar(np.shape(A1), \"shape of A1\")\n",
    "\n",
    "# squeeze says drop any dimensions that are equal to 1\n",
    "A2 = np.squeeze(A1)\n",
    "printvar(np.shape(A2), \"shape of A2\")\n",
    "\n",
    "A = A2"
   ]
  },
  {
   "cell_type": "code",
   "execution_count": null,
   "metadata": {
    "collapsed": false
   },
   "outputs": [],
   "source": [
    "fig1 = plt.figure(1, [11,4])  # first param is figure number, second is size in w x h inches\n",
    "fig1.clf()  # clear figure 1\n",
    "plt.subplot(1,3,1)  # this says make a 1-by-3 matrix of plotting axes, and choose the first one\n",
    "\n",
    "plt.set_cmap('gray')  # use the gray colormap, not the default one\n",
    "plt.imshow(A)\n",
    "\n",
    "# plt.set_cmap('hot')\n",
    "\n",
    "# plt.subplot(1,3,2)\n",
    "# p = plt.hist(A.flatten(), bins=range(0, 255), log=False) \n",
    "# plt.xlabel('value of pixel in A')\n",
    "# plt.ylabel('count of pixels')\n",
    "\n",
    "plt.subplot(1,3,3)\n",
    "B = A.copy()\n",
    "# B[B<128] = 128\n",
    "B[:,0::10] = 255  # make every tenth column white (max value)\n",
    "B[::10,:] = 0     # make every tenth row black (min value)\n",
    "# B[0,0] = 0\n",
    "plt.imshow(B)\n",
    "\n",
    "plt.subplot(1,3,2)\n",
    "p = plt.hist(B.flatten(), bins=range(0, 255), log=True) \n",
    "plt.xlabel('value of pixel in B')\n",
    "plt.ylabel('count of pixels')\n"
   ]
  },
  {
   "cell_type": "markdown",
   "metadata": {},
   "source": [
    "Following example of using multiple axes stolen from: [Matplotlib documentation](http://matplotlib.org/examples/pylab_examples/axes_demo.html)"
   ]
  },
  {
   "cell_type": "code",
   "execution_count": null,
   "metadata": {
    "collapsed": false
   },
   "outputs": [],
   "source": [
    "# Example of using multiple axes stolen from \n",
    "import matplotlib.pyplot as plt\n",
    "import numpy as np\n",
    "\n",
    "fig2 = plt.figure(2)\n",
    "fig2.clf()\n",
    "\n",
    "# create some data to use for the plot\n",
    "dt = 0.001\n",
    "t = np.arange(0.0, 10.0, dt)\n",
    "r = np.exp(-t[:1000]/0.05)               # impulse response\n",
    "x = np.random.randn(len(t))\n",
    "s = np.convolve(x, r)[:len(x)]*dt  # colored noise\n",
    "\n",
    "# the main axes is subplot(111) by default\n",
    "plt.plot(t, s)\n",
    "plt.axis([0, 1, 1.1*np.amin(s), 2*np.amax(s)])\n",
    "plt.xlabel('time (s)')\n",
    "plt.ylabel('current (nA)')\n",
    "plt.title('Gaussian colored noise')\n",
    "\n",
    "# this is an inset axes over the main axes\n",
    "a = plt.axes([.65, .6, .2, .2], axisbg='y')\n",
    "n, bins, patches = plt.hist(s, 400, normed=1)\n",
    "plt.title('Probability')\n",
    "plt.xticks([])\n",
    "plt.yticks([])\n",
    "\n",
    "# this is another inset axes over the main axes\n",
    "a = plt.axes([0.2, 0.6, .2, .2], axisbg='y')\n",
    "plt.plot(t[:len(r)], r)\n",
    "plt.title('Impulse response')\n",
    "plt.xlim(0, 0.2)\n",
    "plt.xticks([])\n",
    "plt.yticks([])\n",
    "\n",
    "plt.show()\n"
   ]
  },
  {
   "cell_type": "markdown",
   "metadata": {},
   "source": [
    "In-class exercise:  plot two vertical lines on the same axis: one from (1,1) to (1,2)  and another from (3,1) to (3,2)\n",
    "\n",
    "If we call plt.plot(x, y) and x and y are 2-d matrices (should be same size), one line per column will be plotted"
   ]
  },
  {
   "cell_type": "code",
   "execution_count": null,
   "metadata": {
    "collapsed": false
   },
   "outputs": [],
   "source": [
    "fig = plt.figure(3, [3, 3])\n",
    "fig.clf()\n",
    "x = np.array([[1, 3],[1, 3]])\n",
    "y = np.array([[1, 1], [2, 2]])\n",
    "\n",
    "# alternatively\n",
    "x = np.array([[1,1], [3,3]]).T  # This way we write it out as \"each line is a row\" then \n",
    "                                 # we take the transpose to turn them into the columns that plot expects\n",
    "y = np.array([[1,2], [1,2]]).T\n",
    "h = plt.plot(x, y, 'b-')  # this returns a python list of line objects\n",
    "h0 = h[0]           # this is the first line\n",
    "h0.axes.set_xlim([0, 4])   # and we can ask what axes that line is in and set the xlimits for it\n",
    "h0.axes.set_ylim([0, 3])\n",
    "\n",
    "h1 = h[1]\n",
    "h1.set_linewidth(3)\n",
    "print(h1.get_xdata())"
   ]
  },
  {
   "cell_type": "markdown",
   "metadata": {},
   "source": [
    "---\n",
    "\n",
    "# Example problem from yesterday: beer and code\n",
    "\n",
    "**7)** Load `beerncode_data.npz` into a variable called `beerncode`.\n",
    "\n",
    "As you’ll see, this `npz` file contains four items, that can be accessed like a dictionary:\n",
    "* `names`: an array of names\n",
    "* `beers`: an array of number of beers drunk last week\n",
    "* `heights`: an array of heights\n",
    "* `errors`: an array of number of code errors made so far ;)\n",
    "\n",
    "Create a variable for each of these four arrays, by accessing the data in the `npz` file.\n",
    "\n",
    "Remember to close the `npz` file when you finish extracting the data!\n",
    "\n",
    "**a)** Make a scatterplot of code errors versus beers. Does it look like there is a relationship?\n",
    "**b)** Go back and edit your answer from `a` to include the name of each person beside their data point.\n",
    "\n",
    "For the next question, we will use a 2-dimensional “rotation” matrix:\n",
    "\n",
    "\n",
    "$$\n",
    "R=\n",
    "  \\begin{bmatrix}\n",
    "    \\cos(\\theta)  & \\sin(\\theta) \\\\\n",
    "    -\\sin(\\theta) & \\cos(\\theta)\n",
    "  \\end{bmatrix}\n",
    "$$\n",
    "\n",
    "where $\\theta$ is in radians. When this matrix is multiplied using linear algebra rules\n",
    "times a column vector $\\begin{bmatrix} x \\\\ y \\end{bmatrix}$ that represents a point in space, it produces a new point in space that is equal to the original $\\begin{bmatrix} x \\\\ y \\end{bmatrix}$, but has been rotated by $\\theta$ degrees. In other words, let’s say\n",
    "\n",
    "<center> $\\text{new_pos} = R*\\begin{bmatrix} x \\\\ y \\end{bmatrix}$ </center>\n",
    "\n",
    "Then $\\text{new_pos}$ will be a column vector with two entries, the first of which is the x-coordinate of the new point, and the second is the y-coordinate of the new point. That\n",
    "new point will be at a distance from the origin equal to that of the original $\\begin{bmatrix} x \\\\ y \\end{bmatrix}$ point,\n",
    "but its angle with respect to the horizontal will be rotated by $\\theta$ degrees.\n",
    "\n",
    "---\n",
    "\n",
    "**c)**  Build an array to represent `R`, and use it to rotate all the points in your scatterplot by $\\theta$ (`theta`) degrees. Then plot *both* the original data and the rotated data in different colors.\n",
    "\n",
    "(Try running your code with different `theta` values, to confirm that the rotation works as intended.)\n",
    "\n",
    "**d)** (Bonus) Loop over that code to make a movie of a rotating data plot. Starting with the original data, rotate in increments of `theta` and update the display.\n"
   ]
  },
  {
   "cell_type": "code",
   "execution_count": null,
   "metadata": {
    "collapsed": false
   },
   "outputs": [],
   "source": [
    "%matplotlib notebook\n",
    "import numpy as np\n",
    "import matplotlib.pyplot as plt\n",
    "def printvar(var, str):\n",
    "    \"\"\"shorthand for printing out a string (typically the name of a variable) and a variable\n",
    "    \n",
    "    PARAMETERS:\n",
    "        var      an expression\n",
    "        str       a string\n",
    "        \n",
    "    RETURNS:  none        \n",
    "    \"\"\"\n",
    "    print(\"\\n\", str, \" = \\n\", var, \"\\n\")\n",
    "    \n",
    "    \n",
    "g = np.load('beerncode_data.npz')\n",
    "print(g.keys())\n",
    "\n",
    "beers = g['beers']\n",
    "heights = g['heights']\n",
    "names   = g['names']\n",
    "errors  = g['errors']\n",
    "g.close()\n",
    "\n",
    "# d = {'key1' : 30, 'key2': 40}\n",
    "# print(d.keys())\n",
    "\n",
    "packemin = np.vstack((beers, errors))\n",
    "fig = plt.figure(10, [8, 8])\n",
    "plt.plot(packemin[0,:], packemin[1,:], 'o', markersize=12)\n",
    "plt.xlabel('beers')\n",
    "plt.ylabel('errors')\n",
    "\n",
    "# npeople = len(errors)\n",
    "# for i in range(0, npeople):\n",
    "#     plt.text(beers[i]+0.2, errors[i], names[i],\n",
    "#             horizontalalignment='left')\n",
    "\n",
    "\n",
    "theta = 5   # in degrees\n",
    "theta = theta*np.pi/180   # now converted to radians\n",
    "R = np.array([[np.cos(theta), np.sin(theta)], [-np.sin(theta), np.cos(theta)]])\n",
    "\n",
    "printvar(np.shape(beers), \"np.shape(beers)\")\n",
    "current_positions = np.vstack((beers, errors))\n",
    "\n",
    "printvar(np.shape(current_positions), \"np.shape(current_positions)\")\n",
    "new_positions = R @ current_positions\n",
    "\n",
    "# First row of new_positions are the new horizontal coords;\n",
    "# Second row are the vertical coords\n",
    "h = plt.plot(new_positions[0,:], new_positions[1,:], 'ro', markersize=12)\n",
    "h0 = h[0]\n",
    "h0.axes.set_xlim([-20, 20])\n",
    "h0.axes.set_ylim([-20, 20])\n",
    "\n",
    "for k in range(0, 1000):\n",
    "    new_positions = R @ new_positions # for each point, compute a new position for it\n",
    "    h0.set_xdata(new_positions[0,:])  # set the new horizontal positions\n",
    "    h0.set_ydata(new_positions[1,:])  # set the new vertical positions\n",
    "    fig.canvas.draw()   # this is the draw now command"
   ]
  },
  {
   "cell_type": "code",
   "execution_count": null,
   "metadata": {
    "collapsed": true
   },
   "outputs": [],
   "source": []
  }
 ],
 "metadata": {
  "kernelspec": {
   "display_name": "Python 3",
   "language": "python",
   "name": "python3"
  },
  "language_info": {
   "codemirror_mode": {
    "name": "ipython",
    "version": 3
   },
   "file_extension": ".py",
   "mimetype": "text/x-python",
   "name": "python",
   "nbconvert_exporter": "python",
   "pygments_lexer": "ipython3",
   "version": "3.5.2"
  }
 },
 "nbformat": 4,
 "nbformat_minor": 0
}
