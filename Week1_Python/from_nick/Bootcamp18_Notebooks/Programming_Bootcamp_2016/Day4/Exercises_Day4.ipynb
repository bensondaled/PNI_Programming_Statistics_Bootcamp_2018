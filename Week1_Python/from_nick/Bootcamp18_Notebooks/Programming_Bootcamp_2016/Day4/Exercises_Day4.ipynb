{
 "cells": [
  {
   "cell_type": "markdown",
   "metadata": {},
   "source": [
    "We’re going to make some simple simulated neural data and play with analyzing it. Our super-simple “neuron” will have almost no dynamics in it, and will not be very realistic at all, but it will be useful nevertheless. Later in the class we’ll deal with some more realistic simulations and data.\n",
    "\n",
    "We’re going to simulate an experiment in which you’ve patched onto a neuron in a slice (the neuroscientists can explain what this means), stimulate it with a current, and record the resulting membrane potential. Then we’ll identify moments when the simulated neuron would spike, and we’ll look at those spike times. We’ll bin them in time, to get estimates of number of spikes/sec for each time bin. And then we’ll look at what happens when we stimulate two independent neurons. \n",
    "\n",
    "The final questions we’ll asses are, “how correlated are the firing rates of the two neurons, and how does the strength of that correlation depend on experimental parameters such as number of trials and stimulation amplitude?”\n",
    "\n",
    "Since this problem set will make use of NumPy and matplotlib, we'll import them right now."
   ]
  },
  {
   "cell_type": "code",
   "execution_count": null,
   "metadata": {
    "collapsed": true
   },
   "outputs": [],
   "source": [
    "import numpy as np\n",
    "import matplotlib.pyplot as plt\n",
    "%matplotlib notebook"
   ]
  },
  {
   "cell_type": "markdown",
   "metadata": {},
   "source": [
    "<hr>\n",
    "## Problem 1\n",
    "\n",
    "Make a vector, called ```t```, that will stand for your time axis. Its elements should climb, in uniform steps of 0.001 (i.e., one millisecond) from 0 to 2 seconds."
   ]
  },
  {
   "cell_type": "code",
   "execution_count": null,
   "metadata": {
    "collapsed": false
   },
   "outputs": [],
   "source": [
    "# define vector t\n",
    "#<answer>\n",
    "t = np.arange(0, 2, 0.001)\n",
    "#</answer>"
   ]
  },
  {
   "cell_type": "markdown",
   "metadata": {},
   "source": [
    "Now make a vector called ```drive``` that is the same length as t and whose elements are a sine wave, frequency 4 cycles/sec, with a mean of zero. The amplitude of the sine wave modulation should be ```drive_amplitude``` (this is a parameter that we will later change, so it is good to define it as a variable, not as a fixed number). "
   ]
  },
  {
   "cell_type": "code",
   "execution_count": null,
   "metadata": {
    "collapsed": true
   },
   "outputs": [],
   "source": [
    "# define drive vector\n",
    "#<answer>\n",
    "drive_amplitude = 5.0\n",
    "drive_frequency = 4 # Hz\n",
    "drive = drive_amplitude * np.sin(2*np.pi*drive_frequency * t)\n",
    "#</answer>"
   ]
  },
  {
   "cell_type": "markdown",
   "metadata": {},
   "source": [
    "Verify your work: when ```drive_amplitude=1```, if you ```plt.plot(t, drive)```, you should see an amplitude 1 sine wave, of 8 cycles total (4 in each of the two seconds)."
   ]
  },
  {
   "cell_type": "code",
   "execution_count": null,
   "metadata": {
    "collapsed": false
   },
   "outputs": [],
   "source": [
    "# plot the drive vector\n",
    "#<answer>\n",
    "plt.plot(t, drive)\n",
    "plt.xlabel('Time (sec)')\n",
    "plt.ylabel('Amplitude')\n",
    "#</answer>"
   ]
  },
  {
   "cell_type": "markdown",
   "metadata": {},
   "source": [
    "<hr>\n",
    "## Problem 2\n",
    "\n",
    "Now we’ll simulate injecting this drive (think of it as a current) into a neuron. \n",
    "\n",
    "Write a function called ```neuron``` that takes a drive vector as its input parameter. This function should create a simulated membrane potential that, at each timestep, is -60 (the resting membrane potential, in millivolts) plus a sample from a gaussian distribution with standard deviation 5 (to represent the typical neural noise observed in experiments; the ```np.random.normal``` function will be useful here) plus the value of the drive at that timestep. In other words, the function produces $v$:\n",
    "\n",
    "<center> $v(t) = -60 + N(0,5) + d(t)$ </center>\n",
    "\n",
    "where $d(t)$ is the drive signal supplied to the function.\n",
    "\n",
    "If the voltage goes above -50, we’ll say it has reached threshold and the neuron spikes: replace each element of your membrane potential vector that is greater than -50 with +10, the peak voltage of a spike. (Our super-simple neuron has no dynamics in that the membrane potential at one timestep doesn’t depend on any other timesteps; in week 3 we’ll change that and go to more realistic neurons.) \n",
    "\n",
    "Your ```neuron``` function should return a vector that represents the final membrane potential, ```v```.  Plot ```v``` versus ```t``` to see what ```v``` looks like. Run it several times; since you’re using random numbers, it should look different each time."
   ]
  },
  {
   "cell_type": "code",
   "execution_count": null,
   "metadata": {
    "collapsed": true
   },
   "outputs": [],
   "source": [
    "# define the neuron function\n",
    "#<answer>\n",
    "def neuron(drive):\n",
    "    v = -60 + np.random.normal(0, 5, size=drive.shape) + drive\n",
    "    v[v>-50] = 10\n",
    "    return v\n",
    "#</answer>"
   ]
  },
  {
   "cell_type": "code",
   "execution_count": null,
   "metadata": {
    "collapsed": false
   },
   "outputs": [],
   "source": [
    "# plot the result of using the neuron function\n",
    "#<answer>\n",
    "plt.plot(t, neuron(drive))\n",
    "plt.xlabel('Time (sec)')\n",
    "plt.ylabel('Membrane Potential (mV)')\n",
    "#</answer>"
   ]
  },
  {
   "cell_type": "markdown",
   "metadata": {},
   "source": [
    "<hr>\n",
    "## Problem 3\n",
    "\n",
    "We will call each time you run your neuron a “trial.” Run the neuron for 100 trials with ```drive_amplitude=1```, and plot the resulting spike times in a “raster plot:” this is a plot in which each row of the y-axis represents one trial, and the x-axis represents time. At the time of each spike in each trial, you should place a small vertical line in your plot to indicate that a spike occurred."
   ]
  },
  {
   "cell_type": "code",
   "execution_count": null,
   "metadata": {
    "collapsed": false
   },
   "outputs": [],
   "source": [
    "# generate and display a raster plot\n",
    "#<answer>\n",
    "drive_amplitude = 5\n",
    "drive = drive_amplitude * np.sin(2*np.pi*drive_frequency * t)\n",
    "\n",
    "for i in range(100):\n",
    "    v = neuron(drive)\n",
    "    spike_times = t[v>-50]\n",
    "    plt.vlines(spike_times, i, i+1)\n",
    "    \n",
    "plt.xlabel('Time (sec)')\n",
    "plt.ylabel('Trial #')\n",
    "#</answer>"
   ]
  },
  {
   "cell_type": "markdown",
   "metadata": {},
   "source": [
    "What does the raster plot look like for different numbers of trials and different drive amplitudes? Can you see the sine pattern? (You can edit that cell and run it again.)"
   ]
  },
  {
   "cell_type": "markdown",
   "metadata": {},
   "source": [
    "<hr>\n",
    "## Problem 4\n",
    "\n",
    "We will call a set of n trials an “experiment.” Divide the time in each trial into bins of b milliseconds (start with b=25 milliseconds). \n",
    "\n",
    "For each trial, and for each of these time bins, find the number of spikes fired by the neuron. Divide by b to obtain, in each bin and for each trial, an estimate of the number of spikes/sec fired by the neuron. This is an estimate of its firing rate. \n",
    "\n",
    "Using ```plt.imshow```, plot the estimated firing rates for each trial as a function of time during each trial."
   ]
  },
  {
   "cell_type": "code",
   "execution_count": null,
   "metadata": {
    "collapsed": false
   },
   "outputs": [],
   "source": [
    "# generate and display a firing rate map\n",
    "plt.figure('Answer to Problem 4') # we suggest you create a figure for each answer. Here is one for Problem 4\n",
    "#<answer>\n",
    "n_trials = 100\n",
    "\n",
    "# setup bins of width b to bin spikes\n",
    "b = 0.025\n",
    "bins = np.arange(min(t), max(t)+b, b)\n",
    "firing_rates = np.zeros([n_trials, len(bins)-1])\n",
    "\n",
    "for trial in range(n_trials):\n",
    "    v = neuron(drive)\n",
    "    spike_times = t[v>-50]\n",
    "    n_spikes,_ = np.histogram(spike_times, bins) # binned spike counts\n",
    "    firing_rates[trial] = n_spikes / b\n",
    "    \n",
    "plt.imshow(firing_rates, interpolation='none', cmap=plt.cm.viridis)\n",
    "\n",
    "_ = plt.xticks(range(len(bins))[::8], bins[::8], rotation=90) # set the x-axis to display time\n",
    "plt.colorbar(label='Firing Rate (Hz)')\n",
    "plt.xlabel('Time (sec)')\n",
    "plt.ylabel('Trial #')\n",
    "#</answer>"
   ]
  },
  {
   "cell_type": "markdown",
   "metadata": {},
   "source": [
    "<hr>\n",
    "## Problem 5\n",
    "\n",
    "Take your estimated firing rates, and average over trials to obtain an estimated firing rate as a function of time that we’ll call the “PeriStimulus Time Histogram” or PSTH. Plot the PSTH. What does the PSTH look like for different numbers of trials and different drive amplitudes?"
   ]
  },
  {
   "cell_type": "code",
   "execution_count": null,
   "metadata": {
    "collapsed": false
   },
   "outputs": [],
   "source": [
    "# generate and display a PSTH\n",
    "plt.figure('Answer to Problem 5') # we suggest you create a figure for each answer. Here is one for Problem 5\n",
    "\n",
    "#<answer>\n",
    "psth = firing_rates.mean(axis=0)\n",
    "\n",
    "bin_centers = (bins[1:] + bins[:-1]) / 2\n",
    "plt.bar(bin_centers, psth, width=b)\n",
    "plt.xlabel('Time (sec)')\n",
    "plt.ylabel('Firing Rate (Hz)')\n",
    "#</answer>"
   ]
  },
  {
   "cell_type": "markdown",
   "metadata": {},
   "source": [
    "<hr>\n",
    "## Problem 6\n",
    "\n",
    "Now run *two* experiments, both with same number of trials and the same drive amplitude, to represent two neurons that you patched simultaneously, injected current into simultaneously, and recorded simultaneously. Compute the two PSTHs that correspond to these two neurons in the two experiments. "
   ]
  },
  {
   "cell_type": "code",
   "execution_count": null,
   "metadata": {
    "collapsed": false
   },
   "outputs": [],
   "source": [
    "# compute the PSTHs for two simultaneously patched neurons\n",
    "#<answer>\n",
    "# parameters for this experiment\n",
    "n_trials = 200\n",
    "drive_amplitude = 10\n",
    "b = 0.025\n",
    "\n",
    "drive = drive_amplitude * np.sin(2*np.pi*drive_frequency * t)\n",
    "bins = np.arange(min(t), max(t)+b, b)\n",
    "firing_rates = np.zeros([2, n_trials, len(bins)-1]) # 2 represents the 2 neurons\n",
    "\n",
    "for trial in range(n_trials):\n",
    "    v1 = neuron(drive) # neuron 1\n",
    "    v2 = neuron(drive) # neuron 2\n",
    "    spike_times_1 = t[v1>-50]\n",
    "    spike_times_2 = t[v2>-50]\n",
    "    n_spikes_1,_ = np.histogram(spike_times_1, bins) # binned spike counts\n",
    "    n_spikes_2,_ = np.histogram(spike_times_2, bins) # binned spike counts\n",
    "    firing_rates[0, trial] = n_spikes_1 / b\n",
    "    firing_rates[1, trial] = n_spikes_2 / b\n",
    "    \n",
    "psth = firing_rates.mean(axis=1)\n",
    "#</answer>"
   ]
  },
  {
   "cell_type": "markdown",
   "metadata": {},
   "source": [
    "Calculate the correlation coefficient between the two PSTHs. (If $\\sigma_x$ and $\\sigma_y$ are the standard deviation of $x$ and $y$, respectively, and $\\langle \\rangle$ represents averaging, the correlation coefficient is defined as:\n",
    "\n",
    "<center> $\\frac{\\langle xy \\rangle - \\langle x \\rangle \\langle y \\rangle}{\\sigma_x \\sigma_y}$ </center>"
   ]
  },
  {
   "cell_type": "code",
   "execution_count": null,
   "metadata": {
    "collapsed": false
   },
   "outputs": [],
   "source": [
    "# compute the correlation coefficient of the two PSTHs\n",
    "#<answer>\n",
    "def corrcoef(x,y):\n",
    "    \"\"\"Calcualte the correlation coefficient of two signals *x* and *y*\n",
    "    Note that this can be accomplished using np.corrcoef, but this function is here for demonstration.\n",
    "    \"\"\"\n",
    "    return ( (x*y).mean() - x.mean()*y.mean() ) / ( x.std() * y.std() )\n",
    "\n",
    "print(corrcoef(*psth))\n",
    "#</answer>"
   ]
  },
  {
   "cell_type": "markdown",
   "metadata": {},
   "source": [
    "<hr>\n",
    "## Problem 7\n",
    "\n",
    "Run the pair of experiments (as in problem #6) many times, using different numbers of trials, and different drive amplitudes. \n",
    "\n",
    "To do this, it may be useful to first convert your solution to problem #6 into a function."
   ]
  },
  {
   "cell_type": "code",
   "execution_count": null,
   "metadata": {
    "collapsed": false
   },
   "outputs": [],
   "source": [
    "# write a function that performs your solution to problem 6, returning the correlation coefficient\n",
    "#<answer>\n",
    "def paired_patch(n_trials=200, drive_amplitude=10, b=0.010):\n",
    "    \"\"\"Performs a simulated experiment where 2 neurons are simultaneously patched\n",
    "    \n",
    "    Parameters\n",
    "    ----------\n",
    "    n_trials : int\n",
    "        number of trials in the experiments\n",
    "    drive_amplitude : float\n",
    "        amplitude of drive signal\n",
    "    b : float\n",
    "        bin size for psth generation\n",
    "        \n",
    "    Returns\n",
    "    -------\n",
    "    Correlation coefficient between the two cells' signals\n",
    "    \"\"\"\n",
    "\n",
    "    drive = drive_amplitude * np.sin(2*np.pi*drive_frequency * t)\n",
    "    bins = np.arange(min(t), max(t)+b, b)\n",
    "    firing_rates = np.zeros([2, n_trials, len(bins)-1]) # 2 represents the 2 neurons\n",
    "\n",
    "    for trial in range(n_trials):\n",
    "        v1 = neuron(drive) # neuron 1\n",
    "        v2 = neuron(drive) # neuron 2\n",
    "        spike_times_1 = t[v1>-50]\n",
    "        spike_times_2 = t[v2>-50]\n",
    "        n_spikes_1,_ = np.histogram(spike_times_1, bins) # binned spike counts\n",
    "        n_spikes_2,_ = np.histogram(spike_times_2, bins) # binned spike counts\n",
    "        firing_rates[0, trial] = n_spikes_1 / b\n",
    "        firing_rates[1, trial] = n_spikes_2 / b\n",
    "\n",
    "    psth = firing_rates.mean(axis=1)\n",
    "\n",
    "    return np.corrcoef(*psth)[0,1]\n",
    "#</answer>"
   ]
  },
  {
   "cell_type": "markdown",
   "metadata": {},
   "source": [
    "Use plt.imshow to plot the correlation coefficient as a function of drive amplitude and number of trials. "
   ]
  },
  {
   "cell_type": "code",
   "execution_count": null,
   "metadata": {
    "collapsed": false
   },
   "outputs": [],
   "source": [
    "# use your function to generate a map of correlation coefficients for ranges of parameter values\n",
    "plt.figure('Answer to Problem 7') # we suggest you create a figure for each answer. Here is one for Problem 7\n",
    "#<answer>\n",
    "n_trials_list = np.arange(2, 30, 1)\n",
    "drive_amplitudes_list = np.linspace(0.5, 10, 40)\n",
    "\n",
    "cc = np.zeros([len(n_trials_list), len(drive_amplitudes_list)])\n",
    "\n",
    "for t_idx,n_trials in enumerate(n_trials_list):\n",
    "    for d_idx,drive_amplitude in enumerate(drive_amplitudes_list):\n",
    "        cc[t_idx, d_idx] = paired_patch(n_trials=n_trials, drive_amplitude=drive_amplitude)\n",
    "        \n",
    "plt.imshow(cc, origin='lower', interpolation='none', cmap=plt.cm.inferno)\n",
    "_ = plt.xticks(range(len(drive_amplitudes_list))[::5], drive_amplitudes_list[::5].astype(int))\n",
    "_ = plt.yticks(range(len(n_trials_list))[::5], n_trials_list[::5])\n",
    "plt.xlabel('Drive Amplitude')\n",
    "plt.ylabel('# Trials')\n",
    "plt.colorbar(label='Correlation Coefficient')\n",
    "#</answer>"
   ]
  },
  {
   "cell_type": "markdown",
   "metadata": {},
   "source": [
    "Replot the same data as a “surface plot” using matplotlib. If you’re trying to observe a correlation coefficient, you could use this simulation and its final plot to try to decide what drive amplitude to use, and how many trials to record from, in each experiment. Does correlation coefficient become stronger or weaker as number of trials or drive amplitude grow?\n",
    "\n",
    "To get you started, some sample code is included.\n",
    "* ```drive_amplitudes_list```: the list of drive amplitudes you tested\n",
    "* ```n_trials_list```: the list of n_trials you tested\n",
    "* ```cc```: the list of resulting correlation coefficients"
   ]
  },
  {
   "cell_type": "code",
   "execution_count": null,
   "metadata": {
    "collapsed": false
   },
   "outputs": [],
   "source": [
    "# fill in these 3 lists with your work\n",
    "drive_amplitudes_list = [1,2,3] # change this to your own values\n",
    "n_trials_list = [2,3,4] # change this to your own values\n",
    "cc = = [0.5, 0.5, 0.5] # change this to your own values\n",
    "\n",
    "from mpl_toolkits.mplot3d import Axes3D\n",
    "fig = plt.figure()\n",
    "ax = fig.gca(projection='3d')\n",
    "\n",
    "X,Y = np.meshgrid(drive_amplitudes_list, n_trials_list)\n",
    "\n",
    "ax.plot_surface(X, Y, cc)\n",
    "ax.set_xlabel('Drive Amplitude')\n",
    "ax.set_ylabel('# Trials')\n",
    "ax.set_zlabel('Correlation Coefficient')\n",
    "\n",
    "plt.tight_layout()"
   ]
  }
 ],
 "metadata": {
  "kernelspec": {
   "display_name": "Python 3",
   "language": "python",
   "name": "python3"
  },
  "language_info": {
   "codemirror_mode": {
    "name": "ipython",
    "version": 3
   },
   "file_extension": ".py",
   "mimetype": "text/x-python",
   "name": "python",
   "nbconvert_exporter": "python",
   "pygments_lexer": "ipython3",
   "version": "3.5.1"
  }
 },
 "nbformat": 4,
 "nbformat_minor": 0
}
