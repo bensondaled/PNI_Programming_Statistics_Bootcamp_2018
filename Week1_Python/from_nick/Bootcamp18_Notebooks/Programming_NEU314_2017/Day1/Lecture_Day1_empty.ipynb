{
 "cells": [
  {
   "cell_type": "markdown",
   "metadata": {},
   "source": [
    "# PNI Math Tools 2017 -- Programming module -- Day 1\n",
    "*Materials originally adapted by Nick Roy from the 2016 Cognitive and Computational Neuroscience Summer School in Shanghai, China; then modified by Carlos Brody and Stephen Keeley*\n",
    "\n",
    "### Items to be covered\n",
    "\n",
    "1. Using Python \n",
    "2. Variables and simple math operators\n",
    "3. Data types: Integers, floats, complex, strings\n",
    "4. Sequences of operations in a cell; sequences of cells\n",
    "5. Lists\n",
    "6. **Control flow:**\n",
    "    1. if/else\n",
    "    2. while\n",
    "    3. break \n",
    "7. Using Functions\n",
    "8. Debugging\n",
    "\n",
    "    \n"
   ]
  },
  {
   "cell_type": "markdown",
   "metadata": {},
   "source": [
    "## Python -- an interpreted, interactive language\n",
    "\n",
    "Python is *interpreted* and runs with an *interactive console*. This contrasts with *compiled* languages like C or C++, in which you write a whole program, \"compile\" it to translate into your CPU's machine language, and then run the whole thing. Instead of that, in Python you can run little snippets of code whenever you want (it translates the snippet to your CPU's machine language when you ask to tun it). This makes it easy to try code out as you write it, or explore data graphically as you analyze it. In its simplest form, you can use Python as a calculator.\n",
    "\n",
    "\n",
    "\n"
   ]
  },
  {
   "cell_type": "markdown",
   "metadata": {},
   "source": [
    "### example: let's use Python as a calculator\n",
    "\n"
   ]
  },
  {
   "cell_type": "code",
   "execution_count": null,
   "metadata": {
    "collapsed": true
   },
   "outputs": [],
   "source": []
  },
  {
   "cell_type": "markdown",
   "metadata": {},
   "source": [
    "\n",
    "# Variables and simple math operators: +, -, *, /, %\n",
    "\n",
    "You can store values in memories. Each memory is referred to by a name (which will usually start with a letter and can contain underscores and numbers), and is called a \"variable\" because the contents of that memory can vary.\n"
   ]
  },
  {
   "cell_type": "code",
   "execution_count": null,
   "metadata": {
    "collapsed": true
   },
   "outputs": [],
   "source": [
    "thismem = 400   # the = sign is known as \"the assigment operator\": it tries to run whatever is to its right\n",
    "                # until it gets a result, and then stores that result in a memory with the name given by\n",
    "                # what is to the left of the = sign\n",
    "thatmem = 20 + 10\n",
    "\n",
    "# Within-code text comments start with a hash # sign \n",
    "\n",
    "# Variables can be used within mathematical expressions just the way numbers can; Python automatically replaces \n",
    "# the variable name with its value\n",
    "whotsit = thismem / 4\n",
    "\n",
    "# You can examine the content of a variable by putting it at the end of your celll\n",
    "whotsit\n"
   ]
  },
  {
   "cell_type": "markdown",
   "metadata": {},
   "source": [
    "comments: good for letting others (and your future self) know what the code is doing\n",
    "\n",
    "*Tip:* Use ```Command + /``` to comment and uncomment lines"
   ]
  },
  {
   "cell_type": "code",
   "execution_count": null,
   "metadata": {
    "collapsed": true
   },
   "outputs": [],
   "source": [
    "whotsit = whotsit * (2+3)\n",
    "whotsit"
   ]
  },
  {
   "cell_type": "code",
   "execution_count": null,
   "metadata": {
    "collapsed": true
   },
   "outputs": [],
   "source": [
    "# Or to see the contents of a variable, use the \"print\" command\n",
    "\n",
    "print(whotsit)\n",
    "print(\"anything here = \", whotsit, \"\\n\\n\\n\\n\")\n",
    "\n",
    "print(\"thismem = \", thismem, \"\\n\", \"whotsit = \", whotsit)"
   ]
  },
  {
   "cell_type": "code",
   "execution_count": null,
   "metadata": {
    "collapsed": true
   },
   "outputs": [],
   "source": [
    "print(\"variable undeclared has value = \", undeclared)\n",
    "\n"
   ]
  },
  {
   "cell_type": "code",
   "execution_count": null,
   "metadata": {
    "collapsed": true
   },
   "outputs": [],
   "source": []
  },
  {
   "cell_type": "code",
   "execution_count": null,
   "metadata": {},
   "outputs": [],
   "source": [
    "#the modulo operator %, returns the remainder after a division."
   ]
  },
  {
   "cell_type": "markdown",
   "metadata": {},
   "source": [
    "## What can we store in a memory? Some variable content \"types\": integers, floats, complex, strings, boolean"
   ]
  },
  {
   "cell_type": "markdown",
   "metadata": {},
   "source": [
    "### Integers\n",
    "\n",
    "Integers represent whole numbers. We can use the `type` to get the type of the object."
   ]
  },
  {
   "cell_type": "code",
   "execution_count": null,
   "metadata": {
    "collapsed": true
   },
   "outputs": [],
   "source": []
  },
  {
   "cell_type": "code",
   "execution_count": null,
   "metadata": {
    "collapsed": true
   },
   "outputs": [],
   "source": [
    "\n"
   ]
  },
  {
   "cell_type": "code",
   "execution_count": null,
   "metadata": {
    "collapsed": true
   },
   "outputs": [],
   "source": []
  },
  {
   "cell_type": "markdown",
   "metadata": {},
   "source": [
    "### floats"
   ]
  },
  {
   "cell_type": "markdown",
   "metadata": {},
   "source": [
    "A float represents a real, analog, number."
   ]
  },
  {
   "cell_type": "code",
   "execution_count": null,
   "metadata": {},
   "outputs": [],
   "source": [
    "\n"
   ]
  },
  {
   "cell_type": "markdown",
   "metadata": {},
   "source": [
    "Python supports scientific notation"
   ]
  },
  {
   "cell_type": "code",
   "execution_count": null,
   "metadata": {},
   "outputs": [],
   "source": []
  },
  {
   "cell_type": "markdown",
   "metadata": {},
   "source": [
    "Pitfall:\n",
    "Unlike math in the abstract, computers have a limited amount of precision, so be carefully when working with very small numbers"
   ]
  },
  {
   "cell_type": "code",
   "execution_count": null,
   "metadata": {},
   "outputs": [],
   "source": [
    "\n"
   ]
  },
  {
   "cell_type": "markdown",
   "metadata": {},
   "source": [
    "### complex numbers\n",
    "$j = \\sqrt{-1}$"
   ]
  },
  {
   "cell_type": "code",
   "execution_count": null,
   "metadata": {},
   "outputs": [],
   "source": []
  },
  {
   "cell_type": "markdown",
   "metadata": {},
   "source": [
    "### strings are sequences of letters"
   ]
  },
  {
   "cell_type": "code",
   "execution_count": null,
   "metadata": {
    "collapsed": true
   },
   "outputs": [],
   "source": []
  },
  {
   "cell_type": "markdown",
   "metadata": {},
   "source": [
    "When you use double quotes (`\"`), you can include single quotes (`'`) in your string"
   ]
  },
  {
   "cell_type": "code",
   "execution_count": null,
   "metadata": {
    "collapsed": true
   },
   "outputs": [],
   "source": []
  },
  {
   "cell_type": "markdown",
   "metadata": {},
   "source": [
    "Alternatively, when you want to include double quotes in your string, use single quotes to define the string"
   ]
  },
  {
   "cell_type": "code",
   "execution_count": null,
   "metadata": {},
   "outputs": [],
   "source": []
  },
  {
   "cell_type": "markdown",
   "metadata": {},
   "source": [
    "special characters can be created with `\\`\n",
    "\n",
    "tab: `\\t`\n",
    "\n",
    "newline: `\\n`"
   ]
  },
  {
   "cell_type": "code",
   "execution_count": null,
   "metadata": {},
   "outputs": [],
   "source": []
  },
  {
   "cell_type": "code",
   "execution_count": null,
   "metadata": {},
   "outputs": [],
   "source": []
  },
  {
   "cell_type": "markdown",
   "metadata": {},
   "source": [
    "### lists -- collections of variables, NOT arrays or vectors"
   ]
  },
  {
   "cell_type": "code",
   "execution_count": null,
   "metadata": {
    "collapsed": true
   },
   "outputs": [],
   "source": []
  },
  {
   "cell_type": "code",
   "execution_count": null,
   "metadata": {
    "collapsed": true
   },
   "outputs": [],
   "source": []
  },
  {
   "cell_type": "code",
   "execution_count": null,
   "metadata": {
    "collapsed": true
   },
   "outputs": [],
   "source": []
  },
  {
   "cell_type": "markdown",
   "metadata": {},
   "source": [
    "### boolean -- operators and (&), or (|), not\n",
    "Represents True/False"
   ]
  },
  {
   "cell_type": "code",
   "execution_count": null,
   "metadata": {
    "collapsed": true
   },
   "outputs": [],
   "source": []
  },
  {
   "cell_type": "code",
   "execution_count": null,
   "metadata": {
    "collapsed": true
   },
   "outputs": [],
   "source": []
  },
  {
   "cell_type": "code",
   "execution_count": null,
   "metadata": {
    "collapsed": true
   },
   "outputs": [],
   "source": [
    "\n"
   ]
  },
  {
   "cell_type": "code",
   "execution_count": null,
   "metadata": {
    "collapsed": true
   },
   "outputs": [],
   "source": [
    "  # remember that small number pitfall -- finite precision!!!"
   ]
  },
  {
   "cell_type": "markdown",
   "metadata": {},
   "source": [
    "---\n",
    "# Controlling which bits of code get executed, and when\n",
    "conditionals, branching, and loops"
   ]
  },
  {
   "cell_type": "markdown",
   "metadata": {},
   "source": [
    "### if, elif, else\n",
    "\n",
    "    if (something that results in a boolean, i.e., is either True or False):\n",
    "        if the boolean was True, then execute this\n",
    "        and that\n",
    "        all lines that are indented\n",
    "    elif (some other thing that results in a boolean):\n",
    "        some other lines\n",
    "        that can be executed\n",
    "    else:\n",
    "        if none of the booleans were True (i.e., they were all false),\n",
    "        execute these lines\n",
    "    \n",
    "    when the indentation ends, the \"if\" block ends.\n",
    "    \n",
    "    The elif: and the else: parts are optional\n"
   ]
  },
  {
   "cell_type": "code",
   "execution_count": null,
   "metadata": {
    "collapsed": true
   },
   "outputs": [],
   "source": [
    "users_number = input(\"Please type a number bigger than 5, then the <ENTER> key: \")\n",
    "print(type(users_number))\n",
    "users_number = float(users_number)  # the result from \"input()\" is a string, this instruction turns it into a number\n",
    "\n",
    "# print(type(users_number))\n"
   ]
  },
  {
   "cell_type": "markdown",
   "metadata": {},
   "source": [
    "### while loop -- execute a chunk of code as long as a condition is True"
   ]
  },
  {
   "cell_type": "code",
   "execution_count": null,
   "metadata": {
    "collapsed": true
   },
   "outputs": [],
   "source": []
  },
  {
   "cell_type": "code",
   "execution_count": null,
   "metadata": {
    "collapsed": true
   },
   "outputs": [],
   "source": [
    "\n"
   ]
  },
  {
   "cell_type": "markdown",
   "metadata": {},
   "source": [
    "Do in-class example: count down from 10 in steps of 2"
   ]
  },
  {
   "cell_type": "code",
   "execution_count": null,
   "metadata": {
    "collapsed": true
   },
   "outputs": [],
   "source": [
    "\n",
    "    "
   ]
  },
  {
   "cell_type": "markdown",
   "metadata": {},
   "source": [
    "## break\n",
    "`break` will let you jump out of the of the loop. This is very useful with along with an `if` for when you don't know exactly when you want to stop, but you know the condition."
   ]
  },
  {
   "cell_type": "code",
   "execution_count": null,
   "metadata": {
    "collapsed": true
   },
   "outputs": [],
   "source": [
    "#let's sum all integers until the total is more than 20\n",
    "\n"
   ]
  },
  {
   "cell_type": "markdown",
   "metadata": {},
   "source": [
    "## Functions"
   ]
  },
  {
   "cell_type": "markdown",
   "metadata": {},
   "source": [
    "#### The rule of two:\n",
    "    If you find yourself writing the same piece of code twice, put it in a function!\n",
    "    \n",
    "This way, when you want to make a change, you don't have to remember every single place in your code that you used the same computation.\n",
    "\n",
    "A function encapsulates a single computation with an input and (possibly) an output.\n",
    "\n",
    "- When we *declare* (i.e. define) a function, the input is represented by a dummy variable, which we call a *parameter*.\n",
    "- The ouput is specified by the *return value*.\n",
    "- When we *call* (i.e. use) a function, the actual value that we provide for the input is called the *argument*.\n",
    "\n",
    "In the example below, we fist declare the function `f` with the parameter `x`. Then we use it by passing it an argument of `3`. The return value is `7`."
   ]
  },
  {
   "cell_type": "code",
   "execution_count": null,
   "metadata": {
    "collapsed": true
   },
   "outputs": [],
   "source": []
  },
  {
   "cell_type": "markdown",
   "metadata": {},
   "source": [
    "Stepping through what Python does when a function is called:\n",
    "1. Python takes whatever is in the parenthesis of the calling statement and runs that code first, until it evaluates to something (e.g., a number)\n",
    "2. Then it opens a new (almost) private namespace for inside the function, and assigns the results of the evaluation to variables with the names of the parameters in the definition of the function\n",
    "3. Then it runs the code inside the function\n",
    "4. If there is a \"return\" statement, it returns some values that can be used outside the function. A function with a single output evaluates to that output, just like 2\\*3 evaluates to 6. (In fact, 2\\*3 is shorthand for multiply(2,3).)\n",
    " "
   ]
  },
  {
   "cell_type": "code",
   "execution_count": null,
   "metadata": {},
   "outputs": [],
   "source": []
  },
  {
   "cell_type": "markdown",
   "metadata": {},
   "source": [
    "The debugger can be a useful beast, letting you step through each line of code, examining the results after each line.\n",
    "\n",
    "Within-debugger commands include\n",
    "\n",
    "    n    execute current line, move to next line\n",
    "    s    step into a function if there is one in the current line\n",
    "    r    continue executing the current function, not stopping until it returns\n",
    "    c    continue without stopping\n",
    "and importantly\n",
    "\n",
    "    h    for help"
   ]
  },
  {
   "cell_type": "code",
   "execution_count": null,
   "metadata": {},
   "outputs": [],
   "source": [
    "%%debug\n"
   ]
  },
  {
   "cell_type": "markdown",
   "metadata": {},
   "source": [
    "Functions can have more than one input/output, or even no inputs and outputs."
   ]
  },
  {
   "cell_type": "code",
   "execution_count": null,
   "metadata": {},
   "outputs": [],
   "source": []
  },
  {
   "cell_type": "markdown",
   "metadata": {},
   "source": [
    "## Programming is using sequences of existing commands and functions to build more complex commands and functions-- that you can then build on again"
   ]
  },
  {
   "cell_type": "markdown",
   "metadata": {},
   "source": [
    "In-class example: write a function that, using only addition and subtraction, multiplies two numbers and returns the result"
   ]
  },
  {
   "cell_type": "code",
   "execution_count": null,
   "metadata": {},
   "outputs": [],
   "source": []
  }
 ],
 "metadata": {
  "anaconda-cloud": {},
  "kernelspec": {
   "display_name": "Python [default]",
   "language": "python",
   "name": "python3"
  },
  "language_info": {
   "codemirror_mode": {
    "name": "ipython",
    "version": 3
   },
   "file_extension": ".py",
   "mimetype": "text/x-python",
   "name": "python",
   "nbconvert_exporter": "python",
   "pygments_lexer": "ipython3",
   "version": "3.5.2"
  }
 },
 "nbformat": 4,
 "nbformat_minor": 1
}
