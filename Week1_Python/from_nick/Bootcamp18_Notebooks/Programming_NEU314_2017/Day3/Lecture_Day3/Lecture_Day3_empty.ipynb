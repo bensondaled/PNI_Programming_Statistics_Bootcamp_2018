{
 "cells": [
  {
   "cell_type": "markdown",
   "metadata": {},
   "source": [
    "# PNI Biomath 2017 -- Programming module -- Day 3\n",
    "\n",
    "\n",
    "### Items to be covered\n",
    "\n",
    "0. For writing and debugging code, the importance of thinking like a computer\n",
    "0. **Thinking sequentially, like a computer:** Stepping carefully through how a function works\n",
    "1. Modules\n",
    "2. **Thinking sequentially, like a computer:** Recap of FOR loops and debugging using question 6 from the Day 2 Exercises \n",
    "3. Documentation and Updating\n",
    "4. Packages\n",
    "5. Plotting\n",
    "6. Numpy\n",
    "7. Scipy\n",
    "\n",
    "\n",
    "\n",
    "\n"
   ]
  },
  {
   "cell_type": "markdown",
   "metadata": {},
   "source": [
    "# Computers are very stupid: they only do what you tell them to do, in the order you tell them to do it!\n",
    "\n",
    "When you use your smartphone or your laptop, computers can seem almost magical: at the touch of a button you are using them to watch a video, search the internet, or recognize and carry out a request that you voiced. Yet the elementary functions that they can do, down at the hardware transistor level, are incredibly simple: digital computers work exclusively with 0s and 1s (bits),  they know how to do AND, OR, NOT, and can put or retrieve a single bit in memory. That's about it. Really.\n",
    "\n",
    "Seems kind of amazing. _How do you go from something so elementary all the way to understanding spoken speech or running a word processor?_\n",
    "\n",
    "In a sense, the answer is **using functions as building blocks that build on each other**. Think of the elementary operations a computer can do as building blocks. You can put some of these building blocks together, to do something new and useful, and that is now a new building block, that you can in turn build on.  For example, using the Boolean logic functions (AND, OR, NOT) you can put together a sequence that implements the addition of two multi-digit binary numbers held in memory.  Let's call that our new function SUM(). If you implemented, debugged, and encapsulated that function well, that is now a new building block that you and others can use: you now treat SUM() just like you would treat a native operation like AND() or OR(). [In particular, by encapsulation we mean that you when you use it, you can do so without worrying at all about how it was implemented internally: you're confident that it works (it's been fully debugged), running SUM() isn't going to interfere with any other code you are writing, and the only brain space you need to devote to SUM() is to know that if you give it two numbers, it produces their sum.]\n",
    "\n",
    "Using SUM(), you could now write a new function to define MULTIPLICATION(). Tadaa! Now you can multiply!  You could then use MULTIPLICATION() to write an POWER() function, to raise one number to some power. And so on and so on, all the way to word processors and Python and all the rest. Even though at the bottom it is still all AND, OR, NOT, and single binary digits.  The exercises following Lecture 2 contained a series of problems that were all about this: building a single die, from there rolling it many times, from there computing some statistics about large numbers of rolls, etc.\n",
    "\n",
    "## Thinking sequentially, like a stupid computer, is at the heart of writing and debugging code\n",
    "\n",
    "One common mistake that we make is that, because we're so used to computers doing seemingly-magical things (and by the level of Python, some of its commands are pretty magical), when we're trying to write or debug some code, we guess an answer as to what the code should look like, and hope the computer will understand what we mean and what we want it to do. But when we do that, we forget the cardinal rule for thinking like a computer: *Computers are stupid. They only know about doing what you told them to do, in the order you told them to do it.*  They don't think ahead, nor can they guess what you meant and implement that.\n",
    "\n",
    "> I know. Some of you will point out at this point that, contrary to what we've written here, when you mistype a search into Google, it *does* think ahead and guess what you meant, and suggests and implements that! But that is the result of many many levels of building blocks as we described before. When working with Python or any other scientific programming language, you're well below your computer guessing what you mean.\n",
    "\n",
    "So, to write code, and specially to debug it, you have to stop and think like a computer. (Which is a super-weird thing to do if you're not used to it, humans don't work like that.) \n",
    "\n",
    "Whhen you're **writing** code, think *what is the sequence of steps that I would have to spell out for my brainless computer so that at the end of that sequence, it reaches the result I wanted*? In other words, how do you take the building blocks you already have and arrange them into a sequence, i.e. a new building block that achieves what you want?  If you have a large problem, how do you split it into simpler building blocks? And then for each of those simpler building blocks, how would you split that, until you reach building blocks already available to you? \n",
    "\n",
    "When you're **debugging** code, mentally step through each line of your code, simulating what you've asked the computer to do. At each step of the code, think *what are the values of the variables that I'm working with when the computer reaches this line of code?* And *if the computer knows nothing else and doesn't know what I'm trying to do, what will be the result of executing the line of code*?  And then iterate, thinking that as you step through each line.\n",
    "\n",
    "===\n",
    "\n",
    "### So, some items for today\n",
    "\n",
    "In the spirit of the comments above, among other things today we'll carefully go over two examples: \n",
    "\n",
    "1. What are the sequence of steps that calling a function implements? This will also allow us to review the very important concept of namespaces.  \n",
    "2. How to we debug a problem with a FOR loop?\n",
    "\n",
    "\n",
    "Have fun!\n"
   ]
  },
  {
   "cell_type": "code",
   "execution_count": null,
   "metadata": {
    "collapsed": true
   },
   "outputs": [],
   "source": [
    "def f(x):\n",
    "    return x*x"
   ]
  },
  {
   "cell_type": "code",
   "execution_count": null,
   "metadata": {},
   "outputs": [],
   "source": [
    "y = 2\n",
    "\n",
    "a = f(3*y)\n",
    "print(a)"
   ]
  },
  {
   "cell_type": "markdown",
   "metadata": {},
   "source": [
    "---\n",
    "# Modules\n",
    "modular programming"
   ]
  },
  {
   "cell_type": "markdown",
   "metadata": {},
   "source": [
    "## modules"
   ]
  },
  {
   "cell_type": "markdown",
   "metadata": {},
   "source": [
    "Modules let you collect all of your functions in a centralized location, so that you can apply the \"rule of two\" across multiple files.\n",
    "\n",
    "*Make sure the module you're trying to import (i.e. `myModule.py`) is in the same folder as your notebook!*\n",
    "\n",
    "You can import specific functions or variables into your namespace:"
   ]
  },
  {
   "cell_type": "code",
   "execution_count": 4,
   "metadata": {},
   "outputs": [
    {
     "ename": "NameError",
     "evalue": "name 'tall' is not defined",
     "output_type": "error",
     "traceback": [
      "\u001b[0;31m---------------------------------------------------------------------------\u001b[0m",
      "\u001b[0;31mNameError\u001b[0m                                 Traceback (most recent call last)",
      "\u001b[0;32m<ipython-input-4-ecdf23b4e87a>\u001b[0m in \u001b[0;36m<module>\u001b[0;34m()\u001b[0m\n\u001b[1;32m      1\u001b[0m \u001b[0;32mfrom\u001b[0m \u001b[0mmyModule\u001b[0m \u001b[0;32mimport\u001b[0m \u001b[0mf\u001b[0m\u001b[0;34m,\u001b[0m \u001b[0mpi\u001b[0m\u001b[0;34m\u001b[0m\u001b[0m\n\u001b[1;32m      2\u001b[0m \u001b[0;34m\u001b[0m\u001b[0m\n\u001b[0;32m----> 3\u001b[0;31m \u001b[0mprint\u001b[0m\u001b[0;34m(\u001b[0m\u001b[0mtall\u001b[0m\u001b[0;34m)\u001b[0m\u001b[0;34m\u001b[0m\u001b[0m\n\u001b[0m\u001b[1;32m      4\u001b[0m \u001b[0;34m\u001b[0m\u001b[0m\n",
      "\u001b[0;31mNameError\u001b[0m: name 'tall' is not defined"
     ]
    }
   ],
   "source": [
    "from myModule import *\n",
    "\n",
    "print(tall)\n",
    "\n"
   ]
  },
  {
   "cell_type": "markdown",
   "metadata": {},
   "source": [
    "You can also choose to import *everything* in a module:"
   ]
  },
  {
   "cell_type": "code",
   "execution_count": 6,
   "metadata": {},
   "outputs": [
    {
     "name": "stdout",
     "output_type": "stream",
     "text": [
      "18\n"
     ]
    }
   ],
   "source": [
    "import myModule as mm\n",
    "\n",
    "output = myModule.f(3)\n",
    "\n",
    "print(output)\n"
   ]
  },
  {
   "cell_type": "markdown",
   "metadata": {},
   "source": [
    "Or you can import the whole module and the functions and variables are available as sub-parts"
   ]
  },
  {
   "cell_type": "code",
   "execution_count": 7,
   "metadata": {},
   "outputs": [
    {
     "data": {
      "text/plain": [
       "18"
      ]
     },
     "execution_count": 7,
     "metadata": {},
     "output_type": "execute_result"
    }
   ],
   "source": [
    "import myModule as mm\n",
    "\n",
    "mm.f(3)"
   ]
  },
  {
   "cell_type": "code",
   "execution_count": 11,
   "metadata": {
    "collapsed": true
   },
   "outputs": [],
   "source": [
    "#%load_ext autoreload\n",
    "\n",
    "%autoreload\n",
    "\n",
    "from myModule import f"
   ]
  },
  {
   "cell_type": "code",
   "execution_count": 10,
   "metadata": {
    "collapsed": true
   },
   "outputs": [],
   "source": [
    "f"
   ]
  },
  {
   "cell_type": "markdown",
   "metadata": {},
   "source": [
    "## documentation"
   ]
  },
  {
   "cell_type": "markdown",
   "metadata": {},
   "source": [
    "You can use\n",
    "\n",
    "    help()\n",
    "    \n",
    "or \n",
    "    ?\n",
    "    \n",
    "or, in Jupyter, *Shift* + *Tab* to get information about the module and its functions through the \"doc string\"s that you wrote. (Of course you wrote them! Long, clear, and detailed, right?)"
   ]
  },
  {
   "cell_type": "code",
   "execution_count": null,
   "metadata": {},
   "outputs": [],
   "source": [
    "f"
   ]
  },
  {
   "cell_type": "markdown",
   "metadata": {},
   "source": [
    "In the Jupyter notebook, when the cursor is inside the function parentheses, press `Tab` to get a reminder of parameter names."
   ]
  },
  {
   "cell_type": "code",
   "execution_count": 4,
   "metadata": {},
   "outputs": [],
   "source": [
    "def f(x):\n",
    "    \"\"\"\n",
    "    SOEM COOL THING that says exactly what this does and why\n",
    "    \"\"\"\n",
    "    return x*x\n",
    "\n",
    "f?\n"
   ]
  },
  {
   "cell_type": "markdown",
   "metadata": {},
   "source": [
    "## Example Problem: Loading, and Recap of FOR loops and debugging\n",
    "\n",
    "Using an example from your exercise set on Tuesday, we will go through question six.\n",
    "\n",
    "Within Python, you can load easily MATLAB data using the SciPy function loadmat(). This will create a variable called mystring that contains some text. We also define a new string called vowels.\n",
    "\n",
    "Using a loop through the elements of your vowels string, compute how many times each vowel appears in the text of mystring (i.e., how many ‘a’, how many ‘e’, how many ‘i’, etc.)."
   ]
  },
  {
   "cell_type": "code",
   "execution_count": 5,
   "metadata": {},
   "outputs": [
    {
     "name": "stdout",
     "output_type": "stream",
     "text": [
      "{'__header__': b'MATLAB 5.0 MAT-file, Platform: MACI, Created on: Tue Aug 16 08:00:18 2011', '__version__': '1.0', '__globals__': [], 'str': array([ \"The air of the room chilled his shoulders. He stretched\\nhimself cautiously along under the sheets and lay down\\nbeside his wife. One by one, they were all becoming\\nshades. Better pass boldly into that other world, in\\nthe full glory of some passion, than fade and wither\\ndismally with age. He thought of how she who lay beside\\nhim had locked in her heart for so many years that image\\nof her lover's eyes when he had told her that he did\\nnot wish to live.\\n\\nGenerous tears filled Gabriel's eyes. He had never felt\\nlike that himself towards any woman, but he knew that such\\na feeling must be love. The tears gathered more thickly in\\nhis eyes and in the partial darkness he imagined he saw the\\nform of a young man standing under a dripping tree. Other\\nforms were near. His soul had approached that region where\\ndwell the vast hosts of the dead. He was conscious of, but\\ncould not apprehend, their wayward and flickering existence.\\nHis own identity was fading out into a grey impalpable world:\\nthe solid world itself, which these dead had one time reared\\nand lived in, was dissolving and dwindling.\\n\\nA few light taps upon the pane made him turn to the window.\\nIt had begun to snow again. He watched sleepily the flakes,\\nsilver and dark, falling obliquely against the lamplight.\\nThe time had come for him to set out on his journey westward.\\nYes, the newspapers were right: snow was general all over\\nIreland. It was falling on every part of the dark central\\nplain, on the treeless hills, falling softly upon the\\nBog of Allen and, farther westward, softly falling into\\nthe dark mutinous Shannon waves. It was falling, too,\\nupon every part of the lonely churchyard on the hill where\\nMichael Furey lay buried. It lay thickly drifted on the\\ncrooked crosses and headstones, on the spears of the little\\ngate, on the barren thorns. His soul swooned slowly as he\\nheard the snow falling faintly through the universe and\\nfaintly falling, like the descent of their last end,\\nupon all the living and the dead.\"], \n",
      "      dtype='<U1988')}\n"
     ]
    }
   ],
   "source": [
    "### Here we load the string from the .mat file for you (try printing mystring to see what it says!)\n",
    "from scipy.io import loadmat\n",
    "mystring = loadmat('joyce.mat')['str'][0]\n",
    "\n",
    "print(mystring)\n",
    "\n",
    "\n",
    "# for v in vowels: #Cycle through all vowels\n",
    "#     count = 0\n",
    "#     for c in mystring: #Cycling through all characters in string\n",
    "\n",
    "#         if c == v:\n",
    "#             count +=1\n",
    "#     print(v,count)\n"
   ]
  },
  {
   "cell_type": "code",
   "execution_count": 16,
   "metadata": {
    "collapsed": true
   },
   "outputs": [],
   "source": [
    "# Remember FOR loops"
   ]
  },
  {
   "cell_type": "code",
   "execution_count": null,
   "metadata": {},
   "outputs": [],
   "source": []
  },
  {
   "cell_type": "markdown",
   "metadata": {},
   "source": [
    "---\n",
    "# Packages\n",
    "big projects, sharing code"
   ]
  },
  {
   "cell_type": "markdown",
   "metadata": {},
   "source": [
    "## packages"
   ]
  },
  {
   "cell_type": "markdown",
   "metadata": {},
   "source": [
    "* collections of modules\n",
    "* cross-language integration\n",
    "* distribution"
   ]
  },
  {
   "cell_type": "markdown",
   "metadata": {},
   "source": [
    "## distribution"
   ]
  },
  {
   "cell_type": "markdown",
   "metadata": {},
   "source": [
    "From simplest to most complicated:\n",
    "1. Anaconda: `conda install [package]`\n",
    "2. PIP / PyPI: `pip install [package]`\n",
    "3. GitHub / Git: `git clone [package]`"
   ]
  },
  {
   "cell_type": "markdown",
   "metadata": {},
   "source": [
    "---\n",
    "# Plotting"
   ]
  },
  {
   "cell_type": "markdown",
   "metadata": {},
   "source": [
    "## matplotlib"
   ]
  },
  {
   "cell_type": "markdown",
   "metadata": {},
   "source": [
    "Plotting in Python is done through the `pyplot` module in the `matplotlib` package. More on models and packages later. For know, just know that, to use this functionality, you'll need to run the following commands in any notebook that uses this for plotting. "
   ]
  },
  {
   "cell_type": "code",
   "execution_count": null,
   "metadata": {
    "collapsed": true
   },
   "outputs": [],
   "source": [
    "# this line is ALWAYS needed for plotting\n",
    "from matplotlib import pyplot as plt\n"
   ]
  },
  {
   "cell_type": "code",
   "execution_count": 15,
   "metadata": {},
   "outputs": [
    {
     "data": {
      "text/plain": [
       "[<matplotlib.lines.Line2D at 0x118253a90>]"
      ]
     },
     "execution_count": 15,
     "metadata": {},
     "output_type": "execute_result"
    },
    {
     "data": {
      "image/png": "[encoded data removed]",
      "text/plain": [
       "<matplotlib.figure.Figure at 0x117f83ef0>"
      ]
     },
     "metadata": {},
     "output_type": "display_data"
    }
   ],
   "source": [
    "# The following line makes plots show up within the notebook\n",
    "%matplotlib inline\n",
    "\n",
    "# Now lets import the plotting module from the package matplotlib\n",
    "from matplotlib import pyplot as plt\n",
    "\n",
    "#import the numerical package \n",
    "import numpy as np\n",
    "\n",
    "\n",
    "ncycles = 4 \n",
    "\n",
    "#produce a vector whose elements start at 0, to to 2*np.pi*ncycles in steps of np.pi/10\n",
    "\n",
    "t = np.arange(0,2*np.pi*ncycles, np.pi/20)\n",
    "\n",
    "plt.plot(t,np.sin(t),'rv-')\n",
    "\n"
   ]
  },
  {
   "cell_type": "code",
   "execution_count": 7,
   "metadata": {},
   "outputs": [
    {
     "name": "stdout",
     "output_type": "stream",
     "text": [
      "[ 0.          0.29552021  0.56464247]\n"
     ]
    }
   ],
   "source": [
    "t = np.array([0, 0.3, 0.6])\n",
    "print(np.sin(t))"
   ]
  },
  {
   "cell_type": "code",
   "execution_count": null,
   "metadata": {
    "collapsed": true
   },
   "outputs": [],
   "source": [
    "# The following alternative line uses the dafault \"plotting back end\" on your computer\n",
    "# You might need to restart the kernel and clear outputs if you want to switch to this external plotting form\n",
    "%matplotlib inline\n",
    "\n",
    "\n"
   ]
  },
  {
   "cell_type": "markdown",
   "metadata": {},
   "source": [
    "## Plotting single points"
   ]
  },
  {
   "cell_type": "markdown",
   "metadata": {},
   "source": [
    "First let's plot a single point\n",
    "\n",
    "`plt.plot(x, y, format_str)`\n",
    "- `x`: x coordinate\n",
    "- `y`: y coordinate\n",
    "- `format_str`: formatting string"
   ]
  },
  {
   "cell_type": "code",
   "execution_count": 17,
   "metadata": {},
   "outputs": [
    {
     "data": {
      "text/plain": [
       "[<matplotlib.lines.Line2D at 0x11844fe48>]"
      ]
     },
     "execution_count": 17,
     "metadata": {},
     "output_type": "execute_result"
    },
    {
     "data": {
      "image/png": "[encoded data removed]",
      "text/plain": [
       "<matplotlib.figure.Figure at 0x118370f28>"
      ]
     },
     "metadata": {},
     "output_type": "display_data"
    }
   ],
   "source": [
    "plt.plot(2,3,'v')"
   ]
  },
  {
   "cell_type": "markdown",
   "metadata": {},
   "source": [
    "We can change the shape of the marker with the format string\n",
    "*Note:* The semicolon at the end of the plotting command surpresses the output of the name of the plotting object (e.g. *[< matplotlib.lines.Line2D at 0x10fe4da58>]*, as seen above), but not the plot itself"
   ]
  },
  {
   "cell_type": "code",
   "execution_count": null,
   "metadata": {
    "collapsed": true
   },
   "outputs": [],
   "source": []
  },
  {
   "cell_type": "markdown",
   "metadata": {},
   "source": [
    "We can also specify a color in the format string"
   ]
  },
  {
   "cell_type": "code",
   "execution_count": 19,
   "metadata": {},
   "outputs": [
    {
     "data": {
      "text/plain": [
       "(0, 5)"
      ]
     },
     "execution_count": 19,
     "metadata": {},
     "output_type": "execute_result"
    },
    {
     "data": {
      "image/png": "[encoded data removed]",
      "text/plain": [
       "<matplotlib.figure.Figure at 0x118267198>"
      ]
     },
     "metadata": {},
     "output_type": "display_data"
    }
   ],
   "source": [
    "plt.plot(1,2,'ro')\n",
    "plt.plot(2,3,'ro')\n",
    "plt.plot(3,4,'ro')\n",
    "\n",
    "plt.xlim([0,5])\n",
    "plt.ylim([0,5])"
   ]
  },
  {
   "cell_type": "markdown",
   "metadata": {},
   "source": [
    "We can plot multiple points by plotting multiple times"
   ]
  },
  {
   "cell_type": "code",
   "execution_count": null,
   "metadata": {
    "collapsed": true
   },
   "outputs": [],
   "source": []
  },
  {
   "cell_type": "markdown",
   "metadata": {},
   "source": [
    "As you can see, PyPlot doesn't always pick the best defualt values for the ranges of the x- and y-axes. We can set them by hand."
   ]
  },
  {
   "cell_type": "code",
   "execution_count": null,
   "metadata": {
    "collapsed": true
   },
   "outputs": [],
   "source": []
  },
  {
   "cell_type": "markdown",
   "metadata": {},
   "source": [
    "## Plotting lines"
   ]
  },
  {
   "cell_type": "markdown",
   "metadata": {},
   "source": [
    "To plot a line, make `x` and `y` into a `list` of coordinate values"
   ]
  },
  {
   "cell_type": "code",
   "execution_count": 30,
   "metadata": {},
   "outputs": [
    {
     "data": {
      "text/plain": [
       "<matplotlib.text.Text at 0x118ee8668>"
      ]
     },
     "execution_count": 30,
     "metadata": {},
     "output_type": "execute_result"
    },
    {
     "data": {
      "image/png": "[encoded data removed]",
      "text/plain": [
       "<matplotlib.figure.Figure at 0x118e8b358>"
      ]
     },
     "metadata": {},
     "output_type": "display_data"
    }
   ],
   "source": [
    "plt.plot([1, 2, 3],[2,3,4])\n",
    "\n",
    "plt.xlabel('input')\n",
    "plt.ylabel('output')"
   ]
  },
  {
   "cell_type": "markdown",
   "metadata": {},
   "source": [
    "If we include marker shape in the format string, we can make our previous plot this way"
   ]
  },
  {
   "cell_type": "code",
   "execution_count": 28,
   "metadata": {},
   "outputs": [
    {
     "data": {
      "text/plain": [
       "[<matplotlib.axis.YTick at 0x118d5e7f0>,\n",
       " <matplotlib.axis.YTick at 0x118d5e9e8>,\n",
       " <matplotlib.axis.YTick at 0x118d5e160>,\n",
       " <matplotlib.axis.YTick at 0x118daf668>]"
      ]
     },
     "execution_count": 28,
     "metadata": {},
     "output_type": "execute_result"
    },
    {
     "data": {
      "image/png": "[encoded data removed]",
      "text/plain": [
       "<matplotlib.figure.Figure at 0x118cc4080>"
      ]
     },
     "metadata": {},
     "output_type": "display_data"
    }
   ],
   "source": [
    "h = plt.plot([[1,2],[1,2]],[[2,3],[3,4]],'r-')\n",
    "\n",
    "ax = h[0].axes\n",
    "ax.set_xticks(range(0,4))\n",
    "ax.set_yticks(range(0,4))\n"
   ]
  },
  {
   "cell_type": "markdown",
   "metadata": {},
   "source": [
    "We can also do both points and lines"
   ]
  },
  {
   "cell_type": "code",
   "execution_count": null,
   "metadata": {
    "collapsed": true
   },
   "outputs": [],
   "source": []
  },
  {
   "cell_type": "markdown",
   "metadata": {},
   "source": [
    "### plotting separate vertical lines"
   ]
  },
  {
   "cell_type": "code",
   "execution_count": null,
   "metadata": {
    "collapsed": true
   },
   "outputs": [],
   "source": []
  },
  {
   "cell_type": "markdown",
   "metadata": {},
   "source": [
    "## Additional formatting"
   ]
  },
  {
   "cell_type": "markdown",
   "metadata": {},
   "source": [
    "It's always important to label your axes!"
   ]
  },
  {
   "cell_type": "code",
   "execution_count": null,
   "metadata": {
    "collapsed": true
   },
   "outputs": [],
   "source": []
  },
  {
   "cell_type": "markdown",
   "metadata": {},
   "source": [
    "Nearly every aspect of these plots is editable -- titles, fonts, colors, tick marks, etc, etc. Google is your best friend for figuring out how to change these features."
   ]
  },
  {
   "cell_type": "markdown",
   "metadata": {},
   "source": [
    "## Multiple Plots"
   ]
  },
  {
   "cell_type": "markdown",
   "metadata": {},
   "source": [
    "Let's make two different sets of data to play with."
   ]
  },
  {
   "cell_type": "code",
   "execution_count": 33,
   "metadata": {},
   "outputs": [
    {
     "name": "stdout",
     "output_type": "stream",
     "text": [
      "x: [0, 1, 2, 3, 4, 5]\n",
      "y1: [0, 4, 8, 12, 16, 20]\n",
      "y2: [0, 1, 4, 9, 16, 25]\n"
     ]
    }
   ],
   "source": [
    "x = range(6)\n",
    "\n",
    "y1 = []\n",
    "for val in x:\n",
    "    y1 += [4*val]\n",
    "    \n",
    "y2 = []\n",
    "for val in x:\n",
    "    y2 += [val**2]\n",
    "    \n",
    "print(\"x:\", list(x))\n",
    "print(\"y1:\", y1)\n",
    "print(\"y2:\", y2)"
   ]
  },
  {
   "cell_type": "markdown",
   "metadata": {},
   "source": [
    "One way of comparing these two trends is to plot them on top of each other"
   ]
  },
  {
   "cell_type": "code",
   "execution_count": 36,
   "metadata": {},
   "outputs": [
    {
     "data": {
      "text/plain": [
       "<matplotlib.text.Text at 0x118e354a8>"
      ]
     },
     "execution_count": 36,
     "metadata": {},
     "output_type": "execute_result"
    },
    {
     "data": {
      "image/png": "[encoded data removed]",
      "text/plain": [
       "<matplotlib.figure.Figure at 0x118f63278>"
      ]
     },
     "metadata": {},
     "output_type": "display_data"
    }
   ],
   "source": [
    "plt.plot(x,y1,'r')\n",
    "plt.plot(x,y2,'b')\n",
    "\n",
    "plt.xlabel(\"x axis\")\n",
    "plt.ylabel('y label')"
   ]
  },
  {
   "cell_type": "markdown",
   "metadata": {},
   "source": [
    "Another approach is to use two subplots"
   ]
  },
  {
   "cell_type": "code",
   "execution_count": null,
   "metadata": {
    "collapsed": true
   },
   "outputs": [],
   "source": []
  },
  {
   "cell_type": "markdown",
   "metadata": {},
   "source": [
    "## Advanced Examples -- aka Eye Candy"
   ]
  },
  {
   "cell_type": "markdown",
   "metadata": {},
   "source": [
    "Don't pay too much attention to the actual implementation quite yet, this is just to show you some examples of different types of plots!\n",
    "\n",
    "Histograms"
   ]
  },
  {
   "cell_type": "code",
   "execution_count": null,
   "metadata": {
    "collapsed": true
   },
   "outputs": [],
   "source": []
  },
  {
   "cell_type": "code",
   "execution_count": null,
   "metadata": {
    "collapsed": true
   },
   "outputs": [],
   "source": []
  },
  {
   "cell_type": "markdown",
   "metadata": {},
   "source": [
    "contour plots"
   ]
  },
  {
   "cell_type": "code",
   "execution_count": null,
   "metadata": {
    "collapsed": true
   },
   "outputs": [],
   "source": []
  },
  {
   "cell_type": "markdown",
   "metadata": {},
   "source": [
    "A heart in 3D"
   ]
  },
  {
   "cell_type": "code",
   "execution_count": 1,
   "metadata": {},
   "outputs": [
    {
     "data": {
      "application/javascript": [
       "/* Put everything inside the global mpl namespace */\n",
       "window.mpl = {};\n",
       "\n",
       "\n",
       "mpl.get_websocket_type = function() {\n",
       "    if (typeof(WebSocket) !== 'undefined') {\n",
       "        return WebSocket;\n",
       "    } else if (typeof(MozWebSocket) !== 'undefined') {\n",
       "        return MozWebSocket;\n",
       "    } else {\n",
       "        alert('Your browser does not have WebSocket support.' +\n",
       "              'Please try Chrome, Safari or Firefox ≥ 6. ' +\n",
       "              'Firefox 4 and 5 are also supported but you ' +\n",
       "              'have to enable WebSockets in about:config.');\n",
       "    };\n",
       "}\n",
       "\n",
       "mpl.figure = function(figure_id, websocket, ondownload, parent_element) {\n",
       "    this.id = figure_id;\n",
       "\n",
       "    this.ws = websocket;\n",
       "\n",
       "    this.supports_binary = (this.ws.binaryType != undefined);\n",
       "\n",
       "    if (!this.supports_binary) {\n",
       "        var warnings = document.getElementById(\"mpl-warnings\");\n",
       "        if (warnings) {\n",
       "            warnings.style.display = 'block';\n",
       "            warnings.textContent = (\n",
       "                \"This browser does not support binary websocket messages. \" +\n",
       "                    \"Performance may be slow.\");\n",
       "        }\n",
       "    }\n",
       "\n",
       "    this.imageObj = new Image();\n",
       "\n",
       "    this.context = undefined;\n",
       "    this.message = undefined;\n",
       "    this.canvas = undefined;\n",
       "    this.rubberband_canvas = undefined;\n",
       "    this.rubberband_context = undefined;\n",
       "    this.format_dropdown = undefined;\n",
       "\n",
       "    this.image_mode = 'full';\n",
       "\n",
       "    this.root = $('<div/>');\n",
       "    this._root_extra_style(this.root)\n",
       "    this.root.attr('style', 'display: inline-block');\n",
       "\n",
       "    $(parent_element).append(this.root);\n",
       "\n",
       "    this._init_header(this);\n",
       "    this._init_canvas(this);\n",
       "    this._init_toolbar(this);\n",
       "\n",
       "    var fig = this;\n",
       "\n",
       "    this.waiting = false;\n",
       "\n",
       "    this.ws.onopen =  function () {\n",
       "            fig.send_message(\"supports_binary\", {value: fig.supports_binary});\n",
       "            fig.send_message(\"send_image_mode\", {});\n",
       "            if (mpl.ratio != 1) {\n",
       "                fig.send_message(\"set_dpi_ratio\", {'dpi_ratio': mpl.ratio});\n",
       "            }\n",
       "            fig.send_message(\"refresh\", {});\n",
       "        }\n",
       "\n",
       "    this.imageObj.onload = function() {\n",
       "            if (fig.image_mode == 'full') {\n",
       "                // Full images could contain transparency (where diff images\n",
       "                // almost always do), so we need to clear the canvas so that\n",
       "                // there is no ghosting.\n",
       "                fig.context.clearRect(0, 0, fig.canvas.width, fig.canvas.height);\n",
       "            }\n",
       "            fig.context.drawImage(fig.imageObj, 0, 0);\n",
       "        };\n",
       "\n",
       "    this.imageObj.onunload = function() {\n",
       "        this.ws.close();\n",
       "    }\n",
       "\n",
       "    this.ws.onmessage = this._make_on_message_function(this);\n",
       "\n",
       "    this.ondownload = ondownload;\n",
       "}\n",
       "\n",
       "mpl.figure.prototype._init_header = function() {\n",
       "    var titlebar = $(\n",
       "        '<div class=\"ui-dialog-titlebar ui-widget-header ui-corner-all ' +\n",
       "        'ui-helper-clearfix\"/>');\n",
       "    var titletext = $(\n",
       "        '<div class=\"ui-dialog-title\" style=\"width: 100%; ' +\n",
       "        'text-align: center; padding: 3px;\"/>');\n",
       "    titlebar.append(titletext)\n",
       "    this.root.append(titlebar);\n",
       "    this.header = titletext[0];\n",
       "}\n",
       "\n",
       "\n",
       "\n",
       "mpl.figure.prototype._canvas_extra_style = function(canvas_div) {\n",
       "\n",
       "}\n",
       "\n",
       "\n",
       "mpl.figure.prototype._root_extra_style = function(canvas_div) {\n",
       "\n",
       "}\n",
       "\n",
       "mpl.figure.prototype._init_canvas = function() {\n",
       "    var fig = this;\n",
       "\n",
       "    var canvas_div = $('<div/>');\n",
       "\n",
       "    canvas_div.attr('style', 'position: relative; clear: both; outline: 0');\n",
       "\n",
       "    function canvas_keyboard_event(event) {\n",
       "        return fig.key_event(event, event['data']);\n",
       "    }\n",
       "\n",
       "    canvas_div.keydown('key_press', canvas_keyboard_event);\n",
       "    canvas_div.keyup('key_release', canvas_keyboard_event);\n",
       "    this.canvas_div = canvas_div\n",
       "    this._canvas_extra_style(canvas_div)\n",
       "    this.root.append(canvas_div);\n",
       "\n",
       "    var canvas = $('<canvas/>');\n",
       "    canvas.addClass('mpl-canvas');\n",
       "    canvas.attr('style', \"left: 0; top: 0; z-index: 0; outline: 0\")\n",
       "\n",
       "    this.canvas = canvas[0];\n",
       "    this.context = canvas[0].getContext(\"2d\");\n",
       "\n",
       "    var backingStore = this.context.backingStorePixelRatio ||\n",
       "\tthis.context.webkitBackingStorePixelRatio ||\n",
       "\tthis.context.mozBackingStorePixelRatio ||\n",
       "\tthis.context.msBackingStorePixelRatio ||\n",
       "\tthis.context.oBackingStorePixelRatio ||\n",
       "\tthis.context.backingStorePixelRatio || 1;\n",
       "\n",
       "    mpl.ratio = (window.devicePixelRatio || 1) / backingStore;\n",
       "\n",
       "    var rubberband = $('<canvas/>');\n",
       "    rubberband.attr('style', \"position: absolute; left: 0; top: 0; z-index: 1;\")\n",
       "\n",
       "    var pass_mouse_events = true;\n",
       "\n",
       "    canvas_div.resizable({\n",
       "        start: function(event, ui) {\n",
       "            pass_mouse_events = false;\n",
       "        },\n",
       "        resize: function(event, ui) {\n",
       "            fig.request_resize(ui.size.width, ui.size.height);\n",
       "        },\n",
       "        stop: function(event, ui) {\n",
       "            pass_mouse_events = true;\n",
       "            fig.request_resize(ui.size.width, ui.size.height);\n",
       "        },\n",
       "    });\n",
       "\n",
       "    function mouse_event_fn(event) {\n",
       "        if (pass_mouse_events)\n",
       "            return fig.mouse_event(event, event['data']);\n",
       "    }\n",
       "\n",
       "    rubberband.mousedown('button_press', mouse_event_fn);\n",
       "    rubberband.mouseup('button_release', mouse_event_fn);\n",
       "    // Throttle sequential mouse events to 1 every 20ms.\n",
       "    rubberband.mousemove('motion_notify', mouse_event_fn);\n",
       "\n",
       "    rubberband.mouseenter('figure_enter', mouse_event_fn);\n",
       "    rubberband.mouseleave('figure_leave', mouse_event_fn);\n",
       "\n",
       "    canvas_div.on(\"wheel\", function (event) {\n",
       "        event = event.originalEvent;\n",
       "        event['data'] = 'scroll'\n",
       "        if (event.deltaY < 0) {\n",
       "            event.step = 1;\n",
       "        } else {\n",
       "            event.step = -1;\n",
       "        }\n",
       "        mouse_event_fn(event);\n",
       "    });\n",
       "\n",
       "    canvas_div.append(canvas);\n",
       "    canvas_div.append(rubberband);\n",
       "\n",
       "    this.rubberband = rubberband;\n",
       "    this.rubberband_canvas = rubberband[0];\n",
       "    this.rubberband_context = rubberband[0].getContext(\"2d\");\n",
       "    this.rubberband_context.strokeStyle = \"#000000\";\n",
       "\n",
       "    this._resize_canvas = function(width, height) {\n",
       "        // Keep the size of the canvas, canvas container, and rubber band\n",
       "        // canvas in synch.\n",
       "        canvas_div.css('width', width)\n",
       "        canvas_div.css('height', height)\n",
       "\n",
       "        canvas.attr('width', width * mpl.ratio);\n",
       "        canvas.attr('height', height * mpl.ratio);\n",
       "        canvas.attr('style', 'width: ' + width + 'px; height: ' + height + 'px;');\n",
       "\n",
       "        rubberband.attr('width', width);\n",
       "        rubberband.attr('height', height);\n",
       "    }\n",
       "\n",
       "    // Set the figure to an initial 600x600px, this will subsequently be updated\n",
       "    // upon first draw.\n",
       "    this._resize_canvas(600, 600);\n",
       "\n",
       "    // Disable right mouse context menu.\n",
       "    $(this.rubberband_canvas).bind(\"contextmenu\",function(e){\n",
       "        return false;\n",
       "    });\n",
       "\n",
       "    function set_focus () {\n",
       "        canvas.focus();\n",
       "        canvas_div.focus();\n",
       "    }\n",
       "\n",
       "    window.setTimeout(set_focus, 100);\n",
       "}\n",
       "\n",
       "mpl.figure.prototype._init_toolbar = function() {\n",
       "    var fig = this;\n",
       "\n",
       "    var nav_element = $('<div/>')\n",
       "    nav_element.attr('style', 'width: 100%');\n",
       "    this.root.append(nav_element);\n",
       "\n",
       "    // Define a callback function for later on.\n",
       "    function toolbar_event(event) {\n",
       "        return fig.toolbar_button_onclick(event['data']);\n",
       "    }\n",
       "    function toolbar_mouse_event(event) {\n",
       "        return fig.toolbar_button_onmouseover(event['data']);\n",
       "    }\n",
       "\n",
       "    for(var toolbar_ind in mpl.toolbar_items) {\n",
       "        var name = mpl.toolbar_items[toolbar_ind][0];\n",
       "        var tooltip = mpl.toolbar_items[toolbar_ind][1];\n",
       "        var image = mpl.toolbar_items[toolbar_ind][2];\n",
       "        var method_name = mpl.toolbar_items[toolbar_ind][3];\n",
       "\n",
       "        if (!name) {\n",
       "            // put a spacer in here.\n",
       "            continue;\n",
       "        }\n",
       "        var button = $('<button/>');\n",
       "        button.addClass('ui-button ui-widget ui-state-default ui-corner-all ' +\n",
       "                        'ui-button-icon-only');\n",
       "        button.attr('role', 'button');\n",
       "        button.attr('aria-disabled', 'false');\n",
       "        button.click(method_name, toolbar_event);\n",
       "        button.mouseover(tooltip, toolbar_mouse_event);\n",
       "\n",
       "        var icon_img = $('<span/>');\n",
       "        icon_img.addClass('ui-button-icon-primary ui-icon');\n",
       "        icon_img.addClass(image);\n",
       "        icon_img.addClass('ui-corner-all');\n",
       "\n",
       "        var tooltip_span = $('<span/>');\n",
       "        tooltip_span.addClass('ui-button-text');\n",
       "        tooltip_span.html(tooltip);\n",
       "\n",
       "        button.append(icon_img);\n",
       "        button.append(tooltip_span);\n",
       "\n",
       "        nav_element.append(button);\n",
       "    }\n",
       "\n",
       "    var fmt_picker_span = $('<span/>');\n",
       "\n",
       "    var fmt_picker = $('<select/>');\n",
       "    fmt_picker.addClass('mpl-toolbar-option ui-widget ui-widget-content');\n",
       "    fmt_picker_span.append(fmt_picker);\n",
       "    nav_element.append(fmt_picker_span);\n",
       "    this.format_dropdown = fmt_picker[0];\n",
       "\n",
       "    for (var ind in mpl.extensions) {\n",
       "        var fmt = mpl.extensions[ind];\n",
       "        var option = $(\n",
       "            '<option/>', {selected: fmt === mpl.default_extension}).html(fmt);\n",
       "        fmt_picker.append(option)\n",
       "    }\n",
       "\n",
       "    // Add hover states to the ui-buttons\n",
       "    $( \".ui-button\" ).hover(\n",
       "        function() { $(this).addClass(\"ui-state-hover\");},\n",
       "        function() { $(this).removeClass(\"ui-state-hover\");}\n",
       "    );\n",
       "\n",
       "    var status_bar = $('<span class=\"mpl-message\"/>');\n",
       "    nav_element.append(status_bar);\n",
       "    this.message = status_bar[0];\n",
       "}\n",
       "\n",
       "mpl.figure.prototype.request_resize = function(x_pixels, y_pixels) {\n",
       "    // Request matplotlib to resize the figure. Matplotlib will then trigger a resize in the client,\n",
       "    // which will in turn request a refresh of the image.\n",
       "    this.send_message('resize', {'width': x_pixels, 'height': y_pixels});\n",
       "}\n",
       "\n",
       "mpl.figure.prototype.send_message = function(type, properties) {\n",
       "    properties['type'] = type;\n",
       "    properties['figure_id'] = this.id;\n",
       "    this.ws.send(JSON.stringify(properties));\n",
       "}\n",
       "\n",
       "mpl.figure.prototype.send_draw_message = function() {\n",
       "    if (!this.waiting) {\n",
       "        this.waiting = true;\n",
       "        this.ws.send(JSON.stringify({type: \"draw\", figure_id: this.id}));\n",
       "    }\n",
       "}\n",
       "\n",
       "\n",
       "mpl.figure.prototype.handle_save = function(fig, msg) {\n",
       "    var format_dropdown = fig.format_dropdown;\n",
       "    var format = format_dropdown.options[format_dropdown.selectedIndex].value;\n",
       "    fig.ondownload(fig, format);\n",
       "}\n",
       "\n",
       "\n",
       "mpl.figure.prototype.handle_resize = function(fig, msg) {\n",
       "    var size = msg['size'];\n",
       "    if (size[0] != fig.canvas.width || size[1] != fig.canvas.height) {\n",
       "        fig._resize_canvas(size[0], size[1]);\n",
       "        fig.send_message(\"refresh\", {});\n",
       "    };\n",
       "}\n",
       "\n",
       "mpl.figure.prototype.handle_rubberband = function(fig, msg) {\n",
       "    var x0 = msg['x0'] / mpl.ratio;\n",
       "    var y0 = (fig.canvas.height - msg['y0']) / mpl.ratio;\n",
       "    var x1 = msg['x1'] / mpl.ratio;\n",
       "    var y1 = (fig.canvas.height - msg['y1']) / mpl.ratio;\n",
       "    x0 = Math.floor(x0) + 0.5;\n",
       "    y0 = Math.floor(y0) + 0.5;\n",
       "    x1 = Math.floor(x1) + 0.5;\n",
       "    y1 = Math.floor(y1) + 0.5;\n",
       "    var min_x = Math.min(x0, x1);\n",
       "    var min_y = Math.min(y0, y1);\n",
       "    var width = Math.abs(x1 - x0);\n",
       "    var height = Math.abs(y1 - y0);\n",
       "\n",
       "    fig.rubberband_context.clearRect(\n",
       "        0, 0, fig.canvas.width, fig.canvas.height);\n",
       "\n",
       "    fig.rubberband_context.strokeRect(min_x, min_y, width, height);\n",
       "}\n",
       "\n",
       "mpl.figure.prototype.handle_figure_label = function(fig, msg) {\n",
       "    // Updates the figure title.\n",
       "    fig.header.textContent = msg['label'];\n",
       "}\n",
       "\n",
       "mpl.figure.prototype.handle_cursor = function(fig, msg) {\n",
       "    var cursor = msg['cursor'];\n",
       "    switch(cursor)\n",
       "    {\n",
       "    case 0:\n",
       "        cursor = 'pointer';\n",
       "        break;\n",
       "    case 1:\n",
       "        cursor = 'default';\n",
       "        break;\n",
       "    case 2:\n",
       "        cursor = 'crosshair';\n",
       "        break;\n",
       "    case 3:\n",
       "        cursor = 'move';\n",
       "        break;\n",
       "    }\n",
       "    fig.rubberband_canvas.style.cursor = cursor;\n",
       "}\n",
       "\n",
       "mpl.figure.prototype.handle_message = function(fig, msg) {\n",
       "    fig.message.textContent = msg['message'];\n",
       "}\n",
       "\n",
       "mpl.figure.prototype.handle_draw = function(fig, msg) {\n",
       "    // Request the server to send over a new figure.\n",
       "    fig.send_draw_message();\n",
       "}\n",
       "\n",
       "mpl.figure.prototype.handle_image_mode = function(fig, msg) {\n",
       "    fig.image_mode = msg['mode'];\n",
       "}\n",
       "\n",
       "mpl.figure.prototype.updated_canvas_event = function() {\n",
       "    // Called whenever the canvas gets updated.\n",
       "    this.send_message(\"ack\", {});\n",
       "}\n",
       "\n",
       "// A function to construct a web socket function for onmessage handling.\n",
       "// Called in the figure constructor.\n",
       "mpl.figure.prototype._make_on_message_function = function(fig) {\n",
       "    return function socket_on_message(evt) {\n",
       "        if (evt.data instanceof Blob) {\n",
       "            /* FIXME: We get \"Resource interpreted as Image but\n",
       "             * transferred with MIME type text/plain:\" errors on\n",
       "             * Chrome.  But how to set the MIME type?  It doesn't seem\n",
       "             * to be part of the websocket stream */\n",
       "            evt.data.type = \"image/png\";\n",
       "\n",
       "            /* Free the memory for the previous frames */\n",
       "            if (fig.imageObj.src) {\n",
       "                (window.URL || window.webkitURL).revokeObjectURL(\n",
       "                    fig.imageObj.src);\n",
       "            }\n",
       "\n",
       "            fig.imageObj.src = (window.URL || window.webkitURL).createObjectURL(\n",
       "                evt.data);\n",
       "            fig.updated_canvas_event();\n",
       "            fig.waiting = false;\n",
       "            return;\n",
       "        }\n",
       "        else if (typeof evt.data === 'string' && evt.data.slice(0, 21) == \"data:image/png;base64\") {\n",
       "            fig.imageObj.src = evt.data;\n",
       "            fig.updated_canvas_event();\n",
       "            fig.waiting = false;\n",
       "            return;\n",
       "        }\n",
       "\n",
       "        var msg = JSON.parse(evt.data);\n",
       "        var msg_type = msg['type'];\n",
       "\n",
       "        // Call the  \"handle_{type}\" callback, which takes\n",
       "        // the figure and JSON message as its only arguments.\n",
       "        try {\n",
       "            var callback = fig[\"handle_\" + msg_type];\n",
       "        } catch (e) {\n",
       "            console.log(\"No handler for the '\" + msg_type + \"' message type: \", msg);\n",
       "            return;\n",
       "        }\n",
       "\n",
       "        if (callback) {\n",
       "            try {\n",
       "                // console.log(\"Handling '\" + msg_type + \"' message: \", msg);\n",
       "                callback(fig, msg);\n",
       "            } catch (e) {\n",
       "                console.log(\"Exception inside the 'handler_\" + msg_type + \"' callback:\", e, e.stack, msg);\n",
       "            }\n",
       "        }\n",
       "    };\n",
       "}\n",
       "\n",
       "// from http://stackoverflow.com/questions/1114465/getting-mouse-location-in-canvas\n",
       "mpl.findpos = function(e) {\n",
       "    //this section is from http://www.quirksmode.org/js/events_properties.html\n",
       "    var targ;\n",
       "    if (!e)\n",
       "        e = window.event;\n",
       "    if (e.target)\n",
       "        targ = e.target;\n",
       "    else if (e.srcElement)\n",
       "        targ = e.srcElement;\n",
       "    if (targ.nodeType == 3) // defeat Safari bug\n",
       "        targ = targ.parentNode;\n",
       "\n",
       "    // jQuery normalizes the pageX and pageY\n",
       "    // pageX,Y are the mouse positions relative to the document\n",
       "    // offset() returns the position of the element relative to the document\n",
       "    var x = e.pageX - $(targ).offset().left;\n",
       "    var y = e.pageY - $(targ).offset().top;\n",
       "\n",
       "    return {\"x\": x, \"y\": y};\n",
       "};\n",
       "\n",
       "/*\n",
       " * return a copy of an object with only non-object keys\n",
       " * we need this to avoid circular references\n",
       " * http://stackoverflow.com/a/24161582/3208463\n",
       " */\n",
       "function simpleKeys (original) {\n",
       "  return Object.keys(original).reduce(function (obj, key) {\n",
       "    if (typeof original[key] !== 'object')\n",
       "        obj[key] = original[key]\n",
       "    return obj;\n",
       "  }, {});\n",
       "}\n",
       "\n",
       "mpl.figure.prototype.mouse_event = function(event, name) {\n",
       "    var canvas_pos = mpl.findpos(event)\n",
       "\n",
       "    if (name === 'button_press')\n",
       "    {\n",
       "        this.canvas.focus();\n",
       "        this.canvas_div.focus();\n",
       "    }\n",
       "\n",
       "    var x = canvas_pos.x * mpl.ratio;\n",
       "    var y = canvas_pos.y * mpl.ratio;\n",
       "\n",
       "    this.send_message(name, {x: x, y: y, button: event.button,\n",
       "                             step: event.step,\n",
       "                             guiEvent: simpleKeys(event)});\n",
       "\n",
       "    /* This prevents the web browser from automatically changing to\n",
       "     * the text insertion cursor when the button is pressed.  We want\n",
       "     * to control all of the cursor setting manually through the\n",
       "     * 'cursor' event from matplotlib */\n",
       "    event.preventDefault();\n",
       "    return false;\n",
       "}\n",
       "\n",
       "mpl.figure.prototype._key_event_extra = function(event, name) {\n",
       "    // Handle any extra behaviour associated with a key event\n",
       "}\n",
       "\n",
       "mpl.figure.prototype.key_event = function(event, name) {\n",
       "\n",
       "    // Prevent repeat events\n",
       "    if (name == 'key_press')\n",
       "    {\n",
       "        if (event.which === this._key)\n",
       "            return;\n",
       "        else\n",
       "            this._key = event.which;\n",
       "    }\n",
       "    if (name == 'key_release')\n",
       "        this._key = null;\n",
       "\n",
       "    var value = '';\n",
       "    if (event.ctrlKey && event.which != 17)\n",
       "        value += \"ctrl+\";\n",
       "    if (event.altKey && event.which != 18)\n",
       "        value += \"alt+\";\n",
       "    if (event.shiftKey && event.which != 16)\n",
       "        value += \"shift+\";\n",
       "\n",
       "    value += 'k';\n",
       "    value += event.which.toString();\n",
       "\n",
       "    this._key_event_extra(event, name);\n",
       "\n",
       "    this.send_message(name, {key: value,\n",
       "                             guiEvent: simpleKeys(event)});\n",
       "    return false;\n",
       "}\n",
       "\n",
       "mpl.figure.prototype.toolbar_button_onclick = function(name) {\n",
       "    if (name == 'download') {\n",
       "        this.handle_save(this, null);\n",
       "    } else {\n",
       "        this.send_message(\"toolbar_button\", {name: name});\n",
       "    }\n",
       "};\n",
       "\n",
       "mpl.figure.prototype.toolbar_button_onmouseover = function(tooltip) {\n",
       "    this.message.textContent = tooltip;\n",
       "};\n",
       "mpl.toolbar_items = [[\"Home\", \"Reset original view\", \"fa fa-home icon-home\", \"home\"], [\"Back\", \"Back to  previous view\", \"fa fa-arrow-left icon-arrow-left\", \"back\"], [\"Forward\", \"Forward to next view\", \"fa fa-arrow-right icon-arrow-right\", \"forward\"], [\"\", \"\", \"\", \"\"], [\"Pan\", \"Pan axes with left mouse, zoom with right\", \"fa fa-arrows icon-move\", \"pan\"], [\"Zoom\", \"Zoom to rectangle\", \"fa fa-square-o icon-check-empty\", \"zoom\"], [\"\", \"\", \"\", \"\"], [\"Download\", \"Download plot\", \"fa fa-floppy-o icon-save\", \"download\"]];\n",
       "\n",
       "mpl.extensions = [\"eps\", \"jpeg\", \"pdf\", \"png\", \"ps\", \"raw\", \"svg\", \"tif\"];\n",
       "\n",
       "mpl.default_extension = \"png\";var comm_websocket_adapter = function(comm) {\n",
       "    // Create a \"websocket\"-like object which calls the given IPython comm\n",
       "    // object with the appropriate methods. Currently this is a non binary\n",
       "    // socket, so there is still some room for performance tuning.\n",
       "    var ws = {};\n",
       "\n",
       "    ws.close = function() {\n",
       "        comm.close()\n",
       "    };\n",
       "    ws.send = function(m) {\n",
       "        //console.log('sending', m);\n",
       "        comm.send(m);\n",
       "    };\n",
       "    // Register the callback with on_msg.\n",
       "    comm.on_msg(function(msg) {\n",
       "        //console.log('receiving', msg['content']['data'], msg);\n",
       "        // Pass the mpl event to the overriden (by mpl) onmessage function.\n",
       "        ws.onmessage(msg['content']['data'])\n",
       "    });\n",
       "    return ws;\n",
       "}\n",
       "\n",
       "mpl.mpl_figure_comm = function(comm, msg) {\n",
       "    // This is the function which gets called when the mpl process\n",
       "    // starts-up an IPython Comm through the \"matplotlib\" channel.\n",
       "\n",
       "    var id = msg.content.data.id;\n",
       "    // Get hold of the div created by the display call when the Comm\n",
       "    // socket was opened in Python.\n",
       "    var element = $(\"#\" + id);\n",
       "    var ws_proxy = comm_websocket_adapter(comm)\n",
       "\n",
       "    function ondownload(figure, format) {\n",
       "        window.open(figure.imageObj.src);\n",
       "    }\n",
       "\n",
       "    var fig = new mpl.figure(id, ws_proxy,\n",
       "                           ondownload,\n",
       "                           element.get(0));\n",
       "\n",
       "    // Call onopen now - mpl needs it, as it is assuming we've passed it a real\n",
       "    // web socket which is closed, not our websocket->open comm proxy.\n",
       "    ws_proxy.onopen();\n",
       "\n",
       "    fig.parent_element = element.get(0);\n",
       "    fig.cell_info = mpl.find_output_cell(\"<div id='\" + id + \"'></div>\");\n",
       "    if (!fig.cell_info) {\n",
       "        console.error(\"Failed to find cell for figure\", id, fig);\n",
       "        return;\n",
       "    }\n",
       "\n",
       "    var output_index = fig.cell_info[2]\n",
       "    var cell = fig.cell_info[0];\n",
       "\n",
       "};\n",
       "\n",
       "mpl.figure.prototype.handle_close = function(fig, msg) {\n",
       "    var width = fig.canvas.width/mpl.ratio\n",
       "    fig.root.unbind('remove')\n",
       "\n",
       "    // Update the output cell to use the data from the current canvas.\n",
       "    fig.push_to_output();\n",
       "    var dataURL = fig.canvas.toDataURL();\n",
       "    // Re-enable the keyboard manager in IPython - without this line, in FF,\n",
       "    // the notebook keyboard shortcuts fail.\n",
       "    IPython.keyboard_manager.enable()\n",
       "    $(fig.parent_element).html('<img src=\"' + dataURL + '\" width=\"' + width + '\">');\n",
       "    fig.close_ws(fig, msg);\n",
       "}\n",
       "\n",
       "mpl.figure.prototype.close_ws = function(fig, msg){\n",
       "    fig.send_message('closing', msg);\n",
       "    // fig.ws.close()\n",
       "}\n",
       "\n",
       "mpl.figure.prototype.push_to_output = function(remove_interactive) {\n",
       "    // Turn the data on the canvas into data in the output cell.\n",
       "    var width = this.canvas.width/mpl.ratio\n",
       "    var dataURL = this.canvas.toDataURL();\n",
       "    this.cell_info[1]['text/html'] = '<img src=\"' + dataURL + '\" width=\"' + width + '\">';\n",
       "}\n",
       "\n",
       "mpl.figure.prototype.updated_canvas_event = function() {\n",
       "    // Tell IPython that the notebook contents must change.\n",
       "    IPython.notebook.set_dirty(true);\n",
       "    this.send_message(\"ack\", {});\n",
       "    var fig = this;\n",
       "    // Wait a second, then push the new image to the DOM so\n",
       "    // that it is saved nicely (might be nice to debounce this).\n",
       "    setTimeout(function () { fig.push_to_output() }, 1000);\n",
       "}\n",
       "\n",
       "mpl.figure.prototype._init_toolbar = function() {\n",
       "    var fig = this;\n",
       "\n",
       "    var nav_element = $('<div/>')\n",
       "    nav_element.attr('style', 'width: 100%');\n",
       "    this.root.append(nav_element);\n",
       "\n",
       "    // Define a callback function for later on.\n",
       "    function toolbar_event(event) {\n",
       "        return fig.toolbar_button_onclick(event['data']);\n",
       "    }\n",
       "    function toolbar_mouse_event(event) {\n",
       "        return fig.toolbar_button_onmouseover(event['data']);\n",
       "    }\n",
       "\n",
       "    for(var toolbar_ind in mpl.toolbar_items){\n",
       "        var name = mpl.toolbar_items[toolbar_ind][0];\n",
       "        var tooltip = mpl.toolbar_items[toolbar_ind][1];\n",
       "        var image = mpl.toolbar_items[toolbar_ind][2];\n",
       "        var method_name = mpl.toolbar_items[toolbar_ind][3];\n",
       "\n",
       "        if (!name) { continue; };\n",
       "\n",
       "        var button = $('<button class=\"btn btn-default\" href=\"#\" title=\"' + name + '\"><i class=\"fa ' + image + ' fa-lg\"></i></button>');\n",
       "        button.click(method_name, toolbar_event);\n",
       "        button.mouseover(tooltip, toolbar_mouse_event);\n",
       "        nav_element.append(button);\n",
       "    }\n",
       "\n",
       "    // Add the status bar.\n",
       "    var status_bar = $('<span class=\"mpl-message\" style=\"text-align:right; float: right;\"/>');\n",
       "    nav_element.append(status_bar);\n",
       "    this.message = status_bar[0];\n",
       "\n",
       "    // Add the close button to the window.\n",
       "    var buttongrp = $('<div class=\"btn-group inline pull-right\"></div>');\n",
       "    var button = $('<button class=\"btn btn-mini btn-primary\" href=\"#\" title=\"Stop Interaction\"><i class=\"fa fa-power-off icon-remove icon-large\"></i></button>');\n",
       "    button.click(function (evt) { fig.handle_close(fig, {}); } );\n",
       "    button.mouseover('Stop Interaction', toolbar_mouse_event);\n",
       "    buttongrp.append(button);\n",
       "    var titlebar = this.root.find($('.ui-dialog-titlebar'));\n",
       "    titlebar.prepend(buttongrp);\n",
       "}\n",
       "\n",
       "mpl.figure.prototype._root_extra_style = function(el){\n",
       "    var fig = this\n",
       "    el.on(\"remove\", function(){\n",
       "\tfig.close_ws(fig, {});\n",
       "    });\n",
       "}\n",
       "\n",
       "mpl.figure.prototype._canvas_extra_style = function(el){\n",
       "    // this is important to make the div 'focusable\n",
       "    el.attr('tabindex', 0)\n",
       "    // reach out to IPython and tell the keyboard manager to turn it's self\n",
       "    // off when our div gets focus\n",
       "\n",
       "    // location in version 3\n",
       "    if (IPython.notebook.keyboard_manager) {\n",
       "        IPython.notebook.keyboard_manager.register_events(el);\n",
       "    }\n",
       "    else {\n",
       "        // location in version 2\n",
       "        IPython.keyboard_manager.register_events(el);\n",
       "    }\n",
       "\n",
       "}\n",
       "\n",
       "mpl.figure.prototype._key_event_extra = function(event, name) {\n",
       "    var manager = IPython.notebook.keyboard_manager;\n",
       "    if (!manager)\n",
       "        manager = IPython.keyboard_manager;\n",
       "\n",
       "    // Check for shift+enter\n",
       "    if (event.shiftKey && event.which == 13) {\n",
       "        this.canvas_div.blur();\n",
       "        // select the cell after this one\n",
       "        var index = IPython.notebook.find_cell_index(this.cell_info[0]);\n",
       "        IPython.notebook.select(index + 1);\n",
       "    }\n",
       "}\n",
       "\n",
       "mpl.figure.prototype.handle_save = function(fig, msg) {\n",
       "    fig.ondownload(fig, null);\n",
       "}\n",
       "\n",
       "\n",
       "mpl.find_output_cell = function(html_output) {\n",
       "    // Return the cell and output element which can be found *uniquely* in the notebook.\n",
       "    // Note - this is a bit hacky, but it is done because the \"notebook_saving.Notebook\"\n",
       "    // IPython event is triggered only after the cells have been serialised, which for\n",
       "    // our purposes (turning an active figure into a static one), is too late.\n",
       "    var cells = IPython.notebook.get_cells();\n",
       "    var ncells = cells.length;\n",
       "    for (var i=0; i<ncells; i++) {\n",
       "        var cell = cells[i];\n",
       "        if (cell.cell_type === 'code'){\n",
       "            for (var j=0; j<cell.output_area.outputs.length; j++) {\n",
       "                var data = cell.output_area.outputs[j];\n",
       "                if (data.data) {\n",
       "                    // IPython >= 3 moved mimebundle to data attribute of output\n",
       "                    data = data.data;\n",
       "                }\n",
       "                if (data['text/html'] == html_output) {\n",
       "                    return [cell, data, j];\n",
       "                }\n",
       "            }\n",
       "        }\n",
       "    }\n",
       "}\n",
       "\n",
       "// Register the function which deals with the matplotlib target/channel.\n",
       "// The kernel may be null if the page has been refreshed.\n",
       "if (IPython.notebook.kernel != null) {\n",
       "    IPython.notebook.kernel.comm_manager.register_target('matplotlib', mpl.mpl_figure_comm);\n",
       "}\n"
      ],
      "text/plain": [
       "<IPython.core.display.Javascript object>"
      ]
     },
     "metadata": {},
     "output_type": "display_data"
    },
    {
     "data": {
      "text/html": [
       "<img src=\"data:image/png;base64,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\" width=\"640\">"
      ],
      "text/plain": [
       "<IPython.core.display.HTML object>"
      ]
     },
     "metadata": {},
     "output_type": "display_data"
    }
   ],
   "source": [
    "%matplotlib notebook\n",
    "\n",
    "\n",
    "from mpl_toolkits.mplot3d import Axes3D\n",
    "from pylab import *\n",
    "\n",
    "\n",
    "def heart_3d(x,y,z):\n",
    "    return (x**2+(9/4)*y**2+z**2-1)**3-x**2*z**3-(9/80)*y**2*z**3\n",
    "def plot_implicit(fn, bbox=(-1.5,1.5)):\n",
    "    ''' create a plot of an implicit function\n",
    "    fn  ...implicit function (plot where fn==0)\n",
    "    bbox ..the x,y,and z limits of plotted interval'''\n",
    "    xmin, xmax, ymin, ymax, zmin, zmax = bbox*3\n",
    "    fig = figure()\n",
    "    ax = fig.add_subplot(111, projection='3d')\n",
    "    A = linspace(xmin, xmax, 100) # resolution of the contour\n",
    "    B = linspace(xmin, xmax, 100) # number of slices\n",
    "    A1,A2 = meshgrid(A,A) # grid on which the contour is plotted\n",
    "    for z in B: # plot contours in the XY plane\n",
    "        X,Y = A1,A2\n",
    "        Z = fn(X,Y,z)\n",
    "        cset = ax.contour(X, Y, Z+z, [z], zdir='z',colors=('r',))\n",
    "        # [z] defines the only level to plot for this contour for this value of z\n",
    "    for y in B: # plot contours in the XZ plane\n",
    "        X,Z = A1,A2\n",
    "        Y = fn(X,y,Z)\n",
    "        cset = ax.contour(X, Y+y, Z, [y], zdir='y',colors=('red',))\n",
    "    for x in B: # plot contours in the YZ plane\n",
    "        Y,Z = A1,A2\n",
    "        X = fn(x,Y,Z)\n",
    "        cset = ax.contour(X+x, Y, Z, [x], zdir='x',colors=('red',))\n",
    "    # must set plot limits because the contour will likely extend\n",
    "    # way beyond the displayed level.  Otherwise matplotlib extends the plot limits\n",
    "    # to encompass all values in the contour.\n",
    "    ax.set_zlim3d(zmin,zmax)\n",
    "    ax.set_xlim3d(xmin,xmax)\n",
    "    ax.set_ylim3d(ymin,ymax)\n",
    "    show()\n",
    "\n",
    "plot_implicit(heart_3d)\n",
    "# credit: http://bytesizebio.net/2013/02/16/a-belated-valentines-day-post/"
   ]
  },
  {
   "cell_type": "markdown",
   "metadata": {},
   "source": [
    "## NumPy"
   ]
  },
  {
   "cell_type": "markdown",
   "metadata": {},
   "source": [
    "NumPy is probably the package you will use the most, as it is \"the fundamental package for scientific computing with Python\"\n",
    "\n",
    "A NumPy `ndarray` is a multi-dimensional array -- i.e. like a list, but with multiple indices and every element being of the same type. For example, a two-dimensional array is like a \"list of lists\" where each sub-list is required to be the same length."
   ]
  },
  {
   "cell_type": "code",
   "execution_count": 3,
   "metadata": {},
   "outputs": [
    {
     "name": "stdout",
     "output_type": "stream",
     "text": [
      "[[1, 2, 3], [4, 5, 6], [7, 8, 9], [10, 11, 12]]\n",
      "<class 'list'>\n",
      "[[ 1  2  3]\n",
      " [ 4  5  6]\n",
      " [ 7  8  9]\n",
      " [10 11 12]]\n",
      "<class 'numpy.ndarray'>\n"
     ]
    }
   ],
   "source": [
    "import numpy as np\n",
    "\n",
    "l = [[1,2,3],[4,5,6],[7,8,9],[10,11,12]]\n",
    "print(l)\n",
    "print(type(l))\n",
    "\n",
    "a = np.array(l)\n",
    "print(a)\n",
    "print(type(a))"
   ]
  },
  {
   "cell_type": "markdown",
   "metadata": {},
   "source": [
    "Arrays have nice element-wise behavior under basic arithmetic operations. This allows us to avoid needing to write loops."
   ]
  },
  {
   "cell_type": "code",
   "execution_count": null,
   "metadata": {
    "collapsed": true
   },
   "outputs": [],
   "source": []
  },
  {
   "cell_type": "code",
   "execution_count": null,
   "metadata": {
    "collapsed": true
   },
   "outputs": [],
   "source": []
  },
  {
   "cell_type": "code",
   "execution_count": null,
   "metadata": {
    "collapsed": true
   },
   "outputs": [],
   "source": []
  },
  {
   "cell_type": "markdown",
   "metadata": {},
   "source": [
    "Most of all, we get linear algebra (matrix multiplication, etc)"
   ]
  },
  {
   "cell_type": "code",
   "execution_count": null,
   "metadata": {
    "collapsed": true
   },
   "outputs": [],
   "source": []
  },
  {
   "cell_type": "markdown",
   "metadata": {},
   "source": [
    "There are multiple ways to create useful arrays"
   ]
  },
  {
   "cell_type": "code",
   "execution_count": null,
   "metadata": {
    "collapsed": true
   },
   "outputs": [],
   "source": []
  },
  {
   "cell_type": "code",
   "execution_count": null,
   "metadata": {
    "collapsed": true
   },
   "outputs": [],
   "source": []
  },
  {
   "cell_type": "markdown",
   "metadata": {},
   "source": [
    "Initialize a matrix of a particular size to all zeros"
   ]
  },
  {
   "cell_type": "code",
   "execution_count": null,
   "metadata": {
    "collapsed": true
   },
   "outputs": [],
   "source": []
  },
  {
   "cell_type": "markdown",
   "metadata": {},
   "source": [
    "# Indexing and slicing"
   ]
  },
  {
   "cell_type": "code",
   "execution_count": null,
   "metadata": {
    "collapsed": true
   },
   "outputs": [],
   "source": []
  },
  {
   "cell_type": "code",
   "execution_count": null,
   "metadata": {
    "collapsed": true
   },
   "outputs": [],
   "source": []
  },
  {
   "cell_type": "markdown",
   "metadata": {},
   "source": [
    "**PITFALL:** Numpy has 1 dimensional arrays, distinct from single rows or columns which are 2D arrays\n",
    "+ 1D array has shape `(N,)`\n",
    "+ A 2D row has shape `(1,N)`\n",
    "+ A 2D column has shape `(N,1)`\n",
    "\n",
    "The 1D arrays allow more flexibility in many instances, but some functions require a 2D array as input, or behave differently when given a 1D array instead of a 2D array. Not recognizing these instances and getting errors or incorrect results is one of the primary mistakes of new Numpy users. \n",
    "\n",
    "For turning a 2D array into a 1D array, the functions `np.squeeze()` and `np.flatten()` are useful\n",
    "\n",
    "For turning a 1D array into a 2D array, the `np.reshape()` function is useful"
   ]
  },
  {
   "cell_type": "code",
   "execution_count": null,
   "metadata": {
    "collapsed": true
   },
   "outputs": [],
   "source": []
  },
  {
   "cell_type": "markdown",
   "metadata": {},
   "source": [
    "Initialize a matrix to all ones"
   ]
  },
  {
   "cell_type": "code",
   "execution_count": null,
   "metadata": {
    "collapsed": true
   },
   "outputs": [],
   "source": []
  },
  {
   "cell_type": "markdown",
   "metadata": {},
   "source": [
    "Initialize a matrix with values randomly drawn from a standard normal distribution"
   ]
  },
  {
   "cell_type": "code",
   "execution_count": null,
   "metadata": {
    "collapsed": true
   },
   "outputs": [],
   "source": []
  },
  {
   "cell_type": "markdown",
   "metadata": {},
   "source": [
    "The NumPy array has name useful manipulation functions"
   ]
  },
  {
   "cell_type": "code",
   "execution_count": null,
   "metadata": {
    "collapsed": true
   },
   "outputs": [],
   "source": []
  },
  {
   "cell_type": "code",
   "execution_count": null,
   "metadata": {
    "collapsed": true
   },
   "outputs": [],
   "source": []
  },
  {
   "cell_type": "markdown",
   "metadata": {},
   "source": [
    "And appling functions along an axis"
   ]
  },
  {
   "cell_type": "code",
   "execution_count": null,
   "metadata": {
    "collapsed": true
   },
   "outputs": [],
   "source": []
  },
  {
   "cell_type": "markdown",
   "metadata": {},
   "source": [
    "NumPy arrays allow for fancier indexing"
   ]
  },
  {
   "cell_type": "code",
   "execution_count": null,
   "metadata": {
    "collapsed": true
   },
   "outputs": [],
   "source": []
  },
  {
   "cell_type": "code",
   "execution_count": null,
   "metadata": {
    "collapsed": true
   },
   "outputs": [],
   "source": []
  },
  {
   "cell_type": "code",
   "execution_count": null,
   "metadata": {
    "collapsed": true
   },
   "outputs": [],
   "source": []
  },
  {
   "cell_type": "markdown",
   "metadata": {},
   "source": [
    "## SciPy"
   ]
  },
  {
   "cell_type": "markdown",
   "metadata": {},
   "source": [
    "SciPy contains many submodules for common scientfic computing tasks:\n",
    "* function optimization\n",
    "* numerical integration / differentiation\n",
    "* special functions\n",
    "* time series analys (e.g. fourier transforms)"
   ]
  },
  {
   "cell_type": "markdown",
   "metadata": {},
   "source": [
    "Example code, using SciPy to solve an ordinary differential equation"
   ]
  },
  {
   "cell_type": "code",
   "execution_count": null,
   "metadata": {
    "collapsed": true,
    "scrolled": true
   },
   "outputs": [],
   "source": [
    "from scipy.integrate import odeint\n",
    "\n",
    "t_max = 100e-3    # second\n",
    "dt = 1e-3        # second\n",
    "tau = 20e-3      # second\n",
    "el = -60e-3      # milivolt\n",
    "vr = -70e-3      # milivolt\n",
    "vth = -50e-3     # milivolt\n",
    "i_mean = 25e-3   # ampere\n",
    "\n",
    "def I(t):\n",
    "    return i_mean*(1+np.sin(2*np.pi*t/0.01))\n",
    "\n",
    "def dvdt(v, t):\n",
    "    return (1.0/tau)*(el - v + I(t))\n",
    "\n",
    "t = np.arange(0, t_max, dt)\n",
    "v = odeint(dvdt, [el], t)\n",
    "\n",
    "plt.plot(t, v, '.k');"
   ]
  }
 ],
 "metadata": {
  "anaconda-cloud": {},
  "kernelspec": {
   "display_name": "Python 3",
   "language": "python",
   "name": "python3"
  },
  "language_info": {
   "codemirror_mode": {
    "name": "ipython",
    "version": 3
   },
   "file_extension": ".py",
   "mimetype": "text/x-python",
   "name": "python",
   "nbconvert_exporter": "python",
   "pygments_lexer": "ipython3",
   "version": "3.6.1"
  }
 },
 "nbformat": 4,
 "nbformat_minor": 1
}
