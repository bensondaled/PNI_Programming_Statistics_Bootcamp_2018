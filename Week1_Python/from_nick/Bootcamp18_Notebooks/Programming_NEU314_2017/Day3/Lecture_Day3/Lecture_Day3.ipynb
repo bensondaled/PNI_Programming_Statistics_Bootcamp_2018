{
 "cells": [
  {
   "cell_type": "markdown",
   "metadata": {},
   "source": [
    "# PNI Biomath 2017 -- Programming module -- Day 3\n",
    "\n",
    "\n",
    "### Items to be covered\n",
    "\n",
    "0. For writing and debugging code, the importance of thinking like a computer\n",
    "0. **Thinking sequentially, like a computer:** Stepping carefully through how a function works\n",
    "1. Modules\n",
    "2. **Thinking sequentially, like a computer:** Recap of FOR loops and debugging using question 6 from the Day 2 Exercises \n",
    "3. Documentation and Updating\n",
    "4. Packages\n",
    "5. Plotting\n",
    "6. Numpy\n",
    "7. Scipy\n",
    "\n",
    "\n",
    "\n",
    "\n"
   ]
  },
  {
   "cell_type": "markdown",
   "metadata": {},
   "source": [
    "# Computers are very stupid: they only do what you tell them to do, in the order you tell them to do it!\n",
    "\n",
    "When you use your smartphone or your laptop, computers can seem almost magical: at the touch of a button you are using them to watch a video, search the internet, or recognize and carry out a request that you voiced. Yet the elementary functions that they can do, down at the hardware transistor level, are incredibly simple: digital computers work exclusively with 0s and 1s (bits),  they know how to do AND, OR, NOT, and can put or retrieve a single bit in memory. That's about it. Really.\n",
    "\n",
    "Seems kind of amazing. _How do you go from something so elementary all the way to understanding spoken speech or running a word processor?_\n",
    "\n",
    "In a sense, the answer is **using functions as building blocks that build on each other**. Think of the elementary operations a computer can do as building blocks. You can put some of these building blocks together, to do something new and useful, and that is now a new building block, that you can in turn build on.  For example, using the Boolean logic functions (AND, OR, NOT) you can put together a sequence that implements the addition of two multi-digit binary numbers held in memory.  Let's call that our new function SUM(). If you implemented, debugged, and encapsulated that function well, that is now a new building block that you and others can use: you now treat SUM() just like you would treat a native operation like AND() or OR(). [In particular, by encapsulation we mean that you when you use it, you can do so without worrying at all about how it was implemented internally: you're confident that it works (it's been fully debugged), running SUM() isn't going to interfere with any other code you are writing, and the only brain space you need to devote to SUM() is to know that if you give it two numbers, it produces their sum.]\n",
    "\n",
    "Using SUM(), you could now write a new function to define MULTIPLICATION(). Tadaa! Now you can multiply!  You could then use MULTIPLICATION() to write an POWER() function, to raise one number to some power. And so on and so on, all the way to word processors and Python and all the rest. Even though at the bottom it is still all AND, OR, NOT, and single binary digits.  The exercises following Lecture 2 contained a series of problems that were all about this: building a single die, from there rolling it many times, from there computing some statistics about large numbers of rolls, etc.\n",
    "\n",
    "## Thinking sequentially, like a stupid computer, is at the heart of writing and debugging code\n",
    "\n",
    "One common mistake that we make is that, because we're so used to computers doing seemingly-magical things (and by the level of Python, some of its commands are pretty magical), when we're trying to write or debug some code, we guess an answer as to what the code should look like, and hope the computer will understand what we mean and what we want it to do. But when we do that, we forget the cardinal rule for thinking like a computer: *Computers are stupid. They only know about doing what you told them to do, in the order you told them to do it.*  They don't think ahead, nor can they guess what you meant and implement that.\n",
    "\n",
    "> I know. Some of you will point out at this point that, contrary to what we've written here, when you mistype a search into Google, it *does* think ahead and guess what you meant, and suggests and implements that! But that is the result of many many levels of building blocks as we described before. When working with Python or any other scientific programming language, you're well below your computer guessing what you mean.\n",
    "\n",
    "So, to write code, and specially to debug it, you have to stop and think like a computer. (Which is a super-weird thing to do if you're not used to it, humans don't work like that.) \n",
    "\n",
    "Whhen you're **writing** code, think *what is the sequence of steps that I would have to spell out for my brainless computer so that at the end of that sequence, it reaches the rsult I wanted*? In other words, how do you take the building blocks you already have and arrange them into a sequence, i.e. a new building block that achieves what you want?  If you have a large problem, how do you split it into simpler building blocks? And then for each of those simpler building blocks, how would you split that, until you reach building blocks already available to you? \n",
    "\n",
    "When you're **debugging** code, mentally step through each line of your code, simulating what you've asked the computer to do. At each step of the code, think *what are the values of the variables that I'm working with when the computer reaches this line of code?* And *if the computer knows nothign else and doesn't know what I'm trying to do, what will be the result of executing the line of code*?  And then iterate, thinking that as you step through each line.\n",
    "\n",
    "===\n",
    "\n",
    "### So, some items for today\n",
    "\n",
    "In the spirit of the comments above, among other things today we'll carefully go over two examples: \n",
    "\n",
    "1. What are the sequence of steps that calling a function implements? This will also allow us to review the very important concept of namespaces.  \n",
    "2. How to we debug a problem with a FOR loop?\n",
    "\n",
    "\n",
    "Have fun!\n"
   ]
  },
  {
   "cell_type": "code",
   "execution_count": null,
   "metadata": {
    "collapsed": true
   },
   "outputs": [],
   "source": [
    "def f(x):\n",
    "    return x*x"
   ]
  },
  {
   "cell_type": "code",
   "execution_count": null,
   "metadata": {
    "collapsed": true
   },
   "outputs": [],
   "source": [
    "y = 2\n",
    "\n",
    "a = f(3*exp(y))"
   ]
  },
  {
   "cell_type": "markdown",
   "metadata": {},
   "source": [
    "when you call  a =  f(3*exp(y))  this means the sequence\n",
    "\n",
    "1. figure out what part of memory the label \"y\" refers to\n",
    "2. Go to that memory bank and retrieve the value stored there.\n",
    "3. Compute the exponential of that value\n",
    "4. Multiply it by 3  (and we still haven't reached the f() bit. The point so far is to emphasize that expression evaluation happens before calling the function).\n",
    "5. Assign that result to a new variable that, for short, we'll call x (but we could think of it as internally really being named something like f_x, to label it as being part of f's namespace)\n",
    "6. Now enter function f.\n",
    "7. Compute x*x\n",
    "8. Return that value, and assign it to an anonymous variable that we'll call \"the current expression.\"\n",
    "9. Now that you've come out of f(), delete f_x.\n",
    "10. Finally, evaluate the \"a = \" part, which means store the final result in the part of memory that the label \"a\" points to.\n",
    "\n",
    "But wait!  In step 5, we wrote \"assign that result to a new variable...\"  What does _that_ mean?  Well, like everything else in coding (until you get to AND, OR, NOT, and XOR), it is shorthand for a set of simpler steps, namely\n",
    "\n",
    "5.1 Find an empty slot in the memory bank\n",
    "5.2 Make a label called f_x and have it point to that memory slot\n",
    "5.3 Put the value you were going to store in that memory slot."
   ]
  },
  {
   "cell_type": "markdown",
   "metadata": {},
   "source": [
    "---\n",
    "# Modules\n",
    "modular programming"
   ]
  },
  {
   "cell_type": "markdown",
   "metadata": {},
   "source": [
    "## modules"
   ]
  },
  {
   "cell_type": "markdown",
   "metadata": {},
   "source": [
    "Modules let you collect all of your functions in a centralized location, so that you can apply the \"rule of two\" across multiple files.\n",
    "\n",
    "*Make sure the module you're trying to import (i.e. `myModule.py`) is in the same folder as your notebook!*\n",
    "\n",
    "You can import specific functions or variables into your namespace:"
   ]
  },
  {
   "cell_type": "code",
   "execution_count": 89,
   "metadata": {},
   "outputs": [
    {
     "name": "stdout",
     "output_type": "stream",
     "text": [
      "18\n",
      "3.141569\n"
     ]
    },
    {
     "ename": "NameError",
     "evalue": "name 'james' is not defined",
     "output_type": "error",
     "traceback": [
      "\u001b[0;31m---------------------------------------------------------------------------\u001b[0m",
      "\u001b[0;31mNameError\u001b[0m                                 Traceback (most recent call last)",
      "\u001b[0;32m<ipython-input-89-8a92504214bf>\u001b[0m in \u001b[0;36m<module>\u001b[0;34m()\u001b[0m\n\u001b[1;32m      3\u001b[0m \u001b[0mprint\u001b[0m\u001b[0;34m(\u001b[0m\u001b[0mf\u001b[0m\u001b[0;34m(\u001b[0m\u001b[0;36m3\u001b[0m\u001b[0;34m)\u001b[0m\u001b[0;34m)\u001b[0m\u001b[0;34m\u001b[0m\u001b[0m\n\u001b[1;32m      4\u001b[0m \u001b[0mprint\u001b[0m\u001b[0;34m(\u001b[0m\u001b[0mpi\u001b[0m\u001b[0;34m)\u001b[0m\u001b[0;34m\u001b[0m\u001b[0m\n\u001b[0;32m----> 5\u001b[0;31m \u001b[0mprint\u001b[0m\u001b[0;34m(\u001b[0m\u001b[0mjames\u001b[0m\u001b[0;34m)\u001b[0m\u001b[0;34m\u001b[0m\u001b[0m\n\u001b[0m",
      "\u001b[0;31mNameError\u001b[0m: name 'james' is not defined"
     ]
    }
   ],
   "source": [
    "from myModule import f, pi\n",
    "\n",
    "print(f(3))\n",
    "print(pi)\n",
    "print(james)"
   ]
  },
  {
   "cell_type": "markdown",
   "metadata": {},
   "source": [
    "You can also choose to import *everything* in a module:"
   ]
  },
  {
   "cell_type": "code",
   "execution_count": 11,
   "metadata": {
    "collapsed": true
   },
   "outputs": [],
   "source": [
    "%load_ext autoreload\n",
    "%autoreload\n",
    "\n",
    "from myModule import *"
   ]
  },
  {
   "cell_type": "markdown",
   "metadata": {},
   "source": [
    "Or you can import the whole module and the functions and variables are available as sub-parts"
   ]
  },
  {
   "cell_type": "code",
   "execution_count": 91,
   "metadata": {},
   "outputs": [
    {
     "name": "stdout",
     "output_type": "stream",
     "text": [
      "18\n",
      "3.141569\n",
      "Still here!\n",
      "\n"
     ]
    }
   ],
   "source": [
    "def f():\n",
    "    print(\"Still here!\\n\")\n",
    "    \n",
    "    \n",
    "import myModule\n",
    "\n",
    "print(myModule.f(3))\n",
    "print(myModule.pi)\n",
    "\n",
    "f()"
   ]
  },
  {
   "cell_type": "code",
   "execution_count": null,
   "metadata": {
    "collapsed": true
   },
   "outputs": [],
   "source": [
    "import myModule as mod\n",
    "\n",
    "print(mod.f(3))\n",
    "print(mod.pi)\n",
    "mod.pi\n",
    "\n"
   ]
  },
  {
   "cell_type": "code",
   "execution_count": 93,
   "metadata": {},
   "outputs": [
    {
     "data": {
      "text/plain": [
       "[1, 0, 0, 0, 61]"
      ]
     },
     "execution_count": 93,
     "metadata": {},
     "output_type": "execute_result"
    }
   ],
   "source": [
    "import numpy as np   # import the numerical package\n",
    "import matplotlib.pyplot as plt   # this a particular plotting module from the matplotlib package\n",
    "\n",
    "# help(np)\n",
    "\n",
    "z = np.array([1, 2, 40, 50, 61])\n",
    "\n",
    "[0 if x%2==0 else x for x in z]\n"
   ]
  },
  {
   "cell_type": "markdown",
   "metadata": {},
   "source": [
    "## documentation"
   ]
  },
  {
   "cell_type": "markdown",
   "metadata": {},
   "source": [
    "You can use\n",
    "\n",
    "    help()\n",
    "    \n",
    "or \n",
    "    ?\n",
    "    \n",
    "or, in Jupyter, *Shift* + *Tab* to get information about the module and its functions through the \"doc string\"s that you wrote. (Of course you wrote them! Long, clear, and detailed, right?)"
   ]
  },
  {
   "cell_type": "code",
   "execution_count": null,
   "metadata": {
    "collapsed": true
   },
   "outputs": [],
   "source": [
    "mod.f?    # like pressing Shift + Tab*3\n",
    "help(mod.f)\n",
    "help(mod)"
   ]
  },
  {
   "cell_type": "markdown",
   "metadata": {},
   "source": [
    "In the Jupyter notebook, when the cursor is inside the function parentheses, press `Tab` to get a reminder of parameter names."
   ]
  },
  {
   "cell_type": "code",
   "execution_count": null,
   "metadata": {
    "collapsed": true
   },
   "outputs": [],
   "source": [
    "mod.f(10, a=4)"
   ]
  },
  {
   "cell_type": "markdown",
   "metadata": {},
   "source": [
    "## Example Problem: Loading, and Recap of FOR loops and debugging\n",
    "\n",
    "Using an example from your exercise set on Tuesday, we will go through question six.\n",
    "\n",
    "Within Python, you can load easily MATLAB data using the SciPy function loadmat(). This will create a variable called mystring that contains some text. We also define a new string called vowels.\n",
    "\n",
    "Using a loop through the elements of your vowels string, compute how many times each vowel appears in the text of mystring (i.e., how many ‘a’, how many ‘e’, how many ‘i’, etc.)."
   ]
  },
  {
   "cell_type": "code",
   "execution_count": 8,
   "metadata": {
    "collapsed": true
   },
   "outputs": [],
   "source": [
    "### Here we load the string from the .mat file for you (try printing mystring to see what it says!)\n",
    "from scipy.io import loadmat\n",
    "mystring = loadmat('joyce.mat')['str'][0]\n",
    "vowels = 'aeiou'"
   ]
  },
  {
   "cell_type": "code",
   "execution_count": 9,
   "metadata": {},
   "outputs": [
    {
     "data": {
      "text/plain": [
       "\"The air of the room chilled his shoulders. He stretched\\nhimself cautiously along under the sheets and lay down\\nbeside his wife. One by one, they were all becoming\\nshades. Better pass boldly into that other world, in\\nthe full glory of some passion, than fade and wither\\ndismally with age. He thought of how she who lay beside\\nhim had locked in her heart for so many years that image\\nof her lover's eyes when he had told her that he did\\nnot wish to live.\\n\\nGenerous tears filled Gabriel's eyes. He had never felt\\nlike that himself towards any woman, but he knew that such\\na feeling must be love. The tears gathered more thickly in\\nhis eyes and in the partial darkness he imagined he saw the\\nform of a young man standing under a dripping tree. Other\\nforms were near. His soul had approached that region where\\ndwell the vast hosts of the dead. He was conscious of, but\\ncould not apprehend, their wayward and flickering existence.\\nHis own identity was fading out into a grey impalpable world:\\nthe solid world itself, which these dead had one time reared\\nand lived in, was dissolving and dwindling.\\n\\nA few light taps upon the pane made him turn to the window.\\nIt had begun to snow again. He watched sleepily the flakes,\\nsilver and dark, falling obliquely against the lamplight.\\nThe time had come for him to set out on his journey westward.\\nYes, the newspapers were right: snow was general all over\\nIreland. It was falling on every part of the dark central\\nplain, on the treeless hills, falling softly upon the\\nBog of Allen and, farther westward, softly falling into\\nthe dark mutinous Shannon waves. It was falling, too,\\nupon every part of the lonely churchyard on the hill where\\nMichael Furey lay buried. It lay thickly drifted on the\\ncrooked crosses and headstones, on the spears of the little\\ngate, on the barren thorns. His soul swooned slowly as he\\nheard the snow falling faintly through the universe and\\nfaintly falling, like the descent of their last end,\\nupon all the living and the dead.\""
      ]
     },
     "execution_count": 9,
     "metadata": {},
     "output_type": "execute_result"
    }
   ],
   "source": [
    "\n",
    "mystring"
   ]
  },
  {
   "cell_type": "code",
   "execution_count": null,
   "metadata": {
    "collapsed": true
   },
   "outputs": [],
   "source": [
    "### Count how many times each vowel appears in mystring below\n",
    "for v in vowels:\n",
    "    \n",
    "    for c in mystring:\n",
    "        count = 0\n",
    "        if c == v:\n",
    "            count += 1\n",
    "    print(v, count)"
   ]
  },
  {
   "cell_type": "markdown",
   "metadata": {},
   "source": [
    "---\n",
    "# Packages\n",
    "big projects, sharing code"
   ]
  },
  {
   "cell_type": "markdown",
   "metadata": {},
   "source": [
    "## packages"
   ]
  },
  {
   "cell_type": "markdown",
   "metadata": {},
   "source": [
    "* collections of modules\n",
    "* cross-language integration\n",
    "* distribution"
   ]
  },
  {
   "cell_type": "markdown",
   "metadata": {},
   "source": [
    "## distribution"
   ]
  },
  {
   "cell_type": "markdown",
   "metadata": {},
   "source": [
    "From simplest to most complicated:\n",
    "1. Anaconda: `conda install [package]`\n",
    "2. PIP / PyPI: `pip install [package]`\n",
    "3. GitHub / Git: `git clone [package]`"
   ]
  },
  {
   "cell_type": "markdown",
   "metadata": {},
   "source": [
    "---\n",
    "# Plotting"
   ]
  },
  {
   "cell_type": "markdown",
   "metadata": {},
   "source": [
    "## matplotlib"
   ]
  },
  {
   "cell_type": "markdown",
   "metadata": {},
   "source": [
    "Plotting in Python is done through the `pyplot` module in the `matplotlib` package. More on models and packages later. For know, just know that, to use this functionality, you'll need to run the following commands in any notebook that uses this for plotting. "
   ]
  },
  {
   "cell_type": "code",
   "execution_count": 4,
   "metadata": {
    "collapsed": true
   },
   "outputs": [],
   "source": [
    "# this line is ALWAYS needed for plotting\n",
    "from matplotlib import pyplot as plt\n"
   ]
  },
  {
   "cell_type": "code",
   "execution_count": 5,
   "metadata": {},
   "outputs": [
    {
     "data": {
      "text/plain": [
       "[<matplotlib.lines.Line2D at 0x10b83d240>]"
      ]
     },
     "execution_count": 5,
     "metadata": {},
     "output_type": "execute_result"
    },
    {
     "data": {
      "image/png": "[encoded data removed]",
      "text/plain": [
       "<matplotlib.figure.Figure at 0x10b5d1898>"
      ]
     },
     "metadata": {},
     "output_type": "display_data"
    }
   ],
   "source": [
    "# The following line makes plots show up within the notebook\n",
    "%matplotlib inline\n",
    "\n",
    "# Now lets import the plotting module from the package matplotlib\n",
    "from matplotlib import pyplot as plt\n",
    "\n",
    "# And lets import the numerical package\n",
    "import numpy as np\n",
    "\n",
    "ncycles = 4\n",
    "# produce a vector whose elements start at 0, go to 2*np.pi*ncycles in steps of pi/10\n",
    "t = np.arange(0, 2*np.pi*ncycles, np.pi/10)\n",
    "# print(t)\n",
    "\n",
    "plt.plot(t, np.sin(t), 'gv-')\n",
    "# plt.plot  takes a vector of x positions and a same-length vector of y positions,\n",
    "# and plots dots in order: x[0],y[0]  then x[1],y[1]   then x[2],y[2]"
   ]
  },
  {
   "cell_type": "code",
   "execution_count": 103,
   "metadata": {},
   "outputs": [
    {
     "name": "stdout",
     "output_type": "stream",
     "text": [
      "[ 0.          0.29552021  0.56464247]\n"
     ]
    }
   ],
   "source": [
    "t = np.array([0, 0.3, 0.6])\n",
    "print(np.sin(t))"
   ]
  },
  {
   "cell_type": "code",
   "execution_count": null,
   "metadata": {
    "collapsed": true
   },
   "outputs": [],
   "source": [
    "# The following alternative line uses the dafault \"plotting back end\" on your computer\n",
    "# You might need to restart the kernel and clear outputs if you want to switch to this external plotting form\n",
    "%matplotlib\n",
    "\n",
    "# Now lets import the plotting module from the package matplotlib\n",
    "from matplotlib import pyplot as plt\n",
    "\n",
    "# And lets import the numerical package\n",
    "import numpy as np\n",
    "\n",
    "ncycles = 4\n",
    "t = np.arange(0, 2*np.pi*ncycles, np.pi/10)\n",
    "plt.plot(t, np.sin(t), 'ro-')\n"
   ]
  },
  {
   "cell_type": "markdown",
   "metadata": {},
   "source": [
    "## Plotting single points"
   ]
  },
  {
   "cell_type": "markdown",
   "metadata": {},
   "source": [
    "First let's plot a single point\n",
    "\n",
    "`plt.plot(x, y, format_str)`\n",
    "- `x`: x coordinate\n",
    "- `y`: y coordinate\n",
    "- `format_str`: formatting string"
   ]
  },
  {
   "cell_type": "code",
   "execution_count": null,
   "metadata": {
    "collapsed": true
   },
   "outputs": [],
   "source": [
    "plt.plot(2, 3, 'o')"
   ]
  },
  {
   "cell_type": "markdown",
   "metadata": {},
   "source": [
    "We can change the shape of the marker with the format string\n",
    "*Note:* The semicolon at the end of the plotting command surpresses the output of the name of the plotting object (e.g. *[< matplotlib.lines.Line2D at 0x10fe4da58>]*, as seen above), but not the plot itself"
   ]
  },
  {
   "cell_type": "code",
   "execution_count": null,
   "metadata": {
    "collapsed": true
   },
   "outputs": [],
   "source": [
    "plt.plot(2, 3, '^');"
   ]
  },
  {
   "cell_type": "markdown",
   "metadata": {},
   "source": [
    "We can also specify a color in the format string"
   ]
  },
  {
   "cell_type": "code",
   "execution_count": null,
   "metadata": {
    "collapsed": true
   },
   "outputs": [],
   "source": [
    "plt.plot(2, 3, 'or');"
   ]
  },
  {
   "cell_type": "markdown",
   "metadata": {},
   "source": [
    "We can plot multiple points by plotting multiple times"
   ]
  },
  {
   "cell_type": "code",
   "execution_count": null,
   "metadata": {
    "collapsed": true
   },
   "outputs": [],
   "source": [
    "plt.plot(1, 2, 'ro');\n",
    "plt.plot(2, 3, 'ro');\n",
    "plt.plot(3, 4, 'ro');"
   ]
  },
  {
   "cell_type": "markdown",
   "metadata": {},
   "source": [
    "As you can see, PyPlot doesn't always pick the best defualt values for the ranges of the x- and y-axes. We can set them by hand."
   ]
  },
  {
   "cell_type": "code",
   "execution_count": null,
   "metadata": {
    "collapsed": true
   },
   "outputs": [],
   "source": [
    "plt.plot(1, 2, 'ro');\n",
    "plt.plot(2, 3, 'ro');\n",
    "plt.plot(3, 4, 'ro');\n",
    "\n",
    "plt.xlim([0, 5]);\n",
    "plt.ylim([0, 5]);"
   ]
  },
  {
   "cell_type": "markdown",
   "metadata": {},
   "source": [
    "## Plotting lines"
   ]
  },
  {
   "cell_type": "markdown",
   "metadata": {},
   "source": [
    "To plot a line, make `x` and `y` into a `list` of coordinate values"
   ]
  },
  {
   "cell_type": "code",
   "execution_count": null,
   "metadata": {
    "collapsed": true
   },
   "outputs": [],
   "source": [
    "plt.plot([0, 1, 2], [0, 1, 4], 'r')"
   ]
  },
  {
   "cell_type": "markdown",
   "metadata": {},
   "source": [
    "If we include marker shape in the format string, we can make our previous plot this way"
   ]
  },
  {
   "cell_type": "code",
   "execution_count": null,
   "metadata": {
    "collapsed": true
   },
   "outputs": [],
   "source": [
    "plt.plot([1, 2, 3], [2, 3, 4], 'ro');\n",
    "plt.xlim([0, 5]);\n",
    "plt.ylim([0, 5]);"
   ]
  },
  {
   "cell_type": "markdown",
   "metadata": {},
   "source": [
    "We can also do both points and lines"
   ]
  },
  {
   "cell_type": "code",
   "execution_count": null,
   "metadata": {
    "collapsed": true
   },
   "outputs": [],
   "source": [
    "plt.plot([1, 2, 3], [2, 3, 4], 'ro-');\n",
    "plt.xlim([0, 5]);\n",
    "plt.ylim([0, 5]);"
   ]
  },
  {
   "cell_type": "markdown",
   "metadata": {},
   "source": [
    "### plotting separate vertical lines"
   ]
  },
  {
   "cell_type": "code",
   "execution_count": 119,
   "metadata": {},
   "outputs": [
    {
     "name": "stdout",
     "output_type": "stream",
     "text": [
      "The length of h is  2\n"
     ]
    },
    {
     "data": {
      "image/png": "[encoded data removed]",
      "text/plain": [
       "<matplotlib.figure.Figure at 0x1133aa5c0>"
      ]
     },
     "metadata": {},
     "output_type": "display_data"
    }
   ],
   "source": [
    "h = plt.plot([[1,2], [1,2]], [[2,2], [3,3]], 'r-')\n",
    "# plot returns not axes (like imshow did) but a list of lines \n",
    "\n",
    "ax = h[0].axes\n",
    "ax.set_xticks(range(0, 4))\n",
    "ax.set_yticks(range(0, 5))\n",
    "\n",
    "print(\"The length of h is \", len(h))"
   ]
  },
  {
   "cell_type": "markdown",
   "metadata": {},
   "source": [
    "## Additional formatting"
   ]
  },
  {
   "cell_type": "markdown",
   "metadata": {},
   "source": [
    "It's always important to label your axes!"
   ]
  },
  {
   "cell_type": "code",
   "execution_count": null,
   "metadata": {
    "collapsed": true
   },
   "outputs": [],
   "source": [
    "plt.plot([1, 2, 3], [2, 3, 4], 'ro-');\n",
    "plt.xlim([0, 5]);\n",
    "plt.ylim([0, 5]);\n",
    "\n",
    "plt.xlabel('input');\n",
    "plt.ylabel('output');"
   ]
  },
  {
   "cell_type": "markdown",
   "metadata": {},
   "source": [
    "Nearly every aspect of these plots is editable -- titles, fonts, colors, tick marks, etc, etc. Google is your best friend for figuring out how to change these features."
   ]
  },
  {
   "cell_type": "markdown",
   "metadata": {},
   "source": [
    "## Multiple Plots"
   ]
  },
  {
   "cell_type": "markdown",
   "metadata": {},
   "source": [
    "Let's make two different sets of data to play with."
   ]
  },
  {
   "cell_type": "code",
   "execution_count": 113,
   "metadata": {},
   "outputs": [
    {
     "name": "stdout",
     "output_type": "stream",
     "text": [
      "x: [0, 1, 2, 3, 4, 5]\n",
      "y1: [0, 4, 8, 12, 16, 20]\n",
      "y2: [0, 1, 4, 9, 16, 25]\n"
     ]
    }
   ],
   "source": [
    "x = range(6)\n",
    "\n",
    "# y = 4*x\n",
    "y1 = []\n",
    "for val in x:\n",
    "    y1 += [4*val]\n",
    "    \n",
    "# y = x**2\n",
    "y2 = []\n",
    "for val in x:\n",
    "    y2 += [val**2]\n",
    "    \n",
    "print(\"x:\", list(x))\n",
    "print(\"y1:\", y1)\n",
    "print(\"y2:\", y2)"
   ]
  },
  {
   "cell_type": "markdown",
   "metadata": {},
   "source": [
    "One way of comparing these two trends is to plot them on top of each other"
   ]
  },
  {
   "cell_type": "code",
   "execution_count": 116,
   "metadata": {},
   "outputs": [
    {
     "data": {
      "text/plain": [
       "<matplotlib.text.Text at 0x11314f0b8>"
      ]
     },
     "execution_count": 116,
     "metadata": {},
     "output_type": "execute_result"
    },
    {
     "data": {
      "image/png": "[encoded data removed]",
      "text/plain": [
       "<matplotlib.figure.Figure at 0x111ecf9b0>"
      ]
     },
     "metadata": {},
     "output_type": "display_data"
    }
   ],
   "source": [
    "plt.plot(x, y1, 'r');\n",
    "plt.plot(x, y2, 'b');\n",
    "plt.xlabel('x axis')\n",
    "plt.ylabel('y label is here')"
   ]
  },
  {
   "cell_type": "markdown",
   "metadata": {},
   "source": [
    "Another approach is to use two subplots"
   ]
  },
  {
   "cell_type": "code",
   "execution_count": 118,
   "metadata": {},
   "outputs": [
    {
     "data": {
      "image/png": "[encoded data removed]",
      "text/plain": [
       "<matplotlib.figure.Figure at 0x11332bf98>"
      ]
     },
     "metadata": {},
     "output_type": "display_data"
    }
   ],
   "source": [
    "plt.subplot(1, 2, 1) # 1 row, 2 columns, 1st subplot\n",
    "plt.plot(x, y1, 'r');\n",
    "plt.plot(x, y2, 'b');\n",
    "plt.ylim([0, 25]);\n",
    "\n",
    "plt.subplot(1, 2, 2) # 1 row, 2 columns, 2nd subplot\n",
    "plt.plot(x, y2, 'b');\n",
    "plt.ylim([0, 25]);"
   ]
  },
  {
   "cell_type": "markdown",
   "metadata": {},
   "source": [
    "## Advanced Examples -- aka Eye Candy"
   ]
  },
  {
   "cell_type": "markdown",
   "metadata": {},
   "source": [
    "Don't pay too much attention to the actual implementation quite yet, this is just to show you some examples of different types of plots!\n",
    "\n",
    "Histograms"
   ]
  },
  {
   "cell_type": "code",
   "execution_count": 120,
   "metadata": {
    "collapsed": true
   },
   "outputs": [],
   "source": [
    "from pylab import *"
   ]
  },
  {
   "cell_type": "code",
   "execution_count": 2,
   "metadata": {},
   "outputs": [
    {
     "ename": "NameError",
     "evalue": "name 'plt' is not defined",
     "output_type": "error",
     "traceback": [
      "\u001b[0;31m---------------------------------------------------------------------------\u001b[0m",
      "\u001b[0;31mNameError\u001b[0m                                 Traceback (most recent call last)",
      "\u001b[0;32m<ipython-input-2-1eac4a88624a>\u001b[0m in \u001b[0;36m<module>\u001b[0;34m()\u001b[0m\n\u001b[1;32m      2\u001b[0m \u001b[0;32mimport\u001b[0m \u001b[0mnumpy\u001b[0m\u001b[0;34m.\u001b[0m\u001b[0mrandom\u001b[0m\u001b[0;34m\u001b[0m\u001b[0m\n\u001b[1;32m      3\u001b[0m \u001b[0mx\u001b[0m \u001b[0;34m=\u001b[0m \u001b[0mnumpy\u001b[0m\u001b[0;34m.\u001b[0m\u001b[0mrandom\u001b[0m\u001b[0;34m.\u001b[0m\u001b[0mnormal\u001b[0m\u001b[0;34m(\u001b[0m\u001b[0msize\u001b[0m\u001b[0;34m=\u001b[0m\u001b[0;36m10000\u001b[0m\u001b[0;34m)\u001b[0m\u001b[0;34m\u001b[0m\u001b[0m\n\u001b[0;32m----> 4\u001b[0;31m \u001b[0mplt\u001b[0m\u001b[0;34m.\u001b[0m\u001b[0mhist\u001b[0m\u001b[0;34m(\u001b[0m\u001b[0mx\u001b[0m\u001b[0;34m,\u001b[0m \u001b[0mbins\u001b[0m\u001b[0;34m=\u001b[0m\u001b[0mnp\u001b[0m\u001b[0;34m.\u001b[0m\u001b[0mlinspace\u001b[0m\u001b[0;34m(\u001b[0m\u001b[0;34m-\u001b[0m\u001b[0;36m4\u001b[0m\u001b[0;34m,\u001b[0m\u001b[0;36m4\u001b[0m\u001b[0;34m,\u001b[0m\u001b[0;36m31\u001b[0m\u001b[0;34m)\u001b[0m\u001b[0;34m)\u001b[0m\u001b[0;34m;\u001b[0m\u001b[0;34m\u001b[0m\u001b[0m\n\u001b[0m\u001b[1;32m      5\u001b[0m \u001b[0mplt\u001b[0m\u001b[0;34m.\u001b[0m\u001b[0mxlabel\u001b[0m\u001b[0;34m(\u001b[0m\u001b[0;34m'x'\u001b[0m\u001b[0;34m)\u001b[0m\u001b[0;34m;\u001b[0m\u001b[0;34m\u001b[0m\u001b[0m\n\u001b[1;32m      6\u001b[0m \u001b[0mplt\u001b[0m\u001b[0;34m.\u001b[0m\u001b[0mylabel\u001b[0m\u001b[0;34m(\u001b[0m\u001b[0;34m'Counts'\u001b[0m\u001b[0;34m)\u001b[0m\u001b[0;34m;\u001b[0m\u001b[0;34m\u001b[0m\u001b[0m\n",
      "\u001b[0;31mNameError\u001b[0m: name 'plt' is not defined"
     ]
    }
   ],
   "source": [
    "import numpy as np\n",
    "import numpy.random\n",
    "x = numpy.random.normal(size=10000)\n",
    "plt.hist(x, bins=np.linspace(-4,4,31));\n",
    "plt.xlabel('x');\n",
    "plt.ylabel('Counts');"
   ]
  },
  {
   "cell_type": "markdown",
   "metadata": {},
   "source": [
    "contour plots"
   ]
  },
  {
   "cell_type": "code",
   "execution_count": 122,
   "metadata": {},
   "outputs": [
    {
     "data": {
      "text/plain": [
       "(-1, 1)"
      ]
     },
     "execution_count": 122,
     "metadata": {},
     "output_type": "execute_result"
    },
    {
     "data": {
      "image/png": "[encoded data removed]",
      "text/plain": [
       "<matplotlib.figure.Figure at 0x1138369b0>"
      ]
     },
     "metadata": {},
     "output_type": "display_data"
    }
   ],
   "source": [
    "dx = 0.02\n",
    "dy = 0.02\n",
    "x = arange(-1,1+dx,dx)\n",
    "y = arange(-1,1+dy,dy)\n",
    "X, Y = meshgrid(x,y)\n",
    "\n",
    "Z = exp((-X**2-Y**2-X*Y)/0.5)\n",
    "Z = Z[:-1,:-1]\n",
    "pcolor(X,Y,Z)\n",
    "xlim(-1,1)\n",
    "ylim(-1,1)"
   ]
  },
  {
   "cell_type": "markdown",
   "metadata": {},
   "source": [
    "A heart in 3D"
   ]
  },
  {
   "cell_type": "code",
   "execution_count": 123,
   "metadata": {},
   "outputs": [
    {
     "data": {
      "image/png": "[encoded data removed]",
      "text/plain": [
       "<matplotlib.figure.Figure at 0x1134ece80>"
      ]
     },
     "metadata": {},
     "output_type": "display_data"
    }
   ],
   "source": [
    "from mpl_toolkits.mplot3d import Axes3D\n",
    "\n",
    "def heart_3d(x,y,z):\n",
    "    return (x**2+(9/4)*y**2+z**2-1)**3-x**2*z**3-(9/80)*y**2*z**3\n",
    "def plot_implicit(fn, bbox=(-1.5,1.5)):\n",
    "    ''' create a plot of an implicit function\n",
    "    fn  ...implicit function (plot where fn==0)\n",
    "    bbox ..the x,y,and z limits of plotted interval'''\n",
    "    xmin, xmax, ymin, ymax, zmin, zmax = bbox*3\n",
    "    fig = figure()\n",
    "    ax = fig.add_subplot(111, projection='3d')\n",
    "    A = linspace(xmin, xmax, 100) # resolution of the contour\n",
    "    B = linspace(xmin, xmax, 100) # number of slices\n",
    "    A1,A2 = meshgrid(A,A) # grid on which the contour is plotted\n",
    "    for z in B: # plot contours in the XY plane\n",
    "        X,Y = A1,A2\n",
    "        Z = fn(X,Y,z)\n",
    "        cset = ax.contour(X, Y, Z+z, [z], zdir='z',colors=('r',))\n",
    "        # [z] defines the only level to plot for this contour for this value of z\n",
    "    for y in B: # plot contours in the XZ plane\n",
    "        X,Z = A1,A2\n",
    "        Y = fn(X,y,Z)\n",
    "        cset = ax.contour(X, Y+y, Z, [y], zdir='y',colors=('red',))\n",
    "    for x in B: # plot contours in the YZ plane\n",
    "        Y,Z = A1,A2\n",
    "        X = fn(x,Y,Z)\n",
    "        cset = ax.contour(X+x, Y, Z, [x], zdir='x',colors=('red',))\n",
    "    # must set plot limits because the contour will likely extend\n",
    "    # way beyond the displayed level.  Otherwise matplotlib extends the plot limits\n",
    "    # to encompass all values in the contour.\n",
    "    ax.set_zlim3d(zmin,zmax)\n",
    "    ax.set_xlim3d(xmin,xmax)\n",
    "    ax.set_ylim3d(ymin,ymax)\n",
    "    show()\n",
    "\n",
    "plot_implicit(heart_3d)\n",
    "# credit: http://bytesizebio.net/2013/02/16/a-belated-valentines-day-post/"
   ]
  },
  {
   "cell_type": "markdown",
   "metadata": {},
   "source": [
    "## NumPy"
   ]
  },
  {
   "cell_type": "markdown",
   "metadata": {},
   "source": [
    "NumPy is probably the package you will use the most, as it is \"the fundamental package for scientific computing with Python\"\n",
    "\n",
    "A NumPy `ndarray` is a multi-dimensional array -- i.e. like a list, but with multiple indices and every element being of the same type. For example, a two-dimensional array is like a \"list of lists\" where each sub-list is required to be the same length."
   ]
  },
  {
   "cell_type": "code",
   "execution_count": 124,
   "metadata": {},
   "outputs": [
    {
     "name": "stdout",
     "output_type": "stream",
     "text": [
      "[[1, 2, 3], [4, 5, 6], [7, 8, 9], [10, 11, 12]]\n",
      "<class 'list'>\n",
      "\n",
      "[[ 1  2  3]\n",
      " [ 4  5  6]\n",
      " [ 7  8  9]\n",
      " [10 11 12]]\n",
      "<class 'numpy.ndarray'>\n"
     ]
    }
   ],
   "source": [
    "import numpy as np\n",
    "\n",
    "l = [[1, 2, 3], [4, 5, 6], [7, 8, 9], [10, 11, 12]]\n",
    "print(l)\n",
    "print(type(l))\n",
    "\n",
    "print()\n",
    "\n",
    "a = np.array(l)\n",
    "print(a)\n",
    "print(type(a))"
   ]
  },
  {
   "cell_type": "markdown",
   "metadata": {},
   "source": [
    "Arrays have nice element-wise behavior under basic arithmetic operations. This allows us to avoid needing to write loops."
   ]
  },
  {
   "cell_type": "code",
   "execution_count": null,
   "metadata": {
    "collapsed": true
   },
   "outputs": [],
   "source": [
    "a = [0, 1, 2]\n",
    "print(a)\n",
    "\n",
    "for i in range(3):\n",
    "    a[i] *= 2\n",
    "\n",
    "print(a)"
   ]
  },
  {
   "cell_type": "code",
   "execution_count": 126,
   "metadata": {},
   "outputs": [
    {
     "name": "stdout",
     "output_type": "stream",
     "text": [
      "[0 1 2]\n",
      "[3 5 7]\n"
     ]
    }
   ],
   "source": [
    "a = np.arange(3)\n",
    "print(a)\n",
    "print(2*a + 3)"
   ]
  },
  {
   "cell_type": "code",
   "execution_count": null,
   "metadata": {
    "collapsed": true
   },
   "outputs": [],
   "source": [
    "print(a + a)\n",
    "print(a - a)\n",
    "print(a * a)"
   ]
  },
  {
   "cell_type": "markdown",
   "metadata": {},
   "source": [
    "Most of all, we get linear algebra (matrix multiplication, etc)"
   ]
  },
  {
   "cell_type": "code",
   "execution_count": 127,
   "metadata": {},
   "outputs": [
    {
     "name": "stdout",
     "output_type": "stream",
     "text": [
      "a = \n",
      " [[ 1  2  3]\n",
      " [ 4  5  6]\n",
      " [ 7  8  9]\n",
      " [10 11 12]]\n",
      "\n",
      "\n",
      "b = \n",
      " [[1]\n",
      " [2]\n",
      " [3]]\n",
      "c =  [[1 2 3]]\n",
      "\n",
      "a.dot(b) = \n",
      " [[14]\n",
      " [32]\n",
      " [50]\n",
      " [68]]\n",
      "\n",
      "another way to do matrix multiplication: a @ b = \n",
      " [[14]\n",
      " [32]\n",
      " [50]\n",
      " [68]]\n"
     ]
    }
   ],
   "source": [
    "l = [[1, 2, 3], [4, 5, 6], [7, 8, 9], [10, 11, 12]]\n",
    "a = np.array(l)\n",
    "print(\"a = \\n\", a)\n",
    "print(\"\\n\")      \n",
    "\n",
    "b = np.array([[1], [2], [3]])\n",
    "c = b.transpose()\n",
    "print(\"b = \\n\", b)\n",
    "print(\"c = \", c)\n",
    "\n",
    "\n",
    "print(\"\\na.dot(b) = \\n\", a.dot(b))\n",
    "\n",
    "print(\"\\nanother way to do matrix multiplication: a @ b = \\n\", a @ b)"
   ]
  },
  {
   "cell_type": "markdown",
   "metadata": {},
   "source": [
    "There are multiple ways to create useful arrays"
   ]
  },
  {
   "cell_type": "code",
   "execution_count": null,
   "metadata": {
    "collapsed": true
   },
   "outputs": [],
   "source": [
    "a = np.arange(2, 10, 2) # like range(), but with more complex options and retruns a numpy array instead of a list\n",
    "print(a)\n",
    "\n",
    "# for example, we can do non-integer steps"
   ]
  },
  {
   "cell_type": "code",
   "execution_count": null,
   "metadata": {
    "collapsed": true
   },
   "outputs": [],
   "source": [
    "print(a.shape)"
   ]
  },
  {
   "cell_type": "markdown",
   "metadata": {},
   "source": [
    "Initialize a matrix of a particular size to all zeros"
   ]
  },
  {
   "cell_type": "code",
   "execution_count": null,
   "metadata": {
    "collapsed": true
   },
   "outputs": [],
   "source": [
    "a = np.zeros((4, 1))\n",
    "print(a)"
   ]
  },
  {
   "cell_type": "markdown",
   "metadata": {},
   "source": [
    "# Indexing and slicing"
   ]
  },
  {
   "cell_type": "code",
   "execution_count": 134,
   "metadata": {},
   "outputs": [
    {
     "name": "stdout",
     "output_type": "stream",
     "text": [
      "Initial version of a = \n",
      " [[ 0  1  2  3  4]\n",
      " [ 5  6  7  8  9]\n",
      " [10 11 12 13 14]\n",
      " [15 16 17 18 19]]\n",
      "\n",
      "Now a is\n",
      " [[   0    1    2    3    4]\n",
      " [   5    6    7    8    9]\n",
      " [  10   11   12 1000   14]\n",
      " [  15   16   17   18   19]]\n"
     ]
    }
   ],
   "source": [
    "a = np.arange(0, 20)\n",
    "# print(a)\n",
    "a  = a.reshape([4,5])\n",
    "\n",
    "print(\"Initial version of a = \\n\", a)\n",
    "\n",
    "# remember first element is 0!\n",
    "a[2,3]   # the 2-index row (3rd row because first position is index 0) and 3-index column\n",
    "\n",
    "\n",
    "a[2,3] = 1000\n",
    "\n",
    "print(\"\\nNow a is\\n\",  a)"
   ]
  },
  {
   "cell_type": "code",
   "execution_count": 148,
   "metadata": {},
   "outputs": [
    {
     "name": "stdout",
     "output_type": "stream",
     "text": [
      "[1000 2000 3000 4000 5000 6000 7000 8000]\n",
      "[1000 4000 7000]\n",
      "[4000 5000 6000 7000 8000]\n",
      "\b b is \n",
      " [[ 0  1  2  3  4]\n",
      " [ 5  6  7  8  9]\n",
      " [10 11 12 13 14]\n",
      " [15 16 17 18 19]]\n",
      "\n",
      "every other row, all columns:\n",
      " [[ 0  1  2  3  4]\n",
      " [10 11 12 13 14]]\n"
     ]
    }
   ],
   "source": [
    "a = np.array([1000, 2000, 3000, 4000, 5000, 6000, 7000, 8000])\n",
    "print(a)\n",
    "\n",
    "print(a[0:-1:3])\n",
    "\n",
    "# a[0:-1:2,:]    # colon syntax is starting_index, ending_index, step [optional]\n",
    "\n",
    "# start at third index and go all the way to end:\n",
    "print(a[3:])\n",
    "\n",
    "b = np.arange(0, 20)\n",
    "b  = b.reshape([4,5])\n",
    "print(\"\\b b is \\n\", b)\n",
    "\n",
    "# every other row, all columns:\n",
    "print(\"\\nevery other row, all columns:\\n\", b[0:-1:2, :])"
   ]
  },
  {
   "cell_type": "markdown",
   "metadata": {},
   "source": [
    "**PITFALL:** Numpy has 1 dimensional arrays, distinct from single rows or columns which are 2D arrays\n",
    "+ 1D array has shape `(N,)`\n",
    "+ A 2D row has shape `(1,N)`\n",
    "+ A 2D column has shape `(N,1)`\n",
    "\n",
    "The 1D arrays allow more flexibility in many instances, but some functions require a 2D array as input, or behave differently when given a 1D array instead of a 2D array. Not recognizing these instances and getting errors or incorrect results is one of the primary mistakes of new Numpy users. \n",
    "\n",
    "For turning a 2D array into a 1D array, the functions `np.squeeze()` and `np.flatten()` are useful\n",
    "\n",
    "For turning a 1D array into a 2D array, the `np.reshape()` function is useful"
   ]
  },
  {
   "cell_type": "code",
   "execution_count": null,
   "metadata": {
    "collapsed": true
   },
   "outputs": [],
   "source": [
    "a = np.zeros((4, 1))\n",
    "print(a, a.shape, \"\\n\")\n",
    "\n",
    "a = a.squeeze()\n",
    "print(a, a.shape, \"\\n\")\n",
    "\n",
    "a = a.reshape([4,1])\n",
    "print(a, a.shape, \"\\n\")\n",
    "\n",
    "a = a.reshape([1,4])\n",
    "print(a, a.shape, \"\\n\")\n",
    "\n",
    "a = a.reshape([2,2])\n",
    "print(a, a.shape)"
   ]
  },
  {
   "cell_type": "markdown",
   "metadata": {},
   "source": [
    "Initialize a matrix to all ones"
   ]
  },
  {
   "cell_type": "code",
   "execution_count": null,
   "metadata": {
    "collapsed": true
   },
   "outputs": [],
   "source": [
    "a = np.ones([2, 3])\n",
    "print(a)"
   ]
  },
  {
   "cell_type": "markdown",
   "metadata": {},
   "source": [
    "Initialize a matrix with values randomly drawn from a standard normal distribution"
   ]
  },
  {
   "cell_type": "code",
   "execution_count": null,
   "metadata": {
    "collapsed": true
   },
   "outputs": [],
   "source": [
    "a = np.random.randn(2, 3)\n",
    "print(a)"
   ]
  },
  {
   "cell_type": "markdown",
   "metadata": {},
   "source": [
    "The NumPy array has name useful manipulation functions"
   ]
  },
  {
   "cell_type": "code",
   "execution_count": null,
   "metadata": {
    "collapsed": true
   },
   "outputs": [],
   "source": [
    "a = np.arange(10)\n",
    "print(a)\n",
    "\n",
    "print()\n",
    "\n",
    "b = a.reshape([2,-1]) # The -1 tells numpy to calculate what the size of the remaining dimension should be itself\n",
    "print(b)              # Since 'a' has 10 elements, if one dimension is size 2, then the other must be 10/2 = 5"
   ]
  },
  {
   "cell_type": "code",
   "execution_count": null,
   "metadata": {
    "collapsed": true
   },
   "outputs": [],
   "source": [
    "print(b)\n",
    "\n",
    "print()\n",
    "\n",
    "print(b.T)  # Use .T to transpose a 2D numpy array"
   ]
  },
  {
   "cell_type": "markdown",
   "metadata": {},
   "source": [
    "And appling functions along an axis"
   ]
  },
  {
   "cell_type": "code",
   "execution_count": null,
   "metadata": {
    "collapsed": true
   },
   "outputs": [],
   "source": [
    "print(a)\n",
    "\n",
    "print()\n",
    "\n",
    "print(a.sum())       # Sums over all elements in the array, returns a number\n",
    "\n",
    "print()\n",
    "\n",
    "print(a.sum(axis=0)) # Sums along columns in the array, returns a 1D array \n",
    "\n",
    "print()\n",
    "\n",
    "print(a.sum(axis=1)) # Sums along rows in the array, returns a 1D array"
   ]
  },
  {
   "cell_type": "markdown",
   "metadata": {},
   "source": [
    "NumPy arrays allow for fancier indexing"
   ]
  },
  {
   "cell_type": "code",
   "execution_count": null,
   "metadata": {
    "collapsed": true
   },
   "outputs": [],
   "source": [
    "a = np.random.randint(0, 10, size=8)\n",
    "print(\"8 random integers between 0 and 10:\")\n",
    "print(a)\n",
    "\n",
    "print()\n",
    "\n",
    "print(\"The integers at indices 1, 3, & 6:\")\n",
    "print(a[[1, 3, 6]])"
   ]
  },
  {
   "cell_type": "code",
   "execution_count": null,
   "metadata": {
    "collapsed": true
   },
   "outputs": [],
   "source": [
    "print(a<5)     # Returns a boolean value for each element in a (True if element is < 5, else False)\n",
    "print(a[a<5])  # Returns the values at indices where the boolean from above is True, skips False"
   ]
  },
  {
   "cell_type": "code",
   "execution_count": null,
   "metadata": {
    "collapsed": true
   },
   "outputs": [],
   "source": [
    "a = np.arange(10).reshape(2, 5)\n",
    "print(a)\n",
    "\n",
    "print(\"\\nNow take the elements in row 1, in columns 0, 1, & 3:\")\n",
    "print(a[1, [0, 1, 3]])"
   ]
  },
  {
   "cell_type": "markdown",
   "metadata": {},
   "source": [
    "## SciPy"
   ]
  },
  {
   "cell_type": "markdown",
   "metadata": {},
   "source": [
    "SciPy contains many submodules for common scientfic computing tasks:\n",
    "* function optimization\n",
    "* numerical integration / differentiation\n",
    "* special functions\n",
    "* time series analys (e.g. fourier transforms)"
   ]
  },
  {
   "cell_type": "markdown",
   "metadata": {},
   "source": [
    "Example code, using SciPy to solve an ordinary differential equation"
   ]
  },
  {
   "cell_type": "code",
   "execution_count": 6,
   "metadata": {
    "scrolled": true
   },
   "outputs": [
    {
     "data": {
      "image/png": "[encoded data removed]",
      "text/plain": [
       "<matplotlib.figure.Figure at 0x10b4957f0>"
      ]
     },
     "metadata": {},
     "output_type": "display_data"
    }
   ],
   "source": [
    "from scipy.integrate import odeint\n",
    "\n",
    "t_max = 100e-3    # second\n",
    "dt = 1e-3        # second\n",
    "tau = 20e-3      # second\n",
    "el = -60e-3      # milivolt\n",
    "vr = -70e-3      # milivolt\n",
    "vth = -50e-3     # milivolt\n",
    "i_mean = 25e-3   # ampere\n",
    "\n",
    "def I(t):\n",
    "    return i_mean*(1+np.sin(2*np.pi*t/0.01))\n",
    "\n",
    "def dvdt(v, t):\n",
    "    return (1.0/tau)*(el - v + I(t))\n",
    "\n",
    "t = np.arange(0, t_max, dt)\n",
    "v = odeint(dvdt, [el], t)\n",
    "\n",
    "plt.plot(t, v, '.k');"
   ]
  }
 ],
 "metadata": {
  "anaconda-cloud": {},
  "kernelspec": {
   "display_name": "Python [default]",
   "language": "python",
   "name": "python3"
  },
  "language_info": {
   "codemirror_mode": {
    "name": "ipython",
    "version": 3
   },
   "file_extension": ".py",
   "mimetype": "text/x-python",
   "name": "python",
   "nbconvert_exporter": "python",
   "pygments_lexer": "ipython3",
   "version": "3.5.2"
  }
 },
 "nbformat": 4,
 "nbformat_minor": 1
}
