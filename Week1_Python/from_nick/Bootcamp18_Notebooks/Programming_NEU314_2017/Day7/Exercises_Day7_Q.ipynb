{
 "cells": [
  {
   "cell_type": "markdown",
   "metadata": {},
   "source": [
    "### PNI Biomath 2017\n",
    "# Class 7 Exercises \n",
    "---\n",
    "### Using Jupyter Notebooks:\n",
    "To run a cell and advance to the next cell, press `Shift + Return`\n",
    "\n",
    "To run a cell without advancing to the next cell, press `Control + Return` \n",
    "\n",
    "You can find a variety of shortcuts at **Keyboard Shortcuts** in the Help menu above\n",
    "\n",
    "**If you're confused:** Google and Python are the best of friends! Throw a few words describing your problem into Google and click on the first Stack Overflow link — this will solve 95% of your problems!\n",
    "\n",
    "If you would simply like to know more about a particular function, press `Shift + Tab` while inside the function to bring up a snippet of documentation; press `Tab` again (while still holding `Shift`) to bring up an even larger box of documentation; a third press of `Tab` will turn the bottom half of your screen into a window with the full documentation for your function (including definitions of the function's inputs, outputs, parameters and their default settings, and often some example code!)\n",
    "\n",
    "---"
   ]
  },
  {
   "cell_type": "markdown",
   "metadata": {},
   "source": [
    "<h1 id=\"tocheading\">TABLE OF CONTENTS</h1>\n",
    "<div id=\"toc\"></div>\n",
    "\n",
    "**Updates to the table of contents are periodic, but run the cell below to first start or force an update.**"
   ]
  },
  {
   "cell_type": "code",
   "execution_count": null,
   "metadata": {
    "ExecuteTime": {
     "end_time": "2017-10-05T22:13:24.374573Z",
     "start_time": "2017-10-05T22:13:24.365815Z"
    },
    "collapsed": true
   },
   "outputs": [],
   "source": [
    "%%javascript\n",
    "$.getScript('make_table_of_contents.js')"
   ]
  },
  {
   "cell_type": "code",
   "execution_count": null,
   "metadata": {
    "ExecuteTime": {
     "end_time": "2017-10-05T22:18:06.749332Z",
     "start_time": "2017-10-05T22:18:06.357117Z"
    },
    "collapsed": true
   },
   "outputs": [],
   "source": [
    "%autosave 1\n",
    "%matplotlib notebook\n",
    "import numpy as np\n",
    "import matplotlib.pyplot as plt"
   ]
  },
  {
   "cell_type": "markdown",
   "metadata": {},
   "source": [
    "# EX 1 | Leaky Integrate-and-Fire Neuron Simulation\n",
    "**(A)**\n",
    "The LIF neuron model is defined by the *membrane equation* and *reset condition*:\n",
    "\n",
    "$$\\tau_m \\,\\frac{dV(t)}{dt} = E_{L} - V(t) + I(t) \\;\\;\\text{ if }\\;\\; \\quad V(t) \\leq V_{th}$$\n",
    "\n",
    "$$V(t) = V_{r} \\;\\;\\text{otherwise}$$\n",
    "\n",
    "where $V(t)$ is the membrane potential, $\\tau_m$ is the membrane time constant, $E_{L}$ is the leak potential, $I(t)$ is the pre-synaptic input current, $V_{th}$ is the firing threshold and $V_{r}$ is the reset voltage.\n",
    "\n",
    "The numerical integration of the membrane equation can be performed in discrete time using the forward Euler method. We'll start by writing the membrane equation with some small $dt$ :\n",
    "\n",
    "$$\\tau_m\\,\\frac{V\\left(t+dt\\right)-V\\left(t\\right)}{dt} = E_{L} - V(t) + \\,I(t)$$\n",
    "\n",
    "The value of the membrane potential $V\\left(t+dt\\right)$ can be expressed in terms of its previous value $V(t)$ by simple algebraic manipulation. For *small enough* values of $dt$ this provides a good approximation of the continuous time integration.\n",
    "\n",
    "Using the constants defined for you below, define a function `LIF()` that takes three optional inputs — the starting potential $V(0)$, the time step $dt$, and the length of the simulation $t_{max}$ — each with appropriate default values, and returns an array with the time course (an array from 0 to $t_{max}$ in steps of $dt$) and an array of the voltage of your neuron over that time course. You are encouraged to use the instructions and code provided in the Lecture 7 Notebook to help you!\n",
    "\n",
    "We will use a stochastic input for our function such that $I(t)$ is a random value between 0 and `i_mean` (defined below). The `np.random.random()` function should be useful here!\n",
    "\n",
    "Call your function and make a plot with the returned time course and voltage."
   ]
  },
  {
   "cell_type": "code",
   "execution_count": null,
   "metadata": {
    "ExecuteTime": {
     "end_time": "2017-10-05T22:18:39.272847Z",
     "start_time": "2017-10-05T22:18:39.173223Z"
    },
    "collapsed": true
   },
   "outputs": [],
   "source": [
    "t_max = 100e-3   # second\n",
    "dt = 1e-3        # second\n",
    "tau = 20e-3      # second\n",
    "el = -60e-3      # milivolt\n",
    "i_mean = 25e-3   # ampere\n",
    "\n"
   ]
  },
  {
   "cell_type": "markdown",
   "metadata": {},
   "source": [
    "---\n",
    "**(B)** Let's plot multiple neuron's at once! Call your function `LIF()` $N=10$ times and plot the resulting voltage trajectories on a single plot. Setting the option `alpha=0.1` when calling `plt.plot()` should help make the individual trajectories from visually blocking each other!"
   ]
  },
  {
   "cell_type": "code",
   "execution_count": null,
   "metadata": {
    "ExecuteTime": {
     "end_time": "2017-10-05T22:18:45.112728Z",
     "start_time": "2017-10-05T22:18:45.044806Z"
    },
    "collapsed": true
   },
   "outputs": [],
   "source": []
  },
  {
   "cell_type": "markdown",
   "metadata": {},
   "source": [
    "---\n",
    "**(C)** Let's now make a slightly different version of your function that includes spiking by implementing our model's _reset condition_:\n",
    "\n",
    "$$V(t) = V_{r} \\quad\\quad\\text{if}\\quad\\quad V(t)\\geq V_{th}$$\n",
    "\n",
    "Define a new function `LIF_spike()` which takes the same 3 inputs and has the same 2 outputs as `LIF()`, but includes this reset condition to induce spikes in the model. Again, feel free to use the instructions and code from the Lecture 7 Notebook to help you write your function.\n",
    "\n",
    "Call your function and make a plot with the returned time course and voltage."
   ]
  },
  {
   "cell_type": "code",
   "execution_count": null,
   "metadata": {
    "ExecuteTime": {
     "end_time": "2017-10-05T22:18:51.399971Z",
     "start_time": "2017-10-05T22:18:51.332780Z"
    },
    "collapsed": true
   },
   "outputs": [],
   "source": [
    "vr = -70e-3      # milivolt\n",
    "vth = -50e-3     # milivolt\n",
    "\n"
   ]
  },
  {
   "cell_type": "markdown",
   "metadata": {},
   "source": [
    "---\n",
    "**(D)** Once again, let's plot multiple neuron's at once! Call your function `LIF_spike()` $N=10$ times and plot the resulting voltage trajectories on a single plot."
   ]
  },
  {
   "cell_type": "code",
   "execution_count": null,
   "metadata": {
    "ExecuteTime": {
     "end_time": "2017-10-05T22:18:56.770871Z",
     "start_time": "2017-10-05T22:18:56.700932Z"
    },
    "collapsed": true
   },
   "outputs": [],
   "source": []
  },
  {
   "cell_type": "markdown",
   "metadata": {},
   "source": [
    "**(E)** Add an optional boolean input called `spikes` to your `LIF_spike()` function, set to `False` by default. When the user calls `LIF_spike(spikes=True)` your function should return the spike times (the specific $t$ corresponding to when the voltage was reset to $V_r$) _instead of_ the time course and voltage. When `spikes=False`, then `LIF_spike()` should run as in **(C)**.\n",
    "\n",
    "Call your function with `spikes=True` and print out the spike times returned. You may want to increase your default $t_{max}$ value to see more spikes occur."
   ]
  },
  {
   "cell_type": "code",
   "execution_count": null,
   "metadata": {
    "ExecuteTime": {
     "end_time": "2017-10-05T22:19:18.180057Z",
     "start_time": "2017-10-05T22:19:18.156995Z"
    },
    "collapsed": true
   },
   "outputs": [],
   "source": []
  },
  {
   "cell_type": "markdown",
   "metadata": {},
   "source": [
    "**(F)** Finally, let's use our new spike-returning function `LIF_spike()` to simulate a population of neurons and display all of their spikes together on a single plot. This plot of spikes from a population of neurons is called a _raster plot_ in neuroscience. In this type of plot, time runs along the x-axis, while the y-axis is made of discrete rows, each of which is dedicated to the spiking output of a particular neuron. Once again, the Lecture 7 Notebook has code to help you make your plot.\n",
    "\n",
    "For $N=50$, generate spike times with `LIF_spike(spikes=True)` and plot each neuron's spikes on a column corresponding  to its index (i.e. neuron $n=7$ will have its spikes plotted at $y=7$ in the plot). Passing the `plt.plot()` function the formatting option `'k|'` will make the nice vertical lines representative of spikes in typical raster plots."
   ]
  },
  {
   "cell_type": "code",
   "execution_count": null,
   "metadata": {
    "ExecuteTime": {
     "end_time": "2017-10-05T22:19:26.974632Z",
     "start_time": "2017-10-05T22:19:26.831015Z"
    },
    "collapsed": true
   },
   "outputs": [],
   "source": []
  },
  {
   "cell_type": "code",
   "execution_count": null,
   "metadata": {
    "collapsed": true
   },
   "outputs": [],
   "source": []
  }
 ],
 "metadata": {
  "kernelspec": {
   "display_name": "Python [default]",
   "language": "python",
   "name": "python3"
  },
  "language_info": {
   "codemirror_mode": {
    "name": "ipython",
    "version": 3
   },
   "file_extension": ".py",
   "mimetype": "text/x-python",
   "name": "python",
   "nbconvert_exporter": "python",
   "pygments_lexer": "ipython3",
   "version": "3.6.2"
  },
  "latex_envs": {
   "LaTeX_envs_menu_present": true,
   "autocomplete": true,
   "bibliofile": "biblio.bib",
   "cite_by": "apalike",
   "current_citInitial": 1,
   "eqLabelWithNumbers": true,
   "eqNumInitial": 1,
   "hotkeys": {
    "equation": "Ctrl-E",
    "itemize": "Ctrl-I"
   },
   "labels_anchors": false,
   "latex_user_defs": false,
   "report_style_numbering": false,
   "user_envs_cfg": false
  },
  "varInspector": {
   "cols": {
    "lenName": 16,
    "lenType": 16,
    "lenVar": 40
   },
   "kernels_config": {
    "python": {
     "delete_cmd_postfix": "",
     "delete_cmd_prefix": "del ",
     "library": "var_list.py",
     "varRefreshCmd": "print(var_dic_list())"
    },
    "r": {
     "delete_cmd_postfix": ") ",
     "delete_cmd_prefix": "rm(",
     "library": "var_list.r",
     "varRefreshCmd": "cat(var_dic_list()) "
    }
   },
   "types_to_exclude": [
    "module",
    "function",
    "builtin_function_or_method",
    "instance",
    "_Feature"
   ],
   "window_display": false
  }
 },
 "nbformat": 4,
 "nbformat_minor": 1
}
