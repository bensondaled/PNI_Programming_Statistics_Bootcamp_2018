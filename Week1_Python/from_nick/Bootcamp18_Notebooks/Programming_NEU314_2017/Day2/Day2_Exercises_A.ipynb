{
 "cells": [
  {
   "cell_type": "markdown",
   "metadata": {},
   "source": [
    "### PNI Biomath 2017\n",
    "# Class 2 Exercises\n",
    "---\n",
    "### Using Jupyter Notebooks:\n",
    "To run a cell and advance to the next cell, press `Shift + Return`\n",
    "\n",
    "To run a cell without advancing to the next cell, press `Control + Return` \n",
    "\n",
    "You can find a variety of shortcuts at **Keyboard Shortcuts** in the Help menu above\n",
    "\n",
    "**If you're confused:** Google and Python are the best of friends! Throw a few words describing your problem into Google and click on the first Stack Overflow link — this will solve 95% of your problems!\n",
    "\n",
    "If you would simply like to know more about a particular function, press `Shift + Tab` while inside the function to bring up a snippet of documentation; press `Tab` again (while still holding `Shift`) to bring up an even larger box of documentation; a third press of `Tab` will turn the bottom half of your screen into a window with the full documentation for your function (including definitions of the function's inputs, outputs, parameters and their default settings, and often some example code!)\n",
    "\n",
    "---"
   ]
  },
  {
   "cell_type": "markdown",
   "metadata": {},
   "source": [
    "Before we start let's run some magic commands to automatically save our progress once a second (with `%autosave 1`) and force all graphics from the `matplotlib` package to be displayed inline (with `%matplotlib inline`)"
   ]
  },
  {
   "cell_type": "code",
   "execution_count": 2,
   "metadata": {},
   "outputs": [
    {
     "data": {
      "application/javascript": [
       "IPython.notebook.set_autosave_interval(1000)"
      ]
     },
     "metadata": {},
     "output_type": "display_data"
    },
    {
     "name": "stdout",
     "output_type": "stream",
     "text": [
      "Autosaving every 1 seconds\n"
     ]
    }
   ],
   "source": [
    "%autosave 1\n",
    "%matplotlib inline"
   ]
  },
  {
   "cell_type": "markdown",
   "metadata": {},
   "source": [
    "**1)** Use the Python function given to you below, `myrand`, to write your own n-sided `dice` function. That is, write a\n",
    "function that outputs an integer from 1 to *n* with equal probability. Allow the user to specify the value *n*."
   ]
  },
  {
   "cell_type": "code",
   "execution_count": 1,
   "metadata": {
    "collapsed": true
   },
   "outputs": [],
   "source": [
    "### Using the function myrand(), define your own dice(n) function below\n",
    "from Day2_Helper import myrand\n",
    "def dice(n):\n",
    "    '''\n",
    "    dice takes a positive integer n as input and returns\n",
    "    an integer between 0 and n-1 with equal probability\n",
    "    '''\n",
    "    return int(n*myrand())"
   ]
  },
  {
   "cell_type": "markdown",
   "metadata": {},
   "source": [
    "**2)** Expand on your dice function to add a second input parameter *K* that allows the user to\n",
    "specify the number of rolls of the dice to be returned. The rolls should be returned as\n",
    "a vector. For example, if you ask for 6 rolls of a 3-sided dice, you might get\n",
    "\n",
    "> \\>\\> dice(3,6)\n",
    "\n",
    "> [1 0 2 2 1 0]\n",
    "\n"
   ]
  },
  {
   "cell_type": "code",
   "execution_count": 25,
   "metadata": {},
   "outputs": [
    {
     "data": {
      "text/plain": [
       "[0, 0, 2, 0, 0, 0, 1, 0, 2, 1]"
      ]
     },
     "execution_count": 25,
     "metadata": {},
     "output_type": "execute_result"
    }
   ],
   "source": [
    "### Expand on your previous function to define dice(n,k) below\n",
    "def dice(n,k):\n",
    "    '''\n",
    "    dice takes positive integers n and k as input and returns\n",
    "    a list of k integers between 0 and n-1 each drawn with equal probability\n",
    "    '''\n",
    "    random_numbers = []\n",
    "    for i in range(k):\n",
    "        random_numbers += [int(n*myrand())]\n",
    "    return random_numbers\n",
    "\n",
    "dice(3, 10)"
   ]
  },
  {
   "cell_type": "markdown",
   "metadata": {},
   "source": [
    "\"**3) Histogramming some of your results.** \\n\",\n",
    "You'll use `matplotlib`'s `hist()` function in this problem. This function takes a vector of numbers, puts them into bins, and makes a bar plot for how many are in each bin. By default it uses 10 equally spaced bins, but you can use the optional \\\"bins\\\" argument to tell it where to put the bin edges. For example, calling it with \\\"`bins=np.arange(-0.5, 6, 1)`\\\" will put bin edges at `-0.5, 0.5, 1.5, 2.5, 3.5, 4.5, 5.5`; correspondingle, the bin *centers* will be at `0, 1, 2, 3, 4, 5`.  To see an example, run:,\n",
    "\n",
    "        x = [0, 0, 1, 2, 3, 4, 5, 5, 5, 5]\n",
    "        plt.hist(x, bins=np.arange(-0.5, 6, 1))\n",
    "\n",
    "**The problem itself:** Use the function you just wrote to roll your Python dice *K* times, where *K* is some\n",
    "large number. Use `plt.hist()` to make a histogram the number of times you got `dice=1`, `dice=2`, `dice=3`, ... , `dice=n`. If the distribution is uniform, the fraction of rolls that came out in each of these bins should be 1/*n*. Are you close to that?\n"
   ]
  },
  {
   "cell_type": "code",
   "execution_count": 11,
   "metadata": {},
   "outputs": [
    {
     "data": {
      "image/png": "[encoded data removed]",
      "text/plain": [
       "<matplotlib.figure.Figure at 0x10ad6a048>"
      ]
     },
     "metadata": {},
     "output_type": "display_data"
    }
   ],
   "source": [
    "### Call your function K times and then plot the results as a histogram below\n",
    "from matplotlib import pyplot as plt\n",
    "n = 7\n",
    "k = 100\n",
    "rolls = dice(n, k)\n",
    "plt.hist(rolls, bins = range(n+1));"
   ]
  },
  {
   "cell_type": "markdown",
   "metadata": {},
   "source": [
    "**4)** To assess the answer to the previous question quantitatively, compute *E*, the mean\n",
    "squared difference between the expected fraction (1/*n*) and each of the values you obtained. In other words, compute the mean, over all the histogram bins, of \n",
    "\n",
    "$$(\\frac{1}{n} - \\frac{\\text{bin height}}{K})^2$$\n",
    "\n",
    "To do this, you can use the `np.mean()` function, as well as the fact that NumPy arrays allows arithmetic operations on vectors (for example, if `vec = [1 2 3]`, `vec + 1 = [2 3 4]`)."
   ]
  },
  {
   "cell_type": "code",
   "execution_count": 12,
   "metadata": {},
   "outputs": [
    {
     "name": "stdout",
     "output_type": "stream",
     "text": [
      "Mean-squared error: 0.00152\n"
     ]
    }
   ],
   "source": [
    "### Write code to calculate E below\n",
    "### TIP: It may be useful to change the output of dice from a list to a numpy array\n",
    "import numpy as np\n",
    "def E(rolls, n, k):\n",
    "    bin_height = np.bincount(rolls)\n",
    "    diffs = 1./n - bin_height/k\n",
    "    return np.mean(diffs**2)\n",
    "\n",
    "n = 5\n",
    "k = 100\n",
    "rolls = dice(n,k)\n",
    "MSE = E(rolls,n,k)\n",
    "print('Mean-squared error:', MSE)"
   ]
  },
  {
   "cell_type": "markdown",
   "metadata": {},
   "source": [
    "**5)** Compute *E* for many different *K*s, and make a plot of *E* as a function of *K*. What do\n",
    "you observe?"
   ]
  },
  {
   "cell_type": "code",
   "execution_count": 13,
   "metadata": {},
   "outputs": [
    {
     "data": {
      "text/plain": [
       "<matplotlib.text.Text at 0x10e1c86a0>"
      ]
     },
     "execution_count": 13,
     "metadata": {},
     "output_type": "execute_result"
    },
    {
     "data": {
      "image/png": "[encoded data removed]",
      "text/plain": [
       "<matplotlib.figure.Figure at 0x10e1ad080>"
      ]
     },
     "metadata": {},
     "output_type": "display_data"
    }
   ],
   "source": [
    "### Write code to compute E's and plot below\n",
    "### TIP: since you're computing E many times, it would be useful if your solution to #4 were a function\n",
    "n = 5\n",
    "Ks = np.arange(10,1000, 10)\n",
    "MSEs = []\n",
    "\n",
    "for k in Ks:\n",
    "    rolls = dice(n,k)\n",
    "    MSEs += [E(rolls,n,k)]\n",
    "\n",
    "plt.plot(Ks, MSEs, 'bo-')\n",
    "plt.xlabel('K')\n",
    "plt.ylabel('Mean-squared error')"
   ]
  },
  {
   "cell_type": "markdown",
   "metadata": {},
   "source": [
    "**6)** The Day_2 folder containing this notebook also contains a file called `joyce.mat`. Within Python, you can load easily MATLAB data using the SciPy function `loadmat()`, done for you below. This will create a variable called `mystring` that contains some text. We also define a new string called `vowels`.\n",
    "\n",
    "\n",
    "Using a loop through the elements of your `vowels` string, compute how many times\n",
    "each vowel appears in the text of `mystring` (i.e., how many ‘a’, how many ‘e’, how many ‘i’,\n",
    "etc.). "
   ]
  },
  {
   "cell_type": "code",
   "execution_count": 14,
   "metadata": {
    "collapsed": true
   },
   "outputs": [],
   "source": [
    "### Here we load the string from the .mat file for you (try printing mystring to see what it says!)\n",
    "from scipy.io import loadmat\n",
    "mystring = loadmat('joyce.mat')['str'][0]\n",
    "vowels = 'aeiou'"
   ]
  },
  {
   "cell_type": "code",
   "execution_count": 15,
   "metadata": {},
   "outputs": [
    {
     "name": "stdout",
     "output_type": "stream",
     "text": [
      "a 126\n",
      "e 200\n",
      "i 98\n",
      "o 104\n",
      "u 34\n"
     ]
    }
   ],
   "source": [
    "### Count how many times each vowel appears in mystring below\n",
    "for v in vowels:\n",
    "    count = 0\n",
    "    for c in mystring:\n",
    "        if c == v:\n",
    "            count += 1\n",
    "    print(v, count)"
   ]
  },
  {
   "cell_type": "markdown",
   "metadata": {},
   "source": [
    "**7)** Write a `first_sentence` function that takes a string as input, then extracts and returns the first\n",
    "sentence of the string (i.e., all the characters up to and including the first period; if the\n",
    "string contains no period, then return the original string)."
   ]
  },
  {
   "cell_type": "code",
   "execution_count": 16,
   "metadata": {},
   "outputs": [
    {
     "data": {
      "text/plain": [
       "'The air of the room chilled his shoulders.'"
      ]
     },
     "execution_count": 16,
     "metadata": {},
     "output_type": "execute_result"
    }
   ],
   "source": [
    "### Define your function first_sentence below\n",
    "def first_sentence(s):\n",
    "    first = ''\n",
    "    for c in s:\n",
    "        first += c\n",
    "        if c == '.':\n",
    "            break\n",
    "    return first\n",
    "            \n",
    "first_sentence(mystring)"
   ]
  },
  {
   "cell_type": "markdown",
   "metadata": {},
   "source": [
    "**8)** Write a function `replacer` that takes a string as input,\n",
    "replaces every letter “e” with an “X”, and returns the new string. Use your\n",
    "`first_sentence` to test your new `replacer` function with the first sentence of the\n",
    "text. Then use `replacer` on the entire text."
   ]
  },
  {
   "cell_type": "code",
   "execution_count": 17,
   "metadata": {},
   "outputs": [
    {
     "name": "stdout",
     "output_type": "stream",
     "text": [
      "ThX air of thX room chillXd his shouldXrs.\n",
      "\n",
      "ThX air of thX room chillXd his shouldXrs. HX strXtchXd\n",
      "himsXlf cautiously along undXr thX shXXts and lay down\n",
      "bXsidX his wifX. OnX by onX, thXy wXrX all bXcoming\n",
      "shadXs. BXttXr pass boldly into that othXr world, in\n",
      "thX full glory of somX passion, than fadX and withXr\n",
      "dismally with agX. HX thought of how shX who lay bXsidX\n",
      "him had lockXd in hXr hXart for so many yXars that imagX\n",
      "of hXr lovXr's XyXs whXn hX had told hXr that hX did\n",
      "not wish to livX.\n",
      "\n",
      "GXnXrous tXars fillXd GabriXl's XyXs. HX had nXvXr fXlt\n",
      "likX that himsXlf towards any woman, but hX knXw that such\n",
      "a fXXling must bX lovX. ThX tXars gathXrXd morX thickly in\n",
      "his XyXs and in thX partial darknXss hX imaginXd hX saw thX\n",
      "form of a young man standing undXr a dripping trXX. OthXr\n",
      "forms wXrX nXar. His soul had approachXd that rXgion whXrX\n",
      "dwXll thX vast hosts of thX dXad. HX was conscious of, but\n",
      "could not apprXhXnd, thXir wayward and flickXring XxistXncX.\n",
      "His own idXntity was fading out into a grXy impalpablX world:\n",
      "thX solid world itsXlf, which thXsX dXad had onX timX rXarXd\n",
      "and livXd in, was dissolving and dwindling.\n",
      "\n",
      "A fXw light taps upon thX panX madX him turn to thX window.\n",
      "It had bXgun to snow again. HX watchXd slXXpily thX flakXs,\n",
      "silvXr and dark, falling obliquXly against thX lamplight.\n",
      "ThX timX had comX for him to sXt out on his journXy wXstward.\n",
      "YXs, thX nXwspapXrs wXrX right: snow was gXnXral all ovXr\n",
      "IrXland. It was falling on XvXry part of thX dark cXntral\n",
      "plain, on thX trXXlXss hills, falling softly upon thX\n",
      "Bog of AllXn and, farthXr wXstward, softly falling into\n",
      "thX dark mutinous Shannon wavXs. It was falling, too,\n",
      "upon XvXry part of thX lonXly churchyard on thX hill whXrX\n",
      "MichaXl FurXy lay buriXd. It lay thickly driftXd on thX\n",
      "crookXd crossXs and hXadstonXs, on thX spXars of thX littlX\n",
      "gatX, on thX barrXn thorns. His soul swoonXd slowly as hX\n",
      "hXard thX snow falling faintly through thX univXrsX and\n",
      "faintly falling, likX thX dXscXnt of thXir last Xnd,\n",
      "upon all thX living and thX dXad.\n"
     ]
    }
   ],
   "source": [
    "### Define your function replacer below\n",
    "def replacer(s):\n",
    "    new_s = ''\n",
    "    for c in s:\n",
    "        if c == 'e':\n",
    "            new_s += 'X'\n",
    "        else:\n",
    "            new_s += c\n",
    "    return new_s\n",
    "\n",
    "print(replacer(first_sentence(mystring)))\n",
    "print()\n",
    "print(replacer(mystring))"
   ]
  },
  {
   "cell_type": "markdown",
   "metadata": {},
   "source": [
    "**8b)** Write a second version of your solution to problem 8, but this time the function should use list comprehension.\n",
    "\n",
    "Hint 1: in Python, strings are iterables, meaning you can iterate through the letters like you would through the elements of a list. \n",
    "\n",
    "Hint 2: if you have a list of characters, you can convert it to a string using the ```join``` method. Here is an example:"
   ]
  },
  {
   "cell_type": "code",
   "execution_count": 18,
   "metadata": {},
   "outputs": [
    {
     "name": "stdout",
     "output_type": "stream",
     "text": [
      "hello world\n",
      "h\n",
      "e\n",
      "l\n",
      "l\n",
      "o\n",
      " \n",
      "w\n",
      "o\n",
      "r\n",
      "l\n",
      "d\n",
      "['h', 'e', 'l', 'l', 'o', ' ', 'w', 'o', 'r', 'l', 'd']\n",
      "hello world\n"
     ]
    }
   ],
   "source": [
    "my_string = 'hello world'\n",
    "print(my_string)\n",
    "\n",
    "for char in my_string:\n",
    "    print(char)\n",
    "\n",
    "my_string_as_a_list = list(my_string)\n",
    "print(my_string_as_a_list)\n",
    "\n",
    "my_string_as_a_string_again = ''.join(my_string_as_a_list)\n",
    "print(my_string_as_a_string_again)"
   ]
  },
  {
   "cell_type": "code",
   "execution_count": 19,
   "metadata": {},
   "outputs": [
    {
     "name": "stdout",
     "output_type": "stream",
     "text": [
      "ThX air of thX room chillXd his shouldXrs.\n",
      "\n",
      "ThX air of thX room chillXd his shouldXrs. HX strXtchXd\n",
      "himsXlf cautiously along undXr thX shXXts and lay down\n",
      "bXsidX his wifX. OnX by onX, thXy wXrX all bXcoming\n",
      "shadXs. BXttXr pass boldly into that othXr world, in\n",
      "thX full glory of somX passion, than fadX and withXr\n",
      "dismally with agX. HX thought of how shX who lay bXsidX\n",
      "him had lockXd in hXr hXart for so many yXars that imagX\n",
      "of hXr lovXr's XyXs whXn hX had told hXr that hX did\n",
      "not wish to livX.\n",
      "\n",
      "GXnXrous tXars fillXd GabriXl's XyXs. HX had nXvXr fXlt\n",
      "likX that himsXlf towards any woman, but hX knXw that such\n",
      "a fXXling must bX lovX. ThX tXars gathXrXd morX thickly in\n",
      "his XyXs and in thX partial darknXss hX imaginXd hX saw thX\n",
      "form of a young man standing undXr a dripping trXX. OthXr\n",
      "forms wXrX nXar. His soul had approachXd that rXgion whXrX\n",
      "dwXll thX vast hosts of thX dXad. HX was conscious of, but\n",
      "could not apprXhXnd, thXir wayward and flickXring XxistXncX.\n",
      "His own idXntity was fading out into a grXy impalpablX world:\n",
      "thX solid world itsXlf, which thXsX dXad had onX timX rXarXd\n",
      "and livXd in, was dissolving and dwindling.\n",
      "\n",
      "A fXw light taps upon thX panX madX him turn to thX window.\n",
      "It had bXgun to snow again. HX watchXd slXXpily thX flakXs,\n",
      "silvXr and dark, falling obliquXly against thX lamplight.\n",
      "ThX timX had comX for him to sXt out on his journXy wXstward.\n",
      "YXs, thX nXwspapXrs wXrX right: snow was gXnXral all ovXr\n",
      "IrXland. It was falling on XvXry part of thX dark cXntral\n",
      "plain, on thX trXXlXss hills, falling softly upon thX\n",
      "Bog of AllXn and, farthXr wXstward, softly falling into\n",
      "thX dark mutinous Shannon wavXs. It was falling, too,\n",
      "upon XvXry part of thX lonXly churchyard on thX hill whXrX\n",
      "MichaXl FurXy lay buriXd. It lay thickly driftXd on thX\n",
      "crookXd crossXs and hXadstonXs, on thX spXars of thX littlX\n",
      "gatX, on thX barrXn thorns. His soul swoonXd slowly as hX\n",
      "hXard thX snow falling faintly through thX univXrsX and\n",
      "faintly falling, likX thX dXscXnt of thXir last Xnd,\n",
      "upon all thX living and thX dXad.\n"
     ]
    }
   ],
   "source": [
    "# write and test another solution to problem 8 using list comprehension\n",
    "def replacer2(s):\n",
    "    return ''.join([char if char!='e' else 'X' for char in s])\n",
    "\n",
    "print(replacer2(first_sentence(mystring)))\n",
    "print()\n",
    "print(replacer2(mystring))"
   ]
  },
  {
   "cell_type": "markdown",
   "metadata": {},
   "source": [
    "**9)** We’re going to examine the text you loaded from the `joyce.mat` file again. Expand\n",
    "your function from problem 6 so that now you count the frequency of occurrence of\n",
    "every character in the text file. To help you do this, the function `unique` has been provided below.\n",
    "This function takes a string and returns a unique sorted list of each of the values in the vector. For example,\n",
    "\n",
    "> \\>\\> unique(‘open sesame’)\n",
    "\n",
    "> ‘ aemnops’\n",
    "\n",
    "Note how the space character, ' ', is included. All special charcaters will be included and uppercase letters will be treated as different then lowercase letters.\n"
   ]
  },
  {
   "cell_type": "markdown",
   "metadata": {},
   "source": [
    "**10)** Plotting a damped oscillator.\n",
    "\n",
    "**A)** Generate a function that takes as an input a numpy array. It then performs the following operation on the input:\n",
    "\n",
    "$$exp(-x) + cos(x)$$\n",
    "\n",
    "Plot the output of the function. Use appropriate ranges and stepsizes for your input to generate a smooth and nice-looking plot!  Don't hesistate to manpulate the axes to make the plot easy on the eyes! (hint, use the functions in numpy to execute the appropriate operations)\n",
    "\n",
    "**B)** Expand your function to include two additional arguments, a and b, with default values set in the function input.  Have the function perform the following.\n",
    "\n",
    "$$exp(-a*x) + cos(b*x)$$\n",
    "\n",
    "Generate a plot with overlayed examples of different function outputs with different values of $a$ and $b$"
   ]
  },
  {
   "cell_type": "code",
   "execution_count": 16,
   "metadata": {},
   "outputs": [
    {
     "data": {
      "image/png": "[encoded data removed]",
      "text/plain": [
       "<matplotlib.figure.Figure at 0x1071089e8>"
      ]
     },
     "metadata": {},
     "output_type": "display_data"
    }
   ],
   "source": [
    "import numpy as np\n",
    "import matplotlib.pyplot as plt\n",
    "\n",
    "def f(t, a=1, b=1):\n",
    "    return np.exp(-a*t) * np.cos(2*b*np.pi*t)\n",
    "\n",
    "t1 = np.arange(0.0, 5.0, 0.01)\n",
    "\n",
    "\n",
    "plt.plot(t1, f(t1), 'b-')\n",
    "plt.plot(t1,f(t1, a = 2,b = 1),'r-')\n",
    "plt.plot(t1,f(t1, a = 3,b = 1),'y-')\n",
    "plt.plot(t1,f(t1, a = 4,b = 1),'g-')\n",
    "plt.plot(t1,f(t1, a = .5,b = 1),'k-')\n",
    "plt.show()"
   ]
  },
  {
   "cell_type": "code",
   "execution_count": null,
   "metadata": {
    "collapsed": true
   },
   "outputs": [],
   "source": [
    "### Use the provided function to calculate the frequency of every charcter in mystring below\n",
    "from Day2_Helper import unique\n",
    "characters = unique(mystring)\n",
    "\n",
    "character_count = [0]*len(characters)\n",
    "for c in mystring:\n",
    "    for v_index, v in enumerate(characters):\n",
    "        if c == v:\n",
    "            character_count[v_index] += 1\n",
    "            break\n",
    "\n",
    "for v_ind in range(len(characters)):\n",
    "    print(characters[v_ind], character_count[v_ind])"
   ]
  },
  {
   "cell_type": "markdown",
   "metadata": {},
   "source": [
    "**10)** Write an equivalent code using a series of *FOR* loops and *IF* statements for the following list comprehension:\n",
    "\n",
    "> \\>\\> N = 3\n",
    "\n",
    "> \\>\\> M = 2\n",
    "\n",
    "> mylist = [[[x,y] for x in range(0,N)] for y in range(0,M)]\n",
    "\n",
    "Remember the order of execution of *FOR* statements in a list comprehension."
   ]
  },
  {
   "cell_type": "code",
   "execution_count": 7,
   "metadata": {},
   "outputs": [
    {
     "name": "stdout",
     "output_type": "stream",
     "text": [
      "[[[0, 0], [1, 0], [2, 0]], [[0, 1], [1, 1], [2, 1]]]\n",
      "[[[0, 0], [1, 0], [2, 0]], [[0, 1], [1, 1], [2, 1]]]\n"
     ]
    }
   ],
   "source": [
    "\n",
    "N = 3\n",
    "M = 2\n",
    "\n",
    "# using list comprehensions\n",
    "mylist = [[[x,y] for x in range(0,N)] for y in range(0,M)]\n",
    "print(mylist)\n",
    "\n",
    "# using FOR statements\n",
    "mynewlist = []\n",
    "for y in range(0,M):\n",
    "    mynewlist.append([])\n",
    "    for x in range(0,N):\n",
    "        mynewlist[y] += [[x,y]]\n",
    "        \n",
    "print(mynewlist)\n"
   ]
  },
  {
   "cell_type": "markdown",
   "metadata": {},
   "source": [
    "**11)** (Bonus!) Generate a sequence of prime numbers up to some maximum, max. \n",
    "\n",
    "Note) If you use list comprehensions, this can be done in TWO lines of code. \n",
    "\n",
    "Hint) First try generating a sequence of non-prime numbers\n"
   ]
  },
  {
   "cell_type": "code",
   "execution_count": 24,
   "metadata": {},
   "outputs": [
    {
     "name": "stdout",
     "output_type": "stream",
     "text": [
      "[2, 3, 5, 7, 11, 13, 17, 19, 23, 29, 31, 37, 41, 43, 47]\n"
     ]
    }
   ],
   "source": [
    "#The solution I have outlined is computationally redundant, there's likely other solutions...\n",
    "#First make a list of ints separated by 2, by 3, by 4, by 5. Easily done using a list comprehension.\n",
    "\n",
    "max = 50\n",
    "\n",
    "#This will run through 2*2, 2+2*2, 4+2*2..... 3*2, 3+3*2,...4*2, 4*2+4, 4*2+8\n",
    "noprimes = [j for i in range(2, 8) for j in range(i*2, max, i)] \n",
    "\n",
    "#deselect the noprimes\n",
    "primes = [x for x in range(2, max) if x not in noprimes]\n",
    "\n",
    "print(primes)"
   ]
  }
 ],
 "metadata": {
  "anaconda-cloud": {},
  "kernelspec": {
   "display_name": "Python [default]",
   "language": "python",
   "name": "python3"
  },
  "language_info": {
   "codemirror_mode": {
    "name": "ipython",
    "version": 3
   },
   "file_extension": ".py",
   "mimetype": "text/x-python",
   "name": "python",
   "nbconvert_exporter": "python",
   "pygments_lexer": "ipython3",
   "version": "3.5.2"
  }
 },
 "nbformat": 4,
 "nbformat_minor": 1
}
