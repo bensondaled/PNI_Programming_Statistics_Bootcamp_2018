{
 "cells": [
  {
   "cell_type": "markdown",
   "metadata": {},
   "source": [
    "# PNI Math Tools 2017 -- Programming module -- Day 2\n",
    "9/19/17\n",
    "\n",
    "\n",
    "### Items to be covered\n",
    "\n",
    "1. Using Jupyter Notebooks/Recap from last time\n",
    "2. Debugging\n",
    "3. Encapsulation/mutation\n",
    "4. General Programming tips\n",
    "5. FOR loops\n",
    "6. Default Parameter Values\n",
    "7. List comprehensions\n",
    "8. Modules\n",
    "9. Packages\n",
    "10. Plotting\n",
    "\n",
    "    \n"
   ]
  },
  {
   "cell_type": "markdown",
   "metadata": {},
   "source": [
    "## Using Jupyter Notebooks:\n",
    "\n",
    "Notebooks allow you to mix text, graphics, and executable code within a single file that can be easily shared. Each notebook is a file (ending in .ipynb) that you open in your browser. Notebooks are composed of chunks called \"cells\", each of which can be code, or can be text. When you add a new cell, the typical default is that it will be a \"code\" cell. To make it a text cell, choose \"markdown.\" Running (i.e., executing) a code cell sends its contents to an underlying Python \"kernel\", which treats it just as if you had typed the contents into a Python console.\n",
    "\n",
    "To run a code cell and advance to the next cell, press `Shift + Return`. \n",
    "\n",
    "To run a cell without advancing to the next cell, press `Control + Return` \n",
    "\n",
    "You can find a variety of shortcuts at **Keyboard Shortcuts** in the Help menu above\n",
    "\n",
    "**If you're confused:** Google and Python are the best of friends! Throw a few words describing your problem into Google and click on the first Stack Overflow link — this will solve 95% of your problems!\n",
    "\n",
    "If you would simply like to know more about a particular function, press `Shift + Tab` while inside the function to bring up a snippet of documentation; press `Tab` again (while still holding `Shift`) to bring up an even larger box of documentation; a third press of `Tab` will turn the bottom half of your screen into a window with the full documentation for your function (including definitions of the function's inputs, outputs, parameters and their default settings, and often some example code!)## (from yesterday, for reference): using Jupyter Notebooks:\n",
    "\n",
    "---"
   ]
  },
  {
   "cell_type": "markdown",
   "metadata": {},
   "source": [
    "### example: let's add a new cell and make a function"
   ]
  },
  {
   "cell_type": "code",
   "execution_count": 1,
   "metadata": {
    "collapsed": true
   },
   "outputs": [],
   "source": [
    "def f(x):\n",
    "    y = 2*x\n",
    "    y = y+1\n",
    "    return y"
   ]
  },
  {
   "cell_type": "code",
   "execution_count": 2,
   "metadata": {},
   "outputs": [
    {
     "data": {
      "text/plain": [
       "61"
      ]
     },
     "execution_count": 2,
     "metadata": {},
     "output_type": "execute_result"
    }
   ],
   "source": [
    "f(30)\n"
   ]
  },
  {
   "cell_type": "markdown",
   "metadata": {},
   "source": [
    "Stepping through what Python does when a function is called:\n",
    "1. Python takes whatever is in the parenthesis of the calling statement and runs that code first, until it evaluates to something (e.g., a number)\n",
    "2. Then it opens a new (almost) private namespace for inside the function, and assigns the results of the evaluation to variables with the names of the parameters in the definition of the function\n",
    "3. Then it runs the code inside the function\n",
    "4. If there is a \"return\" statement, it returns some values that can be used outside the function. A function with a single output evaluates to that output, just like 2\\*3 evaluates to 6.\n",
    " "
   ]
  },
  {
   "cell_type": "code",
   "execution_count": null,
   "metadata": {
    "collapsed": true
   },
   "outputs": [],
   "source": [
    "y = 4\n",
    "print(f(y))\n",
    "print(f(f(y)))\n",
    "print(f(f(f(y))))\n",
    "print(\"Meanwhile, y is = \", y)"
   ]
  },
  {
   "cell_type": "markdown",
   "metadata": {},
   "source": [
    "### The Debugger"
   ]
  },
  {
   "cell_type": "markdown",
   "metadata": {},
   "source": [
    "The debugger can be useful, letting you step through each line of code, examining the results after each line.\n",
    "\n",
    "Within-debugger commands include\n",
    "\n",
    "    n    execute current line, move to next line\n",
    "    s    step into a function if there is one in the current line\n",
    "    r    continue executing the current function, not stopping until it returns\n",
    "    c    continue without stopping\n",
    "and importantly\n",
    "\n",
    "    h    for help"
   ]
  },
  {
   "cell_type": "code",
   "execution_count": 2,
   "metadata": {},
   "outputs": [
    {
     "name": "stdout",
     "output_type": "stream",
     "text": [
      "NOTE: Enter 'c' at the ipdb>  prompt to continue execution.\n",
      "> \u001b[0;32m<string>\u001b[0m(2)\u001b[0;36m<module>\u001b[0;34m()\u001b[0m\n",
      "\n",
      "ipdb> n\n",
      "> \u001b[0;32m<string>\u001b[0m(3)\u001b[0;36m<module>\u001b[0;34m()\u001b[0m\n",
      "\n",
      "ipdb> n\n",
      "7\n",
      "> \u001b[0;32m<string>\u001b[0m(4)\u001b[0;36m<module>\u001b[0;34m()\u001b[0m\n",
      "\n",
      "ipdb> s\n",
      "--Call--\n",
      "> \u001b[0;32m<ipython-input-1-0cad61c4097e>\u001b[0m(1)\u001b[0;36mf\u001b[0;34m()\u001b[0m\n",
      "\u001b[0;32m----> 1 \u001b[0;31m\u001b[0;32mdef\u001b[0m \u001b[0mf\u001b[0m\u001b[0;34m(\u001b[0m\u001b[0mx\u001b[0m\u001b[0;34m)\u001b[0m\u001b[0;34m:\u001b[0m\u001b[0;34m\u001b[0m\u001b[0m\n",
      "\u001b[0m\u001b[0;32m      2 \u001b[0;31m    \u001b[0my\u001b[0m \u001b[0;34m=\u001b[0m \u001b[0;36m2\u001b[0m\u001b[0;34m*\u001b[0m\u001b[0mx\u001b[0m\u001b[0;34m\u001b[0m\u001b[0m\n",
      "\u001b[0m\u001b[0;32m      3 \u001b[0;31m    \u001b[0my\u001b[0m \u001b[0;34m=\u001b[0m \u001b[0my\u001b[0m\u001b[0;34m+\u001b[0m\u001b[0;36m1\u001b[0m\u001b[0;34m\u001b[0m\u001b[0m\n",
      "\u001b[0m\u001b[0;32m      4 \u001b[0;31m    \u001b[0;32mreturn\u001b[0m \u001b[0my\u001b[0m\u001b[0;34m\u001b[0m\u001b[0m\n",
      "\u001b[0m\n",
      "ipdb> n\n",
      "> \u001b[0;32m<ipython-input-1-0cad61c4097e>\u001b[0m(2)\u001b[0;36mf\u001b[0;34m()\u001b[0m\n",
      "\u001b[0;32m      1 \u001b[0;31m\u001b[0;32mdef\u001b[0m \u001b[0mf\u001b[0m\u001b[0;34m(\u001b[0m\u001b[0mx\u001b[0m\u001b[0;34m)\u001b[0m\u001b[0;34m:\u001b[0m\u001b[0;34m\u001b[0m\u001b[0m\n",
      "\u001b[0m\u001b[0;32m----> 2 \u001b[0;31m    \u001b[0my\u001b[0m \u001b[0;34m=\u001b[0m \u001b[0;36m2\u001b[0m\u001b[0;34m*\u001b[0m\u001b[0mx\u001b[0m\u001b[0;34m\u001b[0m\u001b[0m\n",
      "\u001b[0m\u001b[0;32m      3 \u001b[0;31m    \u001b[0my\u001b[0m \u001b[0;34m=\u001b[0m \u001b[0my\u001b[0m\u001b[0;34m+\u001b[0m\u001b[0;36m1\u001b[0m\u001b[0;34m\u001b[0m\u001b[0m\n",
      "\u001b[0m\u001b[0;32m      4 \u001b[0;31m    \u001b[0;32mreturn\u001b[0m \u001b[0my\u001b[0m\u001b[0;34m\u001b[0m\u001b[0m\n",
      "\u001b[0m\n",
      "ipdb> n\n",
      "> \u001b[0;32m<ipython-input-1-0cad61c4097e>\u001b[0m(3)\u001b[0;36mf\u001b[0;34m()\u001b[0m\n",
      "\u001b[0;32m      1 \u001b[0;31m\u001b[0;32mdef\u001b[0m \u001b[0mf\u001b[0m\u001b[0;34m(\u001b[0m\u001b[0mx\u001b[0m\u001b[0;34m)\u001b[0m\u001b[0;34m:\u001b[0m\u001b[0;34m\u001b[0m\u001b[0m\n",
      "\u001b[0m\u001b[0;32m      2 \u001b[0;31m    \u001b[0my\u001b[0m \u001b[0;34m=\u001b[0m \u001b[0;36m2\u001b[0m\u001b[0;34m*\u001b[0m\u001b[0mx\u001b[0m\u001b[0;34m\u001b[0m\u001b[0m\n",
      "\u001b[0m\u001b[0;32m----> 3 \u001b[0;31m    \u001b[0my\u001b[0m \u001b[0;34m=\u001b[0m \u001b[0my\u001b[0m\u001b[0;34m+\u001b[0m\u001b[0;36m1\u001b[0m\u001b[0;34m\u001b[0m\u001b[0m\n",
      "\u001b[0m\u001b[0;32m      4 \u001b[0;31m    \u001b[0;32mreturn\u001b[0m \u001b[0my\u001b[0m\u001b[0;34m\u001b[0m\u001b[0m\n",
      "\u001b[0m\n",
      "ipdb> c\n",
      "181\n"
     ]
    }
   ],
   "source": [
    "%%debug\n",
    "x = 10\n",
    "print(f(3))\n",
    "print(f(90))"
   ]
  },
  {
   "cell_type": "markdown",
   "metadata": {},
   "source": [
    "Functions can have more than one input/output, or even no inputs and outputs."
   ]
  },
  {
   "cell_type": "code",
   "execution_count": 3,
   "metadata": {},
   "outputs": [
    {
     "name": "stdout",
     "output_type": "stream",
     "text": [
      "15 5\n",
      "\n",
      "Help, I'm trapped in a function!\n"
     ]
    }
   ],
   "source": [
    "def f(x, y):\n",
    "    return x + y, x - y\n",
    "\n",
    "total, diff = f(10, 5)\n",
    "print(total, diff)\n",
    "    \n",
    "\n",
    "def g():\n",
    "    print(\"\\nHelp, I'm trapped in a function!\")\n",
    "    \n",
    "g()"
   ]
  },
  {
   "cell_type": "markdown",
   "metadata": {},
   "source": [
    "### Clarification from last time. 'is' and '=='\n",
    "\n",
    "'is' is NOT the same as '=='"
   ]
  },
  {
   "cell_type": "code",
   "execution_count": 4,
   "metadata": {},
   "outputs": [
    {
     "name": "stdout",
     "output_type": "stream",
     "text": [
      "True\n"
     ]
    }
   ],
   "source": [
    "this = 2\n",
    "that = 2.0\n",
    "print(this == that)"
   ]
  },
  {
   "cell_type": "code",
   "execution_count": 5,
   "metadata": {},
   "outputs": [
    {
     "name": "stdout",
     "output_type": "stream",
     "text": [
      "False\n"
     ]
    }
   ],
   "source": [
    "print(this is that)"
   ]
  },
  {
   "cell_type": "markdown",
   "metadata": {},
   "source": [
    "---\n",
    "\n",
    "# Encapsulation\n",
    "\n",
    "A basic principle of clean coding is splitting big problems into cleanly separable smaller chunks, each of which is easier to solve. To do this, you want to make each chunk as independent of the others as possible, so you can debug it and/or modify it without worrying about how it would affect other chunks (or how changing other chunks would affect it). When many pieces of code depend on many other pieces, it becomes what is known as \"spaghetti code\", a.k.a. a mess.\n",
    "\n",
    "### using functions to wrap and seal off chunks of code\n",
    "\n",
    "In **functional programming**, the fact that functions create their own variable namespaces is used to cleanly wrap different chunks of code apart from each other. That is, a variable first declared and used inside a function can be addressed and used only inside the function. It is therefore kept totally separate from some other chunk of code because it can't be used or modified outside the function, even accidentally.\n",
    "\n",
    "Some languages enforce such encapsulation pretty strictly: the namespace inside a function is totally separate from that outside. That is, when executing code inside the function you can't access *any* variables that existed outside the function, you only know what was passed as parameters to the function; and *none* of the variables from inside the function are accessible once outside it, values have to be passed to the outside as outputs returned by the function. So communication is strictly controlled: in through known parameters, out through known outputs of the function.\n",
    "\n",
    "**Python is not like that: encapsulation is not strict.** Which means that you can cut some corners: you can write code that is a little shorter and faster than you could otherwise, but you can also much more easily screw up and write bad code that is a mess to debug. So **be careful**! My recommendation is, that to start you try to write code *that works*. That means write it clean and well-encapsulated. Once you've debugged it, and it all works as you thought it would, then maybe you can try cutting some corners for efficiency.\n",
    "\n",
    "Two big holes are:"
   ]
  },
  {
   "cell_type": "markdown",
   "metadata": {},
   "source": [
    "### hole #1: values of variables defined outside the function can be used inside the function."
   ]
  },
  {
   "cell_type": "code",
   "execution_count": 6,
   "metadata": {},
   "outputs": [
    {
     "name": "stdout",
     "output_type": "stream",
     "text": [
      "f(2)= 6 ; a= 3\n",
      "f(2)= 20 ; a= 10\n"
     ]
    }
   ],
   "source": [
    "a = 3\n",
    "\n",
    "def f(x):\n",
    "    return a*x\n",
    "\n",
    "print(\"f(2)=\", f(2), \"; a=\", a)\n",
    "\n",
    "a = 10\n",
    "print(\"f(2)=\", f(2), \"; a=\", a)\n",
    "\n",
    "# But note that although you can read a's value inside the function, you can't modify a\n",
    "\n",
    "# def f(x):\n",
    "#     a = a + 3\n",
    "#     return a*x\n",
    "\n",
    "# print(\"f(2)=\", f(2))\n"
   ]
  },
  {
   "cell_type": "markdown",
   "metadata": {},
   "source": [
    "It **does not** work the other way around -- variables defined inside the function are not available outside of it."
   ]
  },
  {
   "cell_type": "code",
   "execution_count": 7,
   "metadata": {},
   "outputs": [
    {
     "name": "stdout",
     "output_type": "stream",
     "text": [
      "6\n"
     ]
    },
    {
     "ename": "NameError",
     "evalue": "name 'b' is not defined",
     "output_type": "error",
     "traceback": [
      "\u001b[0;31m---------------------------------------------------------------------------\u001b[0m",
      "\u001b[0;31mNameError\u001b[0m                                 Traceback (most recent call last)",
      "\u001b[0;32m<ipython-input-7-bb0dde47e77a>\u001b[0m in \u001b[0;36m<module>\u001b[0;34m()\u001b[0m\n\u001b[1;32m      4\u001b[0m \u001b[0;34m\u001b[0m\u001b[0m\n\u001b[1;32m      5\u001b[0m \u001b[0mprint\u001b[0m\u001b[0;34m(\u001b[0m\u001b[0mf\u001b[0m\u001b[0;34m(\u001b[0m\u001b[0;36m2\u001b[0m\u001b[0;34m)\u001b[0m\u001b[0;34m)\u001b[0m\u001b[0;34m\u001b[0m\u001b[0m\n\u001b[0;32m----> 6\u001b[0;31m \u001b[0mprint\u001b[0m\u001b[0;34m(\u001b[0m\u001b[0mb\u001b[0m\u001b[0;34m)\u001b[0m\u001b[0;34m\u001b[0m\u001b[0m\n\u001b[0m",
      "\u001b[0;31mNameError\u001b[0m: name 'b' is not defined"
     ]
    }
   ],
   "source": [
    "def f(x):\n",
    "    b = 3\n",
    "    return b*x\n",
    "\n",
    "print(f(2))\n",
    "print(b)"
   ]
  },
  {
   "cell_type": "markdown",
   "metadata": {},
   "source": [
    "### hole #2: mutating a variable passed as a parameter *does* change the variable outside the function"
   ]
  },
  {
   "cell_type": "markdown",
   "metadata": {},
   "source": [
    "Certain operations change the value of a variable in place; we say that these operations \"mutate\" the variable."
   ]
  },
  {
   "cell_type": "code",
   "execution_count": 8,
   "metadata": {},
   "outputs": [
    {
     "name": "stdout",
     "output_type": "stream",
     "text": [
      "[0, 1]\n",
      "[0, 1]\n"
     ]
    }
   ],
   "source": [
    "a = [0, 1]\n",
    "\n",
    "print(a)\n",
    "b = a + [2]\n",
    "print(a)"
   ]
  },
  {
   "cell_type": "code",
   "execution_count": 9,
   "metadata": {},
   "outputs": [
    {
     "name": "stdout",
     "output_type": "stream",
     "text": [
      "[0, 1]\n",
      "[0, 1, 2]\n"
     ]
    }
   ],
   "source": [
    "print(a)\n",
    "a += [2] # \"mutation\" here\n",
    "print(a)"
   ]
  },
  {
   "cell_type": "markdown",
   "metadata": {},
   "source": [
    "Usually, when you pass a variable to a function, the function cannot change the value argument outside of the function."
   ]
  },
  {
   "cell_type": "code",
   "execution_count": 10,
   "metadata": {},
   "outputs": [
    {
     "name": "stdout",
     "output_type": "stream",
     "text": [
      "[0, 1]\n",
      "[0, 1, 2]\n",
      "[0, 1]\n"
     ]
    }
   ],
   "source": [
    "def f(x):\n",
    "    x = [0, 1, 2] # reassignment of x, does not persist after function ends\n",
    "    return x\n",
    "\n",
    "a = [0, 1]\n",
    "print(a)\n",
    "print(f(a))\n",
    "print(a)"
   ]
  },
  {
   "cell_type": "markdown",
   "metadata": {},
   "source": [
    "But be careful if you mutate the variable inside of the function!"
   ]
  },
  {
   "cell_type": "code",
   "execution_count": 11,
   "metadata": {},
   "outputs": [
    {
     "name": "stdout",
     "output_type": "stream",
     "text": [
      "[0, 1]\n",
      "[0, 1, 2]\n",
      "[0, 1, 2]\n"
     ]
    }
   ],
   "source": [
    "def f(x):\n",
    "    x += [2] # mutation of x, DOES persist after function ends\n",
    "    return x\n",
    "\n",
    "a = [0, 1]\n",
    "print(a)\n",
    "print(f(a))\n",
    "print(a)"
   ]
  },
  {
   "cell_type": "markdown",
   "metadata": {},
   "source": [
    "### You can also mutate strings"
   ]
  },
  {
   "cell_type": "code",
   "execution_count": 12,
   "metadata": {},
   "outputs": [
    {
     "name": "stdout",
     "output_type": "stream",
     "text": [
      "sl =  ['t', 'h', 'i', 's', ' ', 'i', 's', ' ', 'm', 'y', ' ', 's', 't', 'r', 'i', 'n', 'g']\n"
     ]
    }
   ],
   "source": [
    " s = \"this is my string\"\n",
    "# turn it into a list\n",
    "slist = list(s)\n",
    "print(\"sl = \", slist)"
   ]
  },
  {
   "cell_type": "code",
   "execution_count": 13,
   "metadata": {},
   "outputs": [
    {
     "data": {
      "text/plain": [
       "['thi', ' i', ' my ', 'tring']"
      ]
     },
     "execution_count": 13,
     "metadata": {},
     "output_type": "execute_result"
    }
   ],
   "source": [
    "s.split('s')"
   ]
  },
  {
   "cell_type": "code",
   "execution_count": 14,
   "metadata": {},
   "outputs": [
    {
     "name": "stdout",
     "output_type": "stream",
     "text": [
      "[0, 1]\n",
      "[0, 1]\n"
     ]
    }
   ],
   "source": [
    "a = [0, 1]\n",
    "\n",
    "print(a)\n",
    "b = a + [2]\n",
    "print(a)"
   ]
  },
  {
   "cell_type": "code",
   "execution_count": 15,
   "metadata": {},
   "outputs": [
    {
     "name": "stdout",
     "output_type": "stream",
     "text": [
      "['t', 'h', 'i', 's', ' ', 'i', 's', ' ', 'm', 'y', ' ', 's', 't', 'r', 'i', 'n', 'g']\n",
      "s2 =  this is my string\n"
     ]
    },
    {
     "data": {
      "text/plain": [
       "'0.12'"
      ]
     },
     "execution_count": 15,
     "metadata": {},
     "output_type": "execute_result"
    }
   ],
   "source": [
    "print(slist)\n",
    "s2 = \"\".join(slist)\n",
    "print(\"s2 = \", s2)\n",
    "\n",
    "\"{:.02f}\".format(0.12345)"
   ]
  },
  {
   "cell_type": "code",
   "execution_count": 16,
   "metadata": {},
   "outputs": [
    {
     "name": "stdout",
     "output_type": "stream",
     "text": [
      "[0, 1]\n",
      "[0, 1, 2]\n"
     ]
    }
   ],
   "source": [
    "print(a)\n",
    "a += [2] # \"mutation\" here\n",
    "print(a)"
   ]
  },
  {
   "cell_type": "code",
   "execution_count": 17,
   "metadata": {},
   "outputs": [
    {
     "name": "stdout",
     "output_type": "stream",
     "text": [
      "s3 =  t-- h-- i-- s--  -- i-- s--  -- m-- y--  -- s-- t-- r-- i-- n-- g\n"
     ]
    }
   ],
   "source": [
    "s3 = \"-- \".join(slist)\n",
    "print(\"s3 = \", s3)"
   ]
  },
  {
   "cell_type": "markdown",
   "metadata": {},
   "source": [
    "Usually, when you pass a variable to a function, the function cannot change the value argument outside of the function."
   ]
  },
  {
   "cell_type": "markdown",
   "metadata": {},
   "source": [
    "## Programming recommendations:\n",
    "\n",
    "\n",
    "1. Within a function, never access values of variables declared outside it. Only use the parameters that are explicitly passed in.  That way, no matter how big and complex your function gets, you'll never get confused as to what it depends on for it to run the way you think it will.\n",
    "2. Never mutate parameters passed to a function. That way you'll never get tripped up by a variable unexpectedly changing value without you noticing, because you forgot that you were mutating it inside a function you called.\n",
    "\n",
    "\n",
    "Also:\n",
    "\n",
    "1. Document your function properly, so that the effects of the function are fully described by what is in there, and only use what is described there. That way, you can change the inside of the function (debug, make more efficient, implement however you want), and as long as it still matches the documentation, none of your other code should be affected in any way: you will have successfully *encapuslated* the code inside the function. \"Proper\" documentation means:\n",
    "    1. Describe what the function does\n",
    "    2. List out all the parameters to the function, and what format those should be in (e.g., if a parameters needs to be an integer, then say so; etc.)\n",
    "    3. List out all the outputs of the function, and what format those take.\n",
    "    4. The function is then defined by the (parameter input)->(output results) transformation. As long as that stays constant, you can rewrite the function any way you want and none of your other code will break. (Note that some functions, like those that print something to the screen, or functions that produce some graphics, like the turtle graphics we've been using, have an effect that isn't part of the value the function returns.)\n",
    "    \n",
    "2. A good rule of thumb for coding is to keep your code DRY, i.e. Don't Repeat Yourself. Keep your code as minimal as \n"
   ]
  },
  {
   "cell_type": "markdown",
   "metadata": {},
   "source": [
    "---\n",
    "\n",
    "* In-class exercise: write an `xor()` function\n"
   ]
  },
  {
   "cell_type": "code",
   "execution_count": null,
   "metadata": {
    "collapsed": true
   },
   "outputs": [],
   "source": [
    "#goal is to take in two boolean values, return True only when the inputs differ.\n",
    "\n",
    "def xor(x,y):\n",
    "    if not x and not y:\n",
    "        return False\n",
    "    elif not x and y:\n",
    "        return True\n",
    "    elif x and not y:\n",
    "        return True\n",
    "    elif x and y:\n",
    "        return False\n",
    "    \n",
    "    \n",
    "# WRONG!!!!    \n",
    "def xor2(x, y):\n",
    "    z = x or y\n",
    "    w = x and y\n",
    "    if w:\n",
    "        return False\n",
    "    else:\n",
    "        return True\n",
    "    \n",
    "def xor3(x, y):\n",
    "    if x==y:\n",
    "        return False\n",
    "    else:\n",
    "        return True\n",
    "    \n",
    "    \n",
    "def xor4(x, y):\n",
    "    return not(x==y)\n",
    "    # to help figure out what the above line does, break into easier to\n",
    "    # understand components:\n",
    "    # z = (x==y)\n",
    "    # z2 = not z\n",
    "\n",
    "print(xor4(False, False))\n",
    "print(xor4(False, True))\n",
    "print(xor4(True, False))\n",
    "print(xor4(True, True))"
   ]
  },
  {
   "cell_type": "markdown",
   "metadata": {},
   "source": [
    "---\n",
    "# FOR loops"
   ]
  },
  {
   "cell_type": "code",
   "execution_count": null,
   "metadata": {
    "collapsed": true
   },
   "outputs": [],
   "source": [
    "mylist = [1, True, \"hello\", 3+2j]\n",
    "\n",
    "for x in mylist:\n",
    "    print(x)"
   ]
  },
  {
   "cell_type": "markdown",
   "metadata": {},
   "source": [
    "One useful function often used with FOR loops is \n",
    "\n",
    "    range([start], stop, [stepsize])  # the parameters inside the square brackets are optional; \n",
    "                                      # their default values are start=0, stepsize=1\n",
    "    \n",
    "which returns a \"range\" object that FOR loops can iterate over. For the purpose of FOR loops, you can terat it as if it were a list. Let's cast some ranges into lists to see what they look like.\n",
    "    "
   ]
  },
  {
   "cell_type": "code",
   "execution_count": 18,
   "metadata": {},
   "outputs": [
    {
     "name": "stdout",
     "output_type": "stream",
     "text": [
      "[2, 12, 22, 32, 42]\n",
      "5\n",
      "10\n",
      "15\n",
      "20\n",
      "25\n",
      "5\n",
      "10\n",
      "15\n",
      "20\n",
      "25\n"
     ]
    }
   ],
   "source": [
    "print(list(range(2, 50, 10)))\n",
    "\n",
    "#equivalent code:\n",
    "for x in [5, 10, 15, 20, 25]:\n",
    "    print(x)\n",
    "    \n",
    "for x in range(5, 30, 5):\n",
    "    print(x)\n",
    "    "
   ]
  },
  {
   "cell_type": "code",
   "execution_count": null,
   "metadata": {
    "collapsed": true
   },
   "outputs": [],
   "source": [
    "print(list(range(5)))\n",
    "print(list(range(2,5)))\n",
    "print(list(range(-3)))\n",
    "print(list(range(2, 5, 0.25)))"
   ]
  },
  {
   "cell_type": "code",
   "execution_count": null,
   "metadata": {
    "collapsed": true
   },
   "outputs": [],
   "source": [
    "for x in range(0, 9, 1):\n",
    "    print(x)"
   ]
  },
  {
   "cell_type": "markdown",
   "metadata": {},
   "source": [
    "In-class example: dounting down by 2s, but now using for loops and range()"
   ]
  },
  {
   "cell_type": "code",
   "execution_count": null,
   "metadata": {
    "collapsed": true
   },
   "outputs": [],
   "source": [
    "print(list(range(10, 0, -2)))\n",
    "\n",
    "for x in range(10, 0, -2):\n",
    "    print(\"here is my current item: \", x)"
   ]
  },
  {
   "cell_type": "code",
   "execution_count": null,
   "metadata": {
    "collapsed": true
   },
   "outputs": [],
   "source": [
    "for x in [1, 3, 5, 'doop-de-doo']:\n",
    "    print(x)\n",
    "    print('looping...')"
   ]
  },
  {
   "cell_type": "code",
   "execution_count": null,
   "metadata": {
    "collapsed": true
   },
   "outputs": [],
   "source": [
    "for x in range(2, 5):\n",
    "    print(x)\n",
    "    print('looping...')\n",
    "    \n",
    "print(x)"
   ]
  },
  {
   "cell_type": "markdown",
   "metadata": {},
   "source": [
    "Example: computing the mean of a all even numbers between 2 and 10 (inclusive)"
   ]
  },
  {
   "cell_type": "code",
   "execution_count": 83,
   "metadata": {},
   "outputs": [
    {
     "name": "stdout",
     "output_type": "stream",
     "text": [
      "[2, 4, 6, 8, 10]\n"
     ]
    }
   ],
   "source": [
    "print(list(range(2, 12, 2)))"
   ]
  },
  {
   "cell_type": "code",
   "execution_count": 82,
   "metadata": {},
   "outputs": [
    {
     "name": "stdout",
     "output_type": "stream",
     "text": [
      "total =  30\n",
      "6.0\n"
     ]
    }
   ],
   "source": [
    "total = 0 # caclulate sum of even numbers\n",
    "\n",
    "for x in range(2, 12, 2):\n",
    "    total = total + x\n",
    "print(\"total = \", total)\n",
    "\n",
    "n = (12 - 2)/2 # calculate count of even numbers\n",
    "\n",
    "print(total/n) # calculate the average"
   ]
  },
  {
   "cell_type": "markdown",
   "metadata": {},
   "source": [
    "It's a good idea to  assign all values that you use to a variable to make it easier to edit/resuse your code.\n",
    "\n",
    "**Note: the code below has a bug!** In-class exercise: turn it into a function, and fix it."
   ]
  },
  {
   "cell_type": "code",
   "execution_count": 84,
   "metadata": {},
   "outputs": [
    {
     "name": "stdout",
     "output_type": "stream",
     "text": [
      "[2, 5, 8, 11, 14, 17]\n",
      "10.058823529411764\n"
     ]
    }
   ],
   "source": [
    "start = 2\n",
    "stop = 19\n",
    "step = 3\n",
    "\n",
    "total = 0\n",
    "\n",
    "for x in range(start, stop, step):\n",
    "    total = total + x\n",
    "    \n",
    "n = (stop - start)/step\n",
    "    \n",
    "print(list(range(start, stop, step)))\n",
    "print(1.0*total/n)"
   ]
  },
  {
   "cell_type": "code",
   "execution_count": 87,
   "metadata": {},
   "outputs": [
    {
     "name": "stdout",
     "output_type": "stream",
     "text": [
      "result =  9.5\n",
      "result 2 =  10.0\n"
     ]
    }
   ],
   "source": [
    "def myavg(start, stop, step=1):\n",
    "    total = 0\n",
    "    counter = 0\n",
    "\n",
    "    for x in range(start, stop, step):\n",
    "        total = total + x\n",
    "        counter = counter + 1\n",
    "        \n",
    "    return total/counter\n",
    "\n",
    "print(\"result = \", myavg(2, 19, 3))\n",
    "print(\"result 2 = \", myavg(2, 19, step=2))"
   ]
  },
  {
   "cell_type": "code",
   "execution_count": 89,
   "metadata": {},
   "outputs": [
    {
     "name": "stdout",
     "output_type": "stream",
     "text": [
      "[2, 5, 8, 11, 14, 17]\n",
      "[2, 4, 6, 8, 10, 12, 14, 16, 18]\n"
     ]
    }
   ],
   "source": [
    "print(list(range(2,19,3)))\n",
    "print(list(range(2,19,2)))"
   ]
  },
  {
   "cell_type": "markdown",
   "metadata": {},
   "source": [
    "---\n",
    "\n",
    "# Functions (continued): default parameter values in functions\n",
    "\n",
    "Some parameters will have a reasonable default value. Python let's you set this, so that someone using the function does not need to specify its value, but can override the default if they wish."
   ]
  },
  {
   "cell_type": "code",
   "execution_count": 91,
   "metadata": {
    "collapsed": true
   },
   "outputs": [],
   "source": [
    "def f(x, a=2, verbose=True):\n",
    "    x_sq = x**2\n",
    "    if verbose:\n",
    "        print(\"x_sq:\", x_sq)\n",
    "    return a*x_sq"
   ]
  },
  {
   "cell_type": "code",
   "execution_count": 20,
   "metadata": {},
   "outputs": [
    {
     "name": "stdout",
     "output_type": "stream",
     "text": [
      "x_sq: 9\n",
      "27\n",
      "x_sq: 9\n",
      "27\n",
      "27\n"
     ]
    }
   ],
   "source": [
    "# print(f(3)) # will assume default values of a=2, verbose=False\n",
    "print(f(3, verbose=True, a=3))\n",
    "\n",
    "print(f(3, a=3, verbose=True))\n",
    "\n",
    "print(f(3, a=3, verbose=False))\n"
   ]
  },
  {
   "cell_type": "code",
   "execution_count": 21,
   "metadata": {},
   "outputs": [
    {
     "name": "stdout",
     "output_type": "stream",
     "text": [
      "x_sq: 9\n",
      "36\n",
      "x_sq: 9\n",
      "90\n",
      "x_sq: 9\n",
      "90\n",
      "x_sq: 9\n",
      "90\n"
     ]
    }
   ],
   "source": [
    "print(f(3, a=4))    # will override default value of a, verbose still assumed to be False\n",
    "print(f(3, 10))     # will set the second parameter, a, to 10\n",
    "print(f(3,10,True)) # will set second parameter,a, to 10 and third parameter, verbose, to True\n",
    "print(f(3,verbose=True,a=10)) # can rearrange order of optional parameters if explicitly stated"
   ]
  },
  {
   "cell_type": "markdown",
   "metadata": {},
   "source": [
    "# List comprehensions\n",
    "\n",
    "    [evaluateable-expression    for variable in iterable (e.g., a list)   [optional: if boolean condition]]\n",
    "    \n",
    "For those of you with a `Matlab` background, list comprehensions largely replace the `find()` function"
   ]
  },
  {
   "cell_type": "code",
   "execution_count": 70,
   "metadata": {},
   "outputs": [
    {
     "name": "stdout",
     "output_type": "stream",
     "text": [
      "[0, 4, 16, 36, 64]\n"
     ]
    }
   ],
   "source": [
    "# This cell is an example of what will be done more efficiently\n",
    "# with list comprehensions below\n",
    "\n",
    "# squaring a list of even numbers:\n",
    "\n",
    "# put them all in a list\n",
    "mylist = []\n",
    "for x in range(0, 10):\n",
    "    if x%2==0:   # if x is even\n",
    "        mylist += [x**2]\n",
    "    \n",
    "print(mylist)    "
   ]
  },
  {
   "cell_type": "code",
   "execution_count": 71,
   "metadata": {},
   "outputs": [
    {
     "data": {
      "text/plain": [
       "[0, 4, 16, 36, 64]"
      ]
     },
     "execution_count": 71,
     "metadata": {},
     "output_type": "execute_result"
    }
   ],
   "source": [
    "# produce a list of squares\n",
    "\n",
    "[a**2 for a in range(0,10) if a%2==0]"
   ]
  },
  {
   "cell_type": "code",
   "execution_count": 72,
   "metadata": {},
   "outputs": [
    {
     "data": {
      "text/plain": [
       "[0, 1, 4, 9, 16]"
      ]
     },
     "execution_count": 72,
     "metadata": {},
     "output_type": "execute_result"
    }
   ],
   "source": [
    "# produce a list of square numbers that are even\n",
    "\n",
    "def iseven(y):\n",
    "    if y%2==0:\n",
    "        return True\n",
    "    else:\n",
    "        return False\n",
    "\n",
    "x=2\n",
    "[a**2 for a in range(0,5) if iseven(x)]"
   ]
  },
  {
   "cell_type": "code",
   "execution_count": 73,
   "metadata": {},
   "outputs": [
    {
     "data": {
      "text/plain": [
       "[0, 1, 2000, 3, 4000, 5, 6000, 7, 8000, 9]"
      ]
     },
     "execution_count": 73,
     "metadata": {},
     "output_type": "execute_result"
    }
   ],
   "source": [
    "# if a number in a list is even, then multiply it by 1000, otherwise leave it alone\n",
    "\n",
    "[x*1000 if x%2==0 else x  for x in range (0, 10)]"
   ]
  },
  {
   "cell_type": "code",
   "execution_count": 74,
   "metadata": {},
   "outputs": [
    {
     "name": "stdout",
     "output_type": "stream",
     "text": [
      "[0, 1]\n",
      "[0, 1, 2]\n",
      "[0, 1]\n"
     ]
    }
   ],
   "source": [
    "def f(x):\n",
    "    x = [0, 1, 2] # reassignment of x, does not persist after function ends\n",
    "    return x\n",
    "\n",
    "a = [0, 1]\n",
    "print(a)\n",
    "print(f(a))\n",
    "print(a)"
   ]
  },
  {
   "cell_type": "code",
   "execution_count": 75,
   "metadata": {},
   "outputs": [
    {
     "name": "stdout",
     "output_type": "stream",
     "text": [
      "[0, 2, 4, 1000, 1002, 1004, 2000, 2002, 2004]\n",
      "[0, 2, 4, 1000, 1002, 1004, 2000, 2002, 2004]\n"
     ]
    }
   ],
   "source": [
    "# you can have more than variable running over an iterable\n",
    "\n",
    "print([x*1000+y for x in range(0,3) for y in range(0,5) if (x*1000+y)%2==0])\n",
    "\n",
    "# equivalent code:\n",
    "mylist = []\n",
    "for x in range(0,3):\n",
    "    for y in range(0,5):\n",
    "        if (x*1000+y)%2==0:\n",
    "            mylist += [x*1000+y]\n",
    "            \n",
    "print(mylist)            "
   ]
  },
  {
   "cell_type": "markdown",
   "metadata": {},
   "source": [
    "But be careful if you mutate the variable inside of the function!"
   ]
  },
  {
   "cell_type": "code",
   "execution_count": 76,
   "metadata": {},
   "outputs": [
    {
     "data": {
      "text/plain": [
       "[[0, 0],\n",
       " [0, 1],\n",
       " [0, 2],\n",
       " [0, 3],\n",
       " [1, 0],\n",
       " [1, 1],\n",
       " [1, 2],\n",
       " [1, 3],\n",
       " [2, 0],\n",
       " [2, 1],\n",
       " [2, 2],\n",
       " [2, 3],\n",
       " [3, 0],\n",
       " [3, 1],\n",
       " [3, 2],\n",
       " [3, 3]]"
      ]
     },
     "execution_count": 76,
     "metadata": {},
     "output_type": "execute_result"
    }
   ],
   "source": [
    "# and the expression that determines each item in the final list can be a list itself\n",
    "\n",
    "[[x, y] for x in range(0, 4) for y in range(0, 4)]   # not the same, but comparable to meshgrid() in Matlab"
   ]
  },
  {
   "cell_type": "code",
   "execution_count": 77,
   "metadata": {},
   "outputs": [
    {
     "name": "stdout",
     "output_type": "stream",
     "text": [
      "[[[0, 0], [1, 0], [2, 0]], [[0, 1], [1, 1], [2, 1]], [[0, 2], [1, 2], [2, 2]]]\n"
     ]
    }
   ],
   "source": [
    "# Let's make a square array -- a list on N items in which each item is itself an N-long list (of numbers)\n",
    "\n",
    "N=3\n",
    "\n",
    "print([[[x,y] for x in range(0, N)] for y in range(0, N)])\n",
    "\n",
    "\n",
    "# exercise: write the equivalent code:\n"
   ]
  },
  {
   "cell_type": "code",
   "execution_count": 78,
   "metadata": {},
   "outputs": [
    {
     "data": {
      "text/plain": [
       "[[0, 0, 0], [0, 0, 0], [0, 0, 0]]"
      ]
     },
     "execution_count": 78,
     "metadata": {},
     "output_type": "execute_result"
    }
   ],
   "source": [
    "[[0 for x in range(0, N)] for y in range(0, N)]"
   ]
  },
  {
   "cell_type": "code",
   "execution_count": null,
   "metadata": {
    "collapsed": true
   },
   "outputs": [],
   "source": [
    "%matplotlib ---\n",
    "# this is the magic line that says \"put your plots inside the notebook\n",
    "# only need to run it once after starting session or restarting kernel\n",
    "# so you can have it in its own cell"
   ]
  },
  {
   "cell_type": "code",
   "execution_count": 79,
   "metadata": {},
   "outputs": [
    {
     "data": {
      "image/png": "[encoded data removed]",
      "text/plain": [
       "<matplotlib.figure.Figure at 0x1129cc8d0>"
      ]
     },
     "metadata": {},
     "output_type": "display_data"
    }
   ],
   "source": [
    "import matplotlib.pyplot as plt\n",
    "\n",
    "M = [[0 for x in range(0, N)] for y in range(0, N)]\n",
    "h = plt.imshow(M, interpolation=\"none\")"
   ]
  },
  {
   "cell_type": "code",
   "execution_count": 80,
   "metadata": {},
   "outputs": [
    {
     "data": {
      "text/plain": [
       "[<matplotlib.axis.YTick at 0x1121f9940>,\n",
       " <matplotlib.axis.YTick at 0x1121f3278>,\n",
       " <matplotlib.axis.YTick at 0x1121fba58>]"
      ]
     },
     "execution_count": 80,
     "metadata": {},
     "output_type": "execute_result"
    },
    {
     "data": {
      "image/png": "[encoded data removed]",
      "text/plain": [
       "<matplotlib.figure.Figure at 0x113b2f2e8>"
      ]
     },
     "metadata": {},
     "output_type": "display_data"
    }
   ],
   "source": [
    "h = plt.imshow([[0 for x in range(0, N)] for y in range(0, N)], interpolation=\"none\")\n",
    "\n",
    "plt.axis([0, N-1, 0, N-1])\n",
    "ax = h.axes\n",
    "ax.set_xticks(range(0, N))\n",
    "ax.set_yticks(range(0, N))"
   ]
  },
  {
   "cell_type": "code",
   "execution_count": 81,
   "metadata": {},
   "outputs": [
    {
     "data": {
      "image/png": "[encoded data removed]",
      "text/plain": [
       "<matplotlib.figure.Figure at 0x1130e8278>"
      ]
     },
     "metadata": {},
     "output_type": "display_data"
    }
   ],
   "source": [
    "# now let's try to draw a ring:\n",
    "\n",
    "import numpy as np\n",
    "import matplotlib.pyplot as plt\n",
    "\n",
    "# z = [[0 for x in range(0, 100)] for y in range(0,100)]\n",
    "\n",
    "def myring(x,y):\n",
    "    r = np.sqrt((x-50)**2+(y-50)**2)   # this is the distance w.r.t (50, 50)\n",
    "    if  r<20 and r>15:\n",
    "        return 1\n",
    "    else:\n",
    "        return 0\n",
    "\n",
    "z = [ [myring(x,y) for x in range(0, 100)] for y in range(0, 100)]    \n",
    "    \n",
    "# equivalent code in list comprehension    \n",
    "# z = [ [1 if np.sqrt((x-50)**2+(y-50)**2) <20 and np.sqrt((x-50)**2+(y-50)**2)>15 \n",
    "#         else 0 for x in range(0, 100)] for y in range(0, 100)]\n",
    "\n",
    "h = plt.imshow(z, interpolation=\"none\")\n"
   ]
  },
  {
   "cell_type": "markdown",
   "metadata": {},
   "source": [
    "---\n",
    "# Modules\n"
   ]
  },
  {
   "cell_type": "markdown",
   "metadata": {},
   "source": [
    "Modules let you collect all of your functions in a centralized location, so that you can apply the \"rule of two\" across multiple files.\n",
    "\n",
    "*Make sure the module you're trying to import (i.e. `myModule.py`) is in the same folder as your notebook!*\n",
    "\n",
    "You can import specific functions or variables into your namespace:"
   ]
  },
  {
   "cell_type": "code",
   "execution_count": 25,
   "metadata": {},
   "outputs": [
    {
     "name": "stdout",
     "output_type": "stream",
     "text": [
      "18\n",
      "3.141569\n"
     ]
    }
   ],
   "source": [
    "from myModule import f, pi\n",
    "\n",
    "print(f(3))\n",
    "print(pi)\n"
   ]
  },
  {
   "cell_type": "markdown",
   "metadata": {},
   "source": [
    "You can also choose to import *everything* in a module:"
   ]
  },
  {
   "cell_type": "code",
   "execution_count": null,
   "metadata": {
    "collapsed": true
   },
   "outputs": [],
   "source": [
    "# %load_ext autoreload\n",
    "%autoreload\n",
    "\n",
    "from myModule import *"
   ]
  },
  {
   "cell_type": "markdown",
   "metadata": {},
   "source": [
    "Or you can import the whole module and the functions and variables are available as sub-parts"
   ]
  },
  {
   "cell_type": "code",
   "execution_count": null,
   "metadata": {
    "collapsed": true
   },
   "outputs": [],
   "source": [
    "def f():\n",
    "    print(\"Still here!\\n\")\n",
    "    \n",
    "    \n",
    "import myModule\n",
    "\n",
    "print(myModule.f(3))\n",
    "print(myModule.pi)\n",
    "\n",
    "f()"
   ]
  },
  {
   "cell_type": "code",
   "execution_count": 28,
   "metadata": {},
   "outputs": [
    {
     "name": "stdout",
     "output_type": "stream",
     "text": [
      "18\n",
      "3.141569\n"
     ]
    },
    {
     "data": {
      "text/plain": [
       "3.141569"
      ]
     },
     "execution_count": 28,
     "metadata": {},
     "output_type": "execute_result"
    }
   ],
   "source": [
    "import myModule as mod\n",
    "\n",
    "print(mod.f(3))\n",
    "print(mod.pi)\n",
    "mod.pi\n",
    "\n"
   ]
  },
  {
   "cell_type": "code",
   "execution_count": null,
   "metadata": {
    "collapsed": true
   },
   "outputs": [],
   "source": [
    "import numpy as np   # import the numerical package\n",
    "import matplotlib.pyplot as plt   # this a particular plotting module from the matplotlib package\n",
    "\n",
    "# help(np)\n",
    "\n",
    "z = np.array([1, 2, 40, 50, 61])\n",
    "\n",
    "[0 if x%2==0 else x for x in z]\n"
   ]
  },
  {
   "cell_type": "markdown",
   "metadata": {},
   "source": [
    "## documentation"
   ]
  },
  {
   "cell_type": "markdown",
   "metadata": {},
   "source": [
    "You can use\n",
    "\n",
    "    help()\n",
    "    \n",
    "or \n",
    "    ?\n",
    "    \n",
    "or, in Jupyter, *Shift* + *Tab* to get information about the module and its functions through the \"doc string\"s that you wrote. (Of course you wrote them! Long, clear, and detailed, right?)"
   ]
  },
  {
   "cell_type": "code",
   "execution_count": 31,
   "metadata": {},
   "outputs": [
    {
     "name": "stdout",
     "output_type": "stream",
     "text": [
      "Help on function f in module myModule:\n",
      "\n",
      "f(x, a=2, verbose=False)\n",
      "    Hmm! An amazing function that will fulfill all of your example function needs\n",
      "    \n",
      "    Computes a*x^2\n",
      "    \n",
      "    Parameters\n",
      "    ----------\n",
      "    x: numeric\n",
      "        Primary input which will be squared\n",
      "    a: numeric, optional, default=2\n",
      "        Multiplicative factor\n",
      "    verbose: bool, optional, default=False\n",
      "        If True, prints additional information about the computation\n",
      "        \n",
      "    RETURNS:\n",
      "    --------\n",
      "    \n",
      "    a*x^2\n",
      "\n",
      "Help on module myModule:\n",
      "\n",
      "NAME\n",
      "    myModule\n",
      "\n",
      "DESCRIPTION\n",
      "    This initial text is overall documentation\n",
      "    for the module as a whole\n",
      "\n",
      "FUNCTIONS\n",
      "    f(x, a=2, verbose=False)\n",
      "        Hmm! An amazing function that will fulfill all of your example function needs\n",
      "        \n",
      "        Computes a*x^2\n",
      "        \n",
      "        Parameters\n",
      "        ----------\n",
      "        x: numeric\n",
      "            Primary input which will be squared\n",
      "        a: numeric, optional, default=2\n",
      "            Multiplicative factor\n",
      "        verbose: bool, optional, default=False\n",
      "            If True, prints additional information about the computation\n",
      "            \n",
      "        RETURNS:\n",
      "        --------\n",
      "        \n",
      "        a*x^2\n",
      "\n",
      "DATA\n",
      "    james = 'tall'\n",
      "    pi = 3.141569\n",
      "\n",
      "FILE\n",
      "    /Users/stephen/Google Drive/NEU314_2017/Lecture_2_BioMath2016/myModule.py\n",
      "\n",
      "\n"
     ]
    }
   ],
   "source": [
    "?mod.f    # like pressing Shift + Tab*3\n",
    "help(mod.f)\n",
    "help(mod)"
   ]
  },
  {
   "cell_type": "markdown",
   "metadata": {},
   "source": [
    "In the Jupyter notebook, when the cursor is inside the function parentheses, press `Tab` to get a reminder of parameter names."
   ]
  },
  {
   "cell_type": "code",
   "execution_count": null,
   "metadata": {
    "collapsed": true
   },
   "outputs": [],
   "source": [
    "mod.f(10, a=4)"
   ]
  },
  {
   "cell_type": "markdown",
   "metadata": {},
   "source": [
    "## updating"
   ]
  },
  {
   "cell_type": "markdown",
   "metadata": {},
   "source": [
    "After making changes to a module, you either need to restart the notebook or `reload` the module\n",
    "\n",
    "The `%[command]` syntax is for *magic* commands, a feature of IPython. `%autoreload` is just one of many useful magic commands -- you can find a list and documentation on all IPython magic commands [here](http://ipython.readthedocs.io/en/stable/interactive/magics.html)"
   ]
  },
  {
   "cell_type": "code",
   "execution_count": 40,
   "metadata": {},
   "outputs": [
    {
     "name": "stdout",
     "output_type": "stream",
     "text": [
      "The autoreload extension is already loaded. To reload it, use:\n",
      "  %reload_ext autoreload\n"
     ]
    },
    {
     "data": {
      "text/plain": [
       "'tall'"
      ]
     },
     "execution_count": 40,
     "metadata": {},
     "output_type": "execute_result"
    }
   ],
   "source": [
    "# We only need to do this one; the %autoreload magic command will then be available\n",
    "%load_ext autoreload  \n",
    "%autoreload \n",
    "\n",
    "import myModule as mod_2\n",
    "\n",
    "mod_2.james\n"
   ]
  },
  {
   "cell_type": "markdown",
   "metadata": {},
   "source": [
    "---\n",
    "# Packages\n",
    "big projects, sharing code"
   ]
  },
  {
   "cell_type": "markdown",
   "metadata": {},
   "source": [
    "## packages"
   ]
  },
  {
   "cell_type": "markdown",
   "metadata": {},
   "source": [
    "* collections of modules\n",
    "* cross-language integration\n",
    "* distribution"
   ]
  },
  {
   "cell_type": "markdown",
   "metadata": {},
   "source": [
    "## distribution"
   ]
  },
  {
   "cell_type": "markdown",
   "metadata": {},
   "source": [
    "From simplest to most complicated:\n",
    "1. Anaconda: `conda install [package]`\n",
    "2. PIP / PyPI: `pip install [package]`\n",
    "3. GitHub / Git: `git clone [package]`"
   ]
  },
  {
   "cell_type": "markdown",
   "metadata": {},
   "source": [
    "---\n",
    "# Plotting"
   ]
  },
  {
   "cell_type": "markdown",
   "metadata": {},
   "source": [
    "## matplotlib"
   ]
  },
  {
   "cell_type": "markdown",
   "metadata": {},
   "source": [
    "Plotting in Python is done through the `pyplot` module in the `matplotlib` package. More on models and packages later. For know, just know that, to use this functionality, you'll need to run the following commands in any notebook that uses this for plotting. "
   ]
  },
  {
   "cell_type": "code",
   "execution_count": 41,
   "metadata": {
    "collapsed": true
   },
   "outputs": [],
   "source": [
    "# this line is ALWAYS needed for plotting\n",
    "from matplotlib import pyplot as plt\n"
   ]
  },
  {
   "cell_type": "code",
   "execution_count": 42,
   "metadata": {},
   "outputs": [
    {
     "data": {
      "text/plain": [
       "[<matplotlib.lines.Line2D at 0x10e2094e0>]"
      ]
     },
     "execution_count": 42,
     "metadata": {},
     "output_type": "execute_result"
    },
    {
     "data": {
      "image/png": "[encoded data removed]",
      "text/plain": [
       "<matplotlib.figure.Figure at 0x10ae28550>"
      ]
     },
     "metadata": {},
     "output_type": "display_data"
    }
   ],
   "source": [
    "# The following line makes plots show up within the notebook\n",
    "%matplotlib inline\n",
    "\n",
    "# Now lets import the plotting module from the package matplotlib\n",
    "from matplotlib import pyplot as plt\n",
    "\n",
    "# And lets import the numerical package\n",
    "import numpy as np\n",
    "\n",
    "ncycles = 4\n",
    "# produce a vector whose elements start at 0, go to 2*np.pi*ncycles in steps of pi/10\n",
    "t = np.arange(0, 2*np.pi*ncycles, np.pi/10)\n",
    "# print(t)\n",
    "\n",
    "plt.plot(t, np.sin(t), 'gv-')\n",
    "# plt.plot  takes a vector of x positions and a same-length vector of y positions,\n",
    "# and plots dots in order: x[0],y[0]  then x[1],y[1]   then x[2],y[2]"
   ]
  },
  {
   "cell_type": "code",
   "execution_count": 43,
   "metadata": {},
   "outputs": [
    {
     "name": "stdout",
     "output_type": "stream",
     "text": [
      "[ 0.          0.29552021  0.56464247]\n"
     ]
    }
   ],
   "source": [
    "t = np.array([0, 0.3, 0.6])\n",
    "print(np.sin(t))"
   ]
  },
  {
   "cell_type": "code",
   "execution_count": 44,
   "metadata": {},
   "outputs": [
    {
     "name": "stdout",
     "output_type": "stream",
     "text": [
      "Using matplotlib backend: MacOSX\n"
     ]
    },
    {
     "data": {
      "text/plain": [
       "[<matplotlib.lines.Line2D at 0x10e27fdd8>]"
      ]
     },
     "execution_count": 44,
     "metadata": {},
     "output_type": "execute_result"
    },
    {
     "data": {
      "image/png": "[encoded data removed]",
      "text/plain": [
       "<matplotlib.figure.Figure at 0x10e1d8240>"
      ]
     },
     "metadata": {},
     "output_type": "display_data"
    }
   ],
   "source": [
    "# The following alternative line uses the dafault \"plotting back end\" on your computer\n",
    "# You might need to restart the kernel and clear outputs if you want to switch to this external plotting form\n",
    "%matplotlib\n",
    "\n",
    "# Now lets import the plotting module from the package matplotlib\n",
    "from matplotlib import pyplot as plt\n",
    "\n",
    "# And lets import the numerical package\n",
    "import numpy as np\n",
    "\n",
    "ncycles = 4\n",
    "t = np.arange(0, 2*np.pi*ncycles, np.pi/10)\n",
    "plt.plot(t, np.sin(t), 'ro-')\n"
   ]
  },
  {
   "cell_type": "markdown",
   "metadata": {},
   "source": [
    "## Plotting single points"
   ]
  },
  {
   "cell_type": "markdown",
   "metadata": {},
   "source": [
    "First let's plot a single point\n",
    "\n",
    "`plt.plot(x, y, format_str)`\n",
    "- `x`: x coordinate\n",
    "- `y`: y coordinate\n",
    "- `format_str`: formatting string"
   ]
  },
  {
   "cell_type": "code",
   "execution_count": 45,
   "metadata": {},
   "outputs": [
    {
     "data": {
      "text/plain": [
       "[<matplotlib.lines.Line2D at 0x110ea10b8>]"
      ]
     },
     "execution_count": 45,
     "metadata": {},
     "output_type": "execute_result"
    },
    {
     "data": {
      "image/png": "[encoded data removed]",
      "text/plain": [
       "<matplotlib.figure.Figure at 0x10ae49518>"
      ]
     },
     "metadata": {},
     "output_type": "display_data"
    }
   ],
   "source": [
    "plt.plot(2, 3, 'o')"
   ]
  },
  {
   "cell_type": "markdown",
   "metadata": {},
   "source": [
    "We can change the shape of the marker with the format string\n",
    "*Note:* The semicolon at the end of the plotting command surpresses the output of the name of the plotting object (e.g. *[< matplotlib.lines.Line2D at 0x10fe4da58>]*, as seen above), but not the plot itself"
   ]
  },
  {
   "cell_type": "code",
   "execution_count": 46,
   "metadata": {},
   "outputs": [
    {
     "data": {
      "image/png": "[encoded data removed]",
      "text/plain": [
       "<matplotlib.figure.Figure at 0x110fd5a58>"
      ]
     },
     "metadata": {},
     "output_type": "display_data"
    }
   ],
   "source": [
    "plt.plot(2, 3, '^');"
   ]
  },
  {
   "cell_type": "markdown",
   "metadata": {},
   "source": [
    "We can also specify a color in the format string"
   ]
  },
  {
   "cell_type": "code",
   "execution_count": 47,
   "metadata": {},
   "outputs": [
    {
     "data": {
      "image/png": "[encoded data removed]",
      "text/plain": [
       "<matplotlib.figure.Figure at 0x112743d68>"
      ]
     },
     "metadata": {},
     "output_type": "display_data"
    }
   ],
   "source": [
    "plt.plot(2, 3, 'or');"
   ]
  },
  {
   "cell_type": "markdown",
   "metadata": {},
   "source": [
    "We can plot multiple points by plotting multiple times"
   ]
  },
  {
   "cell_type": "code",
   "execution_count": 48,
   "metadata": {},
   "outputs": [
    {
     "data": {
      "image/png": "[encoded data removed]",
      "text/plain": [
       "<matplotlib.figure.Figure at 0x1126ed240>"
      ]
     },
     "metadata": {},
     "output_type": "display_data"
    }
   ],
   "source": [
    "plt.plot(1, 2, 'ro');\n",
    "plt.plot(2, 3, 'ro');\n",
    "plt.plot(3, 4, 'ro');"
   ]
  },
  {
   "cell_type": "markdown",
   "metadata": {},
   "source": [
    "As you can see, PyPlot doesn't always pick the best defualt values for the ranges of the x- and y-axes. We can set them by hand."
   ]
  },
  {
   "cell_type": "code",
   "execution_count": 49,
   "metadata": {},
   "outputs": [
    {
     "data": {
      "image/png": "[encoded data removed]",
      "text/plain": [
       "<matplotlib.figure.Figure at 0x11290e668>"
      ]
     },
     "metadata": {},
     "output_type": "display_data"
    }
   ],
   "source": [
    "plt.plot(1, 2, 'ro');\n",
    "plt.plot(2, 3, 'ro');\n",
    "plt.plot(3, 4, 'ro');\n",
    "\n",
    "plt.xlim([0, 5]);\n",
    "plt.ylim([0, 5]);"
   ]
  },
  {
   "cell_type": "markdown",
   "metadata": {},
   "source": [
    "## Plotting lines"
   ]
  },
  {
   "cell_type": "markdown",
   "metadata": {},
   "source": [
    "To plot a line, make `x` and `y` into a `list` of coordinate values"
   ]
  },
  {
   "cell_type": "code",
   "execution_count": 50,
   "metadata": {},
   "outputs": [
    {
     "data": {
      "text/plain": [
       "[<matplotlib.lines.Line2D at 0x112c55be0>]"
      ]
     },
     "execution_count": 50,
     "metadata": {},
     "output_type": "execute_result"
    },
    {
     "data": {
      "image/png": "[encoded data removed]",
      "text/plain": [
       "<matplotlib.figure.Figure at 0x11291cf60>"
      ]
     },
     "metadata": {},
     "output_type": "display_data"
    }
   ],
   "source": [
    "plt.plot([0, 1, 2], [0, 1, 4], 'r')"
   ]
  },
  {
   "cell_type": "markdown",
   "metadata": {},
   "source": [
    "If we include marker shape in the format string, we can make our previous plot this way"
   ]
  },
  {
   "cell_type": "code",
   "execution_count": 52,
   "metadata": {},
   "outputs": [
    {
     "data": {
      "text/plain": [
       "(0, 5)"
      ]
     },
     "execution_count": 52,
     "metadata": {},
     "output_type": "execute_result"
    },
    {
     "data": {
      "image/png": "[encoded data removed]",
      "text/plain": [
       "<matplotlib.figure.Figure at 0x112db7668>"
      ]
     },
     "metadata": {},
     "output_type": "display_data"
    }
   ],
   "source": [
    "plt.plot([1, 2, 3], [2, 3, 4], 'ro')\n",
    "plt.xlim([0, 5])\n",
    "plt.ylim([0, 5])"
   ]
  },
  {
   "cell_type": "markdown",
   "metadata": {},
   "source": [
    "We can also do both points and lines"
   ]
  },
  {
   "cell_type": "code",
   "execution_count": 53,
   "metadata": {},
   "outputs": [
    {
     "data": {
      "text/plain": [
       "(0, 5)"
      ]
     },
     "execution_count": 53,
     "metadata": {},
     "output_type": "execute_result"
    },
    {
     "data": {
      "image/png": "[encoded data removed]",
      "text/plain": [
       "<matplotlib.figure.Figure at 0x112d535f8>"
      ]
     },
     "metadata": {},
     "output_type": "display_data"
    }
   ],
   "source": [
    "plt.plot([1, 2, 3], [2, 3, 4], 'ro-')\n",
    "plt.xlim([0, 5])\n",
    "plt.ylim([0, 5])"
   ]
  },
  {
   "cell_type": "markdown",
   "metadata": {},
   "source": [
    "### plotting separate vertical lines"
   ]
  },
  {
   "cell_type": "code",
   "execution_count": 54,
   "metadata": {},
   "outputs": [
    {
     "name": "stdout",
     "output_type": "stream",
     "text": [
      "The length of h is  2\n"
     ]
    },
    {
     "data": {
      "image/png": "[encoded data removed]",
      "text/plain": [
       "<matplotlib.figure.Figure at 0x112f81780>"
      ]
     },
     "metadata": {},
     "output_type": "display_data"
    }
   ],
   "source": [
    "h = plt.plot([[1,2], [1,2]], [[2,2], [3,3]], 'r-')\n",
    "# plot returns not axes (like imshow did) but a list of lines \n",
    "\n",
    "ax = h[0].axes\n",
    "ax.set_xticks(range(0, 4))\n",
    "ax.set_yticks(range(0, 5))\n",
    "\n",
    "print(\"The length of h is \", len(h))"
   ]
  },
  {
   "cell_type": "markdown",
   "metadata": {},
   "source": [
    "## Additional formatting"
   ]
  },
  {
   "cell_type": "markdown",
   "metadata": {},
   "source": [
    "It's always important to label your axes!"
   ]
  },
  {
   "cell_type": "code",
   "execution_count": 55,
   "metadata": {},
   "outputs": [
    {
     "data": {
      "image/png": "[encoded data removed]",
      "text/plain": [
       "<matplotlib.figure.Figure at 0x112d4a908>"
      ]
     },
     "metadata": {},
     "output_type": "display_data"
    }
   ],
   "source": [
    "plt.plot([1, 2, 3], [2, 3, 4], 'ro-');\n",
    "plt.xlim([0, 5]);\n",
    "plt.ylim([0, 5]);\n",
    "\n",
    "plt.xlabel('input');\n",
    "plt.ylabel('output');"
   ]
  },
  {
   "cell_type": "markdown",
   "metadata": {},
   "source": [
    "Nearly every aspect of these plots is editable -- titles, fonts, colors, tick marks, etc, etc. Google is your best friend for figuring out how to change these features."
   ]
  },
  {
   "cell_type": "markdown",
   "metadata": {},
   "source": [
    "## Multiple Plots"
   ]
  },
  {
   "cell_type": "markdown",
   "metadata": {},
   "source": [
    "Let's make two different sets of data to play with."
   ]
  },
  {
   "cell_type": "code",
   "execution_count": 56,
   "metadata": {},
   "outputs": [
    {
     "name": "stdout",
     "output_type": "stream",
     "text": [
      "x: [0, 1, 2, 3, 4, 5]\n",
      "y1: [0, 4, 8, 12, 16, 20]\n",
      "y2: [0, 1, 4, 9, 16, 25]\n"
     ]
    }
   ],
   "source": [
    "x = range(6)\n",
    "\n",
    "# y = 4*x\n",
    "y1 = []\n",
    "for val in x:\n",
    "    y1 += [4*val]\n",
    "    \n",
    "# y = x**2\n",
    "y2 = []\n",
    "for val in x:\n",
    "    y2 += [val**2]\n",
    "    \n",
    "print(\"x:\", list(x))\n",
    "print(\"y1:\", y1)\n",
    "print(\"y2:\", y2)"
   ]
  },
  {
   "cell_type": "markdown",
   "metadata": {},
   "source": [
    "One way of comparing these two trends is to plot them on top of each other"
   ]
  },
  {
   "cell_type": "code",
   "execution_count": 57,
   "metadata": {},
   "outputs": [
    {
     "data": {
      "text/plain": [
       "<matplotlib.text.Text at 0x112939a58>"
      ]
     },
     "execution_count": 57,
     "metadata": {},
     "output_type": "execute_result"
    },
    {
     "data": {
      "image/png": "[encoded data removed]",
      "text/plain": [
       "<matplotlib.figure.Figure at 0x112a32630>"
      ]
     },
     "metadata": {},
     "output_type": "display_data"
    }
   ],
   "source": [
    "plt.plot(x, y1, 'r');\n",
    "plt.plot(x, y2, 'b');\n",
    "plt.xlabel('x axis')\n",
    "plt.ylabel('y label is here')"
   ]
  },
  {
   "cell_type": "markdown",
   "metadata": {},
   "source": [
    "Another approach is to use two subplots"
   ]
  },
  {
   "cell_type": "code",
   "execution_count": 58,
   "metadata": {},
   "outputs": [
    {
     "data": {
      "image/png": "[encoded data removed]",
      "text/plain": [
       "<matplotlib.figure.Figure at 0x110fdf1d0>"
      ]
     },
     "metadata": {},
     "output_type": "display_data"
    }
   ],
   "source": [
    "plt.subplot(1, 2, 1) # 1 row, 2 columns, 1st subplot\n",
    "plt.plot(x, y1, 'r');\n",
    "plt.plot(x, y2, 'b');\n",
    "plt.ylim([0, 25]);\n",
    "\n",
    "plt.subplot(1, 2, 2) # 1 row, 2 columns, 2nd subplot\n",
    "plt.plot(x, y2, 'b');\n",
    "plt.ylim([0, 25]);"
   ]
  },
  {
   "cell_type": "markdown",
   "metadata": {},
   "source": [
    "## Advanced Examples -- aka Eye Candy"
   ]
  },
  {
   "cell_type": "markdown",
   "metadata": {},
   "source": [
    "Don't pay too much attention to the actual implementation quite yet, this is just to show you some examples of different types of plots!\n",
    "\n",
    "Histograms"
   ]
  },
  {
   "cell_type": "code",
   "execution_count": 66,
   "metadata": {
    "collapsed": true
   },
   "outputs": [],
   "source": [
    "from pylab import *"
   ]
  },
  {
   "cell_type": "code",
   "execution_count": 59,
   "metadata": {},
   "outputs": [
    {
     "data": {
      "image/png": "[encoded data removed]",
      "text/plain": [
       "<matplotlib.figure.Figure at 0x110fcc0b8>"
      ]
     },
     "metadata": {},
     "output_type": "display_data"
    }
   ],
   "source": [
    "import numpy as np\n",
    "import numpy.random\n",
    "x = numpy.random.normal(size=10000)\n",
    "plt.hist(x, bins=np.linspace(-4,4,31));\n",
    "plt.xlabel('x');\n",
    "plt.ylabel('Counts');"
   ]
  },
  {
   "cell_type": "markdown",
   "metadata": {},
   "source": [
    "contour plots"
   ]
  },
  {
   "cell_type": "code",
   "execution_count": 67,
   "metadata": {},
   "outputs": [
    {
     "data": {
      "text/plain": [
       "(-1, 1)"
      ]
     },
     "execution_count": 67,
     "metadata": {},
     "output_type": "execute_result"
    },
    {
     "data": {
      "image/png": "[encoded data removed]",
      "text/plain": [
       "<matplotlib.figure.Figure at 0x112795240>"
      ]
     },
     "metadata": {},
     "output_type": "display_data"
    }
   ],
   "source": [
    "dx = 0.02\n",
    "dy = 0.02\n",
    "x = np.arange(-1,1+dx,dx)\n",
    "y = np.arange(-1,1+dy,dy)\n",
    "X, Y = np.meshgrid(x,y)\n",
    "\n",
    "Z = np.exp((-X**2-Y**2-X*Y)/0.5)\n",
    "Z = Z[:-1,:-1]\n",
    "pcolor(X,Y,Z)\n",
    "xlim(-1,1)\n",
    "ylim(-1,1)"
   ]
  },
  {
   "cell_type": "markdown",
   "metadata": {},
   "source": [
    "A heart in 3D"
   ]
  },
  {
   "cell_type": "code",
   "execution_count": 68,
   "metadata": {},
   "outputs": [
    {
     "data": {
      "image/png": "[encoded data removed]",
      "text/plain": [
       "<matplotlib.figure.Figure at 0x1130e8da0>"
      ]
     },
     "metadata": {},
     "output_type": "display_data"
    }
   ],
   "source": [
    "from mpl_toolkits.mplot3d import Axes3D\n",
    "\n",
    "def heart_3d(x,y,z):\n",
    "    return (x**2+(9/4)*y**2+z**2-1)**3-x**2*z**3-(9/80)*y**2*z**3\n",
    "def plot_implicit(fn, bbox=(-1.5,1.5)):\n",
    "    ''' create a plot of an implicit function\n",
    "    fn  ...implicit function (plot where fn==0)\n",
    "    bbox ..the x,y,and z limits of plotted interval'''\n",
    "    xmin, xmax, ymin, ymax, zmin, zmax = bbox*3\n",
    "    fig = figure()\n",
    "    ax = fig.add_subplot(111, projection='3d')\n",
    "    A = linspace(xmin, xmax, 100) # resolution of the contour\n",
    "    B = linspace(xmin, xmax, 100) # number of slices\n",
    "    A1,A2 = meshgrid(A,A) # grid on which the contour is plotted\n",
    "    for z in B: # plot contours in the XY plane\n",
    "        X,Y = A1,A2\n",
    "        Z = fn(X,Y,z)\n",
    "        cset = ax.contour(X, Y, Z+z, [z], zdir='z',colors=('r',))\n",
    "        # [z] defines the only level to plot for this contour for this value of z\n",
    "    for y in B: # plot contours in the XZ plane\n",
    "        X,Z = A1,A2\n",
    "        Y = fn(X,y,Z)\n",
    "        cset = ax.contour(X, Y+y, Z, [y], zdir='y',colors=('red',))\n",
    "    for x in B: # plot contours in the YZ plane\n",
    "        Y,Z = A1,A2\n",
    "        X = fn(x,Y,Z)\n",
    "        cset = ax.contour(X+x, Y, Z, [x], zdir='x',colors=('red',))\n",
    "    # must set plot limits because the contour will likely extend\n",
    "    # way beyond the displayed level.  Otherwise matplotlib extends the plot limits\n",
    "    # to encompass all values in the contour.\n",
    "    ax.set_zlim3d(zmin,zmax)\n",
    "    ax.set_xlim3d(xmin,xmax)\n",
    "    ax.set_ylim3d(ymin,ymax)\n",
    "    show()\n",
    "\n",
    "plot_implicit(heart_3d)\n",
    "# credit: http://bytesizebio.net/2013/02/16/a-belated-valentines-day-post/"
   ]
  }
 ],
 "metadata": {
  "anaconda-cloud": {},
  "kernelspec": {
   "display_name": "Python [default]",
   "language": "python",
   "name": "python3"
  },
  "language_info": {
   "codemirror_mode": {
    "name": "ipython",
    "version": 3
   },
   "file_extension": ".py",
   "mimetype": "text/x-python",
   "name": "python",
   "nbconvert_exporter": "python",
   "pygments_lexer": "ipython3",
   "version": "3.5.2"
  }
 },
 "nbformat": 4,
 "nbformat_minor": 1
}
