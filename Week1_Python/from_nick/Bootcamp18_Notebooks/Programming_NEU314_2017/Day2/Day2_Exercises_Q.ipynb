{
 "cells": [
  {
   "cell_type": "markdown",
   "metadata": {},
   "source": [
    "### PNI Biomath 2017\n",
    "# Class 2 Exercises\n",
    "---\n",
    "### Using Jupyter Notebooks:\n",
    "To run a cell and advance to the next cell, press `Shift + Return`\n",
    "\n",
    "To run a cell without advancing to the next cell, press `Control + Return` \n",
    "\n",
    "You can find a variety of shortcuts at **Keyboard Shortcuts** in the Help menu above\n",
    "\n",
    "**If you're confused:** Google and Python are the best of friends! Throw a few words describing your problem into Google and click on the first Stack Overflow link — this will solve 95% of your problems!\n",
    "\n",
    "If you would simply like to know more about a particular function, press `Shift + Tab` while inside the function to bring up a snippet of documentation; press `Tab` again (while still holding `Shift`) to bring up an even larger box of documentation; a third press of `Tab` will turn the bottom half of your screen into a window with the full documentation for your function (including definitions of the function's inputs, outputs, parameters and their default settings, and often some example code!)\n",
    "\n",
    "---"
   ]
  },
  {
   "cell_type": "markdown",
   "metadata": {},
   "source": [
    "Before we start let's run some magic commands to automatically save our progress once a second (with `%autosave 1`).\n",
    "\n",
    "Also, we will be plotting our results in this exercise session. We will be using a package called 'matplotlib' to do so and we will force all graphics from the `matplotlib` package to be displayed inline (with `%matplotlib inline`)"
   ]
  },
  {
   "cell_type": "code",
   "execution_count": null,
   "metadata": {
    "collapsed": true
   },
   "outputs": [],
   "source": [
    "%autosave 1\n",
    "%matplotlib inline"
   ]
  },
  {
   "cell_type": "markdown",
   "metadata": {},
   "source": [
    "**1)** Use the Python function given to you below, `myrand`, to write your own n-sided `dice` function. That is, write a\n",
    "function that outputs an integer from 1 to *n* with equal probability. Allow the user to specify the value *n*.\n",
    "\n",
    "-here, we are using an imported function from a helper file called \"Day2_Helper\". If you are curious about the details, ask your TA.  Once imported, you can use the function 'myrand' like you would any other function."
   ]
  },
  {
   "cell_type": "code",
   "execution_count": null,
   "metadata": {
    "collapsed": true
   },
   "outputs": [],
   "source": [
    "### Using the function myrand(), define your own dice(n) function below\n",
    "from Day2_Helper import myrand\n"
   ]
  },
  {
   "cell_type": "markdown",
   "metadata": {},
   "source": [
    "**2)** Expand on your dice function to add a second input parameter *K* that allows the user to\n",
    "specify the number of rolls of the dice to be returned. The rolls should be returned as\n",
    "a vector. For example, if you ask for 6 rolls of a 3-sided dice, you might get\n",
    "\n",
    "> \\>\\> dice(3,6)\n",
    "\n",
    "> [1 0 2 2 1 0]\n",
    "\n"
   ]
  },
  {
   "cell_type": "code",
   "execution_count": null,
   "metadata": {
    "collapsed": true
   },
   "outputs": [],
   "source": []
  },
  {
   "cell_type": "markdown",
   "metadata": {},
   "source": [
    "\"**3) Histogramming some of your results.** \\n\",\n",
    "You'll use `matplotlib`'s `hist()` function in this problem. This function takes a vector of numbers, puts them into bins, and makes a bar plot for how many are in each bin. By default it uses 10 equally spaced bins, but you can use the optional \\\"bins\\\" argument to tell it where to put the bin edges. For example, calling it with \\\"`bins=np.arange(-0.5, 6, 1)`\\\" will put bin edges at `-0.5, 0.5, 1.5, 2.5, 3.5, 4.5, 5.5`; correspondingle, the bin *centers* will be at `0, 1, 2, 3, 4, 5`.  To see an example, run:,\n",
    "\n",
    "        x = [0, 0, 1, 2, 3, 4, 5, 5, 5, 5]\n",
    "        plt.hist(x, bins=np.arange(-0.5, 6, 1))\n",
    "\n",
    "**The problem itself:** Use the function you just wrote to roll your Python dice *K* times, where *K* is some\n",
    "large number. Use `plt.hist()` to make a histogram the number of times you got `dice=1`, `dice=2`, `dice=3`, ... , `dice=n`. If the distribution is uniform, the fraction of rolls that came out in each of these bins should be 1/*n*. Are you close to that?\n"
   ]
  },
  {
   "cell_type": "code",
   "execution_count": null,
   "metadata": {
    "collapsed": true
   },
   "outputs": [],
   "source": [
    "from matplotlib import pyplot as plt #this will allow you to plot\n",
    "import numpy as np\n",
    "#use the function plt.hist() to plot a histogram of your data. "
   ]
  },
  {
   "cell_type": "markdown",
   "metadata": {},
   "source": [
    "**4)** To assess the answer to the previous question quantitatively, compute *E*, the mean\n",
    "squared difference between the expected fraction (1/*n*) and each of the values you obtained. In other words, compute the mean, over all the histogram bins, of \n",
    "\n",
    "$$(\\frac{1}{n} - \\frac{\\text{bin height}}{K})^2$$\n",
    "\n",
    "To do this, you can use the `np.mean()` function, as well as the fact that NumPy arrays allows arithmetic operations on vectors (for example, if `vec = [1 2 3]`, `vec + 1 = [2 3 4]`)."
   ]
  },
  {
   "cell_type": "code",
   "execution_count": null,
   "metadata": {
    "collapsed": true
   },
   "outputs": [],
   "source": []
  },
  {
   "cell_type": "markdown",
   "metadata": {},
   "source": [
    "**5)** Compute *E* for many different *K*s, and make a plot of *E* as a function of *K*. What do\n",
    "you observe?"
   ]
  },
  {
   "cell_type": "code",
   "execution_count": null,
   "metadata": {
    "collapsed": true
   },
   "outputs": [],
   "source": [
    "# to make a plot, use plt.plot(x,y). Ask your TAs if you are confused.\n"
   ]
  },
  {
   "cell_type": "markdown",
   "metadata": {},
   "source": [
    "**6)** The Day_2 folder containing this notebook also contains a file called `joyce.mat`. Within Python, you can load easily MATLAB data using the SciPy function `loadmat()`, done for you below. This will create a variable called `mystring` that contains some text. We also define a new string called `vowels`.\n",
    "\n",
    "\n",
    "Using a loop through the elements of your `vowels` string, compute how many times\n",
    "each vowel appears in the text of `mystring` (i.e., how many ‘a’, how many ‘e’, how many ‘i’,\n",
    "etc.). "
   ]
  },
  {
   "cell_type": "code",
   "execution_count": 1,
   "metadata": {},
   "outputs": [
    {
     "data": {
      "text/plain": [
       "\"The air of the room chilled his shoulders. He stretched\\nhimself cautiously along under the sheets and lay down\\nbeside his wife. One by one, they were all becoming\\nshades. Better pass boldly into that other world, in\\nthe full glory of some passion, than fade and wither\\ndismally with age. He thought of how she who lay beside\\nhim had locked in her heart for so many years that image\\nof her lover's eyes when he had told her that he did\\nnot wish to live.\\n\\nGenerous tears filled Gabriel's eyes. He had never felt\\nlike that himself towards any woman, but he knew that such\\na feeling must be love. The tears gathered more thickly in\\nhis eyes and in the partial darkness he imagined he saw the\\nform of a young man standing under a dripping tree. Other\\nforms were near. His soul had approached that region where\\ndwell the vast hosts of the dead. He was conscious of, but\\ncould not apprehend, their wayward and flickering existence.\\nHis own identity was fading out into a grey impalpable world:\\nthe solid world itself, which these dead had one time reared\\nand lived in, was dissolving and dwindling.\\n\\nA few light taps upon the pane made him turn to the window.\\nIt had begun to snow again. He watched sleepily the flakes,\\nsilver and dark, falling obliquely against the lamplight.\\nThe time had come for him to set out on his journey westward.\\nYes, the newspapers were right: snow was general all over\\nIreland. It was falling on every part of the dark central\\nplain, on the treeless hills, falling softly upon the\\nBog of Allen and, farther westward, softly falling into\\nthe dark mutinous Shannon waves. It was falling, too,\\nupon every part of the lonely churchyard on the hill where\\nMichael Furey lay buried. It lay thickly drifted on the\\ncrooked crosses and headstones, on the spears of the little\\ngate, on the barren thorns. His soul swooned slowly as he\\nheard the snow falling faintly through the universe and\\nfaintly falling, like the descent of their last end,\\nupon all the living and the dead.\""
      ]
     },
     "execution_count": 1,
     "metadata": {},
     "output_type": "execute_result"
    }
   ],
   "source": [
    "from scipy.io import loadmat\n",
    "mystring = loadmat('joyce.mat')['str'][0]\n",
    "vowels = 'aeiou'\n"
   ]
  },
  {
   "cell_type": "code",
   "execution_count": null,
   "metadata": {
    "collapsed": true
   },
   "outputs": [],
   "source": []
  },
  {
   "cell_type": "markdown",
   "metadata": {},
   "source": [
    "**7)** Write a `first_sentence` function that takes a string as input, then extracts and returns the first\n",
    "sentence of the string (i.e., all the characters up to and including the first period; if the\n",
    "string contains no period, then return the original string)."
   ]
  },
  {
   "cell_type": "code",
   "execution_count": null,
   "metadata": {
    "collapsed": true
   },
   "outputs": [],
   "source": []
  },
  {
   "cell_type": "markdown",
   "metadata": {},
   "source": [
    "**8)** Write a function `replacer` that takes a string as input,\n",
    "replaces every letter “e” with an “X”, and returns the new string. Use your\n",
    "`first_sentence` to test your new `replacer` function with the first sentence of the\n",
    "text. Then use `replacer` on the entire text."
   ]
  },
  {
   "cell_type": "code",
   "execution_count": null,
   "metadata": {
    "collapsed": true
   },
   "outputs": [],
   "source": []
  },
  {
   "cell_type": "markdown",
   "metadata": {},
   "source": [
    "**9)** We’re going to examine the text you loaded from the `joyce.mat` file again. Expand\n",
    "your function from problem 6 so that now you count the frequency of occurrence of\n",
    "every character in the text file. To help you do this, the function `unique` has been provided below.\n",
    "This function takes a string and returns a unique sorted list of each of the values in the vector. For example,\n",
    "\n",
    "> \\>\\> unique(‘open sesame’)\n",
    "\n",
    "> ‘ aemnops’\n",
    "\n",
    "Note how the space character, ' ', is included. All special charcaters will be included and uppercase letters will be treated as different then lowercase letters.\n"
   ]
  },
  {
   "cell_type": "code",
   "execution_count": 2,
   "metadata": {},
   "outputs": [
    {
     "data": {
      "text/plain": [
       "' aemnops'"
      ]
     },
     "execution_count": 2,
     "metadata": {},
     "output_type": "execute_result"
    }
   ],
   "source": [
    "from Day2_Helper import unique\n"
   ]
  },
  {
   "cell_type": "markdown",
   "metadata": {},
   "source": [
    "**10)** Plotting a damped oscillator.\n",
    "\n",
    "**A)** Generate a function that takes as an input a numpy array. It then performs the following operation on the input:\n",
    "\n",
    "$$exp(-x) + cos(x)$$\n",
    "\n",
    "Plot the output of the function. Use appropriate ranges and stepsizes for your input to generate a smooth and nice-looking plot!  Don't hesistate to manpulate the axes to make the plot easy on the eyes! (hint, use the functions in numpy to execute the appropriate operations)\n",
    "\n",
    "**B)** Expand your function to include two additional arguments, a and b, with default values set in the function input.  Have the function perform the following.\n",
    "\n",
    "$$exp(-a*x) + cos(b*x)$$\n",
    "\n",
    "Generate a plot with overlayed examples of different function outputs with different values of $a$ and $b$"
   ]
  },
  {
   "cell_type": "code",
   "execution_count": null,
   "metadata": {
    "collapsed": true
   },
   "outputs": [],
   "source": []
  },
  {
   "cell_type": "markdown",
   "metadata": {},
   "source": [
    "**11)** (Bonus!) Generate a sequence of prime numbers up to some maximum, max. \n",
    "\n",
    "Hint) First try generating a sequence of non-prime numbers.\n"
   ]
  },
  {
   "cell_type": "code",
   "execution_count": null,
   "metadata": {
    "collapsed": true
   },
   "outputs": [],
   "source": []
  },
  {
   "cell_type": "markdown",
   "metadata": {},
   "source": [
    "**12)** (Double Bonus!) Make a function that takes in a single numerical argument and tells you if it is prime or not. Use the magic function %%timeit and see who can execute this function in the least amount of computation time. "
   ]
  },
  {
   "cell_type": "code",
   "execution_count": null,
   "metadata": {
    "collapsed": true
   },
   "outputs": [],
   "source": [
    "%%timeit #your function here!"
   ]
  }
 ],
 "metadata": {
  "anaconda-cloud": {},
  "kernelspec": {
   "display_name": "Python [default]",
   "language": "python",
   "name": "python3"
  },
  "language_info": {
   "codemirror_mode": {
    "name": "ipython",
    "version": 3
   },
   "file_extension": ".py",
   "mimetype": "text/x-python",
   "name": "python",
   "nbconvert_exporter": "python",
   "pygments_lexer": "ipython3",
   "version": "3.5.2"
  }
 },
 "nbformat": 4,
 "nbformat_minor": 1
}
