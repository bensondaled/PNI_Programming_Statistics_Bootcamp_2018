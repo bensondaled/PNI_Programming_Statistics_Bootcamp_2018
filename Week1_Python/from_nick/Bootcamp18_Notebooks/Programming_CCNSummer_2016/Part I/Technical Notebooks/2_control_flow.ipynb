{
 "cells": [
  {
   "cell_type": "markdown",
   "metadata": {},
   "source": [
    "### Introduction to Scientific Python: Part I\n",
    "# Control Flow\n",
    "conditionals, branching, and loops"
   ]
  },
  {
   "cell_type": "markdown",
   "metadata": {},
   "source": [
    "## conditional operators\n",
    "Return a bool (True/False). Functional analogous to mathematical entities.\n",
    "\n",
    "equality (`==`), strict ordering (`<` and `>`), loose ordering (`<=` and `>=`), negation (`!` or `not`)"
   ]
  },
  {
   "cell_type": "code",
   "execution_count": 1,
   "metadata": {
    "collapsed": false
   },
   "outputs": [
    {
     "name": "stdout",
     "output_type": "stream",
     "text": [
      "False\n",
      "\n",
      "\n",
      "True\n",
      "True\n",
      "\n",
      "\n",
      "False\n",
      "True\n"
     ]
    }
   ],
   "source": [
    "print 5 == 7\n",
    "\n",
    "print '\\n'\n",
    "print 5 != 7\n",
    "print not (5 == 7)\n",
    "\n",
    "print '\\n'\n",
    "print 5 > 5\n",
    "print 5 >= 5"
   ]
  },
  {
   "cell_type": "markdown",
   "metadata": {},
   "source": [
    "## if statements"
   ]
  },
  {
   "cell_type": "code",
   "execution_count": 6,
   "metadata": {
    "collapsed": false
   },
   "outputs": [
    {
     "name": "stdout",
     "output_type": "stream",
     "text": [
      "statement 1\n",
      "statement 3\n",
      "statement 4\n"
     ]
    }
   ],
   "source": [
    "x = 5\n",
    "\n",
    "if x == 5:\n",
    "    print \"statement 1\"\n",
    "    print \"statement 3\"\n",
    "    \n",
    "\n",
    "    \n",
    "if x == 6:\n",
    "    print \"statement 2\"\n",
    "    \n",
    "print \"statement 4\""
   ]
  },
  {
   "cell_type": "markdown",
   "metadata": {},
   "source": [
    "## elif statements"
   ]
  },
  {
   "cell_type": "code",
   "execution_count": 8,
   "metadata": {
    "collapsed": false
   },
   "outputs": [],
   "source": [
    "x = 3\n",
    "\n",
    "if x < 3:\n",
    "    print \"less than\"\n",
    "elif x > 3:\n",
    "    print \"greater than\""
   ]
  },
  {
   "cell_type": "markdown",
   "metadata": {},
   "source": [
    "## else statements"
   ]
  },
  {
   "cell_type": "code",
   "execution_count": 11,
   "metadata": {
    "collapsed": false
   },
   "outputs": [
    {
     "name": "stdout",
     "output_type": "stream",
     "text": [
      "12\n"
     ]
    }
   ],
   "source": [
    "x = 3\n",
    "\n",
    "if x < 3:\n",
    "    y = 10\n",
    "elif x > 3:\n",
    "    y = -2\n",
    "else:\n",
    "    y = 12\n",
    "\n",
    "print y"
   ]
  },
  {
   "cell_type": "markdown",
   "metadata": {},
   "source": [
    "## while loop"
   ]
  },
  {
   "cell_type": "code",
   "execution_count": 12,
   "metadata": {
    "collapsed": false
   },
   "outputs": [
    {
     "name": "stdout",
     "output_type": "stream",
     "text": [
      "0\n",
      "looping...\n",
      "1\n",
      "looping...\n",
      "2\n",
      "looping...\n",
      "3\n",
      "looping...\n",
      "4\n",
      "looping...\n",
      "5\n"
     ]
    }
   ],
   "source": [
    "x = 0\n",
    "print x\n",
    "\n",
    "while(x<5):\n",
    "    x += 1\n",
    "    print 'looping...'\n",
    "    print x\n"
   ]
  },
  {
   "cell_type": "markdown",
   "metadata": {},
   "source": [
    "## for loop"
   ]
  },
  {
   "cell_type": "code",
   "execution_count": 13,
   "metadata": {
    "collapsed": false
   },
   "outputs": [
    {
     "name": "stdout",
     "output_type": "stream",
     "text": [
      "1\n",
      "looping...\n",
      "3\n",
      "looping...\n",
      "5\n",
      "looping...\n"
     ]
    }
   ],
   "source": [
    "for x in [1, 3, 5]:\n",
    "    print x\n",
    "    print 'looping...'"
   ]
  },
  {
   "cell_type": "markdown",
   "metadata": {},
   "source": [
    "`range` is useful for making lists to loop over"
   ]
  },
  {
   "cell_type": "code",
   "execution_count": 14,
   "metadata": {
    "collapsed": false
   },
   "outputs": [
    {
     "name": "stdout",
     "output_type": "stream",
     "text": [
      "[0, 1, 2, 3, 4]\n",
      "\n",
      "\n",
      "[2, 3, 4]\n",
      "\n",
      "\n",
      "[2, 4, 6, 8]\n",
      "\n",
      "\n"
     ]
    }
   ],
   "source": [
    "print range(5)\n",
    "print '\\n'\n",
    "\n",
    "print range(2, 5)\n",
    "print '\\n'\n",
    "\n",
    "print range(2, 10, 2)\n",
    "print '\\n'"
   ]
  },
  {
   "cell_type": "code",
   "execution_count": 16,
   "metadata": {
    "collapsed": false
   },
   "outputs": [
    {
     "name": "stdout",
     "output_type": "stream",
     "text": [
      "2\n",
      "looping...\n",
      "3\n",
      "looping...\n",
      "4\n",
      "looping...\n",
      "4\n"
     ]
    }
   ],
   "source": [
    "for x in range(2, 5):\n",
    "    print x\n",
    "    print 'looping...'\n",
    "    \n",
    "print x"
   ]
  },
  {
   "cell_type": "markdown",
   "metadata": {},
   "source": [
    "Example: computing the mean of a all even numbers between 2 and 10 (inclusive)"
   ]
  },
  {
   "cell_type": "code",
   "execution_count": 17,
   "metadata": {
    "collapsed": false
   },
   "outputs": [
    {
     "data": {
      "text/plain": [
       "[2, 4, 6, 8, 10]"
      ]
     },
     "execution_count": 17,
     "metadata": {},
     "output_type": "execute_result"
    }
   ],
   "source": [
    "range(2, 12, 2)"
   ]
  },
  {
   "cell_type": "code",
   "execution_count": 18,
   "metadata": {
    "collapsed": false
   },
   "outputs": [
    {
     "name": "stdout",
     "output_type": "stream",
     "text": [
      "6.0\n"
     ]
    }
   ],
   "source": [
    "total = 0\n",
    "\n",
    "for x in range(2, 12, 2):\n",
    "    total += x\n",
    "\n",
    "n = (12 - 2)/2\n",
    "\n",
    "print 1.0*total/n"
   ]
  },
  {
   "cell_type": "markdown",
   "metadata": {},
   "source": [
    "It's a good idea to give assign all values that you use to a variable to make it easier to edit/resuse your code"
   ]
  },
  {
   "cell_type": "code",
   "execution_count": 20,
   "metadata": {
    "collapsed": false
   },
   "outputs": [
    {
     "name": "stdout",
     "output_type": "stream",
     "text": [
      "9.5\n"
     ]
    }
   ],
   "source": [
    "start = 2\n",
    "stop = 20\n",
    "step = 3\n",
    "\n",
    "total = 0\n",
    "\n",
    "for x in range(start, stop, step):\n",
    "    total += x\n",
    "    \n",
    "n = (stop - start)/step\n",
    "    \n",
    "print 1.0*total/n"
   ]
  },
  {
   "cell_type": "markdown",
   "metadata": {},
   "source": [
    "## break\n",
    "`break` will let you jump out of the of the loop. This is very useful with along with an `if` to for when you don't know exactly when you want to stop, but you know the condition."
   ]
  },
  {
   "cell_type": "code",
   "execution_count": 21,
   "metadata": {
    "collapsed": false
   },
   "outputs": [
    {
     "name": "stdout",
     "output_type": "stream",
     "text": [
      "7\n",
      "21\n"
     ]
    }
   ],
   "source": [
    "#let's sum all integers until the total is more than 20\n",
    "\n",
    "i = 1\n",
    "total = 0\n",
    "\n",
    "while True:\n",
    "    total += i\n",
    "    i += 1\n",
    "    if total > 20:\n",
    "        break\n",
    "        \n",
    "print i\n",
    "print total"
   ]
  },
  {
   "cell_type": "markdown",
   "metadata": {},
   "source": [
    "## continue\n",
    "`continue` allows you to skip the rest of the code within the loop, and jump to the next iteration. This is useful with an `if` statement to skip particular iterations defined by some condition"
   ]
  },
  {
   "cell_type": "code",
   "execution_count": 22,
   "metadata": {
    "collapsed": false
   },
   "outputs": [
    {
     "name": "stdout",
     "output_type": "stream",
     "text": [
      "0\n",
      "3\n",
      "6\n",
      "9\n",
      "12\n",
      "15\n",
      "18\n",
      "\n",
      "\n",
      "127\n"
     ]
    }
   ],
   "source": [
    "# Let's sum all integers less than 20, but skipping multiples of 3\n",
    "\n",
    "total = 0\n",
    "\n",
    "for i in range(20):\n",
    "    if i % 3 == 0:\n",
    "        print i\n",
    "        continue\n",
    "    total += i\n",
    "    \n",
    "print '\\n'\n",
    "print total"
   ]
  },
  {
   "cell_type": "markdown",
   "metadata": {},
   "source": [
    "## example from presentation"
   ]
  },
  {
   "cell_type": "code",
   "execution_count": 24,
   "metadata": {
    "collapsed": false
   },
   "outputs": [
    {
     "name": "stdout",
     "output_type": "stream",
     "text": [
      "0 is even\n",
      "2 is even\n",
      "4 is even\n",
      "I'm done!\n",
      "Finished at value t =  6\n"
     ]
    }
   ],
   "source": [
    "t_max, dt = 10, 1\n",
    "\n",
    "t = 0\n",
    "while t <= t_max:\n",
    "    if t > 5:\n",
    "        print \"I'm done!\"\n",
    "        break\n",
    "\n",
    "    elif t % 2 == 0:\n",
    "        print t, \"is even\"\n",
    "        t += dt\n",
    "        continue\n",
    "\n",
    "    t += dt\n",
    "\n",
    "print \"Finished at value t = \", t"
   ]
  }
 ],
 "metadata": {
  "kernelspec": {
   "display_name": "Python 2",
   "language": "python",
   "name": "python2"
  },
  "language_info": {
   "codemirror_mode": {
    "name": "ipython",
    "version": 2
   },
   "file_extension": ".py",
   "mimetype": "text/x-python",
   "name": "python",
   "nbconvert_exporter": "python",
   "pygments_lexer": "ipython2",
   "version": "2.7.12"
  }
 },
 "nbformat": 4,
 "nbformat_minor": 0
}
