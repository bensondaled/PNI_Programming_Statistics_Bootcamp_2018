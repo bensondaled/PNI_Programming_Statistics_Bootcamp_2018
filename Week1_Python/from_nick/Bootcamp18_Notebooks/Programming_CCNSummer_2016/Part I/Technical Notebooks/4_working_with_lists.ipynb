{
 "cells": [
  {
   "cell_type": "markdown",
   "metadata": {},
   "source": [
    "### Introduction to Scientific Python: Part I\n",
    "#Working with Lists\n",
    "indexing, slicing, list comprehensions"
   ]
  },
  {
   "cell_type": "markdown",
   "metadata": {},
   "source": [
    "## indexing"
   ]
  },
  {
   "cell_type": "markdown",
   "metadata": {},
   "source": [
    "We can access different positions in a list by their \"index\" -- import: counting starts at 0!"
   ]
  },
  {
   "cell_type": "code",
   "execution_count": 1,
   "metadata": {
    "collapsed": false
   },
   "outputs": [
    {
     "name": "stdout",
     "output_type": "stream",
     "text": [
      "10\n",
      "12\n"
     ]
    }
   ],
   "source": [
    "l = [10, 11, 12, 13, 14, 15]\n",
    "\n",
    "print l[0]\n",
    "print l[2]"
   ]
  },
  {
   "cell_type": "markdown",
   "metadata": {},
   "source": [
    "We can also count backward from the end with a negative index"
   ]
  },
  {
   "cell_type": "code",
   "execution_count": 2,
   "metadata": {
    "collapsed": false
   },
   "outputs": [
    {
     "name": "stdout",
     "output_type": "stream",
     "text": [
      "15\n",
      "13\n"
     ]
    }
   ],
   "source": [
    "print l[-1]\n",
    "print l[-3]"
   ]
  },
  {
   "cell_type": "markdown",
   "metadata": {},
   "source": [
    "Finally, we can use indices to update values in the list"
   ]
  },
  {
   "cell_type": "code",
   "execution_count": 3,
   "metadata": {
    "collapsed": false
   },
   "outputs": [
    {
     "name": "stdout",
     "output_type": "stream",
     "text": [
      "[10, 11, -1, 13, 14, 15]\n"
     ]
    }
   ],
   "source": [
    "l[2] = -1\n",
    "print l"
   ]
  },
  {
   "cell_type": "markdown",
   "metadata": {},
   "source": [
    "## slicing"
   ]
  },
  {
   "cell_type": "markdown",
   "metadata": {},
   "source": [
    "We can also select ranges of list elements with a \"slice\" that specifies that first and last index to include -- `start:stop`. Be careful: slices are NOT inclusive, so the final index is NOT included."
   ]
  },
  {
   "cell_type": "code",
   "execution_count": 4,
   "metadata": {
    "collapsed": false
   },
   "outputs": [
    {
     "name": "stdout",
     "output_type": "stream",
     "text": [
      "[11, -1, 13]\n"
     ]
    }
   ],
   "source": [
    "print l[1:4] # this will get elements 1, 2, and 3 (the stopping point, 4, is not included)"
   ]
  },
  {
   "cell_type": "markdown",
   "metadata": {},
   "source": [
    "If we leave out the starting index, it will go all the way to the beginning.\n",
    "\n",
    "If we leave out the stopping index, it will go all the way to the end."
   ]
  },
  {
   "cell_type": "code",
   "execution_count": 6,
   "metadata": {
    "collapsed": false
   },
   "outputs": [
    {
     "name": "stdout",
     "output_type": "stream",
     "text": [
      "[10, 11, -1]\n",
      "[13, 14, 15]\n"
     ]
    }
   ],
   "source": [
    "print l[:3]\n",
    "print l[3:]"
   ]
  },
  {
   "cell_type": "markdown",
   "metadata": {},
   "source": [
    "We can also provide a stride, to skip elements -- `start:stop:stride`"
   ]
  },
  {
   "cell_type": "code",
   "execution_count": 7,
   "metadata": {
    "collapsed": false
   },
   "outputs": [
    {
     "name": "stdout",
     "output_type": "stream",
     "text": [
      "[11, 13, 15]\n"
     ]
    }
   ],
   "source": [
    "print l[1:6:2]"
   ]
  },
  {
   "cell_type": "markdown",
   "metadata": {},
   "source": [
    "Slices can also use negative indices to count backwards from the end"
   ]
  },
  {
   "cell_type": "code",
   "execution_count": 8,
   "metadata": {
    "collapsed": false
   },
   "outputs": [
    {
     "name": "stdout",
     "output_type": "stream",
     "text": [
      "[11, -1, 13, 14]\n"
     ]
    }
   ],
   "source": [
    "print l[1:-1]"
   ]
  },
  {
   "cell_type": "markdown",
   "metadata": {},
   "source": [
    "## list comprehensions"
   ]
  },
  {
   "cell_type": "markdown",
   "metadata": {},
   "source": [
    "Creating a list via a `for` loop is a very common task"
   ]
  },
  {
   "cell_type": "code",
   "execution_count": 9,
   "metadata": {
    "collapsed": false
   },
   "outputs": [
    {
     "name": "stdout",
     "output_type": "stream",
     "text": [
      "[0, 1, 4, 9, 16]\n"
     ]
    }
   ],
   "source": [
    "# compute the squares of the first 5 natural numbers\n",
    "l = []\n",
    "for x in range(5):\n",
    "    l += [x**2]\n",
    "    \n",
    "print l"
   ]
  },
  {
   "cell_type": "markdown",
   "metadata": {},
   "source": [
    "This pattern is so common, that Python gives us a useful shortcut for doing it called a \"list comprehension\""
   ]
  },
  {
   "cell_type": "code",
   "execution_count": 10,
   "metadata": {
    "collapsed": false
   },
   "outputs": [
    {
     "name": "stdout",
     "output_type": "stream",
     "text": [
      "[0, 1, 4, 9, 16]\n"
     ]
    }
   ],
   "source": [
    "l = [x**2 for x in range(5)]\n",
    "print l"
   ]
  },
  {
   "cell_type": "markdown",
   "metadata": {},
   "source": [
    "## enumerate\n",
    "`enumerate` is useful for updating list elements\n",
    "\n",
    "`[v1, v2, v3] => (0, v1), (1, v2), (2, v3)`"
   ]
  },
  {
   "cell_type": "code",
   "execution_count": 11,
   "metadata": {
    "collapsed": false
   },
   "outputs": [
    {
     "name": "stdout",
     "output_type": "stream",
     "text": [
      "['pyramidal', 'inhibitory', 'glial']\n",
      "\n",
      "\n",
      "0 pyramidal\n",
      "1 inhibitory\n",
      "2 glial\n"
     ]
    }
   ],
   "source": [
    "l = ['pyramidal', 'inhibitory', 'glial']\n",
    "print l\n",
    "\n",
    "print '\\n'\n",
    "for i, val in enumerate(l):\n",
    "    print i, val"
   ]
  },
  {
   "cell_type": "code",
   "execution_count": 12,
   "metadata": {
    "collapsed": false
   },
   "outputs": [
    {
     "name": "stdout",
     "output_type": "stream",
     "text": [
      "['pyramidal cell', 'inhibitory cell', 'glial cell']\n"
     ]
    }
   ],
   "source": [
    "for i, val in enumerate(l):\n",
    "    l[i] = val + \" cell\"\n",
    "\n",
    "print l"
   ]
  }
 ],
 "metadata": {
  "kernelspec": {
   "display_name": "Python 2",
   "language": "python",
   "name": "python2"
  },
  "language_info": {
   "codemirror_mode": {
    "name": "ipython",
    "version": 2
   },
   "file_extension": ".py",
   "mimetype": "text/x-python",
   "name": "python",
   "nbconvert_exporter": "python",
   "pygments_lexer": "ipython2",
   "version": "2.7.12"
  }
 },
 "nbformat": 4,
 "nbformat_minor": 0
}
