{
 "cells": [
  {
   "cell_type": "markdown",
   "metadata": {},
   "source": [
    "### Introduction to Scientific Python: Part I\n",
    "# Dictionaries\n",
    "lists with fancy indices"
   ]
  },
  {
   "cell_type": "markdown",
   "metadata": {},
   "source": [
    "Lists are indexed by itegers. This is great for collections of objects that have an intrinsic ordering. But often we have data that we could like to group together (perhaps so we can loop over it) that doesn't have a natural ordering. The `dictionary` is like a list that allows us to index the elements by a user-defined name instead of a number. These fancy indices are called \"keys\", and the data associated with the keys are called \"values\"."
   ]
  },
  {
   "cell_type": "code",
   "execution_count": 1,
   "metadata": {
    "collapsed": false
   },
   "outputs": [
    {
     "name": "stdout",
     "output_type": "stream",
     "text": [
      "{'age': 20, 'name': 'John', 'student': True}\n"
     ]
    }
   ],
   "source": [
    "d = {\"name\": \"John\", \"age\": 20, \"student\": True}\n",
    "print d"
   ]
  },
  {
   "cell_type": "markdown",
   "metadata": {},
   "source": [
    "Indexing works similarly to lists."
   ]
  },
  {
   "cell_type": "code",
   "execution_count": 2,
   "metadata": {
    "collapsed": false
   },
   "outputs": [
    {
     "name": "stdout",
     "output_type": "stream",
     "text": [
      "John\n",
      "20\n"
     ]
    }
   ],
   "source": [
    "print d[\"name\"]\n",
    "print d[\"age\"]"
   ]
  },
  {
   "cell_type": "markdown",
   "metadata": {},
   "source": [
    "We can examine the keys or the values separately"
   ]
  },
  {
   "cell_type": "code",
   "execution_count": 3,
   "metadata": {
    "collapsed": false
   },
   "outputs": [
    {
     "name": "stdout",
     "output_type": "stream",
     "text": [
      "['age', 'name', 'student']\n",
      "[20, 'John', True]\n"
     ]
    }
   ],
   "source": [
    "print d.keys()\n",
    "print d.values()"
   ]
  },
  {
   "cell_type": "markdown",
   "metadata": {},
   "source": [
    "Just as with lists, we can change the values inside a dictionary"
   ]
  },
  {
   "cell_type": "code",
   "execution_count": 4,
   "metadata": {
    "collapsed": false
   },
   "outputs": [
    {
     "name": "stdout",
     "output_type": "stream",
     "text": [
      "{'age': 20, 'name': 'John', 'student': False}\n"
     ]
    }
   ],
   "source": [
    "d[\"student\"] = False\n",
    "print d"
   ]
  },
  {
   "cell_type": "code",
   "execution_count": 5,
   "metadata": {
    "collapsed": false
   },
   "outputs": [
    {
     "name": "stdout",
     "output_type": "stream",
     "text": [
      "{'color': 'red', 'age': 20, 'name': 'John', 'student': False}\n"
     ]
    }
   ],
   "source": [
    "d[\"color\"] = \"red\"\n",
    "print d"
   ]
  },
  {
   "cell_type": "markdown",
   "metadata": {},
   "source": [
    "Finally, we can loop through a dictionary by using the keys"
   ]
  },
  {
   "cell_type": "code",
   "execution_count": 6,
   "metadata": {
    "collapsed": false
   },
   "outputs": [
    {
     "name": "stdout",
     "output_type": "stream",
     "text": [
      "{'k3': [1, 2, 3], 'k2': 2.3, 'k1': 5, 'k4': -3}\n",
      "{'k3': [1, 2, 3], 'k2': 2.3, 'k1': 0, 'k4': 0}\n"
     ]
    }
   ],
   "source": [
    "d = {\"k1\": 5, \"k2\": 2.3, \"k3\": [1, 2, 3], \"k4\": -3}\n",
    "print d\n",
    "\n",
    "for k in d.keys():\n",
    "    if type(d[k]) == int:\n",
    "        d[k] = 0\n",
    "        \n",
    "print d"
   ]
  },
  {
   "cell_type": "markdown",
   "metadata": {},
   "source": [
    "Dictionary keys can actually be of any type"
   ]
  },
  {
   "cell_type": "code",
   "execution_count": 7,
   "metadata": {
    "collapsed": false
   },
   "outputs": [
    {
     "name": "stdout",
     "output_type": "stream",
     "text": [
      "{'k3': [1, 2, 3], 'k2': 2.3, 'k1': 0, 2: 'new value', 'k4': 0}\n"
     ]
    }
   ],
   "source": [
    "d[2] = \"new value\"\n",
    "print d"
   ]
  }
 ],
 "metadata": {
  "kernelspec": {
   "display_name": "Python 2",
   "language": "python",
   "name": "python2"
  },
  "language_info": {
   "codemirror_mode": {
    "name": "ipython",
    "version": 2
   },
   "file_extension": ".py",
   "mimetype": "text/x-python",
   "name": "python",
   "nbconvert_exporter": "python",
   "pygments_lexer": "ipython2",
   "version": "2.7.12"
  }
 },
 "nbformat": 4,
 "nbformat_minor": 0
}
