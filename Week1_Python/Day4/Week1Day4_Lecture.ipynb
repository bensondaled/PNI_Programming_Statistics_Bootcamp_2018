{
 "cells": [
  {
   "cell_type": "markdown",
   "metadata": {},
   "source": [
    "#### Questions and thoughts from yesterday"
   ]
  },
  {
   "cell_type": "code",
   "execution_count": 1,
   "metadata": {
    "collapsed": true
   },
   "outputs": [],
   "source": [
    "# return and print in a function"
   ]
  },
  {
   "cell_type": "code",
   "execution_count": 2,
   "metadata": {
    "collapsed": true
   },
   "outputs": [],
   "source": [
    "def add_subtract(a, b):\n",
    "    summ = a + b\n",
    "    difference = a - b\n",
    "    result = [summ, difference]\n",
    "    return result\n",
    "\n",
    "def add_subtract(a, b):\n",
    "    summ = a + b\n",
    "    difference = a - b\n",
    "    \n",
    "    # this is basically the same as the previous approach\n",
    "    return summ, difference\n"
   ]
  },
  {
   "cell_type": "code",
   "execution_count": 6,
   "metadata": {},
   "outputs": [
    {
     "name": "stdout",
     "output_type": "stream",
     "text": [
      "12\n",
      "-8\n"
     ]
    }
   ],
   "source": [
    "x = 2\n",
    "y = 10\n",
    "\n",
    "z = add_subtract(b=y, a=x)\n",
    "\n",
    "print(z[0])\n",
    "print(z[1])"
   ]
  },
  {
   "cell_type": "code",
   "execution_count": 8,
   "metadata": {},
   "outputs": [
    {
     "name": "stdout",
     "output_type": "stream",
     "text": [
      "12\n",
      "-8\n"
     ]
    }
   ],
   "source": [
    "# don't dwell on this, it's a shortcut\n",
    "[c,f] = add_subtract(b=y, a=x)\n",
    "\n",
    "print(c)\n",
    "print(f)"
   ]
  },
  {
   "cell_type": "code",
   "execution_count": 14,
   "metadata": {},
   "outputs": [
    {
     "data": {
      "text/plain": [
       "(10, 14)"
      ]
     },
     "execution_count": 14,
     "metadata": {},
     "output_type": "execute_result"
    }
   ],
   "source": [
    "X = 5\n",
    "B = 7\n",
    "\n",
    "z = add_subtract(X, B)\n",
    "\n",
    "t = add_subtract(z[0], z[1])\n",
    "\n",
    "s = add_subtract(t[0], t[1])\n",
    "\n",
    "# \"very advanced, do not worry about this\":\n",
    "z = add_subtract(X, B)\n",
    "# z is now a list of 2 items\n",
    "add_subtract(*z) # \"unpack\" z into this function"
   ]
  },
  {
   "cell_type": "code",
   "execution_count": 16,
   "metadata": {},
   "outputs": [
    {
     "name": "stdout",
     "output_type": "stream",
     "text": [
      "E. coli\n",
      "prokaryote\n",
      "Mouse\n",
      "eukaryote\n",
      "Elephant\n",
      "eukaryote\n",
      "Poison ivy\n",
      "eukaryote\n"
     ]
    }
   ],
   "source": [
    "# a review `for` loop\n",
    "\n",
    "my_organisms = ['E. coli', 'Mouse', 'Elephant', 'Poison ivy']\n",
    "their_domains = ['prokaryote', 'eukaryote', 'eukaryote', 'eukaryote']\n",
    "\n",
    "last = len(my_organisms)\n",
    "\n",
    "for x in range(0,last):\n",
    "    print(my_organisms[x])\n",
    "    print(their_domains[x])"
   ]
  },
  {
   "cell_type": "code",
   "execution_count": 17,
   "metadata": {},
   "outputs": [
    {
     "name": "stdout",
     "output_type": "stream",
     "text": [
      "E. coli\n",
      "prokaryote\n",
      "Mouse\n",
      "eukaryote\n",
      "Elephant\n",
      "eukaryote\n",
      "Poison ivy\n",
      "eukaryote\n"
     ]
    }
   ],
   "source": [
    "# extra advanced tip; ignore if it confuses you\n",
    "\n",
    "for organism, domain in zip(my_organisms, their_domains):\n",
    "    print(organism)\n",
    "    print(domain)"
   ]
  },
  {
   "cell_type": "markdown",
   "metadata": {},
   "source": [
    "<hr/>\n",
    "### `import`"
   ]
  },
  {
   "cell_type": "code",
   "execution_count": 19,
   "metadata": {
    "collapsed": true
   },
   "outputs": [],
   "source": [
    "# a module: a file or bunch of files of python code somewhere else\n",
    "# os is a module\n",
    "import os"
   ]
  },
  {
   "cell_type": "code",
   "execution_count": 23,
   "metadata": {},
   "outputs": [
    {
     "data": {
      "text/plain": [
       "'/Users/ben/code/PNI_Programming_Statistics_Bootcamp_2018/Week1_Python/Day4'"
      ]
     },
     "execution_count": 23,
     "metadata": {},
     "output_type": "execute_result"
    }
   ],
   "source": [
    "os.getcwd() # getcwd is a function inside the `os` module"
   ]
  },
  {
   "cell_type": "code",
   "execution_count": 24,
   "metadata": {
    "collapsed": true
   },
   "outputs": [],
   "source": [
    "def getcwd(x):\n",
    "    result = x*2\n",
    "    return result"
   ]
  },
  {
   "cell_type": "code",
   "execution_count": 25,
   "metadata": {},
   "outputs": [
    {
     "data": {
      "text/plain": [
       "8"
      ]
     },
     "execution_count": 25,
     "metadata": {},
     "output_type": "execute_result"
    }
   ],
   "source": [
    "getcwd(4)\n",
    "\n",
    "os."
   ]
  },
  {
   "cell_type": "code",
   "execution_count": 26,
   "metadata": {},
   "outputs": [
    {
     "data": {
      "text/plain": [
       "('my_image', '.tif')"
      ]
     },
     "execution_count": 26,
     "metadata": {},
     "output_type": "execute_result"
    }
   ],
   "source": [
    "filename = 'my_image.tif'\n",
    "\n",
    "os.path.splitext(filename) # the \"split extension\" function in the os.path module"
   ]
  },
  {
   "cell_type": "code",
   "execution_count": null,
   "metadata": {
    "collapsed": true
   },
   "outputs": [],
   "source": []
  },
  {
   "cell_type": "markdown",
   "metadata": {},
   "source": [
    "<hr/>\n",
    "When trouble arises: stop, hands off keyboard, think of your plan, and begin again."
   ]
  },
  {
   "cell_type": "markdown",
   "metadata": {},
   "source": [
    "<hr/>\n",
    "### `numpy`\n",
    "\n",
    "#### *num*erical *py*thon"
   ]
  },
  {
   "cell_type": "code",
   "execution_count": 31,
   "metadata": {},
   "outputs": [],
   "source": [
    "# import\n",
    "\n",
    "import numpy\n",
    "\n",
    "# a trick:\n",
    "import numpy as np # immediately renames numpy to np"
   ]
  },
  {
   "cell_type": "code",
   "execution_count": 32,
   "metadata": {
    "collapsed": true
   },
   "outputs": [],
   "source": [
    "# 1D array\n",
    "\n",
    "my_list = [1, 22, 9, -1, 0.3]\n",
    "\n",
    "my_array = np.array( my_list )"
   ]
  },
  {
   "cell_type": "code",
   "execution_count": 33,
   "metadata": {},
   "outputs": [
    {
     "name": "stdout",
     "output_type": "stream",
     "text": [
      "[ 1.  22.   9.  -1.   0.3]\n"
     ]
    }
   ],
   "source": [
    "print(my_array)"
   ]
  },
  {
   "cell_type": "code",
   "execution_count": 36,
   "metadata": {
    "collapsed": true
   },
   "outputs": [],
   "source": [
    "my_array = np.array([1,2,3,4]) \n",
    "# we most commonly make an array by converting a python list into an array"
   ]
  },
  {
   "cell_type": "code",
   "execution_count": 37,
   "metadata": {},
   "outputs": [
    {
     "data": {
      "text/plain": [
       "numpy.ndarray"
      ]
     },
     "execution_count": 37,
     "metadata": {},
     "output_type": "execute_result"
    }
   ],
   "source": [
    "my_list = [1,2,3,4]\n",
    "\n",
    "type(my_array)"
   ]
  },
  {
   "cell_type": "code",
   "execution_count": 38,
   "metadata": {},
   "outputs": [
    {
     "data": {
      "text/plain": [
       "4"
      ]
     },
     "execution_count": 38,
     "metadata": {},
     "output_type": "execute_result"
    }
   ],
   "source": [
    "len(my_array)"
   ]
  },
  {
   "cell_type": "code",
   "execution_count": 40,
   "metadata": {},
   "outputs": [
    {
     "name": "stdout",
     "output_type": "stream",
     "text": [
      "['a' 'b' 'c' 'd']\n"
     ]
    }
   ],
   "source": [
    "my_array = np.array(['a', 'b', 'c', 'd'])\n",
    "\n",
    "print(my_array)"
   ]
  },
  {
   "cell_type": "code",
   "execution_count": 41,
   "metadata": {},
   "outputs": [
    {
     "name": "stdout",
     "output_type": "stream",
     "text": [
      "int64\n"
     ]
    }
   ],
   "source": [
    "# dtype : data type\n",
    "\n",
    "my_array = np.array([1,2,3,4,5])\n",
    "\n",
    "print(my_array.dtype)"
   ]
  },
  {
   "cell_type": "code",
   "execution_count": 42,
   "metadata": {},
   "outputs": [
    {
     "name": "stdout",
     "output_type": "stream",
     "text": [
      "float64\n"
     ]
    }
   ],
   "source": [
    "my_array = np.array([0.5, 1.1, 2.7, 3.9])\n",
    "\n",
    "print(my_array.dtype)"
   ]
  },
  {
   "cell_type": "code",
   "execution_count": 43,
   "metadata": {},
   "outputs": [
    {
     "name": "stdout",
     "output_type": "stream",
     "text": [
      "float64\n"
     ]
    }
   ],
   "source": [
    "my_array = np.array([1, 2, 3, 4.5, 6.5, 7.5])\n",
    "\n",
    "print(my_array.dtype)"
   ]
  },
  {
   "cell_type": "code",
   "execution_count": 44,
   "metadata": {},
   "outputs": [
    {
     "name": "stdout",
     "output_type": "stream",
     "text": [
      "<U1\n"
     ]
    }
   ],
   "source": [
    "my_array = np.array(['a', 'b', 'c', 'd'])\n",
    "\n",
    "print(my_array.dtype)"
   ]
  },
  {
   "cell_type": "code",
   "execution_count": 45,
   "metadata": {},
   "outputs": [
    {
     "data": {
      "text/plain": [
       "array([0, 1, 2])"
      ]
     },
     "execution_count": 45,
     "metadata": {},
     "output_type": "execute_result"
    }
   ],
   "source": [
    "# indexing and assignments (review)\n",
    "\n",
    "my_array = np.array([0,1,2,3,4,5,6,7,8,9])\n",
    "\n",
    "# how can we get the first 3 items?\n",
    "my_array[0:3]\n"
   ]
  },
  {
   "cell_type": "code",
   "execution_count": 50,
   "metadata": {},
   "outputs": [
    {
     "data": {
      "text/plain": [
       "array([5, 4, 3, 2, 1, 0])"
      ]
     },
     "execution_count": 50,
     "metadata": {},
     "output_type": "execute_result"
    }
   ],
   "source": [
    "# can we index it backwards?\n",
    "\n",
    "my_array[::-1]"
   ]
  },
  {
   "cell_type": "code",
   "execution_count": 51,
   "metadata": {},
   "outputs": [
    {
     "data": {
      "text/plain": [
       "array([0, 2, 4])"
      ]
     },
     "execution_count": 51,
     "metadata": {},
     "output_type": "execute_result"
    }
   ],
   "source": [
    "# how about step sizes other than 1?\n",
    "\n",
    "my_array[::2]"
   ]
  },
  {
   "cell_type": "code",
   "execution_count": 47,
   "metadata": {},
   "outputs": [
    {
     "name": "stdout",
     "output_type": "stream",
     "text": [
      "List: [0, 1, 2, 3, 4, 5]\n",
      "Array: [0 1 2 3 4 5]\n"
     ]
    }
   ],
   "source": [
    "# printing out lists and array\n",
    "\n",
    "my_list = [0,1,2,3,4,5]\n",
    "my_array = np.array(my_list)\n",
    "\n",
    "\n",
    "print('List:', my_list)\n",
    "print('Array:', my_array)"
   ]
  },
  {
   "cell_type": "code",
   "execution_count": 49,
   "metadata": {},
   "outputs": [
    {
     "data": {
      "text/plain": [
       "array([0, 1, 2, 3, 4, 5])"
      ]
     },
     "execution_count": 49,
     "metadata": {},
     "output_type": "execute_result"
    }
   ],
   "source": [
    "my_array"
   ]
  },
  {
   "cell_type": "code",
   "execution_count": 54,
   "metadata": {},
   "outputs": [
    {
     "name": "stdout",
     "output_type": "stream",
     "text": [
      "['a' '22' 'b' '44']\n",
      "<U2\n"
     ]
    }
   ],
   "source": [
    "my_mixed_array = np.array(['a', 22, 'b', 44])\n",
    "\n",
    "print(my_mixed_array)\n",
    "\n",
    "print(my_mixed_array.dtype)"
   ]
  },
  {
   "cell_type": "code",
   "execution_count": 16,
   "metadata": {
    "collapsed": true
   },
   "outputs": [],
   "source": [
    "# reminders: lists vs arrays"
   ]
  },
  {
   "cell_type": "code",
   "execution_count": 56,
   "metadata": {
    "collapsed": true
   },
   "outputs": [],
   "source": [
    "my_name = 'Ben'\n",
    "\n",
    "my_array = np.array([1,2,3,4,5])"
   ]
  },
  {
   "cell_type": "markdown",
   "metadata": {},
   "source": [
    "### problem set"
   ]
  },
  {
   "cell_type": "code",
   "execution_count": 57,
   "metadata": {},
   "outputs": [
    {
     "name": "stdout",
     "output_type": "stream",
     "text": [
      "[1, 2, 3, 4, 1, 2, 3, 4]\n"
     ]
    }
   ],
   "source": [
    "# vector math: +/-/*/, >/</==, with scalars/vectors etc.\n",
    "\n",
    "my_list = [1,2,3,4]\n",
    "\n",
    "print(my_list * 2)"
   ]
  },
  {
   "cell_type": "code",
   "execution_count": 59,
   "metadata": {},
   "outputs": [
    {
     "name": "stdout",
     "output_type": "stream",
     "text": [
      "[2 4 6 8]\n"
     ]
    }
   ],
   "source": [
    "my_array = np.array([1,2,3,4])\n",
    "\n",
    "print(my_array * 2)\n",
    "\n",
    "# our first major difference in the behaviour of lists vs arrays"
   ]
  },
  {
   "cell_type": "code",
   "execution_count": 60,
   "metadata": {},
   "outputs": [
    {
     "name": "stdout",
     "output_type": "stream",
     "text": [
      "[ 5  7  9 11]\n"
     ]
    }
   ],
   "source": [
    "my_array = np.array([1,2,3,4])\n",
    "\n",
    "my_array = my_array * 2\n",
    "\n",
    "my_array = my_array + 3\n",
    "\n",
    "print(my_array)"
   ]
  },
  {
   "cell_type": "code",
   "execution_count": null,
   "metadata": {
    "collapsed": true
   },
   "outputs": [],
   "source": [
    "# the first lesson about arrays: when you do math on them,\n",
    "# the math gets done to every element in the array individually.\n",
    "# that is not what lists did!"
   ]
  },
  {
   "cell_type": "code",
   "execution_count": null,
   "metadata": {
    "collapsed": true
   },
   "outputs": [],
   "source": [
    "# how can we concatenate a new number onto the array?\n",
    "\n",
    "# with a list, we could do:\n",
    "my_list = [1,2,3]\n",
    "my_new_list = my_list + [4]\n",
    "\n",
    "# with a numpy array, here is one approach:\n",
    "my_array = np.array([1,2,3,4])\n",
    "my_array = np.append(my_array, 5)\n",
    "# don't confuse that with how list append works, reminder:\n",
    "\n",
    "my_list = [1,2,3]\n",
    "my_list.append(4)\n",
    "# NOT:\n",
    "# my_list = my_list.append(4)"
   ]
  },
  {
   "cell_type": "code",
   "execution_count": 61,
   "metadata": {
    "collapsed": true
   },
   "outputs": [],
   "source": [
    "# vector math: +/-/*/, >/</==, with scalars/vectors etc.\n",
    "# arange, linspace"
   ]
  },
  {
   "cell_type": "code",
   "execution_count": 62,
   "metadata": {},
   "outputs": [
    {
     "name": "stdout",
     "output_type": "stream",
     "text": [
      "[ 20  40  60  80 100 120]\n"
     ]
    }
   ],
   "source": [
    "my_array = np.array([2,4,6,8,10,12])\n",
    "\n",
    "x = 10\n",
    "\n",
    "my_new_array = my_array * x\n",
    "\n",
    "print(my_new_array)"
   ]
  },
  {
   "cell_type": "code",
   "execution_count": 64,
   "metadata": {},
   "outputs": [
    {
     "name": "stdout",
     "output_type": "stream",
     "text": [
      "[False False  True  True  True  True]\n",
      "[False False False False False False]\n"
     ]
    }
   ],
   "source": [
    "my_array = np.array([2,4,6,8,10,12])\n",
    "\n",
    "print( my_array > 5 )\n",
    "\n",
    "print( my_array == my_array*2 )"
   ]
  },
  {
   "cell_type": "code",
   "execution_count": 67,
   "metadata": {},
   "outputs": [
    {
     "name": "stdout",
     "output_type": "stream",
     "text": [
      "False\n"
     ]
    },
    {
     "name": "stderr",
     "output_type": "stream",
     "text": [
      "/Users/ben/anaconda/lib/python3.6/site-packages/ipykernel_launcher.py:4: DeprecationWarning: elementwise == comparison failed; this will raise an error in the future.\n",
      "  after removing the cwd from sys.path.\n"
     ]
    }
   ],
   "source": [
    "arr1 = np.array([1,2,3,4,5])\n",
    "arr2 = np.array([1,2,3,4])\n",
    "\n",
    "print( arr1 == arr2 )"
   ]
  },
  {
   "cell_type": "code",
   "execution_count": 68,
   "metadata": {},
   "outputs": [
    {
     "name": "stdout",
     "output_type": "stream",
     "text": [
      "0\n",
      "1\n",
      "2\n",
      "3\n",
      "4\n",
      "5\n",
      "6\n",
      "7\n",
      "8\n",
      "9\n"
     ]
    }
   ],
   "source": [
    "for i in range(10):\n",
    "    print(i)"
   ]
  },
  {
   "cell_type": "code",
   "execution_count": 71,
   "metadata": {},
   "outputs": [
    {
     "data": {
      "text/plain": [
       "array([0, 1, 2, 3, 4, 5, 6, 7, 8, 9])"
      ]
     },
     "execution_count": 71,
     "metadata": {},
     "output_type": "execute_result"
    }
   ],
   "source": [
    "np.arange # array range --> arange\n",
    "\n",
    "np.arange(10)"
   ]
  },
  {
   "cell_type": "code",
   "execution_count": 76,
   "metadata": {},
   "outputs": [
    {
     "data": {
      "text/plain": [
       "array([20. , 20.5, 21. , 21.5, 22. , 22.5, 23. , 23.5, 24. , 24.5, 25. ,\n",
       "       25.5, 26. , 26.5, 27. , 27.5, 28. , 28.5, 29. , 29.5, 30. ])"
      ]
     },
     "execution_count": 76,
     "metadata": {},
     "output_type": "execute_result"
    }
   ],
   "source": [
    "\n",
    "np.linspace(20, 30, 21)\n"
   ]
  },
  {
   "cell_type": "code",
   "execution_count": 80,
   "metadata": {},
   "outputs": [
    {
     "data": {
      "text/plain": [
       "array([ 50. ,  50.1,  50.2,  50.3,  50.4,  50.5,  50.6,  50.7,  50.8,\n",
       "        50.9,  51. ,  51.1,  51.2,  51.3,  51.4,  51.5,  51.6,  51.7,\n",
       "        51.8,  51.9,  52. ,  52.1,  52.2,  52.3,  52.4,  52.5,  52.6,\n",
       "        52.7,  52.8,  52.9,  53. ,  53.1,  53.2,  53.3,  53.4,  53.5,\n",
       "        53.6,  53.7,  53.8,  53.9,  54. ,  54.1,  54.2,  54.3,  54.4,\n",
       "        54.5,  54.6,  54.7,  54.8,  54.9,  55. ,  55.1,  55.2,  55.3,\n",
       "        55.4,  55.5,  55.6,  55.7,  55.8,  55.9,  56. ,  56.1,  56.2,\n",
       "        56.3,  56.4,  56.5,  56.6,  56.7,  56.8,  56.9,  57. ,  57.1,\n",
       "        57.2,  57.3,  57.4,  57.5,  57.6,  57.7,  57.8,  57.9,  58. ,\n",
       "        58.1,  58.2,  58.3,  58.4,  58.5,  58.6,  58.7,  58.8,  58.9,\n",
       "        59. ,  59.1,  59.2,  59.3,  59.4,  59.5,  59.6,  59.7,  59.8,\n",
       "        59.9,  60. ,  60.1,  60.2,  60.3,  60.4,  60.5,  60.6,  60.7,\n",
       "        60.8,  60.9,  61. ,  61.1,  61.2,  61.3,  61.4,  61.5,  61.6,\n",
       "        61.7,  61.8,  61.9,  62. ,  62.1,  62.2,  62.3,  62.4,  62.5,\n",
       "        62.6,  62.7,  62.8,  62.9,  63. ,  63.1,  63.2,  63.3,  63.4,\n",
       "        63.5,  63.6,  63.7,  63.8,  63.9,  64. ,  64.1,  64.2,  64.3,\n",
       "        64.4,  64.5,  64.6,  64.7,  64.8,  64.9,  65. ,  65.1,  65.2,\n",
       "        65.3,  65.4,  65.5,  65.6,  65.7,  65.8,  65.9,  66. ,  66.1,\n",
       "        66.2,  66.3,  66.4,  66.5,  66.6,  66.7,  66.8,  66.9,  67. ,\n",
       "        67.1,  67.2,  67.3,  67.4,  67.5,  67.6,  67.7,  67.8,  67.9,\n",
       "        68. ,  68.1,  68.2,  68.3,  68.4,  68.5,  68.6,  68.7,  68.8,\n",
       "        68.9,  69. ,  69.1,  69.2,  69.3,  69.4,  69.5,  69.6,  69.7,\n",
       "        69.8,  69.9,  70. ,  70.1,  70.2,  70.3,  70.4,  70.5,  70.6,\n",
       "        70.7,  70.8,  70.9,  71. ,  71.1,  71.2,  71.3,  71.4,  71.5,\n",
       "        71.6,  71.7,  71.8,  71.9,  72. ,  72.1,  72.2,  72.3,  72.4,\n",
       "        72.5,  72.6,  72.7,  72.8,  72.9,  73. ,  73.1,  73.2,  73.3,\n",
       "        73.4,  73.5,  73.6,  73.7,  73.8,  73.9,  74. ,  74.1,  74.2,\n",
       "        74.3,  74.4,  74.5,  74.6,  74.7,  74.8,  74.9,  75. ,  75.1,\n",
       "        75.2,  75.3,  75.4,  75.5,  75.6,  75.7,  75.8,  75.9,  76. ,\n",
       "        76.1,  76.2,  76.3,  76.4,  76.5,  76.6,  76.7,  76.8,  76.9,\n",
       "        77. ,  77.1,  77.2,  77.3,  77.4,  77.5,  77.6,  77.7,  77.8,\n",
       "        77.9,  78. ,  78.1,  78.2,  78.3,  78.4,  78.5,  78.6,  78.7,\n",
       "        78.8,  78.9,  79. ,  79.1,  79.2,  79.3,  79.4,  79.5,  79.6,\n",
       "        79.7,  79.8,  79.9,  80. ,  80.1,  80.2,  80.3,  80.4,  80.5,\n",
       "        80.6,  80.7,  80.8,  80.9,  81. ,  81.1,  81.2,  81.3,  81.4,\n",
       "        81.5,  81.6,  81.7,  81.8,  81.9,  82. ,  82.1,  82.2,  82.3,\n",
       "        82.4,  82.5,  82.6,  82.7,  82.8,  82.9,  83. ,  83.1,  83.2,\n",
       "        83.3,  83.4,  83.5,  83.6,  83.7,  83.8,  83.9,  84. ,  84.1,\n",
       "        84.2,  84.3,  84.4,  84.5,  84.6,  84.7,  84.8,  84.9,  85. ,\n",
       "        85.1,  85.2,  85.3,  85.4,  85.5,  85.6,  85.7,  85.8,  85.9,\n",
       "        86. ,  86.1,  86.2,  86.3,  86.4,  86.5,  86.6,  86.7,  86.8,\n",
       "        86.9,  87. ,  87.1,  87.2,  87.3,  87.4,  87.5,  87.6,  87.7,\n",
       "        87.8,  87.9,  88. ,  88.1,  88.2,  88.3,  88.4,  88.5,  88.6,\n",
       "        88.7,  88.8,  88.9,  89. ,  89.1,  89.2,  89.3,  89.4,  89.5,\n",
       "        89.6,  89.7,  89.8,  89.9,  90. ,  90.1,  90.2,  90.3,  90.4,\n",
       "        90.5,  90.6,  90.7,  90.8,  90.9,  91. ,  91.1,  91.2,  91.3,\n",
       "        91.4,  91.5,  91.6,  91.7,  91.8,  91.9,  92. ,  92.1,  92.2,\n",
       "        92.3,  92.4,  92.5,  92.6,  92.7,  92.8,  92.9,  93. ,  93.1,\n",
       "        93.2,  93.3,  93.4,  93.5,  93.6,  93.7,  93.8,  93.9,  94. ,\n",
       "        94.1,  94.2,  94.3,  94.4,  94.5,  94.6,  94.7,  94.8,  94.9,\n",
       "        95. ,  95.1,  95.2,  95.3,  95.4,  95.5,  95.6,  95.7,  95.8,\n",
       "        95.9,  96. ,  96.1,  96.2,  96.3,  96.4,  96.5,  96.6,  96.7,\n",
       "        96.8,  96.9,  97. ,  97.1,  97.2,  97.3,  97.4,  97.5,  97.6,\n",
       "        97.7,  97.8,  97.9,  98. ,  98.1,  98.2,  98.3,  98.4,  98.5,\n",
       "        98.6,  98.7,  98.8,  98.9,  99. ,  99.1,  99.2,  99.3,  99.4,\n",
       "        99.5,  99.6,  99.7,  99.8,  99.9, 100. ])"
      ]
     },
     "execution_count": 80,
     "metadata": {},
     "output_type": "execute_result"
    }
   ],
   "source": [
    "np.arange(step=0.1, start=50, stop=100+0.1)"
   ]
  },
  {
   "cell_type": "code",
   "execution_count": 82,
   "metadata": {},
   "outputs": [
    {
     "data": {
      "text/plain": [
       "array([  0.        ,   2.04081633,   4.08163265,   6.12244898,\n",
       "         8.16326531,  10.20408163,  12.24489796,  14.28571429,\n",
       "        16.32653061,  18.36734694,  20.40816327,  22.44897959,\n",
       "        24.48979592,  26.53061224,  28.57142857,  30.6122449 ,\n",
       "        32.65306122,  34.69387755,  36.73469388,  38.7755102 ,\n",
       "        40.81632653,  42.85714286,  44.89795918,  46.93877551,\n",
       "        48.97959184,  51.02040816,  53.06122449,  55.10204082,\n",
       "        57.14285714,  59.18367347,  61.2244898 ,  63.26530612,\n",
       "        65.30612245,  67.34693878,  69.3877551 ,  71.42857143,\n",
       "        73.46938776,  75.51020408,  77.55102041,  79.59183673,\n",
       "        81.63265306,  83.67346939,  85.71428571,  87.75510204,\n",
       "        89.79591837,  91.83673469,  93.87755102,  95.91836735,\n",
       "        97.95918367, 100.        ])"
      ]
     },
     "execution_count": 82,
     "metadata": {},
     "output_type": "execute_result"
    }
   ],
   "source": [
    "np.linspace(0, 10, 11)\n",
    "\n",
    "np.linspace(0,100)"
   ]
  },
  {
   "cell_type": "markdown",
   "metadata": {},
   "source": [
    "### problem set"
   ]
  },
  {
   "cell_type": "code",
   "execution_count": 85,
   "metadata": {},
   "outputs": [
    {
     "name": "stdout",
     "output_type": "stream",
     "text": [
      "86\n"
     ]
    }
   ],
   "source": [
    "# max, min, sum, mean, median, std\n",
    "\n",
    "my_array = np.array([22, 10, 1, 20, 30, 2, 1])\n",
    "\n",
    "result = np.sum(my_array)\n",
    "\n",
    "print(result)"
   ]
  },
  {
   "cell_type": "code",
   "execution_count": 90,
   "metadata": {},
   "outputs": [
    {
     "name": "stdout",
     "output_type": "stream",
     "text": [
      "10.911517973673321\n"
     ]
    }
   ],
   "source": [
    "print( np.std(my_array) )"
   ]
  },
  {
   "cell_type": "code",
   "execution_count": 94,
   "metadata": {},
   "outputs": [
    {
     "name": "stdout",
     "output_type": "stream",
     "text": [
      "[ True  True  True  True]\n",
      "True\n",
      "True\n",
      "True\n"
     ]
    }
   ],
   "source": [
    "# any, all\n",
    "\n",
    "my_array = np.array([10, 11, 12, 13])\n",
    "\n",
    "result = my_array > 5\n",
    "\n",
    "print(result)\n",
    "\n",
    "# a manual approach\n",
    "are_they_all_true = np.sum(result) == len(my_array)\n",
    "print(are_they_all_true)\n",
    "\n",
    "# the easier way\n",
    "are_they_all_true = np.all(result)\n",
    "print(are_they_all_true)\n",
    "\n",
    "# in summary:\n",
    "# if we want to know whether all values are greater than 5:\n",
    "print( np.all(my_array>5) )"
   ]
  },
  {
   "cell_type": "code",
   "execution_count": 96,
   "metadata": {},
   "outputs": [
    {
     "name": "stdout",
     "output_type": "stream",
     "text": [
      "Are any values greater than 10: True\n",
      "Are any values less than 10: False\n"
     ]
    }
   ],
   "source": [
    "my_array = np.array([10, 11, 12, 13])\n",
    "\n",
    "print('Are any values greater than 10:', np.any(my_array > 10))\n",
    "print('Are any values less than 10:', np.any(my_array < 10))"
   ]
  },
  {
   "cell_type": "code",
   "execution_count": 97,
   "metadata": {},
   "outputs": [
    {
     "data": {
      "text/plain": [
       "array([10, 20, 30])"
      ]
     },
     "execution_count": 97,
     "metadata": {},
     "output_type": "execute_result"
    }
   ],
   "source": [
    "# unique\n",
    "\n",
    "arr = np.array([10, 10, 10, 20, 20, 20, 30, 30, 30])\n",
    "\n",
    "np.unique(arr)"
   ]
  },
  {
   "cell_type": "code",
   "execution_count": 98,
   "metadata": {},
   "outputs": [
    {
     "data": {
      "text/plain": [
       "array([1., 2., 3., 3., 4.])"
      ]
     },
     "execution_count": 98,
     "metadata": {},
     "output_type": "execute_result"
    }
   ],
   "source": [
    "# abs, log, round, sort\n",
    "\n",
    "my_array = np.array([1.2, 2.2, 3.4, 3.2, 4.5])\n",
    "\n",
    "np.round(my_array)"
   ]
  },
  {
   "cell_type": "code",
   "execution_count": 99,
   "metadata": {},
   "outputs": [
    {
     "name": "stdout",
     "output_type": "stream",
     "text": [
      "[inf inf inf inf inf inf inf inf inf inf inf inf inf inf inf inf inf inf\n",
      " inf inf inf inf inf inf inf inf inf inf inf inf inf inf inf inf inf inf\n",
      " inf inf inf inf inf inf inf inf inf inf inf inf inf inf inf inf inf inf\n",
      " inf inf inf inf inf inf inf inf inf inf inf inf inf inf inf inf inf inf\n",
      " inf inf inf inf inf inf inf inf inf inf inf inf inf inf inf inf inf inf\n",
      " inf inf inf inf inf inf inf inf inf inf inf inf inf inf inf inf inf inf\n",
      " inf inf inf inf inf inf inf inf inf inf inf inf inf inf inf inf inf inf\n",
      " inf inf inf inf inf inf inf inf inf inf inf inf inf inf inf inf inf inf\n",
      " inf inf inf inf inf inf inf inf inf inf inf inf inf inf inf inf inf inf\n",
      " inf inf inf inf inf inf inf inf inf inf inf inf inf inf inf inf inf inf\n",
      " inf inf inf inf inf inf inf inf inf inf inf inf inf inf inf inf inf inf\n",
      " inf inf]\n"
     ]
    },
    {
     "name": "stderr",
     "output_type": "stream",
     "text": [
      "/Users/ben/anaconda/lib/python3.6/site-packages/ipykernel_launcher.py:5: RuntimeWarning: divide by zero encountered in true_divide\n",
      "  \"\"\"\n"
     ]
    }
   ],
   "source": [
    "# divide by zero\n",
    "\n",
    "my_array = np.arange(10, 50, .2)\n",
    "\n",
    "print( my_array / 0 )"
   ]
  },
  {
   "cell_type": "code",
   "execution_count": 102,
   "metadata": {},
   "outputs": [
    {
     "name": "stdout",
     "output_type": "stream",
     "text": [
      "The largest value is 50\n",
      "The index of the largest value is 3\n"
     ]
    }
   ],
   "source": [
    "my_array = np.array([1, 2, 3, 50, 6, 7])\n",
    "\n",
    "# what is the largest value?\n",
    "# at which index in the array is that largest value?\n",
    "\n",
    "largest_value = np.max(my_array)\n",
    "print('The largest value is', largest_value)\n",
    "\n",
    "index_of_largest_value = np.argmax(my_array)\n",
    "print('The index of the largest value is', index_of_largest_value)\n"
   ]
  },
  {
   "cell_type": "code",
   "execution_count": null,
   "metadata": {
    "collapsed": true
   },
   "outputs": [],
   "source": [
    "np.argmax"
   ]
  },
  {
   "cell_type": "code",
   "execution_count": 15,
   "metadata": {
    "collapsed": true
   },
   "outputs": [],
   "source": [
    "# (use google to discover a function related to max/min)"
   ]
  },
  {
   "cell_type": "markdown",
   "metadata": {},
   "source": [
    "### problem set"
   ]
  },
  {
   "cell_type": "code",
   "execution_count": 120,
   "metadata": {},
   "outputs": [
    {
     "name": "stdout",
     "output_type": "stream",
     "text": [
      "[1, 2, 3]\n"
     ]
    }
   ],
   "source": [
    "# 2d array\n",
    "\n",
    "my_list = [[1,2,3], [4,5,6], [7,8,9]]\n",
    "\n",
    "\n",
    "print(my_list[0])\n",
    "\n",
    "# shape"
   ]
  },
  {
   "cell_type": "code",
   "execution_count": 133,
   "metadata": {},
   "outputs": [
    {
     "name": "stdout",
     "output_type": "stream",
     "text": [
      "[1, 2, 3]\n"
     ]
    }
   ],
   "source": [
    "my_list = [\n",
    "            [1,2,3], # row0 \n",
    "            [4,5,6], # row1\n",
    "            [7,8,9],  # row2\n",
    "            [10,11,12]  # row3\n",
    "          ]\n",
    "\n",
    "print(my_list[0])"
   ]
  },
  {
   "cell_type": "code",
   "execution_count": 134,
   "metadata": {},
   "outputs": [
    {
     "name": "stdout",
     "output_type": "stream",
     "text": [
      "[[ 1  2  3]\n",
      " [ 4  5  6]\n",
      " [ 7  8  9]\n",
      " [10 11 12]]\n"
     ]
    }
   ],
   "source": [
    "my_2d_array = np.array(my_list)\n",
    "\n",
    "print(my_2d_array)"
   ]
  },
  {
   "cell_type": "code",
   "execution_count": 135,
   "metadata": {},
   "outputs": [
    {
     "name": "stdout",
     "output_type": "stream",
     "text": [
      "[4 5 6]\n"
     ]
    }
   ],
   "source": [
    "print(my_2d_array[1])"
   ]
  },
  {
   "cell_type": "code",
   "execution_count": 136,
   "metadata": {},
   "outputs": [
    {
     "name": "stdout",
     "output_type": "stream",
     "text": [
      "(4, 3)\n"
     ]
    }
   ],
   "source": [
    "print( my_2d_array.shape )\n",
    "\n",
    "# both correct:\n",
    "# (number of lists, size of lists)\n",
    "# (rows, columns)"
   ]
  },
  {
   "cell_type": "code",
   "execution_count": 139,
   "metadata": {},
   "outputs": [
    {
     "data": {
      "text/plain": [
       "array([10, 11, 12])"
      ]
     },
     "execution_count": 139,
     "metadata": {},
     "output_type": "execute_result"
    }
   ],
   "source": [
    "my_2d_array[3]\n",
    "my_2d_array[-1]"
   ]
  },
  {
   "cell_type": "code",
   "execution_count": 140,
   "metadata": {},
   "outputs": [
    {
     "name": "stdout",
     "output_type": "stream",
     "text": [
      "[[ 1  2  3]\n",
      " [ 4  5  6]\n",
      " [ 7  8  9]\n",
      " [10 11 12]]\n"
     ]
    }
   ],
   "source": [
    "print(my_2d_array)"
   ]
  },
  {
   "cell_type": "code",
   "execution_count": 144,
   "metadata": {},
   "outputs": [
    {
     "name": "stdout",
     "output_type": "stream",
     "text": [
      "[4 5 6]\n",
      "5\n"
     ]
    }
   ],
   "source": [
    "row1 = my_2d_array[1]\n",
    "print(row1)\n",
    "\n",
    "item1 = row1[1]\n",
    "print(item1)\n",
    "\n",
    "item = my_2d_array[1][1]"
   ]
  },
  {
   "cell_type": "code",
   "execution_count": 146,
   "metadata": {},
   "outputs": [
    {
     "data": {
      "text/plain": [
       "5"
      ]
     },
     "execution_count": 146,
     "metadata": {},
     "output_type": "execute_result"
    }
   ],
   "source": [
    "my_2d_array[1,1] # [row_index, column_index]"
   ]
  },
  {
   "cell_type": "code",
   "execution_count": 147,
   "metadata": {},
   "outputs": [
    {
     "name": "stdout",
     "output_type": "stream",
     "text": [
      "[[ 1  2  3]\n",
      " [ 4  5  6]\n",
      " [ 7  8  9]\n",
      " [10 11 12]]\n"
     ]
    }
   ],
   "source": [
    "print(my_2d_array)"
   ]
  },
  {
   "cell_type": "code",
   "execution_count": 148,
   "metadata": {},
   "outputs": [
    {
     "data": {
      "text/plain": [
       "9"
      ]
     },
     "execution_count": 148,
     "metadata": {},
     "output_type": "execute_result"
    }
   ],
   "source": [
    "my_2d_array[2,2]"
   ]
  },
  {
   "cell_type": "code",
   "execution_count": 149,
   "metadata": {},
   "outputs": [
    {
     "data": {
      "text/plain": [
       "11"
      ]
     },
     "execution_count": 149,
     "metadata": {},
     "output_type": "execute_result"
    }
   ],
   "source": [
    "my_2d_array[3,1]"
   ]
  },
  {
   "cell_type": "code",
   "execution_count": 150,
   "metadata": {},
   "outputs": [
    {
     "ename": "IndexError",
     "evalue": "too many indices for array",
     "output_type": "error",
     "traceback": [
      "\u001b[0;31m---------------------------------------------------------------------------\u001b[0m",
      "\u001b[0;31mIndexError\u001b[0m                                Traceback (most recent call last)",
      "\u001b[0;32m<ipython-input-150-c2db593803af>\u001b[0m in \u001b[0;36m<module>\u001b[0;34m()\u001b[0m\n\u001b[1;32m      1\u001b[0m \u001b[0mmy_array\u001b[0m \u001b[0;34m=\u001b[0m \u001b[0mnp\u001b[0m\u001b[0;34m.\u001b[0m\u001b[0marray\u001b[0m\u001b[0;34m(\u001b[0m\u001b[0;34m[\u001b[0m\u001b[0;36m1\u001b[0m\u001b[0;34m,\u001b[0m\u001b[0;36m2\u001b[0m\u001b[0;34m,\u001b[0m\u001b[0;36m3\u001b[0m\u001b[0;34m,\u001b[0m\u001b[0;36m4\u001b[0m\u001b[0;34m,\u001b[0m\u001b[0;36m5\u001b[0m\u001b[0;34m]\u001b[0m\u001b[0;34m)\u001b[0m\u001b[0;34m\u001b[0m\u001b[0m\n\u001b[1;32m      2\u001b[0m \u001b[0;34m\u001b[0m\u001b[0m\n\u001b[0;32m----> 3\u001b[0;31m \u001b[0mmy_array\u001b[0m\u001b[0;34m[\u001b[0m\u001b[0;36m0\u001b[0m\u001b[0;34m,\u001b[0m\u001b[0;36m2\u001b[0m\u001b[0;34m]\u001b[0m\u001b[0;34m\u001b[0m\u001b[0m\n\u001b[0m",
      "\u001b[0;31mIndexError\u001b[0m: too many indices for array"
     ]
    }
   ],
   "source": [
    "my_array = np.array([1,2,3,4,5])\n",
    "\n",
    "my_array[0,2]"
   ]
  },
  {
   "cell_type": "code",
   "execution_count": 7,
   "metadata": {
    "collapsed": true
   },
   "outputs": [],
   "source": [
    "# indexing an ndarray"
   ]
  },
  {
   "cell_type": "code",
   "execution_count": 151,
   "metadata": {},
   "outputs": [
    {
     "name": "stdout",
     "output_type": "stream",
     "text": [
      "[[ 1  2  3]\n",
      " [ 4  5  6]\n",
      " [ 7  8  9]\n",
      " [10 11 12]]\n"
     ]
    }
   ],
   "source": [
    "print(my_2d_array)"
   ]
  },
  {
   "cell_type": "code",
   "execution_count": 154,
   "metadata": {},
   "outputs": [
    {
     "data": {
      "text/plain": [
       "array([5, 6, 7])"
      ]
     },
     "execution_count": 154,
     "metadata": {},
     "output_type": "execute_result"
    }
   ],
   "source": [
    "np.append( my_2d_array[1, 1:], my_2d_array[2,0] )"
   ]
  },
  {
   "cell_type": "code",
   "execution_count": 156,
   "metadata": {},
   "outputs": [
    {
     "name": "stdout",
     "output_type": "stream",
     "text": [
      "[[ 1  2  3  4  5]\n",
      " [ 6  7  8  9 10]\n",
      " [11 12 13 14 15]\n",
      " [16 17 18 19 20]]\n"
     ]
    }
   ],
   "source": [
    "my_2d_array = np.array([\n",
    "                        [1,2,3,4,5],\n",
    "                        [6,7,8,9,10,],\n",
    "                        [11,12,13,14,15],\n",
    "                        [16,17,18,19,20]\n",
    "                        ])\n",
    "\n",
    "print(my_2d_array)"
   ]
  },
  {
   "cell_type": "code",
   "execution_count": 158,
   "metadata": {},
   "outputs": [
    {
     "data": {
      "text/plain": [
       "array([7, 8, 9])"
      ]
     },
     "execution_count": 158,
     "metadata": {},
     "output_type": "execute_result"
    }
   ],
   "source": [
    "my_2d_array[1, 1:4]"
   ]
  },
  {
   "cell_type": "code",
   "execution_count": 160,
   "metadata": {},
   "outputs": [
    {
     "data": {
      "text/plain": [
       "array([ 9, 14, 19])"
      ]
     },
     "execution_count": 160,
     "metadata": {},
     "output_type": "execute_result"
    }
   ],
   "source": [
    "my_2d_array[1:4, 3]\n",
    "\n",
    "[indexing_the_rows, indexing_the_columns]"
   ]
  },
  {
   "cell_type": "code",
   "execution_count": 163,
   "metadata": {},
   "outputs": [
    {
     "name": "stdout",
     "output_type": "stream",
     "text": [
      "[ 9 14 19]\n"
     ]
    }
   ],
   "source": [
    "first_row = 1\n",
    "last_row = 3\n",
    "column = 3\n",
    "\n",
    "my_new_data = my_2d_array[first_row:last_row+1, column]\n",
    "\n",
    "print(my_new_data)"
   ]
  },
  {
   "cell_type": "code",
   "execution_count": 164,
   "metadata": {},
   "outputs": [
    {
     "name": "stdout",
     "output_type": "stream",
     "text": [
      "[[ 1  2  3  4  5]\n",
      " [ 6  7  8  9 10]\n",
      " [11 12 13 14 15]\n",
      " [16 17 18 19 20]]\n"
     ]
    }
   ],
   "source": [
    "print(my_2d_array)"
   ]
  },
  {
   "cell_type": "code",
   "execution_count": 165,
   "metadata": {},
   "outputs": [
    {
     "ename": "IndexError",
     "evalue": "index 11 is out of bounds for axis 1 with size 5",
     "output_type": "error",
     "traceback": [
      "\u001b[0;31m---------------------------------------------------------------------------\u001b[0m",
      "\u001b[0;31mIndexError\u001b[0m                                Traceback (most recent call last)",
      "\u001b[0;32m<ipython-input-165-08778c0481ab>\u001b[0m in \u001b[0;36m<module>\u001b[0;34m()\u001b[0m\n\u001b[0;32m----> 1\u001b[0;31m \u001b[0mmy_2d_array\u001b[0m\u001b[0;34m[\u001b[0m\u001b[0;36m2\u001b[0m\u001b[0;34m,\u001b[0m \u001b[0;36m11\u001b[0m\u001b[0;34m]\u001b[0m\u001b[0;34m\u001b[0m\u001b[0m\n\u001b[0m",
      "\u001b[0;31mIndexError\u001b[0m: index 11 is out of bounds for axis 1 with size 5"
     ]
    }
   ],
   "source": [
    "my_2d_array[2, 11] "
   ]
  },
  {
   "cell_type": "code",
   "execution_count": 8,
   "metadata": {
    "collapsed": true
   },
   "outputs": [],
   "source": [
    "# axis"
   ]
  },
  {
   "cell_type": "markdown",
   "metadata": {},
   "source": [
    "### problem set\n"
   ]
  },
  {
   "cell_type": "code",
   "execution_count": 103,
   "metadata": {
    "collapsed": true
   },
   "outputs": [],
   "source": [
    "# integer vs logical indexing\n",
    "# (by example, not explanation)"
   ]
  },
  {
   "cell_type": "code",
   "execution_count": null,
   "metadata": {
    "collapsed": true
   },
   "outputs": [],
   "source": [
    "# possibly: [arg]where"
   ]
  },
  {
   "cell_type": "code",
   "execution_count": 108,
   "metadata": {},
   "outputs": [
    {
     "name": "stdout",
     "output_type": "stream",
     "text": [
      "[False False False  True  True False  True  True False]\n",
      "[3, 4, 6, 7]\n"
     ]
    }
   ],
   "source": [
    "my_array = np.array([10, 6, 2, 11, 22, 5, 30, 15, 10])\n",
    "\n",
    "is_greater_than_10 = my_array > 10\n",
    "\n",
    "print(is_greater_than_10)\n",
    "\n",
    "# what are all the indices of the values greater than 10?\n",
    "# correct answer: 3, 4, 6, 7\n",
    "\n",
    "i = 0\n",
    "array_greater_than_10 = []\n",
    "while i < len(my_array):\n",
    "    if my_array[i] > 10:\n",
    "        array_greater_than_10 = array_greater_than_10 + [i]\n",
    "    i = i+1\n",
    "print(array_greater_than_10)\n",
    "\n"
   ]
  },
  {
   "cell_type": "code",
   "execution_count": 114,
   "metadata": {},
   "outputs": [
    {
     "name": "stdout",
     "output_type": "stream",
     "text": [
      "[False False False  True  True False  True  True False]\n",
      "(array([3, 4, 6, 7]),)\n",
      "[3 4 6 7]\n"
     ]
    }
   ],
   "source": [
    "# an easier approach\n",
    "my_array = np.array([10, 6, 2, 11, 22, 5, 30, 15, 10])\n",
    "\n",
    "is_greater_than_10 = my_array > 10\n",
    "print(is_greater_than_10)\n",
    "\n",
    "print( np.where(is_greater_than_10) )\n",
    "\n",
    "indices_where_arr_is_greater_than_10 = np.where(is_greater_than_10)\n",
    "# for reasons we won't go into, take the 0th item of the result\n",
    "print(indices_where_arr_is_greater_than_10[0])\n",
    "\n",
    "# summary of the easy approach:\n",
    "indices_of_interest = np.where(my_array>10)[0]"
   ]
  },
  {
   "cell_type": "markdown",
   "metadata": {},
   "source": [
    "### problem set"
   ]
  },
  {
   "cell_type": "code",
   "execution_count": 168,
   "metadata": {},
   "outputs": [
    {
     "data": {
      "text/plain": [
       "4"
      ]
     },
     "execution_count": 168,
     "metadata": {},
     "output_type": "execute_result"
    }
   ],
   "source": [
    "my_array = np.array([1,2,3,4])\n",
    "\n",
    "np.max(my_array, axis=0)"
   ]
  },
  {
   "cell_type": "code",
   "execution_count": null,
   "metadata": {
    "collapsed": true
   },
   "outputs": [],
   "source": []
  }
 ],
 "metadata": {
  "kernelspec": {
   "display_name": "Python 3",
   "language": "python",
   "name": "python3"
  },
  "language_info": {
   "codemirror_mode": {
    "name": "ipython",
    "version": 3
   },
   "file_extension": ".py",
   "mimetype": "text/x-python",
   "name": "python",
   "nbconvert_exporter": "python",
   "pygments_lexer": "ipython3",
   "version": "3.6.2"
  }
 },
 "nbformat": 4,
 "nbformat_minor": 2
}
