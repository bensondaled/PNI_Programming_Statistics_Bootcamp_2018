{
 "cells": [
  {
   "cell_type": "markdown",
   "metadata": {},
   "source": [
    "<hr/>\n",
    "### Problem 1"
   ]
  },
  {
   "cell_type": "markdown",
   "metadata": {},
   "source": [
    "__(a)__ Use a `for` loop with a `range` to create a list containing the numbers from 20 to 99."
   ]
  },
  {
   "cell_type": "code",
   "execution_count": null,
   "metadata": {
    "collapsed": true
   },
   "outputs": [],
   "source": []
  },
  {
   "cell_type": "markdown",
   "metadata": {},
   "source": [
    "__(b)__ Convert your list into a numpy array."
   ]
  },
  {
   "cell_type": "code",
   "execution_count": null,
   "metadata": {
    "collapsed": true
   },
   "outputs": [],
   "source": []
  },
  {
   "cell_type": "markdown",
   "metadata": {},
   "source": [
    "__(c)__ Create a new numpy array consisting of only the first ten elements (20-29) of the array."
   ]
  },
  {
   "cell_type": "code",
   "execution_count": null,
   "metadata": {
    "collapsed": true
   },
   "outputs": [],
   "source": []
  },
  {
   "cell_type": "markdown",
   "metadata": {},
   "source": [
    "__(d)__ Create a new __*list*__ consisting of the last 20 items (80-99) in the original array."
   ]
  },
  {
   "cell_type": "code",
   "execution_count": 1,
   "metadata": {
    "collapsed": true
   },
   "outputs": [],
   "source": [
    "# one approach: use a `for` loop and `append`"
   ]
  },
  {
   "cell_type": "markdown",
   "metadata": {},
   "source": [
    "__(e)__ Again consider your array with values from 20-99. \n",
    "\n",
    "Set the __first half__ of the elements in this array to 2 times their old value.\n",
    "\n",
    "For example, the value that was 22 will now be 44."
   ]
  },
  {
   "cell_type": "code",
   "execution_count": 5,
   "metadata": {},
   "outputs": [
    {
     "name": "stdout",
     "output_type": "stream",
     "text": [
      "40\n",
      "42\n",
      "44\n",
      "46\n",
      "48\n",
      "50\n",
      "52\n",
      "54\n",
      "56\n",
      "58\n",
      "60\n",
      "62\n",
      "64\n",
      "66\n",
      "68\n",
      "70\n",
      "72\n",
      "74\n",
      "76\n",
      "78\n",
      "80\n",
      "82\n",
      "84\n",
      "86\n",
      "88\n",
      "90\n",
      "92\n",
      "94\n",
      "96\n",
      "98\n",
      "100\n",
      "102\n",
      "104\n",
      "106\n",
      "108\n",
      "110\n",
      "112\n",
      "114\n",
      "116\n",
      "118\n",
      "[20 21 22 23 24 25 26 27 28 29 30 31 32 33 34 35 36 37 38 39 40 41 42 43\n",
      " 44 45 46 47 48 49 50 51 52 53 54 55 56 57 58 59 60 61 62 63 64 65 66 67\n",
      " 68 69 70 71 72 73 74 75 76 77 78 79 80 81 82 83 84 85 86 87 88 89 90 91\n",
      " 92 93 94 95 96 97 98 99]\n"
     ]
    }
   ],
   "source": [
    "# review this one\n",
    "\n",
    "my_list = []\n",
    "for i in range(20,100):\n",
    "    my_list.append(i)\n",
    "\n",
    "my_array = np.array(my_list)\n",
    "\n",
    "for y in my_array[0:40]:\n",
    "    z = y*2\n",
    "    print(z)\n",
    "\n",
    "print(my_array)"
   ]
  },
  {
   "cell_type": "code",
   "execution_count": 6,
   "metadata": {
    "collapsed": true
   },
   "outputs": [],
   "source": [
    "# an approach using only our old knowledge\n",
    "\n",
    "for i in range(40):\n",
    "    old = my_array[i]\n",
    "    new = old * 2\n",
    "    my_array[i] = new\n",
    "    "
   ]
  },
  {
   "cell_type": "markdown",
   "metadata": {},
   "source": [
    "__(f - bonus)__ If it doesn't already, ensure your solution to __e__ works for an array with a different number of elements."
   ]
  },
  {
   "cell_type": "code",
   "execution_count": null,
   "metadata": {
    "collapsed": true
   },
   "outputs": [],
   "source": []
  },
  {
   "cell_type": "markdown",
   "metadata": {},
   "source": [
    "<hr/>\n",
    "### Problem 2"
   ]
  },
  {
   "cell_type": "markdown",
   "metadata": {},
   "source": [
    "__(a)__ Create a new array consisting of the numbers 0 through 10 in steps of __*0.1*__."
   ]
  },
  {
   "cell_type": "code",
   "execution_count": 18,
   "metadata": {},
   "outputs": [
    {
     "data": {
      "text/plain": [
       "array([0. , 0.1, 0.2, 0.3, 0.4, 0.5, 0.6, 0.7, 0.8, 0.9, 1. , 1.1, 1.2,\n",
       "       1.3, 1.4, 1.5, 1.6, 1.7, 1.8, 1.9, 2. , 2.1, 2.2, 2.3, 2.4, 2.5,\n",
       "       2.6, 2.7, 2.8, 2.9, 3. , 3.1, 3.2, 3.3, 3.4, 3.5, 3.6, 3.7, 3.8,\n",
       "       3.9, 4. , 4.1, 4.2, 4.3, 4.4, 4.5, 4.6, 4.7, 4.8, 4.9, 5. , 5.1,\n",
       "       5.2, 5.3, 5.4, 5.5, 5.6, 5.7, 5.8, 5.9, 6. , 6.1, 6.2, 6.3, 6.4,\n",
       "       6.5, 6.6, 6.7, 6.8, 6.9, 7. , 7.1, 7.2, 7.3, 7.4, 7.5, 7.6, 7.7,\n",
       "       7.8, 7.9, 8. , 8.1, 8.2, 8.3, 8.4, 8.5, 8.6, 8.7, 8.8, 8.9, 9. ,\n",
       "       9.1, 9.2, 9.3, 9.4, 9.5, 9.6, 9.7, 9.8, 9.9])"
      ]
     },
     "execution_count": 18,
     "metadata": {},
     "output_type": "execute_result"
    }
   ],
   "source": [
    "arr = np.arange(0,10,0.1)\n",
    "\n",
    "arr"
   ]
  },
  {
   "cell_type": "markdown",
   "metadata": {},
   "source": [
    "__(b)__ Create a new array consisting of the square of every element in your array. For example, 3.0 becomes 9.0."
   ]
  },
  {
   "cell_type": "code",
   "execution_count": 9,
   "metadata": {
    "collapsed": true
   },
   "outputs": [],
   "source": [
    "arr2 = arr**2"
   ]
  },
  {
   "cell_type": "markdown",
   "metadata": {},
   "source": [
    "__(c)__ Determine how many values in your array are above 6.35. Store the result in a new variable and print it out."
   ]
  },
  {
   "cell_type": "code",
   "execution_count": 12,
   "metadata": {},
   "outputs": [
    {
     "name": "stdout",
     "output_type": "stream",
     "text": [
      "74\n"
     ]
    }
   ],
   "source": [
    "# review this one\n",
    "num_values = []\n",
    "for i in arr2:\n",
    "    if i > 6.35:\n",
    "        num_values.append(i)\n",
    "print(len(num_values))"
   ]
  },
  {
   "cell_type": "code",
   "execution_count": 16,
   "metadata": {},
   "outputs": [
    {
     "name": "stdout",
     "output_type": "stream",
     "text": [
      "74\n"
     ]
    }
   ],
   "source": [
    "result = arr2 > 6.35\n",
    "\n",
    "result = np.sum(arr2 > 6.35)\n",
    "\n",
    "print(result)\n",
    "\n"
   ]
  },
  {
   "cell_type": "markdown",
   "metadata": {},
   "source": [
    "__(d)__ Determine all the values in your original array whose squared value is greater than the original. Store these values in a new array and print it out."
   ]
  },
  {
   "cell_type": "code",
   "execution_count": null,
   "metadata": {
    "collapsed": true
   },
   "outputs": [],
   "source": []
  },
  {
   "cell_type": "markdown",
   "metadata": {},
   "source": [
    "__(e - bonus)__ What fraction of the values satisfied the criteria in __d__? In other words, what fraction of the numbers from 0 to 10 in steps of 0.1 are smaller than their square?"
   ]
  },
  {
   "cell_type": "code",
   "execution_count": null,
   "metadata": {
    "collapsed": true
   },
   "outputs": [],
   "source": []
  },
  {
   "cell_type": "markdown",
   "metadata": {},
   "source": [
    "<hr/>\n",
    "### Problem 3"
   ]
  },
  {
   "cell_type": "markdown",
   "metadata": {},
   "source": [
    "This code loads a numpy array from a data file. It contains the volume in milliliters of various samples found in the laboratory. "
   ]
  },
  {
   "cell_type": "code",
   "execution_count": 19,
   "metadata": {
    "collapsed": true
   },
   "outputs": [],
   "source": [
    "volumes = np.load('volumes.npy')"
   ]
  },
  {
   "cell_type": "markdown",
   "metadata": {},
   "source": [
    "__(a)__ How many samples do you have?"
   ]
  },
  {
   "cell_type": "code",
   "execution_count": null,
   "metadata": {
    "collapsed": true
   },
   "outputs": [],
   "source": []
  },
  {
   "cell_type": "markdown",
   "metadata": {},
   "source": [
    "__(b)__ What is the average volume of your samples?"
   ]
  },
  {
   "cell_type": "code",
   "execution_count": null,
   "metadata": {
    "collapsed": true
   },
   "outputs": [],
   "source": []
  },
  {
   "cell_type": "markdown",
   "metadata": {},
   "source": [
    "__(c)__ What are the volumes of the smallest and largest sample?"
   ]
  },
  {
   "cell_type": "code",
   "execution_count": null,
   "metadata": {
    "collapsed": true
   },
   "outputs": [],
   "source": []
  },
  {
   "cell_type": "markdown",
   "metadata": {},
   "source": [
    "__(d)__ You want to determine whether you can transfer each of your samples completely into its own new 5-mL tube without the 5-mL tube overflowing.\n",
    "\n",
    "Print out a single statement indicating whether or not you can do this. \n",
    "\n",
    "If they are, print `\"We can transfer all the samples.\"` Otherwise print `\"We cannot transfer all the samples.\"`"
   ]
  },
  {
   "cell_type": "code",
   "execution_count": null,
   "metadata": {
    "collapsed": true
   },
   "outputs": [],
   "source": []
  },
  {
   "cell_type": "markdown",
   "metadata": {},
   "source": [
    "__*CORRECTION*__ tube_sizes --> tubes\n",
    "\n",
    "__(e)__ Load in a second array of the tube sizes that currently contain our samples. The tube size data are stored in a file called `'tubes.npy'` ."
   ]
  },
  {
   "cell_type": "code",
   "execution_count": 20,
   "metadata": {
    "collapsed": true
   },
   "outputs": [],
   "source": [
    "tubes = np.load('tubes.npy')"
   ]
  },
  {
   "cell_type": "markdown",
   "metadata": {},
   "source": [
    "__(f)__ Are all the tubes the same size? Print out your answer."
   ]
  },
  {
   "cell_type": "code",
   "execution_count": null,
   "metadata": {
    "collapsed": true
   },
   "outputs": [],
   "source": []
  },
  {
   "cell_type": "markdown",
   "metadata": {},
   "source": [
    "__(g)__ If they are all the same size, print the size. If they are not all the same size, print out the number of distinct tube sizes in our collection."
   ]
  },
  {
   "cell_type": "code",
   "execution_count": null,
   "metadata": {
    "collapsed": true
   },
   "outputs": [],
   "source": []
  },
  {
   "cell_type": "markdown",
   "metadata": {},
   "source": [
    "__(h)__ Load in a third array from the file `'volumes_to_add.npy'`. \n",
    "\n",
    "This array consists of volumes of a chemical we want to add to the current tubes (which contain the volumes loaded above). For instance, the first item in this array is the volume we want to add to the first tube. "
   ]
  },
  {
   "cell_type": "code",
   "execution_count": 21,
   "metadata": {
    "collapsed": true
   },
   "outputs": [],
   "source": [
    "volumes_to_add = np.load('volumes_to_add.npy')"
   ]
  },
  {
   "cell_type": "markdown",
   "metadata": {},
   "source": [
    "__(i)__ Determine whether any tubes will overflow if we add the desired volume."
   ]
  },
  {
   "cell_type": "code",
   "execution_count": 25,
   "metadata": {},
   "outputs": [
    {
     "name": "stdout",
     "output_type": "stream",
     "text": [
      "[False False  True False False False False  True  True False  True False\n",
      "  True False False False  True False  True False False  True False  True\n",
      " False  True  True  True False False False  True False False  True False\n",
      " False False  True False False False  True  True  True False False False\n",
      " False  True]\n"
     ]
    }
   ],
   "source": [
    "new_total_volumes = volumes_to_add + volumes\n",
    "\n",
    "did_overflow = new_total_volumes > tubes\n",
    "\n",
    "print(did_overflow)"
   ]
  },
  {
   "cell_type": "markdown",
   "metadata": {},
   "source": [
    "__(j)__  If any tubes will overflow, determine the total amount of overflow fluid after transferring all chemicals into their tubes."
   ]
  },
  {
   "cell_type": "code",
   "execution_count": 26,
   "metadata": {},
   "outputs": [
    {
     "data": {
      "text/plain": [
       "array([ 2.  ,  2.55, 10.95,  8.1 ,  2.4 ,  4.75,  4.45,  6.05,  4.85,\n",
       "        2.55,  6.3 ,  3.65,  6.05,  4.35,  7.95,  1.5 ,  3.5 ,  2.  ,\n",
       "        6.2 ,  4.4 ,  4.25,  4.15,  1.15,  3.95,  1.55,  3.4 ,  7.25,\n",
       "        5.25,  3.  ,  0.95,  4.1 ,  4.35,  8.25,  1.9 ,  6.  ,  4.45,\n",
       "        1.65,  3.45,  5.35,  1.45,  2.55,  1.15,  3.15, 10.65,  3.55,\n",
       "        5.8 ,  2.85,  2.4 ,  8.6 ,  4.2 ])"
      ]
     },
     "execution_count": 26,
     "metadata": {},
     "output_type": "execute_result"
    }
   ],
   "source": [
    "new_total_volumes"
   ]
  },
  {
   "cell_type": "code",
   "execution_count": 31,
   "metadata": {},
   "outputs": [
    {
     "name": "stdout",
     "output_type": "stream",
     "text": [
      "[ 0.    0.   10.95  0.    0.    0.    0.    6.05  4.85  0.    6.3   0.\n",
      "  6.05  0.    0.    0.    3.5   0.    6.2   0.    0.    4.15  0.    3.95\n",
      "  0.    3.4   7.25  5.25  0.    0.    0.    4.35  0.    0.    6.    0.\n",
      "  0.    0.    5.35  0.    0.    0.    3.15 10.65  3.55  0.    0.    0.\n",
      "  0.    4.2 ]\n",
      "[ 0  0 10  0  0  0  0  5  3  0  5  0  5  0  0  0  3  0  5  0  0  3  0  3\n",
      "  0  3  5  5  0  0  0  3  0  0  5  0  0  0  5  0  0  0  3 10  3  0  0  0\n",
      "  0  3]\n",
      "[0.   0.   0.95 0.   0.   0.   0.   1.05 1.85 0.   1.3  0.   1.05 0.\n",
      " 0.   0.   0.5  0.   1.2  0.   0.   1.15 0.   0.95 0.   0.4  2.25 0.25\n",
      " 0.   0.   0.   1.35 0.   0.   1.   0.   0.   0.   0.35 0.   0.   0.\n",
      " 0.15 0.65 0.55 0.   0.   0.   0.   1.2 ]\n",
      "18.15000000000002\n"
     ]
    }
   ],
   "source": [
    "volume_of_samples_that_will_overflow = did_overflow * new_total_volumes\n",
    "\n",
    "print(volume_of_samples_that_will_overflow)\n",
    "\n",
    "size_of_overflow_tubes = did_overflow * tubes\n",
    "\n",
    "print(size_of_overflow_tubes)\n",
    "\n",
    "overflow_per_tube = volume_of_samples_that_will_overflow - size_of_overflow_tubes\n",
    "\n",
    "print(overflow_per_tube)\n",
    "\n",
    "print(np.sum(overflow_per_tube))"
   ]
  },
  {
   "cell_type": "code",
   "execution_count": null,
   "metadata": {
    "collapsed": true
   },
   "outputs": [],
   "source": []
  },
  {
   "cell_type": "markdown",
   "metadata": {},
   "source": [
    "<hr/>\n",
    "### Problem 4"
   ]
  },
  {
   "cell_type": "markdown",
   "metadata": {},
   "source": [
    "__(a)__ Create a 2D numpy array with 5 rows and 10 columns. Each row should contain the numbers 0 to 9."
   ]
  },
  {
   "cell_type": "code",
   "execution_count": null,
   "metadata": {
    "collapsed": true
   },
   "outputs": [],
   "source": []
  },
  {
   "cell_type": "markdown",
   "metadata": {},
   "source": [
    "__(b)__ Modify your array so that every other row is reversed, i.e. every other row should now contain the numbers from 9 to 0, while the other rows remain unaffected."
   ]
  },
  {
   "cell_type": "code",
   "execution_count": null,
   "metadata": {
    "collapsed": true
   },
   "outputs": [],
   "source": []
  },
  {
   "cell_type": "markdown",
   "metadata": {},
   "source": [
    "__(c)__ Determine the maximum value found in each column. Print out the resulting array, which should contain one value per column of the original array."
   ]
  },
  {
   "cell_type": "code",
   "execution_count": null,
   "metadata": {
    "collapsed": true
   },
   "outputs": [],
   "source": []
  },
  {
   "cell_type": "markdown",
   "metadata": {},
   "source": [
    "__(d)__ Determine the sum of each row in the original array. Print out the resulting array, which should contain one value per row of the original array."
   ]
  },
  {
   "cell_type": "code",
   "execution_count": null,
   "metadata": {
    "collapsed": true
   },
   "outputs": [],
   "source": []
  },
  {
   "cell_type": "markdown",
   "metadata": {},
   "source": [
    "__(e)__ Create a new 2D array with 10 rows and 10 columns. All the elements in the array should be equal to zero."
   ]
  },
  {
   "cell_type": "code",
   "execution_count": null,
   "metadata": {
    "collapsed": true
   },
   "outputs": [],
   "source": []
  },
  {
   "cell_type": "markdown",
   "metadata": {},
   "source": [
    "__(f)__ Modify your array so that the diagonal elements are all equal to 1.\n",
    "\n",
    "(The first diagonal element is the one in the first row, first column. The second diagonal element is the one in the second row, second column. And so on.)"
   ]
  },
  {
   "cell_type": "code",
   "execution_count": null,
   "metadata": {
    "collapsed": true
   },
   "outputs": [],
   "source": []
  },
  {
   "cell_type": "markdown",
   "metadata": {},
   "source": [
    "<hr/>\n",
    "### Problem 5"
   ]
  },
  {
   "cell_type": "markdown",
   "metadata": {},
   "source": [
    "__(a)__ Load the dataset in the file called `\"songs.npy\"`.\n",
    "\n",
    "These are data collected from an experiment. In each trial, a fly was placed into a chamber for one minute and we recorded the number of songs it sang. It was then taken out, and another trial was repeated. We collected 10 trials per fly.\n",
    "\n",
    "In this array, each row represents one fly.  \n",
    "\n",
    "Each column represents one of the trials, with column 0 being the first, and column 9 being the last.\n",
    "\n",
    "How many flies are in our dataset?"
   ]
  },
  {
   "cell_type": "code",
   "execution_count": null,
   "metadata": {
    "collapsed": true
   },
   "outputs": [],
   "source": []
  },
  {
   "cell_type": "markdown",
   "metadata": {},
   "source": [
    "__(b)__ Calculate a single number: the total number of songs sang by all flies."
   ]
  },
  {
   "cell_type": "code",
   "execution_count": null,
   "metadata": {
    "collapsed": true
   },
   "outputs": [],
   "source": []
  },
  {
   "cell_type": "markdown",
   "metadata": {},
   "source": [
    "__(c)__ Calculate how many total songs each fly sang, and print out an array containing the result."
   ]
  },
  {
   "cell_type": "code",
   "execution_count": null,
   "metadata": {
    "collapsed": true
   },
   "outputs": [],
   "source": []
  },
  {
   "cell_type": "markdown",
   "metadata": {},
   "source": [
    "__(d)__ Calculate the average (across flies) number of songs sang in the 5th trial."
   ]
  },
  {
   "cell_type": "code",
   "execution_count": null,
   "metadata": {
    "collapsed": true
   },
   "outputs": [],
   "source": []
  },
  {
   "cell_type": "markdown",
   "metadata": {},
   "source": [
    "__(e)__ Compute the fraction of flies that sang more than 2 songs in their first trial."
   ]
  },
  {
   "cell_type": "code",
   "execution_count": null,
   "metadata": {
    "collapsed": true
   },
   "outputs": [],
   "source": []
  },
  {
   "cell_type": "markdown",
   "metadata": {},
   "source": [
    "__(f - bonus)__ For each fly, determine the first trial in which it sang more than 10 songs."
   ]
  },
  {
   "cell_type": "code",
   "execution_count": null,
   "metadata": {
    "collapsed": true
   },
   "outputs": [],
   "source": []
  },
  {
   "cell_type": "markdown",
   "metadata": {},
   "source": [
    "<hr/>\n",
    "### Problem 6 (bonus)"
   ]
  },
  {
   "cell_type": "markdown",
   "metadata": {},
   "source": [
    "Write a function that accepts as input a 2d array representing an image. If the image is all black or all white, return `False`. Otherwise, return the average value of the pixels in image.\n",
    "\n",
    "For this question, assume that `0` corresponds to black, `1` corresponds to white, and all values between `0` and `1` are colors or grey levels.\n",
    "\n",
    "You can load the files `black_image.npy`, `white_image.npy`, and `photo.npy` to use for testing."
   ]
  },
  {
   "cell_type": "code",
   "execution_count": null,
   "metadata": {
    "collapsed": true
   },
   "outputs": [],
   "source": []
  }
 ],
 "metadata": {
  "kernelspec": {
   "display_name": "Python 3",
   "language": "python",
   "name": "python3"
  },
  "language_info": {
   "codemirror_mode": {
    "name": "ipython",
    "version": 3
   },
   "file_extension": ".py",
   "mimetype": "text/x-python",
   "name": "python",
   "nbconvert_exporter": "python",
   "pygments_lexer": "ipython3",
   "version": "3.6.2"
  }
 },
 "nbformat": 4,
 "nbformat_minor": 2
}
