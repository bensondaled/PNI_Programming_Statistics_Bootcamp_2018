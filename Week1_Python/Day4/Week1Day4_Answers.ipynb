{
 "cells": [
  {
   "cell_type": "markdown",
   "metadata": {},
   "source": [
    "<hr/>\n",
    "### Problem 1"
   ]
  },
  {
   "cell_type": "markdown",
   "metadata": {},
   "source": [
    "__(a)__ Use a `for` loop with a `range` to create a list containing the numbers from 20 to 99."
   ]
  },
  {
   "cell_type": "code",
   "execution_count": 1,
   "metadata": {
    "collapsed": true
   },
   "outputs": [
    {
     "name": "stdout",
     "output_type": "stream",
     "text": [
      "[20, 21, 22, 23, 24, 25, 26, 27, 28, 29, 30, 31, 32, 33, 34, 35, 36, 37, 38, 39, 40, 41, 42, 43, 44, 45, 46, 47, 48, 49, 50, 51, 52, 53, 54, 55, 56, 57, 58, 59, 60, 61, 62, 63, 64, 65, 66, 67, 68, 69, 70, 71, 72, 73, 74, 75, 76, 77, 78, 79, 80, 81, 82, 83, 84, 85, 86, 87, 88, 89, 90, 91, 92, 93, 94, 95, 96, 97, 98, 99]\n"
     ]
    }
   ],
   "source": [
    "results = []\n",
    "\n",
    "for i in range(20, 100):\n",
    "    results.append(i)\n",
    "    \n",
    "print(results)"
   ]
  },
  {
   "cell_type": "markdown",
   "metadata": {},
   "source": [
    "__(b)__ Convert your list into a numpy array."
   ]
  },
  {
   "cell_type": "code",
   "execution_count": 2,
   "metadata": {},
   "outputs": [],
   "source": [
    "import numpy as np"
   ]
  },
  {
   "cell_type": "code",
   "execution_count": 3,
   "metadata": {
    "collapsed": true
   },
   "outputs": [
    {
     "name": "stdout",
     "output_type": "stream",
     "text": [
      "[20 21 22 23 24 25 26 27 28 29 30 31 32 33 34 35 36 37 38 39 40 41 42 43\n",
      " 44 45 46 47 48 49 50 51 52 53 54 55 56 57 58 59 60 61 62 63 64 65 66 67\n",
      " 68 69 70 71 72 73 74 75 76 77 78 79 80 81 82 83 84 85 86 87 88 89 90 91\n",
      " 92 93 94 95 96 97 98 99]\n"
     ]
    }
   ],
   "source": [
    "array = np.array(results)\n",
    "\n",
    "print(array)"
   ]
  },
  {
   "cell_type": "markdown",
   "metadata": {},
   "source": [
    "__(c)__ Create a new numpy array consisting of only the first ten elements (20-29) of the array."
   ]
  },
  {
   "cell_type": "code",
   "execution_count": 4,
   "metadata": {
    "collapsed": true
   },
   "outputs": [
    {
     "name": "stdout",
     "output_type": "stream",
     "text": [
      "[20 21 22 23 24 25 26 27 28 29]\n"
     ]
    }
   ],
   "source": [
    "start = array[:10]\n",
    "\n",
    "print(start)"
   ]
  },
  {
   "cell_type": "markdown",
   "metadata": {},
   "source": [
    "__(d)__ Create a new __*list*__ consisting of the last 20 items (80-99) in the original array."
   ]
  },
  {
   "cell_type": "code",
   "execution_count": 5,
   "metadata": {
    "collapsed": true
   },
   "outputs": [
    {
     "name": "stdout",
     "output_type": "stream",
     "text": [
      "[80 81 82 83 84 85 86 87 88 89 90 91 92 93 94 95 96 97 98 99]\n"
     ]
    }
   ],
   "source": [
    "end = array[-20:]\n",
    "\n",
    "print(end)"
   ]
  },
  {
   "cell_type": "markdown",
   "metadata": {},
   "source": [
    "__(e)__ Again consider your array with values from 0-99. \n",
    "\n",
    "Set the __first half__ of the elements in this array to 2 times their old value.\n",
    "\n",
    "For example, the value that was 2 will now be 4."
   ]
  },
  {
   "cell_type": "code",
   "execution_count": 6,
   "metadata": {
    "collapsed": true
   },
   "outputs": [
    {
     "name": "stdout",
     "output_type": "stream",
     "text": [
      "[ 40  42  44  46  48  50  52  54  56  58  60  62  64  66  68  70  72  74\n",
      "  76  78  80  82  84  86  88  90  92  94  96  98 100 102 104 106 108 110\n",
      " 112 114 116 118  60  61  62  63  64  65  66  67  68  69  70  71  72  73\n",
      "  74  75  76  77  78  79  80  81  82  83  84  85  86  87  88  89  90  91\n",
      "  92  93  94  95  96  97  98  99]\n"
     ]
    }
   ],
   "source": [
    "# copying the previous array\n",
    "array_copy = np.copy(array)\n",
    "# compute the length of the first half, using // to force integer division\n",
    "first_half = len(array_copy) // 2   \n",
    "# setting the first \n",
    "array_copy[:first_half] *= 2\n",
    "print(array_copy)"
   ]
  },
  {
   "cell_type": "markdown",
   "metadata": {},
   "source": [
    "__(f)__ If it doesn't already, ensure your solution to __e__ works for an array with a different number of elements."
   ]
  },
  {
   "cell_type": "code",
   "execution_count": 7,
   "metadata": {
    "collapsed": true
   },
   "outputs": [],
   "source": [
    "# note that the solution above is agnostic to the length"
   ]
  },
  {
   "cell_type": "markdown",
   "metadata": {},
   "source": [
    "<hr/>\n",
    "### Problem 2"
   ]
  },
  {
   "cell_type": "markdown",
   "metadata": {},
   "source": [
    "__(a)__ Create a new array consisting of the numbers 0 through 10 in steps of __*0.1*__."
   ]
  },
  {
   "cell_type": "code",
   "execution_count": 8,
   "metadata": {
    "collapsed": true
   },
   "outputs": [
    {
     "name": "stdout",
     "output_type": "stream",
     "text": [
      "[ 0.   0.1  0.2  0.3  0.4  0.5  0.6  0.7  0.8  0.9  1.   1.1  1.2  1.3\n",
      "  1.4  1.5  1.6  1.7  1.8  1.9  2.   2.1  2.2  2.3  2.4  2.5  2.6  2.7\n",
      "  2.8  2.9  3.   3.1  3.2  3.3  3.4  3.5  3.6  3.7  3.8  3.9  4.   4.1\n",
      "  4.2  4.3  4.4  4.5  4.6  4.7  4.8  4.9  5.   5.1  5.2  5.3  5.4  5.5\n",
      "  5.6  5.7  5.8  5.9  6.   6.1  6.2  6.3  6.4  6.5  6.6  6.7  6.8  6.9\n",
      "  7.   7.1  7.2  7.3  7.4  7.5  7.6  7.7  7.8  7.9  8.   8.1  8.2  8.3\n",
      "  8.4  8.5  8.6  8.7  8.8  8.9  9.   9.1  9.2  9.3  9.4  9.5  9.6  9.7\n",
      "  9.8  9.9 10. ]\n",
      "[ 0.   0.1  0.2  0.3  0.4  0.5  0.6  0.7  0.8  0.9  1.   1.1  1.2  1.3\n",
      "  1.4  1.5  1.6  1.7  1.8  1.9  2.   2.1  2.2  2.3  2.4  2.5  2.6  2.7\n",
      "  2.8  2.9  3.   3.1  3.2  3.3  3.4  3.5  3.6  3.7  3.8  3.9  4.   4.1\n",
      "  4.2  4.3  4.4  4.5  4.6  4.7  4.8  4.9  5.   5.1  5.2  5.3  5.4  5.5\n",
      "  5.6  5.7  5.8  5.9  6.   6.1  6.2  6.3  6.4  6.5  6.6  6.7  6.8  6.9\n",
      "  7.   7.1  7.2  7.3  7.4  7.5  7.6  7.7  7.8  7.9  8.   8.1  8.2  8.3\n",
      "  8.4  8.5  8.6  8.7  8.8  8.9  9.   9.1  9.2  9.3  9.4  9.5  9.6  9.7\n",
      "  9.8  9.9 10. ]\n"
     ]
    }
   ],
   "source": [
    "# one way to do it, using range\n",
    "my_range = np.array(range(0, 101)) / 10\n",
    "print(my_range)\n",
    "\n",
    "# another, easiesr way to do it, using a built-in numpy function\n",
    "# this says \"give me 101 numbers evenly spaced between 0 to 10\"\n",
    "my_range = np.linspace(0, 10, num=101)\n",
    "print(my_range)"
   ]
  },
  {
   "cell_type": "markdown",
   "metadata": {},
   "source": [
    "__(b)__ Create a new array consisting of the square of every element in your array. For example, 3.0 becomes 9.0."
   ]
  },
  {
   "cell_type": "code",
   "execution_count": 9,
   "metadata": {
    "collapsed": true
   },
   "outputs": [
    {
     "name": "stdout",
     "output_type": "stream",
     "text": [
      "[0.000e+00 1.000e-02 4.000e-02 9.000e-02 1.600e-01 2.500e-01 3.600e-01\n",
      " 4.900e-01 6.400e-01 8.100e-01 1.000e+00 1.210e+00 1.440e+00 1.690e+00\n",
      " 1.960e+00 2.250e+00 2.560e+00 2.890e+00 3.240e+00 3.610e+00 4.000e+00\n",
      " 4.410e+00 4.840e+00 5.290e+00 5.760e+00 6.250e+00 6.760e+00 7.290e+00\n",
      " 7.840e+00 8.410e+00 9.000e+00 9.610e+00 1.024e+01 1.089e+01 1.156e+01\n",
      " 1.225e+01 1.296e+01 1.369e+01 1.444e+01 1.521e+01 1.600e+01 1.681e+01\n",
      " 1.764e+01 1.849e+01 1.936e+01 2.025e+01 2.116e+01 2.209e+01 2.304e+01\n",
      " 2.401e+01 2.500e+01 2.601e+01 2.704e+01 2.809e+01 2.916e+01 3.025e+01\n",
      " 3.136e+01 3.249e+01 3.364e+01 3.481e+01 3.600e+01 3.721e+01 3.844e+01\n",
      " 3.969e+01 4.096e+01 4.225e+01 4.356e+01 4.489e+01 4.624e+01 4.761e+01\n",
      " 4.900e+01 5.041e+01 5.184e+01 5.329e+01 5.476e+01 5.625e+01 5.776e+01\n",
      " 5.929e+01 6.084e+01 6.241e+01 6.400e+01 6.561e+01 6.724e+01 6.889e+01\n",
      " 7.056e+01 7.225e+01 7.396e+01 7.569e+01 7.744e+01 7.921e+01 8.100e+01\n",
      " 8.281e+01 8.464e+01 8.649e+01 8.836e+01 9.025e+01 9.216e+01 9.409e+01\n",
      " 9.604e+01 9.801e+01 1.000e+02]\n",
      "[0.000e+00 1.000e-02 4.000e-02 9.000e-02 1.600e-01 2.500e-01 3.600e-01\n",
      " 4.900e-01 6.400e-01 8.100e-01 1.000e+00 1.210e+00 1.440e+00 1.690e+00\n",
      " 1.960e+00 2.250e+00 2.560e+00 2.890e+00 3.240e+00 3.610e+00 4.000e+00\n",
      " 4.410e+00 4.840e+00 5.290e+00 5.760e+00 6.250e+00 6.760e+00 7.290e+00\n",
      " 7.840e+00 8.410e+00 9.000e+00 9.610e+00 1.024e+01 1.089e+01 1.156e+01\n",
      " 1.225e+01 1.296e+01 1.369e+01 1.444e+01 1.521e+01 1.600e+01 1.681e+01\n",
      " 1.764e+01 1.849e+01 1.936e+01 2.025e+01 2.116e+01 2.209e+01 2.304e+01\n",
      " 2.401e+01 2.500e+01 2.601e+01 2.704e+01 2.809e+01 2.916e+01 3.025e+01\n",
      " 3.136e+01 3.249e+01 3.364e+01 3.481e+01 3.600e+01 3.721e+01 3.844e+01\n",
      " 3.969e+01 4.096e+01 4.225e+01 4.356e+01 4.489e+01 4.624e+01 4.761e+01\n",
      " 4.900e+01 5.041e+01 5.184e+01 5.329e+01 5.476e+01 5.625e+01 5.776e+01\n",
      " 5.929e+01 6.084e+01 6.241e+01 6.400e+01 6.561e+01 6.724e+01 6.889e+01\n",
      " 7.056e+01 7.225e+01 7.396e+01 7.569e+01 7.744e+01 7.921e+01 8.100e+01\n",
      " 8.281e+01 8.464e+01 8.649e+01 8.836e+01 9.025e+01 9.216e+01 9.409e+01\n",
      " 9.604e+01 9.801e+01 1.000e+02]\n",
      "[0.000e+00 1.000e-02 4.000e-02 9.000e-02 1.600e-01 2.500e-01 3.600e-01\n",
      " 4.900e-01 6.400e-01 8.100e-01 1.000e+00 1.210e+00 1.440e+00 1.690e+00\n",
      " 1.960e+00 2.250e+00 2.560e+00 2.890e+00 3.240e+00 3.610e+00 4.000e+00\n",
      " 4.410e+00 4.840e+00 5.290e+00 5.760e+00 6.250e+00 6.760e+00 7.290e+00\n",
      " 7.840e+00 8.410e+00 9.000e+00 9.610e+00 1.024e+01 1.089e+01 1.156e+01\n",
      " 1.225e+01 1.296e+01 1.369e+01 1.444e+01 1.521e+01 1.600e+01 1.681e+01\n",
      " 1.764e+01 1.849e+01 1.936e+01 2.025e+01 2.116e+01 2.209e+01 2.304e+01\n",
      " 2.401e+01 2.500e+01 2.601e+01 2.704e+01 2.809e+01 2.916e+01 3.025e+01\n",
      " 3.136e+01 3.249e+01 3.364e+01 3.481e+01 3.600e+01 3.721e+01 3.844e+01\n",
      " 3.969e+01 4.096e+01 4.225e+01 4.356e+01 4.489e+01 4.624e+01 4.761e+01\n",
      " 4.900e+01 5.041e+01 5.184e+01 5.329e+01 5.476e+01 5.625e+01 5.776e+01\n",
      " 5.929e+01 6.084e+01 6.241e+01 6.400e+01 6.561e+01 6.724e+01 6.889e+01\n",
      " 7.056e+01 7.225e+01 7.396e+01 7.569e+01 7.744e+01 7.921e+01 8.100e+01\n",
      " 8.281e+01 8.464e+01 8.649e+01 8.836e+01 9.025e+01 9.216e+01 9.409e+01\n",
      " 9.604e+01 9.801e+01 1.000e+02]\n"
     ]
    }
   ],
   "source": [
    "# one way\n",
    "squares = my_range * my_range\n",
    "print(squares)\n",
    "\n",
    "# another way\n",
    "squares = my_range ** 2\n",
    "print(squares)\n",
    "\n",
    "# a third way\n",
    "squares = np.power(my_range, 2)\n",
    "print(squares)"
   ]
  },
  {
   "cell_type": "markdown",
   "metadata": {},
   "source": [
    "__(c)__ Determine how many values in your array are above 6.35. Store the result in a new variable and print it out."
   ]
  },
  {
   "cell_type": "code",
   "execution_count": 10,
   "metadata": {
    "collapsed": true
   },
   "outputs": [
    {
     "name": "stdout",
     "output_type": "stream",
     "text": [
      "Using a for loop, 75 numbers in the array over 6.35\n",
      "[False False False False False False False False False False False False\n",
      " False False False False False False False False False False False False\n",
      " False False  True  True  True  True  True  True  True  True  True  True\n",
      "  True  True  True  True  True  True  True  True  True  True  True  True\n",
      "  True  True  True  True  True  True  True  True  True  True  True  True\n",
      "  True  True  True  True  True  True  True  True  True  True  True  True\n",
      "  True  True  True  True  True  True  True  True  True  True  True  True\n",
      "  True  True  True  True  True  True  True  True  True  True  True  True\n",
      "  True  True  True  True  True]\n",
      "Using a sum, 75 numbers in the array over 6.35\n"
     ]
    }
   ],
   "source": [
    "threshold = 6.35\n",
    "# the most naive way to do it -- count using a for loop\n",
    "counter = 0\n",
    "for num in squares:\n",
    "    if num > threshold:\n",
    "        counter += 1\n",
    "        \n",
    "print(f'Using a for loop, {counter} numbers in the array over {threshold:.2f}')\n",
    "\n",
    "# a second way to do it - what happens when I compare the array to the threshold?\n",
    "print(squares > threshold)\n",
    "\n",
    "# a list of booleans? fascinating? Can we just count them? What if we just take the sum?\n",
    "total_greater_than_threshold = np.sum(squares > threshold)\n",
    "\n",
    "print(f'Using a sum, {total_greater_than_threshold} numbers in the array over {threshold:.2f}')\n",
    "\n",
    "\n"
   ]
  },
  {
   "cell_type": "markdown",
   "metadata": {},
   "source": [
    "__(d)__ Determine all the values in your original array whose squared value is greater than the original. Store these values in a new array and print it out."
   ]
  },
  {
   "cell_type": "code",
   "execution_count": 11,
   "metadata": {
    "collapsed": true
   },
   "outputs": [
    {
     "name": "stdout",
     "output_type": "stream",
     "text": [
      "Using a for loop, 90 numbers have a square greater than the original\n",
      "Using a sum, 90 numbers have a square greater than the original\n"
     ]
    }
   ],
   "source": [
    "# again, starting with a for loop\n",
    "counter = 0\n",
    "for i in range(len(squares)):\n",
    "    if squares[i] > my_range[i]:\n",
    "        counter += 1\n",
    "        \n",
    "print(f'Using a for loop, {counter} numbers have a square greater than the original')\n",
    "\n",
    "# what if we use numpy instead?\n",
    "result = np.sum(squares > my_range)\n",
    "print(f'Using a sum, {result} numbers have a square greater than the original')\n"
   ]
  },
  {
   "cell_type": "markdown",
   "metadata": {},
   "source": [
    "__(e - bonus)__ What fraction of the values satisfied the criteria in __d__? In other words, what fraction of the numbers from 0 to 10 in steps of 0.1 are smaller than their square?"
   ]
  },
  {
   "cell_type": "code",
   "execution_count": 12,
   "metadata": {
    "collapsed": true
   },
   "outputs": [
    {
     "name": "stdout",
     "output_type": "stream",
     "text": [
      "A proportion of 90/101=0.8911 have a square greater than the original value\n"
     ]
    }
   ],
   "source": [
    "fraction = result / len(squares)\n",
    "print(f'A proportion of {result}/{len(squares)}={fraction:.4f} have a square greater than the original value')"
   ]
  },
  {
   "cell_type": "markdown",
   "metadata": {},
   "source": [
    "<hr/>\n",
    "### Problem 3"
   ]
  },
  {
   "cell_type": "markdown",
   "metadata": {},
   "source": [
    "This code loads a numpy array from a data file. It contains the volume in milliliters of various samples found in the laboratory. "
   ]
  },
  {
   "cell_type": "code",
   "execution_count": 13,
   "metadata": {},
   "outputs": [],
   "source": [
    "volumes = np.load('volumes.npy')"
   ]
  },
  {
   "cell_type": "markdown",
   "metadata": {},
   "source": [
    "__(a)__ How many samples do you have?"
   ]
  },
  {
   "cell_type": "code",
   "execution_count": 14,
   "metadata": {
    "collapsed": true
   },
   "outputs": [
    {
     "name": "stdout",
     "output_type": "stream",
     "text": [
      "50\n",
      "50\n",
      "50\n"
     ]
    }
   ],
   "source": [
    "# using python's built-in length\n",
    "print(len(volumes))\n",
    "\n",
    "# using numpy's size attribute of a numpy-array\n",
    "print(volumes.size)\n",
    "\n",
    "# using numpy's size function\n",
    "print(np.size(volumes))"
   ]
  },
  {
   "cell_type": "markdown",
   "metadata": {},
   "source": [
    "__(b)__ What is the average volume of your samples?"
   ]
  },
  {
   "cell_type": "code",
   "execution_count": 15,
   "metadata": {
    "collapsed": true
   },
   "outputs": [
    {
     "name": "stdout",
     "output_type": "stream",
     "text": [
      "Using a for loop, the average volume is 2.8120\n",
      "Using numpy's sum, the average volume is 2.8120\n",
      "Using numpy's average, the average volume is 2.8120\n"
     ]
    }
   ],
   "source": [
    "# starting naively, with a for loop\n",
    "total = 0\n",
    "for number in volumes:\n",
    "    total += number\n",
    "    \n",
    "average = total / volumes.size\n",
    "print(f'Using a for loop, the average volume is {average:.4f}')\n",
    "\n",
    "# using numpy's sum\n",
    "np_sum_average = np.sum(volumes) / volumes.size\n",
    "print(f'Using numpy\\'s sum, the average volume is {np_sum_average:.4f}')\n",
    "\n",
    "# using numpy's average directly\n",
    "np_average = np.average(volumes)\n",
    "print(f'Using numpy\\'s average, the average volume is {np_average:.4f}')"
   ]
  },
  {
   "cell_type": "markdown",
   "metadata": {},
   "source": [
    "__(c)__ What are the volumes of the smallest and largest sample?"
   ]
  },
  {
   "cell_type": "code",
   "execution_count": 16,
   "metadata": {
    "collapsed": true
   },
   "outputs": [
    {
     "name": "stdout",
     "output_type": "stream",
     "text": [
      "Using a for loop, the smallest number is 0.0 and the largest is 9.3\n",
      "Using numpy, the smallest number is 0.0 and the largest is 9.3\n"
     ]
    }
   ],
   "source": [
    "# as before, let's begin with a for loop\n",
    "\n",
    "# starting with really extreme values\n",
    "smallest_volume = 1e10\n",
    "largest_volume = -1e10\n",
    "\n",
    "for number in volumes:\n",
    "    if number < smallest_volume:\n",
    "        smallest_volume = number\n",
    "    elif number > largest_volume:\n",
    "        largest_volume = number\n",
    "        \n",
    "print(f'Using a for loop, the smallest number is {smallest_volume} and the largest is {largest_volume}')\n",
    "\n",
    "# let's let numpy do the hard work for us\n",
    "np_smallest = np.min(volumes)\n",
    "np_largest = np.max(volumes)\n",
    "\n",
    "print(f'Using numpy, the smallest number is {np_smallest} and the largest is {np_largest}')"
   ]
  },
  {
   "cell_type": "markdown",
   "metadata": {},
   "source": [
    "__(d)__ You want to determine whether you can transfer each of your samples completely into a 5-mL tube without the 5-mL tube overflowing.\n",
    "\n",
    "Print out a single statement indicating whether or not you can do this. \n",
    "\n",
    "If they are, print `\"We can transfer all the samples.\"` Otherwise print `\"We cannot transfer all the samples.\"`"
   ]
  },
  {
   "cell_type": "code",
   "execution_count": 17,
   "metadata": {
    "collapsed": true
   },
   "outputs": [
    {
     "name": "stdout",
     "output_type": "stream",
     "text": [
      "Using a for lop, can we transfer all? False\n",
      "Using numpy sum and compare, can we transfer all? False\n",
      "Using numpy's all function, can we transfer all? False\n",
      "Using numpy's any function, can we transfer all? False\n"
     ]
    }
   ],
   "source": [
    "threshold = 5.0\n",
    "\n",
    "# let's start with a for loop\n",
    "can_transfer_all = True\n",
    "for number in volumes:\n",
    "    if number > threshold:\n",
    "        can_transfer_all = False\n",
    "        break\n",
    "        \n",
    "print(f'Using a for lop, can we transfer all? {can_transfer_all}')\n",
    "\n",
    "# let's do with numpy, using the compare-and-sum approach from above\n",
    "total_above_treshold = np.sum(volumes > threshold)\n",
    "any_above_treshold = total_above_treshold == 0\n",
    "\n",
    "print(f'Using numpy sum and compare, can we transfer all? {any_above_treshold}')\n",
    "\n",
    "# now let's do it the easiest numpy way\n",
    "np_can_transfer = np.all(volumes <= threshold)\n",
    "print(f'Using numpy\\'s all function, can we transfer all? {np_can_transfer}')\n",
    "\n",
    "# and an alternative easy way\n",
    "np_alt_can_transfer = not np.any(volumes > threshold)\n",
    "print(f'Using numpy\\'s any function, can we transfer all? {np_alt_can_transfer}')\n"
   ]
  },
  {
   "cell_type": "markdown",
   "metadata": {},
   "source": [
    "__(e)__ Load in a second array of the tube sizes that currently contain our samples. The tube size data are stored in a file called `'tube_sizes.npy'` ."
   ]
  },
  {
   "cell_type": "code",
   "execution_count": 18,
   "metadata": {
    "collapsed": true
   },
   "outputs": [],
   "source": [
    "tube_sizes = np.load('tubes.npy')"
   ]
  },
  {
   "cell_type": "markdown",
   "metadata": {},
   "source": [
    "__(f)__ Are all the tubes the same size? Print out your answer."
   ]
  },
  {
   "cell_type": "code",
   "execution_count": 19,
   "metadata": {
    "collapsed": true
   },
   "outputs": [
    {
     "name": "stdout",
     "output_type": "stream",
     "text": [
      "Using a for loop, are all sizes the same? False\n",
      "Using numpy.all, are all sizes the same? False\n",
      "Using numpy.unique, there are 3 unique values, and therefore, are all sizes the same? False\n"
     ]
    }
   ],
   "source": [
    "# let's try using a for loop\n",
    "# if these are all the same, they should all be equal to the first element\n",
    "first_size = tube_sizes[0]\n",
    "all_same = True\n",
    "for size in tube_sizes:\n",
    "    # if any size in the array is not the same as the first one\n",
    "    if size != first_size:\n",
    "        # set the all_same variable to False, and break out of the for loop\n",
    "        all_same = False\n",
    "        break\n",
    "        \n",
    "print(f'Using a for loop, are all sizes the same? {all_same}')\n",
    "\n",
    "# Using np.all, making the same test as above\n",
    "np_all_same = np.all(tube_sizes == first_size)\n",
    "print(f'Using numpy.all, are all sizes the same? {np_all_same}')\n",
    "\n",
    "# Using np.unique, to ask how many unique values there are?\n",
    "np_unique_len = len(np.unique(tube_sizes))\n",
    "print(f'Using numpy.unique, there are {np_unique_len} unique values, and therefore, are all sizes the same? {np_unique_len == 1}')"
   ]
  },
  {
   "cell_type": "markdown",
   "metadata": {},
   "source": [
    "__(g)__ If they are all the same size, print the size. If they are not all the same size, print out the number of distinct tube sizes in our collection."
   ]
  },
  {
   "cell_type": "code",
   "execution_count": 20,
   "metadata": {
    "collapsed": true
   },
   "outputs": [
    {
     "name": "stdout",
     "output_type": "stream",
     "text": [
      "Found a new size: 10\n",
      "Found a new size: 3\n",
      "Found a new size: 5\n",
      "Found 3 unique sizes\n",
      "Using numpy, found 3 unique sizes\n"
     ]
    }
   ],
   "source": [
    "# let's start using a for loop\n",
    "\n",
    "# we'll keep track of sizes we've already found\n",
    "found_sizes = []\n",
    "# go through every size in the tube_sizes array\n",
    "for size in tube_sizes:\n",
    "    # have we found this size yet?\n",
    "    if size not in found_sizes:\n",
    "        print(f'Found a new size: {size}')\n",
    "        found_sizes.append(size)\n",
    "        \n",
    "# now do what the question asked\n",
    "if len(found_sizes) == 1:\n",
    "    print(f'Found only one size, and it is {found_sizes[0]}')\n",
    "else:\n",
    "    print(f'Found {len(found_sizes)} unique sizes')\n",
    "    \n",
    "# can we do this with numpy? of course!\n",
    "\n",
    "unique_values = np.unique(tube_sizes)\n",
    "if len(unique_values) == 1:\n",
    "    print(f'Using numpy, found only one size, and it is {unique_values[0]}')\n",
    "else:\n",
    "    print(f'Using numpy, found {len(unique_values)} unique sizes')"
   ]
  },
  {
   "cell_type": "markdown",
   "metadata": {},
   "source": [
    "__(h)__ Load in a third array from the file `'volumes_to_add.npy'`. \n",
    "\n",
    "This array consists of volumes of a chemical we want to add to the current tubes. For instance, the first item in this array is the volume we want to add to the first tube. "
   ]
  },
  {
   "cell_type": "code",
   "execution_count": 21,
   "metadata": {
    "collapsed": true
   },
   "outputs": [],
   "source": [
    "volumes_to_add = np.load('volumes_to_add.npy')"
   ]
  },
  {
   "cell_type": "markdown",
   "metadata": {},
   "source": [
    "__(i)__ Determine whether any tubes will overflow if we add the desired volume."
   ]
  },
  {
   "cell_type": "code",
   "execution_count": 22,
   "metadata": {
    "collapsed": true
   },
   "outputs": [
    {
     "name": "stdout",
     "output_type": "stream",
     "text": [
      "Using a for loop, tube #2 will overflow!\n",
      "Using numpy, will any tubes overflow? True\n"
     ]
    }
   ],
   "source": [
    "# as always, we begin with a for loop\n",
    "any_overflow = False\n",
    "# go through every index in the arrays\n",
    "for i in range(tube_sizes.size):\n",
    "    # check if the size of the tube is smaller than \n",
    "    # the current volume + the volume to add\n",
    "    if tube_sizes[i] < volumes[i] + volumes_to_add[i]:\n",
    "        # if it is, print, mark it in the any_overflow variable, and break\n",
    "        print(f'Using a for loop, tube #{i} will overflow!')\n",
    "        any_overflow = True\n",
    "        break\n",
    "\n",
    "# if the any_overflow variable is unmarked, print that no tubes will overflow\n",
    "if not any_overflow:\n",
    "    print('Using a for loop, no tubes will overflow')\n",
    "    \n",
    "# let's do it with numpy:\n",
    "numpy_will_overflow = np.any(tube_sizes < volumes + volumes_to_add)\n",
    "print(f'Using numpy, will any tubes overflow? {numpy_will_overflow}')"
   ]
  },
  {
   "cell_type": "markdown",
   "metadata": {},
   "source": [
    "__(j)__  If any tubes will overflow, determine the total amount of overflow fluid after transferring all chemicals into their tubes."
   ]
  },
  {
   "cell_type": "code",
   "execution_count": 23,
   "metadata": {
    "collapsed": true
   },
   "outputs": [
    {
     "name": "stdout",
     "output_type": "stream",
     "text": [
      "Using a for loop, the total overflow is 18.150 mL\n",
      "\n",
      "[-8.   -0.45  0.95 -1.9  -0.6  -0.25 -0.55  1.05  1.85 -2.45  1.3  -1.35\n",
      "  1.05 -0.65 -2.05 -3.5   0.5  -1.    1.2  -0.6  -0.75  1.15 -1.85  0.95\n",
      " -3.45  0.4   2.25  0.25  0.   -9.05 -0.9   1.35 -1.75 -1.1   1.   -0.55\n",
      " -3.35 -1.55  0.35 -1.55 -2.45 -1.85  0.15  0.65  0.55 -4.2  -2.15 -2.6\n",
      " -1.4   1.2 ]\n",
      "[False False  True False False False False  True  True False  True False\n",
      "  True False False False  True False  True False False  True False  True\n",
      " False  True  True  True False False False  True False False  True False\n",
      " False False  True False False False  True  True  True False False False\n",
      " False  True]\n",
      "[0.95 1.05 1.85 1.3  1.05 0.5  1.2  1.15 0.95 0.4  2.25 0.25 1.35 1.\n",
      " 0.35 0.15 0.65 0.55 1.2 ]\n",
      "\n",
      "Using numpy, the total overflow is 18.150 mL\n",
      "Using one numpy line, the total overflow is 18.150 mL\n"
     ]
    }
   ],
   "source": [
    "# let us for loop:\n",
    "total_overflow = 0\n",
    "# go through every index in the array\n",
    "for i in range(tube_sizes.size):\n",
    "    # check if the size of the tube is smaller than \n",
    "    # the current volume + the volume to add\n",
    "    potential_overflow = volumes[i] + volumes_to_add[i] - tube_sizes[i]\n",
    "    if potential_overflow > 0 :\n",
    "        # if it is, add the overflow to the total_overflow\n",
    "        total_overflow += potential_overflow\n",
    "        \n",
    "print(f'Using a for loop, the total overflow is {total_overflow:.3f} mL')\n",
    "print()\n",
    "\n",
    "# How can we do it using numpy? \n",
    "\n",
    "# we compute the potential overflow (disparity between tube size and volume + volume to add)\n",
    "potential_overflows = volumes + volumes_to_add - tube_sizes\n",
    "print(potential_overflows)\n",
    "# we now ask numpy which tubes are actually overflowing:\n",
    "overflowing_tubes = potential_overflows > 0\n",
    "print(overflowing_tubes)\n",
    "# we can now use this array to index the first one:\n",
    "print(potential_overflows[overflowing_tubes])\n",
    "# and use this to compute the sum\n",
    "np_total_overflow = np.sum(potential_overflows[overflowing_tubes])\n",
    "print()\n",
    "print(f'Using numpy, the total overflow is {np_total_overflow:.3f} mL')\n",
    "\n",
    "# Can we do it with one line in numpy? Of course!\n",
    "# for each element in the array, take the maximum between the amount of overflow and 0\n",
    "# thus, if any would overflow, take that value; and if there is room in the tube, take 0\n",
    "np_total_overflow_2 = np.sum(np.maximum(volumes + volumes_to_add - tube_sizes, 0))\n",
    "print(f'Using one numpy line, the total overflow is {np_total_overflow_2:.3f} mL')\n"
   ]
  },
  {
   "cell_type": "markdown",
   "metadata": {},
   "source": [
    "<hr/>\n",
    "### Problem 4"
   ]
  },
  {
   "cell_type": "markdown",
   "metadata": {},
   "source": [
    "__(a)__ Create a 2D numpy array with 5 rows and 10 columns. Each row should contain the numbers 0 to 9."
   ]
  },
  {
   "cell_type": "code",
   "execution_count": 24,
   "metadata": {
    "collapsed": true
   },
   "outputs": [
    {
     "name": "stdout",
     "output_type": "stream",
     "text": [
      "The shape of the output is (rows, cols) = (5, 10)\n",
      "[[0. 1. 2. 3. 4. 5. 6. 7. 8. 9.]\n",
      " [0. 1. 2. 3. 4. 5. 6. 7. 8. 9.]\n",
      " [0. 1. 2. 3. 4. 5. 6. 7. 8. 9.]\n",
      " [0. 1. 2. 3. 4. 5. 6. 7. 8. 9.]\n",
      " [0. 1. 2. 3. 4. 5. 6. 7. 8. 9.]]\n",
      "[[0 1 2 3 4 5 6 7 8 9]\n",
      " [0 1 2 3 4 5 6 7 8 9]\n",
      " [0 1 2 3 4 5 6 7 8 9]\n",
      " [0 1 2 3 4 5 6 7 8 9]\n",
      " [0 1 2 3 4 5 6 7 8 9]]\n"
     ]
    }
   ],
   "source": [
    "# let's start with a reasonably simple version\n",
    "\n",
    "# initialize an output of the appropriate size\n",
    "out = np.zeros((5, 10))\n",
    "# grab the number of rows\n",
    "print(f'The shape of the output is (rows, cols) = {out.shape}')\n",
    "num_rows = out.shape[0]\n",
    "\n",
    "for i in range(num_rows):\n",
    "    out[i, :] = np.arange(10)\n",
    "    \n",
    "print(out)\n",
    "\n",
    "# another way to do this is with numpy's matlib, which is a bit like matlab:\n",
    "import numpy.matlib\n",
    "second_out = np.matlib.repmat(np.arange(10), 5, 1)\n",
    "print(second_out)"
   ]
  },
  {
   "cell_type": "markdown",
   "metadata": {},
   "source": [
    "__(b)__ Modify your array so that every other row is reversed, i.e. every other row should now contain the numbers from 9 to 0, while the other rows remain unaffected."
   ]
  },
  {
   "cell_type": "code",
   "execution_count": 25,
   "metadata": {
    "collapsed": true
   },
   "outputs": [
    {
     "name": "stdout",
     "output_type": "stream",
     "text": [
      "[[9. 8. 7. 6. 5. 4. 3. 2. 1. 0.]\n",
      " [0. 1. 2. 3. 4. 5. 6. 7. 8. 9.]\n",
      " [9. 8. 7. 6. 5. 4. 3. 2. 1. 0.]\n",
      " [0. 1. 2. 3. 4. 5. 6. 7. 8. 9.]\n",
      " [9. 8. 7. 6. 5. 4. 3. 2. 1. 0.]]\n",
      "[[9 8 7 6 5 4 3 2 1 0]\n",
      " [0 1 2 3 4 5 6 7 8 9]\n",
      " [9 8 7 6 5 4 3 2 1 0]\n",
      " [0 1 2 3 4 5 6 7 8 9]\n",
      " [9 8 7 6 5 4 3 2 1 0]]\n"
     ]
    }
   ],
   "source": [
    "# We can, again, using a for loop:\n",
    "for i in range(0, out.shape[0], 2):\n",
    "    # we first take the i'th row, and then reverse it\n",
    "    out[i, :] = out[i, :][::-1]\n",
    "    \n",
    "print(out)\n",
    "\n",
    "# Can we do it in one line?\n",
    "# it's easiest using the numpy flip function\n",
    "second_out[range(0, out.shape[0], 2),:] = np.flip(second_out[range(0, out.shape[0], 2),:], 1)\n",
    "print(second_out)"
   ]
  },
  {
   "cell_type": "markdown",
   "metadata": {},
   "source": [
    "__(c)__ Determine the maximum value found in each column. Print out the resulting array, which should contain one value per column of the original array."
   ]
  },
  {
   "cell_type": "code",
   "execution_count": 26,
   "metadata": {
    "collapsed": true
   },
   "outputs": [
    {
     "name": "stdout",
     "output_type": "stream",
     "text": [
      "Using nested for loops, the column-wise maxima are [9. 8. 7. 6. 5. 5. 6. 7. 8. 9.]\n",
      "Using a numpy function, the column-wise maxima are [9 8 7 6 5 5 6 7 8 9]\n"
     ]
    }
   ],
   "source": [
    "# using a for loop:\n",
    "num_rows = out.shape[0]\n",
    "num_cols = out.shape[1]\n",
    "# create a result to store the output\n",
    "results = np.zeros((num_cols,))\n",
    "\n",
    "for j in range(num_cols):\n",
    "    # we first take the j'th col\n",
    "    col = out[:,j]\n",
    "    col_max = 0\n",
    "    # now loop through every row in it\n",
    "    for i in range(num_rows):\n",
    "        # if it's larger, store it as the new column maximum\n",
    "        if col[i] > col_max:\n",
    "            col_max = col[i]\n",
    "    \n",
    "    # save the column-wise maximum\n",
    "    results[j] = col_max\n",
    "            \n",
    "print(f'Using nested for loops, the column-wise maxima are {results}')\n",
    "\n",
    "# Can we do it in numpy? of course!\n",
    "np_results = np.max(second_out, axis=0)\n",
    "print(f'Using a numpy function, the column-wise maxima are {np_results}')"
   ]
  },
  {
   "cell_type": "markdown",
   "metadata": {},
   "source": [
    "__(d)__ Determine the sum of each row in the original array. Print out the resulting array, which should contain one value per row of the original array."
   ]
  },
  {
   "cell_type": "code",
   "execution_count": 27,
   "metadata": {
    "collapsed": true
   },
   "outputs": [
    {
     "name": "stdout",
     "output_type": "stream",
     "text": [
      "Using nested for loops, the row sums are [45. 45. 45. 45. 45.]\n",
      "Using a numpy function, the row sums maxima are [45 45 45 45 45]\n"
     ]
    }
   ],
   "source": [
    "# Once more into the for loop:\n",
    "num_rows = out.shape[0]\n",
    "num_cols = out.shape[1]\n",
    "# create a result to store the output\n",
    "row_sums = np.zeros((num_rows,))\n",
    "\n",
    "for i in range(num_rows):\n",
    "    # we first take the i'th row\n",
    "    row = out[i, :]\n",
    "    row_sum = 0\n",
    "    # now loop through every row in it\n",
    "    for j in range(num_cols):\n",
    "        row_sum += row[j]\n",
    "    \n",
    "    # save the column-wise maximum\n",
    "    row_sums[i] = row_sum\n",
    "            \n",
    "print(f'Using nested for loops, the row sums are {row_sums}')\n",
    "\n",
    "# And in a single numpy line\n",
    "row_sums = np.sum(second_out, axis=1)\n",
    "print(f'Using a numpy function, the row sums maxima are {row_sums}')"
   ]
  },
  {
   "cell_type": "markdown",
   "metadata": {},
   "source": [
    "__(e)__ Create a new 2D array with 10 rows and 10 columns. All the elements in the array should be equal to zero."
   ]
  },
  {
   "cell_type": "code",
   "execution_count": 28,
   "metadata": {
    "collapsed": true
   },
   "outputs": [],
   "source": [
    "zeros = np.zeros((10, 10))\n",
    "second_zeros = np.zeros((10, 10))"
   ]
  },
  {
   "cell_type": "markdown",
   "metadata": {},
   "source": [
    "__(f)__ Modify your array so that the diagonal elements are all equal to 1.\n",
    "\n",
    "(The first diagonal element is the one in the first row, first column. The second diagonal element is the one in the second row, second column. And so on.)"
   ]
  },
  {
   "cell_type": "code",
   "execution_count": 29,
   "metadata": {
    "collapsed": true
   },
   "outputs": [
    {
     "name": "stdout",
     "output_type": "stream",
     "text": [
      "[[1. 0. 0. 0. 0. 0. 0. 0. 0. 0.]\n",
      " [0. 1. 0. 0. 0. 0. 0. 0. 0. 0.]\n",
      " [0. 0. 1. 0. 0. 0. 0. 0. 0. 0.]\n",
      " [0. 0. 0. 1. 0. 0. 0. 0. 0. 0.]\n",
      " [0. 0. 0. 0. 1. 0. 0. 0. 0. 0.]\n",
      " [0. 0. 0. 0. 0. 1. 0. 0. 0. 0.]\n",
      " [0. 0. 0. 0. 0. 0. 1. 0. 0. 0.]\n",
      " [0. 0. 0. 0. 0. 0. 0. 1. 0. 0.]\n",
      " [0. 0. 0. 0. 0. 0. 0. 0. 1. 0.]\n",
      " [0. 0. 0. 0. 0. 0. 0. 0. 0. 1.]]\n",
      "[[1. 0. 0. 0. 0. 0. 0. 0. 0. 0.]\n",
      " [0. 1. 0. 0. 0. 0. 0. 0. 0. 0.]\n",
      " [0. 0. 1. 0. 0. 0. 0. 0. 0. 0.]\n",
      " [0. 0. 0. 1. 0. 0. 0. 0. 0. 0.]\n",
      " [0. 0. 0. 0. 1. 0. 0. 0. 0. 0.]\n",
      " [0. 0. 0. 0. 0. 1. 0. 0. 0. 0.]\n",
      " [0. 0. 0. 0. 0. 0. 1. 0. 0. 0.]\n",
      " [0. 0. 0. 0. 0. 0. 0. 1. 0. 0.]\n",
      " [0. 0. 0. 0. 0. 0. 0. 0. 1. 0.]\n",
      " [0. 0. 0. 0. 0. 0. 0. 0. 0. 1.]]\n"
     ]
    }
   ],
   "source": [
    "# another for loop:\n",
    "num_rows = zeros.shape[0]\n",
    "\n",
    "for i in range(num_rows):\n",
    "    zeros[i, i] = 1\n",
    "    \n",
    "print(zeros)\n",
    "\n",
    "# and with a numpy call\n",
    "np.fill_diagonal(second_zeros, 1)\n",
    "print(second_zeros)"
   ]
  },
  {
   "cell_type": "markdown",
   "metadata": {},
   "source": [
    "<hr/>\n",
    "### Problem 5"
   ]
  },
  {
   "cell_type": "markdown",
   "metadata": {},
   "source": [
    "__(a)__ Load the dataset in the file called `\"songs.npy\"`.\n",
    "\n",
    "These are data collected from an experiment. In each trial, a fly was placed into a chamber for one minute and we recorded the number of songs it sang. It was then taken out, and another trial was repeated. We collected 10 trials per fly.\n",
    "\n",
    "In this array, each row represents one fly.  \n",
    "\n",
    "Each column represents one of the trials, with column 0 being the first, and column 9 being the last.\n",
    "\n",
    "How many flies are in our dataset?"
   ]
  },
  {
   "cell_type": "code",
   "execution_count": 30,
   "metadata": {
    "collapsed": true
   },
   "outputs": [
    {
     "name": "stdout",
     "output_type": "stream",
     "text": [
      "(22, 10)\n",
      "There are 22 flies, each with 10 trials\n"
     ]
    }
   ],
   "source": [
    "songs = np.load('songs.npy')\n",
    "print(songs.shape)\n",
    "print(f'There are {songs.shape[0]} flies, each with {songs.shape[1]} trials')"
   ]
  },
  {
   "cell_type": "markdown",
   "metadata": {},
   "source": [
    "__(b)__ Calculate a single number: the total number of songs sang by all flies."
   ]
  },
  {
   "cell_type": "code",
   "execution_count": 31,
   "metadata": {
    "collapsed": true
   },
   "outputs": [
    {
     "name": "stdout",
     "output_type": "stream",
     "text": [
      "Using nested for loops, the total number of songs is 2892\n",
      "Using a numpy function, the total number of songs is 2892\n"
     ]
    }
   ],
   "source": [
    "# for loop time\n",
    "num_rows, num_cols = songs.shape\n",
    "total_songs = 0\n",
    "for i in range(num_rows):\n",
    "    for j in range(num_cols):\n",
    "        total_songs += songs[i, j]\n",
    "        \n",
    "print(f'Using nested for loops, the total number of songs is {total_songs}')\n",
    "\n",
    "# and in numpy\n",
    "np_sum = np.sum(total_songs)\n",
    "print(f'Using a numpy function, the total number of songs is {np_sum}')"
   ]
  },
  {
   "cell_type": "markdown",
   "metadata": {},
   "source": [
    "__(c)__ Calculate how many total songs each fly sang, and print out an array containing the result."
   ]
  },
  {
   "cell_type": "code",
   "execution_count": 32,
   "metadata": {
    "collapsed": true
   },
   "outputs": [
    {
     "name": "stdout",
     "output_type": "stream",
     "text": [
      "Using nested for loops, the per-fly sums are [131. 124. 122. 140. 110. 173. 131. 115. 132. 144. 131. 153. 132. 130.\n",
      " 143. 115. 151. 115. 134. 105. 102. 159.]\n",
      "Using a numpy function, the row sums maxima are [131 124 122 140 110 173 131 115 132 144 131 153 132 130 143 115 151 115\n",
      " 134 105 102 159]\n"
     ]
    }
   ],
   "source": [
    "# each fly => row-wise sums => same code as before:\n",
    "num_rows, num_cols = songs.shape\n",
    "# create a result to store the output\n",
    "row_sums = np.zeros((num_rows,))\n",
    "\n",
    "for i in range(num_rows):\n",
    "    # we first take the i'th row\n",
    "    row = songs[i, :]\n",
    "    row_sum = 0\n",
    "    # now loop through every row in it\n",
    "    for j in range(num_cols):\n",
    "        row_sum += row[j]\n",
    "    \n",
    "    # save the column-wise maximum\n",
    "    row_sums[i] = row_sum\n",
    "            \n",
    "print(f'Using nested for loops, the per-fly sums are {row_sums}')\n",
    "\n",
    "# And in a single numpy line\n",
    "row_sums = np.sum(songs, axis=1)\n",
    "print(f'Using a numpy function, the row sums maxima are {row_sums}')"
   ]
  },
  {
   "cell_type": "markdown",
   "metadata": {},
   "source": [
    "__(d)__ Calculate the average (across flies) number of songs sang in the 5th trial."
   ]
  },
  {
   "cell_type": "code",
   "execution_count": 33,
   "metadata": {
    "collapsed": true
   },
   "outputs": [
    {
     "name": "stdout",
     "output_type": "stream",
     "text": [
      "Using a for loop, the fifth trial average is 13.045\n",
      "Using a numpy function, the fifth trial average is 13.045\n"
     ]
    }
   ],
   "source": [
    "# average cross fly => pull index 4 (the fifth trial) for every row\n",
    "\n",
    "num_rows, num_cols = songs.shape\n",
    "# create a result to store the output\n",
    "fifth_trial_sum = 0\n",
    "\n",
    "for i in range(num_rows):\n",
    "    fifth_trial_sum += songs[i, 4]\n",
    "    \n",
    "fifth_trial_average = fifth_trial_sum / num_rows\n",
    "            \n",
    "print(f'Using a for loop, the fifth trial average is {fifth_trial_average:.3f}')\n",
    "\n",
    "# and using a single numpy call:\n",
    "# songs[:, 4] means take the element in index 4 from every row\n",
    "np_average = np.average(songs[:, 4])\n",
    "\n",
    "print(f'Using a numpy function, the fifth trial average is {np_average:.3f}')"
   ]
  },
  {
   "cell_type": "markdown",
   "metadata": {},
   "source": [
    "__(e)__ Compute the fraction of flies that sang more than 2 songs in their first trial."
   ]
  },
  {
   "cell_type": "code",
   "execution_count": 34,
   "metadata": {
    "collapsed": true
   },
   "outputs": [
    {
     "name": "stdout",
     "output_type": "stream",
     "text": [
      "Using a for loop, a fraction of 11/22=0.500 flies sang in the first trial\n",
      "Using numpy, a fraction of 11/22=0.500 flies sang in the first trial\n",
      "And in one numpy line, the proportion first trials where the flies sang are 0.500\n"
     ]
    }
   ],
   "source": [
    "# fraction in first trial => iterate across rows, checking the first trial (index 0) of each\n",
    "num_rows, num_cols = songs.shape\n",
    "threshold = 2\n",
    "first_trial_counter = 0\n",
    "\n",
    "for i in range(num_rows):\n",
    "    # index 0 is the first trial\n",
    "    if songs[i, 0] > threshold:\n",
    "        first_trial_counter += 1\n",
    "        \n",
    "print(f'Using a for loop, a fraction of {first_trial_counter}/{num_rows}={first_trial_counter / num_rows:.3f} flies sang in the first trial')\n",
    "\n",
    "# Using numpy:\n",
    "first_trial = songs[:, 0]\n",
    "first_trial_above_threshold = first_trial > 2\n",
    "first_trial_sum = np.sum(first_trial_above_threshold)\n",
    "first_trial_proportion = np.average(first_trial_above_threshold)\n",
    "print(f'Using numpy, a fraction of {first_trial_sum}/{num_rows}={first_trial_proportion:.3f} flies sang in the first trial')\n",
    "\n",
    "# And in one numpy line\n",
    "one_line_first_trial_prop = np.average(songs[:, 0] > threshold)\n",
    "print(f'And in one numpy line, the proportion first trials where the flies sang are {one_line_first_trial_prop:.3f}')"
   ]
  },
  {
   "cell_type": "markdown",
   "metadata": {},
   "source": [
    "__(f - bonus)__ For each fly, determine the first trial in which it sang more than 10 songs."
   ]
  },
  {
   "cell_type": "code",
   "execution_count": 35,
   "metadata": {
    "collapsed": true
   },
   "outputs": [
    {
     "name": "stdout",
     "output_type": "stream",
     "text": [
      "Each fly (in order) first sang over ten songs in the following trials: [4. 4. 4. 4. 2. 3. 4. 3. 4. 4. 3. 4. 3. 6. 3. 4. 2. 4. 3. 4. 4. 2.]\n",
      "And using numpy: [4 4 4 4 2 3 4 3 4 4 3 4 3 6 3 4 2 4 3 4 4 2]\n"
     ]
    }
   ],
   "source": [
    "# We could solve this using a nested for loop:\n",
    "num_rows, num_cols = songs.shape\n",
    "threshold = 10\n",
    "# initialize an array of -1's, we'll use -1 to signifiy \"never sang over 10 songs in a trial\"\n",
    "first_trial_over = np.ones((num_rows,)) * -1\n",
    "\n",
    "for i in range(num_rows):\n",
    "    for j in range(num_cols):\n",
    "        # If we find what we're looking for\n",
    "        if songs[i, j] > threshold:\n",
    "            # Save this first trial index over 10\n",
    "            first_trial_over[i] = j\n",
    "            # Break out of only the inner for loop\n",
    "            break\n",
    "            \n",
    "\n",
    "print(f'Each fly (in order) first sang over ten songs in the following trials: {first_trial_over}')\n",
    "\n",
    "\n",
    "# And using a single numpy call\n",
    "# axis=1 signifies go across columns, so for every row\n",
    "np_first_over = np.argmax(songs > threshold, axis=1)\n",
    "print(f'And using numpy: {np_first_over}')"
   ]
  },
  {
   "cell_type": "markdown",
   "metadata": {},
   "source": [
    "<hr/>\n",
    "### Problem 6 (bonus)"
   ]
  },
  {
   "cell_type": "markdown",
   "metadata": {},
   "source": [
    "Write a function that accepts as input a 2d array representing an image. If the image is all black or all white, return `False`. Otherwise, return the average value of the pixels in image.\n",
    "\n",
    "For this question, assume that `0` corresponds to black, `1` corresponds to white, and all values between `0` and `1` are colors or grey levels.\n",
    "\n",
    "You can load the files `black_image.npy`, `white_image.npy`, and `photo.npy` to use for testing."
   ]
  },
  {
   "cell_type": "code",
   "execution_count": 36,
   "metadata": {
    "collapsed": true
   },
   "outputs": [],
   "source": [
    "# There are many ways to do this. Here's one:\n",
    "BLACK = 0\n",
    "WHITE = 1\n",
    "\n",
    "def is_all_bw(image):\n",
    "    # If the image is all black or white, it must all be equal the value of the first pixel\n",
    "    first_pixel = image[0, 0]\n",
    "    all_same = np.all(image == first_pixel)\n",
    "    # if it is, verify that this first pixel is indeed black or white:\n",
    "    if all_same and (first_pixel == BLACK or first_pixel == WHITE):\n",
    "        # All the same and all black or all white, return False\n",
    "        return False\n",
    "    \n",
    "    # If we arrived here, the image isn't all black or white, so compute the average\n",
    "    return np.average(image)"
   ]
  },
  {
   "cell_type": "code",
   "execution_count": 37,
   "metadata": {},
   "outputs": [],
   "source": [
    "black_image = np.load('black_image.npy')\n",
    "white_image = np.load('white_image.npy')\n",
    "photo = np.load('photo.npy')"
   ]
  },
  {
   "cell_type": "code",
   "execution_count": 38,
   "metadata": {},
   "outputs": [
    {
     "name": "stdout",
     "output_type": "stream",
     "text": [
      "For the black image, we receive False\n",
      "For the white image, we receive False\n",
      "For the photo, we receive 489.85768\n"
     ]
    }
   ],
   "source": [
    "print(f'For the black image, we receive {is_all_bw(black_image)}')\n",
    "print(f'For the white image, we receive {is_all_bw(white_image)}')\n",
    "print(f'For the photo, we receive {is_all_bw(photo)}')"
   ]
  }
 ],
 "metadata": {
  "kernelspec": {
   "display_name": "Python 3",
   "language": "python",
   "name": "python3"
  },
  "language_info": {
   "codemirror_mode": {
    "name": "ipython",
    "version": 3
   },
   "file_extension": ".py",
   "mimetype": "text/x-python",
   "name": "python",
   "nbconvert_exporter": "python",
   "pygments_lexer": "ipython3",
   "version": "3.6.3"
  }
 },
 "nbformat": 4,
 "nbformat_minor": 2
}
