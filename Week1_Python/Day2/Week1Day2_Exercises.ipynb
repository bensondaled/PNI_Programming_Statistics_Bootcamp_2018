{
 "cells": [
  {
   "cell_type": "markdown",
   "metadata": {},
   "source": [
    "## Week 1, Day 2 Exercises"
   ]
  },
  {
   "cell_type": "markdown",
   "metadata": {},
   "source": [
    "<hr/>\n",
    "### Problem 1: Lists"
   ]
  },
  {
   "cell_type": "markdown",
   "metadata": {},
   "source": [
    "__(a)__ Here are data on the number of cells found in a set of brain regions in the human brain. \n",
    "\n",
    "\n",
    "Retina: 29,100,000  \n",
    "Prefrontal cortex: 1,322,782,000  \n",
    "Dorsal striatum: 114,890,000  \n",
    "Thalamus: 51,800,000  \n",
    "Amygdala: 13,128,000  \n",
    "Hippocampus: 41,255,000  \n",
    "Substantia nigra: 708,000  \n",
    "Primary visual cortex: 142,300,000  \n",
    "Cerebellum: 101,096,000,000  \n",
    "\n",
    "The data in this list are given in anatomical order, from anterior (front of brain) to posterior (back of brain).\n",
    "\n",
    "Create two lists: one containing the names of the brain structures, and a second containing the cell counts in the same order."
   ]
  },
  {
   "cell_type": "code",
   "execution_count": 6,
   "metadata": {
    "collapsed": true
   },
   "outputs": [],
   "source": [
    "# create the lists"
   ]
  },
  {
   "cell_type": "markdown",
   "metadata": {},
   "source": [
    "__(b)__ Given an index `i` stored in an integer variable, print out a sentence indicating the name of brain region `i` and its associated cell count."
   ]
  },
  {
   "cell_type": "code",
   "execution_count": 2,
   "metadata": {
    "collapsed": true
   },
   "outputs": [],
   "source": [
    "i = 4 # ensure your solution works for any value of i"
   ]
  },
  {
   "cell_type": "markdown",
   "metadata": {},
   "source": [
    "__(c)__ Determine:  \n",
    "(i) the number of brain structures in the list that lie anterior to region `i`  \n",
    "(ii) the number of brain structures in the list that lie posterior to region `i`  \n",
    "(iii) whether or not region `i` is anterior to more brain regions than it is posterior to\n",
    "\n",
    "Print out the results."
   ]
  },
  {
   "cell_type": "code",
   "execution_count": 7,
   "metadata": {
    "collapsed": true
   },
   "outputs": [],
   "source": [
    "# ensure your solution works for any value of i"
   ]
  },
  {
   "cell_type": "markdown",
   "metadata": {},
   "source": [
    "__(d)__ We just received data from a new study in which 3 new brain regions were discovered. The data are listed below.\n",
    "\n",
    "Nucleus accumbens, directly anterior to dorsal striatum, 7,290,000 neurons  \n",
    "Inferior olive, directly anterior to cerebellum, 718,000 neurons  \n",
    "Olfactory bulb, directly posterior to retina, 5,110,000 neurons\n",
    "\n",
    "Update your lists to include these data, and print out the final dataset."
   ]
  },
  {
   "cell_type": "code",
   "execution_count": null,
   "metadata": {
    "collapsed": true
   },
   "outputs": [],
   "source": []
  },
  {
   "cell_type": "markdown",
   "metadata": {},
   "source": [
    "<hr/>\n",
    "### Problem 2: `if` statements\n"
   ]
  },
  {
   "cell_type": "markdown",
   "metadata": {},
   "source": [
    "Consider 3 brain regions: region `i`, the region directly anterior to region `i`, and the region directly posterior to region `i`. \n",
    "\n",
    "Which has the largest number of cells? Which has the smallest number of cells? Print out the answers."
   ]
  },
  {
   "cell_type": "code",
   "execution_count": null,
   "metadata": {
    "collapsed": true
   },
   "outputs": [],
   "source": []
  },
  {
   "cell_type": "markdown",
   "metadata": {},
   "source": [
    "<hr/>\n",
    "### Problem 3: `while` loops\n"
   ]
  },
  {
   "cell_type": "markdown",
   "metadata": {},
   "source": [
    "__(a)__ Compute the total number of cells in all the brain regions of your dataset."
   ]
  },
  {
   "cell_type": "code",
   "execution_count": null,
   "metadata": {
    "collapsed": true
   },
   "outputs": [],
   "source": []
  },
  {
   "cell_type": "markdown",
   "metadata": {},
   "source": [
    "__(b)__ Compute the average number of cells in a brain region."
   ]
  },
  {
   "cell_type": "code",
   "execution_count": null,
   "metadata": {
    "collapsed": true
   },
   "outputs": [],
   "source": []
  },
  {
   "cell_type": "markdown",
   "metadata": {
    "collapsed": true
   },
   "source": [
    "__(c)__ Determine the brain region with  \n",
    "(i) the largest number of cells  \n",
    "(ii) the smallest number of cells\n",
    "\n",
    "Print out the results."
   ]
  },
  {
   "cell_type": "code",
   "execution_count": null,
   "metadata": {
    "collapsed": true
   },
   "outputs": [],
   "source": []
  },
  {
   "cell_type": "markdown",
   "metadata": {},
   "source": [
    "<hr/>\n",
    "### Problem 4: `if` statements and loops"
   ]
  },
  {
   "cell_type": "markdown",
   "metadata": {},
   "source": [
    "For every brain region in your dataset:\n",
    "\n",
    "Print a string that indicates which category the brain region falls into:  \n",
    "Category 1: the region with the longest name or the largest number of cells  \n",
    "Category 2: the region with the shortest name or the smallest number of cells  \n",
    "Category 3: a region with more than double the number of cells found in the smallest brain region  \n",
    "Category 4: a region with more cells than the average cell count, and with a name shorter than the average name  \n",
    "Category 5: none of the above"
   ]
  },
  {
   "cell_type": "code",
   "execution_count": null,
   "metadata": {
    "collapsed": true
   },
   "outputs": [],
   "source": []
  },
  {
   "cell_type": "markdown",
   "metadata": {},
   "source": [
    "<hr/>\n",
    "### Problem 5: `for` loops"
   ]
  },
  {
   "cell_type": "markdown",
   "metadata": {},
   "source": [
    "__(a)__ Print out your whole dataset with one line per brain structure, formatted as `\"Structure #X: Structure_name, contains N cells.\"`\n",
    "\n",
    "For example, the first line might be: `\"Structure #0: Retina, contains 29,100,100 cells.\"`"
   ]
  },
  {
   "cell_type": "code",
   "execution_count": null,
   "metadata": {
    "collapsed": true
   },
   "outputs": [],
   "source": []
  },
  {
   "cell_type": "markdown",
   "metadata": {},
   "source": [
    "__(b)__ Given a list of integer indices called `idxs`, modify the name of the brain structure at every index in `idxs` to be all capital letters.\n",
    "\n",
    "*Hint: my_string.upper() returns an upper-case version of my_string.*"
   ]
  },
  {
   "cell_type": "code",
   "execution_count": 5,
   "metadata": {
    "collapsed": true
   },
   "outputs": [],
   "source": [
    "idxs = [3, 5, 10, 13] # ensure your solution works for any number of indices in this list"
   ]
  },
  {
   "cell_type": "markdown",
   "metadata": {},
   "source": [
    "<hr/>\n",
    "### Problem 6: Synapses"
   ]
  },
  {
   "cell_type": "markdown",
   "metadata": {
    "collapsed": true
   },
   "source": [
    "Let's assume that the neurons in every brain region are \"fully connected\" – this means that any given neuron makes a synaptic connection with every other neuron in that region.\n",
    "\n",
    "Furthermore, let's assume that each of these connections consists of exactly one synapse.\n",
    "\n",
    "For example, if a brain region has 500 cells, then each cell in that region makes 499 connections: one connection with each other cell in the region."
   ]
  },
  {
   "cell_type": "markdown",
   "metadata": {},
   "source": [
    "__(a)__ For every brain region, calculate the *total* number of synapses in that region. Store the results in a new list called `synapse_counts`, with the same length as your other 2 lists."
   ]
  },
  {
   "cell_type": "code",
   "execution_count": null,
   "metadata": {
    "collapsed": true
   },
   "outputs": [],
   "source": []
  },
  {
   "cell_type": "markdown",
   "metadata": {},
   "source": [
    "__(b)__ We want to study the 4 brain regions with the fewest number of synapses. Create a new list that contains 4 elements. Each element consists of one of these brain regions, represented by a list with 4 elements: the index of that region, the name of that region, the number of cells in that region, and the number of synapses in that region."
   ]
  },
  {
   "cell_type": "code",
   "execution_count": null,
   "metadata": {
    "collapsed": true
   },
   "outputs": [],
   "source": []
  },
  {
   "cell_type": "markdown",
   "metadata": {},
   "source": [
    "__(c)__ For each of the 4 regions, determine how many synapses it would take to connect every neuron in that region with all neurons in another region. For each of the 4 regions, perform this calculation for *all* of the other 3 remaining regions.\n",
    "\n",
    "Store the results in a dictionary: each region will constitute a single key-value pair in the dictionary, where the key is the region name, and the value is a 3-item list containing the number of synapses required to connect the region to each other region."
   ]
  },
  {
   "cell_type": "code",
   "execution_count": null,
   "metadata": {
    "collapsed": true
   },
   "outputs": [],
   "source": []
  },
  {
   "cell_type": "markdown",
   "metadata": {},
   "source": [
    "__(d)__ Print out the results line by line, indicating the two regions being connected, and the number of synapses required to connect them."
   ]
  },
  {
   "cell_type": "code",
   "execution_count": null,
   "metadata": {
    "collapsed": true
   },
   "outputs": [],
   "source": []
  }
 ],
 "metadata": {
  "kernelspec": {
   "display_name": "Python 3",
   "language": "python",
   "name": "python3"
  },
  "language_info": {
   "codemirror_mode": {
    "name": "ipython",
    "version": 3
   },
   "file_extension": ".py",
   "mimetype": "text/x-python",
   "name": "python",
   "nbconvert_exporter": "python",
   "pygments_lexer": "ipython3",
   "version": "3.6.2"
  }
 },
 "nbformat": 4,
 "nbformat_minor": 2
}
