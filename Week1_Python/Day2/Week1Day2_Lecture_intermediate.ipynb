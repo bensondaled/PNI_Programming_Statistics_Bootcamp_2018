{
 "cells": [
  {
   "cell_type": "markdown",
   "metadata": {},
   "source": [
    "More introductions?\n",
    "\n",
    "mouse behavior  \n",
    "ephys  \n",
    "primate physiology  \n",
    "ecog  \n",
    "modelling  \n",
    "fly song  \n",
    "calcium imaging  \n",
    "image analysis  \n",
    "machine learning  "
   ]
  },
  {
   "cell_type": "markdown",
   "metadata": {},
   "source": [
    "#### Answers to yesterday's questions\n",
    "\n",
    "#### To view the documentation for a function:\n",
    "\"`function?`\" or `shift + tab`\n",
    "\n",
    "#### A simpler way to format strings:\n",
    "f-strings"
   ]
  },
  {
   "cell_type": "code",
   "execution_count": 7,
   "metadata": {},
   "outputs": [
    {
     "name": "stdout",
     "output_type": "stream",
     "text": [
      "Hello my name is Ben\n"
     ]
    }
   ],
   "source": [
    "# old approach:\n",
    "name = 'Ben'\n",
    "template = 'Hello my name is {name}'\n",
    "formatted = template.format(name=name)\n",
    "\n",
    "# new approach:\n",
    "name = 'Ben'\n",
    "formatted = f'Hello my name is {name}'\n",
    "\n",
    "print(formatted)"
   ]
  },
  {
   "cell_type": "markdown",
   "metadata": {},
   "source": [
    "### Lists"
   ]
  },
  {
   "cell_type": "code",
   "execution_count": 21,
   "metadata": {},
   "outputs": [
    {
     "name": "stdout",
     "output_type": "stream",
     "text": [
      "['hello', 3.14, True, None, 'mynameisBen']\n"
     ]
    }
   ],
   "source": [
    "# a simple list (not a numpy array!)\n",
    "\n",
    "my_list = [1, 2, 3]\n",
    "\n",
    "my_list2 = ['a', 'b', 'c']\n",
    "\n",
    "name = 'Ben'\n",
    "my_list3 = ['hello', 3.14, True, None, f'mynameis{name}']\n",
    "\n",
    "print(my_list3)"
   ]
  },
  {
   "cell_type": "code",
   "execution_count": 26,
   "metadata": {},
   "outputs": [
    {
     "name": "stdout",
     "output_type": "stream",
     "text": [
      "1\n"
     ]
    }
   ],
   "source": [
    "# indexing: single item\n",
    "\n",
    "my_list = [1,2,3,4,5]\n",
    "\n",
    "first_element = my_list[0]\n",
    "\n",
    "print(first_element)"
   ]
  },
  {
   "cell_type": "code",
   "execution_count": 27,
   "metadata": {},
   "outputs": [
    {
     "data": {
      "text/plain": [
       "[1, 3, 5]"
      ]
     },
     "execution_count": 27,
     "metadata": {},
     "output_type": "execute_result"
    }
   ],
   "source": [
    "my_list[0::2]"
   ]
  },
  {
   "cell_type": "code",
   "execution_count": 28,
   "metadata": {},
   "outputs": [
    {
     "data": {
      "text/plain": [
       "[5, 4, 3, 2, 1]"
      ]
     },
     "execution_count": 28,
     "metadata": {},
     "output_type": "execute_result"
    }
   ],
   "source": [
    "my_list[-1::-1]"
   ]
  },
  {
   "cell_type": "code",
   "execution_count": 33,
   "metadata": {},
   "outputs": [
    {
     "data": {
      "text/plain": [
       "[2]"
      ]
     },
     "execution_count": 33,
     "metadata": {},
     "output_type": "execute_result"
    }
   ],
   "source": [
    "my_list = [1,2,3,4,5]\n",
    "\n",
    "my_list[1::4]"
   ]
  },
  {
   "cell_type": "code",
   "execution_count": 11,
   "metadata": {
    "collapsed": true
   },
   "outputs": [],
   "source": [
    "# indexing: range\n"
   ]
  },
  {
   "cell_type": "code",
   "execution_count": null,
   "metadata": {
    "collapsed": true
   },
   "outputs": [],
   "source": [
    "# indexing: increments"
   ]
  },
  {
   "cell_type": "code",
   "execution_count": null,
   "metadata": {
    "collapsed": true
   },
   "outputs": [],
   "source": [
    "# indexing: backwards"
   ]
  },
  {
   "cell_type": "code",
   "execution_count": 34,
   "metadata": {},
   "outputs": [
    {
     "name": "stdout",
     "output_type": "stream",
     "text": [
      "['b', 'c', 'd', 'e']\n"
     ]
    }
   ],
   "source": [
    "# indexing: storing into new variables\n",
    "\n",
    "my_list = ['a','b','c','d','e','f']\n",
    "\n",
    "my_new_list = my_list[1:5]\n",
    "\n",
    "print(my_new_list)"
   ]
  },
  {
   "cell_type": "code",
   "execution_count": 38,
   "metadata": {},
   "outputs": [
    {
     "name": "stdout",
     "output_type": "stream",
     "text": [
      "z\n",
      "['a', 'b', 'c', 'd', 'e']\n"
     ]
    }
   ],
   "source": [
    "# indexing: setting a single value\n",
    "\n",
    "a = 7\n",
    "\n",
    "\n",
    "my_list = ['a', 'b', 'z', 'd', 'e']\n",
    "\n",
    "print(my_list[2])\n",
    "\n",
    "my_list[2] = 'c'\n",
    "\n",
    "print(my_list)"
   ]
  },
  {
   "cell_type": "code",
   "execution_count": 41,
   "metadata": {},
   "outputs": [
    {
     "name": "stdout",
     "output_type": "stream",
     "text": [
      "['a', 'b', 'c', 'd', 'e', 'f']\n"
     ]
    }
   ],
   "source": [
    "my_list = ['a', 'b', 'c', 'd', 'e', 'f']\n",
    "\n",
    "my_list[4] = my_list[4].upper()\n",
    "my_list[4] = my_list[4].lower()\n",
    "\n",
    "\n",
    "print(my_list)"
   ]
  },
  {
   "cell_type": "code",
   "execution_count": 48,
   "metadata": {},
   "outputs": [
    {
     "name": "stdout",
     "output_type": "stream",
     "text": [
      "['a', 'b', 'c', 'd', 'e', 'f']\n"
     ]
    }
   ],
   "source": [
    "uppercase_e = my_list[4].upper()\n",
    "\n",
    "print(my_list)"
   ]
  },
  {
   "cell_type": "code",
   "execution_count": null,
   "metadata": {
    "collapsed": true
   },
   "outputs": [],
   "source": [
    "uppercase_e.do_something() # a method (defined in a fixed way for all strings)\n",
    "\n",
    "do_something(uppercase_e) # a function (we could have defined this ourselves)"
   ]
  },
  {
   "cell_type": "code",
   "execution_count": 59,
   "metadata": {},
   "outputs": [
    {
     "name": "stdout",
     "output_type": "stream",
     "text": [
      "['y', 'z', 'c', 'd', 'E']\n",
      "['x', 'y', 'z']\n"
     ]
    },
    {
     "ename": "AssertionError",
     "evalue": "The list lengths did not match!",
     "output_type": "error",
     "traceback": [
      "\u001b[0;31m---------------------------------------------------------------------------\u001b[0m",
      "\u001b[0;31mAssertionError\u001b[0m                            Traceback (most recent call last)",
      "\u001b[0;32m<ipython-input-59-7a464dff7fec>\u001b[0m in \u001b[0;36m<module>\u001b[0;34m()\u001b[0m\n\u001b[1;32m     16\u001b[0m \u001b[0ma\u001b[0m \u001b[0;34m=\u001b[0m \u001b[0;34m[\u001b[0m\u001b[0;36m1\u001b[0m\u001b[0;34m,\u001b[0m\u001b[0;36m2\u001b[0m\u001b[0;34m,\u001b[0m\u001b[0;36m3\u001b[0m\u001b[0;34m]\u001b[0m\u001b[0;34m\u001b[0m\u001b[0m\n\u001b[1;32m     17\u001b[0m \u001b[0mb\u001b[0m \u001b[0;34m=\u001b[0m \u001b[0;34m[\u001b[0m\u001b[0;36m2\u001b[0m\u001b[0;34m,\u001b[0m\u001b[0;36m3\u001b[0m\u001b[0;34m,\u001b[0m\u001b[0;36m4\u001b[0m\u001b[0;34m,\u001b[0m\u001b[0;36m5\u001b[0m\u001b[0;34m]\u001b[0m\u001b[0;34m\u001b[0m\u001b[0m\n\u001b[0;32m---> 18\u001b[0;31m \u001b[0;32massert\u001b[0m \u001b[0mlen\u001b[0m\u001b[0;34m(\u001b[0m\u001b[0ma\u001b[0m\u001b[0;34m)\u001b[0m\u001b[0;34m==\u001b[0m\u001b[0mlen\u001b[0m\u001b[0;34m(\u001b[0m\u001b[0mb\u001b[0m\u001b[0;34m)\u001b[0m\u001b[0;34m,\u001b[0m \u001b[0;34m'The list lengths did not match!'\u001b[0m\u001b[0;34m\u001b[0m\u001b[0m\n\u001b[0m",
      "\u001b[0;31mAssertionError\u001b[0m: The list lengths did not match!"
     ]
    }
   ],
   "source": [
    "# indexing: setting a range\n",
    "\n",
    "my_list = ['a', 'b', 'c', 'd', 'e']\n",
    "\n",
    "my_list[4] = my_list[4].upper()\n",
    "\n",
    "# can we change 'a' and 'b' to 'y' and 'z' in one command?\n",
    "my_list[0:2] = ['y','z']\n",
    "\n",
    "#print(my_list)\n",
    "\n",
    "print(my_list)\n",
    "my_list[0:] = ['x', 'y', 'z']\n",
    "print(my_list)\n",
    "\n",
    "a = [1,2,3]\n",
    "b = [2,3,4,5]\n",
    "assert len(a)==len(b), 'The list lengths did not match!'"
   ]
  },
  {
   "cell_type": "code",
   "execution_count": 60,
   "metadata": {
    "collapsed": true
   },
   "outputs": [],
   "source": [
    "# types of brackets\n",
    "\n",
    "# for all of these: never use them in a variable name\n",
    "# Bad:\n",
    "my_[]_String = 'hello'\n",
    "\n",
    "# parentheses\n",
    "x = (2+3) * 5\n",
    "my_function(x)\n",
    "my_string.replace('a','b')\n",
    "# ... and one other use we haven't discussed: \n",
    "my_tuple = (1,2,3,4) # not talking about this for now\n",
    "\n",
    "# [square] brackets\n",
    "my_list = [1,2,3,'a',True]\n",
    "my_list[2]\n",
    "my_list[1] = my_list[0] + 5\n",
    "\n",
    "# curly braces \n",
    "my_string = f'Hi my name is {name}'\n",
    "x = {} # (coming soon)"
   ]
  },
  {
   "cell_type": "code",
   "execution_count": 65,
   "metadata": {},
   "outputs": [
    {
     "name": "stdout",
     "output_type": "stream",
     "text": [
      "[1, 2, 3, 7, 8, 9, 10, 11, 'a', 'b', 'c', 1, 2, 3]\n"
     ]
    }
   ],
   "source": [
    "# adding lists to each other\n",
    "\n",
    "my_list1 = [1,2,3]\n",
    "my_list2 = [7,8,9,10,11,'a','b','c']\n",
    "\n",
    "print( my_list1 + my_list2 + my_list1 )\n",
    "\n",
    "# adding lists corresponds to concatenation"
   ]
  },
  {
   "cell_type": "code",
   "execution_count": 70,
   "metadata": {},
   "outputs": [
    {
     "name": "stdout",
     "output_type": "stream",
     "text": [
      "hellohellohello\n",
      "[1, 2, 3, 1, 2, 3, 1, 2, 3]\n"
     ]
    },
    {
     "data": {
      "text/plain": [
       "[1, 2, 3, 1, 2, 3, 1, 2, 3, 1, 2, 3, 1, 2, 3, 1, 2, 3]"
      ]
     },
     "execution_count": 70,
     "metadata": {},
     "output_type": "execute_result"
    }
   ],
   "source": [
    "my_string = 'hello'\n",
    "\n",
    "print(my_string * 3)\n",
    "\n",
    "my_list = [1,2,3]\n",
    "\n",
    "print(my_list * 3) # a mathematical numpy array would not do this!\n",
    "\n",
    "(my_list + my_list) * 3 # follows order of operations"
   ]
  },
  {
   "cell_type": "code",
   "execution_count": 83,
   "metadata": {},
   "outputs": [
    {
     "name": "stdout",
     "output_type": "stream",
     "text": [
      "['a', 'b', 'c', 'd']\n"
     ]
    }
   ],
   "source": [
    "# list methods: append, insert, index\n",
    "\n",
    "my_list = ['a', 'b', 'c']\n",
    "\n",
    "my_list.index('a')\n",
    "\n",
    "# how to add a 'd'\n",
    "# my_list[:] = ['a','b','c','d'] # a bit messy, not recommended\n",
    "# my_list + ['d'] # add two lists together - this works\n",
    "# my_list + 'd' # does not work\n",
    "\n",
    "my_new_string = my_string.replace('a', 'b') # makes a copy and returns it\n",
    "# the list.append method does not do that!\n",
    "\n",
    "\n",
    "my_list.append('d')\n",
    "\n",
    "print(my_list)"
   ]
  },
  {
   "cell_type": "code",
   "execution_count": 88,
   "metadata": {},
   "outputs": [
    {
     "name": "stdout",
     "output_type": "stream",
     "text": [
      "['a', 'b', 'e']\n"
     ]
    }
   ],
   "source": [
    "my_list = ['a','b']\n",
    "my_list.append('e')\n",
    "\n",
    "print(my_list)\n",
    "\n",
    "my_list.append?\n"
   ]
  },
  {
   "cell_type": "code",
   "execution_count": 90,
   "metadata": {},
   "outputs": [
    {
     "name": "stdout",
     "output_type": "stream",
     "text": [
      "None\n"
     ]
    }
   ],
   "source": [
    "# without explanation, accept for now that this is the way to append:\n",
    "\n",
    "new_list = my_list.append('f') # don't do this\n",
    "\n",
    "my_list.append('f') # do this\n",
    "\n",
    "print(new_list)"
   ]
  },
  {
   "cell_type": "code",
   "execution_count": 89,
   "metadata": {},
   "outputs": [
    {
     "name": "stdout",
     "output_type": "stream",
     "text": [
      "bello\n"
     ]
    }
   ],
   "source": [
    "my_string = 'hello'\n",
    "\n",
    "my_new_string = my_string.replace('h','b')\n",
    "\n",
    "print( my_string.replace('h','b') )"
   ]
  },
  {
   "cell_type": "code",
   "execution_count": 1,
   "metadata": {
    "collapsed": true
   },
   "outputs": [],
   "source": [
    "# nested lists"
   ]
  },
  {
   "cell_type": "code",
   "execution_count": 21,
   "metadata": {
    "collapsed": true
   },
   "outputs": [],
   "source": [
    "# strings are (basically) just lists"
   ]
  },
  {
   "cell_type": "code",
   "execution_count": 97,
   "metadata": {},
   "outputs": [
    {
     "name": "stdout",
     "output_type": "stream",
     "text": [
      "['b', 'c', 'd']\n",
      "c\n",
      "['b', 'c', 'd', 'b', 'c', 'd']\n"
     ]
    },
    {
     "ename": "TypeError",
     "evalue": "can only concatenate list (not \"str\") to list",
     "output_type": "error",
     "traceback": [
      "\u001b[0;31m---------------------------------------------------------------------------\u001b[0m",
      "\u001b[0;31mTypeError\u001b[0m                                 Traceback (most recent call last)",
      "\u001b[0;32m<ipython-input-97-5bca81e32939>\u001b[0m in \u001b[0;36m<module>\u001b[0;34m()\u001b[0m\n\u001b[1;32m     10\u001b[0m \u001b[0;34m\u001b[0m\u001b[0m\n\u001b[1;32m     11\u001b[0m \u001b[0mprint\u001b[0m\u001b[0;34m(\u001b[0m\u001b[0mslice1\u001b[0m\u001b[0;34m+\u001b[0m\u001b[0mslice1\u001b[0m\u001b[0;34m)\u001b[0m\u001b[0;34m\u001b[0m\u001b[0m\n\u001b[0;32m---> 12\u001b[0;31m \u001b[0mprint\u001b[0m\u001b[0;34m(\u001b[0m\u001b[0mslice1\u001b[0m\u001b[0;34m+\u001b[0m\u001b[0mslice2\u001b[0m\u001b[0;34m)\u001b[0m\u001b[0;34m\u001b[0m\u001b[0m\n\u001b[0m\u001b[1;32m     13\u001b[0m \u001b[0;34m\u001b[0m\u001b[0m\n\u001b[1;32m     14\u001b[0m \u001b[0mslice1and2_combined\u001b[0m \u001b[0;34m=\u001b[0m \u001b[0mslice1\u001b[0m \u001b[0;34m+\u001b[0m \u001b[0;34m[\u001b[0m\u001b[0mslice2\u001b[0m\u001b[0;34m]\u001b[0m\u001b[0;34m\u001b[0m\u001b[0m\n",
      "\u001b[0;31mTypeError\u001b[0m: can only concatenate list (not \"str\") to list"
     ]
    }
   ],
   "source": [
    "my_list = ['a','b','c','d','e','f']\n",
    "\n",
    "my_list[1:3] # this is called slicing\n",
    "\n",
    "slice1 = my_list[1:4]\n",
    "slice2 = my_list[2]\n",
    "\n",
    "print(slice1)\n",
    "print(slice2)\n",
    "\n",
    "print(slice1+slice1)\n",
    "print(slice1+slice2)\n",
    "\n",
    "slice1and2_combined = slice1 + [slice2]\n",
    "print(slice1and2_combined)"
   ]
  },
  {
   "cell_type": "markdown",
   "metadata": {},
   "source": [
    "# (go do exercise #1)"
   ]
  },
  {
   "cell_type": "markdown",
   "metadata": {},
   "source": [
    "### `if` statements"
   ]
  },
  {
   "cell_type": "code",
   "execution_count": 101,
   "metadata": {},
   "outputs": [
    {
     "name": "stdout",
     "output_type": "stream",
     "text": [
      "True\n",
      "True\n"
     ]
    }
   ],
   "source": [
    "# booleans: some reminders\n",
    "\n",
    "my_bool = True\n",
    "\n",
    "two_greater_than_one = 2 > 1\n",
    "print(two_greater_than_one)\n",
    "\n",
    "my_word = 'hello'\n",
    "o_in_my_word = 'o' in my_word\n",
    "print(o_in_my_word)"
   ]
  },
  {
   "cell_type": "code",
   "execution_count": 104,
   "metadata": {},
   "outputs": [],
   "source": [
    "# conditional statements with \"if\"\n",
    "\n",
    "should_run = False\n",
    "\n",
    "should_run_is_false = not shold_run\n",
    "\n",
    "if should_run_is_false: # run the coming lines only if should_run is True\n",
    "    print('Hello everyone.')"
   ]
  },
  {
   "cell_type": "code",
   "execution_count": 112,
   "metadata": {},
   "outputs": [
    {
     "name": "stdout",
     "output_type": "stream",
     "text": [
      "Hello everyone.\n",
      "Hello everyone.\n"
     ]
    }
   ],
   "source": [
    "# conditional statements with \"if\"\n",
    "\n",
    "X = False\n",
    "\n",
    "X_is_false = not X\n",
    "\n",
    "if (not X): # run the coming lines only if should_run is True\n",
    "    print('Hello everyone.')\n",
    "    \n",
    "if not X: # run the coming lines only if should_run is True\n",
    "    print('Hello everyone.')"
   ]
  },
  {
   "cell_type": "code",
   "execution_count": 114,
   "metadata": {},
   "outputs": [
    {
     "name": "stdout",
     "output_type": "stream",
     "text": [
      "whatever4\n"
     ]
    }
   ],
   "source": [
    "abc = False\n",
    "\n",
    "if abc:\n",
    "    print('whatever1')\n",
    "    print('whatever2')\n",
    "    print('whatever3')\n",
    "    print(qqq)\n",
    "print('whatever4')"
   ]
  },
  {
   "cell_type": "code",
   "execution_count": 119,
   "metadata": {},
   "outputs": [
    {
     "name": "stdout",
     "output_type": "stream",
     "text": [
      "Success1\n",
      "Success2\n",
      "Success4\n"
     ]
    }
   ],
   "source": [
    "# reminder: ==, !=, etc.\n",
    "\n",
    "A = 25\n",
    "B = 50\n",
    "\n",
    "b_greater_than_a = B>A\n",
    "\n",
    "if b_greater_than_a:\n",
    "    print('Success1')\n",
    "    \n",
    "if B>A:\n",
    "    print('Success2')\n",
    "    \n",
    "if B==A:\n",
    "    print('Success3')\n",
    "    \n",
    "if A!=B:\n",
    "    print('Success4')"
   ]
  },
  {
   "cell_type": "code",
   "execution_count": 122,
   "metadata": {},
   "outputs": [],
   "source": [
    "# build our own assertion\n",
    "\n",
    "student_names = ['Anna', 'Ben', 'Cristine']\n",
    "student_grades = ['A+', 'C-', 'A']\n",
    "\n",
    "if len(student_names) != len(student_grades):\n",
    "    print('Size of lists do not match.')\n",
    "    \n",
    "# a different way to do that:\n",
    "# this is not crucial, just a useful tip\n",
    "assert len(student_grades) == len(student_names), 'Mismatch!'"
   ]
  },
  {
   "cell_type": "code",
   "execution_count": 132,
   "metadata": {},
   "outputs": [
    {
     "name": "stdout",
     "output_type": "stream",
     "text": [
      "hello\n",
      "success2\n",
      "success4\n",
      "success5\n"
     ]
    }
   ],
   "source": [
    "# \"if\" a non-boolean\n",
    "\n",
    "x = 22\n",
    "\n",
    "if x:\n",
    "    print('hello')\n",
    "    \n",
    "y = 0\n",
    "if y:\n",
    "    print('success1')\n",
    "    \n",
    "y = 1\n",
    "if y:\n",
    "    print('success2')\n",
    "    \n",
    "y = None\n",
    "if y:\n",
    "    print('success3')\n",
    "    \n",
    "y = 1.3\n",
    "if y:\n",
    "    print('success4')\n",
    "    \n",
    "y = -2\n",
    "if y:\n",
    "    print('success5')\n",
    "    \n",
    "y = []\n",
    "x = len(y)!=0\n",
    "if y:\n",
    "    print('success6')\n",
    "    \n",
    "y = ''"
   ]
  },
  {
   "cell_type": "code",
   "execution_count": 133,
   "metadata": {},
   "outputs": [
    {
     "name": "stdout",
     "output_type": "stream",
     "text": [
      "No grade found!\n"
     ]
    }
   ],
   "source": [
    "student_names = ['Anna', 'Ben', 'Cristine']\n",
    "student_grades = ['A+', 'C-', None]\n",
    "\n",
    "grade = student_grades[2]\n",
    "\n",
    "if grade == None:\n",
    "    print('No grade found!')"
   ]
  },
  {
   "cell_type": "code",
   "execution_count": 136,
   "metadata": {},
   "outputs": [
    {
     "name": "stdout",
     "output_type": "stream",
     "text": [
      "Hooray!\n",
      "Hooray2!\n",
      "Hooray3!\n"
     ]
    }
   ],
   "source": [
    "# using \"and,\" \"or,\" \"in,\" etc.\n",
    "\n",
    "a = 1\n",
    "b = 2\n",
    "c = 3\n",
    "\n",
    "# if a is 1, run the next line\n",
    "if a==1:\n",
    "    # if b is 2, run the next line\n",
    "    if b==2:\n",
    "        # if c is 3 run the next line\n",
    "        if c==3:\n",
    "            # only if a was 1, b was 2, and c was 3, can you reach here\n",
    "            print('Hooray!')\n",
    "            \n",
    "if a==1 and b==2 and c==3:\n",
    "    print('Hooray2!')\n",
    "    \n",
    "if a==1 or c==4:    \n",
    "    print('Hooray3!')"
   ]
  },
  {
   "cell_type": "code",
   "execution_count": 17,
   "metadata": {
    "collapsed": true
   },
   "outputs": [],
   "source": [
    "# nested parentheses"
   ]
  },
  {
   "cell_type": "code",
   "execution_count": 137,
   "metadata": {},
   "outputs": [
    {
     "name": "stdout",
     "output_type": "stream",
     "text": [
      "Hello\n"
     ]
    }
   ],
   "source": [
    "# else\n",
    "\n",
    "\n",
    "x = 'apple'\n",
    "# goal: if x is 'apple', print hello, otherwise print goodbye\n",
    "\n",
    "if x=='apple':\n",
    "    print('Hello')\n",
    "if x!='apple':\n",
    "    print('Goodbye')\n",
    "\n",
    "# or, you can do this:\n",
    "    \n",
    "if x=='apple':\n",
    "    print('Hello')\n",
    "else:\n",
    "    print('Goodbye')\n",
    "    "
   ]
  },
  {
   "cell_type": "code",
   "execution_count": 140,
   "metadata": {},
   "outputs": [
    {
     "name": "stdout",
     "output_type": "stream",
     "text": [
      "My fruit is not red or orange.\n",
      "My fruit is not red or orange.\n"
     ]
    }
   ],
   "source": [
    "x = 'banana'\n",
    "\n",
    "if x == 'apple':\n",
    "    print('My fruit is red.')\n",
    "# if the previous thing wasn't true, but this next one is, then run this code...\n",
    "elif x == 'orange':\n",
    "    print('My fruit is orange.')\n",
    "else:\n",
    "    print('My fruit is not red or orange.')\n",
    "\n",
    "# ----- another way to do the same thing\n",
    "if x == 'apple':\n",
    "    print('Fruit is red.')\n",
    "else:\n",
    "    if x == 'orange':\n",
    "        print('Fruit is orange.')\n",
    "    else:\n",
    "        print('My fruit is not red or orange.')\n",
    "\n",
    "# there can only be a single \"else\" associated with an if, because\n",
    "# it captures every scenario not captured by the \"if\"\n",
    "# if you add a second \"else\", it can never be reached (it's also an error)"
   ]
  },
  {
   "cell_type": "code",
   "execution_count": null,
   "metadata": {
    "collapsed": true
   },
   "outputs": [],
   "source": [
    "x = 'apple'\n",
    "color = 'green'\n",
    "\n",
    "if x == 'apple': \n",
    "    # everything at this indentation assumes x is an apple\n",
    "    if color == 'green':\n",
    "        print('We have a green apple.')\n",
    "    else:\n",
    "        print('We have a non-green apple.')\n",
    "else:\n",
    "    print('We do not have an apple.')"
   ]
  },
  {
   "cell_type": "markdown",
   "metadata": {},
   "source": [
    "# (go do exercise #2)"
   ]
  },
  {
   "cell_type": "markdown",
   "metadata": {},
   "source": [
    "### `while` loops"
   ]
  },
  {
   "cell_type": "code",
   "execution_count": null,
   "metadata": {
    "collapsed": true
   },
   "outputs": [],
   "source": [
    "# simple loop: increment until a value"
   ]
  },
  {
   "cell_type": "code",
   "execution_count": null,
   "metadata": {
    "collapsed": true
   },
   "outputs": [],
   "source": [
    "# while true"
   ]
  },
  {
   "cell_type": "code",
   "execution_count": null,
   "metadata": {
    "collapsed": true
   },
   "outputs": [],
   "source": [
    "# iterating over a list with a while loop"
   ]
  },
  {
   "cell_type": "code",
   "execution_count": null,
   "metadata": {
    "collapsed": true
   },
   "outputs": [],
   "source": [
    "# iterating through a string with a while loop"
   ]
  },
  {
   "cell_type": "code",
   "execution_count": 16,
   "metadata": {
    "collapsed": true
   },
   "outputs": [],
   "source": [
    "# using a while loop to discover anomaly (when current does not equal previous)"
   ]
  },
  {
   "cell_type": "markdown",
   "metadata": {},
   "source": [
    "# (go do exercises #3 and #4)"
   ]
  },
  {
   "cell_type": "markdown",
   "metadata": {},
   "source": [
    "### `for` loops"
   ]
  },
  {
   "cell_type": "code",
   "execution_count": 8,
   "metadata": {
    "collapsed": true
   },
   "outputs": [],
   "source": [
    "# the easier way to work with lists (and things like lists)"
   ]
  },
  {
   "cell_type": "code",
   "execution_count": 14,
   "metadata": {
    "collapsed": true
   },
   "outputs": [],
   "source": [
    "# for index in list"
   ]
  },
  {
   "cell_type": "code",
   "execution_count": null,
   "metadata": {
    "collapsed": true
   },
   "outputs": [],
   "source": [
    "# for index in another list"
   ]
  },
  {
   "cell_type": "code",
   "execution_count": null,
   "metadata": {
    "collapsed": true
   },
   "outputs": [],
   "source": [
    "# range objects"
   ]
  },
  {
   "cell_type": "code",
   "execution_count": null,
   "metadata": {
    "collapsed": true
   },
   "outputs": [],
   "source": [
    "# for index in range"
   ]
  },
  {
   "cell_type": "code",
   "execution_count": 15,
   "metadata": {
    "collapsed": true
   },
   "outputs": [],
   "source": [
    "# using for index in range to index a list"
   ]
  },
  {
   "cell_type": "code",
   "execution_count": 9,
   "metadata": {
    "collapsed": true
   },
   "outputs": [],
   "source": [
    "# for item in list"
   ]
  },
  {
   "cell_type": "markdown",
   "metadata": {},
   "source": [
    "# (go do exercise #5)"
   ]
  },
  {
   "cell_type": "markdown",
   "metadata": {},
   "source": [
    "### Dictionaries"
   ]
  },
  {
   "cell_type": "code",
   "execution_count": 19,
   "metadata": {
    "collapsed": true
   },
   "outputs": [],
   "source": [
    "# keys and values"
   ]
  },
  {
   "cell_type": "code",
   "execution_count": 22,
   "metadata": {
    "collapsed": true
   },
   "outputs": [],
   "source": [
    "# assignments"
   ]
  },
  {
   "cell_type": "code",
   "execution_count": 23,
   "metadata": {
    "collapsed": true
   },
   "outputs": [],
   "source": [
    "# retrievals"
   ]
  },
  {
   "cell_type": "markdown",
   "metadata": {},
   "source": [
    "# (go do exercise #6)"
   ]
  },
  {
   "cell_type": "markdown",
   "metadata": {},
   "source": [
    "### If time allows:\n",
    "#### functions\n",
    "#### importing numpy"
   ]
  },
  {
   "cell_type": "code",
   "execution_count": null,
   "metadata": {
    "collapsed": true
   },
   "outputs": [],
   "source": []
  }
 ],
 "metadata": {
  "kernelspec": {
   "display_name": "Python 3",
   "language": "python",
   "name": "python3"
  },
  "language_info": {
   "codemirror_mode": {
    "name": "ipython",
    "version": 3
   },
   "file_extension": ".py",
   "mimetype": "text/x-python",
   "name": "python",
   "nbconvert_exporter": "python",
   "pygments_lexer": "ipython3",
   "version": "3.6.2"
  }
 },
 "nbformat": 4,
 "nbformat_minor": 2
}
