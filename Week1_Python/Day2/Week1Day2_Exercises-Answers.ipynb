{
 "cells": [
  {
   "cell_type": "markdown",
   "metadata": {},
   "source": [
    "## Week 1, Day 2 Exercises"
   ]
  },
  {
   "cell_type": "markdown",
   "metadata": {},
   "source": [
    "<hr/>\n",
    "### Problem 1: Lists"
   ]
  },
  {
   "cell_type": "markdown",
   "metadata": {},
   "source": [
    "__(a)__ Here are data on the number of cells found in a set of brain regions in the human brain. \n",
    "\n",
    "\n",
    "Retina: 29,100,000  \n",
    "Prefrontal cortex: 1,322,782,000  \n",
    "Dorsal striatum: 114,890,000  \n",
    "Thalamus: 51,800,000  \n",
    "Amygdala: 13,128,000  \n",
    "Hippocampus: 41,255,000  \n",
    "Substantia nigra: 708,000  \n",
    "Primary visual cortex: 142,300,000  \n",
    "Cerebellum: 101,096,000,000  \n",
    "\n",
    "The data in this list are given in anatomical order, from anterior (front of brain) to posterior (back of brain).\n",
    "\n",
    "Create two lists: one containing the names of the brain structures, and a second containing the cell counts in the same order."
   ]
  },
  {
   "cell_type": "code",
   "execution_count": 7,
   "metadata": {
    "collapsed": true
   },
   "outputs": [],
   "source": [
    "structure_names = ['Retina', 'Prefrontal cortex', 'Dorsal striatum', \n",
    "                   'Thalamus', 'Amygdala', 'Hippocampus', \n",
    "                   'Substantia nigra', 'Primary visual cortex', 'Cerebellum']\n",
    "\n",
    "structure_sizes = [29100, 1322782, 114890, \n",
    "                   51800, 13128, 41255, \n",
    "                  708, 142300, 101096000]\n",
    "structure_sizes = [size * 1000 for size in structure_sizes]"
   ]
  },
  {
   "cell_type": "markdown",
   "metadata": {},
   "source": [
    "__(b)__ Given an index `i` stored in an integer variable, print out a sentence indicating the name of brain region `i` and its associated cell count."
   ]
  },
  {
   "cell_type": "code",
   "execution_count": 4,
   "metadata": {
    "collapsed": true
   },
   "outputs": [
    {
     "name": "stdout",
     "output_type": "stream",
     "text": [
      "0 Retina 29100000\n",
      "1 Prefrontal cortex 1322782000\n",
      "2 Dorsal striatum 114890000\n",
      "3 Thalamus 51800000\n",
      "4 Amygdala 13128000\n",
      "5 Hippocampus 41255000\n",
      "6 Substantia nigra 708000\n",
      "7 Primary visual cortex 142300000\n",
      "8 Cerebellum 101096000000\n"
     ]
    }
   ],
   "source": [
    "i = 4 # ensure your solution works for any value of i\n",
    "\n",
    "for i in range(len(structure_names)):\n",
    "    print(i, structure_names[i], structure_sizes[i])"
   ]
  },
  {
   "cell_type": "markdown",
   "metadata": {},
   "source": [
    "__(c)__ Determine:  \n",
    "(i) the number of brain structures in the list that lie anterior to region `i`  \n",
    "(ii) the number of brain structures in the list that lie posterior to region `i`  \n",
    "(iii) whether or not region `i` is anterior to more brain regions than it is posterior to\n",
    "\n",
    "Print out the results."
   ]
  },
  {
   "cell_type": "code",
   "execution_count": 5,
   "metadata": {
    "collapsed": true
   },
   "outputs": [
    {
     "name": "stdout",
     "output_type": "stream",
     "text": [
      "Index Name # Anterior # Posterior More anterior?\n",
      "0 Retina 0 8 False\n",
      "1 Prefrontal cortex 1 7 False\n",
      "2 Dorsal striatum 2 6 False\n",
      "3 Thalamus 3 5 False\n",
      "4 Amygdala 4 4 False\n",
      "5 Hippocampus 5 3 True\n",
      "6 Substantia nigra 6 2 True\n",
      "7 Primary visual cortex 7 1 True\n",
      "8 Cerebellum 8 0 True\n"
     ]
    }
   ],
   "source": [
    "print('Index', 'Name', '# Anterior', '# Posterior', 'More anterior?')\n",
    "\n",
    "n = len(structure_names)\n",
    "for i in range(n):\n",
    "    # at the i'th position, exactly i regions lie anterior (since we start at zero)\n",
    "    num_anterior = i\n",
    "    # at the i'th position, n - i - 1 lie posterior (since we exclude i itself)\n",
    "    # where n is the length of the list\n",
    "    num_posterior = n - i - 1\n",
    "    # more anterior is a comparison between the two\n",
    "    more_anterior = num_anterior > num_posterior\n",
    "    print(i, structure_names[i], num_anterior, num_posterior, more_anterior)"
   ]
  },
  {
   "cell_type": "markdown",
   "metadata": {},
   "source": [
    "__(d)__ We just received data from a new study in which 3 new brain regions were discovered. The data are listed below.\n",
    "\n",
    "Nucleus accumbens, directly anterior to dorsal striatum, 7,290,000 neurons  \n",
    "Inferior olive, directly anterior to cerebellum, 718,000 neurons  \n",
    "Olfactory bulb, directly posterior to retina, 5,110,000 neurons\n",
    "\n",
    "Update your lists to include these data, and print out the final dataset."
   ]
  },
  {
   "cell_type": "code",
   "execution_count": 9,
   "metadata": {
    "collapsed": true
   },
   "outputs": [
    {
     "name": "stdout",
     "output_type": "stream",
     "text": [
      "['Retina', 'Olfactory bulb', 'Prefrontal cortex', 'Nucleus accumbens', 'Dorsal striatum', 'Thalamus', 'Amygdala', 'Hippocampus', 'Substantia nigra', 'Primary visual cortex', 'Inferior olive', 'Cerebellum']\n",
      "[29100000, 5110000, 1322782000, 7290000, 114890000, 51800000, 13128000, 41255000, 708000, 142300000, 718000, 101096000000]\n"
     ]
    }
   ],
   "source": [
    "# the .index method returns the current index of whatever we ask it for\n",
    "# which is the index we would insert to if we want to insert it before\n",
    "# remember that thte list from from anterior to posterior, \n",
    "# so directly anterior = right before\n",
    "nucleus_accumbens_index = structure_names.index('Dorsal striatum')\n",
    "structure_names.insert(nucleus_accumbens_index, 'Nucleus accumbens')\n",
    "structure_sizes.insert(nucleus_accumbens_index, 7290000)\n",
    "\n",
    "inferior_olive_index = structure_names.index('Cerebellum')\n",
    "structure_names.insert(inferior_olive_index, 'Inferior olive')\n",
    "structure_sizes.insert(inferior_olive_index, 718000)\n",
    "\n",
    "# adding one since this is posterior\n",
    "olfactory_bulb_index = structure_names.index('Retina') + 1\n",
    "structure_names.insert(olfactory_bulb_index, 'Olfactory bulb')\n",
    "structure_sizes.insert(olfactory_bulb_index, 5110000)\n",
    "\n",
    "print(structure_names)\n",
    "print(structure_sizes)\n",
    "\n"
   ]
  },
  {
   "cell_type": "markdown",
   "metadata": {},
   "source": [
    "<hr/>\n",
    "### Problem 2: `if` statements\n"
   ]
  },
  {
   "cell_type": "markdown",
   "metadata": {},
   "source": [
    "Consider 3 brain regions: region `i`, the region directly anterior to region `i`, and the region directly posterior to region `i`. \n",
    "\n",
    "Which has the largest number of cells? Which has the smallest number of cells? Print out the answers."
   ]
  },
  {
   "cell_type": "code",
   "execution_count": 15,
   "metadata": {
    "collapsed": true
   },
   "outputs": [
    {
     "name": "stdout",
     "output_type": "stream",
     "text": [
      "i - 1 is the smallest\n",
      "i is the largest\n"
     ]
    }
   ],
   "source": [
    "i = 4\n",
    "\n",
    "# Please, for the love of all that is holy, never write code like this\n",
    "\n",
    "if structure_sizes[i] < structure_sizes[i + 1] and \\\n",
    "    structure_sizes[i] < structure_sizes[i - 1]:\n",
    "    print('i is the smallest')\n",
    "    \n",
    "if structure_sizes[i - 1] < structure_sizes[i + 1] and \\\n",
    "    structure_sizes[i - 1] < structure_sizes[i]:\n",
    "    print('i - 1 is the smallest')\n",
    "    \n",
    "if structure_sizes[i + 1] < structure_sizes[i] and \\\n",
    "    structure_sizes[i + 1] < structure_sizes[i - 1]:\n",
    "    print('i + 1 is the smallest')  \n",
    "    \n",
    "if structure_sizes[i] > structure_sizes[i + 1] and \\\n",
    "    structure_sizes[i] > structure_sizes[i - 1]:\n",
    "    print('i is the largest')\n",
    "    \n",
    "if structure_sizes[i - 1] > structure_sizes[i + 1] and \\\n",
    "    structure_sizes[i - 1] > structure_sizes[i]:\n",
    "    print('i - 1 is the largest')\n",
    "    \n",
    "if structure_sizes[i + 1] > structure_sizes[i] and \\\n",
    "    structure_sizes[i + 1] > structure_sizes[i - 1]:\n",
    "    print('i + 1 is the largest')    "
   ]
  },
  {
   "cell_type": "markdown",
   "metadata": {},
   "source": [
    "<hr/>\n",
    "### Problem 3: `while` loops\n"
   ]
  },
  {
   "cell_type": "markdown",
   "metadata": {},
   "source": [
    "__(a)__ Compute the total number of cells in all the brain regions of your dataset."
   ]
  },
  {
   "cell_type": "code",
   "execution_count": 17,
   "metadata": {
    "collapsed": true
   },
   "outputs": [
    {
     "name": "stdout",
     "output_type": "stream",
     "text": [
      "The total size is 102825081000\n"
     ]
    }
   ],
   "source": [
    "i = 0\n",
    "total_size = 0\n",
    "\n",
    "while i < len(structure_sizes):\n",
    "    # this is the same as total_size = total_size  + structure_sizes[i]\n",
    "    total_size += structure_sizes[i] \n",
    "    i += 1\n",
    "\n",
    "print('The total size is', total_size)"
   ]
  },
  {
   "cell_type": "markdown",
   "metadata": {},
   "source": [
    "__(b)__ Compute the average number of cells in a brain region."
   ]
  },
  {
   "cell_type": "code",
   "execution_count": 18,
   "metadata": {
    "collapsed": true
   },
   "outputs": [
    {
     "name": "stdout",
     "output_type": "stream",
     "text": [
      "The average size is 8568756750.0\n"
     ]
    }
   ],
   "source": [
    "print('The average size is', total_size / len(structure_sizes))"
   ]
  },
  {
   "cell_type": "markdown",
   "metadata": {},
   "source": [
    "__(c)__ Determine the brain region with  \n",
    "(i) the largest number of cells  \n",
    "(ii) the smallest number of cells\n",
    "\n",
    "Print out the results."
   ]
  },
  {
   "cell_type": "code",
   "execution_count": 22,
   "metadata": {
    "collapsed": true
   },
   "outputs": [
    {
     "name": "stdout",
     "output_type": "stream",
     "text": [
      "The largest region is Cerebellum with 101096000000 neurons\n",
      "The smallest region is Substantia nigra with 708000 neurons\n"
     ]
    }
   ],
   "source": [
    "i = 0\n",
    "largest_index = None\n",
    "largest_size = 0\n",
    "smallest_index = None\n",
    "smallest_size = 1e25\n",
    "\n",
    "while i < len(structure_sizes):\n",
    "    current_size = structure_sizes[i]\n",
    "    \n",
    "    if current_size > largest_size:\n",
    "        largest_size = current_size\n",
    "        largest_index = i\n",
    "        \n",
    "    if current_size < smallest_size:\n",
    "        smallest_size = current_size\n",
    "        smallest_index = i\n",
    "        \n",
    "    i += 1\n",
    "        \n",
    "print(f'The largest region is {structure_names[largest_index]} with {largest_size} neurons')\n",
    "print(f'The smallest region is {structure_names[smallest_index]} with {smallest_size} neurons')"
   ]
  },
  {
   "cell_type": "markdown",
   "metadata": {},
   "source": [
    "<hr/>\n",
    "### Problem 4: `if` statements and loops"
   ]
  },
  {
   "cell_type": "markdown",
   "metadata": {},
   "source": [
    "For every brain region in your dataset:\n",
    "\n",
    "Print a string that indicates which category the brain region falls into:  \n",
    "Category 1: the region with the longest name or the largest number of cells  \n",
    "Category 2: the region with the shortest name or the smallest number of cells  \n",
    "Category 3: a region with more than double the number of cells found in the smallest brain region  \n",
    "Category 4: a region with more cells than the average cell count, and with a name shorter than the average name  \n",
    "Category 5: none of the above"
   ]
  },
  {
   "cell_type": "code",
   "execution_count": 24,
   "metadata": {
    "collapsed": true
   },
   "outputs": [
    {
     "name": "stdout",
     "output_type": "stream",
     "text": [
      "The Retina region has more than double the neurons of the smallest region (3)\n",
      "The Olfactory bulb region has more than double the neurons of the smallest region (3)\n",
      "The Prefrontal cortex region has more than double the neurons of the smallest region (3)\n",
      "The Nucleus accumbens region has more than double the neurons of the smallest region (3)\n",
      "The Dorsal striatum region has more than double the neurons of the smallest region (3)\n",
      "The Thalamus region has more than double the neurons of the smallest region (3)\n",
      "The Amygdala region has more than double the neurons of the smallest region (3)\n",
      "The Hippocampus region has more than double the neurons of the smallest region (3)\n",
      "The Substantia nigra region is the smallest in the brain with 708000 neurons (2)\n",
      "The Primary visual cortex region has more than double the neurons of the smallest region (3)\n",
      "The Inferior olive regions falls into none of the above classifications (5)\n",
      "The Cerebellum region is the largest in the brain with 101096000000 neurons (1)\n"
     ]
    }
   ],
   "source": [
    "largest_size = max(structure_sizes)\n",
    "smallest_size = min(structure_sizes)\n",
    "average_size = sum(structure_sizes) / len(structure_sizes)\n",
    "\n",
    "# Let's compute the average name length for the fourth category\n",
    "total_name_length = 0\n",
    "for name in structure_names:\n",
    "    total_name_length += len(name)\n",
    "    \n",
    "average_name_length = total_name_length / len(structure_names)\n",
    "\n",
    "for i in range(len(structure_names)):\n",
    "    name = structure_names[i]\n",
    "    size = structure_sizes[i]\n",
    "    \n",
    "    if size == largest_size:\n",
    "        print(f'The {name} region is the largest in the brain with {size} neurons (1)')\n",
    "        \n",
    "    elif size == smallest_size:\n",
    "        print(f'The {name} region is the smallest in the brain with {size} neurons (2)')\n",
    "        \n",
    "    elif size > 2 * smallest_size:\n",
    "        print(f'The {name} region has more than double the neurons of the smallest region (3)')\n",
    "    \n",
    "    elif size > average_size and len(name) < average_name_length:\n",
    "        print(f'The {name} region has above average size and shorter than average name (4)')\n",
    "    \n",
    "    else:\n",
    "        print(f'The {name} regions falls into none of the above classifications (5)')"
   ]
  },
  {
   "cell_type": "markdown",
   "metadata": {},
   "source": [
    "<hr/>\n",
    "### Problem 5: `for` loops"
   ]
  },
  {
   "cell_type": "markdown",
   "metadata": {},
   "source": [
    "__(a)__ Print out your whole dataset with one line per brain structure, formatted as `\"Structure #X: Structure_name, contains N cells.\"`\n",
    "\n",
    "For example, the first line might be: `\"Structure #0: Retina, contains 29,100,100 cells.\"`"
   ]
  },
  {
   "cell_type": "code",
   "execution_count": 27,
   "metadata": {
    "collapsed": true
   },
   "outputs": [
    {
     "name": "stdout",
     "output_type": "stream",
     "text": [
      "Structure #0: Retina, contains 29,100,000 cells.\n",
      "Structure #1: Olfactory bulb, contains 5,110,000 cells.\n",
      "Structure #2: Prefrontal cortex, contains 1,322,782,000 cells.\n",
      "Structure #3: Nucleus accumbens, contains 7,290,000 cells.\n",
      "Structure #4: Dorsal striatum, contains 114,890,000 cells.\n",
      "Structure #5: Thalamus, contains 51,800,000 cells.\n",
      "Structure #6: Amygdala, contains 13,128,000 cells.\n",
      "Structure #7: Hippocampus, contains 41,255,000 cells.\n",
      "Structure #8: Substantia nigra, contains 708,000 cells.\n",
      "Structure #9: Primary visual cortex, contains 142,300,000 cells.\n",
      "Structure #10: Inferior olive, contains 718,000 cells.\n",
      "Structure #11: Cerebellum, contains 101,096,000,000 cells.\n"
     ]
    }
   ],
   "source": [
    "for i in range(len(structure_names)):\n",
    "    print(f'Structure #{i}: {structure_names[i]}, contains {structure_sizes[i]:,} cells.')"
   ]
  },
  {
   "cell_type": "markdown",
   "metadata": {},
   "source": [
    "__(b)__ Given a list of integer indices called `idxs`, modify the name of the brain structure at every index in `idxs` to be all capital letters.\n",
    "\n",
    "*Hint: my_string.upper() returns an upper-case version of my_string.*"
   ]
  },
  {
   "cell_type": "code",
   "execution_count": 29,
   "metadata": {
    "collapsed": true
   },
   "outputs": [
    {
     "name": "stdout",
     "output_type": "stream",
     "text": [
      "['Retina', 'Olfactory bulb', 'Prefrontal cortex', 'NUCLEUS ACCUMBENS', 'Dorsal striatum', 'THALAMUS', 'Amygdala', 'Hippocampus', 'Substantia nigra', 'Primary visual cortex', 'INFERIOR OLIVE', 'Cerebellum']\n"
     ]
    }
   ],
   "source": [
    "idxs = [3, 5, 10] # ensure your solution works for any number of indices in this list\n",
    "\n",
    "# the syntax list[:] creates a copy of the list \n",
    "# (think about it as a slice from the start to the end)\n",
    "capitalized_structure_names = structure_names[:]\n",
    "\n",
    "for i in idxs:\n",
    "    capitalized_structure_names[i] = capitalized_structure_names[i].upper()\n",
    "    \n",
    "print(capitalized_structure_names)"
   ]
  },
  {
   "cell_type": "markdown",
   "metadata": {},
   "source": [
    "<hr/>\n",
    "### Problem 6: Synapses"
   ]
  },
  {
   "cell_type": "markdown",
   "metadata": {},
   "source": [
    "Let's assume that the neurons in every brain region are \"fully connected\" – this means that any given neuron makes a synaptic connection with every other neuron in that region.\n",
    "\n",
    "Furthermore, let's assume that each of these connections consists of exactly one synapse.\n",
    "\n",
    "For example, if a brain region has 500 cells, then each cell in that region makes 499 connections: one connection with each other cell in the region."
   ]
  },
  {
   "cell_type": "markdown",
   "metadata": {},
   "source": [
    "__(a)__ For every brain region, calculate the *total* number of synapses in that region. Store the results in a new list called `synapse_counts`, with the same length as your other 2 lists."
   ]
  },
  {
   "cell_type": "code",
   "execution_count": 30,
   "metadata": {
    "collapsed": true
   },
   "outputs": [
    {
     "name": "stdout",
     "output_type": "stream",
     "text": [
      "[423404985450000.0, 13056047445000.0, 8.74876109100609e+17, 26572046355000.0, 6599855992555000.0, 1341619974100000.0, 86172185436000.0, 850987491872500.0, 250631646000.0, 1.012464492885e+16, 257761641000.0, 5.110200607949452e+21]\n"
     ]
    }
   ],
   "source": [
    "# for each region, each neuron connects to every other one\n",
    "# so naively it would be n * (n - 1)\n",
    "# however, this counts each synapse twice, so let's divide by two: \n",
    "\n",
    "synapse_counts = []\n",
    "\n",
    "for size in structure_sizes:\n",
    "    synapse_counts.append(size * (size - 1) / 2)\n",
    "    \n",
    "print(synapse_counts)"
   ]
  },
  {
   "cell_type": "markdown",
   "metadata": {},
   "source": [
    "__(b)__ We want to study the 4 brain regions with the fewest number of synapses. Create a new list that contains 4 elements. Each element consists of one of these brain regions, represented by a list with 4 elements: the index of that region, the name of that region, the number of cells in that region, and the number of synapses in that region."
   ]
  },
  {
   "cell_type": "code",
   "execution_count": 32,
   "metadata": {
    "collapsed": true
   },
   "outputs": [
    {
     "name": "stdout",
     "output_type": "stream",
     "text": [
      "[8, 'Substantia nigra', 708000, 250631646000.0]\n",
      "[10, 'Inferior olive', 718000, 257761641000.0]\n",
      "[1, 'Olfactory bulb', 5110000, 13056047445000.0]\n",
      "[3, 'Nucleus accumbens', 7290000, 26572046355000.0]\n"
     ]
    }
   ],
   "source": [
    "sorted_synapse_counts = sorted(synapse_counts)\n",
    "# sorted goes from smallest to largest\n",
    "smallest_four_synapse_counts = sorted_synapse_counts[:4]\n",
    "# create a list to store my smallest regions\n",
    "small_regions = []\n",
    "# loop through each count\n",
    "for synapse_count in smallest_four_synapse_counts:\n",
    "    # grab the index in the lists of the current synapse count\n",
    "    index = synapse_counts.index(synapse_count)\n",
    "    small_regions.append([index, structure_names[index],\n",
    "                         structure_sizes[index], synapse_count])\n",
    "    \n",
    "for region in small_regions:\n",
    "    print(region)"
   ]
  },
  {
   "cell_type": "markdown",
   "metadata": {},
   "source": [
    "__(c)__ For each of the 4 regions, determine how many synapses it would take to connect every neuron in that region with all neurons in another region. For each of the 4 regions, perform this calculation for *all* of the other 3 remaining regions.\n",
    "\n",
    "Store the results in a dictionary: each region will constitute a single key-value pair in the dictionary, where the key is the region name, and the value is a 3-item list containing the number of synapses required to connect the region to each other region."
   ]
  },
  {
   "cell_type": "code",
   "execution_count": 35,
   "metadata": {
    "collapsed": true
   },
   "outputs": [],
   "source": [
    "connection_requirements = {}\n",
    "\n",
    "for source_index in range(len(small_regions)):\n",
    "    source_region_results = {}\n",
    "    \n",
    "    for target_index in range(len(small_regions)):\n",
    "        if source_index == target_index:\n",
    "            continue\n",
    "        # compute the number of required connections\n",
    "        required_connections = small_regions[source_index][2] * small_regions[target_index][2]\n",
    "        # save the results for this target region\n",
    "        source_region_results[target_index] = required_connections\n",
    "        \n",
    "    connection_requirements[source_index] = source_region_results"
   ]
  },
  {
   "cell_type": "markdown",
   "metadata": {},
   "source": [
    "__(d)__ Print out the results line by line, indicating the two regions being connected, and the number of synapses required to connect them."
   ]
  },
  {
   "cell_type": "code",
   "execution_count": 37,
   "metadata": {
    "collapsed": true
   },
   "outputs": [
    {
     "name": "stdout",
     "output_type": "stream",
     "text": [
      "To connect Substantia nigra <=> Inferior olive, we need 508344000000 synapses\n",
      "To connect Substantia nigra <=> Olfactory bulb, we need 3617880000000 synapses\n",
      "To connect Substantia nigra <=> Nucleus accumbens, we need 5161320000000 synapses\n",
      "To connect Inferior olive <=> Substantia nigra, we need 508344000000 synapses\n",
      "To connect Inferior olive <=> Olfactory bulb, we need 3668980000000 synapses\n",
      "To connect Inferior olive <=> Nucleus accumbens, we need 5234220000000 synapses\n",
      "To connect Olfactory bulb <=> Substantia nigra, we need 3617880000000 synapses\n",
      "To connect Olfactory bulb <=> Inferior olive, we need 3668980000000 synapses\n",
      "To connect Olfactory bulb <=> Nucleus accumbens, we need 37251900000000 synapses\n",
      "To connect Nucleus accumbens <=> Substantia nigra, we need 5161320000000 synapses\n",
      "To connect Nucleus accumbens <=> Inferior olive, we need 5234220000000 synapses\n",
      "To connect Nucleus accumbens <=> Olfactory bulb, we need 37251900000000 synapses\n"
     ]
    }
   ],
   "source": [
    "# loop through all keys in the top level dictionary\n",
    "for source_index in connection_requirements:\n",
    "    # grab the results for this source region\n",
    "    source_results = connection_requirements[source_index]\n",
    "    # loop through the keys of the results for this source region\n",
    "    for target_index in source_results:\n",
    "        # grab the names of both regions\n",
    "        source_name = small_regions[source_index][1]\n",
    "        target_name = small_regions[target_index][1]\n",
    "        # grab the number of synapses required\n",
    "        required_connections = source_results[target_index]\n",
    "        print(f'To connect {source_name} <=> {target_name}, we need {required_connections} synapses')"
   ]
  },
  {
   "cell_type": "markdown",
   "metadata": {},
   "source": [
    "<hr/>\n",
    "### Problem 7: More file names"
   ]
  },
  {
   "cell_type": "markdown",
   "metadata": {},
   "source": [
    "__(a)__ Suppose you have collected a set of brain images using an imaging device. You collected 1000 images, each stored in its own 'tif' file.\n",
    "\n",
    "The names of the image files are like this: `'SubjectX_TrialY_ImageZ_Timestamp.tif'`, where X is the integer subject ID, Y is the integer trial number, Z is the integer image index, and Timestamp is a floating point number with 3 decimal points indicating the time of the image acquisition. For example, a file name might be `'Subject3_Trial22_Image71_3456324.784.tif'`.\n",
    "\n",
    "Given 4 lists, consisting of subject ID's, trial numbers, image indices, and timestamps, create a 5th list, `filenames`, consisting of the file names for all your data."
   ]
  },
  {
   "cell_type": "code",
   "execution_count": 39,
   "metadata": {
    "collapsed": true
   },
   "outputs": [],
   "source": [
    "# Let's create some sample data\n",
    "subject_ids = [123, 456, 789]\n",
    "trial_numbers = [11, 22, 33]\n",
    "image_indices = [100, 101, 102]\n",
    "timesteamps = [0.007, 0.008, 0.009]"
   ]
  },
  {
   "cell_type": "code",
   "execution_count": 40,
   "metadata": {},
   "outputs": [
    {
     "name": "stdout",
     "output_type": "stream",
     "text": [
      "['Subject123_Trial11_Image100_0.007.tif', 'Subject456_Trial22_Image101_0.008.tif', 'Subject789_Trial33_Image102_0.009.tif']\n"
     ]
    }
   ],
   "source": [
    "filenames = []\n",
    "for i in range(len(subject_ids)):\n",
    "    filename = f'Subject{subject_ids[i]}_Trial{trial_numbers[i]}'\n",
    "    filename += f'_Image{image_indices[i]}_{timesteamps[i]:.3f}.tif'\n",
    "    filenames.append(filename)\n",
    "    \n",
    "print(filenames)"
   ]
  },
  {
   "cell_type": "markdown",
   "metadata": {},
   "source": [
    "__(b)__ Now suppose these files are located in a folder on your computer, `'/Home/My/Data/'`. Adjust the contents of `filenames` to complete the full path to each file name."
   ]
  },
  {
   "cell_type": "code",
   "execution_count": 42,
   "metadata": {
    "collapsed": true
   },
   "outputs": [
    {
     "name": "stdout",
     "output_type": "stream",
     "text": [
      "['/Home/My/Data/Subject123_Trial11_Image100_0.007.tif', '/Home/My/Data/Subject456_Trial22_Image101_0.008.tif', '/Home/My/Data/Subject789_Trial33_Image102_0.009.tif']\n"
     ]
    }
   ],
   "source": [
    "folder = '/Home/My/Data/'\n",
    "full_paths = []\n",
    "\n",
    "for filename in filenames:\n",
    "    full_paths.append(f'{folder}{filename}')\n",
    "    \n",
    "print(full_paths)"
   ]
  },
  {
   "cell_type": "markdown",
   "metadata": {},
   "source": [
    "__(c)__ Given your list of paths to data files, write code to *parse* them–i.e., retrieve the subject name, trial number, image index, and timestamp from every file name."
   ]
  },
  {
   "cell_type": "code",
   "execution_count": 46,
   "metadata": {
    "collapsed": true
   },
   "outputs": [
    {
     "name": "stdout",
     "output_type": "stream",
     "text": [
      "123 11 100 0.007\n",
      "456 22 101 0.008\n",
      "789 33 102 0.009\n"
     ]
    }
   ],
   "source": [
    "for full_path in full_paths:\n",
    "    # First, let's only take the part after the folder ends\n",
    "    filename = full_path[len(folder):]\n",
    "    # Second, let's remove the file extension\n",
    "    filename_no_ext = filename[:-1 * len('.tif')]\n",
    "    # Third, let's split by underscores, to get each part separately\n",
    "    filename_parts = filename_no_ext.split('_')\n",
    "    # Let's recover the part we care about from each section\n",
    "    subject_id = filename_parts[0][len('Subject'):]\n",
    "    trial_id = filename_parts[1][len('Trial'):]\n",
    "    image_id = filename_parts[2][len('Image'):]\n",
    "    timestamp = filename_parts[3]\n",
    "    print(subject_id, trial_id, image_id, timestamp)"
   ]
  }
 ],
 "metadata": {
  "kernelspec": {
   "display_name": "Python 3",
   "language": "python",
   "name": "python3"
  },
  "language_info": {
   "codemirror_mode": {
    "name": "ipython",
    "version": 3
   },
   "file_extension": ".py",
   "mimetype": "text/x-python",
   "name": "python",
   "nbconvert_exporter": "python",
   "pygments_lexer": "ipython3",
   "version": "3.6.3"
  }
 },
 "nbformat": 4,
 "nbformat_minor": 2
}
