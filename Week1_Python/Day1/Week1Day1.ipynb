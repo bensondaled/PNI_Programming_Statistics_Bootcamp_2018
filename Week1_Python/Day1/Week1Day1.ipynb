{
 "cells": [
  {
   "cell_type": "markdown",
   "metadata": {},
   "source": [
    "## Week 1, Day 1 Exercises"
   ]
  },
  {
   "cell_type": "markdown",
   "metadata": {},
   "source": [
    "<hr/>\n",
    "### Problem 1: Strings\n",
    "\n",
    "In this problem we will learn about creating, manipulating, and displaying strings."
   ]
  },
  {
   "cell_type": "markdown",
   "metadata": {},
   "source": [
    "__(a)__ Python treats a string like a list of characters, meaning that every string has a *length* corresponding to the number of characters in it.\n",
    "\n",
    "You can get the length of an object using the function `len()`.\n",
    "\n",
    "Write code to determine the number of characters in a string, and store that value in a variable called `num_chars`."
   ]
  },
  {
   "cell_type": "code",
   "execution_count": 41,
   "metadata": {
    "collapsed": true
   },
   "outputs": [],
   "source": [
    "input_string = 'Welcome to grad school.'\n",
    "\n",
    "num_chars = 0 # complete this"
   ]
  },
  {
   "cell_type": "markdown",
   "metadata": {},
   "source": [
    "__(b)__ Given two strings, `string1` and `string2` find the number of characters in each. Then create a variable called `s1_longer_than_s2`, which stores a boolean value (i.e. True or False) indicating whether or not `string1` is longer than `string2`. Print out the length of each string, and the True/False value.\n",
    "\n",
    "Confirm that your code works by changing `string1` and `string2` to strings of your choosing."
   ]
  },
  {
   "cell_type": "code",
   "execution_count": 43,
   "metadata": {
    "collapsed": true
   },
   "outputs": [],
   "source": [
    "string1 = 'i am string 1'\n",
    "string2 = 'i am not string 1'\n",
    "\n",
    "s1_longer_than_s2 = False # complete this\n",
    "\n",
    "# print out the result"
   ]
  },
  {
   "cell_type": "markdown",
   "metadata": {},
   "source": [
    "__(c)__ A *formatted string* is a string variable that starts with a placeholder in it, which is then filled by some other variable. \n",
    "\n",
    "For example, the string `\"Hello, you can call me {name}!\"` has a placeholder for the variable `name`.\n",
    "\n",
    "To fill out the placeholder, we *format* the string using the `.format()` method.\n",
    "\n",
    "Explore the example below to confirm you understand this."
   ]
  },
  {
   "cell_type": "code",
   "execution_count": 44,
   "metadata": {},
   "outputs": [
    {
     "name": "stdout",
     "output_type": "stream",
     "text": [
      "Hello, you can call me Thor!\n"
     ]
    }
   ],
   "source": [
    "template = 'Hello, you can call me {name}!'\n",
    "\n",
    "my_name = 'Thor'\n",
    "\n",
    "complete = template.format(name=my_name)\n",
    "\n",
    "print(complete)"
   ]
  },
  {
   "cell_type": "markdown",
   "metadata": {},
   "source": [
    "__(d)__ Often in scientific analysis we want to inspect numbers, by printing them out as strings.\n",
    "\n",
    "TODO: float formatting"
   ]
  },
  {
   "cell_type": "markdown",
   "metadata": {},
   "source": [
    "f strings"
   ]
  },
  {
   "cell_type": "markdown",
   "metadata": {},
   "source": [
    "print whether char is in a string"
   ]
  },
  {
   "cell_type": "markdown",
   "metadata": {},
   "source": [
    "== and other comparisons"
   ]
  },
  {
   "cell_type": "markdown",
   "metadata": {},
   "source": [
    "str replace and other fxns"
   ]
  },
  {
   "cell_type": "markdown",
   "metadata": {},
   "source": [
    "__(h)__ In this problem we will generate a simple version of the classic game <a href=\"https://en.wikipedia.org/wiki/Mad_Libs\">madlibs</a>."
   ]
  },
  {
   "cell_type": "markdown",
   "metadata": {},
   "source": [
    "<hr/>\n",
    "### Problem 2: Encryption\n",
    "\n",
    "Encryption is the process of \"translating\" some information into a new \"language\" that is harder to understand. We use it, for example, when sending sensitive information like emails over the internet — when an email is encrypted, anyone who tries to intercept it along its route to the recipient would see something that looks like gibberish instead of the content of the message.\n",
    "\n",
    "In this problem, you will use Python to implement a simple form of encryption. We will start by defining our secret message that needs to be encrypted:"
   ]
  },
  {
   "cell_type": "code",
   "execution_count": 3,
   "metadata": {
    "collapsed": true
   },
   "outputs": [],
   "source": [
    "# define our message; you can change this message to anything you'd like\n",
    "message = \"Hi Mom, your new email account password is 'banana'. Don't tell anyone.\""
   ]
  },
  {
   "cell_type": "markdown",
   "metadata": {},
   "source": [
    "__(a)__ For your first encoding scheme, reverse the contents of the message character by character, so that the last character of the message becomes the first one of the encoded message, and so on."
   ]
  },
  {
   "cell_type": "code",
   "execution_count": 12,
   "metadata": {
    "collapsed": true
   },
   "outputs": [],
   "source": [
    "# reverse the message and store the result in the `encoded` variable\n",
    "encoded = ''"
   ]
  },
  {
   "cell_type": "markdown",
   "metadata": {},
   "source": [
    "__(b)__ Decode your previous encoding–in other words, write code to convert it back."
   ]
  },
  {
   "cell_type": "code",
   "execution_count": null,
   "metadata": {
    "collapsed": true
   },
   "outputs": [],
   "source": [
    "# decode the two parts of your encoded message into a single decoded message\n",
    "decoded = ''"
   ]
  },
  {
   "cell_type": "markdown",
   "metadata": {},
   "source": [
    "__(c)__ Define a variable `encryption_worked` which store a boolean value (i.e. True or False), indicating whether or not your encoding/decoding scheme was successful in retaining the content of the message. Then print a message indicating whether or not the encyrption succeeded."
   ]
  },
  {
   "cell_type": "code",
   "execution_count": null,
   "metadata": {
    "collapsed": true
   },
   "outputs": [],
   "source": [
    "# store whether or not the encryption worked as a boolean\n",
    "encryption_worked = False\n",
    "\n",
    "# print out whether or not the encryption worked\n",
    "print()"
   ]
  },
  {
   "cell_type": "markdown",
   "metadata": {},
   "source": [
    "__(d)__ For your second encoding scheme, encode the message by splitting it into 2 chunks. Specifically, the first chunk should consist of every other character, *starting with the last character and moving backwards*. The second chunk should also consist of every other character, but starting with the second-to-last character and moving backwards.\n",
    "\n",
    "The encoded message should consist of a single string, where the first chunk is directly followed by the second. For example, if the input message is \"ilovepython\", then the two chunks are \"nhyeoi\" and \"otpvl\", and the encoded message is \"nhyeoiotpvl\"."
   ]
  },
  {
   "cell_type": "code",
   "execution_count": 36,
   "metadata": {
    "collapsed": true
   },
   "outputs": [],
   "source": [
    "# split the message into 2 chunks, each consisting of every other character going backwards, then combine them\n",
    "encoded = ''"
   ]
  },
  {
   "cell_type": "markdown",
   "metadata": {},
   "source": [
    "__Food for thought__: how would you decode this back into your original message? Try it if you have time!"
   ]
  },
  {
   "cell_type": "markdown",
   "metadata": {},
   "source": [
    "__(e)__ For your third encoding scheme, we implement a new rule to make life a bit easier: you can always assume your input message contains exactly 5 characters. \n"
   ]
  },
  {
   "cell_type": "code",
   "execution_count": 28,
   "metadata": {
    "collapsed": true
   },
   "outputs": [],
   "source": [
    "message = 'neuro'"
   ]
  },
  {
   "cell_type": "markdown",
   "metadata": {},
   "source": [
    "For this encoding scheme, you will convert each character into new character with a specific relationship to the original. As it turns out, computers internally treat every character as a number (called <a href=\"https://en.wikipedia.org/wiki/Unicode\"> unicode</a>). Python allows you to retrieve the number associated with each character using the built-in function `ord`, which stands for \"ordinal.\""
   ]
  },
  {
   "cell_type": "code",
   "execution_count": 27,
   "metadata": {},
   "outputs": [
    {
     "name": "stdout",
     "output_type": "stream",
     "text": [
      "'a' is represented by 97, and 'b' is represented by 98.\n"
     ]
    }
   ],
   "source": [
    "number_for_letter_a = ord('a')\n",
    "number_for_letter_b = ord('b')\n",
    "\n",
    "print(f\"'a' is represented by {number_for_letter_a}, and 'b' is represented by {number_for_letter_b}.\")"
   ]
  },
  {
   "cell_type": "markdown",
   "metadata": {},
   "source": [
    "Encode your 5-character message as a string that contains the numerical value of each original character, with spaces between each one. For example, the message \"ababa\" would be coded as \"97 98 97 98 97\"."
   ]
  },
  {
   "cell_type": "code",
   "execution_count": 30,
   "metadata": {
    "collapsed": true
   },
   "outputs": [],
   "source": [
    "# encode the message by converting each character to its unicode value\n",
    "encoded = ''"
   ]
  },
  {
   "cell_type": "markdown",
   "metadata": {},
   "source": [
    "__(f)__ Now convert the encoded message back into the original one (i.e. decode it). The `chr` function is the opposite of the `ord` function–it converts a numerical unicode value into its associated character. Use this function to decode your encoded message, and confirm that the result matches the originally encoded message.\n",
    "\n",
    "*Hint: the `int()` function converts a string into an integer. For example `int('65')` returns the integer `65`.*"
   ]
  },
  {
   "cell_type": "code",
   "execution_count": 34,
   "metadata": {
    "collapsed": true
   },
   "outputs": [],
   "source": [
    "decoded = ''"
   ]
  },
  {
   "cell_type": "markdown",
   "metadata": {},
   "source": [
    "__(g)__ Now let's make the encoding a bit more sophisticated. In this next scheme, for each character in the 5-letter message, find its unicode value and increment it by 1 (add 1 to it). Then, to produce the encoded message, convert the unicode values back into their characters.\n",
    "\n",
    "For example, if the input message is \"aaaaa\", then your unicode values would be 97,97,97,97,97, your incremented values would be 98,98,98,98,98, and your encoded message would be \"bbbbb\"."
   ]
  },
  {
   "cell_type": "code",
   "execution_count": 31,
   "metadata": {
    "collapsed": true
   },
   "outputs": [],
   "source": [
    "# encode the message by incrementing the unicode values\n",
    "encoded = ''"
   ]
  },
  {
   "cell_type": "markdown",
   "metadata": {},
   "source": [
    "__(h) Bonus__: make an encoding scheme similar to the one in part __g__, except for input messages of any length.\n",
    "\n",
    "*Hint: you will need Google for this one! You probably have not yet been taught all you need to achieve it.*"
   ]
  },
  {
   "cell_type": "code",
   "execution_count": 32,
   "metadata": {
    "collapsed": true
   },
   "outputs": [],
   "source": [
    "encoded = ''"
   ]
  }
 ],
 "metadata": {
  "kernelspec": {
   "display_name": "Python 3",
   "language": "python",
   "name": "python3"
  },
  "language_info": {
   "codemirror_mode": {
    "name": "ipython",
    "version": 3
   },
   "file_extension": ".py",
   "mimetype": "text/x-python",
   "name": "python",
   "nbconvert_exporter": "python",
   "pygments_lexer": "ipython3",
   "version": "3.6.2"
  }
 },
 "nbformat": 4,
 "nbformat_minor": 2
}
