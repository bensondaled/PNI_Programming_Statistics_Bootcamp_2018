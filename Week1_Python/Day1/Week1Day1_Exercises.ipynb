{
 "cells": [
  {
   "cell_type": "markdown",
   "metadata": {},
   "source": [
    "## Week 1, Day 1 Exercises"
   ]
  },
  {
   "cell_type": "markdown",
   "metadata": {},
   "source": [
    "<hr/>\n",
    "### Problem 1: String formatting\n",
    "\n",
    "In this problem we will practice some basics with displaying and formatting strings."
   ]
  },
  {
   "cell_type": "markdown",
   "metadata": {},
   "source": [
    "__(a)__ Python treats a string like a list of characters, meaning that every string has a *length* corresponding to the number of characters in it.\n",
    "\n",
    "You can get the length of a Python object using the function `len()`.\n",
    "\n",
    "Write code to determine the number of characters in a string called `input_string`, and store that value in a variable called `num_chars`."
   ]
  },
  {
   "cell_type": "code",
   "execution_count": 1,
   "metadata": {
    "collapsed": true
   },
   "outputs": [],
   "source": [
    "input_string = 'Welcome to grad school.'\n",
    "\n",
    "num_chars = 0 # replace this with the proper code"
   ]
  },
  {
   "cell_type": "markdown",
   "metadata": {},
   "source": [
    "__(b)__ Given two strings, `string1` and `string2`, find the number of characters in each. Then create a variable called `s1_is_longer_than_s2`, which stores a boolean value (i.e. True or False) indicating whether or not `string1` is longer than `string2`. Print out the length of each string, and the True/False value.\n",
    "\n",
    "Confirm that your code works by changing `string1` and `string2` to strings of your choosing."
   ]
  },
  {
   "cell_type": "code",
   "execution_count": 2,
   "metadata": {
    "collapsed": true
   },
   "outputs": [],
   "source": [
    "string1 = 'i am string 1'\n",
    "string2 = 'i am not string 1'\n",
    "\n",
    "s1_is_longer_than_s2 = False # replace this with the proper code\n",
    "\n",
    "# print out the length of each string, and whether or not string1 is longer than string2"
   ]
  },
  {
   "cell_type": "markdown",
   "metadata": {},
   "source": [
    "__(c)__ A *formatted string* is a string variable that starts with a placeholder in it, which is then filled by some other variable. \n",
    "\n",
    "For example, the string `\"Hello, you can call me {name}!\"` has a placeholder for the variable `name`.\n",
    "\n",
    "To fill out the placeholder, we *format* the string using the `.format()` method.\n",
    "\n",
    "Explore the example below to confirm you understand this."
   ]
  },
  {
   "cell_type": "code",
   "execution_count": null,
   "metadata": {
    "collapsed": true
   },
   "outputs": [],
   "source": [
    "template = 'Hello, you can call me {name}!'\n",
    "\n",
    "my_name = 'Thor'\n",
    "\n",
    "complete = template.format(name=my_name)\n",
    "\n",
    "print(complete)"
   ]
  },
  {
   "cell_type": "markdown",
   "metadata": {},
   "source": [
    "__Task__: Create a simple version of the game <a href=\"https://en.wikipedia.org/wiki/Mad_Libs\">madlibs</a>. \n",
    "\n",
    "Create a template string containing a short story with at least 3 placeholders. Then in the following lines of code, define new variables that will fill in each placeholder. Finally, format the string using your variables. Print out the result."
   ]
  },
  {
   "cell_type": "code",
   "execution_count": null,
   "metadata": {
    "collapsed": true
   },
   "outputs": [],
   "source": [
    "# create the story template\n",
    "story = 'insert a story here with placeholders'\n",
    "\n",
    "# create variables to fill in placeholders\n",
    "\n",
    "# format the string and print it out"
   ]
  },
  {
   "cell_type": "markdown",
   "metadata": {},
   "source": [
    "__(d)__ Often in scientific analysis we want to inspect numbers, by printing them out as strings. String formatting allows us to print out numbers that look pretty.\n",
    "\n",
    "To format a number, the placeholder in the template string looks like, for example, \"`{var:.2f}`\" where `var` is the variable name, and `.2f` indicates a number with 2 digits after the decimal point.\n",
    "\n",
    "Define a variable storing a number of your choosing, and print it out with (i) 0, (ii) 5, and (iii) 10 digits after the decimal point."
   ]
  },
  {
   "cell_type": "code",
   "execution_count": null,
   "metadata": {
    "collapsed": true
   },
   "outputs": [],
   "source": [
    "# print out a variable with different numbers of digits after the decimal point"
   ]
  },
  {
   "cell_type": "markdown",
   "metadata": {},
   "source": [
    "__(e)__ Given an integer `I` and another integer `N`, write code that will print out a string containing `N` copies of `I`, separated by spaces.\n",
    "\n",
    "For example, if `I` is 42 and `N` is 3, then the string would be `\"42 42 42\"`\n",
    "\n",
    "*Hint*: recall that strings can be multiplied: `\"X\"*3` evaluates to \"XXX\"."
   ]
  },
  {
   "cell_type": "code",
   "execution_count": 3,
   "metadata": {
    "collapsed": true
   },
   "outputs": [],
   "source": [
    "I = 42 # try different values of I\n",
    "N = 3 # try different values of N\n",
    "\n",
    "# create and print the formatted string"
   ]
  },
  {
   "cell_type": "markdown",
   "metadata": {},
   "source": [
    "__(f) Bonus:__ Complete the problem in __e__, but now ensuring that the number of decimal points in each number also equals `N`. For example, if `I` is 18 and `N` is 4, then the string would be `\"18.0000 18.0000 18.0000 18.0000\"`.\n",
    "\n",
    "*Hint: You can nest formatting within formatting. For example, you can write `{var0:{var1}.{var2}f}`*."
   ]
  },
  {
   "cell_type": "code",
   "execution_count": 4,
   "metadata": {
    "collapsed": true
   },
   "outputs": [],
   "source": [
    "# complete the bonus question here"
   ]
  },
  {
   "cell_type": "markdown",
   "metadata": {},
   "source": [
    "__(g)__ Using your knowledge from parts __a__-__e__: given two strings called `s1` and `s2`, create a third string called `s3` that tells us what `s1` and `s2` are, whether or not `s2` is longer than `s1`, and the difference in their lengths.\n",
    "\n",
    "For example, if `s1` is `'neuro'` and `s2` is `'science'`, then `s3` should be: \n",
    "\n",
    "`\"s1 is 'neuro' and s2 is 'science'. It is True that s2 is longer than s1, and s2 has 2 more characters than s1.\"`"
   ]
  },
  {
   "cell_type": "code",
   "execution_count": 5,
   "metadata": {
    "collapsed": true
   },
   "outputs": [],
   "source": [
    "s1 = 'any string'\n",
    "s2 = 'any other string'\n",
    "s3 = '' # create and print s3"
   ]
  },
  {
   "cell_type": "markdown",
   "metadata": {},
   "source": [
    "<hr/>\n",
    "### Problem 2: File name parsing\n",
    "In this problem we will use string analysis to parse file names. This is a useful thing to know how to do!"
   ]
  },
  {
   "cell_type": "markdown",
   "metadata": {},
   "source": [
    "__(a)__ Python can tell us whether any given word/substring exists inside a string.\n",
    "\n",
    "For example, `'at' in 'math'` evaluates to `True`. But `'nat' in 'math'` evaluates to `False`.\n",
    "\n",
    "Your task: given a variable called `file_name` storing the name of a file, determine whether the file is a tif image file, by checking whether the substring `'tif'` is contained in it. Store the result in a variable called `is_tif_file`.\n",
    "\n",
    "Confirm that your code works for both tif and non-tif files."
   ]
  },
  {
   "cell_type": "code",
   "execution_count": null,
   "metadata": {
    "collapsed": true
   },
   "outputs": [],
   "source": [
    "file_name = 'my_file.png'\n",
    "\n",
    "# determine whether file_name is a tif file, and store result in is_tif_file\n",
    "is_tif_file = False # change this"
   ]
  },
  {
   "cell_type": "markdown",
   "metadata": {},
   "source": [
    "__(b)__ Determine whether your solution to __a__ works for the following string:"
   ]
  },
  {
   "cell_type": "code",
   "execution_count": null,
   "metadata": {
    "collapsed": true
   },
   "outputs": [],
   "source": [
    "file_name = 'my_image.tif_file.png'"
   ]
  },
  {
   "cell_type": "markdown",
   "metadata": {},
   "source": [
    "If your code doesn't work, identify why. (The next question will help us solve the problem.)"
   ]
  },
  {
   "cell_type": "markdown",
   "metadata": {},
   "source": [
    "__(c)__ Determine whether `file_name` *ends* with `.tif`, and store the result in `is_tif_file`.\n",
    "\n",
    "*Hint 1: recall that you can index a string. For example `s[0:3]` gives the first 3 characters of string `s`.*\n",
    "\n",
    "*Hint 2: recall that `a==b` determines whether `a` is the same as `b`.*"
   ]
  },
  {
   "cell_type": "code",
   "execution_count": null,
   "metadata": {
    "collapsed": true
   },
   "outputs": [],
   "source": [
    "file_name = 'a_file_name.jpeg'\n",
    "\n",
    "# determine whether file_name ends with '.tif'\n",
    "is_tif_file = False # to do: make this work"
   ]
  },
  {
   "cell_type": "markdown",
   "metadata": {},
   "source": [
    "__*Follow-up task*__: change your code above to specify whether `file_name` is __*not*__ a tif file."
   ]
  },
  {
   "cell_type": "markdown",
   "metadata": {},
   "source": [
    "__(d)__ Given a file name `file_name`, create 2 new variables `name` and `extension`, which store the file name without the extension, and the extension, respectively. \n",
    "\n",
    "For example, if `file_name` is `'my_image.png'`, then `name` will be `'my_image'` and `extension` will be `'png'`.\n",
    "\n",
    "For this question, assume the file name contains exactly one single period (`.`), no more or less.\n",
    "\n",
    "*Hint: the .index() method tells you where in a string a given character or substring is found. For example, `'apple'.index('pp')` returns `1`, since `pp` is found at the second letter, or index `1`.*\n",
    "\n",
    "Confirm that your approach works for different file names of your choosing."
   ]
  },
  {
   "cell_type": "code",
   "execution_count": null,
   "metadata": {
    "collapsed": true
   },
   "outputs": [],
   "source": [
    "file_name = 'my_image_file.jpeg'\n",
    "\n",
    "name = '' # todo\n",
    "extension = '' # todo"
   ]
  },
  {
   "cell_type": "markdown",
   "metadata": {},
   "source": [
    "__(e)__ Given two variables `file_name` and `new_extension`, create a variable `new_file_name` in which you change the extension of the original file name to the new extension.\n",
    "\n",
    "For example, if `file_name` is `my_image.png` and `new_extension` is `jpeg`, then `new_file_name` should be `my_image.jpeg`.\n",
    "\n",
    "*Hint: you can, but do not need to, use the string method `.replace()`.*"
   ]
  },
  {
   "cell_type": "code",
   "execution_count": 6,
   "metadata": {
    "collapsed": true
   },
   "outputs": [],
   "source": [
    "file_name = 'my_file.docx'\n",
    "new_extension = 'mp4'\n",
    "\n",
    "# solve the problem and test your result with different extensions and file names"
   ]
  },
  {
   "cell_type": "markdown",
   "metadata": {},
   "source": [
    "<hr/>\n",
    "### Problem 3: Encryption\n",
    "\n",
    "Encryption is the process of \"translating\" some information into a new \"language\" that is harder to understand. We use it, for example, when sending sensitive information like emails over the internet — when an email is encrypted, anyone who tries to intercept it along its route to the recipient would see something that looks like gibberish instead of the content of the message.\n",
    "\n",
    "In this problem, you will use Python to implement a simple form of encryption. We will start by defining our secret message that needs to be encrypted:"
   ]
  },
  {
   "cell_type": "code",
   "execution_count": null,
   "metadata": {
    "collapsed": true
   },
   "outputs": [],
   "source": [
    "# define our message; you can change this message to anything you'd like\n",
    "message = \"Hi Mom, your new email account password is 'banana'. Don't tell anyone.\""
   ]
  },
  {
   "cell_type": "markdown",
   "metadata": {},
   "source": [
    "__(a)__ For your first encoding scheme, reverse the contents of the message character by character, so that the last character of the message becomes the first one of the encoded message, and so on. Print out the result."
   ]
  },
  {
   "cell_type": "code",
   "execution_count": null,
   "metadata": {
    "collapsed": true
   },
   "outputs": [],
   "source": [
    "# reverse the message and store the result in the `encoded` variable\n",
    "encoded = ''"
   ]
  },
  {
   "cell_type": "markdown",
   "metadata": {},
   "source": [
    "__(b)__ Decode your previous encoding–in other words, write code to convert it back to the original message. Print out the result."
   ]
  },
  {
   "cell_type": "code",
   "execution_count": null,
   "metadata": {
    "collapsed": true
   },
   "outputs": [],
   "source": [
    "# decode the two parts of your encoded message into a single decoded message\n",
    "decoded = ''"
   ]
  },
  {
   "cell_type": "markdown",
   "metadata": {},
   "source": [
    "__(c)__ Define a variable `encryption_worked` which store a boolean value (i.e. True or False), indicating whether or not your encoding/decoding scheme was successful in retaining the content of the message (i.e. is the decoded string the same as the original string?). Then print a message indicating whether or not the encyrption succeeded."
   ]
  },
  {
   "cell_type": "code",
   "execution_count": null,
   "metadata": {
    "collapsed": true
   },
   "outputs": [],
   "source": [
    "# store whether or not the encryption worked as a boolean\n",
    "encryption_worked = False\n",
    "\n",
    "# print out whether or not the encryption worked\n",
    "print()"
   ]
  },
  {
   "cell_type": "markdown",
   "metadata": {},
   "source": [
    "__(d)__ For your second encoding scheme, encode the message by splitting it into 2 chunks. Specifically, the first chunk should consist of every other character, *starting with the last character and moving backwards*. The second chunk should also consist of every other character, but starting with the second-to-last character and moving backwards.\n",
    "\n",
    "The encoded message should consist of a single string, where the first chunk is directly followed by the second. For example, if the input message is \"ilovepython\", then the two chunks are \"nhyeoi\" and \"otpvl\", and the encoded message is \"nhyeoiotpvl\".\n",
    "\n",
    "Implement this encoding scheme and print out the result."
   ]
  },
  {
   "cell_type": "code",
   "execution_count": null,
   "metadata": {
    "collapsed": true
   },
   "outputs": [],
   "source": [
    "# split the message into 2 chunks, each consisting of every other character going backwards, then combine them\n",
    "encoded = ''"
   ]
  },
  {
   "cell_type": "markdown",
   "metadata": {},
   "source": [
    "__Food for thought__: how would you decode this back into your original message? Try it if you have time!"
   ]
  },
  {
   "cell_type": "markdown",
   "metadata": {},
   "source": [
    "__(e)__ For your third encoding scheme, we will implement a new rule to make life a bit easier: you can always assume your input message contains exactly 5 characters. \n"
   ]
  },
  {
   "cell_type": "code",
   "execution_count": null,
   "metadata": {
    "collapsed": true
   },
   "outputs": [],
   "source": [
    "message = 'neuro'"
   ]
  },
  {
   "cell_type": "markdown",
   "metadata": {},
   "source": [
    "For this encoding scheme, you will convert each character into new character with a specific relationship to the original. As it turns out, computers internally treat every character as a number (called <a href=\"https://en.wikipedia.org/wiki/Unicode\"> unicode</a>). Python allows you to retrieve the number associated with each character using the built-in function `ord`, which stands for \"ordinal.\""
   ]
  },
  {
   "cell_type": "code",
   "execution_count": null,
   "metadata": {
    "collapsed": true
   },
   "outputs": [],
   "source": [
    "number_for_letter_a = ord('a')\n",
    "number_for_letter_b = ord('b')\n",
    "\n",
    "print(f\"'a' is represented by {number_for_letter_a}, and 'b' is represented by {number_for_letter_b}.\")"
   ]
  },
  {
   "cell_type": "markdown",
   "metadata": {},
   "source": [
    "Encode your 5-character message as a string that contains the numerical value of each original character, with spaces between each one. For example, the message \"ababa\" would be coded as \"97 98 97 98 97\"."
   ]
  },
  {
   "cell_type": "code",
   "execution_count": null,
   "metadata": {
    "collapsed": true
   },
   "outputs": [],
   "source": [
    "# encode the message by converting each character to its unicode value\n",
    "encoded = ''"
   ]
  },
  {
   "cell_type": "markdown",
   "metadata": {},
   "source": [
    "__(f)__ Now convert the encoded message back into the original one (i.e. decode it). The `chr` function is the opposite of the `ord` function–it converts a numerical unicode value into its associated character. Use this function to decode your encoded message, and confirm that the result matches the originally encoded message.\n",
    "\n",
    "*Hint: the `int()` function converts a string into an integer. For example `int('65')` returns the integer `65`.*"
   ]
  },
  {
   "cell_type": "code",
   "execution_count": null,
   "metadata": {
    "collapsed": true
   },
   "outputs": [],
   "source": [
    "decoded = ''"
   ]
  },
  {
   "cell_type": "markdown",
   "metadata": {},
   "source": [
    "__(g)__ Now let's make the encoding a bit more sophisticated. In this next scheme, for each character in the 5-letter message, find its unicode value and increment it by 1 (add 1 to it). Then, to produce the encoded message, convert the unicode values back into their characters.\n",
    "\n",
    "For example, if the input message is \"aaaaa\", then your unicode values would be 97,97,97,97,97, your incremented values would be 98,98,98,98,98, and your encoded message would be \"bbbbb\"."
   ]
  },
  {
   "cell_type": "code",
   "execution_count": 7,
   "metadata": {
    "collapsed": true
   },
   "outputs": [],
   "source": [
    "# encode the message by incrementing the unicode values, and print out the result\n",
    "encoded = ''"
   ]
  },
  {
   "cell_type": "markdown",
   "metadata": {},
   "source": [
    "__(h) Bonus__: make an encoding scheme similar to the one in part __g__, except for input messages of any length.\n",
    "\n",
    "*Hint: you will need Google for this one! You probably have not yet been taught all you need to achieve it.*"
   ]
  },
  {
   "cell_type": "code",
   "execution_count": null,
   "metadata": {
    "collapsed": true
   },
   "outputs": [],
   "source": [
    "encoded = ''"
   ]
  }
 ],
 "metadata": {
  "kernelspec": {
   "display_name": "Python 3",
   "language": "python",
   "name": "python3"
  },
  "language_info": {
   "codemirror_mode": {
    "name": "ipython",
    "version": 3
   },
   "file_extension": ".py",
   "mimetype": "text/x-python",
   "name": "python",
   "nbconvert_exporter": "python",
   "pygments_lexer": "ipython3",
   "version": "3.6.2"
  }
 },
 "nbformat": 4,
 "nbformat_minor": 2
}
