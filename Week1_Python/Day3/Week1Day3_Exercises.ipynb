{
 "cells": [
  {
   "cell_type": "markdown",
   "metadata": {},
   "source": [
    "## Week 1, Day 3 Exercises"
   ]
  },
  {
   "cell_type": "markdown",
   "metadata": {},
   "source": [
    "<hr/>\n",
    "### Problem 1: Using loops, part I"
   ]
  },
  {
   "cell_type": "markdown",
   "metadata": {},
   "source": [
    "__(a)__ Define two variables, `x` and `N`. Set `x` to equal 0, and `N` to any integer of your choosing. \n",
    "\n",
    "Use a loop to increase the value of x in steps of 0.5 until `x` is equal to `N`.\n",
    "\n",
    "When it finishes, have your code automatically print out the values of `x` and `N` to ensure they are the same."
   ]
  },
  {
   "cell_type": "code",
   "execution_count": null,
   "metadata": {
    "collapsed": true
   },
   "outputs": [],
   "source": []
  },
  {
   "cell_type": "markdown",
   "metadata": {},
   "source": [
    "__(b)__ Consider a developing animal that begins with 5 neurons in its brain. Store this value in a variable called `n_neurons`. \n",
    "\n",
    "Suppose that every minute, the number of neurons doubles. Update the value of `n_neurons` to the expected value after 12 minutes pass. Use a loop to solve the problem, and print out the result."
   ]
  },
  {
   "cell_type": "code",
   "execution_count": 6,
   "metadata": {
    "collapsed": true
   },
   "outputs": [],
   "source": []
  },
  {
   "cell_type": "markdown",
   "metadata": {},
   "source": [
    "__(c)__ Repeat the problem in __b__, except this time, store the number of neurons after each minute in a list. \n",
    "\n",
    "The list should contain 12 elements: for example, the first element in the list is the number of neurons in the animal after 1 minute, the second element in the list is the number of neurons in the animal after 2 minutes, and so on."
   ]
  },
  {
   "cell_type": "code",
   "execution_count": null,
   "metadata": {
    "collapsed": true
   },
   "outputs": [],
   "source": []
  },
  {
   "cell_type": "markdown",
   "metadata": {},
   "source": [
    "__(d)__ How many minutes must we wait until there will be at least 10,000 neurons in the brain?"
   ]
  },
  {
   "cell_type": "code",
   "execution_count": null,
   "metadata": {
    "collapsed": true
   },
   "outputs": [],
   "source": []
  },
  {
   "cell_type": "markdown",
   "metadata": {},
   "source": [
    "<hr/>\n",
    "### Problem 2: Using loops, part II"
   ]
  },
  {
   "cell_type": "markdown",
   "metadata": {},
   "source": [
    "__(a)__ Below are two lists. One contains the names of image files, and the other contains their file types."
   ]
  },
  {
   "cell_type": "code",
   "execution_count": 9,
   "metadata": {
    "collapsed": true
   },
   "outputs": [],
   "source": [
    "file_names = ['experiment1_image1', 'experiment2_image2', \n",
    "              'experiment2_image3', 'experiment3_image1',\n",
    "              'experiment3_image1', 'experiment3_image2',\n",
    "              'experiment4_image3', 'experiment5_image1',\n",
    "              'experiment5_image4', 'experiment5_image5'\n",
    "              'experiment6_image5', 'experiment6_image7']\n",
    "\n",
    "file_types = ['png', 'tif', 'jpg', 'png', 'png', 'tif', \n",
    "              'tif', 'jpeg', 'tif', 'png', 'tif', 'jpg']"
   ]
  },
  {
   "cell_type": "markdown",
   "metadata": {},
   "source": [
    "Create a new list, `files`, that stores the full file name of each file. For example, the first element would be `\"experiment1_image1.png\"`."
   ]
  },
  {
   "cell_type": "code",
   "execution_count": 10,
   "metadata": {
    "collapsed": true
   },
   "outputs": [],
   "source": []
  },
  {
   "cell_type": "markdown",
   "metadata": {},
   "source": [
    "__(b)__ Repeat the task in __a__, storing the results in a new list called `files_no_repeats`, and this time, only add a filename to the new list if it will not be a repeat of any other file.\n",
    "\n",
    "For any repeat that would have been added, print out a warning `\"Repeat discovered and ommitted.\"`"
   ]
  },
  {
   "cell_type": "code",
   "execution_count": 11,
   "metadata": {
    "collapsed": true
   },
   "outputs": [],
   "source": []
  },
  {
   "cell_type": "markdown",
   "metadata": {},
   "source": [
    "__(c)__ Below are two new lists. One contains subject ID numbers, and the other contains a label indicating the experimental group of the subject ('experimental' or 'control')."
   ]
  },
  {
   "cell_type": "code",
   "execution_count": 12,
   "metadata": {
    "collapsed": true
   },
   "outputs": [],
   "source": [
    "subjects = [8, 4, 5, 10, 1, 9, 21, 23, 24, 15, 12, 28, 3, 6, 11, 18]\n",
    "exp_groups = ['experimental', 'experimental', 'control', 'experimental',\n",
    "              'experimental', 'experimental', 'experimental', 'control',\n",
    "              'control', 'experimental', 'control', 'experimental',\n",
    "              'experimental', 'control', 'experimental', 'experimental']"
   ]
  },
  {
   "cell_type": "markdown",
   "metadata": {},
   "source": [
    "Create 2 new lists: `experimental_subjects` and `control_subjects`, with each one containing all the subject ID numbers for the subjects in that group."
   ]
  },
  {
   "cell_type": "code",
   "execution_count": null,
   "metadata": {
    "collapsed": true
   },
   "outputs": [],
   "source": []
  },
  {
   "cell_type": "markdown",
   "metadata": {},
   "source": [
    "__(d)__ Given a subject ID called `sub_id`, determine and print out whether the subject with this ID number was in the experimental or control group.\n",
    "\n",
    "Be sure to properly handle scenarios where `sub_id` does not correspond to any subject. In that case, print an error message."
   ]
  },
  {
   "cell_type": "code",
   "execution_count": 15,
   "metadata": {
    "collapsed": true
   },
   "outputs": [],
   "source": [
    "sub_id = 4 \n",
    "\n",
    "# confirm that your code works for many different sub_id values"
   ]
  },
  {
   "cell_type": "markdown",
   "metadata": {},
   "source": [
    "__(e)__ Below is another list, indicating the scores of each subject on a behavioral task.\n",
    "\n",
    "Compute the average scores for the experimental and control groups. Print out the results."
   ]
  },
  {
   "cell_type": "code",
   "execution_count": 13,
   "metadata": {
    "collapsed": true
   },
   "outputs": [],
   "source": [
    "scores = [.75, .72, .80, .55, .91, .63, .71, .75, .68, .83, .80, .42, .74, .69, .68, .70]"
   ]
  },
  {
   "cell_type": "markdown",
   "metadata": {},
   "source": [
    "<hr/>\n",
    "### Problem 3: Functions"
   ]
  },
  {
   "cell_type": "markdown",
   "metadata": {},
   "source": [
    "__(a)__ Write a function with 2 parameters `a` and `b`, and returns `a+b`.\n",
    "\n",
    "Test your function to ensure that it works: run the function, supplying arguments for `a` and `b`, and storing the result in a new variable `c`. Then print out `c`."
   ]
  },
  {
   "cell_type": "code",
   "execution_count": null,
   "metadata": {
    "collapsed": true
   },
   "outputs": [],
   "source": []
  },
  {
   "cell_type": "markdown",
   "metadata": {},
   "source": [
    "__(b)__ Write a function similar to the one in __a__, except which first converts `a` and `b` to `float`s, then adds them and returns the result.\n",
    "\n",
    "Test your function to ensure it behaves as you expect."
   ]
  },
  {
   "cell_type": "code",
   "execution_count": null,
   "metadata": {
    "collapsed": true
   },
   "outputs": [],
   "source": []
  },
  {
   "cell_type": "markdown",
   "metadata": {},
   "source": [
    "__(c)__ Write another function similar to the ones in __a__ and __b__, except where `b` is an optional parameter that defaults to `None`.\n",
    "\n",
    "When the function is used, if an argument is supplied for `b` then it should behave as in the previous questions. However, if no value is supplied for `b`, the function should print a warning and return `None`."
   ]
  },
  {
   "cell_type": "code",
   "execution_count": null,
   "metadata": {
    "collapsed": true
   },
   "outputs": [],
   "source": []
  },
  {
   "cell_type": "markdown",
   "metadata": {},
   "source": [
    "__(d)__ Write a function that accepts 1 argument, a string, and returns whether or not the string is a valid file name.\n",
    "\n",
    "For our purposes, a valid file name is one that contains exactly one period."
   ]
  },
  {
   "cell_type": "code",
   "execution_count": null,
   "metadata": {
    "collapsed": true
   },
   "outputs": [],
   "source": []
  },
  {
   "cell_type": "markdown",
   "metadata": {},
   "source": [
    "__(e)__ Write a new function that accepts 1 argument, a file name string, and returns the extension (ex. `.png`) of the file.\n",
    "\n",
    "If the file is not a valid file name (use your previous function to determine this!), then print a warning and return `None`."
   ]
  },
  {
   "cell_type": "code",
   "execution_count": null,
   "metadata": {
    "collapsed": true
   },
   "outputs": [],
   "source": []
  },
  {
   "cell_type": "markdown",
   "metadata": {
    "collapsed": true
   },
   "source": [
    "__(f)__ Write a function called `pow` with two parameters: `base` and `exponent`. The function should compute $base^{exponent}$ and return the result.\n",
    "\n",
    "Solve this using a loop – do not use the built-in syntax (i.e. `base**exponent`)."
   ]
  },
  {
   "cell_type": "code",
   "execution_count": null,
   "metadata": {
    "collapsed": true
   },
   "outputs": [],
   "source": []
  },
  {
   "cell_type": "markdown",
   "metadata": {},
   "source": [
    "__(g)__ Modify your function from __f__ so that before returning the result, it confirms that it got the correct answer by comparing it to the Python-based exponentiation (i.e. `base**exponent`). Make the function print a statement describing whether or not the results match each other."
   ]
  },
  {
   "cell_type": "code",
   "execution_count": null,
   "metadata": {
    "collapsed": true
   },
   "outputs": [],
   "source": []
  },
  {
   "cell_type": "markdown",
   "metadata": {},
   "source": [
    "__(h)__ Write a function that accepts a list of numbers, and does the following:\n",
    "\n",
    "(i) Checks whether every item in the list is an integer, and returns None if any non-integer is found  \n",
    "(ii) Finds the largest value in the list  \n",
    "(iii) Finds the index of the largest value in the list  \n",
    "(iv) Returns a dictionary with 2 keys: `max_value` and `max_idx`, with the corresponding values from *ii* and *iii*\n",
    "\n",
    "Test your function to make sure it works with different inputs!\n",
    "\n",
    "*Hint: the function `type()` returns the type of a variable. For example, `type(3)` returns `int`.*"
   ]
  },
  {
   "cell_type": "code",
   "execution_count": null,
   "metadata": {
    "collapsed": true
   },
   "outputs": [],
   "source": []
  }
 ],
 "metadata": {
  "kernelspec": {
   "display_name": "Python 3",
   "language": "python",
   "name": "python3"
  },
  "language_info": {
   "codemirror_mode": {
    "name": "ipython",
    "version": 3
   },
   "file_extension": ".py",
   "mimetype": "text/x-python",
   "name": "python",
   "nbconvert_exporter": "python",
   "pygments_lexer": "ipython3",
   "version": "3.6.2"
  }
 },
 "nbformat": 4,
 "nbformat_minor": 2
}
