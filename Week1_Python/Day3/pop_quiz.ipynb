{
 "cells": [
  {
   "cell_type": "markdown",
   "metadata": {},
   "source": [
    "Create a variable storing any positive integer of your choosing.\n",
    "\n",
    "Use a while loop to decrease the value of the number, in steps of 1, until it becomes zero.\n",
    "\n",
    "Print the number at each step along the way."
   ]
  },
  {
   "cell_type": "code",
   "execution_count": 1,
   "metadata": {},
   "outputs": [
    {
     "name": "stdout",
     "output_type": "stream",
     "text": [
      "20\n",
      "19\n",
      "18\n",
      "17\n",
      "16\n",
      "15\n",
      "14\n",
      "13\n",
      "12\n",
      "11\n",
      "10\n",
      "9\n",
      "8\n",
      "7\n",
      "6\n",
      "5\n",
      "4\n",
      "3\n",
      "2\n",
      "1\n",
      "0\n"
     ]
    }
   ],
   "source": [
    "i = 20\n",
    "while i>=0:\n",
    "    print(i)\n",
    "    i = i-1"
   ]
  },
  {
   "cell_type": "code",
   "execution_count": null,
   "metadata": {
    "collapsed": true
   },
   "outputs": [],
   "source": []
  },
  {
   "cell_type": "code",
   "execution_count": null,
   "metadata": {
    "collapsed": true
   },
   "outputs": [],
   "source": []
  },
  {
   "cell_type": "code",
   "execution_count": null,
   "metadata": {
    "collapsed": true
   },
   "outputs": [],
   "source": []
  },
  {
   "cell_type": "code",
   "execution_count": null,
   "metadata": {
    "collapsed": true
   },
   "outputs": [],
   "source": []
  },
  {
   "cell_type": "markdown",
   "metadata": {},
   "source": [
    "Determine the brain region with  \n",
    "(i) the largest number of cells  \n",
    "(ii) the smallest number of cells\n",
    "\n",
    "Print out the results."
   ]
  },
  {
   "cell_type": "code",
   "execution_count": 2,
   "metadata": {
    "collapsed": true
   },
   "outputs": [],
   "source": [
    "brain_regions = ['Frontal', 'Parietal', 'Temporal', 'Occipital']\n",
    "cell_counts = [25, 30, 34, 21]"
   ]
  },
  {
   "cell_type": "code",
   "execution_count": 7,
   "metadata": {},
   "outputs": [
    {
     "name": "stdout",
     "output_type": "stream",
     "text": [
      "Cell counts at index 0 is 25\n",
      "# of cells in largest region so far is: 25\n",
      "\n",
      "Cell counts at index 1 is 30\n",
      "# of cells in largest region so far is: 30\n",
      "\n",
      "Cell counts at index 2 is 34\n",
      "# of cells in largest region so far is: 34\n",
      "\n",
      "Cell counts at index 3 is 21\n",
      "# of cells in largest region so far is: 34\n",
      "\n"
     ]
    }
   ],
   "source": [
    "i = 0 # used to index the 4 brain regions\n",
    "\n",
    "number_of_cells_in_largest_region_so_far = 0\n",
    "largest_region_so_far = 'Frontal' # could initialize this with anything\n",
    "\n",
    "number_of_cells_in_smallest_region_so_far = 10000000 # really only needs to be larger than the smallest number in our cell_counts list\n",
    "smallest_region_so_far = 'Frontal' # could initialize this with anything\n",
    "\n",
    "while i < len(cell_counts): # could have used cell_counts instead of brain_regions\n",
    "    \n",
    "\n",
    "    if cell_counts[i] > number_of_cells_in_largest_region_so_far:\n",
    "        # if this region is the largest we've seen,\n",
    "        # update the \"largest we've seen variable\" to be this region\n",
    "        number_of_cells_in_largest_region_so_far = cell_counts[i]\n",
    "        largest_region_so_far = brain_regions[i]\n",
    "        \n",
    "    if cell_counts[i] < number_of_cells_in_smallest_region_so_far:\n",
    "        # if this region is the smallest we've seen,\n",
    "        # update the \"smallest we've seen variable\" to be this region\n",
    "        number_of_cells_in_smallest_region_so_far = cell_counts[i]\n",
    "        smallest_region_so_far = brain_regions[i] \n",
    "    \n",
    "    print(f'Cell counts at index {i} is {cell_counts[i]}')\n",
    "    print(f'# of cells in largest region so far is: {number_of_cells_in_largest_region_so_far}')\n",
    "    print()\n",
    "    \n",
    "    i = i + 1\n",
    "\n"
   ]
  },
  {
   "cell_type": "code",
   "execution_count": null,
   "metadata": {
    "collapsed": true
   },
   "outputs": [],
   "source": []
  }
 ],
 "metadata": {
  "kernelspec": {
   "display_name": "Python 3",
   "language": "python",
   "name": "python3"
  },
  "language_info": {
   "codemirror_mode": {
    "name": "ipython",
    "version": 3
   },
   "file_extension": ".py",
   "mimetype": "text/x-python",
   "name": "python",
   "nbconvert_exporter": "python",
   "pygments_lexer": "ipython3",
   "version": "3.6.2"
  }
 },
 "nbformat": 4,
 "nbformat_minor": 2
}
