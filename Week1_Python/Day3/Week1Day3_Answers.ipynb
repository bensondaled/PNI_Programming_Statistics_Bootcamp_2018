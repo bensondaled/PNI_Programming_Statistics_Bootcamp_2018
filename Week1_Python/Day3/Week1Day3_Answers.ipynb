{
 "cells": [
  {
   "cell_type": "markdown",
   "metadata": {},
   "source": [
    "## Week 1, Day 3 Exercises"
   ]
  },
  {
   "cell_type": "markdown",
   "metadata": {},
   "source": [
    "<hr/>\n",
    "### Problem 1: Using loops, part I"
   ]
  },
  {
   "cell_type": "markdown",
   "metadata": {},
   "source": [
    "__(a)__ Define two variables, `x` and `N`. Set `x` to equal 0, and `N` to any integer of your choosing. \n",
    "\n",
    "Use a loop to increase the value of x in steps of 0.5 until `x` is equal to `N`.\n",
    "\n",
    "When it finishes, have your code automatically print out the values of `x` and `N` to ensure they are the same."
   ]
  },
  {
   "cell_type": "code",
   "execution_count": 1,
   "metadata": {
    "collapsed": true
   },
   "outputs": [
    {
     "name": "stdout",
     "output_type": "stream",
     "text": [
      "8.0 8\n"
     ]
    }
   ],
   "source": [
    "x = 0\n",
    "n = 8\n",
    "\n",
    "while x != n:\n",
    "    x += 0.5  # this is equivalent to x = x + 0.5\n",
    "    \n",
    "print(x, n)"
   ]
  },
  {
   "cell_type": "markdown",
   "metadata": {},
   "source": [
    "__(b)__ Consider a developing animal that begins with 5 neurons in its brain. Store this value in a variable called `n_neurons`. \n",
    "\n",
    "Suppose that every minute, the number of neurons doubles. Update the value of `n_neurons` to the expected value after 12 minutes pass. Use a loop to solve the problem, and print out the result."
   ]
  },
  {
   "cell_type": "code",
   "execution_count": 2,
   "metadata": {
    "collapsed": true
   },
   "outputs": [
    {
     "name": "stdout",
     "output_type": "stream",
     "text": [
      "20480\n"
     ]
    }
   ],
   "source": [
    "n_neurons = 5\n",
    "for i in range(12):\n",
    "    n_neurons *= 2  # this is equivalent to n_neurons = n_neurons * 2\n",
    "    \n",
    "print(n_neurons)"
   ]
  },
  {
   "cell_type": "markdown",
   "metadata": {},
   "source": [
    "__(c)__ Repeat the problem in __b__, except this time, store the number of neurons after each minute in a list. \n",
    "\n",
    "The list should contain 12 elements: for example, the first element in the list is the number of neurons in the animal after 1 minute, the second element in the list is the number of neurons in the animal after 2 minutes, and so on."
   ]
  },
  {
   "cell_type": "code",
   "execution_count": 3,
   "metadata": {
    "collapsed": true
   },
   "outputs": [
    {
     "name": "stdout",
     "output_type": "stream",
     "text": [
      "[5, 10, 20, 40, 80, 160, 320, 640, 1280, 2560, 5120, 10240, 20480]\n"
     ]
    }
   ],
   "source": [
    "time_series = [5]\n",
    "for i in range(12):\n",
    "    time_series.append(time_series[i] * 2)\n",
    "    \n",
    "print(time_series)"
   ]
  },
  {
   "cell_type": "markdown",
   "metadata": {},
   "source": [
    "__(d)__ How many minutes must we wait until there will be at least 10,000 neurons in the brain?"
   ]
  },
  {
   "cell_type": "code",
   "execution_count": 4,
   "metadata": {
    "collapsed": true
   },
   "outputs": [
    {
     "name": "stdout",
     "output_type": "stream",
     "text": [
      "11 10240\n",
      "11 10240\n",
      "11 10240\n",
      "11 10240\n"
     ]
    }
   ],
   "source": [
    "threshold = 10000\n",
    "\n",
    "# One simple way to do this, using a for loop\n",
    "target = None\n",
    "for i in range(len(time_series)):\n",
    "    if target == None and time_series[i] > threshold:\n",
    "        target = i\n",
    "\n",
    "print(target, time_series[target])\n",
    "\n",
    "# Another way to do it, using a while loop\n",
    "target = None\n",
    "i = 0\n",
    "while target == None:\n",
    "    if time_series[i] > threshold:\n",
    "        target = i \n",
    "\n",
    "    i += 1\n",
    "        \n",
    "print(target, time_series[target])\n",
    "\n",
    "# Another way to do this, using a while loop\n",
    "\n",
    "i = 0\n",
    "while time_series[i] <= threshold:\n",
    "    i += 1\n",
    "    \n",
    "print(i, time_series[i])\n",
    "\n",
    "# Another way to do this, using a for loop\n",
    "for i in range(len(time_series)):\n",
    "    if time_series[i] > threshold:\n",
    "        print(i, time_series[i])\n",
    "        break"
   ]
  },
  {
   "cell_type": "markdown",
   "metadata": {},
   "source": [
    "<hr/>\n",
    "### Problem 2: Using loops, part II"
   ]
  },
  {
   "cell_type": "markdown",
   "metadata": {},
   "source": [
    "__(a)__ Below are two lists. One contains the names of image files, and the other contains their file types."
   ]
  },
  {
   "cell_type": "code",
   "execution_count": 5,
   "metadata": {
    "collapsed": true
   },
   "outputs": [],
   "source": [
    "file_names = ['experiment1_image1', 'experiment2_image2', \n",
    "              'experiment2_image3', 'experiment3_image1',\n",
    "              'experiment3_image1', 'experiment3_image2',\n",
    "              'experiment4_image3', 'experiment5_image1',\n",
    "              'experiment5_image4', 'experiment5_image5'\n",
    "              'experiment6_image5', 'experiment6_image7']\n",
    "\n",
    "file_types = ['png', 'tif', 'jpg', 'png', 'png', 'tif', \n",
    "              'tif', 'jpeg', 'tif', 'png', 'tif', 'jpg']"
   ]
  },
  {
   "cell_type": "markdown",
   "metadata": {},
   "source": [
    "Create a new list, `files`, that stores the full file name of each file. For example, the first element would be `\"experiment1_image1.png\"`."
   ]
  },
  {
   "cell_type": "code",
   "execution_count": 6,
   "metadata": {
    "collapsed": true
   },
   "outputs": [
    {
     "name": "stdout",
     "output_type": "stream",
     "text": [
      "['experiment1_image1.png', 'experiment2_image2.tif', 'experiment2_image3.jpg', 'experiment3_image1.png', 'experiment3_image1.png', 'experiment3_image2.tif', 'experiment4_image3.tif', 'experiment5_image1.jpeg', 'experiment5_image4.tif', 'experiment5_image5experiment6_image5.png', 'experiment6_image7.tif']\n"
     ]
    }
   ],
   "source": [
    "files = []\n",
    "\n",
    "for i in range(len(file_names)):\n",
    "    files.append(f'{file_names[i]}.{file_types[i]}')\n",
    "    \n",
    "print(files)"
   ]
  },
  {
   "cell_type": "markdown",
   "metadata": {},
   "source": [
    "__(b)__ Repeat the task in __a__, storing the results in a new list called `files_no_repeats`, and this time, only add a filename to the new list if it will not be a repeat of any other file.\n",
    "\n",
    "For any repeat that would have been added, print out a warning `\"Repeat discovered and ommitted.\"`"
   ]
  },
  {
   "cell_type": "code",
   "execution_count": 7,
   "metadata": {
    "collapsed": true
   },
   "outputs": [
    {
     "name": "stdout",
     "output_type": "stream",
     "text": [
      "Repeat discovered and omitted\n",
      "['experiment1_image1.png', 'experiment2_image2.tif', 'experiment2_image3.jpg', 'experiment3_image1.png', 'experiment3_image2.tif', 'experiment4_image3.tif', 'experiment5_image1.jpeg', 'experiment5_image4.tif', 'experiment5_image5experiment6_image5.png', 'experiment6_image7.tif']\n"
     ]
    }
   ],
   "source": [
    "files_no_repeats = []\n",
    "\n",
    "for i in range(len(file_names)):\n",
    "    # create a variable with the full name\n",
    "    full_name = f'{file_names[i]}.{file_types[i]}'\n",
    "    # check if it already exists, and if it does, print a warning\n",
    "    if full_name in files_no_repeats:\n",
    "        print('Repeat discovered and omitted')\n",
    "    # if not, add to the list    \n",
    "    else:\n",
    "        files_no_repeats.append(full_name)\n",
    "        \n",
    "print(files_no_repeats)"
   ]
  },
  {
   "cell_type": "markdown",
   "metadata": {},
   "source": [
    "__(c)__ Below are two new lists. One contains subject ID numbers, and the other contains a label indicating the experimental group of the subject ('experimental' or 'control')."
   ]
  },
  {
   "cell_type": "code",
   "execution_count": 8,
   "metadata": {
    "collapsed": true
   },
   "outputs": [],
   "source": [
    "subjects = [8, 4, 5, 10, 1, 9, 21, 23, 24, 15, 12, 28, 3, 6, 11, 18]\n",
    "exp_groups = ['experimental', 'experimental', 'control', 'experimental',\n",
    "              'experimental', 'experimental', 'experimental', 'control',\n",
    "              'control', 'experimental', 'control', 'experimental',\n",
    "              'experimental', 'control', 'experimental', 'experimental']"
   ]
  },
  {
   "cell_type": "markdown",
   "metadata": {},
   "source": [
    "Create 2 new lists: `experimental_subjects` and `control_subjects`, with each one containing all the subject ID numbers for the subjects in that group."
   ]
  },
  {
   "cell_type": "code",
   "execution_count": 9,
   "metadata": {
    "collapsed": true
   },
   "outputs": [
    {
     "name": "stdout",
     "output_type": "stream",
     "text": [
      "Experimental subjects: [8, 4, 10, 1, 9, 21, 15, 28, 3, 11, 18]\n",
      "Control subjects: [5, 23, 24, 12, 6]\n"
     ]
    }
   ],
   "source": [
    "# define variables holding the group types \n",
    "EXPERIMENTAL = 'experimental'\n",
    "CONTROL = 'control'\n",
    "# define lists for the output \n",
    "experimental_subjects = []\n",
    "control_subjects = []\n",
    "\n",
    "# loop over every index in the list\n",
    "for i in range(len(exp_groups)):\n",
    "    # check if it's experimental\n",
    "    if exp_groups[i] == EXPERIMENTAL:\n",
    "        experimental_subjects.append(subjects[i])\n",
    "    # check if it's control\n",
    "    elif exp_groups[i] == CONTROL:\n",
    "        control_subjects.append(subjects[i])\n",
    "    # just to be really defensive, if it's neither, print a warning\n",
    "    else:\n",
    "        print(f'Warning: found subject with unknown group: \"{exp_groups[i]}\"')\n",
    "\n",
    "# print the results\n",
    "print('Experimental subjects:', experimental_subjects)\n",
    "print('Control subjects:', control_subjects)"
   ]
  },
  {
   "cell_type": "markdown",
   "metadata": {},
   "source": [
    "__(d)__ Given a subject ID called `sub_id`, determine and print out whether the subject with this ID number was in the experimental or control group.\n",
    "\n",
    "Be sure to properly handle scenarios where `sub_id` does not correspond to any subject. In that case, print an error message."
   ]
  },
  {
   "cell_type": "code",
   "execution_count": 10,
   "metadata": {
    "collapsed": true
   },
   "outputs": [
    {
     "name": "stdout",
     "output_type": "stream",
     "text": [
      "Warning: subject #0 is in neither group\n"
     ]
    }
   ],
   "source": [
    "# test for, say, sub_id = 4 for the experimental and sub_id = 5 in the control\n",
    "sub_id = 0  \n",
    "\n",
    "if sub_id in experimental_subjects:\n",
    "    print(f'Subject #{sub_id} is in the experimental group')\n",
    "    \n",
    "elif sub_id in control_subjects:\n",
    "    print(f'Subject #{sub_id} is in the control group')\n",
    "    \n",
    "else:\n",
    "    print(f'Warning: subject #{sub_id} is in neither group')\n",
    "    \n",
    "# confirm that your code works for many different sub_id values"
   ]
  },
  {
   "cell_type": "markdown",
   "metadata": {},
   "source": [
    "__(e)__ Below is another list, indicating the scores of each subject on a behavioral task.\n",
    "\n",
    "Compute the average scores for the experimental and control groups. Print out the results."
   ]
  },
  {
   "cell_type": "code",
   "execution_count": 11,
   "metadata": {
    "collapsed": true
   },
   "outputs": [
    {
     "name": "stdout",
     "output_type": "stream",
     "text": [
      "The experimental group has a total of 7.64 for 11 subjects, for an average of 0.695\n",
      "The control group has a total of 3.72 for 5 subjects, for an average of 0.744\n"
     ]
    }
   ],
   "source": [
    "scores = [.75, .72, .80, .55, .91, .63, .71, .75, .68, .83, .80, .42, .74, .69, .68, .70]\n",
    "\n",
    "# define total and count variables for each condition\n",
    "experimental_total = 0\n",
    "experimental_count = 0\n",
    "\n",
    "control_total = 0\n",
    "control_count = 0\n",
    "\n",
    "# loop through all subject indices\n",
    "for i in range(len(exp_groups)):\n",
    "    # if an experimental group subject, add to the experimental total\n",
    "    if exp_groups[i] == EXPERIMENTAL:\n",
    "        experimental_total += scores[i]\n",
    "        experimental_count += 1\n",
    "    \n",
    "    # if a control group subject, add to the control group\n",
    "    elif exp_groups[i] == CONTROL:\n",
    "        control_total += scores[i]\n",
    "        control_count += 1\n",
    "        \n",
    "    # Print a warning if a subject isn't in either group\n",
    "    else:\n",
    "        print(f'Warning: found subject with unknown group: \"{exp_groups[i]}\"')\n",
    "        \n",
    "print(f'The experimental group has a total of {experimental_total} for {experimental_count} subjects, for an average of {experimental_total / experimental_count:.3f}')\n",
    "print(f'The control group has a total of {control_total} for {control_count} subjects, for an average of {control_total / control_count:.3f}')\n"
   ]
  },
  {
   "cell_type": "markdown",
   "metadata": {},
   "source": [
    "<hr/>\n",
    "### Problem 3: Functions"
   ]
  },
  {
   "cell_type": "markdown",
   "metadata": {},
   "source": [
    "__(a)__ Write a function with 2 parameters `a` and `b`, and returns `a+b`.\n",
    "\n",
    "Test your function to ensure that it works: run the function, supplying arguments for `a` and `b`, and storing the result in a new variable `c`. Then print out `c`."
   ]
  },
  {
   "cell_type": "code",
   "execution_count": 12,
   "metadata": {
    "collapsed": true
   },
   "outputs": [
    {
     "name": "stdout",
     "output_type": "stream",
     "text": [
      "10\n"
     ]
    }
   ],
   "source": [
    "def add(a, b):\n",
    "    return a + b\n",
    "\n",
    "c = add(3, 7)\n",
    "print(c)"
   ]
  },
  {
   "cell_type": "markdown",
   "metadata": {},
   "source": [
    "__(b)__ Write a function similar to the one in __a__, except which first converts `a` and `b` to `float`s, then adds them and returns the result.\n",
    "\n",
    "Test your function to ensure it behaves as you expect."
   ]
  },
  {
   "cell_type": "code",
   "execution_count": 13,
   "metadata": {
    "collapsed": true
   },
   "outputs": [
    {
     "name": "stdout",
     "output_type": "stream",
     "text": [
      "10.0\n"
     ]
    }
   ],
   "source": [
    "def add_float(a, b):\n",
    "    return float(a) + float(b)\n",
    "\n",
    "c = add_float(3, 7)\n",
    "print(c)"
   ]
  },
  {
   "cell_type": "markdown",
   "metadata": {},
   "source": [
    "__(c)__ Write another function similar to the ones in __a__ and __b__, except where `b` is an optional parameter that defaults to `None`.\n",
    "\n",
    "When the function is used, if an argument is supplied for `b` then it should behave as in the previous questions. However, if no value is supplied for `b`, the function should print a warning and return `None`."
   ]
  },
  {
   "cell_type": "code",
   "execution_count": 14,
   "metadata": {
    "collapsed": true
   },
   "outputs": [
    {
     "name": "stdout",
     "output_type": "stream",
     "text": [
      "3\n",
      "Warning: b is None\n",
      "None\n"
     ]
    }
   ],
   "source": [
    "def add_with_warning(a, b=None):\n",
    "    if b is None:\n",
    "        print('Warning: b is None')\n",
    "        # We don't need to explicitly return None, since that's the defauly\n",
    "    else:\n",
    "        return a + b\n",
    "\n",
    "print(add_with_warning(1, 2))\n",
    "print(add_with_warning(1))"
   ]
  },
  {
   "cell_type": "markdown",
   "metadata": {},
   "source": [
    "__(d)__ Write a function that accepts 1 argument, a string, and returns whether or not the string is a valid file name.\n",
    "\n",
    "For our purposes, a valid file name is one that contains exactly one period."
   ]
  },
  {
   "cell_type": "code",
   "execution_count": 15,
   "metadata": {
    "collapsed": true
   },
   "outputs": [
    {
     "name": "stdout",
     "output_type": "stream",
     "text": [
      "False\n",
      "\n",
      "True\n",
      "\n",
      "False\n"
     ]
    }
   ],
   "source": [
    "def is_valid_file_name(file_name):\n",
    "    return file_name.count('.') == 1\n",
    "\n",
    "print(is_valid_file_name('my_fake_file'))\n",
    "print()\n",
    "print(is_valid_file_name('my_real_file.txt'))\n",
    "print()\n",
    "print(is_valid_file_name('another.fake.file'))"
   ]
  },
  {
   "cell_type": "markdown",
   "metadata": {},
   "source": [
    "__(e)__ Write a new function that accepts 1 argument, a file name string, and returns the extension (ex. `.png`) of the file.\n",
    "\n",
    "If the file is not a valid file name (use your previous function to determine this!), then print a warning and return `None`."
   ]
  },
  {
   "cell_type": "code",
   "execution_count": 16,
   "metadata": {
    "collapsed": true
   },
   "outputs": [
    {
     "name": "stdout",
     "output_type": "stream",
     "text": [
      "This is not a valid file name, cannot split extension\n",
      "None\n",
      "\n",
      ".txt\n",
      "\n",
      "This is not a valid file name, cannot split extension\n",
      "None\n"
     ]
    }
   ],
   "source": [
    "def split_extension(file_name):\n",
    "    if is_valid_file_name(file_name):\n",
    "        period_index = file_name.index('.')\n",
    "        return file_name[period_index:]\n",
    "    \n",
    "    # I don't need an else here, since I return from the if\n",
    "    # This code is only executed when the if doesn't happen\n",
    "    print('This is not a valid file name, cannot split extension')\n",
    "    # I don't need to return None since that's the default return value\n",
    "    \n",
    "print(split_extension('my_fake_file'))\n",
    "print()\n",
    "print(split_extension('my_real_file.txt'))\n",
    "print()\n",
    "print(split_extension('another.fake.file'))"
   ]
  },
  {
   "cell_type": "markdown",
   "metadata": {},
   "source": [
    "__(f)__ Write a function called `pow` with two parameters: `base` and `exponent`. The function should compute $base^{exponent}$ and return the result.\n",
    "\n",
    "Solve this using a loop – do not use the built-in syntax (i.e. `base**exponent`)."
   ]
  },
  {
   "cell_type": "code",
   "execution_count": 17,
   "metadata": {
    "collapsed": true
   },
   "outputs": [
    {
     "name": "stdout",
     "output_type": "stream",
     "text": [
      "16\n",
      "42.875\n",
      "3\n",
      "1\n",
      "-8\n"
     ]
    }
   ],
   "source": [
    "# assuming an integer base - this becomes much harder with non-integer exponents\n",
    "def pow(base, exponent):\n",
    "    result = 1\n",
    "    for i in range(exponent):\n",
    "        result *= base  # this is equivalent to result = result * base\n",
    "    \n",
    "    return result\n",
    "\n",
    "# Test with a few examples:\n",
    "# positive, negative, and non-integer bases\n",
    "# powers of 0, 1, and higher integers\n",
    "print(pow(2, 4))\n",
    "print(pow(3.5, 3))\n",
    "print(pow(3, 1))\n",
    "print(pow(5, 0))\n",
    "print(pow(-2, 3))"
   ]
  },
  {
   "cell_type": "markdown",
   "metadata": {},
   "source": [
    "__(g)__ Modify your function from __f__ so that before returning the result, it confirms that it got the correct answer by comparing it to the Python-based exponentiation (i.e. `base**exponent`). Make the function print a statement describing whether or not the results match each other."
   ]
  },
  {
   "cell_type": "code",
   "execution_count": 18,
   "metadata": {
    "collapsed": true
   },
   "outputs": [
    {
     "name": "stdout",
     "output_type": "stream",
     "text": [
      "16\n",
      "42.875\n",
      "3\n",
      "1\n",
      "-8\n"
     ]
    }
   ],
   "source": [
    "# assuming an non-negative integer exponent\n",
    "# this becomes much harder with non-integer exponents\n",
    "def pow_with_confirm(base, exponent):\n",
    "    result = 1\n",
    "    for i in range(exponent):\n",
    "        result *= base  # this is equivalent to result = result * base\n",
    "    \n",
    "    if result != base ** exponent:\n",
    "        print('Warning: our result of {result} does not match Python\\'s of {base ** exponent}')\n",
    "    return result\n",
    "\n",
    "# Test with a few examples:\n",
    "# positive, negative, and non-integer bases\n",
    "# powers of 0, 1, and higher integers\n",
    "print(pow(2, 4))\n",
    "print(pow(3.5, 3))\n",
    "print(pow(3, 1))\n",
    "print(pow(5, 0))\n",
    "print(pow(-2, 3))"
   ]
  },
  {
   "cell_type": "markdown",
   "metadata": {},
   "source": [
    "__(h)__ Write a function that accepts a list of numbers, and does the following:\n",
    "\n",
    "(i) Checks whether every item in the list is an integer, and returns None if any non-integer is found  \n",
    "(ii) Finds the largest value in the list  \n",
    "(iii) Finds the index of the largest value in the list  \n",
    "(iv) Returns a dictionary with 2 keys: `max_value` and `max_idx`, with the corresponding values from *ii* and *iii*\n",
    "\n",
    "Test your function to make sure it works with different inputs!\n",
    "\n",
    "*Hint: the function `type()` returns the type of a variable. For example, `type(3)` returns `int`.*"
   ]
  },
  {
   "cell_type": "code",
   "execution_count": 19,
   "metadata": {
    "collapsed": true
   },
   "outputs": [
    {
     "name": "stdout",
     "output_type": "stream",
     "text": [
      "{'max_value': 5, 'max_idx': 2}\n",
      "\n",
      "Found a non-integer item: test, aborting\n",
      "None\n"
     ]
    }
   ],
   "source": [
    "def custom_function(int_list):\n",
    "    # Check that all items are integers \n",
    "    for item in int_list:\n",
    "        if type(item) != int:\n",
    "            print(f'Found a non-integer item: {item}, aborting')\n",
    "            return\n",
    "        \n",
    "    # Find the largest value and index\n",
    "    largest_value = 0\n",
    "    largest_index = 0\n",
    "    for i in range(len(int_list)):\n",
    "        if int_list[i] > largest_value:\n",
    "            largest_value = int_list[i]\n",
    "            largest_index = i\n",
    "            \n",
    "    # return a dictionary as requested\n",
    "    # the dict function syntax is equivalent to:\n",
    "    # {'max_value': largest_value, 'max_idx': largest_index}\n",
    "    return dict(max_value=largest_value, max_idx=largest_index)\n",
    "\n",
    "# Test with a version that should work and a version that should fail\n",
    "print(custom_function([1, 2, 5, 3, 4]))\n",
    "print()\n",
    "print(custom_function([1, 2, 'test', 3, 4]))"
   ]
  },
  {
   "cell_type": "code",
   "execution_count": null,
   "metadata": {},
   "outputs": [],
   "source": []
  },
  {
   "cell_type": "code",
   "execution_count": null,
   "metadata": {},
   "outputs": [],
   "source": []
  },
  {
   "cell_type": "code",
   "execution_count": null,
   "metadata": {},
   "outputs": [],
   "source": []
  }
 ],
 "metadata": {
  "kernelspec": {
   "display_name": "Python 3",
   "language": "python",
   "name": "python3"
  },
  "language_info": {
   "codemirror_mode": {
    "name": "ipython",
    "version": 3
   },
   "file_extension": ".py",
   "mimetype": "text/x-python",
   "name": "python",
   "nbconvert_exporter": "python",
   "pygments_lexer": "ipython3",
   "version": "3.6.3"
  }
 },
 "nbformat": 4,
 "nbformat_minor": 2
}
